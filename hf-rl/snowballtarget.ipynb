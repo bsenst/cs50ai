{
 "cells": [
  {
   "cell_type": "code",
   "execution_count": 1,
   "id": "b9dd7e8e",
   "metadata": {
    "collapsed": true,
    "execution": {
     "iopub.execute_input": "2023-04-06T12:23:18.851682Z",
     "iopub.status.busy": "2023-04-06T12:23:18.850595Z",
     "iopub.status.idle": "2023-04-06T12:27:40.670524Z",
     "shell.execute_reply": "2023-04-06T12:27:40.668893Z"
    },
    "jupyter": {
     "outputs_hidden": true
    },
    "papermill": {
     "duration": 261.829773,
     "end_time": "2023-04-06T12:27:40.673335",
     "exception": false,
     "start_time": "2023-04-06T12:23:18.843562",
     "status": "completed"
    },
    "tags": []
   },
   "outputs": [
    {
     "name": "stdout",
     "output_type": "stream",
     "text": [
      "\r\n",
      "                  __    __    __    __\r\n",
      "                 /  \\  /  \\  /  \\  /  \\\r\n",
      "                /    \\/    \\/    \\/    \\\r\n",
      "███████████████/  /██/  /██/  /██/  /████████████████████████\r\n",
      "              /  / \\   / \\   / \\   / \\  \\____\r\n",
      "             /  /   \\_/   \\_/   \\_/   \\    o \\__,\r\n",
      "            / _/                       \\_____/  `\r\n",
      "            |/\r\n",
      "        ███╗   ███╗ █████╗ ███╗   ███╗██████╗  █████╗\r\n",
      "        ████╗ ████║██╔══██╗████╗ ████║██╔══██╗██╔══██╗\r\n",
      "        ██╔████╔██║███████║██╔████╔██║██████╔╝███████║\r\n",
      "        ██║╚██╔╝██║██╔══██║██║╚██╔╝██║██╔══██╗██╔══██║\r\n",
      "        ██║ ╚═╝ ██║██║  ██║██║ ╚═╝ ██║██████╔╝██║  ██║\r\n",
      "        ╚═╝     ╚═╝╚═╝  ╚═╝╚═╝     ╚═╝╚═════╝ ╚═╝  ╚═╝\r\n",
      "\r\n",
      "        mamba (0.27.0) supported by @QuantStack\r\n",
      "\r\n",
      "        GitHub:  https://github.com/mamba-org/mamba\r\n",
      "        Twitter: https://twitter.com/QuantStack\r\n",
      "\r\n",
      "█████████████████████████████████████████████████████████████\r\n",
      "\r\n"
     ]
    },
    {
     "name": "stdout",
     "output_type": "stream",
     "text": [
      "\r\n",
      "Looking for: []\r\n",
      "\r\n"
     ]
    },
    {
     "name": "stdout",
     "output_type": "stream",
     "text": [
      "Preparing transaction: - "
     ]
    },
    {
     "name": "stdout",
     "output_type": "stream",
     "text": [
      "\b\bdone\r\n",
      "Verifying transaction: | "
     ]
    },
    {
     "name": "stdout",
     "output_type": "stream",
     "text": [
      "\b\b/ "
     ]
    },
    {
     "name": "stdout",
     "output_type": "stream",
     "text": [
      "\b\b- "
     ]
    },
    {
     "name": "stdout",
     "output_type": "stream",
     "text": [
      "\b\b\\ "
     ]
    },
    {
     "name": "stdout",
     "output_type": "stream",
     "text": [
      "\b\b| "
     ]
    },
    {
     "name": "stdout",
     "output_type": "stream",
     "text": [
      "\b\b/ "
     ]
    },
    {
     "name": "stdout",
     "output_type": "stream",
     "text": [
      "\b\b- "
     ]
    },
    {
     "name": "stdout",
     "output_type": "stream",
     "text": [
      "\b\b\\ "
     ]
    },
    {
     "name": "stdout",
     "output_type": "stream",
     "text": [
      "\b\b| "
     ]
    },
    {
     "name": "stdout",
     "output_type": "stream",
     "text": [
      "\b\b/ "
     ]
    },
    {
     "name": "stdout",
     "output_type": "stream",
     "text": [
      "\b\b- "
     ]
    },
    {
     "name": "stdout",
     "output_type": "stream",
     "text": [
      "\b\b\\ "
     ]
    },
    {
     "name": "stdout",
     "output_type": "stream",
     "text": [
      "\b\b| "
     ]
    },
    {
     "name": "stdout",
     "output_type": "stream",
     "text": [
      "\b\b/ "
     ]
    },
    {
     "name": "stdout",
     "output_type": "stream",
     "text": [
      "\b\b- "
     ]
    },
    {
     "name": "stdout",
     "output_type": "stream",
     "text": [
      "\b\b\\ "
     ]
    },
    {
     "name": "stdout",
     "output_type": "stream",
     "text": [
      "\b\b| "
     ]
    },
    {
     "name": "stdout",
     "output_type": "stream",
     "text": [
      "\b\b/ "
     ]
    },
    {
     "name": "stdout",
     "output_type": "stream",
     "text": [
      "\b\b- "
     ]
    },
    {
     "name": "stdout",
     "output_type": "stream",
     "text": [
      "\b\b\\ "
     ]
    },
    {
     "name": "stdout",
     "output_type": "stream",
     "text": [
      "\b\b| "
     ]
    },
    {
     "name": "stdout",
     "output_type": "stream",
     "text": [
      "\b\b/ "
     ]
    },
    {
     "name": "stdout",
     "output_type": "stream",
     "text": [
      "\b\b- "
     ]
    },
    {
     "name": "stdout",
     "output_type": "stream",
     "text": [
      "\b\b\\ "
     ]
    },
    {
     "name": "stdout",
     "output_type": "stream",
     "text": [
      "\b\b| "
     ]
    },
    {
     "name": "stdout",
     "output_type": "stream",
     "text": [
      "\b\b/ "
     ]
    },
    {
     "name": "stdout",
     "output_type": "stream",
     "text": [
      "\b\b- "
     ]
    },
    {
     "name": "stdout",
     "output_type": "stream",
     "text": [
      "\b\b\\ "
     ]
    },
    {
     "name": "stdout",
     "output_type": "stream",
     "text": [
      "\b\b| "
     ]
    },
    {
     "name": "stdout",
     "output_type": "stream",
     "text": [
      "\b\b/ "
     ]
    },
    {
     "name": "stdout",
     "output_type": "stream",
     "text": [
      "\b\b- "
     ]
    },
    {
     "name": "stdout",
     "output_type": "stream",
     "text": [
      "\b\b\\ "
     ]
    },
    {
     "name": "stdout",
     "output_type": "stream",
     "text": [
      "\b\b| "
     ]
    },
    {
     "name": "stdout",
     "output_type": "stream",
     "text": [
      "\b\b/ "
     ]
    },
    {
     "name": "stdout",
     "output_type": "stream",
     "text": [
      "\b\b- "
     ]
    },
    {
     "name": "stdout",
     "output_type": "stream",
     "text": [
      "\b\b\\ "
     ]
    },
    {
     "name": "stdout",
     "output_type": "stream",
     "text": [
      "\b\b| "
     ]
    },
    {
     "name": "stdout",
     "output_type": "stream",
     "text": [
      "\b\b/ "
     ]
    },
    {
     "name": "stdout",
     "output_type": "stream",
     "text": [
      "\b\b- "
     ]
    },
    {
     "name": "stdout",
     "output_type": "stream",
     "text": [
      "\b\b\\ "
     ]
    },
    {
     "name": "stdout",
     "output_type": "stream",
     "text": [
      "\b\b| "
     ]
    },
    {
     "name": "stdout",
     "output_type": "stream",
     "text": [
      "\b\bdone\r\n",
      "Executing transaction: - "
     ]
    },
    {
     "name": "stdout",
     "output_type": "stream",
     "text": [
      "\b\bdone\r\n",
      "\r\n",
      "To activate this environment, use\r\n",
      "\r\n",
      "     $ mamba activate py310\r\n",
      "\r\n",
      "To deactivate an active environment, use\r\n",
      "\r\n",
      "     $ mamba deactivate\r\n",
      "\r\n"
     ]
    },
    {
     "name": "stdout",
     "output_type": "stream",
     "text": [
      "\r\n",
      "                  __    __    __    __\r\n",
      "                 /  \\  /  \\  /  \\  /  \\\r\n",
      "                /    \\/    \\/    \\/    \\\r\n",
      "███████████████/  /██/  /██/  /██/  /████████████████████████\r\n",
      "              /  / \\   / \\   / \\   / \\  \\____\r\n",
      "             /  /   \\_/   \\_/   \\_/   \\    o \\__,\r\n",
      "            / _/                       \\_____/  `\r\n",
      "            |/\r\n",
      "        ███╗   ███╗ █████╗ ███╗   ███╗██████╗  █████╗\r\n",
      "        ████╗ ████║██╔══██╗████╗ ████║██╔══██╗██╔══██╗\r\n",
      "        ██╔████╔██║███████║██╔████╔██║██████╔╝███████║\r\n",
      "        ██║╚██╔╝██║██╔══██║██║╚██╔╝██║██╔══██╗██╔══██║\r\n",
      "        ██║ ╚═╝ ██║██║  ██║██║ ╚═╝ ██║██████╔╝██║  ██║\r\n",
      "        ╚═╝     ╚═╝╚═╝  ╚═╝╚═╝     ╚═╝╚═════╝ ╚═╝  ╚═╝\r\n",
      "\r\n",
      "        mamba (0.27.0) supported by @QuantStack\r\n",
      "\r\n",
      "        GitHub:  https://github.com/mamba-org/mamba\r\n",
      "        Twitter: https://twitter.com/QuantStack\r\n",
      "\r\n",
      "█████████████████████████████████████████████████████████████\r\n",
      "\r\n"
     ]
    },
    {
     "name": "stdout",
     "output_type": "stream",
     "text": [
      "\r\n",
      "Looking for: ['python', 'jupyter', 'mamba']\r\n",
      "\r\n",
      "\u001b[?25l\u001b[2K\u001b[0G[+] 0.0s\r\n"
     ]
    },
    {
     "name": "stdout",
     "output_type": "stream",
     "text": [
      "\u001b[2K\u001b[1A\u001b[2K\u001b[0G[+] 0.1s\r\n",
      "cctbx202208/linux-64 \u001b[33m━━━━━━━━━━━━━╸\u001b[0m\u001b[90m━━━━━━━━━\u001b[0m   0.0 B /  ??.?MB @  ??.?MB/s  0.1s\r\n",
      "cctbx202208/noarch   \u001b[33m━━━━━━━━━━━━╸\u001b[0m\u001b[90m━━━━━━━━━━\u001b[0m   0.0 B /  ??.?MB @  ??.?MB/s  0.1s\r\n",
      "rapidsai/linux-64    \u001b[90m━━━╸\u001b[0m\u001b[33m━━━━━━━━━━━━━━━╸\u001b[0m\u001b[90m━━━\u001b[0m   0.0 B /  ??.?MB @  ??.?MB/s  0.1s\r\n",
      "rapidsai/noarch      \u001b[90m━╸\u001b[0m\u001b[33m━━━━━━━━━━━━━━━╸\u001b[0m\u001b[90m━━━━━\u001b[0m   0.0 B /  ??.?MB @  ??.?MB/s  0.1s\r\n",
      "nvidia/linux-64      \u001b[33m━━━━━━━━━╸\u001b[0m\u001b[90m━━━━━━━━━━━━━\u001b[0m   0.0 B /  ??.?MB @  ??.?MB/s  0.1s"
     ]
    },
    {
     "name": "stdout",
     "output_type": "stream",
     "text": [
      "\u001b[2K\u001b[1A\u001b[2K\u001b[1A\u001b[2K\u001b[1A\u001b[2K\u001b[1A\u001b[2K\u001b[1A\u001b[2K\u001b[0Gnvidia/linux-64                                               No change\r\n",
      "[+] 0.2s\r\n",
      "cctbx202208/linux-64 \u001b[90m╸\u001b[0m\u001b[33m━━━━━━━━━━━━━━━╸\u001b[0m\u001b[90m━━━━━━\u001b[0m   0.0 B /  ??.?MB @  ??.?MB/s  0.2s\r\n",
      "cctbx202208/noarch   \u001b[33m━━━━━━━━━━━━━━╸\u001b[0m\u001b[90m━━━━━━━━\u001b[0m   0.0 B /  ??.?MB @  ??.?MB/s  0.2s\r\n",
      "rapidsai/linux-64    \u001b[90m━━━━━╸\u001b[0m\u001b[33m━━━━━━━━━━━━━━━╸\u001b[0m\u001b[90m━\u001b[0m   0.0 B /  ??.?MB @  ??.?MB/s  0.2s\r\n",
      "rapidsai/noarch      \u001b[90m━━━╸\u001b[0m\u001b[33m━━━━━━━━━━━━━━━╸\u001b[0m\u001b[90m━━━\u001b[0m   0.0 B /  ??.?MB @  ??.?MB/s  0.2s\r\n",
      "pkgs/r/linux-64      \u001b[90m━━━━━━━╸\u001b[0m\u001b[33m━━━━━━━━━━━━━━━\u001b[0m   0.0 B /  ??.?MB @  ??.?MB/s  0.0s"
     ]
    },
    {
     "name": "stdout",
     "output_type": "stream",
     "text": [
      "\u001b[2K\u001b[1A\u001b[2K\u001b[1A\u001b[2K\u001b[1A\u001b[2K\u001b[1A\u001b[2K\u001b[1A\u001b[2K\u001b[0G[+] 0.3s\r\n",
      "cctbx202208/linux-64 \u001b[90m╸\u001b[0m\u001b[33m━━━━━━━━━━━━━━━╸\u001b[0m\u001b[90m━━━━━━\u001b[0m   0.0 B /  ??.?MB @  ??.?MB/s  0.3s\r\n",
      "cctbx202208/noarch   \u001b[33m━━━━━━━━━━━━━━╸\u001b[0m\u001b[90m━━━━━━━━\u001b[0m   0.0 B /  ??.?MB @  ??.?MB/s  0.3s\r\n",
      "rapidsai/linux-64    \u001b[90m━━━━━╸\u001b[0m\u001b[33m━━━━━━━━━━━━━━━╸\u001b[0m\u001b[90m━\u001b[0m   0.0 B /  ??.?MB @  ??.?MB/s  0.3s\r\n",
      "rapidsai/noarch      \u001b[90m━━━╸\u001b[0m\u001b[33m━━━━━━━━━━━━━━━╸\u001b[0m\u001b[90m━━━\u001b[0m   0.0 B /  ??.?MB @  ??.?MB/s  0.3s\r\n",
      "pkgs/r/linux-64      \u001b[90m━━━━━━━╸\u001b[0m\u001b[33m━━━━━━━━━━━━━━━\u001b[0m   0.0 B /  ??.?MB @  ??.?MB/s  0.1s"
     ]
    },
    {
     "name": "stdout",
     "output_type": "stream",
     "text": [
      "\u001b[2K\u001b[1A\u001b[2K\u001b[1A\u001b[2K\u001b[1A\u001b[2K\u001b[1A\u001b[2K\u001b[1A\u001b[2K\u001b[0G[+] 0.4s\r\n",
      "cctbx202208/linux-64 \u001b[90m╸\u001b[0m\u001b[33m━━━━━━━━━━━━━━━╸\u001b[0m\u001b[90m━━━━━\u001b[0m   0.0 B @  ??.?MB/s             0.4s\r\n",
      "cctbx202208/noarch   \u001b[33m━━━━━━━━━━━━━━━╸\u001b[0m\u001b[90m━━━━━━\u001b[0m   0.0 B @  ??.?MB/s             0.4s\r\n",
      "rapidsai/linux-64    \u001b[90m━━━━━╸\u001b[0m\u001b[33m━━━━━━━━━━━━━━━━\u001b[0m   0.0 B @  ??.?MB/s             0.4s\r\n",
      "rapidsai/noarch      \u001b[90m━━━━╸\u001b[0m\u001b[33m━━━━━━━━━━━━━━━╸\u001b[0m\u001b[90m━\u001b[0m   0.0 B @  ??.?MB/s             0.4s\r\n",
      "pkgs/r/linux-64      ━━━━━━━━━━━━━━━━━━━━━━   0.0 B @  ??.?MB/s Downloaded  0.2s"
     ]
    },
    {
     "name": "stdout",
     "output_type": "stream",
     "text": [
      "\u001b[2K\u001b[1A\u001b[2K\u001b[1A\u001b[2K\u001b[1A\u001b[2K\u001b[1A\u001b[2K\u001b[1A\u001b[2K\u001b[0Gpkgs/r/linux-64                                               No change\r\n",
      "cctbx202208/linux-64                               @  88.6kB/s  0.4s\r\n",
      "[+] 0.5s\r\n",
      "cctbx202208/noarch \u001b[90m━╸\u001b[0m\u001b[33m━━━━━━━━━━━━━━━╸\u001b[0m\u001b[90m━━━━━━━\u001b[0m   0.0 B /  ??.?MB @  ??.?MB/s  0.5s\r\n",
      "rapidsai/linux-64  \u001b[90m━━━━━━━━━╸\u001b[0m\u001b[33m━━━━━━━━━━━━━━━\u001b[0m   0.0 B /  ??.?MB @  ??.?MB/s  0.5s\r\n",
      "rapidsai/noarch    \u001b[90m━━━━━━━╸\u001b[0m\u001b[33m━━━━━━━━━━━━━━━╸\u001b[0m\u001b[90m━\u001b[0m   0.0 B /  ??.?MB @  ??.?MB/s  0.5s\r\n",
      "conda-forge/noarch \u001b[33m━━━━━━━━━━╸\u001b[0m\u001b[90m━━━━━━━━━━━━━━\u001b[0m   0.0 B /  ??.?MB @  ??.?MB/s  0.1s\r\n",
      "pkgs/r/noarch      \u001b[90m━━━━━━━━━╸\u001b[0m\u001b[33m━━━━━━━━━━━━━━━\u001b[0m   0.0 B /  ??.?MB @  ??.?MB/s  0.1s"
     ]
    },
    {
     "name": "stdout",
     "output_type": "stream",
     "text": [
      "\u001b[2K\u001b[1A\u001b[2K\u001b[1A\u001b[2K\u001b[1A\u001b[2K\u001b[1A\u001b[2K\u001b[1A\u001b[2K\u001b[0Grapidsai/noarch                                               No change\r\n",
      "rapidsai/linux-64                                             No change\r\n",
      "nvidia/noarch                                                 No change\r\n",
      "[+] 0.6s\r\n",
      "cctbx202208/noarch   \u001b[90m━╸\u001b[0m\u001b[33m━━━━━━━━━━━━━━━╸\u001b[0m\u001b[90m━━━━\u001b[0m   0.0 B @  ??.?MB/s             0.6s\r\n",
      "conda-forge/linux-64 \u001b[33m━━━━━━━━╸\u001b[0m\u001b[90m━━━━━━━━━━━━━\u001b[0m   0.0 B @  ??.?MB/s             0.0s\r\n",
      "conda-forge/noarch   \u001b[33m━━━━━━━━━━╸\u001b[0m\u001b[90m━━━━━━━━━━━\u001b[0m   0.0 B @  ??.?MB/s             0.2s\r\n",
      "pkgs/main/linux-64   \u001b[33m━━━━━━━━━━╸\u001b[0m\u001b[90m━━━━━━━━━━━\u001b[0m   0.0 B @  ??.?MB/s             0.1s\r\n",
      "pkgs/r/noarch        ━━━━━━━━━━━━━━━━━━━━━━   0.0 B @  ??.?MB/s Downloaded  0.2s"
     ]
    },
    {
     "name": "stdout",
     "output_type": "stream",
     "text": [
      "\u001b[2K\u001b[1A\u001b[2K\u001b[1A\u001b[2K\u001b[1A\u001b[2K\u001b[1A\u001b[2K\u001b[1A\u001b[2K\u001b[0Gpkgs/r/noarch                                                 No change\r\n",
      "cctbx202208/noarch                                 @  12.8kB/s  0.7s\r\n",
      "[+] 0.7s\r\n",
      "conda-forge/linux-64 \u001b[33m━━━━━━━━━╸\u001b[0m\u001b[90m━━━━━━━━━━━━━\u001b[0m  82.0kB /  ??.?MB @ 123.7kB/s  0.1s\r\n",
      "conda-forge/noarch   \u001b[33m━━━━━━━━━━━━╸\u001b[0m\u001b[90m━━━━━━━━━━\u001b[0m  79.5kB /  ??.?MB @ 119.4kB/s  0.3s\r\n",
      "pkgs/main/linux-64   \u001b[33m━━━━━━━━━━━╸\u001b[0m\u001b[90m━━━━━━━━━━━\u001b[0m  82.2kB /  ??.?MB @ 122.8kB/s  0.2s\r\n",
      "pkgs/main/noarch     \u001b[90m━━━━━━━━━━━━━╸\u001b[0m\u001b[33m━━━━━━━━━\u001b[0m   0.0 B /  ??.?MB @  ??.?MB/s  0.0s"
     ]
    },
    {
     "name": "stdout",
     "output_type": "stream",
     "text": [
      "\u001b[2K\u001b[1A\u001b[2K\u001b[1A\u001b[2K\u001b[1A\u001b[2K\u001b[1A\u001b[2K\u001b[0G[+] 0.8s\r\n",
      "conda-forge/linux-64 \u001b[33m━━━━━━━━━━━╸\u001b[0m\u001b[90m━━━━━━━━━━━\u001b[0m 928.0kB /  ??.?MB @   1.2MB/s  0.2s\r\n",
      "conda-forge/noarch   \u001b[33m━━━━━━━━━━━━━━╸\u001b[0m\u001b[90m━━━━━━━━\u001b[0m 693.6kB /  ??.?MB @ 903.5kB/s  0.4s\r\n",
      "pkgs/main/linux-64   \u001b[33m━━━━━━━━━━━━━╸\u001b[0m\u001b[90m━━━━━━━━━\u001b[0m 766.0kB /  ??.?MB @ 995.1kB/s  0.3s\r\n",
      "pkgs/main/noarch     \u001b[33m━━━━━━━━━╸\u001b[0m\u001b[90m━━━━━━━━━━━━━\u001b[0m 421.9kB /  ??.?MB @ 547.4kB/s  0.1s"
     ]
    },
    {
     "name": "stdout",
     "output_type": "stream",
     "text": [
      "\u001b[2K\u001b[1A\u001b[2K\u001b[1A\u001b[2K\u001b[1A\u001b[2K\u001b[1A\u001b[2K\u001b[0G[+] 0.9s\r\n",
      "conda-forge/linux-64 \u001b[33m━━━━━━━━━━━━━╸\u001b[0m\u001b[90m━━━━━━━━━\u001b[0m   1.2MB /  ??.?MB @   1.4MB/s  0.3s\r\n",
      "conda-forge/noarch   \u001b[33m━━━━━━━━━━━━━━━╸\u001b[0m\u001b[90m━━━━━━━\u001b[0m 927.1kB /  ??.?MB @   1.1MB/s  0.5s\r\n",
      "pkgs/main/linux-64   \u001b[33m━━━━━━━━━━━━━━╸\u001b[0m\u001b[90m━━━━━━━━\u001b[0m   1.0MB /  ??.?MB @   1.3MB/s  0.4s"
     ]
    },
    {
     "name": "stdout",
     "output_type": "stream",
     "text": [
      "\u001b[2K\u001b[1A\u001b[2K\u001b[1A\u001b[2K\u001b[1A\u001b[2K\u001b[0Gpkgs/main/noarch                                   821.1kB @ 972.0kB/s  0.2s\r\n",
      "[+] 1.0s\r\n",
      "conda-forge/linux-64 \u001b[33m━━━━━━━━━━━━━━━╸\u001b[0m\u001b[90m━━━━━━━\u001b[0m   1.9MB /  ??.?MB @   2.0MB/s  0.4s\r\n",
      "conda-forge/noarch   \u001b[90m━╸\u001b[0m\u001b[33m━━━━━━━━━━━━━━━╸\u001b[0m\u001b[90m━━━━━\u001b[0m   1.6MB /  ??.?MB @   1.7MB/s  0.6s\r\n",
      "pkgs/main/linux-64   \u001b[90m╸\u001b[0m\u001b[33m━━━━━━━━━━━━━━━╸\u001b[0m\u001b[90m━━━━━━\u001b[0m   2.0MB /  ??.?MB @   2.0MB/s  0.5s"
     ]
    },
    {
     "name": "stdout",
     "output_type": "stream",
     "text": [
      "\u001b[2K\u001b[1A\u001b[2K\u001b[1A\u001b[2K\u001b[1A\u001b[2K\u001b[0G[+] 1.1s\r\n",
      "conda-forge/linux-64 \u001b[90m━╸\u001b[0m\u001b[33m━━━━━━━━━━━━━━━╸\u001b[0m\u001b[90m━━━━━\u001b[0m   2.5MB /  ??.?MB @   2.3MB/s  0.5s\r\n",
      "conda-forge/noarch   \u001b[90m━━━╸\u001b[0m\u001b[33m━━━━━━━━━━━━━━━╸\u001b[0m\u001b[90m━━━\u001b[0m   2.1MB /  ??.?MB @   2.0MB/s  0.7s\r\n",
      "pkgs/main/linux-64   \u001b[90m━━━╸\u001b[0m\u001b[33m━━━━━━━━━━━━━━━╸\u001b[0m\u001b[90m━━━\u001b[0m   2.6MB /  ??.?MB @   2.4MB/s  0.6s"
     ]
    },
    {
     "name": "stdout",
     "output_type": "stream",
     "text": [
      "\u001b[2K\u001b[1A\u001b[2K\u001b[1A\u001b[2K\u001b[1A\u001b[2K\u001b[0G[+] 1.2s\r\n",
      "conda-forge/linux-64 \u001b[90m━━━╸\u001b[0m\u001b[33m━━━━━━━━━━━━━━━╸\u001b[0m\u001b[90m━━━\u001b[0m   3.0MB /  ??.?MB @   2.6MB/s  0.6s\r\n",
      "conda-forge/noarch   \u001b[90m━━━━━━╸\u001b[0m\u001b[33m━━━━━━━━━━━━━━━━\u001b[0m   2.5MB /  ??.?MB @   2.2MB/s  0.8s\r\n",
      "pkgs/main/linux-64   \u001b[90m━━━━━╸\u001b[0m\u001b[33m━━━━━━━━━━━━━━━╸\u001b[0m\u001b[90m━\u001b[0m   3.1MB /  ??.?MB @   2.6MB/s  0.7s"
     ]
    },
    {
     "name": "stdout",
     "output_type": "stream",
     "text": [
      "\u001b[2K\u001b[1A\u001b[2K\u001b[1A\u001b[2K\u001b[1A\u001b[2K\u001b[0G[+] 1.3s\r\n",
      "conda-forge/linux-64 \u001b[90m━━━━━╸\u001b[0m\u001b[33m━━━━━━━━━━━━━━━╸\u001b[0m\u001b[90m━\u001b[0m   3.5MB /  ??.?MB @   2.8MB/s  0.7s\r\n",
      "conda-forge/noarch   \u001b[90m━━━━━━━━╸\u001b[0m\u001b[33m━━━━━━━━━━━━━━\u001b[0m   3.0MB /  ??.?MB @   2.3MB/s  0.9s\r\n",
      "pkgs/main/linux-64   \u001b[90m━━━━━━━╸\u001b[0m\u001b[33m━━━━━━━━━━━━━━━\u001b[0m   3.7MB /  ??.?MB @   2.8MB/s  0.8s"
     ]
    },
    {
     "name": "stdout",
     "output_type": "stream",
     "text": [
      "\u001b[2K\u001b[1A\u001b[2K\u001b[1A\u001b[2K\u001b[1A\u001b[2K\u001b[0G[+] 1.4s\r\n",
      "conda-forge/linux-64 \u001b[90m━━━━━━━━╸\u001b[0m\u001b[33m━━━━━━━━━━━━━━\u001b[0m   4.0MB /  ??.?MB @   2.9MB/s  0.8s\r\n",
      "conda-forge/noarch   \u001b[90m━━━━━━━━━━╸\u001b[0m\u001b[33m━━━━━━━━━━━━\u001b[0m   3.3MB /  ??.?MB @   2.4MB/s  1.0s\r\n",
      "pkgs/main/linux-64   \u001b[90m━━━━━━━━━╸\u001b[0m\u001b[33m━━━━━━━━━━━━━\u001b[0m   4.2MB /  ??.?MB @   3.0MB/s  0.9s"
     ]
    },
    {
     "name": "stdout",
     "output_type": "stream",
     "text": [
      "\u001b[2K\u001b[1A\u001b[2K\u001b[1A\u001b[2K\u001b[1A\u001b[2K\u001b[0G[+] 1.5s\r\n",
      "conda-forge/linux-64 \u001b[90m━━━━━━━━━━╸\u001b[0m\u001b[33m━━━━━━━━━━━━\u001b[0m   4.6MB /  ??.?MB @   3.1MB/s  0.9s\r\n",
      "conda-forge/noarch   \u001b[90m━━━━━━━━━━━━╸\u001b[0m\u001b[33m━━━━━━━━━━\u001b[0m   3.8MB /  ??.?MB @   2.5MB/s  1.1s\r\n",
      "pkgs/main/linux-64   \u001b[90m━━━━━━━━━━━╸\u001b[0m\u001b[33m━━━━━━━━━━━\u001b[0m   4.8MB /  ??.?MB @   3.2MB/s  1.0s"
     ]
    },
    {
     "name": "stdout",
     "output_type": "stream",
     "text": [
      "\u001b[2K\u001b[1A\u001b[2K\u001b[1A\u001b[2K\u001b[1A\u001b[2K\u001b[0G[+] 1.6s\r\n",
      "conda-forge/linux-64 \u001b[90m━━━━━━━━━━━━╸\u001b[0m\u001b[33m━━━━━━━━━━\u001b[0m   5.1MB /  ??.?MB @   3.3MB/s  1.0s\r\n",
      "conda-forge/noarch   \u001b[33m━━━━━━━━╸\u001b[0m\u001b[90m━━━━━━━━━━━━━━\u001b[0m   4.2MB /  ??.?MB @   2.7MB/s  1.2s\r\n",
      "pkgs/main/linux-64   \u001b[33m━━━━━━━━╸\u001b[0m\u001b[90m━━━━━━━━━━━━━━\u001b[0m   5.4MB /  ??.?MB @   3.4MB/s  1.1s"
     ]
    },
    {
     "name": "stdout",
     "output_type": "stream",
     "text": [
      "\u001b[2K\u001b[1A\u001b[2K\u001b[1A\u001b[2K\u001b[1A\u001b[2K\u001b[0G[+] 1.7s\r\n",
      "conda-forge/linux-64 \u001b[90m━━━━━━━━━━━╸\u001b[0m\u001b[33m━━━━━━━━━━\u001b[0m   5.1MB @   3.3MB/s             1.1s\r\n",
      "conda-forge/noarch   \u001b[33m━━━━━━━━╸\u001b[0m\u001b[90m━━━━━━━━━━━━━\u001b[0m   4.2MB @   2.7MB/s             1.3s\r\n",
      "pkgs/main/linux-64   ━━━━━━━━━━━━━━━━━━━━━━   5.5MB @   3.4MB/s Downloaded  1.2s"
     ]
    },
    {
     "name": "stdout",
     "output_type": "stream",
     "text": [
      "\u001b[2K\u001b[1A\u001b[2K\u001b[1A\u001b[2K\u001b[1A\u001b[2K\u001b[0G[+] 1.8s\r\n",
      "conda-forge/linux-64 \u001b[90m━━━━━━━━━━━╸\u001b[0m\u001b[33m━━━━━━━━━━\u001b[0m   5.1MB @   3.3MB/s             1.2s\r\n",
      "conda-forge/noarch   \u001b[33m━━━━━━━━╸\u001b[0m\u001b[90m━━━━━━━━━━━━━\u001b[0m   4.2MB @   2.7MB/s             1.4s\r\n",
      "pkgs/main/linux-64   ━━━━━━━━━━━━━━━━━━━━━━   5.5MB @   3.4MB/s Downloaded  1.3s"
     ]
    },
    {
     "name": "stdout",
     "output_type": "stream",
     "text": [
      "\u001b[2K\u001b[1A\u001b[2K\u001b[1A\u001b[2K\u001b[1A\u001b[2K\u001b[0G[+] 1.9s\r\n",
      "conda-forge/linux-64 \u001b[90m━━━━━━━━━━━╸\u001b[0m\u001b[33m━━━━━━━━━━\u001b[0m   5.1MB @   3.3MB/s             1.3s\r\n",
      "conda-forge/noarch   \u001b[33m━━━━━━━━╸\u001b[0m\u001b[90m━━━━━━━━━━━━━\u001b[0m   4.2MB @   2.7MB/s             1.5s\r\n",
      "pkgs/main/linux-64   ━━━━━━━━━━━━━━━━━━━━━━   5.5MB @   3.4MB/s Downloaded  1.4s"
     ]
    },
    {
     "name": "stdout",
     "output_type": "stream",
     "text": [
      "\u001b[2K\u001b[1A\u001b[2K\u001b[1A\u001b[2K\u001b[1A\u001b[2K\u001b[0G[+] 2.0s\r\n",
      "conda-forge/linux-64 \u001b[90m━━━━━━━━━━━╸\u001b[0m\u001b[33m━━━━━━━━━━\u001b[0m   5.1MB @   3.3MB/s             1.4s\r\n",
      "conda-forge/noarch   \u001b[33m━━━━━━━━╸\u001b[0m\u001b[90m━━━━━━━━━━━━━\u001b[0m   4.2MB @   2.7MB/s             1.6s\r\n",
      "pkgs/main/linux-64   ━━━━━━━━━━━━━━━━━━━━━━   5.5MB @   3.4MB/s Downloaded  1.5s"
     ]
    },
    {
     "name": "stdout",
     "output_type": "stream",
     "text": [
      "\u001b[2K\u001b[1A\u001b[2K\u001b[1A\u001b[2K\u001b[1A\u001b[2K\u001b[0G[+] 2.1s\r\n",
      "conda-forge/linux-64 \u001b[90m━━━━━━━━━━━╸\u001b[0m\u001b[33m━━━━━━━━━━\u001b[0m   5.1MB @   3.3MB/s             1.5s\r\n",
      "conda-forge/noarch   \u001b[33m━━━━━━━━╸\u001b[0m\u001b[90m━━━━━━━━━━━━━\u001b[0m   4.2MB @   2.7MB/s             1.7s\r\n",
      "pkgs/main/linux-64   ━━━━━━━━━━━━━━━━━━━━━━   5.5MB @   3.4MB/s Downloaded  1.6s"
     ]
    },
    {
     "name": "stdout",
     "output_type": "stream",
     "text": [
      "\u001b[2K\u001b[1A\u001b[2K\u001b[1A\u001b[2K\u001b[1A\u001b[2K\u001b[0G[+] 2.2s\r\n",
      "conda-forge/linux-64 \u001b[90m━━━━━━━━━━━━╸\u001b[0m\u001b[33m━━━━━━━━━━\u001b[0m   5.1MB /  ??.?MB @   3.3MB/s  1.6s\r\n",
      "conda-forge/noarch   \u001b[33m━━━━━━━━╸\u001b[0m\u001b[90m━━━━━━━━━━━━━━\u001b[0m   4.2MB /  ??.?MB @   2.7MB/s  1.8s"
     ]
    },
    {
     "name": "stdout",
     "output_type": "stream",
     "text": [
      "\u001b[2K\u001b[1A\u001b[2K\u001b[1A\u001b[2K\u001b[0Gpkgs/main/linux-64                                 @   3.4MB/s  1.6s\r\n",
      "[+] 2.3s\r\n",
      "conda-forge/linux-64 \u001b[33m━━━━━━━━╸\u001b[0m\u001b[90m━━━━━━━━━━━━━━\u001b[0m   6.5MB /  ??.?MB @   2.8MB/s  1.7s\r\n",
      "conda-forge/noarch   \u001b[33m━━━━━━━━━╸\u001b[0m\u001b[90m━━━━━━━━━━━━━\u001b[0m   4.9MB /  ??.?MB @   2.2MB/s  1.9s"
     ]
    },
    {
     "name": "stdout",
     "output_type": "stream",
     "text": [
      "\u001b[2K\u001b[1A\u001b[2K\u001b[1A\u001b[2K\u001b[0G[+] 2.4s\r\n",
      "conda-forge/linux-64 \u001b[33m━━━━━━━━━╸\u001b[0m\u001b[90m━━━━━━━━━━━━━\u001b[0m   7.4MB /  ??.?MB @   3.1MB/s  1.8s\r\n",
      "conda-forge/noarch   \u001b[33m━━━━━━━━━━━━╸\u001b[0m\u001b[90m━━━━━━━━━━\u001b[0m   6.8MB /  ??.?MB @   2.9MB/s  2.0s"
     ]
    },
    {
     "name": "stdout",
     "output_type": "stream",
     "text": [
      "\u001b[2K\u001b[1A\u001b[2K\u001b[1A\u001b[2K\u001b[0G[+] 2.5s\r\n",
      "conda-forge/linux-64 \u001b[33m━━━━━━━━━━━╸\u001b[0m\u001b[90m━━━━━━━━━━━\u001b[0m   9.7MB /  ??.?MB @   3.9MB/s  1.9s\r\n",
      "conda-forge/noarch   \u001b[33m━━━━━━━━━━━━━━╸\u001b[0m\u001b[90m━━━━━━━━\u001b[0m   8.0MB /  ??.?MB @   3.3MB/s  2.1s"
     ]
    },
    {
     "name": "stdout",
     "output_type": "stream",
     "text": [
      "\u001b[2K\u001b[1A\u001b[2K\u001b[1A\u001b[2K\u001b[0G[+] 2.6s\r\n",
      "conda-forge/linux-64 \u001b[33m━━━━━━━━━━━━━━╸\u001b[0m\u001b[90m━━━━━━━━\u001b[0m  10.2MB /  ??.?MB @   4.0MB/s  2.0s\r\n",
      "conda-forge/noarch   \u001b[90m╸\u001b[0m\u001b[33m━━━━━━━━━━━━━━━╸\u001b[0m\u001b[90m━━━━━━\u001b[0m   8.4MB /  ??.?MB @   3.3MB/s  2.2s"
     ]
    },
    {
     "name": "stdout",
     "output_type": "stream",
     "text": [
      "\u001b[2K\u001b[1A\u001b[2K\u001b[1A\u001b[2K\u001b[0G[+] 2.7s\r\n",
      "conda-forge/linux-64 \u001b[90m╸\u001b[0m\u001b[33m━━━━━━━━━━━━━━━╸\u001b[0m\u001b[90m━━━━━━\u001b[0m  10.8MB /  ??.?MB @   4.0MB/s  2.1s\r\n",
      "conda-forge/noarch   \u001b[90m━━╸\u001b[0m\u001b[33m━━━━━━━━━━━━━━━╸\u001b[0m\u001b[90m━━━━\u001b[0m   8.8MB /  ??.?MB @   3.3MB/s  2.3s"
     ]
    },
    {
     "name": "stdout",
     "output_type": "stream",
     "text": [
      "\u001b[2K\u001b[1A\u001b[2K\u001b[1A\u001b[2K\u001b[0G[+] 2.8s\r\n",
      "conda-forge/linux-64 \u001b[90m━━╸\u001b[0m\u001b[33m━━━━━━━━━━━━━━━╸\u001b[0m\u001b[90m━━━━\u001b[0m  11.4MB /  ??.?MB @   4.1MB/s  2.2s\r\n",
      "conda-forge/noarch   \u001b[90m━━━━╸\u001b[0m\u001b[33m━━━━━━━━━━━━━━━╸\u001b[0m\u001b[90m━━\u001b[0m   9.3MB /  ??.?MB @   3.4MB/s  2.4s"
     ]
    },
    {
     "name": "stdout",
     "output_type": "stream",
     "text": [
      "\u001b[2K\u001b[1A\u001b[2K\u001b[1A\u001b[2K\u001b[0G[+] 2.9s\r\n",
      "conda-forge/linux-64 \u001b[90m━━━━╸\u001b[0m\u001b[33m━━━━━━━━━━━━━━━╸\u001b[0m\u001b[90m━━\u001b[0m  11.9MB /  ??.?MB @   4.1MB/s  2.3s\r\n",
      "conda-forge/noarch   \u001b[90m━━━━━━━╸\u001b[0m\u001b[33m━━━━━━━━━━━━━━━\u001b[0m   9.7MB /  ??.?MB @   3.4MB/s  2.5s"
     ]
    },
    {
     "name": "stdout",
     "output_type": "stream",
     "text": [
      "\u001b[2K\u001b[1A\u001b[2K\u001b[1A\u001b[2K\u001b[0G[+] 3.0s\r\n",
      "conda-forge/linux-64 \u001b[90m━━━━━━╸\u001b[0m\u001b[33m━━━━━━━━━━━━━━━━\u001b[0m  12.5MB /  ??.?MB @   4.2MB/s  2.4s\r\n",
      "conda-forge/noarch   \u001b[90m━━━━━━━━━╸\u001b[0m\u001b[33m━━━━━━━━━━━━━\u001b[0m  10.2MB /  ??.?MB @   3.4MB/s  2.6s"
     ]
    },
    {
     "name": "stdout",
     "output_type": "stream",
     "text": [
      "\u001b[2K\u001b[1A\u001b[2K\u001b[1A\u001b[2K\u001b[0G[+] 3.1s\r\n",
      "conda-forge/linux-64 \u001b[90m━━━━━━━━━╸\u001b[0m\u001b[33m━━━━━━━━━━━━━\u001b[0m  13.0MB /  ??.?MB @   4.2MB/s  2.5s\r\n",
      "conda-forge/noarch   \u001b[90m━━━━━━━━━━━╸\u001b[0m\u001b[33m━━━━━━━━━━━\u001b[0m  10.6MB /  ??.?MB @   3.5MB/s  2.7s"
     ]
    },
    {
     "name": "stdout",
     "output_type": "stream",
     "text": [
      "\u001b[2K\u001b[1A\u001b[2K\u001b[1A\u001b[2K\u001b[0G[+] 3.2s\r\n",
      "conda-forge/linux-64 \u001b[90m━━━━━━━━━━━╸\u001b[0m\u001b[33m━━━━━━━━━━━\u001b[0m  13.6MB /  ??.?MB @   4.3MB/s  2.6s\r\n",
      "conda-forge/noarch   \u001b[33m━━━━━━━╸\u001b[0m\u001b[90m━━━━━━━━━━━━━━━\u001b[0m  11.0MB /  ??.?MB @   3.5MB/s  2.8s"
     ]
    },
    {
     "name": "stdout",
     "output_type": "stream",
     "text": [
      "\u001b[2K\u001b[1A\u001b[2K\u001b[1A\u001b[2K\u001b[0G[+] 3.3s\r\n",
      "conda-forge/linux-64 \u001b[33m━━━━━━━╸\u001b[0m\u001b[90m━━━━━━━━━━━━━━━\u001b[0m  14.2MB /  ??.?MB @   4.3MB/s  2.7s\r\n",
      "conda-forge/noarch   \u001b[33m━━━━━━━━━╸\u001b[0m\u001b[90m━━━━━━━━━━━━━\u001b[0m  11.4MB /  ??.?MB @   3.5MB/s  2.9s"
     ]
    },
    {
     "name": "stdout",
     "output_type": "stream",
     "text": [
      "\u001b[2K\u001b[1A\u001b[2K\u001b[1A\u001b[2K\u001b[0G[+] 3.4s\r\n",
      "conda-forge/linux-64 \u001b[33m━━━━━━━━╸\u001b[0m\u001b[90m━━━━━━━━━━━━━━\u001b[0m  14.4MB /  ??.?MB @   4.3MB/s  2.8s\r\n",
      "conda-forge/noarch   \u001b[33m━━━━━━━━━━━╸\u001b[0m\u001b[90m━━━━━━━━━━━\u001b[0m  11.6MB /  ??.?MB @   3.5MB/s  3.0s"
     ]
    },
    {
     "name": "stdout",
     "output_type": "stream",
     "text": [
      "\u001b[2K\u001b[1A\u001b[2K\u001b[1A\u001b[2K\u001b[0G[+] 3.5s\r\n",
      "conda-forge/linux-64 \u001b[33m━━━━━━━━╸\u001b[0m\u001b[90m━━━━━━━━━━━━━\u001b[0m  14.4MB @   4.3MB/s             2.9s\r\n",
      "conda-forge/noarch   ━━━━━━━━━━━━━━━━━━━━━━  11.8MB @   3.5MB/s Downloaded  3.1s"
     ]
    },
    {
     "name": "stdout",
     "output_type": "stream",
     "text": [
      "\u001b[2K\u001b[1A\u001b[2K\u001b[1A\u001b[2K\u001b[0G[+] 3.6s\r\n",
      "conda-forge/linux-64 \u001b[33m━━━━━━━━╸\u001b[0m\u001b[90m━━━━━━━━━━━━━\u001b[0m  14.4MB @   4.3MB/s             3.0s\r\n",
      "conda-forge/noarch   ━━━━━━━━━━━━━━━━━━━━━━  11.8MB @   3.5MB/s Downloaded  3.2s"
     ]
    },
    {
     "name": "stdout",
     "output_type": "stream",
     "text": [
      "\u001b[2K\u001b[1A\u001b[2K\u001b[1A\u001b[2K\u001b[0G[+] 3.7s\r\n",
      "conda-forge/linux-64 \u001b[33m━━━━━━━━╸\u001b[0m\u001b[90m━━━━━━━━━━━━━\u001b[0m  14.4MB @   4.3MB/s             3.1s\r\n",
      "conda-forge/noarch   ━━━━━━━━━━━━━━━━━━━━━━  11.8MB @   3.5MB/s Downloaded  3.3s"
     ]
    },
    {
     "name": "stdout",
     "output_type": "stream",
     "text": [
      "\u001b[2K\u001b[1A\u001b[2K\u001b[1A\u001b[2K\u001b[0G[+] 3.8s\r\n",
      "conda-forge/linux-64 \u001b[33m━━━━━━━━╸\u001b[0m\u001b[90m━━━━━━━━━━━━━\u001b[0m  14.4MB @   4.3MB/s             3.2s\r\n",
      "conda-forge/noarch   ━━━━━━━━━━━━━━━━━━━━━━  11.8MB @   3.5MB/s Downloaded  3.4s"
     ]
    },
    {
     "name": "stdout",
     "output_type": "stream",
     "text": [
      "\u001b[2K\u001b[1A\u001b[2K\u001b[1A\u001b[2K\u001b[0G[+] 3.9s\r\n",
      "conda-forge/linux-64 \u001b[33m━━━━━━━━╸\u001b[0m\u001b[90m━━━━━━━━━━━━━\u001b[0m  14.4MB @   4.3MB/s             3.3s\r\n",
      "conda-forge/noarch   ━━━━━━━━━━━━━━━━━━━━━━  11.8MB @   3.5MB/s Downloaded  3.5s"
     ]
    },
    {
     "name": "stdout",
     "output_type": "stream",
     "text": [
      "\u001b[2K\u001b[1A\u001b[2K\u001b[1A\u001b[2K\u001b[0G[+] 4.0s\r\n",
      "conda-forge/linux-64 \u001b[33m━━━━━━━━╸\u001b[0m\u001b[90m━━━━━━━━━━━━━\u001b[0m  14.4MB @   4.3MB/s             3.4s\r\n",
      "conda-forge/noarch   ━━━━━━━━━━━━━━━━━━━━━━  11.8MB @   3.5MB/s Downloaded  3.6s"
     ]
    },
    {
     "name": "stdout",
     "output_type": "stream",
     "text": [
      "\u001b[2K\u001b[1A\u001b[2K\u001b[1A\u001b[2K\u001b[0G[+] 4.1s\r\n",
      "conda-forge/linux-64 \u001b[33m━━━━━━━━╸\u001b[0m\u001b[90m━━━━━━━━━━━━━\u001b[0m  14.4MB @   4.3MB/s             3.5s\r\n",
      "conda-forge/noarch   ━━━━━━━━━━━━━━━━━━━━━━  11.8MB @   3.5MB/s Downloaded  3.7s"
     ]
    },
    {
     "name": "stdout",
     "output_type": "stream",
     "text": [
      "\u001b[2K\u001b[1A\u001b[2K\u001b[1A\u001b[2K\u001b[0G[+] 4.2s\r\n",
      "conda-forge/linux-64 \u001b[33m━━━━━━━━╸\u001b[0m\u001b[90m━━━━━━━━━━━━━\u001b[0m  14.4MB @   4.3MB/s             3.6s\r\n",
      "conda-forge/noarch   ━━━━━━━━━━━━━━━━━━━━━━  11.8MB @   3.5MB/s Downloaded  3.8s"
     ]
    },
    {
     "name": "stdout",
     "output_type": "stream",
     "text": [
      "\u001b[2K\u001b[1A\u001b[2K\u001b[1A\u001b[2K\u001b[0G[+] 4.3s\r\n",
      "conda-forge/linux-64 \u001b[33m━━━━━━━━╸\u001b[0m\u001b[90m━━━━━━━━━━━━━\u001b[0m  14.4MB @   4.3MB/s             3.7s\r\n",
      "conda-forge/noarch   ━━━━━━━━━━━━━━━━━━━━━━  11.8MB @   3.5MB/s Downloaded  3.9s"
     ]
    },
    {
     "name": "stdout",
     "output_type": "stream",
     "text": [
      "\u001b[2K\u001b[1A\u001b[2K\u001b[1A\u001b[2K\u001b[0G[+] 4.4s\r\n",
      "conda-forge/linux-64 \u001b[33m━━━━━━━━╸\u001b[0m\u001b[90m━━━━━━━━━━━━━\u001b[0m  14.4MB @   4.3MB/s             3.8s\r\n",
      "conda-forge/noarch   ━━━━━━━━━━━━━━━━━━━━━━  11.8MB @   3.5MB/s Downloaded  4.0s"
     ]
    },
    {
     "name": "stdout",
     "output_type": "stream",
     "text": [
      "\u001b[2K\u001b[1A\u001b[2K\u001b[1A\u001b[2K\u001b[0G[+] 4.5s\r\n",
      "conda-forge/linux-64 \u001b[33m━━━━━━━━╸\u001b[0m\u001b[90m━━━━━━━━━━━━━\u001b[0m  14.4MB @   4.3MB/s             3.9s\r\n",
      "conda-forge/noarch   ━━━━━━━━━━━━━━━━━━━━━━  11.8MB @   3.5MB/s Downloaded  4.1s"
     ]
    },
    {
     "name": "stdout",
     "output_type": "stream",
     "text": [
      "\u001b[2K\u001b[1A\u001b[2K\u001b[1A\u001b[2K\u001b[0G[+] 4.6s\r\n",
      "conda-forge/linux-64 \u001b[33m━━━━━━━━╸\u001b[0m\u001b[90m━━━━━━━━━━━━━\u001b[0m  14.4MB @   4.3MB/s             4.0s\r\n",
      "conda-forge/noarch   ━━━━━━━━━━━━━━━━━━━━━━  11.8MB @   3.5MB/s Downloaded  4.2s"
     ]
    },
    {
     "name": "stdout",
     "output_type": "stream",
     "text": [
      "\u001b[2K\u001b[1A\u001b[2K\u001b[1A\u001b[2K\u001b[0G[+] 4.7s\r\n",
      "conda-forge/linux-64 \u001b[33m━━━━━━━━╸\u001b[0m\u001b[90m━━━━━━━━━━━━━\u001b[0m  14.4MB @   4.3MB/s             4.1s\r\n",
      "conda-forge/noarch   ━━━━━━━━━━━━━━━━━━━━━━  11.8MB @   3.5MB/s Downloaded  4.3s"
     ]
    },
    {
     "name": "stdout",
     "output_type": "stream",
     "text": [
      "\u001b[2K\u001b[1A\u001b[2K\u001b[1A\u001b[2K\u001b[0G[+] 4.8s\r\n",
      "conda-forge/linux-64 \u001b[33m━━━━━━━━╸\u001b[0m\u001b[90m━━━━━━━━━━━━━\u001b[0m  14.4MB @   4.3MB/s             4.2s\r\n",
      "conda-forge/noarch   ━━━━━━━━━━━━━━━━━━━━━━  11.8MB @   3.5MB/s Finalizing  4.4s"
     ]
    },
    {
     "name": "stdout",
     "output_type": "stream",
     "text": [
      "\u001b[2K\u001b[1A\u001b[2K\u001b[1A\u001b[2K\u001b[0G[+] 4.9s\r\n",
      "conda-forge/linux-64 \u001b[33m━━━━━━━━╸\u001b[0m\u001b[90m━━━━━━━━━━━━━━\u001b[0m  14.4MB /  ??.?MB @   4.3MB/s  4.3s"
     ]
    },
    {
     "name": "stdout",
     "output_type": "stream",
     "text": [
      "\u001b[2K\u001b[1A\u001b[2K\u001b[0Gconda-forge/noarch                                 @   3.5MB/s  4.4s\r\n",
      "[+] 5.0s\r\n",
      "conda-forge/linux-64 \u001b[33m━━━━━━━━━╸\u001b[0m\u001b[90m━━━━━━━━━━━━━\u001b[0m  14.9MB /  ??.?MB @   3.0MB/s  4.4s"
     ]
    },
    {
     "name": "stdout",
     "output_type": "stream",
     "text": [
      "\u001b[2K\u001b[1A\u001b[2K\u001b[0G[+] 5.1s\r\n",
      "conda-forge/linux-64 \u001b[33m━━━━━━━━━━━╸\u001b[0m\u001b[90m━━━━━━━━━━━\u001b[0m  18.3MB /  ??.?MB @   3.6MB/s  4.5s"
     ]
    },
    {
     "name": "stdout",
     "output_type": "stream",
     "text": [
      "\u001b[2K\u001b[1A\u001b[2K\u001b[0G[+] 5.2s\r\n",
      "conda-forge/linux-64 \u001b[33m━━━━━━━━━━━━━━╸\u001b[0m\u001b[90m━━━━━━━━\u001b[0m  18.7MB /  ??.?MB @   3.6MB/s  4.6s"
     ]
    },
    {
     "name": "stdout",
     "output_type": "stream",
     "text": [
      "\u001b[2K\u001b[1A\u001b[2K\u001b[0G[+] 5.3s\r\n",
      "conda-forge/linux-64 \u001b[90m╸\u001b[0m\u001b[33m━━━━━━━━━━━━━━━╸\u001b[0m\u001b[90m━━━━━━\u001b[0m  19.2MB /  ??.?MB @   3.6MB/s  4.7s"
     ]
    },
    {
     "name": "stdout",
     "output_type": "stream",
     "text": [
      "\u001b[2K\u001b[1A\u001b[2K\u001b[0G[+] 5.4s\r\n",
      "conda-forge/linux-64 \u001b[90m━━╸\u001b[0m\u001b[33m━━━━━━━━━━━━━━━╸\u001b[0m\u001b[90m━━━━\u001b[0m  19.7MB /  ??.?MB @   3.7MB/s  4.8s"
     ]
    },
    {
     "name": "stdout",
     "output_type": "stream",
     "text": [
      "\u001b[2K\u001b[1A\u001b[2K\u001b[0G[+] 5.5s\r\n",
      "conda-forge/linux-64 \u001b[90m━━━━╸\u001b[0m\u001b[33m━━━━━━━━━━━━━━━╸\u001b[0m\u001b[90m━━\u001b[0m  20.2MB /  ??.?MB @   3.7MB/s  4.9s"
     ]
    },
    {
     "name": "stdout",
     "output_type": "stream",
     "text": [
      "\u001b[2K\u001b[1A\u001b[2K\u001b[0G[+] 5.6s\r\n",
      "conda-forge/linux-64 \u001b[90m━━━━━━╸\u001b[0m\u001b[33m━━━━━━━━━━━━━━━━\u001b[0m  20.7MB /  ??.?MB @   3.7MB/s  5.0s"
     ]
    },
    {
     "name": "stdout",
     "output_type": "stream",
     "text": [
      "\u001b[2K\u001b[1A\u001b[2K\u001b[0G[+] 5.7s\r\n",
      "conda-forge/linux-64 \u001b[90m━━━━━━━━━╸\u001b[0m\u001b[33m━━━━━━━━━━━━━\u001b[0m  21.2MB /  ??.?MB @   3.7MB/s  5.1s"
     ]
    },
    {
     "name": "stdout",
     "output_type": "stream",
     "text": [
      "\u001b[2K\u001b[1A\u001b[2K\u001b[0G[+] 5.8s\r\n",
      "conda-forge/linux-64 \u001b[90m━━━━━━━━━━━╸\u001b[0m\u001b[33m━━━━━━━━━━━\u001b[0m  21.7MB /  ??.?MB @   3.7MB/s  5.2s"
     ]
    },
    {
     "name": "stdout",
     "output_type": "stream",
     "text": [
      "\u001b[2K\u001b[1A\u001b[2K\u001b[0G[+] 5.9s\r\n",
      "conda-forge/linux-64 \u001b[90m━━━━━━━━━━━━╸\u001b[0m\u001b[33m━━━━━━━━━━\u001b[0m  21.9MB /  ??.?MB @   3.7MB/s  5.3s"
     ]
    },
    {
     "name": "stdout",
     "output_type": "stream",
     "text": [
      "\u001b[2K\u001b[1A\u001b[2K\u001b[0G[+] 6.0s\r\n",
      "conda-forge/linux-64 \u001b[33m━━━━━━━━╸\u001b[0m\u001b[90m━━━━━━━━━━━━━━\u001b[0m  22.3MB /  ??.?MB @   3.8MB/s  5.4s"
     ]
    },
    {
     "name": "stdout",
     "output_type": "stream",
     "text": [
      "\u001b[2K\u001b[1A\u001b[2K\u001b[0G[+] 6.1s\r\n",
      "conda-forge/linux-64 \u001b[33m━━━━━━━━━━╸\u001b[0m\u001b[90m━━━━━━━━━━━━\u001b[0m  22.8MB /  ??.?MB @   3.8MB/s  5.5s"
     ]
    },
    {
     "name": "stdout",
     "output_type": "stream",
     "text": [
      "\u001b[2K\u001b[1A\u001b[2K\u001b[0G[+] 6.2s\r\n",
      "conda-forge/linux-64 \u001b[33m━━━━━━━━━━━━━╸\u001b[0m\u001b[90m━━━━━━━━━\u001b[0m  23.2MB /  ??.?MB @   3.8MB/s  5.6s"
     ]
    },
    {
     "name": "stdout",
     "output_type": "stream",
     "text": [
      "\u001b[2K\u001b[1A\u001b[2K\u001b[0G[+] 6.3s\r\n",
      "conda-forge/linux-64 \u001b[33m━━━━━━━━━━━━━━━╸\u001b[0m\u001b[90m━━━━━━━\u001b[0m  23.7MB /  ??.?MB @   3.8MB/s  5.7s"
     ]
    },
    {
     "name": "stdout",
     "output_type": "stream",
     "text": [
      "\u001b[2K\u001b[1A\u001b[2K\u001b[0G[+] 6.4s\r\n",
      "conda-forge/linux-64 \u001b[90m━╸\u001b[0m\u001b[33m━━━━━━━━━━━━━━━╸\u001b[0m\u001b[90m━━━━━\u001b[0m  24.3MB /  ??.?MB @   3.8MB/s  5.8s"
     ]
    },
    {
     "name": "stdout",
     "output_type": "stream",
     "text": [
      "\u001b[2K\u001b[1A\u001b[2K\u001b[0G[+] 6.5s\r\n",
      "conda-forge/linux-64 \u001b[90m━━━╸\u001b[0m\u001b[33m━━━━━━━━━━━━━━━╸\u001b[0m\u001b[90m━━━\u001b[0m  24.8MB /  ??.?MB @   3.8MB/s  5.9s"
     ]
    },
    {
     "name": "stdout",
     "output_type": "stream",
     "text": [
      "\u001b[2K\u001b[1A\u001b[2K\u001b[0G[+] 6.6s\r\n",
      "conda-forge/linux-64 \u001b[90m━━━━━╸\u001b[0m\u001b[33m━━━━━━━━━━━━━━━╸\u001b[0m\u001b[90m━\u001b[0m  25.4MB /  ??.?MB @   3.9MB/s  6.0s"
     ]
    },
    {
     "name": "stdout",
     "output_type": "stream",
     "text": [
      "\u001b[2K\u001b[1A\u001b[2K\u001b[0G[+] 6.7s\r\n",
      "conda-forge/linux-64 \u001b[90m━━━━━━━━╸\u001b[0m\u001b[33m━━━━━━━━━━━━━━\u001b[0m  25.9MB /  ??.?MB @   3.9MB/s  6.1s"
     ]
    },
    {
     "name": "stdout",
     "output_type": "stream",
     "text": [
      "\u001b[2K\u001b[1A\u001b[2K\u001b[0G[+] 6.8s\r\n",
      "conda-forge/linux-64 \u001b[90m━━━━━━━━━━╸\u001b[0m\u001b[33m━━━━━━━━━━━━\u001b[0m  26.5MB /  ??.?MB @   3.9MB/s  6.2s"
     ]
    },
    {
     "name": "stdout",
     "output_type": "stream",
     "text": [
      "\u001b[2K\u001b[1A\u001b[2K\u001b[0G[+] 6.9s\r\n",
      "conda-forge/linux-64 \u001b[90m━━━━━━━━━━━━╸\u001b[0m\u001b[33m━━━━━━━━━━\u001b[0m  27.0MB /  ??.?MB @   3.9MB/s  6.3s"
     ]
    },
    {
     "name": "stdout",
     "output_type": "stream",
     "text": [
      "\u001b[2K\u001b[1A\u001b[2K\u001b[0G[+] 7.0s\r\n",
      "conda-forge/linux-64 \u001b[33m━━━━━━━━╸\u001b[0m\u001b[90m━━━━━━━━━━━━━━\u001b[0m  27.6MB /  ??.?MB @   4.0MB/s  6.4s"
     ]
    },
    {
     "name": "stdout",
     "output_type": "stream",
     "text": [
      "\u001b[2K\u001b[1A\u001b[2K\u001b[0G[+] 7.1s\r\n",
      "conda-forge/linux-64 \u001b[33m━━━━━━━━━━╸\u001b[0m\u001b[90m━━━━━━━━━━━━\u001b[0m  28.1MB /  ??.?MB @   4.0MB/s  6.5s"
     ]
    },
    {
     "name": "stdout",
     "output_type": "stream",
     "text": [
      "\u001b[2K\u001b[1A\u001b[2K\u001b[0G[+] 7.2s\r\n",
      "conda-forge/linux-64 \u001b[33m━━━━━━━━━━━━━╸\u001b[0m\u001b[90m━━━━━━━━━\u001b[0m  28.7MB /  ??.?MB @   4.0MB/s  6.6s"
     ]
    },
    {
     "name": "stdout",
     "output_type": "stream",
     "text": [
      "\u001b[2K\u001b[1A\u001b[2K\u001b[0G[+] 7.3s\r\n",
      "conda-forge/linux-64 \u001b[33m━━━━━━━━━━━━━━━╸\u001b[0m\u001b[90m━━━━━━━\u001b[0m  29.2MB /  ??.?MB @   4.0MB/s  6.7s"
     ]
    },
    {
     "name": "stdout",
     "output_type": "stream",
     "text": [
      "\u001b[2K\u001b[1A\u001b[2K\u001b[0G[+] 7.4s\r\n",
      "conda-forge/linux-64 \u001b[90m━╸\u001b[0m\u001b[33m━━━━━━━━━━━━━━━╸\u001b[0m\u001b[90m━━━━━\u001b[0m  29.7MB /  ??.?MB @   4.0MB/s  6.8s"
     ]
    },
    {
     "name": "stdout",
     "output_type": "stream",
     "text": [
      "\u001b[2K\u001b[1A\u001b[2K\u001b[0G[+] 7.5s\r\n",
      "conda-forge/linux-64 \u001b[90m━━━╸\u001b[0m\u001b[33m━━━━━━━━━━━━━━━╸\u001b[0m\u001b[90m━━━\u001b[0m  30.2MB /  ??.?MB @   4.0MB/s  6.9s"
     ]
    },
    {
     "name": "stdout",
     "output_type": "stream",
     "text": [
      "\u001b[2K\u001b[1A\u001b[2K\u001b[0G[+] 7.6s\r\n",
      "conda-forge/linux-64 \u001b[90m━━━━╸\u001b[0m\u001b[33m━━━━━━━━━━━━━━━╸\u001b[0m\u001b[90m━━\u001b[0m  30.5MB /  ??.?MB @   4.0MB/s  7.0s"
     ]
    },
    {
     "name": "stdout",
     "output_type": "stream",
     "text": [
      "\u001b[2K\u001b[1A\u001b[2K\u001b[0G[+] 7.7s\r\n",
      "conda-forge/linux-64 \u001b[90m━━━━╸\u001b[0m\u001b[33m━━━━━━━━━━━━━━━╸\u001b[0m\u001b[90m━━\u001b[0m  30.5MB /  ??.?MB @   4.0MB/s  7.1s"
     ]
    },
    {
     "name": "stdout",
     "output_type": "stream",
     "text": [
      "\u001b[2K\u001b[1A\u001b[2K\u001b[0G[+] 7.8s\r\n",
      "conda-forge/linux-64 \u001b[90m━━━━╸\u001b[0m\u001b[33m━━━━━━━━━━━━━━━╸\u001b[0m\u001b[90m━━\u001b[0m  30.5MB /  ??.?MB @   4.0MB/s  7.2s"
     ]
    },
    {
     "name": "stdout",
     "output_type": "stream",
     "text": [
      "\u001b[2K\u001b[1A\u001b[2K\u001b[0G[+] 7.9s\r\n",
      "conda-forge/linux-64 \u001b[90m━━━━╸\u001b[0m\u001b[33m━━━━━━━━━━━━━━━╸\u001b[0m\u001b[90m━━\u001b[0m  30.5MB /  ??.?MB @   4.0MB/s  7.3s"
     ]
    },
    {
     "name": "stdout",
     "output_type": "stream",
     "text": [
      "\u001b[2K\u001b[1A\u001b[2K\u001b[0G[+] 8.0s\r\n",
      "conda-forge/linux-64 \u001b[90m━━━━╸\u001b[0m\u001b[33m━━━━━━━━━━━━━━━╸\u001b[0m\u001b[90m━━\u001b[0m  30.5MB /  ??.?MB @   4.0MB/s  7.4s"
     ]
    },
    {
     "name": "stdout",
     "output_type": "stream",
     "text": [
      "\u001b[2K\u001b[1A\u001b[2K\u001b[0G[+] 8.1s\r\n",
      "conda-forge/linux-64 ━━━━━━━━━━━━━━━━━━━━━━  30.7MB @   4.0MB/s Downloaded  7.5s"
     ]
    },
    {
     "name": "stdout",
     "output_type": "stream",
     "text": [
      "\u001b[2K\u001b[1A\u001b[2K\u001b[0G[+] 8.2s\r\n"
     ]
    },
    {
     "name": "stdout",
     "output_type": "stream",
     "text": [
      "conda-forge/linux-64 ━━━━━━━━━━━━━━━━━━━━━━  30.7MB @   4.0MB/s Downloaded  7.6s"
     ]
    },
    {
     "name": "stdout",
     "output_type": "stream",
     "text": [
      "\u001b[2K\u001b[1A\u001b[2K\u001b[0G[+] 8.3s\r\n",
      "conda-forge/linux-64 ━━━━━━━━━━━━━━━━━━━━━━  30.7MB @   4.0MB/s Downloaded  7.7s"
     ]
    },
    {
     "name": "stdout",
     "output_type": "stream",
     "text": [
      "\u001b[2K\u001b[1A\u001b[2K\u001b[0G[+] 8.4s\r\n",
      "conda-forge/linux-64 ━━━━━━━━━━━━━━━━━━━━━━  30.7MB @   4.0MB/s Downloaded  7.8s"
     ]
    },
    {
     "name": "stdout",
     "output_type": "stream",
     "text": [
      "\u001b[2K\u001b[1A\u001b[2K\u001b[0G[+] 8.5s\r\n",
      "conda-forge/linux-64 ━━━━━━━━━━━━━━━━━━━━━━  30.7MB @   4.0MB/s Downloaded  7.9s"
     ]
    },
    {
     "name": "stdout",
     "output_type": "stream",
     "text": [
      "\u001b[2K\u001b[1A\u001b[2K\u001b[0G[+] 8.6s\r\n",
      "conda-forge/linux-64 ━━━━━━━━━━━━━━━━━━━━━━  30.7MB @   4.0MB/s Downloaded  8.0s"
     ]
    },
    {
     "name": "stdout",
     "output_type": "stream",
     "text": [
      "\u001b[2K\u001b[1A\u001b[2K\u001b[0G[+] 8.7s\r\n",
      "conda-forge/linux-64 ━━━━━━━━━━━━━━━━━━━━━━  30.7MB @   4.0MB/s Downloaded  8.1s"
     ]
    },
    {
     "name": "stdout",
     "output_type": "stream",
     "text": [
      "\u001b[2K\u001b[1A\u001b[2K\u001b[0G[+] 8.8s\r\n",
      "conda-forge/linux-64 ━━━━━━━━━━━━━━━━━━━━━━  30.7MB @   4.0MB/s Downloaded  8.2s"
     ]
    },
    {
     "name": "stdout",
     "output_type": "stream",
     "text": [
      "\u001b[2K\u001b[1A\u001b[2K\u001b[0G[+] 8.9s\r\n",
      "conda-forge/linux-64 ━━━━━━━━━━━━━━━━━━━━━━  30.7MB @   4.0MB/s Downloaded  8.3s"
     ]
    },
    {
     "name": "stdout",
     "output_type": "stream",
     "text": [
      "\u001b[2K\u001b[1A\u001b[2K\u001b[0G[+] 9.0s\r\n",
      "conda-forge/linux-64 ━━━━━━━━━━━━━━━━━━━━━━  30.7MB @   4.0MB/s Downloaded  8.4s"
     ]
    },
    {
     "name": "stdout",
     "output_type": "stream",
     "text": [
      "\u001b[2K\u001b[1A\u001b[2K\u001b[0G[+] 9.1s\r\n",
      "conda-forge/linux-64 ━━━━━━━━━━━━━━━━━━━━━━  30.7MB @   4.0MB/s Downloaded  8.5s"
     ]
    },
    {
     "name": "stdout",
     "output_type": "stream",
     "text": [
      "\u001b[2K\u001b[1A\u001b[2K\u001b[0G[+] 9.2s\r\n",
      "conda-forge/linux-64 ━━━━━━━━━━━━━━━━━━━━━━  30.7MB @   4.0MB/s Downloaded  8.6s"
     ]
    },
    {
     "name": "stdout",
     "output_type": "stream",
     "text": [
      "\u001b[2K\u001b[1A\u001b[2K\u001b[0G[+] 9.3s\r\n",
      "conda-forge/linux-64 ━━━━━━━━━━━━━━━━━━━━━━  30.7MB @   4.0MB/s Downloaded  8.7s"
     ]
    },
    {
     "name": "stdout",
     "output_type": "stream",
     "text": [
      "\u001b[2K\u001b[1A\u001b[2K\u001b[0G[+] 9.4s\r\n",
      "conda-forge/linux-64 ━━━━━━━━━━━━━━━━━━━━━━  30.7MB @   4.0MB/s Downloaded  8.8s"
     ]
    },
    {
     "name": "stdout",
     "output_type": "stream",
     "text": [
      "\u001b[2K\u001b[1A\u001b[2K\u001b[0G[+] 9.5s\r\n",
      "conda-forge/linux-64 ━━━━━━━━━━━━━━━━━━━━━━  30.7MB @   4.0MB/s Downloaded  8.9s"
     ]
    },
    {
     "name": "stdout",
     "output_type": "stream",
     "text": [
      "\u001b[2K\u001b[1A\u001b[2K\u001b[0G[+] 9.6s\r\n",
      "conda-forge/linux-64 ━━━━━━━━━━━━━━━━━━━━━━  30.7MB @   4.0MB/s Downloaded  9.0s"
     ]
    },
    {
     "name": "stdout",
     "output_type": "stream",
     "text": [
      "\u001b[2K\u001b[1A\u001b[2K\u001b[0G[+] 9.7s\r\n",
      "conda-forge/linux-64 ━━━━━━━━━━━━━━━━━━━━━━  30.7MB @   4.0MB/s Downloaded  9.1s"
     ]
    },
    {
     "name": "stdout",
     "output_type": "stream",
     "text": [
      "\u001b[2K\u001b[1A\u001b[2K\u001b[0G[+] 9.8s\r\n",
      "conda-forge/linux-64 ━━━━━━━━━━━━━━━━━━━━━━  30.7MB @   4.0MB/s Downloaded  9.2s"
     ]
    },
    {
     "name": "stdout",
     "output_type": "stream",
     "text": [
      "\u001b[2K\u001b[1A\u001b[2K\u001b[0G[+] 9.9s\r\n",
      "conda-forge/linux-64 ━━━━━━━━━━━━━━━━━━━━━━  30.7MB @   4.0MB/s Downloaded  9.3s"
     ]
    },
    {
     "name": "stdout",
     "output_type": "stream",
     "text": [
      "\u001b[2K\u001b[1A\u001b[2K\u001b[0G[+] 10.0s\r\n",
      "conda-forge/linux-64 ━━━━━━━━━━━━━━━━━━━━━━  30.7MB @   4.0MB/s Downloaded  9.4s"
     ]
    },
    {
     "name": "stdout",
     "output_type": "stream",
     "text": [
      "\u001b[2K\u001b[1A\u001b[2K\u001b[0G[+] 10.1s\r\n",
      "conda-forge/linux-64 ━━━━━━━━━━━━━━━━━━━━━━  30.7MB @   4.0MB/s Downloaded  9.5s"
     ]
    },
    {
     "name": "stdout",
     "output_type": "stream",
     "text": [
      "\u001b[2K\u001b[1A\u001b[2K\u001b[0G[+] 10.2s\r\n",
      "conda-forge/linux-64 ━━━━━━━━━━━━━━━━━━━━━━  30.7MB @   4.0MB/s Downloaded  9.6s"
     ]
    },
    {
     "name": "stdout",
     "output_type": "stream",
     "text": [
      "\u001b[2K\u001b[1A\u001b[2K\u001b[0G[+] 10.3s\r\n",
      "conda-forge/linux-64 ━━━━━━━━━━━━━━━━━━━━━━  30.7MB @   4.0MB/s Downloaded  9.7s"
     ]
    },
    {
     "name": "stdout",
     "output_type": "stream",
     "text": [
      "\u001b[2K\u001b[1A\u001b[2K\u001b[0G[+] 10.4s\r\n",
      "conda-forge/linux-64 ━━━━━━━━━━━━━━━━━━━━━━  30.7MB @   4.0MB/s Downloaded  9.8s"
     ]
    },
    {
     "name": "stdout",
     "output_type": "stream",
     "text": [
      "\u001b[2K\u001b[1A\u001b[2K\u001b[0G[+] 10.5s\r\n",
      "conda-forge/linux-64 ━━━━━━━━━━━━━━━━━━━━━━  30.7MB @   4.0MB/s Downloaded  9.9s"
     ]
    },
    {
     "name": "stdout",
     "output_type": "stream",
     "text": [
      "\u001b[2K\u001b[1A\u001b[2K\u001b[0G[+] 10.6s\r\n",
      "conda-forge/linux-64 ━━━━━━━━━━━━━━━━━━━━━━  30.7MB @   4.0MB/s Downloaded 10.0s"
     ]
    },
    {
     "name": "stdout",
     "output_type": "stream",
     "text": [
      "\u001b[2K\u001b[1A\u001b[2K\u001b[0G[+] 10.7s\r\n",
      "conda-forge/linux-64 ━━━━━━━━━━━━━━━━━━━━━━  30.7MB @   4.0MB/s Downloaded 10.1s"
     ]
    },
    {
     "name": "stdout",
     "output_type": "stream",
     "text": [
      "\u001b[2K\u001b[1A\u001b[2K\u001b[0G[+] 10.8s\r\n",
      "conda-forge/linux-64 ━━━━━━━━━━━━━━━━━━━━━━  30.7MB @   4.0MB/s Downloaded 10.2s"
     ]
    },
    {
     "name": "stdout",
     "output_type": "stream",
     "text": [
      "\u001b[2K\u001b[1A\u001b[2K\u001b[0G[+] 10.9s\r\n",
      "conda-forge/linux-64 ━━━━━━━━━━━━━━━━━━━━━━  30.7MB @   4.0MB/s Downloaded 10.3s"
     ]
    },
    {
     "name": "stdout",
     "output_type": "stream",
     "text": [
      "\u001b[2K\u001b[1A\u001b[2K\u001b[0G[+] 11.0s\r\n",
      "conda-forge/linux-64 ━━━━━━━━━━━━━━━━━━━━━━  30.7MB @   4.0MB/s Downloaded 10.4s"
     ]
    },
    {
     "name": "stdout",
     "output_type": "stream",
     "text": [
      "\u001b[2K\u001b[1A\u001b[2K\u001b[0G[+] 11.1s\r\n",
      "conda-forge/linux-64 ━━━━━━━━━━━━━━━━━━━━━━  30.7MB @   4.0MB/s Downloaded 10.5s"
     ]
    },
    {
     "name": "stdout",
     "output_type": "stream",
     "text": [
      "\u001b[2K\u001b[1A\u001b[2K\u001b[0G[+] 11.2s\r\n",
      "conda-forge/linux-64 ━━━━━━━━━━━━━━━━━━━━━━  30.7MB @   4.0MB/s Downloaded 10.6s"
     ]
    },
    {
     "name": "stdout",
     "output_type": "stream",
     "text": [
      "\u001b[2K\u001b[1A\u001b[2K\u001b[0G[+] 11.3s\r\n",
      "conda-forge/linux-64 ━━━━━━━━━━━━━━━━━━━━━━  30.7MB @   4.0MB/s Downloaded 10.7s"
     ]
    },
    {
     "name": "stdout",
     "output_type": "stream",
     "text": [
      "\u001b[2K\u001b[1A\u001b[2K\u001b[0G[+] 11.4s\r\n",
      "conda-forge/linux-64 ━━━━━━━━━━━━━━━━━━━━━━  30.7MB @   4.0MB/s Downloaded 10.8s"
     ]
    },
    {
     "name": "stdout",
     "output_type": "stream",
     "text": [
      "\u001b[2K\u001b[1A\u001b[2K\u001b[0G[+] 11.5s\r\n",
      "conda-forge/linux-64 ━━━━━━━━━━━━━━━━━━━━━━  30.7MB @   4.0MB/s Downloaded 10.9s"
     ]
    },
    {
     "name": "stdout",
     "output_type": "stream",
     "text": [
      "\u001b[2K\u001b[1A\u001b[2K\u001b[0G[+] 11.6s\r\n",
      "conda-forge/linux-64 ━━━━━━━━━━━━━━━━━━━━━━  30.7MB @   4.0MB/s Finalizing 11.0s"
     ]
    },
    {
     "name": "stdout",
     "output_type": "stream",
     "text": [
      "\u001b[2K\u001b[1A\u001b[2K\u001b[0G[+] 11.7s\r\n",
      "conda-forge/linux-64 ━━━━━━━━━━━━━━━━━━━━━━  30.7MB @   4.0MB/s Finalizing 11.1s"
     ]
    },
    {
     "name": "stdout",
     "output_type": "stream",
     "text": [
      "\u001b[2K\u001b[1A\u001b[2K\u001b[0G[+] 11.8s\r\n",
      "conda-forge/linux-64 ━━━━━━━━━━━━━━━━━━━━━━  30.7MB @   4.0MB/s Finalizing 11.2s"
     ]
    },
    {
     "name": "stdout",
     "output_type": "stream",
     "text": [
      "\u001b[2K\u001b[1A\u001b[2K\u001b[0G[+] 11.9s\r\n",
      "conda-forge/linux-64 ━━━━━━━━━━━━━━━━━━━━━━  30.7MB @   4.0MB/s Finalizing 11.3s"
     ]
    },
    {
     "name": "stdout",
     "output_type": "stream",
     "text": [
      "\u001b[2K\u001b[1A\u001b[2K\u001b[0G[+] 12.0s\r\n"
     ]
    },
    {
     "name": "stdout",
     "output_type": "stream",
     "text": [
      "\u001b[2K\u001b[1A\u001b[2K\u001b[0G[+] 12.1s\r\n"
     ]
    },
    {
     "name": "stdout",
     "output_type": "stream",
     "text": [
      "\u001b[2K\u001b[1A\u001b[2K\u001b[0G[+] 12.2s\r\n"
     ]
    },
    {
     "name": "stdout",
     "output_type": "stream",
     "text": [
      "\u001b[2K\u001b[1A\u001b[2K\u001b[0G[+] 12.3s\r\n"
     ]
    },
    {
     "name": "stdout",
     "output_type": "stream",
     "text": [
      "\u001b[2K\u001b[1A\u001b[2K\u001b[0Gconda-forge/linux-64                               @   4.0MB/s 11.3s\r\n",
      "\u001b[?25h"
     ]
    },
    {
     "name": "stdout",
     "output_type": "stream",
     "text": [
      "\u001b[33m\u001b[1mwarning  libmamba\u001b[m Extracted package cache '/opt/conda/pkgs/_openmp_mutex-4.5-2_gnu' has invalid url\r\n",
      "\u001b[33m\u001b[1mwarning  libmamba\u001b[m Extracted package cache '/opt/conda/pkgs/xorg-renderproto-0.11.1-h7f98852_1002' has invalid url\r\n",
      "\u001b[33m\u001b[1mwarning  libmamba\u001b[m Extracted package cache '/opt/conda/pkgs/xorg-kbproto-1.0.7-h7f98852_1002' has invalid url\r\n",
      "\u001b[33m\u001b[1mwarning  libmamba\u001b[m Extracted package cache '/opt/conda/pkgs/xorg-xproto-7.0.31-h7f98852_1007' has invalid url\r\n",
      "\u001b[33m\u001b[1mwarning  libmamba\u001b[m Extracted package cache '/opt/conda/pkgs/xorg-libice-1.0.10-h7f98852_0' has invalid url\r\n",
      "\u001b[33m\u001b[1mwarning  libmamba\u001b[m Extracted package cache '/opt/conda/pkgs/pixman-0.40.0-h36c2ea0_0' has invalid url\r\n",
      "\u001b[33m\u001b[1mwarning  libmamba\u001b[m Extracted package cache '/opt/conda/pkgs/pthread-stubs-0.4-h36c2ea0_1001' has invalid url\r\n",
      "\u001b[33m\u001b[1mwarning  libmamba\u001b[m Extracted package cache '/opt/conda/pkgs/xorg-libxau-1.0.9-h7f98852_0' has invalid url\r\n",
      "\u001b[33m\u001b[1mwarning  libmamba\u001b[m Extracted package cache '/opt/conda/pkgs/xorg-libxdmcp-1.1.3-h7f98852_0' has invalid url\r\n",
      "\u001b[33m\u001b[1mwarning  libmamba\u001b[m Extracted package cache '/opt/conda/pkgs/libsodium-1.0.18-h36c2ea0_1' has invalid url\r\n",
      "\u001b[33m\u001b[1mwarning  libmamba\u001b[m Extracted package cache '/opt/conda/pkgs/graphite2-1.3.13-h58526e2_1001' has invalid url\r\n"
     ]
    },
    {
     "name": "stdout",
     "output_type": "stream",
     "text": [
      "\u001b[33m\u001b[1mwarning  libmamba\u001b[m Extracted package cache '/opt/conda/pkgs/icu-70.1-h27087fc_0' has invalid url\r\n",
      "\u001b[33m\u001b[1mwarning  libmamba\u001b[m Extracted package cache '/opt/conda/pkgs/c-ares-1.18.1-h7f98852_0' has invalid url\r\n",
      "\u001b[33m\u001b[1mwarning  libmamba\u001b[m Extracted package cache '/opt/conda/pkgs/libev-4.33-h516909a_1' has invalid url\r\n",
      "\u001b[33m\u001b[1mwarning  libmamba\u001b[m Extracted package cache '/opt/conda/pkgs/libnsl-2.0.0-h7f98852_0' has invalid url\r\n",
      "\u001b[33m\u001b[1mwarning  libmamba\u001b[m Extracted package cache '/opt/conda/pkgs/libffi-3.4.2-h7f98852_5' has invalid url\r\n",
      "\u001b[33m\u001b[1mwarning  libmamba\u001b[m Extracted package cache '/opt/conda/pkgs/keyutils-1.6.1-h166bdaf_0' has invalid url\r\n",
      "\u001b[33m\u001b[1mwarning  libmamba\u001b[m Extracted package cache '/opt/conda/pkgs/bzip2-1.0.8-h7f98852_4' has invalid url\r\n",
      "\u001b[33m\u001b[1mwarning  libmamba\u001b[m Extracted package cache '/opt/conda/pkgs/libxcb-1.13-h7f98852_1004' has invalid url\r\n",
      "\u001b[33m\u001b[1mwarning  libmamba\u001b[m Extracted package cache '/opt/conda/pkgs/zeromq-4.3.4-h9c3ff4c_1' has invalid url\r\n",
      "\u001b[33m\u001b[1mwarning  libmamba\u001b[m Extracted package cache '/opt/conda/pkgs/xorg-libsm-1.2.3-hd9c2040_1000' has invalid url\r\n",
      "\u001b[33m\u001b[1mwarning  libmamba\u001b[m Extracted package cache '/opt/conda/pkgs/xorg-libxrender-0.9.10-h7f98852_1003' has invalid url\r\n",
      "\u001b[33m\u001b[1mwarning  libmamba\u001b[m Extracted package cache '/opt/conda/pkgs/font-ttf-inconsolata-3.000-h77eed37_0' has invalid url\r\n",
      "\u001b[33m\u001b[1mwarning  libmamba\u001b[m Extracted package cache '/opt/conda/pkgs/font-ttf-dejavu-sans-mono-2.37-hab24e00_0' has invalid url\r\n",
      "\u001b[33m\u001b[1mwarning  libmamba\u001b[m Extracted package cache '/opt/conda/pkgs/font-ttf-source-code-pro-2.038-h77eed37_0' has invalid url\r\n",
      "\u001b[33m\u001b[1mwarning  libmamba\u001b[m Extracted package cache '/opt/conda/pkgs/font-ttf-ubuntu-0.83-hab24e00_0' has invalid url\r\n",
      "\u001b[33m\u001b[1mwarning  libmamba\u001b[m Extracted package cache '/opt/conda/pkgs/fonts-conda-forge-1-0' has invalid url\r\n",
      "\u001b[33m\u001b[1mwarning  libmamba\u001b[m Extracted package cache '/opt/conda/pkgs/fonts-conda-ecosystem-1-0' has invalid url\r\n"
     ]
    },
    {
     "name": "stdout",
     "output_type": "stream",
     "text": [
      "\u001b[33m\u001b[1mwarning  libmamba\u001b[m Extracted package cache '/opt/conda/pkgs/libevent-2.1.10-h9b69904_4' has invalid url\r\n",
      "\u001b[33m\u001b[1mwarning  libmamba\u001b[m Extracted package cache '/opt/conda/pkgs/tk-8.6.12-h27826a3_0' has invalid url\r\n",
      "\u001b[33m\u001b[1mwarning  libmamba\u001b[m Extracted package cache '/opt/conda/pkgs/parso-0.8.3-pyhd8ed1ab_0' has invalid url\r\n",
      "\u001b[33m\u001b[1mwarning  libmamba\u001b[m Extracted package cache '/opt/conda/pkgs/ptyprocess-0.7.0-pyhd3deb0d_0' has invalid url\r\n",
      "\u001b[33m\u001b[1mwarning  libmamba\u001b[m Extracted package cache '/opt/conda/pkgs/pickleshare-0.7.5-py_1003' has invalid url\r\n",
      "\u001b[33m\u001b[1mwarning  libmamba\u001b[m Extracted package cache '/opt/conda/pkgs/decorator-5.1.1-pyhd8ed1ab_0' has invalid url\r\n",
      "\u001b[33m\u001b[1mwarning  libmamba\u001b[m Extracted package cache '/opt/conda/pkgs/backcall-0.2.0-pyh9f0ad1d_0' has invalid url\r\n",
      "\u001b[33m\u001b[1mwarning  libmamba\u001b[m Extracted package cache '/opt/conda/pkgs/send2trash-1.8.0-pyhd8ed1ab_0' has invalid url\r\n",
      "\u001b[33m\u001b[1mwarning  libmamba\u001b[m Extracted package cache '/opt/conda/pkgs/backports.functools_lru_cache-1.6.4-pyhd8ed1ab_0' has invalid url\r\n"
     ]
    },
    {
     "name": "stdout",
     "output_type": "stream",
     "text": [
      "\u001b[33m\u001b[1mwarning  libmamba\u001b[m Extracted package cache '/opt/conda/pkgs/python-dateutil-2.8.2-pyhd8ed1ab_0' has invalid url\r\n"
     ]
    },
    {
     "name": "stdout",
     "output_type": "stream",
     "text": [
      "\u001b[33m\u001b[1mwarning  libmamba\u001b[m Extracted package cache '/opt/conda/pkgs/jinja2-3.1.2-pyhd8ed1ab_1' has invalid url\r\n"
     ]
    },
    {
     "name": "stdout",
     "output_type": "stream",
     "text": [
      "Transaction\r\n",
      "\r\n",
      "  Prefix: /opt/conda/envs/py310\r\n",
      "\r\n",
      "  Updating specs:\r\n",
      "\r\n",
      "   - python\r\n",
      "   - jupyter\r\n",
      "   - mamba\r\n",
      "\r\n",
      "\r\n",
      "  Package                               Version  Build               Channel                    Size\r\n",
      "──────────────────────────────────────────────────────────────────────────────────────────────────────\r\n",
      "  Install:\r\n",
      "──────────────────────────────────────────────────────────────────────────────────────────────────────\r\n",
      "\r\n",
      "\u001b[32m  + _libgcc_mutex                \u001b[00m           0.1  conda_forge         cctbx202208/linux-64        3kB\r\n",
      "\u001b[32m  + _openmp_mutex                \u001b[00m           4.5  2_gnu               cctbx202208/linux-64       24kB\r\n",
      "\u001b[32m  + alsa-lib                     \u001b[00m         1.2.8  h166bdaf_0          conda-forge/linux-64      592kB\r\n",
      "\u001b[32m  + anyio                        \u001b[00m         3.6.2  pyhd8ed1ab_0        conda-forge/noarch  \u001b[32m     Cached\u001b[00m\r\n",
      "\u001b[32m  + argon2-cffi                  \u001b[00m        21.3.0  pyhd8ed1ab_0        conda-forge/noarch  \u001b[32m     Cached\u001b[00m\r\n",
      "\u001b[32m  + argon2-cffi-bindings         \u001b[00m        21.2.0  py310h5764c6d_3     conda-forge/linux-64       35kB\r\n",
      "\u001b[32m  + asttokens                    \u001b[00m         2.0.5  pyhd8ed1ab_0        cctbx202208/noarch         22kB\r\n",
      "\u001b[32m  + attr                         \u001b[00m         2.5.1  h166bdaf_1          conda-forge/linux-64       71kB\r\n",
      "\u001b[32m  + attrs                        \u001b[00m        22.1.0  pyh71513ae_1        cctbx202208/noarch         49kB\r\n",
      "\u001b[32m  + backcall                     \u001b[00m         0.2.0  pyh9f0ad1d_0        cctbx202208/noarch         14kB\r\n",
      "\u001b[32m  + backports                    \u001b[00m           1.0  py_2                cctbx202208/noarch          4kB\r\n",
      "\u001b[32m  + backports.functools_lru_cache\u001b[00m         1.6.4  pyhd8ed1ab_0        cctbx202208/noarch          9kB\r\n",
      "\u001b[32m  + beautifulsoup4               \u001b[00m        4.12.1  pyha770c72_0        conda-forge/noarch        114kB\r\n",
      "\u001b[32m  + bleach                       \u001b[00m         6.0.0  pyhd8ed1ab_0        conda-forge/noarch        131kB\r\n",
      "\u001b[32m  + boltons                      \u001b[00m        23.0.0  pyhd8ed1ab_0        conda-forge/noarch        303kB\r\n",
      "\u001b[32m  + brotlipy                     \u001b[00m         0.7.0  py310h5764c6d_1004  cctbx202208/linux-64      350kB\r\n",
      "\u001b[32m  + bzip2                        \u001b[00m         1.0.8  h7f98852_4          cctbx202208/linux-64      496kB\r\n",
      "\u001b[32m  + c-ares                       \u001b[00m        1.18.1  h7f98852_0          cctbx202208/linux-64      115kB\r\n",
      "\u001b[32m  + ca-certificates              \u001b[00m     2022.6.15  ha878542_0          cctbx202208/linux-64      153kB\r\n",
      "\u001b[32m  + cairo                        \u001b[00m        1.16.0  ha61ee94_1011       cctbx202208/linux-64        2MB\r\n",
      "\u001b[32m  + certifi                      \u001b[00m     2022.6.15  py310hff52083_0     cctbx202208/linux-64      159kB\r\n",
      "\u001b[32m  + cffi                         \u001b[00m        1.15.1  py310h255011f_0     cctbx202208/linux-64      237kB\r\n",
      "\u001b[32m  + charset-normalizer           \u001b[00m         2.1.0  pyhd8ed1ab_0        cctbx202208/noarch         36kB\r\n",
      "\u001b[32m  + colorama                     \u001b[00m         0.4.5  pyhd8ed1ab_0        cctbx202208/noarch         19kB\r\n",
      "\u001b[32m  + comm                         \u001b[00m         0.1.3  pyhd8ed1ab_0        conda-forge/noarch         11kB\r\n",
      "\u001b[32m  + conda                        \u001b[00m        23.3.1  py310hff52083_0     conda-forge/linux-64      964kB\r\n",
      "\u001b[32m  + conda-package-handling       \u001b[00m         2.0.2  pyh38be061_0        conda-forge/noarch  \u001b[32m     Cached\u001b[00m\r\n",
      "\u001b[32m  + conda-package-streaming      \u001b[00m         0.7.0  pyhd8ed1ab_1        conda-forge/noarch  \u001b[32m     Cached\u001b[00m\r\n",
      "\u001b[32m  + cryptography                 \u001b[00m        37.0.4  py310h597c629_0     cctbx202208/linux-64        2MB\r\n",
      "\u001b[32m  + dbus                         \u001b[00m        1.13.6  h5008d03_3          cctbx202208/linux-64      619kB\r\n",
      "\u001b[32m  + debugpy                      \u001b[00m         1.6.7  py310heca2aa9_0     conda-forge/linux-64        2MB\r\n",
      "\u001b[32m  + decorator                    \u001b[00m         5.1.1  pyhd8ed1ab_0        cctbx202208/noarch         12kB\r\n",
      "\u001b[32m  + defusedxml                   \u001b[00m         0.7.1  pyhd8ed1ab_0        conda-forge/noarch  \u001b[32m     Cached\u001b[00m\r\n",
      "\u001b[32m  + entrypoints                  \u001b[00m           0.4  pyhd8ed1ab_0        conda-forge/noarch  \u001b[32m     Cached\u001b[00m\r\n",
      "\u001b[32m  + executing                    \u001b[00m         0.9.1  pyhd8ed1ab_0        cctbx202208/noarch         19kB\r\n",
      "\u001b[32m  + expat                        \u001b[00m         2.5.0  hcb278e6_1          conda-forge/linux-64      137kB\r\n",
      "\u001b[32m  + fftw                         \u001b[00m        3.3.10  nompi_ha7695d1_103  cctbx202208/linux-64        7MB\r\n",
      "\u001b[32m  + flit-core                    \u001b[00m         3.8.0  pyhd8ed1ab_0        conda-forge/noarch  \u001b[32m     Cached\u001b[00m\r\n",
      "\u001b[32m  + fmt                          \u001b[00m         9.1.0  h924138e_0          conda-forge/linux-64      190kB\r\n",
      "\u001b[32m  + font-ttf-dejavu-sans-mono    \u001b[00m          2.37  hab24e00_0          cctbx202208/noarch        397kB\r\n",
      "\u001b[32m  + font-ttf-inconsolata         \u001b[00m         3.000  h77eed37_0          cctbx202208/noarch         97kB\r\n",
      "\u001b[32m  + font-ttf-source-code-pro     \u001b[00m         2.038  h77eed37_0          cctbx202208/noarch        701kB\r\n",
      "\u001b[32m  + font-ttf-ubuntu              \u001b[00m          0.83  hab24e00_0          cctbx202208/noarch          2MB\r\n",
      "\u001b[32m  + fontconfig                   \u001b[00m        2.14.2  h14ed4e7_0          conda-forge/linux-64\u001b[32m     Cached\u001b[00m\r\n",
      "\u001b[32m  + fonts-conda-ecosystem        \u001b[00m             1  0                   cctbx202208/noarch          4kB\r\n",
      "\u001b[32m  + fonts-conda-forge            \u001b[00m             1  0                   cctbx202208/noarch          4kB\r\n",
      "\u001b[32m  + freetype                     \u001b[00m        2.12.1  hca18f0e_1          conda-forge/linux-64\u001b[32m     Cached\u001b[00m\r\n",
      "\u001b[32m  + gettext                      \u001b[00m        0.21.1  h27087fc_0          conda-forge/linux-64\u001b[32m     Cached\u001b[00m\r\n",
      "\u001b[32m  + glib                         \u001b[00m        2.74.1  h6239696_1          conda-forge/linux-64      486kB\r\n",
      "\u001b[32m  + glib-tools                   \u001b[00m        2.74.1  h6239696_1          conda-forge/linux-64      109kB\r\n",
      "\u001b[32m  + graphite2                    \u001b[00m        1.3.13  h58526e2_1001       cctbx202208/linux-64      105kB\r\n",
      "\u001b[32m  + gst-plugins-base             \u001b[00m        1.21.3  h4243ec0_1          conda-forge/linux-64        3MB\r\n",
      "\u001b[32m  + gstreamer                    \u001b[00m        1.21.3  h25f0c4b_1          conda-forge/linux-64        2MB\r\n",
      "\u001b[32m  + gstreamer-orc                \u001b[00m        0.4.33  h166bdaf_0          conda-forge/linux-64      306kB\r\n",
      "\u001b[32m  + harfbuzz                     \u001b[00m         6.0.0  h8e241bc_0          conda-forge/linux-64\u001b[32m     Cached\u001b[00m\r\n",
      "\u001b[32m  + icu                          \u001b[00m          70.1  h27087fc_0          cctbx202208/linux-64       14MB\r\n",
      "\u001b[32m  + idna                         \u001b[00m           3.3  pyhd8ed1ab_0        cctbx202208/noarch         56kB\r\n",
      "\u001b[32m  + importlib-metadata           \u001b[00m        4.11.4  py310hff52083_0     cctbx202208/linux-64       34kB\r\n",
      "\u001b[32m  + importlib_metadata           \u001b[00m        4.11.4  hd8ed1ab_0          cctbx202208/noarch          4kB\r\n",
      "\u001b[32m  + importlib_resources          \u001b[00m         5.9.0  pyhd8ed1ab_0        cctbx202208/noarch         28kB\r\n",
      "\u001b[32m  + ipykernel                    \u001b[00m        6.22.0  pyh210e3f2_0        conda-forge/noarch        112kB\r\n",
      "\u001b[32m  + ipython                      \u001b[00m         8.4.0  py310hff52083_0     cctbx202208/linux-64        1MB\r\n",
      "\u001b[32m  + ipython_genutils             \u001b[00m         0.2.0  py_1                conda-forge/noarch  \u001b[32m     Cached\u001b[00m\r\n",
      "\u001b[32m  + ipywidgets                   \u001b[00m         8.0.6  pyhd8ed1ab_0        conda-forge/noarch        112kB\r\n",
      "\u001b[32m  + jack                         \u001b[00m        1.9.22  h11f4161_0          conda-forge/linux-64      464kB\r\n",
      "\u001b[32m  + jedi                         \u001b[00m        0.18.1  pyhd8ed1ab_2        cctbx202208/noarch        818kB\r\n",
      "\u001b[32m  + jinja2                       \u001b[00m         3.1.2  pyhd8ed1ab_1        cctbx202208/noarch        101kB\r\n",
      "\u001b[32m  + jpeg                         \u001b[00m            9e  h166bdaf_2          cctbx202208/linux-64      275kB\r\n",
      "\u001b[32m  + jsonpatch                    \u001b[00m          1.32  pyhd8ed1ab_0        conda-forge/noarch         15kB\r\n",
      "\u001b[32m  + jsonpointer                  \u001b[00m           2.0  py_0                conda-forge/noarch          9kB\r\n",
      "\u001b[32m  + jsonschema                   \u001b[00m        4.17.3  pyhd8ed1ab_0        conda-forge/noarch  \u001b[32m     Cached\u001b[00m\r\n",
      "\u001b[32m  + jupyter                      \u001b[00m         1.0.0  py310hff52083_8     conda-forge/linux-64        8kB\r\n",
      "\u001b[32m  + jupyter_client               \u001b[00m         8.1.0  pyhd8ed1ab_0        conda-forge/noarch        104kB\r\n",
      "\u001b[32m  + jupyter_console              \u001b[00m         6.6.3  pyhd8ed1ab_0        conda-forge/noarch         26kB\r\n",
      "\u001b[32m  + jupyter_core                 \u001b[00m         5.3.0  py310hff52083_0     conda-forge/linux-64       91kB\r\n",
      "\u001b[32m  + jupyter_server               \u001b[00m        1.23.6  pyhd8ed1ab_0        conda-forge/noarch        244kB\r\n",
      "\u001b[32m  + jupyterlab_pygments          \u001b[00m         0.2.2  pyhd8ed1ab_0        conda-forge/noarch  \u001b[32m     Cached\u001b[00m\r\n",
      "\u001b[32m  + jupyterlab_widgets           \u001b[00m         3.0.7  pyhd8ed1ab_0        conda-forge/noarch        173kB\r\n",
      "\u001b[32m  + keyutils                     \u001b[00m         1.6.1  h166bdaf_0          cctbx202208/linux-64      118kB\r\n",
      "\u001b[32m  + krb5                         \u001b[00m        1.20.1  hf9c8cef_0          conda-forge/linux-64\u001b[32m     Cached\u001b[00m\r\n",
      "\u001b[32m  + lame                         \u001b[00m         3.100  h166bdaf_1003       conda-forge/linux-64      508kB\r\n",
      "\u001b[32m  + ld_impl_linux-64             \u001b[00m        2.36.1  hea4e1c9_2          cctbx202208/linux-64      683kB\r\n",
      "\u001b[32m  + libarchive                   \u001b[00m         3.6.2  hc8874e4_0          conda-forge/linux-64      834kB\r\n",
      "\u001b[32m  + libcap                       \u001b[00m          2.66  ha37c62d_0          conda-forge/linux-64      100kB\r\n",
      "\u001b[32m  + libclang                     \u001b[00m        15.0.7  default_had23c3d_1  conda-forge/linux-64      133kB\r\n",
      "\u001b[32m  + libclang13                   \u001b[00m        15.0.7  default_h3e3d535_1  conda-forge/linux-64       10MB\r\n",
      "\u001b[32m  + libcups                      \u001b[00m         2.3.3  h36d4200_3          conda-forge/linux-64        5MB\r\n",
      "\u001b[32m  + libcurl                      \u001b[00m        7.87.0  h6312ad2_0          conda-forge/linux-64\u001b[32m     Cached\u001b[00m\r\n",
      "\u001b[32m  + libdb                        \u001b[00m        6.2.32  h9c3ff4c_0          cctbx202208/linux-64       24MB\r\n",
      "\u001b[32m  + libedit                      \u001b[00m  3.1.20191231  he28a2e2_2          conda-forge/linux-64\u001b[32m     Cached\u001b[00m\r\n",
      "\u001b[32m  + libev                        \u001b[00m          4.33  h516909a_1          cctbx202208/linux-64      106kB\r\n",
      "\u001b[32m  + libevent                     \u001b[00m        2.1.10  h9b69904_4          cctbx202208/linux-64        1MB\r\n",
      "\u001b[32m  + libexpat                     \u001b[00m         2.5.0  hcb278e6_1          conda-forge/linux-64       78kB\r\n",
      "\u001b[32m  + libffi                       \u001b[00m         3.4.2  h7f98852_5          cctbx202208/linux-64       58kB\r\n",
      "\u001b[32m  + libflac                      \u001b[00m         1.4.2  h27087fc_0          conda-forge/linux-64      421kB\r\n",
      "\u001b[32m  + libgcc-ng                    \u001b[00m        12.1.0  h8d9b700_16         cctbx202208/linux-64      963kB\r\n",
      "\u001b[32m  + libgcrypt                    \u001b[00m        1.10.1  h166bdaf_0          conda-forge/linux-64      720kB\r\n",
      "\u001b[32m  + libgfortran-ng               \u001b[00m        12.1.0  h69a702a_16         cctbx202208/linux-64       23kB\r\n",
      "\u001b[32m  + libgfortran5                 \u001b[00m        12.1.0  hdcd56e2_16         cctbx202208/linux-64        2MB\r\n",
      "\u001b[32m  + libglib                      \u001b[00m        2.74.1  h606061b_1          conda-forge/linux-64\u001b[32m     Cached\u001b[00m\r\n",
      "\u001b[32m  + libgomp                      \u001b[00m        12.1.0  h8d9b700_16         cctbx202208/linux-64      470kB\r\n",
      "\u001b[32m  + libgpg-error                 \u001b[00m          1.46  h620e276_0          conda-forge/linux-64      258kB\r\n",
      "\u001b[32m  + libiconv                     \u001b[00m          1.17  h166bdaf_0          conda-forge/linux-64\u001b[32m     Cached\u001b[00m\r\n",
      "\u001b[32m  + libllvm15                    \u001b[00m        15.0.7  hadd5161_1          conda-forge/linux-64       33MB\r\n",
      "\u001b[32m  + libmamba                     \u001b[00m         1.2.0  habaa8ee_0          conda-forge/linux-64        1MB\r\n",
      "\u001b[32m  + libmambapy                   \u001b[00m         1.2.0  py310h4d5d8b6_0     conda-forge/linux-64      269kB\r\n",
      "\u001b[32m  + libnghttp2                   \u001b[00m        1.47.0  h727a467_0          cctbx202208/linux-64      827kB\r\n",
      "\u001b[32m  + libnsl                       \u001b[00m         2.0.0  h7f98852_0          cctbx202208/linux-64       31kB\r\n",
      "\u001b[32m  + libogg                       \u001b[00m         1.3.4  h7f98852_1          cctbx202208/linux-64      211kB\r\n",
      "\u001b[32m  + libopus                      \u001b[00m         1.3.1  h7f98852_1          cctbx202208/linux-64      261kB\r\n",
      "\u001b[32m  + libpng                       \u001b[00m        1.6.39  h753d276_0          conda-forge/linux-64\u001b[32m     Cached\u001b[00m\r\n",
      "\u001b[32m  + libpq                        \u001b[00m          15.1  h2baec63_3          conda-forge/linux-64        2MB\r\n",
      "\u001b[32m  + libsndfile                   \u001b[00m         1.2.0  hb75c966_0          conda-forge/linux-64      350kB\r\n",
      "\u001b[32m  + libsodium                    \u001b[00m        1.0.18  h36c2ea0_1          cctbx202208/linux-64      375kB\r\n",
      "\u001b[32m  + libsolv                      \u001b[00m        0.7.23  h3eb15da_0          conda-forge/linux-64\u001b[32m     Cached\u001b[00m\r\n",
      "\u001b[32m  + libsqlite                    \u001b[00m        3.40.0  h753d276_0          conda-forge/linux-64\u001b[32m     Cached\u001b[00m\r\n",
      "\u001b[32m  + libssh2                      \u001b[00m        1.10.0  ha56f1ee_2          cctbx202208/linux-64      238kB\r\n",
      "\u001b[32m  + libstdcxx-ng                 \u001b[00m        12.1.0  ha89aaad_16         cctbx202208/linux-64        4MB\r\n",
      "\u001b[32m  + libsystemd0                  \u001b[00m           252  h2a991cd_0          conda-forge/linux-64      393kB\r\n",
      "\u001b[32m  + libtool                      \u001b[00m         2.4.7  h27087fc_0          conda-forge/linux-64\u001b[32m     Cached\u001b[00m\r\n",
      "\u001b[32m  + libudev1                     \u001b[00m           253  h0b41bf4_0          conda-forge/linux-64      119kB\r\n",
      "\u001b[32m  + libuuid                      \u001b[00m        2.32.1  h7f98852_1000       cctbx202208/linux-64       28kB\r\n",
      "\u001b[32m  + libvorbis                    \u001b[00m         1.3.7  h9c3ff4c_0          cctbx202208/linux-64      286kB\r\n",
      "\u001b[32m  + libxcb                       \u001b[00m          1.13  h7f98852_1004       cctbx202208/linux-64      400kB\r\n",
      "\u001b[32m  + libxkbcommon                 \u001b[00m         1.5.0  h79f4944_1          conda-forge/linux-64      563kB\r\n",
      "\u001b[32m  + libxml2                      \u001b[00m        2.10.3  hca2bb57_4          conda-forge/linux-64\u001b[32m     Cached\u001b[00m\r\n",
      "\u001b[32m  + libzlib                      \u001b[00m        1.2.13  h166bdaf_4          conda-forge/linux-64\u001b[32m     Cached\u001b[00m\r\n",
      "\u001b[32m  + lz4-c                        \u001b[00m         1.9.3  h9c3ff4c_1          cctbx202208/linux-64      184kB\r\n",
      "\u001b[32m  + lzo                          \u001b[00m          2.10  h516909a_1000       conda-forge/linux-64\u001b[32m     Cached\u001b[00m\r\n",
      "\u001b[32m  + mamba                        \u001b[00m         1.2.0  py310hf87f941_0     conda-forge/linux-64       51kB\r\n",
      "\u001b[32m  + markupsafe                   \u001b[00m         2.1.1  py310h5764c6d_1     cctbx202208/linux-64       23kB\r\n",
      "\u001b[32m  + matplotlib-inline            \u001b[00m         0.1.3  pyhd8ed1ab_0        cctbx202208/noarch         11kB\r\n",
      "\u001b[32m  + mistune                      \u001b[00m         2.0.5  pyhd8ed1ab_0        conda-forge/noarch         74kB\r\n",
      "\u001b[32m  + mpg123                       \u001b[00m        1.31.3  hcb278e6_0          conda-forge/linux-64      485kB\r\n",
      "\u001b[32m  + mysql-common                 \u001b[00m        8.0.32  h14678bc_0          conda-forge/linux-64      803kB\r\n",
      "\u001b[32m  + mysql-libs                   \u001b[00m        8.0.32  h54cf53e_0          conda-forge/linux-64        2MB\r\n",
      "\u001b[32m  + nbclassic                    \u001b[00m         0.5.5  pyhb4ecaf3_1        conda-forge/noarch          6MB\r\n",
      "\u001b[32m  + nbclient                     \u001b[00m         0.7.3  pyhd8ed1ab_0        conda-forge/noarch         64kB\r\n",
      "\u001b[32m  + nbconvert                    \u001b[00m         7.3.0  pyhd8ed1ab_2        conda-forge/noarch          8kB\r\n",
      "\u001b[32m  + nbconvert-core               \u001b[00m         7.3.0  pyhd8ed1ab_2        conda-forge/noarch        207kB\r\n",
      "\u001b[32m  + nbconvert-pandoc             \u001b[00m         7.3.0  pyhd8ed1ab_2        conda-forge/noarch          7kB\r\n",
      "\u001b[32m  + nbformat                     \u001b[00m         5.8.0  pyhd8ed1ab_0        conda-forge/noarch        101kB\r\n",
      "\u001b[32m  + ncurses                      \u001b[00m           6.3  h27087fc_1          cctbx202208/linux-64        1MB\r\n",
      "\u001b[32m  + nest-asyncio                 \u001b[00m         1.5.6  pyhd8ed1ab_0        conda-forge/noarch  \u001b[32m     Cached\u001b[00m\r\n",
      "\u001b[32m  + notebook                     \u001b[00m         6.5.3  pyha770c72_0        conda-forge/noarch        307kB\r\n",
      "\u001b[32m  + notebook-shim                \u001b[00m         0.2.2  pyhd8ed1ab_0        conda-forge/noarch  \u001b[32m     Cached\u001b[00m\r\n",
      "\u001b[32m  + nspr                         \u001b[00m          4.35  h27087fc_0          conda-forge/linux-64      227kB\r\n",
      "\u001b[32m  + nss                          \u001b[00m          3.89  he45b914_0          conda-forge/linux-64        2MB\r\n",
      "\u001b[32m  + openssl                      \u001b[00m        1.1.1t  h0b41bf4_0          conda-forge/linux-64\u001b[32m     Cached\u001b[00m\r\n",
      "\u001b[32m  + packaging                    \u001b[00m          23.0  pyhd8ed1ab_0        conda-forge/noarch  \u001b[32m     Cached\u001b[00m\r\n",
      "\u001b[32m  + pandoc                       \u001b[00m        2.19.2  h32600fe_2          conda-forge/linux-64       27MB\r\n",
      "\u001b[32m  + pandocfilters                \u001b[00m         1.5.0  pyhd8ed1ab_0        conda-forge/noarch  \u001b[32m     Cached\u001b[00m\r\n",
      "\u001b[32m  + parso                        \u001b[00m         0.8.3  pyhd8ed1ab_0        cctbx202208/noarch         71kB\r\n",
      "\u001b[32m  + pcre2                        \u001b[00m         10.40  hc3806b6_0          conda-forge/linux-64\u001b[32m     Cached\u001b[00m\r\n",
      "\u001b[32m  + pexpect                      \u001b[00m         4.8.0  pyh9f0ad1d_2        cctbx202208/noarch         48kB\r\n",
      "\u001b[32m  + pickleshare                  \u001b[00m         0.7.5  py_1003             cctbx202208/noarch          9kB\r\n",
      "\u001b[32m  + pip                          \u001b[00m        22.2.2  pyhd8ed1ab_0        cctbx202208/noarch          2MB\r\n",
      "\u001b[32m  + pixman                       \u001b[00m        0.40.0  h36c2ea0_0          cctbx202208/linux-64      643kB\r\n",
      "\u001b[32m  + pkgutil-resolve-name         \u001b[00m        1.3.10  pyhd8ed1ab_0        conda-forge/noarch  \u001b[32m     Cached\u001b[00m\r\n",
      "\u001b[32m  + platformdirs                 \u001b[00m         2.6.0  pyhd8ed1ab_0        conda-forge/noarch         17kB\r\n",
      "\u001b[32m  + pluggy                       \u001b[00m         1.0.0  py310hff52083_3     cctbx202208/linux-64       26kB\r\n",
      "\u001b[32m  + ply                          \u001b[00m          3.11  py_1                conda-forge/noarch         45kB\r\n",
      "\u001b[32m  + prometheus_client            \u001b[00m        0.16.0  pyhd8ed1ab_0        conda-forge/noarch         52kB\r\n",
      "\u001b[32m  + prompt-toolkit               \u001b[00m        3.0.38  pyha770c72_0        conda-forge/noarch        269kB\r\n",
      "\u001b[32m  + prompt_toolkit               \u001b[00m        3.0.38  hd8ed1ab_0          conda-forge/noarch          6kB\r\n",
      "\u001b[32m  + psutil                       \u001b[00m         5.9.1  py310h5764c6d_0     cctbx202208/linux-64      359kB\r\n",
      "\u001b[32m  + pthread-stubs                \u001b[00m           0.4  h36c2ea0_1001       cctbx202208/linux-64        6kB\r\n",
      "\u001b[32m  + ptyprocess                   \u001b[00m         0.7.0  pyhd3deb0d_0        cctbx202208/noarch         17kB\r\n",
      "\u001b[32m  + pulseaudio                   \u001b[00m          16.1  h4ab2085_1          conda-forge/linux-64        2MB\r\n",
      "\u001b[32m  + pure_eval                    \u001b[00m         0.2.2  pyhd8ed1ab_0        cctbx202208/noarch         15kB\r\n",
      "\u001b[32m  + pybind11-abi                 \u001b[00m             4  hd8ed1ab_3          conda-forge/noarch  \u001b[32m     Cached\u001b[00m\r\n",
      "\u001b[32m  + pycosat                      \u001b[00m         0.6.4  py310h5764c6d_1     conda-forge/linux-64      111kB\r\n",
      "\u001b[32m  + pycparser                    \u001b[00m          2.21  pyhd8ed1ab_0        cctbx202208/noarch        103kB\r\n",
      "\u001b[32m  + pygments                     \u001b[00m        2.12.0  pyhd8ed1ab_0        cctbx202208/noarch        837kB\r\n",
      "\u001b[32m  + pyopenssl                    \u001b[00m        22.0.0  pyhd8ed1ab_0        cctbx202208/noarch         50kB\r\n",
      "\u001b[32m  + pyqt                         \u001b[00m        5.15.7  py310hab646b1_3     conda-forge/linux-64        5MB\r\n",
      "\u001b[32m  + pyqt5-sip                    \u001b[00m       12.11.0  py310heca2aa9_3     conda-forge/linux-64       85kB\r\n",
      "\u001b[32m  + pyrsistent                   \u001b[00m        0.19.3  py310h1fa729e_0     conda-forge/linux-64      100kB\r\n",
      "\u001b[32m  + pysocks                      \u001b[00m         1.7.1  py310hff52083_5     cctbx202208/linux-64       29kB\r\n",
      "\u001b[32m  + python                       \u001b[00m        3.10.5  h582c2e5_0_cpython  cctbx202208/linux-64       30MB\r\n",
      "\u001b[32m  + python-dateutil              \u001b[00m         2.8.2  pyhd8ed1ab_0        cctbx202208/noarch        246kB\r\n",
      "\u001b[32m  + python-fastjsonschema        \u001b[00m        2.16.3  pyhd8ed1ab_0        conda-forge/noarch        225kB\r\n",
      "\u001b[32m  + python_abi                   \u001b[00m          3.10  2_cp310             cctbx202208/linux-64        4kB\r\n",
      "\u001b[32m  + pyzmq                        \u001b[00m        23.2.0  py310h330234f_0     cctbx202208/linux-64      497kB\r\n",
      "\u001b[32m  + qt-main                      \u001b[00m        5.15.6  h18908ee_6          conda-forge/linux-64       55MB\r\n",
      "\u001b[32m  + qtconsole                    \u001b[00m         5.4.2  pyhd8ed1ab_0        conda-forge/noarch          7kB\r\n",
      "\u001b[32m  + qtconsole-base               \u001b[00m         5.4.2  pyha770c72_0        conda-forge/noarch         98kB\r\n",
      "\u001b[32m  + qtpy                         \u001b[00m         2.3.1  pyhd8ed1ab_0        conda-forge/noarch         56kB\r\n",
      "\u001b[32m  + readline                     \u001b[00m         8.1.2  h0f457ee_0          cctbx202208/linux-64      298kB\r\n",
      "\u001b[32m  + reproc                       \u001b[00m        14.2.4  h0b41bf4_0          conda-forge/linux-64\u001b[32m     Cached\u001b[00m\r\n",
      "\u001b[32m  + reproc-cpp                   \u001b[00m        14.2.4  hcb278e6_0          conda-forge/linux-64\u001b[32m     Cached\u001b[00m\r\n",
      "\u001b[32m  + requests                     \u001b[00m        2.28.1  pyhd8ed1ab_0        cctbx202208/noarch         54kB\r\n",
      "\u001b[32m  + ruamel.yaml                  \u001b[00m       0.17.21  py310h1fa729e_3     conda-forge/linux-64      190kB\r\n",
      "\u001b[32m  + ruamel.yaml.clib             \u001b[00m         0.2.7  py310h1fa729e_1     conda-forge/linux-64      135kB\r\n",
      "\u001b[32m  + send2trash                   \u001b[00m         1.8.0  pyhd8ed1ab_0        cctbx202208/noarch         18kB\r\n",
      "\u001b[32m  + setuptools                   \u001b[00m        59.8.0  py310hff52083_1     cctbx202208/linux-64        1MB\r\n",
      "\u001b[32m  + sip                          \u001b[00m         6.7.7  py310heca2aa9_1     conda-forge/linux-64      492kB\r\n",
      "\u001b[32m  + six                          \u001b[00m        1.16.0  pyh6c4a22f_0        cctbx202208/noarch         14kB\r\n",
      "\u001b[32m  + sniffio                      \u001b[00m         1.3.0  pyhd8ed1ab_0        conda-forge/noarch  \u001b[32m     Cached\u001b[00m\r\n",
      "\u001b[32m  + soupsieve                    \u001b[00m   2.3.2.post1  pyhd8ed1ab_0        conda-forge/noarch  \u001b[32m     Cached\u001b[00m\r\n",
      "\u001b[32m  + sqlite                       \u001b[00m        3.39.2  h4ff8645_0          cctbx202208/linux-64        2MB\r\n",
      "\u001b[32m  + stack_data                   \u001b[00m         0.3.0  pyhd8ed1ab_0        cctbx202208/noarch         23kB\r\n",
      "\u001b[32m  + terminado                    \u001b[00m        0.17.1  pyh41d4057_0        conda-forge/noarch  \u001b[32m     Cached\u001b[00m\r\n",
      "\u001b[32m  + tinycss2                     \u001b[00m         1.2.1  pyhd8ed1ab_0        conda-forge/noarch  \u001b[32m     Cached\u001b[00m\r\n",
      "\u001b[32m  + tk                           \u001b[00m        8.6.12  h27826a3_0          cctbx202208/linux-64        3MB\r\n",
      "\u001b[32m  + toml                         \u001b[00m        0.10.2  pyhd8ed1ab_0        conda-forge/noarch         18kB\r\n",
      "\u001b[32m  + toolz                        \u001b[00m        0.12.0  pyhd8ed1ab_0        conda-forge/noarch  \u001b[32m     Cached\u001b[00m\r\n",
      "\u001b[32m  + tornado                      \u001b[00m           6.2  py310h5764c6d_0     cctbx202208/linux-64      680kB\r\n",
      "\u001b[32m  + tqdm                         \u001b[00m        4.64.0  pyhd8ed1ab_0        cctbx202208/noarch         83kB\r\n",
      "\u001b[32m  + traitlets                    \u001b[00m         5.9.0  pyhd8ed1ab_0        conda-forge/noarch         98kB\r\n",
      "\u001b[32m  + typing_extensions            \u001b[00m         4.3.0  pyha770c72_0        cctbx202208/noarch         29kB\r\n",
      "\u001b[32m  + tzdata                       \u001b[00m         2022b  h191b570_0          cctbx202208/noarch        121kB\r\n",
      "\u001b[32m  + urllib3                      \u001b[00m       1.26.11  pyhd8ed1ab_0        cctbx202208/noarch        104kB\r\n",
      "\u001b[32m  + wcwidth                      \u001b[00m         0.2.5  pyh9f0ad1d_2        cctbx202208/noarch         34kB\r\n",
      "\u001b[32m  + webencodings                 \u001b[00m         0.5.1  py_1                conda-forge/noarch  \u001b[32m     Cached\u001b[00m\r\n",
      "\u001b[32m  + websocket-client             \u001b[00m         1.5.1  pyhd8ed1ab_0        conda-forge/noarch         44kB\r\n",
      "\u001b[32m  + wheel                        \u001b[00m        0.37.1  pyhd8ed1ab_0        cctbx202208/noarch         32kB\r\n",
      "\u001b[32m  + widgetsnbextension           \u001b[00m         4.0.7  pyhd8ed1ab_0        conda-forge/noarch        848kB\r\n",
      "\u001b[32m  + xcb-util                     \u001b[00m         0.4.0  h166bdaf_0          cctbx202208/linux-64       21kB\r\n",
      "\u001b[32m  + xcb-util-image               \u001b[00m         0.4.0  h166bdaf_0          cctbx202208/linux-64       24kB\r\n",
      "\u001b[32m  + xcb-util-keysyms             \u001b[00m         0.4.0  h166bdaf_0          cctbx202208/linux-64       12kB\r\n",
      "\u001b[32m  + xcb-util-renderutil          \u001b[00m         0.3.9  h166bdaf_0          cctbx202208/linux-64       16kB\r\n",
      "\u001b[32m  + xcb-util-wm                  \u001b[00m         0.4.1  h166bdaf_0          cctbx202208/linux-64       57kB\r\n",
      "\u001b[32m  + xkeyboard-config             \u001b[00m          2.38  h0b41bf4_0          conda-forge/linux-64      882kB\r\n",
      "\u001b[32m  + xorg-kbproto                 \u001b[00m         1.0.7  h7f98852_1002       cctbx202208/linux-64       27kB\r\n",
      "\u001b[32m  + xorg-libice                  \u001b[00m        1.0.10  h7f98852_0          cctbx202208/linux-64       59kB\r\n",
      "\u001b[32m  + xorg-libsm                   \u001b[00m         1.2.3  hd9c2040_1000       cctbx202208/linux-64       26kB\r\n",
      "\u001b[32m  + xorg-libx11                  \u001b[00m         1.7.2  h7f98852_0          cctbx202208/linux-64      963kB\r\n",
      "\u001b[32m  + xorg-libxau                  \u001b[00m         1.0.9  h7f98852_0          cctbx202208/linux-64       13kB\r\n",
      "\u001b[32m  + xorg-libxdmcp                \u001b[00m         1.1.3  h7f98852_0          cctbx202208/linux-64       19kB\r\n",
      "\u001b[32m  + xorg-libxext                 \u001b[00m         1.3.4  h7f98852_1          cctbx202208/linux-64       55kB\r\n",
      "\u001b[32m  + xorg-libxrender              \u001b[00m        0.9.10  h7f98852_1003       cctbx202208/linux-64       33kB\r\n",
      "\u001b[32m  + xorg-renderproto             \u001b[00m        0.11.1  h7f98852_1002       cctbx202208/linux-64       10kB\r\n",
      "\u001b[32m  + xorg-xextproto               \u001b[00m         7.3.0  h7f98852_1002       cctbx202208/linux-64       28kB\r\n",
      "\u001b[32m  + xorg-xproto                  \u001b[00m        7.0.31  h7f98852_1007       cctbx202208/linux-64       75kB\r\n",
      "\u001b[32m  + xz                           \u001b[00m         5.2.6  h166bdaf_0          conda-forge/linux-64\u001b[32m     Cached\u001b[00m\r\n",
      "\u001b[32m  + yaml-cpp                     \u001b[00m         0.7.0  h27087fc_2          conda-forge/linux-64\u001b[32m     Cached\u001b[00m\r\n",
      "\u001b[32m  + zeromq                       \u001b[00m         4.3.4  h9c3ff4c_1          cctbx202208/linux-64      360kB\r\n",
      "\u001b[32m  + zipp                         \u001b[00m         3.8.1  pyhd8ed1ab_0        cctbx202208/noarch         13kB\r\n",
      "\u001b[32m  + zlib                         \u001b[00m        1.2.13  h166bdaf_4          conda-forge/linux-64\u001b[32m     Cached\u001b[00m\r\n",
      "\u001b[32m  + zstandard                    \u001b[00m        0.19.0  py310hdeb6495_1     conda-forge/linux-64      382kB\r\n",
      "\u001b[32m  + zstd                         \u001b[00m         1.5.2  h8a70e8d_4          cctbx202208/linux-64      459kB\r\n",
      "\r\n",
      "  Summary:\r\n",
      "\r\n",
      "  Install: 242 packages\r\n",
      "\r\n",
      "  Total download: 287MB\r\n",
      "\r\n",
      "──────────────────────────────────────────────────────────────────────────────────────────────────────\r\n",
      "\r\n",
      "\u001b[?25l\u001b[2K\u001b[0G[+] 0.0s\r\n",
      "Downloading      \u001b[90m━━━━━━━━━━━━━━━━━━━━━━━\u001b[0m   0.0 B                            0.0s\r\n",
      "Extracting       \u001b[90m━━━━━━━━━━━━━━━━━━━━━━━\u001b[0m       0                            0.0s"
     ]
    },
    {
     "name": "stdout",
     "output_type": "stream",
     "text": [
      "\u001b[2K\u001b[1A\u001b[2K\u001b[1A\u001b[2K\u001b[0G[+] 0.1s\r\n",
      "Downloading  (5) \u001b[90m━━━━━━━━━━━━━━━━━━━━━━━\u001b[0m   0.0 B _libgcc_mutex              0.0s\r\n",
      "Extracting       \u001b[90m━━━━━━━━━━━━━━━━━━━━━━━\u001b[0m       0                            0.0s"
     ]
    },
    {
     "name": "stdout",
     "output_type": "stream",
     "text": [
      "\u001b[2K\u001b[1A\u001b[2K\u001b[1A\u001b[2K\u001b[0G[+] 0.2s\r\n",
      "Downloading  (5) \u001b[90m━━━━━━━━━━━━━━━━━━━━━━━\u001b[0m   0.0 B _libgcc_mutex              0.1s\r\n",
      "Extracting       \u001b[90m━━━━━━━━━━━━━━━━━━━━━━━\u001b[0m       0                            0.0s"
     ]
    },
    {
     "name": "stdout",
     "output_type": "stream",
     "text": [
      "\u001b[2K\u001b[1A\u001b[2K\u001b[1A\u001b[2K\u001b[0G[+] 0.3s\r\n",
      "Downloading  (5) \u001b[90m━━━━━━━━━━━━━━━━━━━━━━━\u001b[0m   0.0 B _libgcc_mutex              0.2s\r\n",
      "Extracting       \u001b[90m━━━━━━━━━━━━━━━━━━━━━━━\u001b[0m       0                            0.0s"
     ]
    },
    {
     "name": "stdout",
     "output_type": "stream",
     "text": [
      "\u001b[2K\u001b[1A\u001b[2K\u001b[1A\u001b[2K\u001b[0Glibgfortran5                                         1.8MB @   5.5MB/s  0.3s\r\n",
      "[+] 0.4s\r\n",
      "Downloading  (5) \u001b[90m━━━━━━━━━━━━━━━━━━━━━━━\u001b[0m   1.8MB _libgcc_mutex              0.3s\r\n",
      "Extracting   (1) \u001b[90m━━━━━━━━╸\u001b[0m\u001b[33m━━━━━━━━━━━━━━\u001b[0m       0 libgfortran5               0.0s"
     ]
    },
    {
     "name": "stdout",
     "output_type": "stream",
     "text": [
      "\u001b[2K\u001b[1A\u001b[2K\u001b[1A\u001b[2K\u001b[0G[+] 0.5s\r\n",
      "Downloading  (5) \u001b[90m━━━━━━━━━━━━━━━━━━━━━━━\u001b[0m   1.8MB ca-certificates            0.4s\r\n",
      "Extracting   (1) \u001b[90m━━━━━━━━━╸\u001b[0m\u001b[33m━━━━━━━━━━━━━\u001b[0m       0 libgfortran5               0.1s"
     ]
    },
    {
     "name": "stdout",
     "output_type": "stream",
     "text": [
      "\u001b[2K\u001b[1A\u001b[2K\u001b[1A\u001b[2K\u001b[0Gca-certificates                                    152.8kB @ 268.6kB/s  0.6s\r\n",
      "[+] 0.6s\r\n",
      "Downloading  (5) \u001b[90m━━━━━━━━━━━━━━━━━━━━━━━\u001b[0m   2.0MB _libgcc_mutex              0.5s\r\n",
      "Extracting   (2) \u001b[90m━━━━━━━━━━━╸\u001b[0m\u001b[33m━━━━━━━━━━━\u001b[0m       0 libgfortran5               0.2s"
     ]
    },
    {
     "name": "stdout",
     "output_type": "stream",
     "text": [
      "\u001b[2K\u001b[1A\u001b[2K\u001b[1A\u001b[2K\u001b[0Glibstdcxx-ng                                         4.5MB @   7.2MB/s  0.6s\r\n",
      "[+] 0.7s\r\n",
      "Downloading  (5) \u001b[90m━━━━━━━━━━━━━━━━━━━━━━━\u001b[0m   6.5MB _libgcc_mutex              0.6s\r\n",
      "Extracting   (3) \u001b[90m━━━━━━━━━━━━╸\u001b[0m\u001b[33m━━━━━━━━━━\u001b[0m       0 libgfortran5               0.3s"
     ]
    },
    {
     "name": "stdout",
     "output_type": "stream",
     "text": [
      "\u001b[2K\u001b[1A\u001b[2K\u001b[1A\u001b[2K\u001b[0G[+] 0.8s\r\n",
      "Downloading  (5) \u001b[90m━━━━━━━━━━━━━━━━━━━━━━━\u001b[0m   6.5MB _libgcc_mutex              0.7s\r\n",
      "Extracting   (3) \u001b[90m━━━━━━━━━━━━━╸\u001b[0m\u001b[33m━━━━━━━━━\u001b[0m       0 libstdcxx-ng               0.4s"
     ]
    },
    {
     "name": "stdout",
     "output_type": "stream",
     "text": [
      "\u001b[2K\u001b[1A\u001b[2K\u001b[1A\u001b[2K\u001b[0Gxorg-renderproto                                     9.6kB @  10.9kB/s  0.5s\r\n",
      "[+] 0.9s\r\n",
      "Downloading  (5) \u001b[90m━━━━━━━━━━━━━━━━━━━━━━━\u001b[0m   6.6MB _libgcc_mutex              0.8s\r\n",
      "Extracting   (4) \u001b[33m━━━━━━━━╸\u001b[0m\u001b[90m━━━━━━━━━━━━━━\u001b[0m       0 libstdcxx-ng               0.5s"
     ]
    },
    {
     "name": "stdout",
     "output_type": "stream",
     "text": [
      "\u001b[2K\u001b[1A\u001b[2K\u001b[1A\u001b[2K\u001b[0G_libgcc_mutex                                        2.6kB @   2.7kB/s  1.0s\r\n",
      "[+] 1.0s\r\n",
      "Downloading  (5) \u001b[90m━━━━━━━━━━━━━━━━━━━━━━━\u001b[0m   6.6MB graphite2                  0.9s\r\n",
      "Extracting   (5) \u001b[33m━━━━━━━━━╸\u001b[0m\u001b[90m━━━━━━━━━━━━━\u001b[0m       0 libstdcxx-ng               0.6s"
     ]
    },
    {
     "name": "stdout",
     "output_type": "stream",
     "text": [
      "\u001b[2K\u001b[1A\u001b[2K\u001b[1A\u001b[2K\u001b[0G[+] 1.1s\r\n",
      "Downloading  (5) \u001b[90m━━━━━━━━━━━━━━━━━━━━━━━\u001b[0m   6.8MB graphite2                  1.0s\r\n",
      "Extracting   (5) \u001b[33m━━━━━━━━━━╸\u001b[0m\u001b[90m━━━━━━━━━━━━\u001b[0m       0 libstdcxx-ng               0.7s"
     ]
    },
    {
     "name": "stdout",
     "output_type": "stream",
     "text": [
      "\u001b[2K\u001b[1A\u001b[2K\u001b[1A\u001b[2K\u001b[0G[+] 1.2s\r\n",
      "Downloading  (5) \u001b[90m━━━━━━━━━━━━━━━━━━━━━━━\u001b[0m   6.9MB graphite2                  1.1s\r\n",
      "Extracting   (5) \u001b[33m━━━━━━━━━━━╸\u001b[0m\u001b[90m━━━━━━━━━━━\u001b[0m       0 xorg-renderproto           0.8s"
     ]
    },
    {
     "name": "stdout",
     "output_type": "stream",
     "text": [
      "\u001b[2K\u001b[1A\u001b[2K\u001b[1A\u001b[2K\u001b[0Gxorg-libxau                                         13.4kB @  11.0kB/s  0.6s\r\n",
      "[+] 1.3s\r\n",
      "Downloading  (5) \u001b[33m━╸\u001b[0m\u001b[90m━━━━━━━━━━━━━━━━━━━━━\u001b[0m   7.2MB graphite2                  1.2s\r\n",
      "Extracting   (6) \u001b[33m━━━━━━━━━━━━╸\u001b[0m\u001b[90m━━━━━━━━━━\u001b[0m       0 xorg-renderproto           0.9s"
     ]
    },
    {
     "name": "stdout",
     "output_type": "stream",
     "text": [
      "\u001b[2K\u001b[1A\u001b[2K\u001b[1A\u001b[2K\u001b[0Gxorg-libice                                         59.4kB @  45.3kB/s  0.7s\r\n",
      "ld_impl_linux-64                                   683.5kB @ 516.5kB/s  1.3s\r\n",
      "[+] 1.4s\r\n",
      "Downloading  (5) \u001b[33m━╸\u001b[0m\u001b[90m━━━━━━━━━━━━━━━━━━━━━\u001b[0m   7.3MB icu                        1.3s\r\n",
      "Extracting   (8) \u001b[33m━━━━━━━━━━━━━╸\u001b[0m\u001b[90m━━━━━━━━━\u001b[0m       0 xorg-renderproto           1.0s"
     ]
    },
    {
     "name": "stdout",
     "output_type": "stream",
     "text": [
      "\u001b[2K\u001b[1A\u001b[2K\u001b[1A\u001b[2K\u001b[0Ggraphite2                                          104.7kB @  75.2kB/s  0.5s\r\n",
      "libogg                                             210.6kB @ 151.1kB/s  0.5s\r\n",
      "icu                                                 14.2MB @   9.5MB/s  0.3s\r\n",
      "[+] 1.5s\r\n",
      "Downloading  (5) ╸\u001b[33m━╸\u001b[0m\u001b[90m━━━━━━━━━━━━━━━━━━━━\u001b[0m  21.8MB libffi                     1.4s\r\n",
      "Extracting  (10) \u001b[33m━━━━━━━━━━━━━━╸\u001b[0m\u001b[90m━━━━━━━━\u001b[0m       0 xorg-renderproto           1.1s"
     ]
    },
    {
     "name": "stdout",
     "output_type": "stream",
     "text": [
      "\u001b[2K\u001b[1A\u001b[2K\u001b[1A\u001b[2K\u001b[0Glz4-c                                              183.7kB @ 117.6kB/s  0.2s\r\n",
      "[+] 1.6s\r\n",
      "Downloading  (5) ╸\u001b[33m━╸\u001b[0m\u001b[90m━━━━━━━━━━━━━━━━━━━━\u001b[0m  22.0MB libffi                     1.5s\r\n",
      "Extracting  (12) \u001b[90m╸\u001b[0m\u001b[33m━━━━━━━━━━━━━━━╸\u001b[0m\u001b[90m━━━━━━\u001b[0m       0 _libgcc_mutex              1.2s"
     ]
    },
    {
     "name": "stdout",
     "output_type": "stream",
     "text": [
      "\u001b[2K\u001b[1A\u001b[2K\u001b[1A\u001b[2K\u001b[0G[+] 1.7s\r\n",
      "Downloading  (5) ╸\u001b[33m━╸\u001b[0m\u001b[90m━━━━━━━━━━━━━━━━━━━━\u001b[0m  22.1MB libffi                     1.6s\r\n",
      "Extracting  (12) \u001b[90m━╸\u001b[0m\u001b[33m━━━━━━━━━━━━━━━╸\u001b[0m\u001b[90m━━━━━\u001b[0m       0 _libgcc_mutex              1.3s"
     ]
    },
    {
     "name": "stdout",
     "output_type": "stream",
     "text": [
      "\u001b[2K\u001b[1A\u001b[2K\u001b[1A\u001b[2K\u001b[0G[+] 1.8s\r\n",
      "Downloading  (5) ╸\u001b[33m━╸\u001b[0m\u001b[90m━━━━━━━━━━━━━━━━━━━━\u001b[0m  22.3MB libffi                     1.7s\r\n",
      "Extracting  (12) \u001b[90m━━╸\u001b[0m\u001b[33m━━━━━━━━━━━━━━━╸\u001b[0m\u001b[90m━━━━\u001b[0m       0 _libgcc_mutex              1.4s"
     ]
    },
    {
     "name": "stdout",
     "output_type": "stream",
     "text": [
      "\u001b[2K\u001b[1A\u001b[2K\u001b[1A\u001b[2K\u001b[0G[+] 1.9s\r\n",
      "Downloading  (5) ╸\u001b[33m━╸\u001b[0m\u001b[90m━━━━━━━━━━━━━━━━━━━━\u001b[0m  22.4MB libxcb                     1.8s\r\n",
      "Extracting  (12) \u001b[90m━━━╸\u001b[0m\u001b[33m━━━━━━━━━━━━━━━╸\u001b[0m\u001b[90m━━━\u001b[0m       0 _libgcc_mutex              1.5s"
     ]
    },
    {
     "name": "stdout",
     "output_type": "stream",
     "text": [
      "\u001b[2K\u001b[1A\u001b[2K\u001b[1A\u001b[2K\u001b[0Glibffi                                              58.3kB @  29.6kB/s  0.6s\r\n",
      "[+] 2.0s\r\n",
      "Downloading  (5) ╸\u001b[33m━╸\u001b[0m\u001b[90m━━━━━━━━━━━━━━━━━━━━\u001b[0m  22.6MB libxcb                     1.9s\r\n",
      "Extracting  (12) \u001b[90m━━━━╸\u001b[0m\u001b[33m━━━━━━━━━━━━━━━╸\u001b[0m\u001b[90m━━\u001b[0m       1 graphite2                  1.6s"
     ]
    },
    {
     "name": "stdout",
     "output_type": "stream",
     "text": [
      "\u001b[2K\u001b[1A\u001b[2K\u001b[1A\u001b[2K\u001b[0G[+] 2.1s\r\n",
      "Downloading  (5) ╸\u001b[33m━╸\u001b[0m\u001b[90m━━━━━━━━━━━━━━━━━━━━\u001b[0m  22.8MB libxcb                     2.0s\r\n",
      "Extracting  (12) \u001b[90m━━━━━╸\u001b[0m\u001b[33m━━━━━━━━━━━━━━━╸\u001b[0m\u001b[90m━\u001b[0m       1 graphite2                  1.7s"
     ]
    },
    {
     "name": "stdout",
     "output_type": "stream",
     "text": [
      "\u001b[2K\u001b[1A\u001b[2K\u001b[1A\u001b[2K\u001b[0Gxcb-util-keysyms                                    12.2kB @   5.8kB/s  0.5s\r\n",
      "ncurses                                              1.0MB @ 482.6kB/s  0.8s\r\n",
      "[+] 2.2s\r\n",
      "Downloading  (5) ╸\u001b[33m━╸\u001b[0m\u001b[90m━━━━━━━━━━━━━━━━━━━━\u001b[0m  23.2MB libxcb                     2.1s\r\n",
      "Extracting  (14) \u001b[90m━━━━━━╸\u001b[0m\u001b[33m━━━━━━━━━━━━━━━━\u001b[0m       1 graphite2                  1.8s"
     ]
    },
    {
     "name": "stdout",
     "output_type": "stream",
     "text": [
      "\u001b[2K\u001b[1A\u001b[2K\u001b[1A\u001b[2K\u001b[0Gxorg-libxext                                        54.9kB @  24.1kB/s  0.3s\r\n",
      "[+] 2.3s\r\n",
      "Downloading  (5) ╸\u001b[33m━╸\u001b[0m\u001b[90m━━━━━━━━━━━━━━━━━━━━\u001b[0m  23.4MB xorg-libx11                2.2s\r\n",
      "Extracting  (14) \u001b[90m━━━━━━━╸\u001b[0m\u001b[33m━━━━━━━━━━━━━━━\u001b[0m       2 graphite2                  1.9s"
     ]
    },
    {
     "name": "stdout",
     "output_type": "stream",
     "text": [
      "\u001b[2K\u001b[1A\u001b[2K\u001b[1A\u001b[2K\u001b[0Gattr                                                71.0kB @  30.7kB/s  0.0s\r\n",
      "libxcb                                             399.9kB @ 170.0kB/s  0.9s\r\n",
      "xkeyboard-config                                   882.0kB @ 375.0kB/s  0.0s\r\n",
      "libexpat                                            78.0kB @  32.8kB/s  0.0s\r\n",
      "nspr                                               226.8kB @  95.3kB/s  0.0s\r\n",
      "[+] 2.4s\r\n",
      "Downloading  (5) ╸\u001b[33m━━╸\u001b[0m\u001b[90m━━━━━━━━━━━━━━━━━━━\u001b[0m  24.9MB xorg-libx11                2.3s\r\n",
      "Extracting  (19) \u001b[90m━━━━━━━━╸\u001b[0m\u001b[33m━━━━━━━━━━━━━━\u001b[0m       2 icu                        2.0s"
     ]
    },
    {
     "name": "stdout",
     "output_type": "stream",
     "text": [
      "\u001b[2K\u001b[1A\u001b[2K\u001b[1A\u001b[2K\u001b[0Glibflac                                            421.0kB @ 175.2kB/s  0.0s\r\n",
      "jack                                               463.6kB @ 192.6kB/s  0.0s\r\n",
      "libsndfile                                         350.2kB @ 143.9kB/s  0.0s\r\n",
      "libxkbcommon                                       563.2kB @ 231.4kB/s  0.0s\r\n",
      "[+] 2.5s\r\n",
      "Downloading  (5) ━╸\u001b[33m━╸\u001b[0m\u001b[90m━━━━━━━━━━━━━━━━━━━\u001b[0m  27.1MB xorg-libx11                2.4s\r\n",
      "Extracting  (23) \u001b[90m━━━━━━━━━╸\u001b[0m\u001b[33m━━━━━━━━━━━━━\u001b[0m       2 icu                        2.1s"
     ]
    },
    {
     "name": "stdout",
     "output_type": "stream",
     "text": [
      "\u001b[2K\u001b[1A\u001b[2K\u001b[1A\u001b[2K\u001b[0Gxorg-libx11                                        963.4kB @ 374.1kB/s  1.1s\r\n",
      "[+] 2.6s\r\n",
      "Downloading  (6) ━╸\u001b[33m━╸\u001b[0m\u001b[90m━━━━━━━━━━━━━━━━━━━\u001b[0m  28.4MB dbus                       2.5s\r\n",
      "Extracting  (24) \u001b[90m━━━━━━━━━━━╸\u001b[0m\u001b[33m━━━━━━━━━━━\u001b[0m       2 icu                        2.2s"
     ]
    },
    {
     "name": "stdout",
     "output_type": "stream",
     "text": [
      "\u001b[2K\u001b[1A\u001b[2K\u001b[1A\u001b[2K\u001b[0Glibevent                                             1.2MB @ 446.4kB/s  0.2s\r\n",
      "tk                                                   3.5MB @   1.3MB/s  0.2s\r\n",
      "libsystemd0                                        393.1kB @ 148.0kB/s  0.0s\r\n",
      "[+] 2.7s\r\n",
      "Downloading  (5) ━╸\u001b[33m━━╸\u001b[0m\u001b[90m━━━━━━━━━━━━━━━━━━\u001b[0m  32.5MB dbus                       2.6s\r\n",
      "Extracting  (27) \u001b[90m━━━━━━━━━━━━╸\u001b[0m\u001b[33m━━━━━━━━━━\u001b[0m       2 icu                        2.3s"
     ]
    },
    {
     "name": "stdout",
     "output_type": "stream",
     "text": [
      "\u001b[2K\u001b[1A\u001b[2K\u001b[1A\u001b[2K\u001b[0Gdbus                                               618.6kB @ 227.1kB/s  0.2s\r\n",
      "libclang                                           133.3kB @  48.0kB/s  0.0s\r\n",
      "[+] 2.8s\r\n",
      "Downloading  (5) ━━╸\u001b[33m━━╸\u001b[0m\u001b[90m━━━━━━━━━━━━━━━━━\u001b[0m  41.6MB backports                  2.7s\r\n",
      "Extracting  (29) \u001b[90m━━━━━━━━━━━━━╸\u001b[0m\u001b[33m━━━━━━━━━\u001b[0m       2 jack                       2.4s"
     ]
    },
    {
     "name": "stdout",
     "output_type": "stream",
     "text": [
      "\u001b[2K\u001b[1A\u001b[2K\u001b[1A\u001b[2K\u001b[0Glibclang13                                           9.5MB @   3.4MB/s  0.2s\r\n",
      "font-ttf-inconsolata                                96.5kB @  33.6kB/s  0.8s\r\n",
      "[+] 2.9s\r\n",
      "Downloading  (5) ━━╸\u001b[33m━━╸\u001b[0m\u001b[90m━━━━━━━━━━━━━━━━━\u001b[0m  43.0MB backports                  2.8s\r\n",
      "Extracting  (31) \u001b[33m━━━━━━━━╸\u001b[0m\u001b[90m━━━━━━━━━━━━━━\u001b[0m       2 jack                       2.5s"
     ]
    },
    {
     "name": "stdout",
     "output_type": "stream",
     "text": [
      "\u001b[2K\u001b[1A\u001b[2K\u001b[1A\u001b[2K\u001b[0G[+] 3.0s\r\n",
      "Downloading  (5) ━━╸\u001b[33m━━╸\u001b[0m\u001b[90m━━━━━━━━━━━━━━━━━\u001b[0m  43.1MB backports                  2.9s\r\n",
      "Extracting  (31) \u001b[33m━━━━━━━━━╸\u001b[0m\u001b[90m━━━━━━━━━━━━━\u001b[0m       2 jack                       2.6s"
     ]
    },
    {
     "name": "stdout",
     "output_type": "stream",
     "text": [
      "\u001b[2K\u001b[1A\u001b[2K\u001b[1A\u001b[2K\u001b[0Gpickleshare                                          9.3kB @   3.1kB/s  0.2s\r\n",
      "[+] 3.1s\r\n",
      "Downloading  (5) ━━╸\u001b[33m━━╸\u001b[0m\u001b[90m━━━━━━━━━━━━━━━━━\u001b[0m  43.3MB backports                  3.0s\r\n",
      "Extracting  (32) \u001b[33m━━━━━━━━━━╸\u001b[0m\u001b[90m━━━━━━━━━━━━\u001b[0m       2 jack                       2.7s"
     ]
    },
    {
     "name": "stdout",
     "output_type": "stream",
     "text": [
      "\u001b[2K\u001b[1A\u001b[2K\u001b[1A\u001b[2K\u001b[0Gpython_abi                                           4.1kB @   1.3kB/s  0.5s\r\n",
      "[+] 3.2s\r\n",
      "Downloading  (5) ━━╸\u001b[33m━━╸\u001b[0m\u001b[90m━━━━━━━━━━━━━━━━━\u001b[0m  44.0MB font-ttf-ubuntu            3.1s\r\n",
      "Extracting  (33) \u001b[33m━━━━━━━━━━━╸\u001b[0m\u001b[90m━━━━━━━━━━━\u001b[0m       2 ld_impl_linux-64           2.8s"
     ]
    },
    {
     "name": "stdout",
     "output_type": "stream",
     "text": [
      "\u001b[2K\u001b[1A\u001b[2K\u001b[1A\u001b[2K\u001b[0Gfont-ttf-ubuntu                                      2.0MB @ 598.9kB/s  1.2s\r\n",
      "[+] 3.3s\r\n",
      "Downloading  (5) ━━╸\u001b[33m━━╸\u001b[0m\u001b[90m━━━━━━━━━━━━━━━━━\u001b[0m  44.9MB backports                  3.2s\r\n",
      "Extracting  (34) \u001b[33m━━━━━━━━━━━━╸\u001b[0m\u001b[90m━━━━━━━━━━\u001b[0m       2 ld_impl_linux-64           2.9s"
     ]
    },
    {
     "name": "stdout",
     "output_type": "stream",
     "text": [
      "\u001b[2K\u001b[1A\u001b[2K\u001b[1A\u001b[2K\u001b[0Gbackports                                            3.6kB @   1.1kB/s  0.6s\r\n",
      "[+] 3.4s\r\n",
      "Downloading  (5) ━╸\u001b[33m━━╸\u001b[0m\u001b[90m━━━━━━━━━━━━━━\u001b[0m  44.9MB backports.functools_lru_cache  3.3s\r\n",
      "Extracting  (35) \u001b[33m━━━━━━━━━━━━╸\u001b[0m\u001b[90m━━━━━━\u001b[0m       2     ld_impl_linux-64           3.0s"
     ]
    },
    {
     "name": "stdout",
     "output_type": "stream",
     "text": [
      "\u001b[2K\u001b[1A\u001b[2K\u001b[1A\u001b[2K\u001b[0Gpure_eval                                           14.6kB @   4.2kB/s  0.6s\r\n",
      "[+] 3.5s\r\n",
      "Downloading  (5) ━╸\u001b[33m━━╸\u001b[0m\u001b[90m━━━━━━━━━━━━━━\u001b[0m  44.9MB backports.functools_lru_cache  3.4s\r\n",
      "Extracting  (36) \u001b[33m━━━━━━━━━━━━━╸\u001b[0m\u001b[90m━━━━━\u001b[0m       2     ld_impl_linux-64           3.1s"
     ]
    },
    {
     "name": "stdout",
     "output_type": "stream",
     "text": [
      "\u001b[2K\u001b[1A\u001b[2K\u001b[1A\u001b[2K\u001b[0Gidna                                                56.1kB @  15.7kB/s  0.3s\r\n",
      "[+] 3.6s\r\n",
      "Downloading  (5) ━╸\u001b[33m━━╸\u001b[0m\u001b[90m━━━━━━━━━━━━━━\u001b[0m  44.9MB backports.functools_lru_cache  3.5s\r\n",
      "Extracting  (37) \u001b[33m━━━━━━━━━━━━━━╸\u001b[0m\u001b[90m━━━━\u001b[0m       2     libclang                   3.2s"
     ]
    },
    {
     "name": "stdout",
     "output_type": "stream",
     "text": [
      "\u001b[2K\u001b[1A\u001b[2K\u001b[1A\u001b[2K\u001b[0Gsix                                                 14.3kB @   4.0kB/s  0.6s\r\n",
      "pexpect                                             47.7kB @  13.1kB/s  0.2s\r\n",
      "[+] 3.7s\r\n",
      "Downloading  (5) ━╸\u001b[33m━━╸\u001b[0m\u001b[90m━━━━━━━━━━━━━━\u001b[0m  45.0MB backports.functools_lru_cache  3.6s\r\n"
     ]
    },
    {
     "name": "stdout",
     "output_type": "stream",
     "text": [
      "Extracting  (39) \u001b[33m━━━━━━━━━━━━━━━╸\u001b[0m\u001b[90m━━━\u001b[0m       2     libclang                   3.3s"
     ]
    },
    {
     "name": "stdout",
     "output_type": "stream",
     "text": [
      "\u001b[2K\u001b[1A\u001b[2K\u001b[1A\u001b[2K\u001b[0Gpysocks                                             28.6kB @   7.6kB/s  0.1s\r\n",
      "send2trash                                          17.5kB @   4.6kB/s  0.7s\r\n",
      "[+] 3.8s\r\n",
      "Downloading  (5) ━━╸\u001b[33m━━━╸\u001b[0m\u001b[90m━━━━━━━━━━━━━━━━\u001b[0m  45.0MB brotlipy                   3.7s\r\n",
      "Extracting  (41) \u001b[90m━━╸\u001b[0m\u001b[33m━━━━━━━━━━━━━━━╸\u001b[0m\u001b[90m━━━━\u001b[0m       2 libclang                   3.4s"
     ]
    },
    {
     "name": "stdout",
     "output_type": "stream",
     "text": [
      "\u001b[2K\u001b[1A\u001b[2K\u001b[1A\u001b[2K\u001b[0G[+] 3.9s\r\n",
      "Downloading  (5) ━━╸\u001b[33m━━━╸\u001b[0m\u001b[90m━━━━━━━━━━━━━━━━\u001b[0m  45.0MB brotlipy                   3.8s\r\n",
      "Extracting  (41) \u001b[90m━━━╸\u001b[0m\u001b[33m━━━━━━━━━━━━━━━╸\u001b[0m\u001b[90m━━━\u001b[0m       2 libclang                   3.5s"
     ]
    },
    {
     "name": "stdout",
     "output_type": "stream",
     "text": [
      "\u001b[2K\u001b[1A\u001b[2K\u001b[1A\u001b[2K\u001b[0Gpluggy                                              25.8kB @   6.6kB/s  0.2s\r\n",
      "ply                                                 44.8kB @  11.4kB/s  0.0s\r\n",
      "websocket-client                                    44.3kB @  11.2kB/s  0.0s\r\n",
      "prometheus_client                                   52.4kB @  13.2kB/s  0.0s\r\n",
      "[+] 4.0s\r\n",
      "Downloading  (5) ━━╸\u001b[33m━━━╸\u001b[0m\u001b[90m━━━━━━━━━━━━━━━━\u001b[0m  45.2MB brotlipy                   3.9s\r\n",
      "Extracting  (45) \u001b[90m━━━━╸\u001b[0m\u001b[33m━━━━━━━━━━━━━━━╸\u001b[0m\u001b[90m━━\u001b[0m       2 libclang13                 3.6s"
     ]
    },
    {
     "name": "stdout",
     "output_type": "stream",
     "text": [
      "\u001b[2K\u001b[1A\u001b[2K\u001b[1A\u001b[2K\u001b[0Gwidgetsnbextension                                 848.4kB @ 211.1kB/s  0.0s\r\n",
      "jsonpatch                                           14.6kB @   3.6kB/s  0.0s\r\n",
      "bleach                                             130.7kB @  31.9kB/s  0.0s\r\n",
      "[+] 4.1s\r\n",
      "Downloading  (5) ━━╸\u001b[33m━━━╸\u001b[0m\u001b[90m━━━━━━━━━━━━━━━━\u001b[0m  46.2MB brotlipy                   4.0s\r\n",
      "Extracting  (47) \u001b[90m━━━━━╸\u001b[0m\u001b[33m━━━━━━━━━━━━━━━╸\u001b[0m\u001b[90m━\u001b[0m       2 libclang13                 3.7s"
     ]
    },
    {
     "name": "stdout",
     "output_type": "stream",
     "text": [
      "\u001b[2K\u001b[1A\u001b[2K\u001b[1A\u001b[2K\u001b[0Gglib                                               485.9kB @ 117.9kB/s  0.0s\r\n",
      "pyrsistent                                         100.2kB @  24.2kB/s  0.0s\r\n",
      "zstandard                                          382.3kB @  91.7kB/s  0.0s\r\n",
      "sip                                                491.7kB @ 117.3kB/s  0.0s\r\n",
      "[+] 4.2s\r\n",
      "Downloading  (5) ━━╸\u001b[33m━━━╸\u001b[0m\u001b[90m━━━━━━━━━━━━━━━━\u001b[0m  47.7MB pyqt5-sip                  4.1s\r\n",
      "Extracting  (51) \u001b[90m━━━━━━╸\u001b[0m\u001b[33m━━━━━━━━━━━━━━━━\u001b[0m       2 libclang13                 3.8s"
     ]
    },
    {
     "name": "stdout",
     "output_type": "stream",
     "text": [
      "\u001b[2K\u001b[1A\u001b[2K\u001b[1A\u001b[2K\u001b[0Gbackports.functools_lru_cache                        9.0kB @   2.1kB/s  0.8s\r\n",
      "pyqt5-sip                                           85.4kB @  20.2kB/s  0.0s\r\n",
      "pyqt                                                 5.2MB @   1.2MB/s  0.0s\r\n",
      "[+] 4.3s\r\n",
      "Downloading  (5) ━━━╸\u001b[33m━━━╸\u001b[0m\u001b[90m━━━━━━━━━━━━━━━\u001b[0m  53.0MB brotlipy                   4.2s\r\n",
      "Extracting  (55) \u001b[90m━━━━━━━╸\u001b[0m\u001b[33m━━━━━━━━━━━━━━━\u001b[0m       2 libclang13                 3.9s"
     ]
    },
    {
     "name": "stdout",
     "output_type": "stream",
     "text": [
      "\u001b[2K\u001b[1A\u001b[2K\u001b[1A\u001b[2K\u001b[0Gpyopenssl                                           50.2kB @  11.5kB/s  0.2s\r\n",
      "tqdm                                                82.9kB @  18.9kB/s  0.8s\r\n",
      "nbclient                                            64.1kB @  14.6kB/s  0.0s\r\n",
      "[+] 4.4s\r\n",
      "Downloading  (5) ━━━╸\u001b[33m━━━╸\u001b[0m\u001b[90m━━━━━━━━━━━━━━━\u001b[0m  53.3MB brotlipy                   4.3s\r\n",
      "Extracting  (57) \u001b[90m━━━━━━━━╸\u001b[0m\u001b[33m━━━━━━━━━━━━━━\u001b[0m       2 libevent                   4.0s"
     ]
    },
    {
     "name": "stdout",
     "output_type": "stream",
     "text": [
      "\u001b[2K\u001b[1A\u001b[2K\u001b[1A\u001b[2K\u001b[0Gnbconvert-pandoc                                     6.8kB @   1.5kB/s  0.0s\r\n",
      "conda                                              963.9kB @ 216.4kB/s  0.1s\r\n",
      "nbclassic                                            5.6MB @   1.3MB/s  0.1s\r\n",
      "ipywidgets                                         112.4kB @  25.1kB/s  0.0s\r\n",
      "[+] 4.5s\r\n",
      "Downloading  (5) ━━━╸\u001b[33m━━━━╸\u001b[0m\u001b[90m━━━━━━━━━━━━━━\u001b[0m  60.3MB brotlipy                   4.4s\r\n",
      "Extracting  (62) \u001b[90m━━━━━━━━━╸\u001b[0m\u001b[33m━━━━━━━━━━━━━\u001b[0m       2 libevent                   4.1s"
     ]
    },
    {
     "name": "stdout",
     "output_type": "stream",
     "text": [
      "\u001b[2K\u001b[1A\u001b[2K\u001b[1A\u001b[2K\u001b[0Gqtconsole                                            7.2kB @   1.6kB/s  0.0s\r\n",
      "requests                                            54.5kB @  12.0kB/s  0.3s\r\n",
      "[+] 4.6s\r\n",
      "Downloading  (5) ━━━╸\u001b[33m━━━━╸\u001b[0m\u001b[90m━━━━━━━━━━━━━━\u001b[0m  60.4MB brotlipy                   4.5s\r\n",
      "Extracting  (63) \u001b[90m━━━━━━━━━━━╸\u001b[0m\u001b[33m━━━━━━━━━━━\u001b[0m       3 libevent                   4.2s"
     ]
    },
    {
     "name": "stdout",
     "output_type": "stream",
     "text": [
      "\u001b[2K\u001b[1A\u001b[2K\u001b[1A\u001b[2K\u001b[0G_openmp_mutex                                       23.6kB @   5.1kB/s  0.1s\r\n",
      "tornado                                            680.4kB @ 146.3kB/s  1.0s\r\n",
      "[+] 4.7s\r\n",
      "Downloading  (5) ━━━╸\u001b[33m━━━━━━╸\u001b[0m\u001b[90m━━━━━━━━━━━━\u001b[0m  60.8MB jpeg                       4.6s\r\n",
      "Extracting  (65) \u001b[90m━━━━━━━━━━━━╸\u001b[0m\u001b[33m━━━━━━━━━━\u001b[0m       3 libevent                   4.3s"
     ]
    },
    {
     "name": "stdout",
     "output_type": "stream",
     "text": [
      "\u001b[2K\u001b[1A\u001b[2K\u001b[1A\u001b[2K\u001b[0Gbrotlipy                                           350.1kB @  74.1kB/s  0.9s\r\n",
      "[+] 4.8s\r\n",
      "Downloading  (5) ━━━╸\u001b[33m━━━━━━╸\u001b[0m\u001b[90m━━━━━━━━━━━━\u001b[0m  61.3MB jpeg                       4.7s\r\n",
      "Extracting  (66) \u001b[90m━━━━━━━━━━━━━╸\u001b[0m\u001b[33m━━━━━━━━━\u001b[0m       3 libexpat                   4.4s"
     ]
    },
    {
     "name": "stdout",
     "output_type": "stream",
     "text": [
      "\u001b[2K\u001b[1A\u001b[2K\u001b[1A\u001b[2K\u001b[0Gxorg-kbproto                                        27.3kB @   5.7kB/s  0.3s\r\n",
      "libuuid                                             28.3kB @   5.8kB/s  0.2s\r\n",
      "[+] 4.9s\r\n",
      "Downloading  (5) ━━━━╸\u001b[33m━━━━━━╸\u001b[0m\u001b[90m━━━━━━━━━━━\u001b[0m  71.3MB jpeg                       4.8s\r\n",
      "Extracting  (67) \u001b[33m━━━━━━━━╸\u001b[0m\u001b[90m━━━━━━━━━━━━━━\u001b[0m       3 libexpat                   4.5s"
     ]
    },
    {
     "name": "stdout",
     "output_type": "stream",
     "text": [
      "\u001b[2K\u001b[1A\u001b[2K\u001b[1A\u001b[2K\u001b[0G[+] 5.0s\r\n",
      "Downloading  (5) ━━━━╸\u001b[33m━━━━━━╸\u001b[0m\u001b[90m━━━━━━━━━━━\u001b[0m  76.0MB jpeg                       4.9s\r\n",
      "Extracting  (68) \u001b[33m━━━━━━━━━╸\u001b[0m\u001b[90m━━━━━━━━━━━━━\u001b[0m       3 libexpat                   4.6s"
     ]
    },
    {
     "name": "stdout",
     "output_type": "stream",
     "text": [
      "\u001b[2K\u001b[1A\u001b[2K\u001b[1A\u001b[2K\u001b[0Glibdb                                               24.4MB @   4.9MB/s  0.4s\r\n",
      "jpeg                                               275.1kB @  54.4kB/s  0.4s\r\n",
      "[+] 5.1s\r\n",
      "Downloading  (5) ━━━━━╸\u001b[33m━━━━━━╸\u001b[0m\u001b[90m━━━━━━━━━━\u001b[0m  85.8MB bzip2                      5.0s\r\n",
      "Extracting  (70) \u001b[33m━━━━━━━━━━╸\u001b[0m\u001b[90m━━━━━━━━━━━━\u001b[0m       3 libexpat                   4.7s"
     ]
    },
    {
     "name": "stdout",
     "output_type": "stream",
     "text": [
      "\u001b[2K\u001b[1A\u001b[2K\u001b[1A\u001b[2K\u001b[0Gpthread-stubs                                        5.6kB @   1.1kB/s  0.5s\r\n",
      "[+] 5.2s\r\n",
      "Downloading  (5) ━━━━━╸\u001b[33m━━━━━━╸\u001b[0m\u001b[90m━━━━━━━━━━\u001b[0m  85.8MB bzip2                      5.1s\r\n",
      "Extracting  (71) \u001b[33m━━━━━━━━━━━╸\u001b[0m\u001b[90m━━━━━━━━━━━\u001b[0m       3 libffi                     4.8s"
     ]
    },
    {
     "name": "stdout",
     "output_type": "stream",
     "text": [
      "\u001b[2K\u001b[1A\u001b[2K\u001b[1A\u001b[2K\u001b[0Gfont-ttf-source-code-pro                           700.8kB @ 133.6kB/s  0.2s\r\n",
      "mpg123                                             485.5kB @  92.0kB/s  0.0s\r\n",
      "[+] 5.3s\r\n",
      "Downloading  (5) ━━━━━╸\u001b[33m━━━━━━╸\u001b[0m\u001b[90m━━━━━━━━━━\u001b[0m  87.0MB bzip2                      5.2s\r\n",
      "Extracting  (73) \u001b[33m━━━━━━━━━━━━╸\u001b[0m\u001b[90m━━━━━━━━━━\u001b[0m       3 libffi                     4.9s"
     ]
    },
    {
     "name": "stdout",
     "output_type": "stream",
     "text": [
      "\u001b[2K\u001b[1A\u001b[2K\u001b[1A\u001b[2K\u001b[0Ggstreamer-orc                                      305.9kB @  57.7kB/s  0.0s\r\n",
      "libcap                                              99.7kB @  18.7kB/s  0.0s\r\n",
      "mysql-common                                       803.0kB @ 149.8kB/s  0.0s\r\n",
      "[+] 5.4s\r\n",
      "Downloading  (6) ━━━━━╸\u001b[33m━━━━━━━╸\u001b[0m\u001b[90m━━━━━━━━━\u001b[0m  88.3MB bzip2                      5.3s\r\n",
      "Extracting  (76) \u001b[33m━━━━━━━━━━━━━╸\u001b[0m\u001b[90m━━━━━━━━━\u001b[0m       3 libffi                     5.0s"
     ]
    },
    {
     "name": "stdout",
     "output_type": "stream",
     "text": [
      "\u001b[2K\u001b[1A\u001b[2K\u001b[1A\u001b[2K\u001b[0Gnss                                                  2.0MB @ 363.4kB/s  0.0s\r\n",
      "glib-tools                                         109.1kB @  20.1kB/s  0.0s\r\n",
      "bzip2                                              495.7kB @  90.3kB/s  0.7s\r\n",
      "[+] 5.5s\r\n",
      "Downloading  (5) ━━━━━━╸\u001b[33m━━━━━━━━╸\u001b[0m\u001b[90m━━━━━━━\u001b[0m  90.7MB libssh2                    5.4s\r\n",
      "Extracting  (79) \u001b[33m━━━━━━━━━━━━━━╸\u001b[0m\u001b[90m━━━━━━━━\u001b[0m       3 libffi                     5.1s"
     ]
    },
    {
     "name": "stdout",
     "output_type": "stream",
     "text": [
      "\u001b[2K\u001b[1A\u001b[2K\u001b[1A\u001b[2K\u001b[0Gxcb-util-renderutil                                 15.7kB @   2.8kB/s  0.5s\r\n",
      "mysql-libs                                           1.5MB @ 272.5kB/s  0.0s\r\n",
      "[+] 5.6s\r\n",
      "Downloading  (5) ━━━━━━╸\u001b[33m━━━━━━━━━╸\u001b[0m\u001b[90m━━━━━━\u001b[0m  92.3MB libssh2                    5.5s\r\n",
      "Extracting  (80) \u001b[90m╸\u001b[0m\u001b[33m━━━━━━━━━━━━━━━╸\u001b[0m\u001b[90m━━━━━━\u001b[0m       3 libflac                    5.2s"
     ]
    },
    {
     "name": "stdout",
     "output_type": "stream",
     "text": [
      "\u001b[2K\u001b[1A\u001b[2K\u001b[1A\u001b[2K\u001b[0Glibmamba                                             1.5MB @ 263.8kB/s  0.0s\r\n",
      "xcb-util-image                                      24.3kB @   4.3kB/s  0.6s\r\n",
      "[+] 5.7s\r\n",
      "Downloading  (5) ━━━━━━╸\u001b[33m━━━━━━━━━╸\u001b[0m\u001b[90m━━━━━━\u001b[0m  93.9MB libssh2                    5.6s\r\n",
      "Extracting  (83) \u001b[90m━╸\u001b[0m\u001b[33m━━━━━━━━━━━━━━━╸\u001b[0m\u001b[90m━━━━━\u001b[0m       3 libflac                    5.3s"
     ]
    },
    {
     "name": "stdout",
     "output_type": "stream",
     "text": [
      "\u001b[2K\u001b[1A\u001b[2K\u001b[1A\u001b[2K\u001b[0Greadline                                           298.1kB @  51.4kB/s  0.9s\r\n",
      "[+] 5.8s\r\n",
      "Downloading  (5) ━━━━━━╸\u001b[33m━━━━━━━━━╸\u001b[0m\u001b[90m━━━━━━\u001b[0m  94.1MB libssh2                    5.7s\r\n",
      "Extracting  (82) \u001b[90m━━╸\u001b[0m\u001b[33m━━━━━━━━━━━━━━━╸\u001b[0m\u001b[90m━━━━\u001b[0m       4 libflac                    5.4s"
     ]
    },
    {
     "name": "stdout",
     "output_type": "stream",
     "text": [
      "\u001b[2K\u001b[1A\u001b[2K\u001b[1A\u001b[2K\u001b[0Gzipp                                                12.9kB @   2.2kB/s  0.2s\r\n",
      "[+] 5.9s\r\n",
      "Downloading  (5) ━━━━━━╸\u001b[33m━━━━━━━━━╸\u001b[0m\u001b[90m━━━━━━\u001b[0m  94.1MB ptyprocess                 5.8s\r\n",
      "Extracting  (84) \u001b[90m━━━╸\u001b[0m\u001b[33m━━━━━━━━━━━━━━━╸\u001b[0m\u001b[90m━━━\u001b[0m       4 libflac                    5.5s"
     ]
    },
    {
     "name": "stdout",
     "output_type": "stream",
     "text": [
      "\u001b[2K\u001b[1A\u001b[2K\u001b[1A\u001b[2K\u001b[0Gattrs                                               49.5kB @   8.3kB/s  0.1s\r\n",
      "[+] 6.0s\r\n",
      "Downloading  (5) ━━━━━━╸\u001b[33m━━━━━━━━━╸\u001b[0m\u001b[90m━━━━━━\u001b[0m  94.2MB ptyprocess                 5.9s\r\n",
      "Extracting  (85) \u001b[90m━━━━╸\u001b[0m\u001b[33m━━━━━━━━━━━━━━━╸\u001b[0m\u001b[90m━━\u001b[0m       4 libmamba                   5.6s"
     ]
    },
    {
     "name": "stdout",
     "output_type": "stream",
     "text": [
      "\u001b[2K\u001b[1A\u001b[2K\u001b[1A\u001b[2K\u001b[0G[+] 6.1s\r\n",
      "Downloading  (5) ━━━━━━╸\u001b[33m━━━━━━━━━╸\u001b[0m\u001b[90m━━━━━━\u001b[0m  94.2MB ptyprocess                 6.0s\r\n",
      "Extracting  (85) \u001b[90m━━━━━╸\u001b[0m\u001b[33m━━━━━━━━━━━━━━━╸\u001b[0m\u001b[90m━\u001b[0m       4 libmamba                   5.7s"
     ]
    },
    {
     "name": "stdout",
     "output_type": "stream",
     "text": [
      "\u001b[2K\u001b[1A\u001b[2K\u001b[1A\u001b[2K\u001b[0G[+] 6.2s\r\n",
      "Downloading  (5) ━━━━━━╸\u001b[33m━━━━━━━━━╸\u001b[0m\u001b[90m━━━━━━\u001b[0m  94.3MB ptyprocess                 6.1s\r\n",
      "Extracting  (85) \u001b[90m━━━━━━╸\u001b[0m\u001b[33m━━━━━━━━━━━━━━━━\u001b[0m       4 libmamba                   5.8s"
     ]
    },
    {
     "name": "stdout",
     "output_type": "stream",
     "text": [
      "\u001b[2K\u001b[1A\u001b[2K\u001b[1A\u001b[2K\u001b[0Gptyprocess                                          16.5kB @   2.6kB/s  0.6s\r\n",
      "libssh2                                            238.3kB @  38.1kB/s  0.8s\r\n",
      "[+] 6.3s\r\n",
      "Downloading  (5) ━━━━━━╸\u001b[33m━━━━━━━━━╸\u001b[0m\u001b[90m━━━━━━\u001b[0m  94.4MB importlib_resources        6.2s\r\n",
      "Extracting  (87) \u001b[90m━━━━━━━╸\u001b[0m\u001b[33m━━━━━━━━━━━━━━━\u001b[0m       4 libmamba                   5.9s"
     ]
    },
    {
     "name": "stdout",
     "output_type": "stream",
     "text": [
      "\u001b[2K\u001b[1A\u001b[2K\u001b[1A\u001b[2K\u001b[0G[+] 6.4s\r\n",
      "Downloading  (5) ━━━━━━╸\u001b[33m━━━━━━━━━╸\u001b[0m\u001b[90m━━━━━━\u001b[0m  94.5MB importlib_resources        6.3s\r\n",
      "Extracting  (87) \u001b[90m━━━━━━━━╸\u001b[0m\u001b[33m━━━━━━━━━━━━━━\u001b[0m       4 libogg                     6.0s"
     ]
    },
    {
     "name": "stdout",
     "output_type": "stream",
     "text": [
      "\u001b[2K\u001b[1A\u001b[2K\u001b[1A\u001b[2K\u001b[0Gpsutil                                             358.7kB @  56.1kB/s  0.1s\r\n",
      "python-dateutil                                    246.0kB @  38.3kB/s  0.2s\r\n",
      "[+] 6.5s\r\n",
      "Downloading  (5) ━━━━━━╸\u001b[33m━━━━━━━━━╸\u001b[0m\u001b[90m━━━━━━\u001b[0m  95.6MB importlib_resources        6.4s\r\n",
      "Extracting  (89) \u001b[90m━━━━━━━━━╸\u001b[0m\u001b[33m━━━━━━━━━━━━━\u001b[0m       4 libogg                     6.1s"
     ]
    },
    {
     "name": "stdout",
     "output_type": "stream",
     "text": [
      "\u001b[2K\u001b[1A\u001b[2K\u001b[1A\u001b[2K\u001b[0Gimportlib_resources                                 28.3kB @   4.3kB/s  0.7s\r\n",
      "[+] 6.6s\r\n",
      "Downloading  (5) ━━━━━━╸\u001b[33m━━━━━━━━━╸\u001b[0m\u001b[90m━━━━━━\u001b[0m  96.3MB certifi                    6.5s\r\n",
      "Extracting  (89) \u001b[90m━━━━━━━━━━━╸\u001b[0m\u001b[33m━━━━━━━━━━━\u001b[0m       4 libogg                     6.2s"
     ]
    },
    {
     "name": "stdout",
     "output_type": "stream",
     "text": [
      "\u001b[2K\u001b[1A\u001b[2K\u001b[1A\u001b[2K\u001b[0Gpycparser                                          102.7kB @  15.6kB/s  0.8s\r\n",
      "jsonpointer                                          8.7kB @   1.3kB/s  0.0s\r\n",
      "traitlets                                           98.4kB @  14.9kB/s  0.0s\r\n",
      "prompt-toolkit                                     269.4kB @  40.6kB/s  0.0s\r\n",
      "qtpy                                                55.9kB @   8.4kB/s  0.0s\r\n",
      "debugpy                                              2.0MB @ 293.4kB/s  0.0s\r\n",
      "argon2-cffi-bindings                                35.4kB @   5.3kB/s  0.0s\r\n",
      "ruamel.yaml                                        189.7kB @  28.4kB/s  0.0s\r\n",
      "[+] 6.7s\r\n",
      "Downloading  (5) ━━━━━━╸\u001b[33m━━━━━━━━━━╸\u001b[0m\u001b[90m━━━━━\u001b[0m  99.4MB certifi                    6.6s\r\n",
      "Extracting  (97) \u001b[90m━━━━━━━━━━━━╸\u001b[0m\u001b[33m━━━━━━━━━━\u001b[0m       4 libogg                     6.3s"
     ]
    },
    {
     "name": "stdout",
     "output_type": "stream",
     "text": [
      "\u001b[2K\u001b[1A\u001b[2K\u001b[1A\u001b[2K\u001b[0G[+] 6.8s\r\n",
      "Downloading  (5) ━━━━━━╸\u001b[33m━━━━━━━━━━╸\u001b[0m\u001b[90m━━━━━\u001b[0m 100.3MB certifi                    6.7s\r\n",
      "Extracting  (98) \u001b[90m━━━━━━━━━━━━━╸\u001b[0m\u001b[33m━━━━━━━━━\u001b[0m       4 libsndfile                 6.4s"
     ]
    },
    {
     "name": "stdout",
     "output_type": "stream",
     "text": [
      "\u001b[2K\u001b[1A\u001b[2K\u001b[1A\u001b[2K\u001b[0Gjinja2                                             101.4kB @  14.9kB/s  0.2s\r\n",
      "nbconvert-core                                     207.2kB @  30.2kB/s  0.0s\r\n",
      "[+] 6.9s\r\n",
      "Downloading  (5) ━━━━━━━╸\u001b[33m━━━━━━━━━╸\u001b[0m\u001b[90m━━━━━\u001b[0m 106.8MB certifi                    6.8s\r\n",
      "Extracting  (99) \u001b[33m━━━━━━━━╸\u001b[0m\u001b[90m━━━━━━━━━━━━━━\u001b[0m       5 libsndfile                 6.5s"
     ]
    },
    {
     "name": "stdout",
     "output_type": "stream",
     "text": [
      "\u001b[2K\u001b[1A\u001b[2K\u001b[1A\u001b[2K\u001b[0G[+] 7.0s\r\n",
      "Downloading  (5) ━━━━━━━╸\u001b[33m━━━━━━━━━╸\u001b[0m\u001b[90m━━━━━\u001b[0m 108.4MB cryptography               6.9s\r\n",
      "Extracting  (99) \u001b[33m━━━━━━━━━╸\u001b[0m\u001b[90m━━━━━━━━━━━━━\u001b[0m       5 libsndfile                 6.6s"
     ]
    },
    {
     "name": "stdout",
     "output_type": "stream",
     "text": [
      "\u001b[2K\u001b[1A\u001b[2K\u001b[1A\u001b[2K\u001b[0Gipython                                              1.2MB @ 165.6kB/s  0.2s\r\n",
      "qtconsole-base                                      98.4kB @  13.9kB/s  0.0s\r\n",
      "jupyter                                              8.1kB @   1.1kB/s  0.0s\r\n",
      "[+] 7.1s\r\n",
      "Downloading  (5)  ━━━━━━━╸\u001b[33m━━━━━━━━━╸\u001b[0m\u001b[90m━━━━\u001b[0m 114.5MB cryptography               7.0s\r\n",
      "Extracting  (102) \u001b[33m━━━━━━━━━━╸\u001b[0m\u001b[90m━━━━━━━━━━━\u001b[0m       5 libsndfile                 6.7s"
     ]
    },
    {
     "name": "stdout",
     "output_type": "stream",
     "text": [
      "\u001b[2K\u001b[1A\u001b[2K\u001b[1A\u001b[2K\u001b[0G[+] 7.2s\r\n",
      "Downloading  (5)  ━━━━━━━━╸\u001b[33m━━━━━━━━━╸\u001b[0m\u001b[90m━━━\u001b[0m 117.5MB cryptography               7.1s\r\n",
      "Extracting  (102) \u001b[33m━━━━━━━━━━━╸\u001b[0m\u001b[90m━━━━━━━━━━\u001b[0m       5 libssh2                    6.8s"
     ]
    },
    {
     "name": "stdout",
     "output_type": "stream",
     "text": [
      "\u001b[2K\u001b[1A\u001b[2K\u001b[1A\u001b[2K\u001b[0Gcertifi                                            158.9kB @  21.8kB/s  0.9s\r\n",
      "[+] 7.3s\r\n",
      "Downloading  (5)  ━━━━━━━━╸\u001b[33m━━━━━━━━━╸\u001b[0m\u001b[90m━━━\u001b[0m 117.8MB cryptography               7.2s\r\n",
      "Extracting  (102) \u001b[33m━━━━━━━━━━━━╸\u001b[0m\u001b[90m━━━━━━━━━\u001b[0m       5 libssh2                    6.9s"
     ]
    },
    {
     "name": "stdout",
     "output_type": "stream",
     "text": [
      "\u001b[2K\u001b[1A\u001b[2K\u001b[1A\u001b[2K\u001b[0G[+] 7.4s\r\n",
      "Downloading  (5)  ━━━━━━━━╸\u001b[33m━━━━━━━━━╸\u001b[0m\u001b[90m━━━\u001b[0m 121.6MB libgcc-ng                  7.3s\r\n",
      "Extracting  (103) \u001b[33m━━━━━━━━━━━━━╸\u001b[0m\u001b[90m━━━━━━━━\u001b[0m       5 libssh2                    7.0s"
     ]
    },
    {
     "name": "stdout",
     "output_type": "stream",
     "text": [
      "\u001b[2K\u001b[1A\u001b[2K\u001b[1A\u001b[2K\u001b[0Gurllib3                                            104.1kB @  14.0kB/s  0.7s\r\n",
      "[+] 7.5s\r\n",
      "Downloading  (5)  ━━━━━━━━╸\u001b[33m━━━━━━━━━╸\u001b[0m\u001b[90m━━━\u001b[0m 126.9MB libgcc-ng                  7.4s\r\n",
      "Extracting  (104) \u001b[33m━━━━━━━━━━━━━━╸\u001b[0m\u001b[90m━━━━━━━\u001b[0m       5 libssh2                    7.1s"
     ]
    },
    {
     "name": "stdout",
     "output_type": "stream",
     "text": [
      "\u001b[2K\u001b[1A\u001b[2K\u001b[1A\u001b[2K\u001b[0Gpython                                              30.1MB @   4.0MB/s  2.1s\r\n",
      "[+] 7.6s\r\n",
      "Downloading  (5)  ━━━━━━━━╸\u001b[33m━━━━━━━━━━╸\u001b[0m\u001b[90m━━\u001b[0m 130.8MB libgcc-ng                  7.5s\r\n",
      "Extracting  (105) \u001b[33m━━━━━━━━━━━━━━━╸\u001b[0m\u001b[90m━━━━━━\u001b[0m       5 libsystemd0                7.2s"
     ]
    },
    {
     "name": "stdout",
     "output_type": "stream",
     "text": [
      "\u001b[2K\u001b[1A\u001b[2K\u001b[1A\u001b[2K\u001b[0Gcryptography                                         1.6MB @ 214.2kB/s  1.2s\r\n",
      "[+] 7.7s\r\n",
      "Downloading  (5)  ━━━━━━━━╸\u001b[33m━━━━━━━━━━╸\u001b[0m\u001b[90m━━\u001b[0m 131.3MB libgcc-ng                  7.6s\r\n",
      "Extracting  (105) \u001b[90m╸\u001b[0m\u001b[33m━━━━━━━━━━━━━━━╸\u001b[0m\u001b[90m━━━━━\u001b[0m       6 libsystemd0                7.3s"
     ]
    },
    {
     "name": "stdout",
     "output_type": "stream",
     "text": [
      "\u001b[2K\u001b[1A\u001b[2K\u001b[1A\u001b[2K\u001b[0Gzeromq                                             359.7kB @  46.3kB/s  0.2s\r\n",
      "[+] 7.8s\r\n",
      "Downloading  (5)  ━━━━━━━━╸\u001b[33m━━━━━━━━━━╸\u001b[0m\u001b[90m━━\u001b[0m 131.8MB libopus                    7.7s\r\n",
      "Extracting  (106) \u001b[90m━╸\u001b[0m\u001b[33m━━━━━━━━━━━━━━━╸\u001b[0m\u001b[90m━━━━\u001b[0m       6 libsystemd0                7.4s"
     ]
    },
    {
     "name": "stdout",
     "output_type": "stream",
     "text": [
      "\u001b[2K\u001b[1A\u001b[2K\u001b[1A\u001b[2K\u001b[0Glibopus                                            260.7kB @  33.4kB/s  0.4s\r\n",
      "[+] 7.9s\r\n",
      "Downloading  (5)  ━━━━━━━━━╸\u001b[33m━━━━━━━━━╸\u001b[0m\u001b[90m━━\u001b[0m 132.0MB libev                      7.8s\r\n",
      "Extracting  (107) \u001b[90m━━╸\u001b[0m\u001b[33m━━━━━━━━━━━━━━━╸\u001b[0m\u001b[90m━━━\u001b[0m       6 libsystemd0                7.5s"
     ]
    },
    {
     "name": "stdout",
     "output_type": "stream",
     "text": [
      "\u001b[2K\u001b[1A\u001b[2K\u001b[1A\u001b[2K\u001b[0Gxcb-util                                            20.7kB @   2.6kB/s  0.2s\r\n",
      "[+] 8.0s\r\n",
      "Downloading  (5)  ━━━━━━━━━╸\u001b[33m━━━━━━━━━╸\u001b[0m\u001b[90m━━\u001b[0m 132.3MB libev                      7.9s\r\n",
      "Extracting  (108) \u001b[90m━━━╸\u001b[0m\u001b[33m━━━━━━━━━━━━━━━╸\u001b[0m\u001b[90m━━\u001b[0m       6 libuuid                    7.6s"
     ]
    },
    {
     "name": "stdout",
     "output_type": "stream",
     "text": [
      "\u001b[2K\u001b[1A\u001b[2K\u001b[1A\u001b[2K\u001b[0Gfonts-conda-ecosystem                                3.7kB @ 454.0 B/s  0.2s\r\n",
      "libgcc-ng                                          962.7kB @ 119.2kB/s  1.0s\r\n",
      "[+] 8.1s\r\n",
      "Downloading  (5)  ━━━━━━━━━╸\u001b[33m━━━━━━━━━╸\u001b[0m\u001b[90m━━\u001b[0m 132.9MB libev                      8.0s\r\n",
      "Extracting  (110) \u001b[90m━━━━╸\u001b[0m\u001b[33m━━━━━━━━━━━━━━━╸\u001b[0m\u001b[90m━\u001b[0m       6 libuuid                    7.7s"
     ]
    },
    {
     "name": "stdout",
     "output_type": "stream",
     "text": [
      "\u001b[2K\u001b[1A\u001b[2K\u001b[1A\u001b[2K\u001b[0Galsa-lib                                           592.3kB @  73.1kB/s  0.0s\r\n",
      "expat                                              136.8kB @  16.9kB/s  0.0s\r\n",
      "libpq                                                2.5MB @ 304.6kB/s  0.1s\r\n",
      "libcups                                              4.5MB @ 552.0kB/s  0.1s\r\n",
      "[+] 8.2s\r\n",
      "Downloading  (5)  ━━━━━━━━━╸\u001b[33m━━━━━━━━━━━━\u001b[0m 140.8MB libev                      8.1s\r\n",
      "Extracting  (113) \u001b[90m━━━━━╸\u001b[0m\u001b[33m━━━━━━━━━━━━━━━━\u001b[0m       6 libuuid                    7.8s"
     ]
    },
    {
     "name": "stdout",
     "output_type": "stream",
     "text": [
      "\u001b[2K\u001b[1A\u001b[2K\u001b[1A\u001b[2K\u001b[0G[+] 8.3s\r\n",
      "Downloading  (5)  ━━━━━━━━━╸\u001b[33m━━━━━━━━━━━━\u001b[0m 142.6MB libllvm15                  8.2s\r\n",
      "Extracting  (114) \u001b[90m━━━━━━━╸\u001b[0m\u001b[33m━━━━━━━━━━━━━━\u001b[0m       6 libuuid                    7.9s"
     ]
    },
    {
     "name": "stdout",
     "output_type": "stream",
     "text": [
      "\u001b[2K\u001b[1A\u001b[2K\u001b[1A\u001b[2K\u001b[0Glibev                                              106.2kB @  12.8kB/s  0.8s\r\n",
      "pixman                                             642.5kB @  76.8kB/s  1.1s\r\n",
      "[+] 8.4s\r\n",
      "Downloading  (5)  ━━━━━━━━━━╸\u001b[33m━━━━━━━━━━━\u001b[0m 155.8MB libllvm15                  8.3s\r\n",
      "Extracting  (115) \u001b[90m━━━━━━━━╸\u001b[0m\u001b[33m━━━━━━━━━━━━━\u001b[0m       7 libxcb                     8.0s"
     ]
    },
    {
     "name": "stdout",
     "output_type": "stream",
     "text": [
      "\u001b[2K\u001b[1A\u001b[2K\u001b[1A\u001b[2K\u001b[0G[+] 8.5s\r\n",
      "Downloading  (5)  ━━━━━━━━━━━╸\u001b[33m━━━━━━━━━━\u001b[0m 164.7MB libllvm15                  8.4s\r\n",
      "Extracting  (115) \u001b[90m━━━━━━━━━╸\u001b[0m\u001b[33m━━━━━━━━━━━━\u001b[0m       7 libxcb                     8.1s"
     ]
    },
    {
     "name": "stdout",
     "output_type": "stream",
     "text": [
      "\u001b[2K\u001b[1A\u001b[2K\u001b[1A\u001b[2K\u001b[0Gbackcall                                            13.7kB @   1.6kB/s  0.2s\r\n",
      "libllvm15                                           33.0MB @   3.9MB/s  0.4s\r\n",
      "tzdata                                             121.0kB @  14.1kB/s  0.8s\r\n",
      "[+] 8.6s\r\n",
      "Downloading  (5)  ━━━━━━━━━━━━╸\u001b[33m━━━━━━━━━\u001b[0m 174.5MB asttokens                  8.5s\r\n",
      "Extracting  (118) \u001b[90m━━━━━━━━━━╸\u001b[0m\u001b[33m━━━━━━━━━━━\u001b[0m       7 libxcb                     8.2s"
     ]
    },
    {
     "name": "stdout",
     "output_type": "stream",
     "text": [
      "\u001b[2K\u001b[1A\u001b[2K\u001b[1A\u001b[2K\u001b[0G[+] 8.7s\r\n",
      "Downloading  (5)  ━━━━━━━━━━━━╸\u001b[33m━━━━━━━━━\u001b[0m 174.5MB asttokens                  8.6s\r\n",
      "Extracting  (118) \u001b[90m━━━━━━━━━━━╸\u001b[0m\u001b[33m━━━━━━━━━━\u001b[0m       7 libxcb                     8.3s"
     ]
    },
    {
     "name": "stdout",
     "output_type": "stream",
     "text": [
      "\u001b[2K\u001b[1A\u001b[2K\u001b[1A\u001b[2K\u001b[0Gasttokens                                           21.6kB @   2.5kB/s  0.2s\r\n",
      "[+] 8.8s\r\n",
      "Downloading  (5)  ━━━━━━━━━━━━╸\u001b[33m━━━━━━━━━\u001b[0m 174.6MB cffi                       8.7s\r\n",
      "Extracting  (119) \u001b[90m━━━━━━━━━━━━╸\u001b[0m\u001b[33m━━━━━━━━━\u001b[0m       7 libxkbcommon               8.4s"
     ]
    },
    {
     "name": "stdout",
     "output_type": "stream",
     "text": [
      "\u001b[2K\u001b[1A\u001b[2K\u001b[1A\u001b[2K\u001b[0Gcharset-normalizer                                  35.7kB @   4.0kB/s  0.3s\r\n",
      "mistune                                             74.5kB @   8.4kB/s  0.0s\r\n",
      "jupyterlab_widgets                                 172.8kB @  19.5kB/s  0.0s\r\n",
      "prompt_toolkit                                       6.4kB @ 720.0 B/s  0.0s\r\n",
      "[+] 8.9s\r\n",
      "Downloading  (5)  ━━━━━━━━━━━━╸\u001b[33m━━━━━━━━━\u001b[0m 174.9MB cffi                       8.8s\r\n",
      "Extracting  (123) \u001b[33m━━━━━━━━╸\u001b[0m\u001b[90m━━━━━━━━━━━━━\u001b[0m       7 libxkbcommon               8.5s"
     ]
    },
    {
     "name": "stdout",
     "output_type": "stream",
     "text": [
      "\u001b[2K\u001b[1A\u001b[2K\u001b[1A\u001b[2K\u001b[0Glibmambapy                                         268.8kB @  30.2kB/s  0.0s\r\n",
      "cffi                                               237.0kB @  26.5kB/s  0.2s\r\n",
      "gst-plugins-base                                     2.7MB @ 304.5kB/s  0.1s\r\n",
      "[+] 9.0s\r\n",
      "Downloading  (5)  ━━━━━━━━━━━━╸\u001b[33m━━━━━━━━━\u001b[0m 178.1MB jupyter_server             8.9s\r\n",
      "Extracting  (125) \u001b[33m━━━━━━━━━╸\u001b[0m\u001b[90m━━━━━━━━━━━━\u001b[0m       7 libxkbcommon               8.6s"
     ]
    },
    {
     "name": "stdout",
     "output_type": "stream",
     "text": [
      "\u001b[2K\u001b[1A\u001b[2K\u001b[1A\u001b[2K\u001b[0Gjupyter_server                                     244.1kB @  27.1kB/s  0.0s\r\n",
      "ipykernel                                          112.0kB @  12.4kB/s  0.0s\r\n",
      "[+] 9.1s\r\n",
      "Downloading  (5)  ━━━━━━━━━━━━╸\u001b[33m━━━━━━━━━\u001b[0m 178.6MB libgomp                    9.0s\r\n",
      "Extracting  (128) \u001b[33m━━━━━━━━━━╸\u001b[0m\u001b[90m━━━━━━━━━━━\u001b[0m       7 libxkbcommon               8.7s"
     ]
    },
    {
     "name": "stdout",
     "output_type": "stream",
     "text": [
      "\u001b[2K\u001b[1A\u001b[2K\u001b[1A\u001b[2K\u001b[0Glibgomp                                            470.3kB @  51.3kB/s  0.1s\r\n",
      "[+] 9.2s\r\n",
      "Downloading  (5)  ━━━━━━━━━━━━╸\u001b[33m━━━━━━━━━\u001b[0m 179.5MB markupsafe                 9.1s\r\n",
      "Extracting  (129) \u001b[33m━━━━━━━━━━━╸\u001b[0m\u001b[90m━━━━━━━━━━\u001b[0m       7 lz4-c                      8.8s"
     ]
    },
    {
     "name": "stdout",
     "output_type": "stream",
     "text": [
      "\u001b[2K\u001b[1A\u001b[2K\u001b[1A\u001b[2K\u001b[0Gmarkupsafe                                          22.7kB @   2.5kB/s  0.6s\r\n",
      "parso                                               71.0kB @   7.7kB/s  0.9s\r\n",
      "setuptools                                           1.1MB @ 113.5kB/s  1.1s\r\n",
      "[+] 9.3s\r\n",
      "Downloading  (5)  ━━━━━━━━━━━━╸\u001b[33m━━━━━━━━━\u001b[0m 180.1MB fftw                       9.2s\r\n",
      "Extracting  (132) \u001b[33m━━━━━━━━━━━━╸\u001b[0m\u001b[90m━━━━━━━━━\u001b[0m       7 lz4-c                      8.9s"
     ]
    },
    {
     "name": "stdout",
     "output_type": "stream",
     "text": [
      "\u001b[2K\u001b[1A\u001b[2K\u001b[1A\u001b[2K\u001b[0G[+] 9.4s\r\n",
      "Downloading  (5)  ━━━━━━━━━━━━╸\u001b[33m━━━━━━━━━\u001b[0m 180.1MB fftw                       9.3s\r\n",
      "Extracting  (131) \u001b[33m━━━━━━━━━━━━━╸\u001b[0m\u001b[90m━━━━━━━━\u001b[0m       8 lz4-c                      9.0s"
     ]
    },
    {
     "name": "stdout",
     "output_type": "stream",
     "text": [
      "\u001b[2K\u001b[1A\u001b[2K\u001b[1A\u001b[2K\u001b[0Gmatplotlib-inline                                   11.2kB @   1.2kB/s  0.6s\r\n",
      "[+] 9.5s\r\n",
      "Downloading  (5)  ━━━━━━━━━━━━╸\u001b[33m━━━━━━━━━\u001b[0m 180.1MB fftw                       9.4s\r\n",
      "Extracting  (131) \u001b[33m━━━━━━━━━━━━━━╸\u001b[0m\u001b[90m━━━━━━━\u001b[0m       8 lz4-c                      9.1s"
     ]
    },
    {
     "name": "stdout",
     "output_type": "stream",
     "text": [
      "\u001b[2K\u001b[1A\u001b[2K\u001b[1A\u001b[2K\u001b[0G[+] 9.6s\r\n",
      "Downloading  (5)  ━━━━━━━━━━━━╸\u001b[33m━━━━━━━━━\u001b[0m 180.1MB fftw                       9.5s\r\n",
      "Extracting  (132) \u001b[33m━━━━━━━━━━━━━━━╸\u001b[0m\u001b[90m━━━━━━\u001b[0m       8 markupsafe                 9.2s"
     ]
    },
    {
     "name": "stdout",
     "output_type": "stream",
     "text": [
      "\u001b[2K\u001b[1A\u001b[2K\u001b[1A\u001b[2K\u001b[0Gfonts-conda-forge                                    4.1kB @ 424.0 B/s  0.2s\r\n",
      "fmt                                                189.7kB @  19.6kB/s  0.0s\r\n",
      "[+] 9.7s\r\n",
      "Downloading  (5)  ━━━━━━━━━━━━╸\u001b[33m━━━━━━━━━\u001b[0m 180.3MB keyutils                   9.6s\r\n",
      "Extracting  (133) \u001b[90m╸\u001b[0m\u001b[33m━━━━━━━━━━━━━━━╸\u001b[0m\u001b[90m━━━━━\u001b[0m       8 markupsafe                 9.3s"
     ]
    },
    {
     "name": "stdout",
     "output_type": "stream",
     "text": [
      "\u001b[2K\u001b[1A\u001b[2K\u001b[1A\u001b[2K\u001b[0Glibgcrypt                                          719.6kB @  73.8kB/s  0.1s\r\n",
      "[+] 9.8s\r\n",
      "Downloading  (5)  ━━━━━━━━━━━━╸\u001b[33m━━━━━━━━━\u001b[0m 181.0MB keyutils                   9.7s\r\n",
      "Extracting  (135) \u001b[90m━╸\u001b[0m\u001b[33m━━━━━━━━━━━━━━━╸\u001b[0m\u001b[90m━━━━\u001b[0m       8 markupsafe                 9.4s"
     ]
    },
    {
     "name": "stdout",
     "output_type": "stream",
     "text": [
      "\u001b[2K\u001b[1A\u001b[2K\u001b[1A\u001b[2K\u001b[0G[+] 9.9s\r\n",
      "Downloading  (5)  ━━━━━━━━━━━━╸\u001b[33m━━━━━━━━━\u001b[0m 181.0MB keyutils                   9.8s\r\n",
      "Extracting  (135) \u001b[90m━━╸\u001b[0m\u001b[33m━━━━━━━━━━━━━━━╸\u001b[0m\u001b[90m━━━\u001b[0m       8 markupsafe                 9.5s"
     ]
    },
    {
     "name": "stdout",
     "output_type": "stream",
     "text": [
      "\u001b[2K\u001b[1A\u001b[2K\u001b[1A\u001b[2K\u001b[0Glibnghttp2                                         827.4kB @  83.5kB/s  0.2s\r\n",
      "pulseaudio                                           1.6MB @ 159.6kB/s  0.0s\r\n",
      "xorg-xproto                                         74.9kB @   7.5kB/s  0.8s\r\n",
      "[+] 10.0s\r\n",
      "Downloading  (5)  ━━━━━━━━━━━━━╸\u001b[33m━━━━━━━━\u001b[0m 183.5MB keyutils                   9.9s\r\n",
      "Extracting  (138) \u001b[90m━━━╸\u001b[0m\u001b[33m━━━━━━━━━━━━━━━╸\u001b[0m\u001b[90m━━\u001b[0m       8 matplotlib-inline          9.6s"
     ]
    },
    {
     "name": "stdout",
     "output_type": "stream",
     "text": [
      "\u001b[2K\u001b[1A\u001b[2K\u001b[1A\u001b[2K\u001b[0Gxcb-util-wm                                         56.7kB @   5.6kB/s  0.8s\r\n",
      "[+] 10.1s\r\n",
      "Downloading  (5)  ━━━━━━━━━━━━━╸\u001b[33m━━━━━━━━\u001b[0m 183.6MB typing_extensions         10.0s\r\n",
      "Extracting  (139) \u001b[90m━━━━╸\u001b[0m\u001b[33m━━━━━━━━━━━━━━━╸\u001b[0m\u001b[90m━\u001b[0m       8 matplotlib-inline          9.7s"
     ]
    },
    {
     "name": "stdout",
     "output_type": "stream",
     "text": [
      "\u001b[2K\u001b[1A\u001b[2K\u001b[1A\u001b[2K\u001b[0Gexecuting                                           19.3kB @   1.9kB/s  0.2s\r\n",
      "[+] 10.2s\r\n",
      "Downloading  (5)  ━━━━━━━━━━━━━╸\u001b[33m━━━━━━━━\u001b[0m 184.2MB typing_extensions         10.1s\r\n",
      "Extracting  (139) ╸\u001b[33m━━━━━━━━━━━━━━━╸\u001b[0m\u001b[90m━━━━━\u001b[0m       9 matplotlib-inline          9.8s"
     ]
    },
    {
     "name": "stdout",
     "output_type": "stream",
     "text": [
      "\u001b[2K\u001b[1A\u001b[2K\u001b[1A\u001b[2K\u001b[0G[+] 10.3s\r\n",
      "Downloading  (5)  ━━━━━━━━━━━━━╸\u001b[33m━━━━━━━━\u001b[0m 184.2MB typing_extensions         10.2s\r\n",
      "Extracting  (139) ╸\u001b[33m━━━━━━━━━━━━━━━╸\u001b[0m\u001b[90m━━━━━\u001b[0m       9 matplotlib-inline          9.9s"
     ]
    },
    {
     "name": "stdout",
     "output_type": "stream",
     "text": [
      "\u001b[2K\u001b[1A\u001b[2K\u001b[1A\u001b[2K\u001b[0Gkeyutils                                           117.8kB @  11.4kB/s  1.1s\r\n",
      "typing_extensions                                   29.2kB @   2.8kB/s  0.4s\r\n",
      "importlib-metadata                                  34.2kB @   3.3kB/s  0.2s\r\n",
      "boltons                                            302.8kB @  29.3kB/s  0.0s\r\n",
      "python-fastjsonschema                              225.2kB @  21.7kB/s  0.0s\r\n",
      "beautifulsoup4                                     114.2kB @  11.0kB/s  0.0s\r\n",
      "nbconvert                                            7.8kB @ 749.0 B/s  0.0s\r\n",
      "[+] 10.4s\r\n",
      "Downloading  (5)  ━━━━━━━━━━━━━╸\u001b[33m━━━━━━━━\u001b[0m 186.7MB fftw                      10.3s\r\n",
      "Extracting  (146) ╸\u001b[33m━━━━━━━━━━━━━━━━╸\u001b[0m\u001b[90m━━━━\u001b[0m       9 mistune                   10.0s"
     ]
    },
    {
     "name": "stdout",
     "output_type": "stream",
     "text": [
      "\u001b[2K\u001b[1A\u001b[2K\u001b[1A\u001b[2K\u001b[0Gnotebook                                           307.1kB @  29.5kB/s  0.0s\r\n",
      "[+] 10.5s\r\n",
      "Downloading  (5)  ━━━━━━━━━━━━━╸\u001b[33m━━━━━━━━\u001b[0m 187.0MB fftw                      10.4s\r\n",
      "Extracting  (147) ╸\u001b[33m━━━━━━━━━━━━━━━━╸\u001b[0m\u001b[90m━━━━\u001b[0m       9 mistune                   10.1s"
     ]
    },
    {
     "name": "stdout",
     "output_type": "stream",
     "text": [
      "\u001b[2K\u001b[1A\u001b[2K\u001b[1A\u001b[2K\u001b[0Gfftw                                                 6.8MB @ 641.8kB/s  1.3s\r\n",
      "[+] 10.6s\r\n",
      "Downloading  (5)  ━━━━━━━━━━━━━╸\u001b[33m━━━━━━━━\u001b[0m 191.5MB importlib_metadata        10.5s\r\n",
      "Extracting  (148) ╸\u001b[33m━━━━━━━━━━━━━━━━╸\u001b[0m\u001b[90m━━━━\u001b[0m       9 mistune                   10.2s"
     ]
    },
    {
     "name": "stdout",
     "output_type": "stream",
     "text": [
      "\u001b[2K\u001b[1A\u001b[2K\u001b[1A\u001b[2K\u001b[0Gimportlib_metadata                                   3.9kB @ 367.0 B/s  0.3s\r\n",
      "libudev1                                           118.5kB @  11.1kB/s  0.0s\r\n",
      "[+] 10.7s\r\n",
      "Downloading  (5)  ━━━━━━━━━━━━━╸\u001b[33m━━━━━━━━\u001b[0m 191.6MB libnsl                    10.6s\r\n",
      "Extracting  (150) ╸\u001b[33m━━━━━━━━━━━━━━━━╸\u001b[0m\u001b[90m━━━━\u001b[0m       9 mistune                   10.3s"
     ]
    },
    {
     "name": "stdout",
     "output_type": "stream",
     "text": [
      "\u001b[2K\u001b[1A\u001b[2K\u001b[1A\u001b[2K\u001b[0Gwcwidth                                             34.1kB @   3.2kB/s  0.7s\r\n",
      "libarchive                                         834.2kB @  77.6kB/s  0.0s\r\n",
      "[+] 10.8s\r\n",
      "Downloading  (5)  ━━━━━━━━━━━━━╸\u001b[33m━━━━━━━━\u001b[0m 192.4MB libnsl                    10.7s\r\n",
      "Extracting  (151) ╸\u001b[33m━━━━━━━━━━━━━━━━╸\u001b[0m\u001b[90m━━━━\u001b[0m      10 mpg123                    10.4s"
     ]
    },
    {
     "name": "stdout",
     "output_type": "stream",
     "text": [
      "\u001b[2K\u001b[1A\u001b[2K\u001b[1A\u001b[2K\u001b[0Gzstd                                               458.8kB @  42.4kB/s  0.1s\r\n",
      "[+] 10.9s\r\n",
      "Downloading  (5)  ━━━━━━━━━━━━━╸\u001b[33m━━━━━━━━\u001b[0m 192.9MB libnsl                    10.8s\r\n",
      "Extracting  (152) ╸\u001b[33m━━━━━━━━━━━━━━━━━╸\u001b[0m\u001b[90m━━━\u001b[0m      10 mpg123                    10.5s"
     ]
    },
    {
     "name": "stdout",
     "output_type": "stream",
     "text": [
      "\u001b[2K\u001b[1A\u001b[2K\u001b[1A\u001b[2K\u001b[0Gxorg-libxdmcp                                       19.1kB @   1.7kB/s  0.6s\r\n",
      "platformdirs                                        17.2kB @   1.6kB/s  0.0s\r\n",
      "ruamel.yaml.clib                                   135.3kB @  12.3kB/s  0.0s\r\n",
      "[+] 11.0s\r\n",
      "Downloading  (5)  ━━━━━━━━━━━━━╸\u001b[33m━━━━━━━━\u001b[0m 193.1MB libnsl                    10.9s\r\n",
      "Extracting  (154) ╸\u001b[33m━━━━━━━━━━━━━━━━━╸\u001b[0m\u001b[90m━━━\u001b[0m      10 mpg123                    10.6s"
     ]
    },
    {
     "name": "stdout",
     "output_type": "stream",
     "text": [
      "\u001b[2K\u001b[1A\u001b[2K\u001b[1A\u001b[2K\u001b[0Glibnsl                                              31.2kB @   2.8kB/s  0.6s\r\n",
      "gstreamer                                            2.0MB @ 180.3kB/s  0.0s\r\n",
      "mamba                                               50.5kB @   4.6kB/s  0.0s\r\n",
      "nbformat                                           100.6kB @   9.1kB/s  0.0s\r\n",
      "[+] 11.1s\r\n",
      "Downloading  (5)  ━━━━━━━━━━━━━╸\u001b[33m━━━━━━━━\u001b[0m 195.2MB c-ares                    11.0s\r\n",
      "Extracting  (159) ╸\u001b[33m━━━━━━━━━━━━━━━━━╸\u001b[0m\u001b[90m━━━\u001b[0m      10 mpg123                    10.7s"
     ]
    },
    {
     "name": "stdout",
     "output_type": "stream",
     "text": [
      "\u001b[2K\u001b[1A\u001b[2K\u001b[1A\u001b[2K\u001b[0G[+] 11.2s\r\n",
      "Downloading  (5)  ━━━━━━━━━━━━━╸\u001b[33m━━━━━━━━\u001b[0m 195.2MB c-ares                    11.1s\r\n",
      "Extracting  (159) ╸\u001b[33m━━━━━━━━━━━━━━━━━╸\u001b[0m\u001b[90m━━━\u001b[0m      10 mysql-common              10.8s"
     ]
    },
    {
     "name": "stdout",
     "output_type": "stream",
     "text": [
      "\u001b[2K\u001b[1A\u001b[2K\u001b[1A\u001b[2K\u001b[0Gxorg-libxrender                                     32.9kB @   2.9kB/s  0.7s\r\n",
      "[+] 11.3s\r\n",
      "Downloading  (5)  ━━━━━━━━━━━━━╸\u001b[33m━━━━━━━━\u001b[0m 195.3MB c-ares                    11.2s\r\n",
      "Extracting  (160) ╸\u001b[33m━━━━━━━━━━━━━━━━━╸\u001b[0m\u001b[90m━━━\u001b[0m      10 mysql-common              10.9s"
     ]
    },
    {
     "name": "stdout",
     "output_type": "stream",
     "text": [
      "\u001b[2K\u001b[1A\u001b[2K\u001b[1A\u001b[2K\u001b[0Gdecorator                                           12.1kB @   1.1kB/s  0.6s\r\n",
      "[+] 11.4s\r\n",
      "Downloading  (5)  ━━━━━━━━━━━━━━╸\u001b[33m━━━━━━━\u001b[0m 206.6MB c-ares                    11.3s\r\n",
      "Extracting  (161) ╸\u001b[33m━━━━━━━━━━━━━━━━━━╸\u001b[0m\u001b[90m━━\u001b[0m      10 mysql-common              11.0s"
     ]
    },
    {
     "name": "stdout",
     "output_type": "stream",
     "text": [
      "\u001b[2K\u001b[1A\u001b[2K\u001b[1A\u001b[2K\u001b[0G[+] 11.5s\r\n",
      "Downloading  (5)  ━━━━━━━━━━━━━━━╸\u001b[33m━━━━━━\u001b[0m 212.8MB font-ttf-dejavu-sans-mono 11.4s\r\n",
      "Extracting  (161) ╸\u001b[33m━━━━━━━━━━━━━━━━━━╸\u001b[0m\u001b[90m━━\u001b[0m      10 mysql-common              11.1s"
     ]
    },
    {
     "name": "stdout",
     "output_type": "stream",
     "text": [
      "\u001b[2K\u001b[1A\u001b[2K\u001b[1A\u001b[2K\u001b[0Gwheel                                               32.0kB @   2.8kB/s  0.2s\r\n",
      "pandoc                                              27.1MB @   2.4MB/s  0.3s\r\n",
      "[+] 11.6s\r\n",
      "Downloading  (5)  ━━━━━━━━━━━━━━━╸\u001b[33m━━━━━━\u001b[0m 222.6MB font-ttf-dejavu-sans-mono 11.5s\r\n",
      "Extracting  (163) ╸\u001b[33m━━━━━━━━━━━━━━━━━━╸\u001b[0m\u001b[90m━━\u001b[0m      10 mysql-libs                11.2s"
     ]
    },
    {
     "name": "stdout",
     "output_type": "stream",
     "text": [
      "\u001b[2K\u001b[1A\u001b[2K\u001b[1A\u001b[2K\u001b[0G[+] 11.7s\r\n",
      "Downloading  (5)  ━━━━━━━━━━━━━━━╸\u001b[33m━━━━━━\u001b[0m 222.6MB font-ttf-dejavu-sans-mono 11.6s\r\n",
      "Extracting  (162) ╸\u001b[33m━━━━━━━━━━━━━━━━━━╸\u001b[0m\u001b[90m━━\u001b[0m      11 mysql-libs                11.3s"
     ]
    },
    {
     "name": "stdout",
     "output_type": "stream",
     "text": [
      "\u001b[2K\u001b[1A\u001b[2K\u001b[1A\u001b[2K\u001b[0G[+] 11.8s\r\n",
      "Downloading  (5)  ━━━━━━━━━━━━━━━╸\u001b[33m━━━━━━\u001b[0m 223.1MB font-ttf-dejavu-sans-mono 11.7s\r\n",
      "Extracting  (162) ╸\u001b[33m━━━━━━━━━━━━━━━━━━╸\u001b[0m\u001b[90m━━\u001b[0m      11 mysql-libs                11.4s"
     ]
    },
    {
     "name": "stdout",
     "output_type": "stream",
     "text": [
      "\u001b[2K\u001b[1A\u001b[2K\u001b[1A\u001b[2K\u001b[0Gc-ares                                             115.4kB @   9.8kB/s  0.8s\r\n",
      "[+] 11.9s\r\n",
      "Downloading  (5)  ━━━━━━━━━━━━━━━╸\u001b[33m━━━━━━\u001b[0m 223.2MB jedi                      11.8s\r\n",
      "Extracting  (163) ╸\u001b[33m━━━━━━━━━━━━━━━━━━╸\u001b[0m\u001b[90m━━\u001b[0m      11 mysql-libs                11.5s"
     ]
    },
    {
     "name": "stdout",
     "output_type": "stream",
     "text": [
      "\u001b[2K\u001b[1A\u001b[2K\u001b[1A\u001b[2K\u001b[0Gjedi                                               817.7kB @  68.6kB/s  1.1s\r\n",
      "jupyter_core                                        90.5kB @   7.6kB/s  0.1s\r\n",
      "jupyter_console                                     26.5kB @   2.2kB/s  0.0s\r\n",
      "lame                                               508.3kB @  42.4kB/s  0.0s\r\n",
      "[+] 12.0s\r\n",
      "Downloading  (5)  ━━━━━━━━━━━━━━━━╸\u001b[33m━━━━━\u001b[0m 224.2MB cairo                     11.9s\r\n",
      "Extracting  (167) ╸\u001b[33m━━━━━━━━━━━━━━━━━━╸\u001b[0m\u001b[90m━━\u001b[0m      11 nbclassic                 11.6s"
     ]
    },
    {
     "name": "stdout",
     "output_type": "stream",
     "text": [
      "\u001b[2K\u001b[1A\u001b[2K\u001b[1A\u001b[2K\u001b[0G[+] 12.1s\r\n",
      "Downloading  (5)  ━━━━━━━━━━━━━━━━╸\u001b[33m━━━━━\u001b[0m 224.2MB cairo                     12.0s\r\n",
      "Extracting  (167) ╸\u001b[33m━━━━━━━━━━━━━━━━━━╸\u001b[0m\u001b[90m━━\u001b[0m      11 nbclassic                 11.7s"
     ]
    },
    {
     "name": "stdout",
     "output_type": "stream",
     "text": [
      "\u001b[2K\u001b[1A\u001b[2K\u001b[1A\u001b[2K\u001b[0Glibgfortran-ng                                      23.2kB @   1.9kB/s  0.2s\r\n",
      "colorama                                            18.6kB @   1.5kB/s  0.7s\r\n",
      "[+] 12.2s\r\n",
      "Downloading  (5)  ━━━━━━━━━━━━━━━━╸\u001b[33m━━━━━\u001b[0m 224.3MB cairo                     12.1s\r\n",
      "Extracting  (169) ╸\u001b[33m━━━━━━━━━━━━━━━━━━━╸\u001b[0m\u001b[90m━\u001b[0m      11 nbclassic                 11.8s"
     ]
    },
    {
     "name": "stdout",
     "output_type": "stream",
     "text": [
      "\u001b[2K\u001b[1A\u001b[2K\u001b[1A\u001b[2K\u001b[0Gpycosat                                            110.6kB @   9.1kB/s  0.0s\r\n",
      "[+] 12.3s\r\n",
      "Downloading  (5)  ━━━━━━━━━━━━━━━━╸\u001b[33m━━━━━\u001b[0m 224.5MB cairo                     12.2s\r\n",
      "Extracting  (170) ╸\u001b[33m━━━━━━━━━━━━━━━━━━━╸\u001b[0m\u001b[90m━\u001b[0m      11 nbclassic                 11.9s"
     ]
    },
    {
     "name": "stdout",
     "output_type": "stream",
     "text": [
      "\u001b[2K\u001b[1A\u001b[2K\u001b[1A\u001b[2K\u001b[0G[+] 12.4s\r\n",
      "Downloading  (5)  ━━━━━━━━━━━━━━━━╸\u001b[33m━━━━━\u001b[0m 224.6MB font-ttf-dejavu-sans-mono 12.3s\r\n",
      "Extracting  (170) ╸\u001b[33m━━━━━━━━━━━━━━━━━━━╸\u001b[0m\u001b[90m━\u001b[0m      11 nbclient                  12.0s"
     ]
    },
    {
     "name": "stdout",
     "output_type": "stream",
     "text": [
      "\u001b[2K\u001b[1A\u001b[2K\u001b[1A\u001b[2K\u001b[0Gfont-ttf-dejavu-sans-mono                          397.4kB @  32.1kB/s  1.3s\r\n",
      "[+] 12.5s\r\n",
      "Downloading  (5)  ━━━━━━━━━━━━━━━━╸\u001b[33m━━━━━\u001b[0m 224.7MB cairo                     12.4s\r\n",
      "Extracting  (170) ╸\u001b[33m━━━━━━━━━━━━━━━━━━━╸\u001b[0m\u001b[90m━\u001b[0m      12 nbclient                  12.1s"
     ]
    },
    {
     "name": "stdout",
     "output_type": "stream",
     "text": [
      "\u001b[2K\u001b[1A\u001b[2K\u001b[1A\u001b[2K\u001b[0Gpyzmq                                              497.5kB @  39.8kB/s  1.0s\r\n",
      "[+] 12.6s\r\n",
      "Downloading  (5)  ━━━━━━━━━━━━━━━━╸\u001b[33m━━━━━\u001b[0m 225.1MB cairo                     12.5s\r\n",
      "Extracting  (171) ╸\u001b[33m━━━━━━━━━━━━━━━━━━━╸\u001b[0m\u001b[90m━\u001b[0m      12 nbclient                  12.2s"
     ]
    },
    {
     "name": "stdout",
     "output_type": "stream",
     "text": [
      "\u001b[2K\u001b[1A\u001b[2K\u001b[1A\u001b[2K\u001b[0G[+] 12.7s\r\n",
      "Downloading  (5)  ━━━━━━━━━━━━━━━━╸\u001b[33m━━━━━\u001b[0m 225.1MB cairo                     12.6s\r\n",
      "Extracting  (171) ╸\u001b[33m━━━━━━━━━━━━━━━━━━━╸\u001b[0m\u001b[90m━\u001b[0m      12 nbclient                  12.3s"
     ]
    },
    {
     "name": "stdout",
     "output_type": "stream",
     "text": [
      "\u001b[2K\u001b[1A\u001b[2K\u001b[1A\u001b[2K\u001b[0G[+] 12.8s\r\n",
      "Downloading  (5)  ━━━━━━━━━━━━━━━━╸\u001b[33m━━━━━\u001b[0m 225.2MB cairo                     12.7s\r\n",
      "Extracting  (171) ╸\u001b[33m━━━━━━━━━━━━━━━━━━━╸\u001b[0m\u001b[90m━\u001b[0m      12 nbconvert                 12.4s"
     ]
    },
    {
     "name": "stdout",
     "output_type": "stream",
     "text": [
      "\u001b[2K\u001b[1A\u001b[2K\u001b[1A\u001b[2K\u001b[0Gxorg-xextproto                                      28.3kB @   2.2kB/s  0.7s\r\n",
      "comm                                                11.5kB @ 890.0 B/s  0.0s\r\n",
      "[+] 12.9s\r\n",
      "Downloading  (5)  ━━━━━━━━━━━━━━━━╸\u001b[33m━━━━━\u001b[0m 226.2MB libsodium                 12.8s\r\n",
      "Extracting  (173) ╸\u001b[33m━━━━━━━━━━━━━━━━━━━╸\u001b[0m\u001b[90m━\u001b[0m      12 nbconvert                 12.5s"
     ]
    },
    {
     "name": "stdout",
     "output_type": "stream",
     "text": [
      "\u001b[2K\u001b[1A\u001b[2K\u001b[1A\u001b[2K\u001b[0Gstack_data                                          23.0kB @   1.8kB/s  0.7s\r\n",
      "pip                                                  1.6MB @ 121.3kB/s  0.4s\r\n",
      "[+] 13.0s\r\n",
      "Downloading  (5)  ━━━━━━━━━━━━━━━━╸\u001b[33m━━━━━\u001b[0m 229.6MB libsodium                 12.9s\r\n",
      "Extracting  (175) ╸\u001b[33m━━━━━━━━━━━━━━━━━━━╸\u001b[0m\u001b[90m━\u001b[0m      12 nbconvert                 12.6s"
     ]
    },
    {
     "name": "stdout",
     "output_type": "stream",
     "text": [
      "\u001b[2K\u001b[1A\u001b[2K\u001b[1A\u001b[2K\u001b[0Glibsodium                                          375.0kB @  28.7kB/s  0.2s\r\n",
      "xorg-libsm                                          26.4kB @   2.0kB/s  0.7s\r\n",
      "[+] 13.1s\r\n",
      "Downloading  (5)  ━━━━━━━━━━━━━━━━━╸\u001b[33m━━━━\u001b[0m 240.7MB cairo                     13.0s\r\n",
      "Extracting  (177) ╸\u001b[33m━━━━━━━━━━━━━━━━━━━━━\u001b[0m      12 nbconvert                 12.7s"
     ]
    },
    {
     "name": "stdout",
     "output_type": "stream",
     "text": [
      "\u001b[2K\u001b[1A\u001b[2K\u001b[1A\u001b[2K\u001b[0Glibgpg-error                                       257.6kB @  19.7kB/s  0.1s\r\n",
      "jupyter_client                                     104.3kB @   7.9kB/s  0.0s\r\n",
      "cairo                                                1.6MB @ 120.4kB/s  1.2s\r\n",
      "[+] 13.2s\r\n",
      "Downloading  (5)  ━━━━━━━━━━━━━━━━━╸\u001b[33m━━━━\u001b[0m 246.5MB libvorbis                 13.1s\r\n",
      "Extracting  (180) ╸\u001b[33m━━━━━━━━━━━━━━━━━━━━━\u001b[0m      12 nbconvert-core            12.8s"
     ]
    },
    {
     "name": "stdout",
     "output_type": "stream",
     "text": [
      "\u001b[2K\u001b[1A\u001b[2K\u001b[1A\u001b[2K\u001b[0Gtoml                                                18.4kB @   1.4kB/s  0.1s\r\n",
      "[+] 13.3s\r\n",
      "Downloading  (4)  ━━━━━━━━━━━━━━━━━━╸\u001b[33m━━━\u001b[0m 259.1MB libvorbis                 13.2s\r\n",
      "Extracting  (181) ╸\u001b[33m━━━━━━━━━━━━━━━━━━━━━\u001b[0m      12 nbconvert-core            12.9s"
     ]
    },
    {
     "name": "stdout",
     "output_type": "stream",
     "text": [
      "\u001b[2K\u001b[1A\u001b[2K\u001b[1A\u001b[2K\u001b[0G[+] 13.4s\r\n",
      "Downloading  (4)  ━━━━━━━━━━━━━━━━━━━━╸\u001b[33m━\u001b[0m 277.3MB libvorbis                 13.3s\r\n",
      "Extracting  (181) ╸\u001b[33m━━━━━━━━━━━━━━━━━━━━━\u001b[0m      12 nbconvert-core            13.0s"
     ]
    },
    {
     "name": "stdout",
     "output_type": "stream",
     "text": [
      "\u001b[2K\u001b[1A\u001b[2K\u001b[1A\u001b[2K\u001b[0Gqt-main                                             54.8MB @   4.1MB/s  0.5s\r\n",
      "[+] 13.5s\r\n",
      "Downloading  (3)  ━━━━━━━━━━━━━━━━━━━━╸\u001b[33m━\u001b[0m 284.5MB libvorbis                 13.4s\r\n",
      "Extracting  (182) ╸\u001b[33m━━━━━━━━━━━━━━━━━━━━━\u001b[0m      12 nbconvert-core            13.1s"
     ]
    },
    {
     "name": "stdout",
     "output_type": "stream",
     "text": [
      "\u001b[2K\u001b[1A\u001b[2K\u001b[1A\u001b[2K\u001b[0Gsqlite                                               1.6MB @ 119.3kB/s  0.6s\r\n",
      "[+] 13.6s\r\n",
      "Downloading  (2)  ━━━━━━━━━━━━━━━━━━━━╸\u001b[33m━\u001b[0m 285.6MB pygments                  13.5s\r\n"
     ]
    },
    {
     "name": "stdout",
     "output_type": "stream",
     "text": [
      "Extracting  (183) ╸\u001b[33m━━━━━━━━━━━━━━━━━━━━━\u001b[0m      12 nbconvert-pandoc          13.2s"
     ]
    },
    {
     "name": "stdout",
     "output_type": "stream",
     "text": [
      "\u001b[2K\u001b[1A\u001b[2K\u001b[1A\u001b[2K\u001b[0Gpygments                                           836.9kB @  61.2kB/s  0.6s\r\n",
      "[+] 13.7s\r\n",
      "Downloading  (1)  ━━━━━━━━━━━━━━━━━━━━╸\u001b[33m━\u001b[0m 286.3MB libvorbis                 13.6s\r\n",
      "Extracting  (184) ╸\u001b[33m━━━━━━━━━━━━━━━━━━━━━\u001b[0m      12 nbconvert-pandoc          13.3s"
     ]
    },
    {
     "name": "stdout",
     "output_type": "stream",
     "text": [
      "\u001b[2K\u001b[1A\u001b[2K\u001b[1A\u001b[2K\u001b[0G[+] 13.8s\r\n",
      "Downloading  (1)  ━━━━━━━━━━━━━━━━━━━━╸\u001b[33m━\u001b[0m 286.3MB libvorbis                 13.7s\r\n",
      "Extracting  (184) ╸\u001b[33m━━━━━━━━━━━━━━━━━━━━━\u001b[0m      12 nbconvert-pandoc          13.4s"
     ]
    },
    {
     "name": "stdout",
     "output_type": "stream",
     "text": [
      "\u001b[2K\u001b[1A\u001b[2K\u001b[1A\u001b[2K\u001b[0G[+] 13.9s\r\n",
      "Downloading  (1)  ━━━━━━━━━━━━━━━━━━━━╸\u001b[33m━\u001b[0m 286.3MB libvorbis                 13.8s\r\n",
      "Extracting  (184) ╸\u001b[33m━━━━━━━━━━━━━━━━━━━━━\u001b[0m      12 nbconvert-pandoc          13.5s"
     ]
    },
    {
     "name": "stdout",
     "output_type": "stream",
     "text": [
      "\u001b[2K\u001b[1A\u001b[2K\u001b[1A\u001b[2K\u001b[0Glibvorbis                                          286.3kB @  20.5kB/s  0.9s\r\n",
      "[+] 14.0s\r\n",
      "Downloading       ━━━━━━━━━━━━━━━━━━━━━━ 286.6MB                           13.9s\r\n",
      "Extracting  (184) ╸\u001b[33m━━━━━━━━━━━━━━━━━━━━━\u001b[0m      12 nbformat                  13.6s"
     ]
    },
    {
     "name": "stdout",
     "output_type": "stream",
     "text": [
      "\u001b[2K\u001b[1A\u001b[2K\u001b[1A\u001b[2K\u001b[0G[+] 14.1s\r\n",
      "Downloading       ━━━━━━━━━━━━━━━━━━━━━━ 286.6MB                           13.9s\r\n",
      "Extracting  (184) ╸\u001b[33m━━━━━━━━━━━━━━━━━━━━━\u001b[0m      13 nbformat                  13.7s"
     ]
    },
    {
     "name": "stdout",
     "output_type": "stream",
     "text": [
      "\u001b[2K\u001b[1A\u001b[2K\u001b[1A\u001b[2K\u001b[0G[+] 14.2s\r\n",
      "Downloading       ━━━━━━━━━━━━━━━━━━━━━━ 286.6MB                           13.9s\r\n",
      "Extracting  (184) ╸\u001b[33m━━━━━━━━━━━━━━━━━━━━━\u001b[0m      13 nbformat                  13.8s"
     ]
    },
    {
     "name": "stdout",
     "output_type": "stream",
     "text": [
      "\u001b[2K\u001b[1A\u001b[2K\u001b[1A\u001b[2K\u001b[0G[+] 14.3s\r\n",
      "Downloading       ━━━━━━━━━━━━━━━━━━━━━━ 286.6MB                           13.9s\r\n",
      "Extracting  (184) ╸\u001b[33m━━━━━━━━━━━━━━━━━━━━━\u001b[0m      13 nbformat                  13.9s"
     ]
    },
    {
     "name": "stdout",
     "output_type": "stream",
     "text": [
      "\u001b[2K\u001b[1A\u001b[2K\u001b[1A\u001b[2K\u001b[0G[+] 14.4s\r\n",
      "Downloading       ━━━━━━━━━━━━━━━━━━━━━━ 286.6MB                           13.9s\r\n",
      "Extracting  (184) ╸\u001b[33m━━━━━━━━━━━━━━━━━━━━━\u001b[0m      13 ncurses                   14.0s"
     ]
    },
    {
     "name": "stdout",
     "output_type": "stream",
     "text": [
      "\u001b[2K\u001b[1A\u001b[2K\u001b[1A\u001b[2K\u001b[0G[+] 14.5s\r\n",
      "Downloading       ━━━━━━━━━━━━━━━━━━━━━━ 286.6MB                           13.9s\r\n",
      "Extracting  (184) ╸\u001b[33m━━━━━━━━━━━━━━━━━━━━━\u001b[0m      13 ncurses                   14.1s"
     ]
    },
    {
     "name": "stdout",
     "output_type": "stream",
     "text": [
      "\u001b[2K\u001b[1A\u001b[2K\u001b[1A\u001b[2K\u001b[0G[+] 14.6s\r\n",
      "Downloading       ━━━━━━━━━━━━━━━━━━━━━━ 286.6MB                           13.9s\r\n",
      "Extracting  (183) ╸\u001b[33m━━━━━━━━━━━━━━━━━━━━━\u001b[0m      14 ncurses                   14.2s"
     ]
    },
    {
     "name": "stdout",
     "output_type": "stream",
     "text": [
      "\u001b[2K\u001b[1A\u001b[2K\u001b[1A\u001b[2K\u001b[0G[+] 14.7s\r\n",
      "Downloading       ━━━━━━━━━━━━━━━━━━━━━━ 286.6MB                           13.9s\r\n",
      "Extracting  (183) ╸\u001b[33m━━━━━━━━━━━━━━━━━━━━━\u001b[0m      14 ncurses                   14.3s"
     ]
    },
    {
     "name": "stdout",
     "output_type": "stream",
     "text": [
      "\u001b[2K\u001b[1A\u001b[2K\u001b[1A\u001b[2K\u001b[0G[+] 14.8s\r\n",
      "Downloading       ━━━━━━━━━━━━━━━━━━━━━━ 286.6MB                           13.9s\r\n",
      "Extracting  (183) ╸\u001b[33m━━━━━━━━━━━━━━━━━━━━━\u001b[0m      14 notebook                  14.4s"
     ]
    },
    {
     "name": "stdout",
     "output_type": "stream",
     "text": [
      "\u001b[2K\u001b[1A\u001b[2K\u001b[1A\u001b[2K\u001b[0G[+] 14.9s\r\n",
      "Downloading       ━━━━━━━━━━━━━━━━━━━━━━ 286.6MB                           13.9s\r\n",
      "Extracting  (183) ╸\u001b[33m━━━━━━━━━━━━━━━━━━━━━\u001b[0m      14 notebook                  14.5s"
     ]
    },
    {
     "name": "stdout",
     "output_type": "stream",
     "text": [
      "\u001b[2K\u001b[1A\u001b[2K\u001b[1A\u001b[2K\u001b[0G[+] 15.0s\r\n",
      "Downloading       ━━━━━━━━━━━━━━━━━━━━━━ 286.6MB                           13.9s\r\n",
      "Extracting  (183) ╸\u001b[33m━━━━━━━━━━━━━━━━━━━━━\u001b[0m      14 notebook                  14.6s"
     ]
    },
    {
     "name": "stdout",
     "output_type": "stream",
     "text": [
      "\u001b[2K\u001b[1A\u001b[2K\u001b[1A\u001b[2K\u001b[0G[+] 15.1s\r\n",
      "Downloading       ━━━━━━━━━━━━━━━━━━━━━━ 286.6MB                           13.9s\r\n",
      "Extracting  (183) ╸\u001b[33m━━━━━━━━━━━━━━━━━━━━━\u001b[0m      14 notebook                  14.7s"
     ]
    },
    {
     "name": "stdout",
     "output_type": "stream",
     "text": [
      "\u001b[2K\u001b[1A\u001b[2K\u001b[1A\u001b[2K\u001b[0G[+] 15.2s\r\n",
      "Downloading       ━━━━━━━━━━━━━━━━━━━━━━ 286.6MB                           13.9s\r\n",
      "Extracting  (183) ╸\u001b[33m━━━━━━━━━━━━━━━━━━━━━\u001b[0m      14 nspr                      14.8s"
     ]
    },
    {
     "name": "stdout",
     "output_type": "stream",
     "text": [
      "\u001b[2K\u001b[1A\u001b[2K\u001b[1A\u001b[2K\u001b[0G[+] 15.3s\r\n",
      "Downloading       ━━━━━━━━━━━━━━━━━━━━━━ 286.6MB                           13.9s\r\n",
      "Extracting  (183) ╸\u001b[33m━━━━━━━━━━━━━━━━━━━━━\u001b[0m      14 nspr                      14.9s"
     ]
    },
    {
     "name": "stdout",
     "output_type": "stream",
     "text": [
      "\u001b[2K\u001b[1A\u001b[2K\u001b[1A\u001b[2K\u001b[0G[+] 15.4s\r\n",
      "Downloading       ━━━━━━━━━━━━━━━━━━━━━━ 286.6MB                           13.9s\r\n",
      "Extracting  (183) ╸\u001b[33m━━━━━━━━━━━━━━━━━━━━━\u001b[0m      14 nspr                      15.0s"
     ]
    },
    {
     "name": "stdout",
     "output_type": "stream",
     "text": [
      "\u001b[2K\u001b[1A\u001b[2K\u001b[1A\u001b[2K\u001b[0G[+] 15.5s\r\n",
      "Downloading       ━━━━━━━━━━━━━━━━━━━━━━ 286.6MB                           13.9s\r\n",
      "Extracting  (183) ╸\u001b[33m━━━━━━━━━━━━━━━━━━━━━\u001b[0m      14 nspr                      15.1s"
     ]
    },
    {
     "name": "stdout",
     "output_type": "stream",
     "text": [
      "\u001b[2K\u001b[1A\u001b[2K\u001b[1A\u001b[2K\u001b[0G[+] 15.6s\r\n",
      "Downloading       ━━━━━━━━━━━━━━━━━━━━━━ 286.6MB                           13.9s\r\n",
      "Extracting  (183) ╸\u001b[33m━━━━━━━━━━━━━━━━━━━━━\u001b[0m      14 nss                       15.2s"
     ]
    },
    {
     "name": "stdout",
     "output_type": "stream",
     "text": [
      "\u001b[2K\u001b[1A\u001b[2K\u001b[1A\u001b[2K\u001b[0G[+] 15.7s\r\n",
      "Downloading       ━━━━━━━━━━━━━━━━━━━━━━ 286.6MB                           13.9s\r\n",
      "Extracting  (182) ╸\u001b[33m━━━━━━━━━━━━━━━━━━━━━\u001b[0m      15 nss                       15.3s"
     ]
    },
    {
     "name": "stdout",
     "output_type": "stream",
     "text": [
      "\u001b[2K\u001b[1A\u001b[2K\u001b[1A\u001b[2K\u001b[0G[+] 15.8s\r\n",
      "Downloading       ━━━━━━━━━━━━━━━━━━━━━━ 286.6MB                           13.9s\r\n",
      "Extracting  (182) ╸\u001b[33m━━━━━━━━━━━━━━━━━━━━━\u001b[0m      15 nss                       15.4s"
     ]
    },
    {
     "name": "stdout",
     "output_type": "stream",
     "text": [
      "\u001b[2K\u001b[1A\u001b[2K\u001b[1A\u001b[2K\u001b[0G[+] 15.9s\r\n",
      "Downloading       ━━━━━━━━━━━━━━━━━━━━━━ 286.6MB                           13.9s\r\n",
      "Extracting  (182) ╸\u001b[33m━━━━━━━━━━━━━━━━━━━━━\u001b[0m      15 nss                       15.5s"
     ]
    },
    {
     "name": "stdout",
     "output_type": "stream",
     "text": [
      "\u001b[2K\u001b[1A\u001b[2K\u001b[1A\u001b[2K\u001b[0G[+] 16.0s\r\n",
      "Downloading       ━━━━━━━━━━━━━━━━━━━━━━ 286.6MB                           13.9s\r\n",
      "Extracting  (182) ╸\u001b[33m━━━━━━━━━━━━━━━━━━━━━\u001b[0m      15 pandoc                    15.6s"
     ]
    },
    {
     "name": "stdout",
     "output_type": "stream",
     "text": [
      "\u001b[2K\u001b[1A\u001b[2K\u001b[1A\u001b[2K\u001b[0G[+] 16.1s\r\n",
      "Downloading       ━━━━━━━━━━━━━━━━━━━━━━ 286.6MB                           13.9s\r\n",
      "Extracting  (181) ╸\u001b[33m━━━━━━━━━━━━━━━━━━━━━\u001b[0m      16 pandoc                    15.7s"
     ]
    },
    {
     "name": "stdout",
     "output_type": "stream",
     "text": [
      "\u001b[2K\u001b[1A\u001b[2K\u001b[1A\u001b[2K\u001b[0G[+] 16.2s\r\n",
      "Downloading       ━━━━━━━━━━━━━━━━━━━━━━ 286.6MB                           13.9s\r\n",
      "Extracting  (181) ╸\u001b[33m━━━━━━━━━━━━━━━━━━━━━\u001b[0m      16 pandoc                    15.8s"
     ]
    },
    {
     "name": "stdout",
     "output_type": "stream",
     "text": [
      "\u001b[2K\u001b[1A\u001b[2K\u001b[1A\u001b[2K\u001b[0G[+] 16.3s\r\n",
      "Downloading       ━━━━━━━━━━━━━━━━━━━━━━ 286.6MB                           13.9s\r\n",
      "Extracting  (181) ╸\u001b[33m━━━━━━━━━━━━━━━━━━━━━\u001b[0m      16 pandoc                    15.9s"
     ]
    },
    {
     "name": "stdout",
     "output_type": "stream",
     "text": [
      "\u001b[2K\u001b[1A\u001b[2K\u001b[1A\u001b[2K\u001b[0G[+] 16.4s\r\n",
      "Downloading       ━━━━━━━━━━━━━━━━━━━━━━ 286.6MB                           13.9s\r\n",
      "Extracting  (181) ╸\u001b[33m━━━━━━━━━━━━━━━━━━━━━\u001b[0m      16 parso                     16.0s"
     ]
    },
    {
     "name": "stdout",
     "output_type": "stream",
     "text": [
      "\u001b[2K\u001b[1A\u001b[2K\u001b[1A\u001b[2K\u001b[0G[+] 16.5s\r\n",
      "Downloading       ━━━━━━━━━━━━━━━━━━━━━━ 286.6MB                           13.9s\r\n",
      "Extracting  (181) ╸\u001b[33m━━━━━━━━━━━━━━━━━━━━━\u001b[0m      16 parso                     16.1s"
     ]
    },
    {
     "name": "stdout",
     "output_type": "stream",
     "text": [
      "\u001b[2K\u001b[1A\u001b[2K\u001b[1A\u001b[2K\u001b[0G[+] 16.6s\r\n",
      "Downloading       ━━━━━━━━━━━━━━━━━━━━━━ 286.6MB                           13.9s\r\n",
      "Extracting  (181) ╸\u001b[33m━━━━━━━━━━━━━━━━━━━━━\u001b[0m      16 parso                     16.2s"
     ]
    },
    {
     "name": "stdout",
     "output_type": "stream",
     "text": [
      "\u001b[2K\u001b[1A\u001b[2K\u001b[1A\u001b[2K\u001b[0G[+] 16.7s\r\n",
      "Downloading       ━━━━━━━━━━━━━━━━━━━━━━ 286.6MB                           13.9s\r\n",
      "Extracting  (181) ╸\u001b[33m━━━━━━━━━━━━━━━━━━━━━\u001b[0m      16 parso                     16.3s"
     ]
    },
    {
     "name": "stdout",
     "output_type": "stream",
     "text": [
      "\u001b[2K\u001b[1A\u001b[2K\u001b[1A\u001b[2K\u001b[0G[+] 16.8s\r\n",
      "Downloading       ━━━━━━━━━━━━━━━━━━━━━━ 286.6MB                           13.9s\r\n",
      "Extracting  (181) ╸\u001b[33m━━━━━━━━━━━━━━━━━━━━━\u001b[0m      16 pexpect                   16.4s"
     ]
    },
    {
     "name": "stdout",
     "output_type": "stream",
     "text": [
      "\u001b[2K\u001b[1A\u001b[2K\u001b[1A\u001b[2K\u001b[0G[+] 16.9s\r\n",
      "Downloading       ━━━━━━━━━━━━━━━━━━━━━━ 286.6MB                           13.9s\r\n",
      "Extracting  (181) ╸\u001b[33m━━━━━━━━━━━━━━━━━━━━━\u001b[0m      16 pexpect                   16.5s"
     ]
    },
    {
     "name": "stdout",
     "output_type": "stream",
     "text": [
      "\u001b[2K\u001b[1A\u001b[2K\u001b[1A\u001b[2K\u001b[0G[+] 17.0s\r\n",
      "Downloading       ━━━━━━━━━━━━━━━━━━━━━━ 286.6MB                           13.9s\r\n",
      "Extracting  (181) ╸\u001b[33m━━━━━━━━━━━━━━━━━━━━━\u001b[0m      16 pexpect                   16.6s"
     ]
    },
    {
     "name": "stdout",
     "output_type": "stream",
     "text": [
      "\u001b[2K\u001b[1A\u001b[2K\u001b[1A\u001b[2K\u001b[0G[+] 17.1s\r\n",
      "Downloading       ━━━━━━━━━━━━━━━━━━━━━━ 286.6MB                           13.9s\r\n",
      "Extracting  (180) ╸\u001b[33m━━━━━━━━━━━━━━━━━━━━━\u001b[0m      17 pexpect                   16.7s"
     ]
    },
    {
     "name": "stdout",
     "output_type": "stream",
     "text": [
      "\u001b[2K\u001b[1A\u001b[2K\u001b[1A\u001b[2K\u001b[0G[+] 17.2s\r\n",
      "Downloading       ━━━━━━━━━━━━━━━━━━━━━━ 286.6MB                           13.9s\r\n",
      "Extracting  (180) ╸\u001b[33m━━━━━━━━━━━━━━━━━━━━━\u001b[0m      17 pickleshare               16.8s"
     ]
    },
    {
     "name": "stdout",
     "output_type": "stream",
     "text": [
      "\u001b[2K\u001b[1A\u001b[2K\u001b[1A\u001b[2K\u001b[0G[+] 17.3s\r\n",
      "Downloading       ━━━━━━━━━━━━━━━━━━━━━━ 286.6MB                           13.9s\r\n",
      "Extracting  (180) ╸\u001b[33m━━━━━━━━━━━━━━━━━━━━━\u001b[0m      17 pickleshare               16.9s"
     ]
    },
    {
     "name": "stdout",
     "output_type": "stream",
     "text": [
      "\u001b[2K\u001b[1A\u001b[2K\u001b[1A\u001b[2K\u001b[0G[+] 17.4s\r\n",
      "Downloading       ━━━━━━━━━━━━━━━━━━━━━━ 286.6MB                           13.9s\r\n",
      "Extracting  (180) ╸\u001b[33m━━━━━━━━━━━━━━━━━━━━━\u001b[0m      17 pickleshare               17.0s"
     ]
    },
    {
     "name": "stdout",
     "output_type": "stream",
     "text": [
      "\u001b[2K\u001b[1A\u001b[2K\u001b[1A\u001b[2K\u001b[0G[+] 17.5s\r\n",
      "Downloading       ━━━━━━━━━━━━━━━━━━━━━━ 286.6MB                           13.9s\r\n",
      "Extracting  (179) ━╸\u001b[33m━━━━━━━━━━━━━━━━━━━━\u001b[0m      18 pickleshare               17.1s"
     ]
    },
    {
     "name": "stdout",
     "output_type": "stream",
     "text": [
      "\u001b[2K\u001b[1A\u001b[2K\u001b[1A\u001b[2K\u001b[0G[+] 17.6s\r\n",
      "Downloading       ━━━━━━━━━━━━━━━━━━━━━━ 286.6MB                           13.9s\r\n",
      "Extracting  (179) ━╸\u001b[33m━━━━━━━━━━━━━━━━━━━━\u001b[0m      18 pip                       17.2s"
     ]
    },
    {
     "name": "stdout",
     "output_type": "stream",
     "text": [
      "\u001b[2K\u001b[1A\u001b[2K\u001b[1A\u001b[2K\u001b[0G[+] 17.7s\r\n",
      "Downloading       ━━━━━━━━━━━━━━━━━━━━━━ 286.6MB                           13.9s\r\n",
      "Extracting  (179) ━╸\u001b[33m━━━━━━━━━━━━━━━━━━━━\u001b[0m      18 pip                       17.3s"
     ]
    },
    {
     "name": "stdout",
     "output_type": "stream",
     "text": [
      "\u001b[2K\u001b[1A\u001b[2K\u001b[1A\u001b[2K\u001b[0G[+] 17.8s\r\n",
      "Downloading       ━━━━━━━━━━━━━━━━━━━━━━ 286.6MB                           13.9s\r\n",
      "Extracting  (179) ━╸\u001b[33m━━━━━━━━━━━━━━━━━━━━\u001b[0m      18 pip                       17.4s"
     ]
    },
    {
     "name": "stdout",
     "output_type": "stream",
     "text": [
      "\u001b[2K\u001b[1A\u001b[2K\u001b[1A\u001b[2K\u001b[0G[+] 17.9s\r\n",
      "Downloading       ━━━━━━━━━━━━━━━━━━━━━━ 286.6MB                           13.9s\r\n",
      "Extracting  (179) ━╸\u001b[33m━━━━━━━━━━━━━━━━━━━━\u001b[0m      18 pip                       17.5s"
     ]
    },
    {
     "name": "stdout",
     "output_type": "stream",
     "text": [
      "\u001b[2K\u001b[1A\u001b[2K\u001b[1A\u001b[2K\u001b[0G[+] 18.0s\r\n",
      "Downloading       ━━━━━━━━━━━━━━━━━━━━━━ 286.6MB                           13.9s\r\n",
      "Extracting  (179) ━╸\u001b[33m━━━━━━━━━━━━━━━━━━━━\u001b[0m      18 platformdirs              17.6s"
     ]
    },
    {
     "name": "stdout",
     "output_type": "stream",
     "text": [
      "\u001b[2K\u001b[1A\u001b[2K\u001b[1A\u001b[2K\u001b[0G[+] 18.1s\r\n",
      "Downloading       ━━━━━━━━━━━━━━━━━━━━━━ 286.6MB                           13.9s\r\n",
      "Extracting  (179) ━╸\u001b[33m━━━━━━━━━━━━━━━━━━━━\u001b[0m      18 platformdirs              17.7s"
     ]
    },
    {
     "name": "stdout",
     "output_type": "stream",
     "text": [
      "\u001b[2K\u001b[1A\u001b[2K\u001b[1A\u001b[2K\u001b[0G[+] 18.2s\r\n",
      "Downloading       ━━━━━━━━━━━━━━━━━━━━━━ 286.6MB                           13.9s\r\n",
      "Extracting  (179) ━╸\u001b[33m━━━━━━━━━━━━━━━━━━━━\u001b[0m      18 platformdirs              17.8s"
     ]
    },
    {
     "name": "stdout",
     "output_type": "stream",
     "text": [
      "\u001b[2K\u001b[1A\u001b[2K\u001b[1A\u001b[2K\u001b[0G[+] 18.3s\r\n",
      "Downloading       ━━━━━━━━━━━━━━━━━━━━━━ 286.6MB                           13.9s\r\n"
     ]
    },
    {
     "name": "stdout",
     "output_type": "stream",
     "text": [
      "Extracting  (179) ━╸\u001b[33m━━━━━━━━━━━━━━━━━━━━\u001b[0m      18 platformdirs              17.9s"
     ]
    },
    {
     "name": "stdout",
     "output_type": "stream",
     "text": [
      "\u001b[2K\u001b[1A\u001b[2K\u001b[1A\u001b[2K\u001b[0G[+] 18.4s\r\n",
      "Downloading       ━━━━━━━━━━━━━━━━━━━━━━ 286.6MB                           13.9s\r\n",
      "Extracting  (179) ━╸\u001b[33m━━━━━━━━━━━━━━━━━━━━\u001b[0m      18 pluggy                    18.0s"
     ]
    },
    {
     "name": "stdout",
     "output_type": "stream",
     "text": [
      "\u001b[2K\u001b[1A\u001b[2K\u001b[1A\u001b[2K\u001b[0G[+] 18.5s\r\n",
      "Downloading       ━━━━━━━━━━━━━━━━━━━━━━ 286.6MB                           13.9s\r\n",
      "Extracting  (179) ━╸\u001b[33m━━━━━━━━━━━━━━━━━━━━\u001b[0m      18 pluggy                    18.1s"
     ]
    },
    {
     "name": "stdout",
     "output_type": "stream",
     "text": [
      "\u001b[2K\u001b[1A\u001b[2K\u001b[1A\u001b[2K\u001b[0G[+] 18.6s\r\n",
      "Downloading       ━━━━━━━━━━━━━━━━━━━━━━ 286.6MB                           13.9s\r\n",
      "Extracting  (178) ━╸\u001b[33m━━━━━━━━━━━━━━━━━━━━\u001b[0m      19 pluggy                    18.2s"
     ]
    },
    {
     "name": "stdout",
     "output_type": "stream",
     "text": [
      "\u001b[2K\u001b[1A\u001b[2K\u001b[1A\u001b[2K\u001b[0G[+] 18.7s\r\n",
      "Downloading       ━━━━━━━━━━━━━━━━━━━━━━ 286.6MB                           13.9s\r\n",
      "Extracting  (178) ━╸\u001b[33m━━━━━━━━━━━━━━━━━━━━\u001b[0m      19 pluggy                    18.3s"
     ]
    },
    {
     "name": "stdout",
     "output_type": "stream",
     "text": [
      "\u001b[2K\u001b[1A\u001b[2K\u001b[1A\u001b[2K\u001b[0G[+] 18.8s\r\n",
      "Downloading       ━━━━━━━━━━━━━━━━━━━━━━ 286.6MB                           13.9s\r\n",
      "Extracting  (178) ━╸\u001b[33m━━━━━━━━━━━━━━━━━━━━\u001b[0m      19 ply                       18.4s"
     ]
    },
    {
     "name": "stdout",
     "output_type": "stream",
     "text": [
      "\u001b[2K\u001b[1A\u001b[2K\u001b[1A\u001b[2K\u001b[0G[+] 18.9s\r\n",
      "Downloading       ━━━━━━━━━━━━━━━━━━━━━━ 286.6MB                           13.9s\r\n",
      "Extracting  (178) ━╸\u001b[33m━━━━━━━━━━━━━━━━━━━━\u001b[0m      19 ply                       18.5s"
     ]
    },
    {
     "name": "stdout",
     "output_type": "stream",
     "text": [
      "\u001b[2K\u001b[1A\u001b[2K\u001b[1A\u001b[2K\u001b[0G[+] 19.0s\r\n",
      "Downloading       ━━━━━━━━━━━━━━━━━━━━━━ 286.6MB                           13.9s\r\n",
      "Extracting  (178) ━╸\u001b[33m━━━━━━━━━━━━━━━━━━━━\u001b[0m      19 ply                       18.6s"
     ]
    },
    {
     "name": "stdout",
     "output_type": "stream",
     "text": [
      "\u001b[2K\u001b[1A\u001b[2K\u001b[1A\u001b[2K\u001b[0G[+] 19.1s\r\n",
      "Downloading       ━━━━━━━━━━━━━━━━━━━━━━ 286.6MB                           13.9s\r\n",
      "Extracting  (178) ━╸\u001b[33m━━━━━━━━━━━━━━━━━━━━\u001b[0m      19 ply                       18.7s"
     ]
    },
    {
     "name": "stdout",
     "output_type": "stream",
     "text": [
      "\u001b[2K\u001b[1A\u001b[2K\u001b[1A\u001b[2K\u001b[0G[+] 19.2s\r\n",
      "Downloading       ━━━━━━━━━━━━━━━━━━━━━━ 286.6MB                           13.9s\r\n",
      "Extracting  (177) ━╸\u001b[33m━━━━━━━━━━━━━━━━━━━━\u001b[0m      20 prometheus_client         18.8s"
     ]
    },
    {
     "name": "stdout",
     "output_type": "stream",
     "text": [
      "\u001b[2K\u001b[1A\u001b[2K\u001b[1A\u001b[2K\u001b[0G[+] 19.3s\r\n",
      "Downloading       ━━━━━━━━━━━━━━━━━━━━━━ 286.6MB                           13.9s\r\n",
      "Extracting  (177) ━╸\u001b[33m━━━━━━━━━━━━━━━━━━━━\u001b[0m      20 prometheus_client         18.9s"
     ]
    },
    {
     "name": "stdout",
     "output_type": "stream",
     "text": [
      "\u001b[2K\u001b[1A\u001b[2K\u001b[1A\u001b[2K\u001b[0G[+] 19.4s\r\n",
      "Downloading       ━━━━━━━━━━━━━━━━━━━━━━ 286.6MB                           13.9s\r\n",
      "Extracting  (177) ━╸\u001b[33m━━━━━━━━━━━━━━━━━━━━\u001b[0m      20 prometheus_client         19.0s"
     ]
    },
    {
     "name": "stdout",
     "output_type": "stream",
     "text": [
      "\u001b[2K\u001b[1A\u001b[2K\u001b[1A\u001b[2K\u001b[0G[+] 19.5s\r\n",
      "Downloading       ━━━━━━━━━━━━━━━━━━━━━━ 286.6MB                           13.9s\r\n",
      "Extracting  (177) ━╸\u001b[33m━━━━━━━━━━━━━━━━━━━━\u001b[0m      20 prometheus_client         19.1s"
     ]
    },
    {
     "name": "stdout",
     "output_type": "stream",
     "text": [
      "\u001b[2K\u001b[1A\u001b[2K\u001b[1A\u001b[2K\u001b[0G[+] 19.6s\r\n",
      "Downloading       ━━━━━━━━━━━━━━━━━━━━━━ 286.6MB                           13.9s\r\n",
      "Extracting  (177) ━╸\u001b[33m━━━━━━━━━━━━━━━━━━━━\u001b[0m      20 prompt-toolkit            19.2s"
     ]
    },
    {
     "name": "stdout",
     "output_type": "stream",
     "text": [
      "\u001b[2K\u001b[1A\u001b[2K\u001b[1A\u001b[2K\u001b[0G[+] 19.7s\r\n",
      "Downloading       ━━━━━━━━━━━━━━━━━━━━━━ 286.6MB                           13.9s\r\n",
      "Extracting  (177) ━╸\u001b[33m━━━━━━━━━━━━━━━━━━━━\u001b[0m      20 prompt-toolkit            19.3s"
     ]
    },
    {
     "name": "stdout",
     "output_type": "stream",
     "text": [
      "\u001b[2K\u001b[1A\u001b[2K\u001b[1A\u001b[2K\u001b[0G[+] 19.8s\r\n",
      "Downloading       ━━━━━━━━━━━━━━━━━━━━━━ 286.6MB                           13.9s\r\n",
      "Extracting  (177) ━╸\u001b[33m━━━━━━━━━━━━━━━━━━━━\u001b[0m      20 prompt-toolkit            19.4s"
     ]
    },
    {
     "name": "stdout",
     "output_type": "stream",
     "text": [
      "\u001b[2K\u001b[1A\u001b[2K\u001b[1A\u001b[2K\u001b[0G[+] 19.9s\r\n",
      "Downloading       ━━━━━━━━━━━━━━━━━━━━━━ 286.6MB                           13.9s\r\n",
      "Extracting  (177) ━╸\u001b[33m━━━━━━━━━━━━━━━━━━━━\u001b[0m      20 prompt-toolkit            19.5s"
     ]
    },
    {
     "name": "stdout",
     "output_type": "stream",
     "text": [
      "\u001b[2K\u001b[1A\u001b[2K\u001b[1A\u001b[2K\u001b[0G[+] 20.0s\r\n",
      "Downloading       ━━━━━━━━━━━━━━━━━━━━━━ 286.6MB                           13.9s\r\n",
      "Extracting  (177) ━╸\u001b[33m━━━━━━━━━━━━━━━━━━━━\u001b[0m      20 prompt_toolkit            19.6s"
     ]
    },
    {
     "name": "stdout",
     "output_type": "stream",
     "text": [
      "\u001b[2K\u001b[1A\u001b[2K\u001b[1A\u001b[2K\u001b[0G[+] 20.1s\r\n",
      "Downloading       ━━━━━━━━━━━━━━━━━━━━━━ 286.6MB                           13.9s\r\n",
      "Extracting  (177) ━╸\u001b[33m━━━━━━━━━━━━━━━━━━━━\u001b[0m      20 prompt_toolkit            19.7s"
     ]
    },
    {
     "name": "stdout",
     "output_type": "stream",
     "text": [
      "\u001b[2K\u001b[1A\u001b[2K\u001b[1A\u001b[2K\u001b[0G[+] 20.2s\r\n",
      "Downloading       ━━━━━━━━━━━━━━━━━━━━━━ 286.6MB                           13.9s\r\n",
      "Extracting  (176) ━╸\u001b[33m━━━━━━━━━━━━━━━━━━━━\u001b[0m      21 prompt_toolkit            19.8s"
     ]
    },
    {
     "name": "stdout",
     "output_type": "stream",
     "text": [
      "\u001b[2K\u001b[1A\u001b[2K\u001b[1A\u001b[2K\u001b[0G[+] 20.3s\r\n",
      "Downloading       ━━━━━━━━━━━━━━━━━━━━━━ 286.6MB                           13.9s\r\n",
      "Extracting  (176) ━╸\u001b[33m━━━━━━━━━━━━━━━━━━━━\u001b[0m      21 prompt_toolkit            19.9s"
     ]
    },
    {
     "name": "stdout",
     "output_type": "stream",
     "text": [
      "\u001b[2K\u001b[1A\u001b[2K\u001b[1A\u001b[2K\u001b[0G[+] 20.4s\r\n",
      "Downloading       ━━━━━━━━━━━━━━━━━━━━━━ 286.6MB                           13.9s\r\n",
      "Extracting  (176) ━╸\u001b[33m━━━━━━━━━━━━━━━━━━━━\u001b[0m      21 psutil                    20.0s"
     ]
    },
    {
     "name": "stdout",
     "output_type": "stream",
     "text": [
      "\u001b[2K\u001b[1A\u001b[2K\u001b[1A\u001b[2K\u001b[0G[+] 20.5s\r\n",
      "Downloading       ━━━━━━━━━━━━━━━━━━━━━━ 286.6MB                           13.9s\r\n",
      "Extracting  (176) ━╸\u001b[33m━━━━━━━━━━━━━━━━━━━━\u001b[0m      21 psutil                    20.1s"
     ]
    },
    {
     "name": "stdout",
     "output_type": "stream",
     "text": [
      "\u001b[2K\u001b[1A\u001b[2K\u001b[1A\u001b[2K\u001b[0G[+] 20.6s\r\n",
      "Downloading       ━━━━━━━━━━━━━━━━━━━━━━ 286.6MB                           13.9s\r\n",
      "Extracting  (176) ━╸\u001b[33m━━━━━━━━━━━━━━━━━━━━\u001b[0m      21 psutil                    20.2s"
     ]
    },
    {
     "name": "stdout",
     "output_type": "stream",
     "text": [
      "\u001b[2K\u001b[1A\u001b[2K\u001b[1A\u001b[2K\u001b[0G[+] 20.7s\r\n",
      "Downloading       ━━━━━━━━━━━━━━━━━━━━━━ 286.6MB                           13.9s\r\n",
      "Extracting  (176) ━╸\u001b[33m━━━━━━━━━━━━━━━━━━━━\u001b[0m      21 psutil                    20.3s"
     ]
    },
    {
     "name": "stdout",
     "output_type": "stream",
     "text": [
      "\u001b[2K\u001b[1A\u001b[2K\u001b[1A\u001b[2K\u001b[0G[+] 20.8s\r\n",
      "Downloading       ━━━━━━━━━━━━━━━━━━━━━━ 286.6MB                           13.9s\r\n",
      "Extracting  (176) ━╸\u001b[33m━━━━━━━━━━━━━━━━━━━━\u001b[0m      21 pthread-stubs             20.4s"
     ]
    },
    {
     "name": "stdout",
     "output_type": "stream",
     "text": [
      "\u001b[2K\u001b[1A\u001b[2K\u001b[1A\u001b[2K\u001b[0G[+] 20.9s\r\n",
      "Downloading       ━━━━━━━━━━━━━━━━━━━━━━ 286.6MB                           13.9s\r\n"
     ]
    },
    {
     "name": "stdout",
     "output_type": "stream",
     "text": [
      "Extracting  (176) ━╸\u001b[33m━━━━━━━━━━━━━━━━━━━━\u001b[0m      21 pthread-stubs             20.5s"
     ]
    },
    {
     "name": "stdout",
     "output_type": "stream",
     "text": [
      "\u001b[2K\u001b[1A\u001b[2K\u001b[1A\u001b[2K\u001b[0G[+] 21.0s\r\n",
      "Downloading       ━━━━━━━━━━━━━━━━━━━━━━ 286.6MB                           13.9s\r\n",
      "Extracting  (175) ━╸\u001b[33m━━━━━━━━━━━━━━━━━━━━\u001b[0m      22 pthread-stubs             20.6s"
     ]
    },
    {
     "name": "stdout",
     "output_type": "stream",
     "text": [
      "\u001b[2K\u001b[1A\u001b[2K\u001b[1A\u001b[2K\u001b[0G[+] 21.1s\r\n",
      "Downloading       ━━━━━━━━━━━━━━━━━━━━━━ 286.6MB                           13.9s\r\n",
      "Extracting  (175) ━╸\u001b[33m━━━━━━━━━━━━━━━━━━━━\u001b[0m      22 pthread-stubs             20.7s"
     ]
    },
    {
     "name": "stdout",
     "output_type": "stream",
     "text": [
      "\u001b[2K\u001b[1A\u001b[2K\u001b[1A\u001b[2K\u001b[0G[+] 21.2s\r\n",
      "Downloading       ━━━━━━━━━━━━━━━━━━━━━━ 286.6MB                           13.9s\r\n",
      "Extracting  (175) ━╸\u001b[33m━━━━━━━━━━━━━━━━━━━━\u001b[0m      22 ptyprocess                20.8s"
     ]
    },
    {
     "name": "stdout",
     "output_type": "stream",
     "text": [
      "\u001b[2K\u001b[1A\u001b[2K\u001b[1A\u001b[2K\u001b[0G[+] 21.3s\r\n",
      "Downloading       ━━━━━━━━━━━━━━━━━━━━━━ 286.6MB                           13.9s\r\n",
      "Extracting  (175) ━╸\u001b[33m━━━━━━━━━━━━━━━━━━━━\u001b[0m      22 ptyprocess                20.9s"
     ]
    },
    {
     "name": "stdout",
     "output_type": "stream",
     "text": [
      "\u001b[2K\u001b[1A\u001b[2K\u001b[1A\u001b[2K\u001b[0G[+] 21.4s\r\n",
      "Downloading       ━━━━━━━━━━━━━━━━━━━━━━ 286.6MB                           13.9s\r\n",
      "Extracting  (175) ━╸\u001b[33m━━━━━━━━━━━━━━━━━━━━\u001b[0m      22 ptyprocess                21.0s"
     ]
    },
    {
     "name": "stdout",
     "output_type": "stream",
     "text": [
      "\u001b[2K\u001b[1A\u001b[2K\u001b[1A\u001b[2K\u001b[0G[+] 21.5s\r\n",
      "Downloading       ━━━━━━━━━━━━━━━━━━━━━━ 286.6MB                           13.9s\r\n",
      "Extracting  (175) ━╸\u001b[33m━━━━━━━━━━━━━━━━━━━━\u001b[0m      22 ptyprocess                21.1s"
     ]
    },
    {
     "name": "stdout",
     "output_type": "stream",
     "text": [
      "\u001b[2K\u001b[1A\u001b[2K\u001b[1A\u001b[2K\u001b[0G[+] 21.6s\r\n",
      "Downloading       ━━━━━━━━━━━━━━━━━━━━━━ 286.6MB                           13.9s\r\n",
      "Extracting  (175) ━╸\u001b[33m━━━━━━━━━━━━━━━━━━━━\u001b[0m      22 pulseaudio                21.2s"
     ]
    },
    {
     "name": "stdout",
     "output_type": "stream",
     "text": [
      "\u001b[2K\u001b[1A\u001b[2K\u001b[1A\u001b[2K\u001b[0G[+] 21.7s\r\n",
      "Downloading       ━━━━━━━━━━━━━━━━━━━━━━ 286.6MB                           13.9s\r\n",
      "Extracting  (175) ━╸\u001b[33m━━━━━━━━━━━━━━━━━━━━\u001b[0m      22 pulseaudio                21.3s"
     ]
    },
    {
     "name": "stdout",
     "output_type": "stream",
     "text": [
      "\u001b[2K\u001b[1A\u001b[2K\u001b[1A\u001b[2K\u001b[0G[+] 21.8s\r\n",
      "Downloading       ━━━━━━━━━━━━━━━━━━━━━━ 286.6MB                           13.9s\r\n",
      "Extracting  (175) ━╸\u001b[33m━━━━━━━━━━━━━━━━━━━━\u001b[0m      22 pulseaudio                21.4s"
     ]
    },
    {
     "name": "stdout",
     "output_type": "stream",
     "text": [
      "\u001b[2K\u001b[1A\u001b[2K\u001b[1A\u001b[2K\u001b[0G[+] 21.9s\r\n",
      "Downloading       ━━━━━━━━━━━━━━━━━━━━━━ 286.6MB                           13.9s\r\n",
      "Extracting  (175) ━╸\u001b[33m━━━━━━━━━━━━━━━━━━━━\u001b[0m      22 pulseaudio                21.5s"
     ]
    },
    {
     "name": "stdout",
     "output_type": "stream",
     "text": [
      "\u001b[2K\u001b[1A\u001b[2K\u001b[1A\u001b[2K\u001b[0G[+] 22.0s\r\n",
      "Downloading       ━━━━━━━━━━━━━━━━━━━━━━ 286.6MB                           13.9s\r\n",
      "Extracting  (175) ━╸\u001b[33m━━━━━━━━━━━━━━━━━━━━\u001b[0m      22 pure_eval                 21.6s"
     ]
    },
    {
     "name": "stdout",
     "output_type": "stream",
     "text": [
      "\u001b[2K\u001b[1A\u001b[2K\u001b[1A\u001b[2K\u001b[0G[+] 22.1s\r\n",
      "Downloading       ━━━━━━━━━━━━━━━━━━━━━━ 286.6MB                           13.9s\r\n",
      "Extracting  (174) ━╸\u001b[33m━━━━━━━━━━━━━━━━━━━━\u001b[0m      23 pure_eval                 21.7s"
     ]
    },
    {
     "name": "stdout",
     "output_type": "stream",
     "text": [
      "\u001b[2K\u001b[1A\u001b[2K\u001b[1A\u001b[2K\u001b[0G[+] 22.2s\r\n",
      "Downloading       ━━━━━━━━━━━━━━━━━━━━━━ 286.6MB                           13.9s\r\n",
      "Extracting  (174) ━╸\u001b[33m━━━━━━━━━━━━━━━━━━━━\u001b[0m      23 pure_eval                 21.8s"
     ]
    },
    {
     "name": "stdout",
     "output_type": "stream",
     "text": [
      "\u001b[2K\u001b[1A\u001b[2K\u001b[1A\u001b[2K\u001b[0G[+] 22.3s\r\n",
      "Downloading       ━━━━━━━━━━━━━━━━━━━━━━ 286.6MB                           13.9s\r\n",
      "Extracting  (174) ━╸\u001b[33m━━━━━━━━━━━━━━━━━━━━\u001b[0m      23 pure_eval                 21.9s"
     ]
    },
    {
     "name": "stdout",
     "output_type": "stream",
     "text": [
      "\u001b[2K\u001b[1A\u001b[2K\u001b[1A\u001b[2K\u001b[0G[+] 22.4s\r\n",
      "Downloading       ━━━━━━━━━━━━━━━━━━━━━━ 286.6MB                           13.9s\r\n",
      "Extracting  (174) ━╸\u001b[33m━━━━━━━━━━━━━━━━━━━━\u001b[0m      23 pycosat                   22.0s"
     ]
    },
    {
     "name": "stdout",
     "output_type": "stream",
     "text": [
      "\u001b[2K\u001b[1A\u001b[2K\u001b[1A\u001b[2K\u001b[0G[+] 22.5s\r\n",
      "Downloading       ━━━━━━━━━━━━━━━━━━━━━━ 286.6MB                           13.9s\r\n",
      "Extracting  (174) ━╸\u001b[33m━━━━━━━━━━━━━━━━━━━━\u001b[0m      23 pycosat                   22.1s"
     ]
    },
    {
     "name": "stdout",
     "output_type": "stream",
     "text": [
      "\u001b[2K\u001b[1A\u001b[2K\u001b[1A\u001b[2K\u001b[0G[+] 22.6s\r\n",
      "Downloading       ━━━━━━━━━━━━━━━━━━━━━━ 286.6MB                           13.9s\r\n",
      "Extracting  (174) ━╸\u001b[33m━━━━━━━━━━━━━━━━━━━━\u001b[0m      23 pycosat                   22.2s"
     ]
    },
    {
     "name": "stdout",
     "output_type": "stream",
     "text": [
      "\u001b[2K\u001b[1A\u001b[2K\u001b[1A\u001b[2K\u001b[0G[+] 22.7s\r\n",
      "Downloading       ━━━━━━━━━━━━━━━━━━━━━━ 286.6MB                           13.9s\r\n",
      "Extracting  (174) ━╸\u001b[33m━━━━━━━━━━━━━━━━━━━━\u001b[0m      23 pycosat                   22.3s"
     ]
    },
    {
     "name": "stdout",
     "output_type": "stream",
     "text": [
      "\u001b[2K\u001b[1A\u001b[2K\u001b[1A\u001b[2K\u001b[0G[+] 22.8s\r\n",
      "Downloading       ━━━━━━━━━━━━━━━━━━━━━━ 286.6MB                           13.9s\r\n",
      "Extracting  (173) ━╸\u001b[33m━━━━━━━━━━━━━━━━━━━━\u001b[0m      24 pycparser                 22.4s"
     ]
    },
    {
     "name": "stdout",
     "output_type": "stream",
     "text": [
      "\u001b[2K\u001b[1A\u001b[2K\u001b[1A\u001b[2K\u001b[0G[+] 22.9s\r\n",
      "Downloading       ━━━━━━━━━━━━━━━━━━━━━━ 286.6MB                           13.9s\r\n",
      "Extracting  (173) ━╸\u001b[33m━━━━━━━━━━━━━━━━━━━━\u001b[0m      24 pycparser                 22.5s"
     ]
    },
    {
     "name": "stdout",
     "output_type": "stream",
     "text": [
      "\u001b[2K\u001b[1A\u001b[2K\u001b[1A\u001b[2K\u001b[0G[+] 23.0s\r\n",
      "Downloading       ━━━━━━━━━━━━━━━━━━━━━━ 286.6MB                           13.9s\r\n",
      "Extracting  (173) ━╸\u001b[33m━━━━━━━━━━━━━━━━━━━━\u001b[0m      24 pycparser                 22.6s"
     ]
    },
    {
     "name": "stdout",
     "output_type": "stream",
     "text": [
      "\u001b[2K\u001b[1A\u001b[2K\u001b[1A\u001b[2K\u001b[0G[+] 23.1s\r\n",
      "Downloading       ━━━━━━━━━━━━━━━━━━━━━━ 286.6MB                           13.9s\r\n",
      "Extracting  (173) ━╸\u001b[33m━━━━━━━━━━━━━━━━━━━━\u001b[0m      24 pycparser                 22.7s"
     ]
    },
    {
     "name": "stdout",
     "output_type": "stream",
     "text": [
      "\u001b[2K\u001b[1A\u001b[2K\u001b[1A\u001b[2K\u001b[0G[+] 23.2s\r\n",
      "Downloading       ━━━━━━━━━━━━━━━━━━━━━━ 286.6MB                           13.9s\r\n",
      "Extracting  (173) ━╸\u001b[33m━━━━━━━━━━━━━━━━━━━━\u001b[0m      24 pygments                  22.8s"
     ]
    },
    {
     "name": "stdout",
     "output_type": "stream",
     "text": [
      "\u001b[2K\u001b[1A\u001b[2K\u001b[1A\u001b[2K\u001b[0G[+] 23.3s\r\n",
      "Downloading       ━━━━━━━━━━━━━━━━━━━━━━ 286.6MB                           13.9s\r\n",
      "Extracting  (173) ━╸\u001b[33m━━━━━━━━━━━━━━━━━━━━\u001b[0m      24 pygments                  22.9s"
     ]
    },
    {
     "name": "stdout",
     "output_type": "stream",
     "text": [
      "\u001b[2K\u001b[1A\u001b[2K\u001b[1A\u001b[2K\u001b[0G[+] 23.4s\r\n",
      "Downloading       ━━━━━━━━━━━━━━━━━━━━━━ 286.6MB                           13.9s\r\n",
      "Extracting  (173) ━╸\u001b[33m━━━━━━━━━━━━━━━━━━━━\u001b[0m      24 pygments                  23.0s"
     ]
    },
    {
     "name": "stdout",
     "output_type": "stream",
     "text": [
      "\u001b[2K\u001b[1A\u001b[2K\u001b[1A\u001b[2K\u001b[0G[+] 23.5s\r\n",
      "Downloading       ━━━━━━━━━━━━━━━━━━━━━━ 286.6MB                           13.9s\r\n",
      "Extracting  (173) ━╸\u001b[33m━━━━━━━━━━━━━━━━━━━━\u001b[0m      24 pygments                  23.1s"
     ]
    },
    {
     "name": "stdout",
     "output_type": "stream",
     "text": [
      "\u001b[2K\u001b[1A\u001b[2K\u001b[1A\u001b[2K\u001b[0G[+] 23.6s\r\n",
      "Downloading       ━━━━━━━━━━━━━━━━━━━━━━ 286.6MB                           13.9s\r\n",
      "Extracting  (173) ━╸\u001b[33m━━━━━━━━━━━━━━━━━━━━\u001b[0m      24 pyopenssl                 23.2s"
     ]
    },
    {
     "name": "stdout",
     "output_type": "stream",
     "text": [
      "\u001b[2K\u001b[1A\u001b[2K\u001b[1A\u001b[2K\u001b[0G[+] 23.7s\r\n",
      "Downloading       ━━━━━━━━━━━━━━━━━━━━━━ 286.6MB                           13.9s\r\n",
      "Extracting  (173) ━╸\u001b[33m━━━━━━━━━━━━━━━━━━━━\u001b[0m      24 pyopenssl                 23.3s"
     ]
    },
    {
     "name": "stdout",
     "output_type": "stream",
     "text": [
      "\u001b[2K\u001b[1A\u001b[2K\u001b[1A\u001b[2K\u001b[0G[+] 23.8s\r\n",
      "Downloading       ━━━━━━━━━━━━━━━━━━━━━━ 286.6MB                           13.9s\r\n",
      "Extracting  (173) ━╸\u001b[33m━━━━━━━━━━━━━━━━━━━━\u001b[0m      24 pyopenssl                 23.4s"
     ]
    },
    {
     "name": "stdout",
     "output_type": "stream",
     "text": [
      "\u001b[2K\u001b[1A\u001b[2K\u001b[1A\u001b[2K\u001b[0G[+] 23.9s\r\n",
      "Downloading       ━━━━━━━━━━━━━━━━━━━━━━ 286.6MB                           13.9s\r\n",
      "Extracting  (172) ━╸\u001b[33m━━━━━━━━━━━━━━━━━━━━\u001b[0m      25 pyopenssl                 23.5s"
     ]
    },
    {
     "name": "stdout",
     "output_type": "stream",
     "text": [
      "\u001b[2K\u001b[1A\u001b[2K\u001b[1A\u001b[2K\u001b[0G[+] 24.0s\r\n",
      "Downloading       ━━━━━━━━━━━━━━━━━━━━━━ 286.6MB                           13.9s\r\n",
      "Extracting  (172) ━╸\u001b[33m━━━━━━━━━━━━━━━━━━━━\u001b[0m      25 pyqt                      23.6s"
     ]
    },
    {
     "name": "stdout",
     "output_type": "stream",
     "text": [
      "\u001b[2K\u001b[1A\u001b[2K\u001b[1A\u001b[2K\u001b[0G[+] 24.1s\r\n",
      "Downloading       ━━━━━━━━━━━━━━━━━━━━━━ 286.6MB                           13.9s\r\n",
      "Extracting  (172) ━╸\u001b[33m━━━━━━━━━━━━━━━━━━━━\u001b[0m      25 pyqt                      23.7s"
     ]
    },
    {
     "name": "stdout",
     "output_type": "stream",
     "text": [
      "\u001b[2K\u001b[1A\u001b[2K\u001b[1A\u001b[2K\u001b[0G[+] 24.2s\r\n",
      "Downloading       ━━━━━━━━━━━━━━━━━━━━━━ 286.6MB                           13.9s\r\n",
      "Extracting  (172) ━╸\u001b[33m━━━━━━━━━━━━━━━━━━━━\u001b[0m      25 pyqt                      23.8s"
     ]
    },
    {
     "name": "stdout",
     "output_type": "stream",
     "text": [
      "\u001b[2K\u001b[1A\u001b[2K\u001b[1A\u001b[2K\u001b[0G[+] 24.3s\r\n",
      "Downloading       ━━━━━━━━━━━━━━━━━━━━━━ 286.6MB                           13.9s\r\n",
      "Extracting  (172) ━╸\u001b[33m━━━━━━━━━━━━━━━━━━━━\u001b[0m      25 pyqt                      23.9s"
     ]
    },
    {
     "name": "stdout",
     "output_type": "stream",
     "text": [
      "\u001b[2K\u001b[1A\u001b[2K\u001b[1A\u001b[2K\u001b[0G[+] 24.4s\r\n",
      "Downloading       ━━━━━━━━━━━━━━━━━━━━━━ 286.6MB                           13.9s\r\n",
      "Extracting  (172) ━╸\u001b[33m━━━━━━━━━━━━━━━━━━━━\u001b[0m      25 pyqt5-sip                 24.0s"
     ]
    },
    {
     "name": "stdout",
     "output_type": "stream",
     "text": [
      "\u001b[2K\u001b[1A\u001b[2K\u001b[1A\u001b[2K\u001b[0G[+] 24.5s\r\n",
      "Downloading       ━━━━━━━━━━━━━━━━━━━━━━ 286.6MB                           13.9s\r\n",
      "Extracting  (172) ━╸\u001b[33m━━━━━━━━━━━━━━━━━━━━\u001b[0m      25 pyqt5-sip                 24.1s"
     ]
    },
    {
     "name": "stdout",
     "output_type": "stream",
     "text": [
      "\u001b[2K\u001b[1A\u001b[2K\u001b[1A\u001b[2K\u001b[0G[+] 24.6s\r\n",
      "Downloading       ━━━━━━━━━━━━━━━━━━━━━━ 286.6MB                           13.9s\r\n",
      "Extracting  (172) ━╸\u001b[33m━━━━━━━━━━━━━━━━━━━━\u001b[0m      25 pyqt5-sip                 24.2s"
     ]
    },
    {
     "name": "stdout",
     "output_type": "stream",
     "text": [
      "\u001b[2K\u001b[1A\u001b[2K\u001b[1A\u001b[2K\u001b[0G[+] 24.7s\r\n",
      "Downloading       ━━━━━━━━━━━━━━━━━━━━━━ 286.6MB                           13.9s\r\n",
      "Extracting  (171) ━╸\u001b[33m━━━━━━━━━━━━━━━━━━━━\u001b[0m      26 pyqt5-sip                 24.3s"
     ]
    },
    {
     "name": "stdout",
     "output_type": "stream",
     "text": [
      "\u001b[2K\u001b[1A\u001b[2K\u001b[1A\u001b[2K\u001b[0G[+] 24.8s\r\n",
      "Downloading       ━━━━━━━━━━━━━━━━━━━━━━ 286.6MB                           13.9s\r\n",
      "Extracting  (171) ━╸\u001b[33m━━━━━━━━━━━━━━━━━━━━\u001b[0m      26 pyrsistent                24.4s"
     ]
    },
    {
     "name": "stdout",
     "output_type": "stream",
     "text": [
      "\u001b[2K\u001b[1A\u001b[2K\u001b[1A\u001b[2K\u001b[0G[+] 24.9s\r\n",
      "Downloading       ━━━━━━━━━━━━━━━━━━━━━━ 286.6MB                           13.9s\r\n",
      "Extracting  (171) ━╸\u001b[33m━━━━━━━━━━━━━━━━━━━━\u001b[0m      26 pyrsistent                24.5s"
     ]
    },
    {
     "name": "stdout",
     "output_type": "stream",
     "text": [
      "\u001b[2K\u001b[1A\u001b[2K\u001b[1A\u001b[2K\u001b[0G[+] 25.0s\r\n",
      "Downloading       ━━━━━━━━━━━━━━━━━━━━━━ 286.6MB                           13.9s\r\n",
      "Extracting  (171) ━╸\u001b[33m━━━━━━━━━━━━━━━━━━━━\u001b[0m      26 pyrsistent                24.6s"
     ]
    },
    {
     "name": "stdout",
     "output_type": "stream",
     "text": [
      "\u001b[2K\u001b[1A\u001b[2K\u001b[1A\u001b[2K\u001b[0G[+] 25.1s\r\n",
      "Downloading       ━━━━━━━━━━━━━━━━━━━━━━ 286.6MB                           13.9s\r\n",
      "Extracting  (171) ━╸\u001b[33m━━━━━━━━━━━━━━━━━━━━\u001b[0m      26 pyrsistent                24.7s"
     ]
    },
    {
     "name": "stdout",
     "output_type": "stream",
     "text": [
      "\u001b[2K\u001b[1A\u001b[2K\u001b[1A\u001b[2K\u001b[0G[+] 25.2s\r\n",
      "Downloading       ━━━━━━━━━━━━━━━━━━━━━━ 286.6MB                           13.9s\r\n",
      "Extracting  (171) ━╸\u001b[33m━━━━━━━━━━━━━━━━━━━━\u001b[0m      26 pysocks                   24.8s"
     ]
    },
    {
     "name": "stdout",
     "output_type": "stream",
     "text": [
      "\u001b[2K\u001b[1A\u001b[2K\u001b[1A\u001b[2K\u001b[0G[+] 25.3s\r\n",
      "Downloading       ━━━━━━━━━━━━━━━━━━━━━━ 286.6MB                           13.9s\r\n",
      "Extracting  (171) ━╸\u001b[33m━━━━━━━━━━━━━━━━━━━━\u001b[0m      26 pysocks                   24.9s"
     ]
    },
    {
     "name": "stdout",
     "output_type": "stream",
     "text": [
      "\u001b[2K\u001b[1A\u001b[2K\u001b[1A\u001b[2K\u001b[0G[+] 25.4s\r\n",
      "Downloading       ━━━━━━━━━━━━━━━━━━━━━━ 286.6MB                           13.9s\r\n",
      "Extracting  (171) ━╸\u001b[33m━━━━━━━━━━━━━━━━━━━━\u001b[0m      26 pysocks                   25.0s"
     ]
    },
    {
     "name": "stdout",
     "output_type": "stream",
     "text": [
      "\u001b[2K\u001b[1A\u001b[2K\u001b[1A\u001b[2K\u001b[0G[+] 25.5s\r\n",
      "Downloading       ━━━━━━━━━━━━━━━━━━━━━━ 286.6MB                           13.9s\r\n",
      "Extracting  (170) ━━╸\u001b[33m━━━━━━━━━━━━━━━━━━━\u001b[0m      27 pysocks                   25.1s"
     ]
    },
    {
     "name": "stdout",
     "output_type": "stream",
     "text": [
      "\u001b[2K\u001b[1A\u001b[2K\u001b[1A\u001b[2K\u001b[0G[+] 25.6s\r\n",
      "Downloading       ━━━━━━━━━━━━━━━━━━━━━━ 286.6MB                           13.9s\r\n",
      "Extracting  (170) ━━╸\u001b[33m━━━━━━━━━━━━━━━━━━━\u001b[0m      27 python                    25.2s"
     ]
    },
    {
     "name": "stdout",
     "output_type": "stream",
     "text": [
      "\u001b[2K\u001b[1A\u001b[2K\u001b[1A\u001b[2K\u001b[0G[+] 25.7s\r\n",
      "Downloading       ━━━━━━━━━━━━━━━━━━━━━━ 286.6MB                           13.9s\r\n",
      "Extracting  (170) ━━╸\u001b[33m━━━━━━━━━━━━━━━━━━━\u001b[0m      27 python                    25.3s"
     ]
    },
    {
     "name": "stdout",
     "output_type": "stream",
     "text": [
      "\u001b[2K\u001b[1A\u001b[2K\u001b[1A\u001b[2K\u001b[0G[+] 25.8s\r\n",
      "Downloading       ━━━━━━━━━━━━━━━━━━━━━━ 286.6MB                           13.9s\r\n",
      "Extracting  (170) ━━╸\u001b[33m━━━━━━━━━━━━━━━━━━━\u001b[0m      27 python                    25.4s"
     ]
    },
    {
     "name": "stdout",
     "output_type": "stream",
     "text": [
      "\u001b[2K\u001b[1A\u001b[2K\u001b[1A\u001b[2K\u001b[0G[+] 25.9s\r\n",
      "Downloading       ━━━━━━━━━━━━━━━━━━━━━━ 286.6MB                           13.9s\r\n",
      "Extracting  (170) ━━╸\u001b[33m━━━━━━━━━━━━━━━━━━━\u001b[0m      27 python                    25.5s"
     ]
    },
    {
     "name": "stdout",
     "output_type": "stream",
     "text": [
      "\u001b[2K\u001b[1A\u001b[2K\u001b[1A\u001b[2K\u001b[0G[+] 26.0s\r\n",
      "Downloading       ━━━━━━━━━━━━━━━━━━━━━━ 286.6MB                           13.9s\r\n",
      "Extracting  (170) ━━╸\u001b[33m━━━━━━━━━━━━━━━━━━━\u001b[0m      27 python-dateutil           25.6s"
     ]
    },
    {
     "name": "stdout",
     "output_type": "stream",
     "text": [
      "\u001b[2K\u001b[1A\u001b[2K\u001b[1A\u001b[2K\u001b[0G[+] 26.1s\r\n",
      "Downloading       ━━━━━━━━━━━━━━━━━━━━━━ 286.6MB                           13.9s\r\n",
      "Extracting  (170) ━━╸\u001b[33m━━━━━━━━━━━━━━━━━━━\u001b[0m      27 python-dateutil           25.7s"
     ]
    },
    {
     "name": "stdout",
     "output_type": "stream",
     "text": [
      "\u001b[2K\u001b[1A\u001b[2K\u001b[1A\u001b[2K\u001b[0G[+] 26.2s\r\n",
      "Downloading       ━━━━━━━━━━━━━━━━━━━━━━ 286.6MB                           13.9s\r\n",
      "Extracting  (170) ━━╸\u001b[33m━━━━━━━━━━━━━━━━━━━\u001b[0m      27 python-dateutil           25.8s"
     ]
    },
    {
     "name": "stdout",
     "output_type": "stream",
     "text": [
      "\u001b[2K\u001b[1A\u001b[2K\u001b[1A\u001b[2K\u001b[0G[+] 26.3s\r\n",
      "Downloading       ━━━━━━━━━━━━━━━━━━━━━━ 286.6MB                           13.9s\r\n",
      "Extracting  (169) ━━╸\u001b[33m━━━━━━━━━━━━━━━━━━━\u001b[0m      28 python-dateutil           25.9s"
     ]
    },
    {
     "name": "stdout",
     "output_type": "stream",
     "text": [
      "\u001b[2K\u001b[1A\u001b[2K\u001b[1A\u001b[2K\u001b[0G[+] 26.4s\r\n",
      "Downloading       ━━━━━━━━━━━━━━━━━━━━━━ 286.6MB                           13.9s\r\n"
     ]
    },
    {
     "name": "stdout",
     "output_type": "stream",
     "text": [
      "Extracting  (169) ━━╸\u001b[33m━━━━━━━━━━━━━━━━━━━\u001b[0m      28 python-fastjsonschema     26.0s"
     ]
    },
    {
     "name": "stdout",
     "output_type": "stream",
     "text": [
      "\u001b[2K\u001b[1A\u001b[2K\u001b[1A\u001b[2K\u001b[0G[+] 26.5s\r\n",
      "Downloading       ━━━━━━━━━━━━━━━━━━━━━━ 286.6MB                           13.9s\r\n",
      "Extracting  (169) ━━╸\u001b[33m━━━━━━━━━━━━━━━━━━━\u001b[0m      28 python-fastjsonschema     26.1s"
     ]
    },
    {
     "name": "stdout",
     "output_type": "stream",
     "text": [
      "\u001b[2K\u001b[1A\u001b[2K\u001b[1A\u001b[2K\u001b[0G[+] 26.6s\r\n",
      "Downloading       ━━━━━━━━━━━━━━━━━━━━━━ 286.6MB                           13.9s\r\n",
      "Extracting  (169) ━━╸\u001b[33m━━━━━━━━━━━━━━━━━━━\u001b[0m      28 python-fastjsonschema     26.2s"
     ]
    },
    {
     "name": "stdout",
     "output_type": "stream",
     "text": [
      "\u001b[2K\u001b[1A\u001b[2K\u001b[1A\u001b[2K\u001b[0G[+] 26.7s\r\n",
      "Downloading       ━━━━━━━━━━━━━━━━━━━━━━ 286.6MB                           13.9s\r\n",
      "Extracting  (169) ━━╸\u001b[33m━━━━━━━━━━━━━━━━━━━\u001b[0m      28 python-fastjsonschema     26.3s"
     ]
    },
    {
     "name": "stdout",
     "output_type": "stream",
     "text": [
      "\u001b[2K\u001b[1A\u001b[2K\u001b[1A\u001b[2K\u001b[0G[+] 26.8s\r\n",
      "Downloading       ━━━━━━━━━━━━━━━━━━━━━━ 286.6MB                           13.9s\r\n",
      "Extracting  (169) ━━╸\u001b[33m━━━━━━━━━━━━━━━━━━━\u001b[0m      28 python_abi                26.4s"
     ]
    },
    {
     "name": "stdout",
     "output_type": "stream",
     "text": [
      "\u001b[2K\u001b[1A\u001b[2K\u001b[1A\u001b[2K\u001b[0G[+] 26.9s\r\n",
      "Downloading       ━━━━━━━━━━━━━━━━━━━━━━ 286.6MB                           13.9s\r\n",
      "Extracting  (169) ━━╸\u001b[33m━━━━━━━━━━━━━━━━━━━\u001b[0m      28 python_abi                26.5s"
     ]
    },
    {
     "name": "stdout",
     "output_type": "stream",
     "text": [
      "\u001b[2K\u001b[1A\u001b[2K\u001b[1A\u001b[2K\u001b[0G[+] 27.0s\r\n",
      "Downloading       ━━━━━━━━━━━━━━━━━━━━━━ 286.6MB                           13.9s\r\n",
      "Extracting  (169) ━━╸\u001b[33m━━━━━━━━━━━━━━━━━━━\u001b[0m      28 python_abi                26.6s"
     ]
    },
    {
     "name": "stdout",
     "output_type": "stream",
     "text": [
      "\u001b[2K\u001b[1A\u001b[2K\u001b[1A\u001b[2K\u001b[0G[+] 27.1s\r\n",
      "Downloading       ━━━━━━━━━━━━━━━━━━━━━━ 286.6MB                           13.9s\r\n",
      "Extracting  (169) ━━╸\u001b[33m━━━━━━━━━━━━━━━━━━━\u001b[0m      28 python_abi                26.7s"
     ]
    },
    {
     "name": "stdout",
     "output_type": "stream",
     "text": [
      "\u001b[2K\u001b[1A\u001b[2K\u001b[1A\u001b[2K\u001b[0G[+] 27.2s\r\n",
      "Downloading       ━━━━━━━━━━━━━━━━━━━━━━ 286.6MB                           13.9s\r\n",
      "Extracting  (168) ━━╸\u001b[33m━━━━━━━━━━━━━━━━━━━\u001b[0m      29 pyzmq                     26.8s"
     ]
    },
    {
     "name": "stdout",
     "output_type": "stream",
     "text": [
      "\u001b[2K\u001b[1A\u001b[2K\u001b[1A\u001b[2K\u001b[0G[+] 27.3s\r\n",
      "Downloading       ━━━━━━━━━━━━━━━━━━━━━━ 286.6MB                           13.9s\r\n",
      "Extracting  (168) ━━╸\u001b[33m━━━━━━━━━━━━━━━━━━━\u001b[0m      29 pyzmq                     26.9s"
     ]
    },
    {
     "name": "stdout",
     "output_type": "stream",
     "text": [
      "\u001b[2K\u001b[1A\u001b[2K\u001b[1A\u001b[2K\u001b[0G[+] 27.4s\r\n",
      "Downloading       ━━━━━━━━━━━━━━━━━━━━━━ 286.6MB                           13.9s\r\n",
      "Extracting  (168) ━━╸\u001b[33m━━━━━━━━━━━━━━━━━━━\u001b[0m      29 pyzmq                     27.0s"
     ]
    },
    {
     "name": "stdout",
     "output_type": "stream",
     "text": [
      "\u001b[2K\u001b[1A\u001b[2K\u001b[1A\u001b[2K\u001b[0G[+] 27.5s\r\n",
      "Downloading       ━━━━━━━━━━━━━━━━━━━━━━ 286.6MB                           13.9s\r\n",
      "Extracting  (168) ━━╸\u001b[33m━━━━━━━━━━━━━━━━━━━\u001b[0m      29 pyzmq                     27.1s"
     ]
    },
    {
     "name": "stdout",
     "output_type": "stream",
     "text": [
      "\u001b[2K\u001b[1A\u001b[2K\u001b[1A\u001b[2K\u001b[0G[+] 27.6s\r\n",
      "Downloading       ━━━━━━━━━━━━━━━━━━━━━━ 286.6MB                           13.9s\r\n",
      "Extracting  (168) ━━╸\u001b[33m━━━━━━━━━━━━━━━━━━━\u001b[0m      29 qt-main                   27.2s"
     ]
    },
    {
     "name": "stdout",
     "output_type": "stream",
     "text": [
      "\u001b[2K\u001b[1A\u001b[2K\u001b[1A\u001b[2K\u001b[0G[+] 27.7s\r\n",
      "Downloading       ━━━━━━━━━━━━━━━━━━━━━━ 286.6MB                           13.9s\r\n",
      "Extracting  (167) ━━╸\u001b[33m━━━━━━━━━━━━━━━━━━━\u001b[0m      30 qt-main                   27.3s"
     ]
    },
    {
     "name": "stdout",
     "output_type": "stream",
     "text": [
      "\u001b[2K\u001b[1A\u001b[2K\u001b[1A\u001b[2K\u001b[0G[+] 27.8s\r\n",
      "Downloading       ━━━━━━━━━━━━━━━━━━━━━━ 286.6MB                           13.9s\r\n",
      "Extracting  (167) ━━╸\u001b[33m━━━━━━━━━━━━━━━━━━━\u001b[0m      30 qt-main                   27.4s"
     ]
    },
    {
     "name": "stdout",
     "output_type": "stream",
     "text": [
      "\u001b[2K\u001b[1A\u001b[2K\u001b[1A\u001b[2K\u001b[0G[+] 27.9s\r\n",
      "Downloading       ━━━━━━━━━━━━━━━━━━━━━━ 286.6MB                           13.9s\r\n",
      "Extracting  (167) ━━╸\u001b[33m━━━━━━━━━━━━━━━━━━━\u001b[0m      30 qt-main                   27.5s"
     ]
    },
    {
     "name": "stdout",
     "output_type": "stream",
     "text": [
      "\u001b[2K\u001b[1A\u001b[2K\u001b[1A\u001b[2K\u001b[0G[+] 28.0s\r\n",
      "Downloading       ━━━━━━━━━━━━━━━━━━━━━━ 286.6MB                           13.9s\r\n"
     ]
    },
    {
     "name": "stdout",
     "output_type": "stream",
     "text": [
      "Extracting  (167) ━━╸\u001b[33m━━━━━━━━━━━━━━━━━━━\u001b[0m      30 qtconsole                 27.6s"
     ]
    },
    {
     "name": "stdout",
     "output_type": "stream",
     "text": [
      "\u001b[2K\u001b[1A\u001b[2K\u001b[1A\u001b[2K\u001b[0G[+] 28.1s\r\n",
      "Downloading       ━━━━━━━━━━━━━━━━━━━━━━ 286.6MB                           13.9s\r\n",
      "Extracting  (167) ━━╸\u001b[33m━━━━━━━━━━━━━━━━━━━\u001b[0m      30 qtconsole                 27.7s"
     ]
    },
    {
     "name": "stdout",
     "output_type": "stream",
     "text": [
      "\u001b[2K\u001b[1A\u001b[2K\u001b[1A\u001b[2K\u001b[0G[+] 28.2s\r\n",
      "Downloading       ━━━━━━━━━━━━━━━━━━━━━━ 286.6MB                           13.9s\r\n",
      "Extracting  (167) ━━╸\u001b[33m━━━━━━━━━━━━━━━━━━━\u001b[0m      30 qtconsole                 27.8s"
     ]
    },
    {
     "name": "stdout",
     "output_type": "stream",
     "text": [
      "\u001b[2K\u001b[1A\u001b[2K\u001b[1A\u001b[2K\u001b[0G[+] 28.3s\r\n",
      "Downloading       ━━━━━━━━━━━━━━━━━━━━━━ 286.6MB                           13.9s\r\n",
      "Extracting  (167) ━━╸\u001b[33m━━━━━━━━━━━━━━━━━━━\u001b[0m      30 qtconsole                 27.9s"
     ]
    },
    {
     "name": "stdout",
     "output_type": "stream",
     "text": [
      "\u001b[2K\u001b[1A\u001b[2K\u001b[1A\u001b[2K\u001b[0G[+] 28.4s\r\n",
      "Downloading       ━━━━━━━━━━━━━━━━━━━━━━ 286.6MB                           13.9s\r\n",
      "Extracting  (167) ━━╸\u001b[33m━━━━━━━━━━━━━━━━━━━\u001b[0m      30 qtconsole-base            28.0s"
     ]
    },
    {
     "name": "stdout",
     "output_type": "stream",
     "text": [
      "\u001b[2K\u001b[1A\u001b[2K\u001b[1A\u001b[2K\u001b[0G[+] 28.5s\r\n",
      "Downloading       ━━━━━━━━━━━━━━━━━━━━━━ 286.6MB                           13.9s\r\n",
      "Extracting  (167) ━━╸\u001b[33m━━━━━━━━━━━━━━━━━━━\u001b[0m      30 qtconsole-base            28.1s"
     ]
    },
    {
     "name": "stdout",
     "output_type": "stream",
     "text": [
      "\u001b[2K\u001b[1A\u001b[2K\u001b[1A\u001b[2K\u001b[0G[+] 28.6s\r\n",
      "Downloading       ━━━━━━━━━━━━━━━━━━━━━━ 286.6MB                           13.9s\r\n",
      "Extracting  (167) ━━╸\u001b[33m━━━━━━━━━━━━━━━━━━━\u001b[0m      30 qtconsole-base            28.2s"
     ]
    },
    {
     "name": "stdout",
     "output_type": "stream",
     "text": [
      "\u001b[2K\u001b[1A\u001b[2K\u001b[1A\u001b[2K\u001b[0G[+] 28.7s\r\n",
      "Downloading       ━━━━━━━━━━━━━━━━━━━━━━ 286.6MB                           13.9s\r\n",
      "Extracting  (167) ━━╸\u001b[33m━━━━━━━━━━━━━━━━━━━\u001b[0m      30 qtconsole-base            28.3s"
     ]
    },
    {
     "name": "stdout",
     "output_type": "stream",
     "text": [
      "\u001b[2K\u001b[1A\u001b[2K\u001b[1A\u001b[2K\u001b[0G[+] 28.8s\r\n",
      "Downloading       ━━━━━━━━━━━━━━━━━━━━━━ 286.6MB                           13.9s\r\n",
      "Extracting  (166) ━━╸\u001b[33m━━━━━━━━━━━━━━━━━━━\u001b[0m      31 qtpy                      28.4s"
     ]
    },
    {
     "name": "stdout",
     "output_type": "stream",
     "text": [
      "\u001b[2K\u001b[1A\u001b[2K\u001b[1A\u001b[2K\u001b[0G[+] 28.9s\r\n",
      "Downloading       ━━━━━━━━━━━━━━━━━━━━━━ 286.6MB                           13.9s\r\n",
      "Extracting  (166) ━━╸\u001b[33m━━━━━━━━━━━━━━━━━━━\u001b[0m      31 qtpy                      28.5s"
     ]
    },
    {
     "name": "stdout",
     "output_type": "stream",
     "text": [
      "\u001b[2K\u001b[1A\u001b[2K\u001b[1A\u001b[2K\u001b[0G[+] 29.0s\r\n",
      "Downloading       ━━━━━━━━━━━━━━━━━━━━━━ 286.6MB                           13.9s\r\n",
      "Extracting  (166) ━━╸\u001b[33m━━━━━━━━━━━━━━━━━━━\u001b[0m      31 qtpy                      28.6s"
     ]
    },
    {
     "name": "stdout",
     "output_type": "stream",
     "text": [
      "\u001b[2K\u001b[1A\u001b[2K\u001b[1A\u001b[2K\u001b[0G[+] 29.1s\r\n",
      "Downloading       ━━━━━━━━━━━━━━━━━━━━━━ 286.6MB                           13.9s\r\n",
      "Extracting  (166) ━━╸\u001b[33m━━━━━━━━━━━━━━━━━━━\u001b[0m      31 qtpy                      28.7s"
     ]
    },
    {
     "name": "stdout",
     "output_type": "stream",
     "text": [
      "\u001b[2K\u001b[1A\u001b[2K\u001b[1A\u001b[2K\u001b[0G[+] 29.2s\r\n",
      "Downloading       ━━━━━━━━━━━━━━━━━━━━━━ 286.6MB                           13.9s\r\n",
      "Extracting  (166) ━━╸\u001b[33m━━━━━━━━━━━━━━━━━━━\u001b[0m      31 readline                  28.8s"
     ]
    },
    {
     "name": "stdout",
     "output_type": "stream",
     "text": [
      "\u001b[2K\u001b[1A\u001b[2K\u001b[1A\u001b[2K\u001b[0G[+] 29.3s\r\n",
      "Downloading       ━━━━━━━━━━━━━━━━━━━━━━ 286.6MB                           13.9s\r\n",
      "Extracting  (165) ━━╸\u001b[33m━━━━━━━━━━━━━━━━━━━\u001b[0m      32 readline                  28.9s"
     ]
    },
    {
     "name": "stdout",
     "output_type": "stream",
     "text": [
      "\u001b[2K\u001b[1A\u001b[2K\u001b[1A\u001b[2K\u001b[0G[+] 29.4s\r\n",
      "Downloading       ━━━━━━━━━━━━━━━━━━━━━━ 286.6MB                           13.9s\r\n",
      "Extracting  (165) ━━╸\u001b[33m━━━━━━━━━━━━━━━━━━━\u001b[0m      32 readline                  29.0s"
     ]
    },
    {
     "name": "stdout",
     "output_type": "stream",
     "text": [
      "\u001b[2K\u001b[1A\u001b[2K\u001b[1A\u001b[2K\u001b[0G[+] 29.5s\r\n",
      "Downloading       ━━━━━━━━━━━━━━━━━━━━━━ 286.6MB                           13.9s\r\n",
      "Extracting  (165) ━━╸\u001b[33m━━━━━━━━━━━━━━━━━━━\u001b[0m      32 readline                  29.1s"
     ]
    },
    {
     "name": "stdout",
     "output_type": "stream",
     "text": [
      "\u001b[2K\u001b[1A\u001b[2K\u001b[1A\u001b[2K\u001b[0G[+] 29.6s\r\n",
      "Downloading       ━━━━━━━━━━━━━━━━━━━━━━ 286.6MB                           13.9s\r\n",
      "Extracting  (165) ━━╸\u001b[33m━━━━━━━━━━━━━━━━━━━\u001b[0m      32 requests                  29.2s"
     ]
    },
    {
     "name": "stdout",
     "output_type": "stream",
     "text": [
      "\u001b[2K\u001b[1A\u001b[2K\u001b[1A\u001b[2K\u001b[0G[+] 29.7s\r\n",
      "Downloading       ━━━━━━━━━━━━━━━━━━━━━━ 286.6MB                           13.9s\r\n",
      "Extracting  (165) ━━╸\u001b[33m━━━━━━━━━━━━━━━━━━━\u001b[0m      32 requests                  29.3s"
     ]
    },
    {
     "name": "stdout",
     "output_type": "stream",
     "text": [
      "\u001b[2K\u001b[1A\u001b[2K\u001b[1A\u001b[2K\u001b[0G[+] 29.8s\r\n",
      "Downloading       ━━━━━━━━━━━━━━━━━━━━━━ 286.6MB                           13.9s\r\n",
      "Extracting  (165) ━━╸\u001b[33m━━━━━━━━━━━━━━━━━━━\u001b[0m      32 requests                  29.4s"
     ]
    },
    {
     "name": "stdout",
     "output_type": "stream",
     "text": [
      "\u001b[2K\u001b[1A\u001b[2K\u001b[1A\u001b[2K\u001b[0G[+] 29.9s\r\n",
      "Downloading       ━━━━━━━━━━━━━━━━━━━━━━ 286.6MB                           13.9s\r\n",
      "Extracting  (165) ━━╸\u001b[33m━━━━━━━━━━━━━━━━━━━\u001b[0m      32 requests                  29.5s"
     ]
    },
    {
     "name": "stdout",
     "output_type": "stream",
     "text": [
      "\u001b[2K\u001b[1A\u001b[2K\u001b[1A\u001b[2K\u001b[0G[+] 30.0s\r\n",
      "Downloading       ━━━━━━━━━━━━━━━━━━━━━━ 286.6MB                           13.9s\r\n",
      "Extracting  (165) ━━╸\u001b[33m━━━━━━━━━━━━━━━━━━━\u001b[0m      32 ruamel.yaml               29.6s"
     ]
    },
    {
     "name": "stdout",
     "output_type": "stream",
     "text": [
      "\u001b[2K\u001b[1A\u001b[2K\u001b[1A\u001b[2K\u001b[0G[+] 30.1s\r\n",
      "Downloading       ━━━━━━━━━━━━━━━━━━━━━━ 286.6MB                           13.9s\r\n",
      "Extracting  (165) ━━╸\u001b[33m━━━━━━━━━━━━━━━━━━━\u001b[0m      32 ruamel.yaml               29.7s"
     ]
    },
    {
     "name": "stdout",
     "output_type": "stream",
     "text": [
      "\u001b[2K\u001b[1A\u001b[2K\u001b[1A\u001b[2K\u001b[0G[+] 30.2s\r\n",
      "Downloading       ━━━━━━━━━━━━━━━━━━━━━━ 286.6MB                           13.9s\r\n",
      "Extracting  (165) ━━╸\u001b[33m━━━━━━━━━━━━━━━━━━━\u001b[0m      32 ruamel.yaml               29.8s"
     ]
    },
    {
     "name": "stdout",
     "output_type": "stream",
     "text": [
      "\u001b[2K\u001b[1A\u001b[2K\u001b[1A\u001b[2K\u001b[0G[+] 30.3s\r\n",
      "Downloading       ━━━━━━━━━━━━━━━━━━━━━━ 286.6MB                           13.9s\r\n",
      "Extracting  (164) ━━╸\u001b[33m━━━━━━━━━━━━━━━━━━━\u001b[0m      33 ruamel.yaml               29.9s"
     ]
    },
    {
     "name": "stdout",
     "output_type": "stream",
     "text": [
      "\u001b[2K\u001b[1A\u001b[2K\u001b[1A\u001b[2K\u001b[0G[+] 30.4s\r\n",
      "Downloading       ━━━━━━━━━━━━━━━━━━━━━━ 286.6MB                           13.9s\r\n",
      "Extracting  (164) ━━╸\u001b[33m━━━━━━━━━━━━━━━━━━━\u001b[0m      33 ruamel.yaml.clib          30.0s"
     ]
    },
    {
     "name": "stdout",
     "output_type": "stream",
     "text": [
      "\u001b[2K\u001b[1A\u001b[2K\u001b[1A\u001b[2K\u001b[0G[+] 30.5s\r\n",
      "Downloading       ━━━━━━━━━━━━━━━━━━━━━━ 286.6MB                           13.9s\r\n",
      "Extracting  (164) ━━╸\u001b[33m━━━━━━━━━━━━━━━━━━━\u001b[0m      33 ruamel.yaml.clib          30.1s"
     ]
    },
    {
     "name": "stdout",
     "output_type": "stream",
     "text": [
      "\u001b[2K\u001b[1A\u001b[2K\u001b[1A\u001b[2K\u001b[0G[+] 30.6s\r\n",
      "Downloading       ━━━━━━━━━━━━━━━━━━━━━━ 286.6MB                           13.9s\r\n",
      "Extracting  (164) ━━╸\u001b[33m━━━━━━━━━━━━━━━━━━━\u001b[0m      33 ruamel.yaml.clib          30.2s"
     ]
    },
    {
     "name": "stdout",
     "output_type": "stream",
     "text": [
      "\u001b[2K\u001b[1A\u001b[2K\u001b[1A\u001b[2K\u001b[0G[+] 30.7s\r\n",
      "Downloading       ━━━━━━━━━━━━━━━━━━━━━━ 286.6MB                           13.9s\r\n",
      "Extracting  (164) ━━╸\u001b[33m━━━━━━━━━━━━━━━━━━━\u001b[0m      33 ruamel.yaml.clib          30.3s"
     ]
    },
    {
     "name": "stdout",
     "output_type": "stream",
     "text": [
      "\u001b[2K\u001b[1A\u001b[2K\u001b[1A\u001b[2K\u001b[0G[+] 30.8s\r\n",
      "Downloading       ━━━━━━━━━━━━━━━━━━━━━━ 286.6MB                           13.9s\r\n",
      "Extracting  (164) ━━╸\u001b[33m━━━━━━━━━━━━━━━━━━━\u001b[0m      33 send2trash                30.4s"
     ]
    },
    {
     "name": "stdout",
     "output_type": "stream",
     "text": [
      "\u001b[2K\u001b[1A\u001b[2K\u001b[1A\u001b[2K\u001b[0G[+] 30.9s\r\n",
      "Downloading       ━━━━━━━━━━━━━━━━━━━━━━ 286.6MB                           13.9s\r\n",
      "Extracting  (164) ━━╸\u001b[33m━━━━━━━━━━━━━━━━━━━\u001b[0m      33 send2trash                30.5s"
     ]
    },
    {
     "name": "stdout",
     "output_type": "stream",
     "text": [
      "\u001b[2K\u001b[1A\u001b[2K\u001b[1A\u001b[2K\u001b[0G[+] 31.0s\r\n",
      "Downloading       ━━━━━━━━━━━━━━━━━━━━━━ 286.6MB                           13.9s\r\n",
      "Extracting  (163) ━━╸\u001b[33m━━━━━━━━━━━━━━━━━━━\u001b[0m      34 send2trash                30.6s"
     ]
    },
    {
     "name": "stdout",
     "output_type": "stream",
     "text": [
      "\u001b[2K\u001b[1A\u001b[2K\u001b[1A\u001b[2K\u001b[0G[+] 31.1s\r\n",
      "Downloading       ━━━━━━━━━━━━━━━━━━━━━━ 286.6MB                           13.9s\r\n",
      "Extracting  (163) ━━╸\u001b[33m━━━━━━━━━━━━━━━━━━━\u001b[0m      34 send2trash                30.7s"
     ]
    },
    {
     "name": "stdout",
     "output_type": "stream",
     "text": [
      "\u001b[2K\u001b[1A\u001b[2K\u001b[1A\u001b[2K\u001b[0G[+] 31.2s\r\n",
      "Downloading       ━━━━━━━━━━━━━━━━━━━━━━ 286.6MB                           13.9s\r\n",
      "Extracting  (163) ━━╸\u001b[33m━━━━━━━━━━━━━━━━━━━\u001b[0m      34 setuptools                30.8s"
     ]
    },
    {
     "name": "stdout",
     "output_type": "stream",
     "text": [
      "\u001b[2K\u001b[1A\u001b[2K\u001b[1A\u001b[2K\u001b[0G[+] 31.3s\r\n",
      "Downloading       ━━━━━━━━━━━━━━━━━━━━━━ 286.6MB                           13.9s\r\n",
      "Extracting  (163) ━━╸\u001b[33m━━━━━━━━━━━━━━━━━━━\u001b[0m      34 setuptools                30.9s"
     ]
    },
    {
     "name": "stdout",
     "output_type": "stream",
     "text": [
      "\u001b[2K\u001b[1A\u001b[2K\u001b[1A\u001b[2K\u001b[0G[+] 31.4s\r\n",
      "Downloading       ━━━━━━━━━━━━━━━━━━━━━━ 286.6MB                           13.9s\r\n",
      "Extracting  (163) ━━╸\u001b[33m━━━━━━━━━━━━━━━━━━━\u001b[0m      34 setuptools                31.0s"
     ]
    },
    {
     "name": "stdout",
     "output_type": "stream",
     "text": [
      "\u001b[2K\u001b[1A\u001b[2K\u001b[1A\u001b[2K\u001b[0G[+] 31.5s\r\n",
      "Downloading       ━━━━━━━━━━━━━━━━━━━━━━ 286.6MB                           13.9s\r\n",
      "Extracting  (163) ━━╸\u001b[33m━━━━━━━━━━━━━━━━━━━\u001b[0m      34 setuptools                31.1s"
     ]
    },
    {
     "name": "stdout",
     "output_type": "stream",
     "text": [
      "\u001b[2K\u001b[1A\u001b[2K\u001b[1A\u001b[2K\u001b[0G[+] 31.6s\r\n",
      "Downloading       ━━━━━━━━━━━━━━━━━━━━━━ 286.6MB                           13.9s\r\n",
      "Extracting  (162) ━━╸\u001b[33m━━━━━━━━━━━━━━━━━━━\u001b[0m      35 sip                       31.2s"
     ]
    },
    {
     "name": "stdout",
     "output_type": "stream",
     "text": [
      "\u001b[2K\u001b[1A\u001b[2K\u001b[1A\u001b[2K\u001b[0G[+] 31.7s\r\n",
      "Downloading       ━━━━━━━━━━━━━━━━━━━━━━ 286.6MB                           13.9s\r\n",
      "Extracting  (162) ━━╸\u001b[33m━━━━━━━━━━━━━━━━━━━\u001b[0m      35 sip                       31.3s"
     ]
    },
    {
     "name": "stdout",
     "output_type": "stream",
     "text": [
      "\u001b[2K\u001b[1A\u001b[2K\u001b[1A\u001b[2K\u001b[0G[+] 31.8s\r\n",
      "Downloading       ━━━━━━━━━━━━━━━━━━━━━━ 286.6MB                           13.9s\r\n",
      "Extracting  (162) ━━╸\u001b[33m━━━━━━━━━━━━━━━━━━━\u001b[0m      35 sip                       31.4s"
     ]
    },
    {
     "name": "stdout",
     "output_type": "stream",
     "text": [
      "\u001b[2K\u001b[1A\u001b[2K\u001b[1A\u001b[2K\u001b[0G[+] 31.9s\r\n",
      "Downloading       ━━━━━━━━━━━━━━━━━━━━━━ 286.6MB                           13.9s\r\n",
      "Extracting  (162) ━━╸\u001b[33m━━━━━━━━━━━━━━━━━━━\u001b[0m      35 sip                       31.5s"
     ]
    },
    {
     "name": "stdout",
     "output_type": "stream",
     "text": [
      "\u001b[2K\u001b[1A\u001b[2K\u001b[1A\u001b[2K\u001b[0G[+] 32.0s\r\n",
      "Downloading       ━━━━━━━━━━━━━━━━━━━━━━ 286.6MB                           13.9s\r\n",
      "Extracting  (162) ━━╸\u001b[33m━━━━━━━━━━━━━━━━━━━\u001b[0m      35 six                       31.6s"
     ]
    },
    {
     "name": "stdout",
     "output_type": "stream",
     "text": [
      "\u001b[2K\u001b[1A\u001b[2K\u001b[1A\u001b[2K\u001b[0G[+] 32.1s\r\n",
      "Downloading       ━━━━━━━━━━━━━━━━━━━━━━ 286.6MB                           13.9s\r\n",
      "Extracting  (162) ━━╸\u001b[33m━━━━━━━━━━━━━━━━━━━\u001b[0m      35 six                       31.7s"
     ]
    },
    {
     "name": "stdout",
     "output_type": "stream",
     "text": [
      "\u001b[2K\u001b[1A\u001b[2K\u001b[1A\u001b[2K\u001b[0G[+] 32.2s\r\n",
      "Downloading       ━━━━━━━━━━━━━━━━━━━━━━ 286.6MB                           13.9s\r\n",
      "Extracting  (162) ━━╸\u001b[33m━━━━━━━━━━━━━━━━━━━\u001b[0m      35 six                       31.8s"
     ]
    },
    {
     "name": "stdout",
     "output_type": "stream",
     "text": [
      "\u001b[2K\u001b[1A\u001b[2K\u001b[1A\u001b[2K\u001b[0G[+] 32.3s\r\n",
      "Downloading       ━━━━━━━━━━━━━━━━━━━━━━ 286.6MB                           13.9s\r\n",
      "Extracting  (162) ━━╸\u001b[33m━━━━━━━━━━━━━━━━━━━\u001b[0m      35 six                       31.9s"
     ]
    },
    {
     "name": "stdout",
     "output_type": "stream",
     "text": [
      "\u001b[2K\u001b[1A\u001b[2K\u001b[1A\u001b[2K\u001b[0G[+] 32.4s\r\n",
      "Downloading       ━━━━━━━━━━━━━━━━━━━━━━ 286.6MB                           13.9s\r\n",
      "Extracting  (161) ━━━╸\u001b[33m━━━━━━━━━━━━━━━━━━\u001b[0m      36 sqlite                    32.0s"
     ]
    },
    {
     "name": "stdout",
     "output_type": "stream",
     "text": [
      "\u001b[2K\u001b[1A\u001b[2K\u001b[1A\u001b[2K\u001b[0G[+] 32.5s\r\n",
      "Downloading       ━━━━━━━━━━━━━━━━━━━━━━ 286.6MB                           13.9s\r\n",
      "Extracting  (161) ━━━╸\u001b[33m━━━━━━━━━━━━━━━━━━\u001b[0m      36 sqlite                    32.1s"
     ]
    },
    {
     "name": "stdout",
     "output_type": "stream",
     "text": [
      "\u001b[2K\u001b[1A\u001b[2K\u001b[1A\u001b[2K\u001b[0G[+] 32.6s\r\n",
      "Downloading       ━━━━━━━━━━━━━━━━━━━━━━ 286.6MB                           13.9s\r\n",
      "Extracting  (161) ━━━╸\u001b[33m━━━━━━━━━━━━━━━━━━\u001b[0m      36 sqlite                    32.2s"
     ]
    },
    {
     "name": "stdout",
     "output_type": "stream",
     "text": [
      "\u001b[2K\u001b[1A\u001b[2K\u001b[1A\u001b[2K\u001b[0G[+] 32.7s\r\n",
      "Downloading       ━━━━━━━━━━━━━━━━━━━━━━ 286.6MB                           13.9s\r\n",
      "Extracting  (161) ━━━╸\u001b[33m━━━━━━━━━━━━━━━━━━\u001b[0m      36 sqlite                    32.3s"
     ]
    },
    {
     "name": "stdout",
     "output_type": "stream",
     "text": [
      "\u001b[2K\u001b[1A\u001b[2K\u001b[1A\u001b[2K\u001b[0G[+] 32.8s\r\n",
      "Downloading       ━━━━━━━━━━━━━━━━━━━━━━ 286.6MB                           13.9s\r\n",
      "Extracting  (161) ━━━╸\u001b[33m━━━━━━━━━━━━━━━━━━\u001b[0m      36 stack_data                32.4s"
     ]
    },
    {
     "name": "stdout",
     "output_type": "stream",
     "text": [
      "\u001b[2K\u001b[1A\u001b[2K\u001b[1A\u001b[2K\u001b[0G[+] 32.9s\r\n",
      "Downloading       ━━━━━━━━━━━━━━━━━━━━━━ 286.6MB                           13.9s\r\n",
      "Extracting  (161) ━━━╸\u001b[33m━━━━━━━━━━━━━━━━━━\u001b[0m      36 stack_data                32.5s"
     ]
    },
    {
     "name": "stdout",
     "output_type": "stream",
     "text": [
      "\u001b[2K\u001b[1A\u001b[2K\u001b[1A\u001b[2K\u001b[0G[+] 33.0s\r\n",
      "Downloading       ━━━━━━━━━━━━━━━━━━━━━━ 286.6MB                           13.9s\r\n",
      "Extracting  (161) ━━━╸\u001b[33m━━━━━━━━━━━━━━━━━━\u001b[0m      36 stack_data                32.6s"
     ]
    },
    {
     "name": "stdout",
     "output_type": "stream",
     "text": [
      "\u001b[2K\u001b[1A\u001b[2K\u001b[1A\u001b[2K\u001b[0G[+] 33.1s\r\n",
      "Downloading       ━━━━━━━━━━━━━━━━━━━━━━ 286.6MB                           13.9s\r\n",
      "Extracting  (161) ━━━╸\u001b[33m━━━━━━━━━━━━━━━━━━\u001b[0m      36 stack_data                32.7s"
     ]
    },
    {
     "name": "stdout",
     "output_type": "stream",
     "text": [
      "\u001b[2K\u001b[1A\u001b[2K\u001b[1A\u001b[2K\u001b[0G[+] 33.2s\r\n",
      "Downloading       ━━━━━━━━━━━━━━━━━━━━━━ 286.6MB                           13.9s\r\n",
      "Extracting  (160) ━━━╸\u001b[33m━━━━━━━━━━━━━━━━━━\u001b[0m      37 tk                        32.8s"
     ]
    },
    {
     "name": "stdout",
     "output_type": "stream",
     "text": [
      "\u001b[2K\u001b[1A\u001b[2K\u001b[1A\u001b[2K\u001b[0G[+] 33.3s\r\n",
      "Downloading       ━━━━━━━━━━━━━━━━━━━━━━ 286.6MB                           13.9s\r\n",
      "Extracting  (160) ━━━╸\u001b[33m━━━━━━━━━━━━━━━━━━\u001b[0m      37 tk                        32.9s"
     ]
    },
    {
     "name": "stdout",
     "output_type": "stream",
     "text": [
      "\u001b[2K\u001b[1A\u001b[2K\u001b[1A\u001b[2K\u001b[0G[+] 33.4s\r\n",
      "Downloading       ━━━━━━━━━━━━━━━━━━━━━━ 286.6MB                           13.9s\r\n",
      "Extracting  (160) ━━━╸\u001b[33m━━━━━━━━━━━━━━━━━━\u001b[0m      37 tk                        33.0s"
     ]
    },
    {
     "name": "stdout",
     "output_type": "stream",
     "text": [
      "\u001b[2K\u001b[1A\u001b[2K\u001b[1A\u001b[2K\u001b[0G[+] 33.5s\r\n",
      "Downloading       ━━━━━━━━━━━━━━━━━━━━━━ 286.6MB                           13.9s\r\n",
      "Extracting  (160) ━━━╸\u001b[33m━━━━━━━━━━━━━━━━━━\u001b[0m      37 tk                        33.1s"
     ]
    },
    {
     "name": "stdout",
     "output_type": "stream",
     "text": [
      "\u001b[2K\u001b[1A\u001b[2K\u001b[1A\u001b[2K\u001b[0G[+] 33.6s\r\n",
      "Downloading       ━━━━━━━━━━━━━━━━━━━━━━ 286.6MB                           13.9s\r\n",
      "Extracting  (160) ━━━╸\u001b[33m━━━━━━━━━━━━━━━━━━\u001b[0m      37 toml                      33.2s"
     ]
    },
    {
     "name": "stdout",
     "output_type": "stream",
     "text": [
      "\u001b[2K\u001b[1A\u001b[2K\u001b[1A\u001b[2K\u001b[0G[+] 33.7s\r\n",
      "Downloading       ━━━━━━━━━━━━━━━━━━━━━━ 286.6MB                           13.9s\r\n",
      "Extracting  (160) ━━━╸\u001b[33m━━━━━━━━━━━━━━━━━━\u001b[0m      37 toml                      33.3s"
     ]
    },
    {
     "name": "stdout",
     "output_type": "stream",
     "text": [
      "\u001b[2K\u001b[1A\u001b[2K\u001b[1A\u001b[2K\u001b[0G[+] 33.8s\r\n",
      "Downloading       ━━━━━━━━━━━━━━━━━━━━━━ 286.6MB                           13.9s\r\n",
      "Extracting  (160) ━━━╸\u001b[33m━━━━━━━━━━━━━━━━━━\u001b[0m      37 toml                      33.4s"
     ]
    },
    {
     "name": "stdout",
     "output_type": "stream",
     "text": [
      "\u001b[2K\u001b[1A\u001b[2K\u001b[1A\u001b[2K\u001b[0G[+] 33.9s\r\n",
      "Downloading       ━━━━━━━━━━━━━━━━━━━━━━ 286.6MB                           13.9s\r\n",
      "Extracting  (159) ━━━╸\u001b[33m━━━━━━━━━━━━━━━━━━\u001b[0m      38 toml                      33.5s"
     ]
    },
    {
     "name": "stdout",
     "output_type": "stream",
     "text": [
      "\u001b[2K\u001b[1A\u001b[2K\u001b[1A\u001b[2K\u001b[0G[+] 34.0s\r\n",
      "Downloading       ━━━━━━━━━━━━━━━━━━━━━━ 286.6MB                           13.9s\r\n",
      "Extracting  (159) ━━━╸\u001b[33m━━━━━━━━━━━━━━━━━━\u001b[0m      38 tornado                   33.6s"
     ]
    },
    {
     "name": "stdout",
     "output_type": "stream",
     "text": [
      "\u001b[2K\u001b[1A\u001b[2K\u001b[1A\u001b[2K\u001b[0G[+] 34.1s\r\n",
      "Downloading       ━━━━━━━━━━━━━━━━━━━━━━ 286.6MB                           13.9s\r\n",
      "Extracting  (159) ━━━╸\u001b[33m━━━━━━━━━━━━━━━━━━\u001b[0m      38 tornado                   33.7s"
     ]
    },
    {
     "name": "stdout",
     "output_type": "stream",
     "text": [
      "\u001b[2K\u001b[1A\u001b[2K\u001b[1A\u001b[2K\u001b[0G[+] 34.2s\r\n",
      "Downloading       ━━━━━━━━━━━━━━━━━━━━━━ 286.6MB                           13.9s\r\n",
      "Extracting  (159) ━━━╸\u001b[33m━━━━━━━━━━━━━━━━━━\u001b[0m      38 tornado                   33.8s"
     ]
    },
    {
     "name": "stdout",
     "output_type": "stream",
     "text": [
      "\u001b[2K\u001b[1A\u001b[2K\u001b[1A\u001b[2K\u001b[0G[+] 34.3s\r\n",
      "Downloading       ━━━━━━━━━━━━━━━━━━━━━━ 286.6MB                           13.9s\r\n",
      "Extracting  (159) ━━━╸\u001b[33m━━━━━━━━━━━━━━━━━━\u001b[0m      38 tornado                   33.9s"
     ]
    },
    {
     "name": "stdout",
     "output_type": "stream",
     "text": [
      "\u001b[2K\u001b[1A\u001b[2K\u001b[1A\u001b[2K\u001b[0G[+] 34.4s\r\n",
      "Downloading       ━━━━━━━━━━━━━━━━━━━━━━ 286.6MB                           13.9s\r\n",
      "Extracting  (159) ━━━╸\u001b[33m━━━━━━━━━━━━━━━━━━\u001b[0m      38 tqdm                      34.0s"
     ]
    },
    {
     "name": "stdout",
     "output_type": "stream",
     "text": [
      "\u001b[2K\u001b[1A\u001b[2K\u001b[1A\u001b[2K\u001b[0G[+] 34.5s\r\n",
      "Downloading       ━━━━━━━━━━━━━━━━━━━━━━ 286.6MB                           13.9s\r\n",
      "Extracting  (159) ━━━╸\u001b[33m━━━━━━━━━━━━━━━━━━\u001b[0m      38 tqdm                      34.1s"
     ]
    },
    {
     "name": "stdout",
     "output_type": "stream",
     "text": [
      "\u001b[2K\u001b[1A\u001b[2K\u001b[1A\u001b[2K\u001b[0G[+] 34.6s\r\n",
      "Downloading       ━━━━━━━━━━━━━━━━━━━━━━ 286.6MB                           13.9s\r\n"
     ]
    },
    {
     "name": "stdout",
     "output_type": "stream",
     "text": [
      "Extracting  (158) ━━━╸\u001b[33m━━━━━━━━━━━━━━━━━━\u001b[0m      39 tqdm                      34.2s"
     ]
    },
    {
     "name": "stdout",
     "output_type": "stream",
     "text": [
      "\u001b[2K\u001b[1A\u001b[2K\u001b[1A\u001b[2K\u001b[0G[+] 34.7s\r\n",
      "Downloading       ━━━━━━━━━━━━━━━━━━━━━━ 286.6MB                           13.9s\r\n",
      "Extracting  (158) ━━━╸\u001b[33m━━━━━━━━━━━━━━━━━━\u001b[0m      39 tqdm                      34.3s"
     ]
    },
    {
     "name": "stdout",
     "output_type": "stream",
     "text": [
      "\u001b[2K\u001b[1A\u001b[2K\u001b[1A\u001b[2K\u001b[0G[+] 34.8s\r\n",
      "Downloading       ━━━━━━━━━━━━━━━━━━━━━━ 286.6MB                           13.9s\r\n",
      "Extracting  (158) ━━━╸\u001b[33m━━━━━━━━━━━━━━━━━━\u001b[0m      39 traitlets                 34.4s"
     ]
    },
    {
     "name": "stdout",
     "output_type": "stream",
     "text": [
      "\u001b[2K\u001b[1A\u001b[2K\u001b[1A\u001b[2K\u001b[0G[+] 34.9s\r\n",
      "Downloading       ━━━━━━━━━━━━━━━━━━━━━━ 286.6MB                           13.9s\r\n",
      "Extracting  (158) ━━━╸\u001b[33m━━━━━━━━━━━━━━━━━━\u001b[0m      39 traitlets                 34.5s"
     ]
    },
    {
     "name": "stdout",
     "output_type": "stream",
     "text": [
      "\u001b[2K\u001b[1A\u001b[2K\u001b[1A\u001b[2K\u001b[0G[+] 35.0s\r\n",
      "Downloading       ━━━━━━━━━━━━━━━━━━━━━━ 286.6MB                           13.9s\r\n",
      "Extracting  (158) ━━━╸\u001b[33m━━━━━━━━━━━━━━━━━━\u001b[0m      39 traitlets                 34.6s"
     ]
    },
    {
     "name": "stdout",
     "output_type": "stream",
     "text": [
      "\u001b[2K\u001b[1A\u001b[2K\u001b[1A\u001b[2K\u001b[0G[+] 35.1s\r\n",
      "Downloading       ━━━━━━━━━━━━━━━━━━━━━━ 286.6MB                           13.9s\r\n",
      "Extracting  (158) ━━━╸\u001b[33m━━━━━━━━━━━━━━━━━━\u001b[0m      39 traitlets                 34.7s"
     ]
    },
    {
     "name": "stdout",
     "output_type": "stream",
     "text": [
      "\u001b[2K\u001b[1A\u001b[2K\u001b[1A\u001b[2K\u001b[0G[+] 35.2s\r\n",
      "Downloading       ━━━━━━━━━━━━━━━━━━━━━━ 286.6MB                           13.9s\r\n",
      "Extracting  (158) ━━━╸\u001b[33m━━━━━━━━━━━━━━━━━━\u001b[0m      39 typing_extensions         34.8s"
     ]
    },
    {
     "name": "stdout",
     "output_type": "stream",
     "text": [
      "\u001b[2K\u001b[1A\u001b[2K\u001b[1A\u001b[2K\u001b[0G[+] 35.3s\r\n",
      "Downloading       ━━━━━━━━━━━━━━━━━━━━━━ 286.6MB                           13.9s\r\n",
      "Extracting  (158) ━━━╸\u001b[33m━━━━━━━━━━━━━━━━━━\u001b[0m      39 typing_extensions         34.9s"
     ]
    },
    {
     "name": "stdout",
     "output_type": "stream",
     "text": [
      "\u001b[2K\u001b[1A\u001b[2K\u001b[1A\u001b[2K\u001b[0G[+] 35.4s\r\n",
      "Downloading       ━━━━━━━━━━━━━━━━━━━━━━ 286.6MB                           13.9s\r\n",
      "Extracting  (157) ━━━╸\u001b[33m━━━━━━━━━━━━━━━━━━\u001b[0m      40 typing_extensions         35.0s"
     ]
    },
    {
     "name": "stdout",
     "output_type": "stream",
     "text": [
      "\u001b[2K\u001b[1A\u001b[2K\u001b[1A\u001b[2K\u001b[0G[+] 35.5s\r\n",
      "Downloading       ━━━━━━━━━━━━━━━━━━━━━━ 286.6MB                           13.9s\r\n",
      "Extracting  (157) ━━━╸\u001b[33m━━━━━━━━━━━━━━━━━━\u001b[0m      40 typing_extensions         35.1s"
     ]
    },
    {
     "name": "stdout",
     "output_type": "stream",
     "text": [
      "\u001b[2K\u001b[1A\u001b[2K\u001b[1A\u001b[2K\u001b[0G[+] 35.6s\r\n",
      "Downloading       ━━━━━━━━━━━━━━━━━━━━━━ 286.6MB                           13.9s\r\n",
      "Extracting  (157) ━━━╸\u001b[33m━━━━━━━━━━━━━━━━━━\u001b[0m      40 tzdata                    35.2s"
     ]
    },
    {
     "name": "stdout",
     "output_type": "stream",
     "text": [
      "\u001b[2K\u001b[1A\u001b[2K\u001b[1A\u001b[2K\u001b[0G[+] 35.7s\r\n",
      "Downloading       ━━━━━━━━━━━━━━━━━━━━━━ 286.6MB                           13.9s\r\n",
      "Extracting  (157) ━━━╸\u001b[33m━━━━━━━━━━━━━━━━━━\u001b[0m      40 tzdata                    35.3s"
     ]
    },
    {
     "name": "stdout",
     "output_type": "stream",
     "text": [
      "\u001b[2K\u001b[1A\u001b[2K\u001b[1A\u001b[2K\u001b[0G[+] 35.8s\r\n",
      "Downloading       ━━━━━━━━━━━━━━━━━━━━━━ 286.6MB                           13.9s\r\n",
      "Extracting  (157) ━━━╸\u001b[33m━━━━━━━━━━━━━━━━━━\u001b[0m      40 tzdata                    35.4s"
     ]
    },
    {
     "name": "stdout",
     "output_type": "stream",
     "text": [
      "\u001b[2K\u001b[1A\u001b[2K\u001b[1A\u001b[2K\u001b[0G[+] 35.9s\r\n",
      "Downloading       ━━━━━━━━━━━━━━━━━━━━━━ 286.6MB                           13.9s\r\n",
      "Extracting  (157) ━━━╸\u001b[33m━━━━━━━━━━━━━━━━━━\u001b[0m      40 tzdata                    35.5s"
     ]
    },
    {
     "name": "stdout",
     "output_type": "stream",
     "text": [
      "\u001b[2K\u001b[1A\u001b[2K\u001b[1A\u001b[2K\u001b[0G[+] 36.0s\r\n",
      "Downloading       ━━━━━━━━━━━━━━━━━━━━━━ 286.6MB                           13.9s\r\n",
      "Extracting  (156) ━━━╸\u001b[33m━━━━━━━━━━━━━━━━━━\u001b[0m      41 urllib3                   35.6s"
     ]
    },
    {
     "name": "stdout",
     "output_type": "stream",
     "text": [
      "\u001b[2K\u001b[1A\u001b[2K\u001b[1A\u001b[2K\u001b[0G[+] 36.1s\r\n",
      "Downloading       ━━━━━━━━━━━━━━━━━━━━━━ 286.6MB                           13.9s\r\n",
      "Extracting  (156) ━━━╸\u001b[33m━━━━━━━━━━━━━━━━━━\u001b[0m      41 urllib3                   35.7s"
     ]
    },
    {
     "name": "stdout",
     "output_type": "stream",
     "text": [
      "\u001b[2K\u001b[1A\u001b[2K\u001b[1A\u001b[2K\u001b[0G[+] 36.2s\r\n",
      "Downloading       ━━━━━━━━━━━━━━━━━━━━━━ 286.6MB                           13.9s\r\n",
      "Extracting  (156) ━━━╸\u001b[33m━━━━━━━━━━━━━━━━━━\u001b[0m      41 urllib3                   35.8s"
     ]
    },
    {
     "name": "stdout",
     "output_type": "stream",
     "text": [
      "\u001b[2K\u001b[1A\u001b[2K\u001b[1A\u001b[2K\u001b[0G[+] 36.3s\r\n",
      "Downloading       ━━━━━━━━━━━━━━━━━━━━━━ 286.6MB                           13.9s\r\n",
      "Extracting  (156) ━━━╸\u001b[33m━━━━━━━━━━━━━━━━━━\u001b[0m      41 urllib3                   35.9s"
     ]
    },
    {
     "name": "stdout",
     "output_type": "stream",
     "text": [
      "\u001b[2K\u001b[1A\u001b[2K\u001b[1A\u001b[2K\u001b[0G[+] 36.4s\r\n",
      "Downloading       ━━━━━━━━━━━━━━━━━━━━━━ 286.6MB                           13.9s\r\n",
      "Extracting  (156) ━━━╸\u001b[33m━━━━━━━━━━━━━━━━━━\u001b[0m      41 wcwidth                   36.0s"
     ]
    },
    {
     "name": "stdout",
     "output_type": "stream",
     "text": [
      "\u001b[2K\u001b[1A\u001b[2K\u001b[1A\u001b[2K\u001b[0G[+] 36.5s\r\n",
      "Downloading       ━━━━━━━━━━━━━━━━━━━━━━ 286.6MB                           13.9s\r\n",
      "Extracting  (156) ━━━╸\u001b[33m━━━━━━━━━━━━━━━━━━\u001b[0m      41 wcwidth                   36.1s"
     ]
    },
    {
     "name": "stdout",
     "output_type": "stream",
     "text": [
      "\u001b[2K\u001b[1A\u001b[2K\u001b[1A\u001b[2K\u001b[0G[+] 36.6s\r\n",
      "Downloading       ━━━━━━━━━━━━━━━━━━━━━━ 286.6MB                           13.9s\r\n",
      "Extracting  (156) ━━━╸\u001b[33m━━━━━━━━━━━━━━━━━━\u001b[0m      41 wcwidth                   36.2s"
     ]
    },
    {
     "name": "stdout",
     "output_type": "stream",
     "text": [
      "\u001b[2K\u001b[1A\u001b[2K\u001b[1A\u001b[2K\u001b[0G[+] 36.7s\r\n",
      "Downloading       ━━━━━━━━━━━━━━━━━━━━━━ 286.6MB                           13.9s\r\n",
      "Extracting  (156) ━━━╸\u001b[33m━━━━━━━━━━━━━━━━━━\u001b[0m      41 wcwidth                   36.3s"
     ]
    },
    {
     "name": "stdout",
     "output_type": "stream",
     "text": [
      "\u001b[2K\u001b[1A\u001b[2K\u001b[1A\u001b[2K\u001b[0G[+] 36.8s\r\n",
      "Downloading       ━━━━━━━━━━━━━━━━━━━━━━ 286.6MB                           13.9s\r\n",
      "Extracting  (155) ━━━╸\u001b[33m━━━━━━━━━━━━━━━━━━\u001b[0m      42 wheel                     36.4s"
     ]
    },
    {
     "name": "stdout",
     "output_type": "stream",
     "text": [
      "\u001b[2K\u001b[1A\u001b[2K\u001b[1A\u001b[2K\u001b[0G[+] 36.9s\r\n",
      "Downloading       ━━━━━━━━━━━━━━━━━━━━━━ 286.6MB                           13.9s\r\n",
      "Extracting  (155) ━━━╸\u001b[33m━━━━━━━━━━━━━━━━━━\u001b[0m      42 wheel                     36.5s"
     ]
    },
    {
     "name": "stdout",
     "output_type": "stream",
     "text": [
      "\u001b[2K\u001b[1A\u001b[2K\u001b[1A\u001b[2K\u001b[0G[+] 37.0s\r\n",
      "Downloading       ━━━━━━━━━━━━━━━━━━━━━━ 286.6MB                           13.9s\r\n",
      "Extracting  (155) ━━━╸\u001b[33m━━━━━━━━━━━━━━━━━━\u001b[0m      42 wheel                     36.6s"
     ]
    },
    {
     "name": "stdout",
     "output_type": "stream",
     "text": [
      "\u001b[2K\u001b[1A\u001b[2K\u001b[1A\u001b[2K\u001b[0G[+] 37.1s\r\n",
      "Downloading       ━━━━━━━━━━━━━━━━━━━━━━ 286.6MB                           13.9s\r\n",
      "Extracting  (155) ━━━╸\u001b[33m━━━━━━━━━━━━━━━━━━\u001b[0m      42 wheel                     36.7s"
     ]
    },
    {
     "name": "stdout",
     "output_type": "stream",
     "text": [
      "\u001b[2K\u001b[1A\u001b[2K\u001b[1A\u001b[2K\u001b[0G[+] 37.2s\r\n",
      "Downloading       ━━━━━━━━━━━━━━━━━━━━━━ 286.6MB                           13.9s\r\n",
      "Extracting  (155) ━━━╸\u001b[33m━━━━━━━━━━━━━━━━━━\u001b[0m      42 widgetsnbextension        36.8s"
     ]
    },
    {
     "name": "stdout",
     "output_type": "stream",
     "text": [
      "\u001b[2K\u001b[1A\u001b[2K\u001b[1A\u001b[2K\u001b[0G[+] 37.3s\r\n",
      "Downloading       ━━━━━━━━━━━━━━━━━━━━━━ 286.6MB                           13.9s\r\n",
      "Extracting  (155) ━━━╸\u001b[33m━━━━━━━━━━━━━━━━━━\u001b[0m      42 widgetsnbextension        36.9s"
     ]
    },
    {
     "name": "stdout",
     "output_type": "stream",
     "text": [
      "\u001b[2K\u001b[1A\u001b[2K\u001b[1A\u001b[2K\u001b[0G[+] 37.4s\r\n",
      "Downloading       ━━━━━━━━━━━━━━━━━━━━━━ 286.6MB                           13.9s\r\n",
      "Extracting  (155) ━━━╸\u001b[33m━━━━━━━━━━━━━━━━━━\u001b[0m      42 widgetsnbextension        37.0s"
     ]
    },
    {
     "name": "stdout",
     "output_type": "stream",
     "text": [
      "\u001b[2K\u001b[1A\u001b[2K\u001b[1A\u001b[2K\u001b[0G[+] 37.5s\r\n",
      "Downloading       ━━━━━━━━━━━━━━━━━━━━━━ 286.6MB                           13.9s\r\n",
      "Extracting  (155) ━━━╸\u001b[33m━━━━━━━━━━━━━━━━━━\u001b[0m      42 widgetsnbextension        37.1s"
     ]
    },
    {
     "name": "stdout",
     "output_type": "stream",
     "text": [
      "\u001b[2K\u001b[1A\u001b[2K\u001b[1A\u001b[2K\u001b[0G[+] 37.6s\r\n",
      "Downloading       ━━━━━━━━━━━━━━━━━━━━━━ 286.6MB                           13.9s\r\n",
      "Extracting  (155) ━━━╸\u001b[33m━━━━━━━━━━━━━━━━━━\u001b[0m      42 xcb-util                  37.2s"
     ]
    },
    {
     "name": "stdout",
     "output_type": "stream",
     "text": [
      "\u001b[2K\u001b[1A\u001b[2K\u001b[1A\u001b[2K\u001b[0G[+] 37.7s\r\n",
      "Downloading       ━━━━━━━━━━━━━━━━━━━━━━ 286.6MB                           13.9s\r\n",
      "Extracting  (154) ━━━╸\u001b[33m━━━━━━━━━━━━━━━━━━\u001b[0m      43 xcb-util                  37.3s"
     ]
    },
    {
     "name": "stdout",
     "output_type": "stream",
     "text": [
      "\u001b[2K\u001b[1A\u001b[2K\u001b[1A\u001b[2K\u001b[0G[+] 37.8s\r\n",
      "Downloading       ━━━━━━━━━━━━━━━━━━━━━━ 286.6MB                           13.9s\r\n",
      "Extracting  (154) ━━━╸\u001b[33m━━━━━━━━━━━━━━━━━━\u001b[0m      43 xcb-util                  37.4s"
     ]
    },
    {
     "name": "stdout",
     "output_type": "stream",
     "text": [
      "\u001b[2K\u001b[1A\u001b[2K\u001b[1A\u001b[2K\u001b[0G[+] 37.9s\r\n",
      "Downloading       ━━━━━━━━━━━━━━━━━━━━━━ 286.6MB                           13.9s\r\n",
      "Extracting  (154) ━━━╸\u001b[33m━━━━━━━━━━━━━━━━━━\u001b[0m      43 xcb-util                  37.5s"
     ]
    },
    {
     "name": "stdout",
     "output_type": "stream",
     "text": [
      "\u001b[2K\u001b[1A\u001b[2K\u001b[1A\u001b[2K\u001b[0G[+] 38.0s\r\n",
      "Downloading       ━━━━━━━━━━━━━━━━━━━━━━ 286.6MB                           13.9s\r\n",
      "Extracting  (154) ━━━╸\u001b[33m━━━━━━━━━━━━━━━━━━\u001b[0m      43 xcb-util-image            37.6s"
     ]
    },
    {
     "name": "stdout",
     "output_type": "stream",
     "text": [
      "\u001b[2K\u001b[1A\u001b[2K\u001b[1A\u001b[2K\u001b[0G[+] 38.1s\r\n",
      "Downloading       ━━━━━━━━━━━━━━━━━━━━━━ 286.6MB                           13.9s\r\n",
      "Extracting  (154) ━━━╸\u001b[33m━━━━━━━━━━━━━━━━━━\u001b[0m      43 xcb-util-image            37.7s"
     ]
    },
    {
     "name": "stdout",
     "output_type": "stream",
     "text": [
      "\u001b[2K\u001b[1A\u001b[2K\u001b[1A\u001b[2K\u001b[0G[+] 38.2s\r\n",
      "Downloading       ━━━━━━━━━━━━━━━━━━━━━━ 286.6MB                           13.9s\r\n",
      "Extracting  (154) ━━━╸\u001b[33m━━━━━━━━━━━━━━━━━━\u001b[0m      43 xcb-util-image            37.8s"
     ]
    },
    {
     "name": "stdout",
     "output_type": "stream",
     "text": [
      "\u001b[2K\u001b[1A\u001b[2K\u001b[1A\u001b[2K\u001b[0G[+] 38.3s\r\n",
      "Downloading       ━━━━━━━━━━━━━━━━━━━━━━ 286.6MB                           13.9s\r\n",
      "Extracting  (153) ━━━╸\u001b[33m━━━━━━━━━━━━━━━━━━\u001b[0m      44 xcb-util-image            37.9s"
     ]
    },
    {
     "name": "stdout",
     "output_type": "stream",
     "text": [
      "\u001b[2K\u001b[1A\u001b[2K\u001b[1A\u001b[2K\u001b[0G[+] 38.4s\r\n",
      "Downloading       ━━━━━━━━━━━━━━━━━━━━━━ 286.6MB                           13.9s\r\n",
      "Extracting  (153) ━━━╸\u001b[33m━━━━━━━━━━━━━━━━━━\u001b[0m      44 xcb-util-renderutil       38.0s"
     ]
    },
    {
     "name": "stdout",
     "output_type": "stream",
     "text": [
      "\u001b[2K\u001b[1A\u001b[2K\u001b[1A\u001b[2K\u001b[0G[+] 38.5s\r\n",
      "Downloading       ━━━━━━━━━━━━━━━━━━━━━━ 286.6MB                           13.9s\r\n",
      "Extracting  (153) ━━━╸\u001b[33m━━━━━━━━━━━━━━━━━━\u001b[0m      44 xcb-util-renderutil       38.1s"
     ]
    },
    {
     "name": "stdout",
     "output_type": "stream",
     "text": [
      "\u001b[2K\u001b[1A\u001b[2K\u001b[1A\u001b[2K\u001b[0G[+] 38.6s\r\n",
      "Downloading       ━━━━━━━━━━━━━━━━━━━━━━ 286.6MB                           13.9s\r\n",
      "Extracting  (153) ━━━╸\u001b[33m━━━━━━━━━━━━━━━━━━\u001b[0m      44 xcb-util-renderutil       38.2s"
     ]
    },
    {
     "name": "stdout",
     "output_type": "stream",
     "text": [
      "\u001b[2K\u001b[1A\u001b[2K\u001b[1A\u001b[2K\u001b[0G[+] 38.7s\r\n",
      "Downloading       ━━━━━━━━━━━━━━━━━━━━━━ 286.6MB                           13.9s\r\n",
      "Extracting  (153) ━━━╸\u001b[33m━━━━━━━━━━━━━━━━━━\u001b[0m      44 xcb-util-renderutil       38.3s"
     ]
    },
    {
     "name": "stdout",
     "output_type": "stream",
     "text": [
      "\u001b[2K\u001b[1A\u001b[2K\u001b[1A\u001b[2K\u001b[0G[+] 38.8s\r\n",
      "Downloading       ━━━━━━━━━━━━━━━━━━━━━━ 286.6MB                           13.9s\r\n",
      "Extracting  (153) ━━━╸\u001b[33m━━━━━━━━━━━━━━━━━━\u001b[0m      44 xcb-util-wm               38.4s"
     ]
    },
    {
     "name": "stdout",
     "output_type": "stream",
     "text": [
      "\u001b[2K\u001b[1A\u001b[2K\u001b[1A\u001b[2K\u001b[0G[+] 38.9s\r\n",
      "Downloading       ━━━━━━━━━━━━━━━━━━━━━━ 286.6MB                           13.9s\r\n",
      "Extracting  (153) ━━━╸\u001b[33m━━━━━━━━━━━━━━━━━━\u001b[0m      44 xcb-util-wm               38.5s"
     ]
    },
    {
     "name": "stdout",
     "output_type": "stream",
     "text": [
      "\u001b[2K\u001b[1A\u001b[2K\u001b[1A\u001b[2K\u001b[0G[+] 39.0s\r\n",
      "Downloading       ━━━━━━━━━━━━━━━━━━━━━━ 286.6MB                           13.9s\r\n",
      "Extracting  (153) ━━━╸\u001b[33m━━━━━━━━━━━━━━━━━━\u001b[0m      44 xcb-util-wm               38.6s"
     ]
    },
    {
     "name": "stdout",
     "output_type": "stream",
     "text": [
      "\u001b[2K\u001b[1A\u001b[2K\u001b[1A\u001b[2K\u001b[0G[+] 39.1s\r\n",
      "Downloading       ━━━━━━━━━━━━━━━━━━━━━━ 286.6MB                           13.9s\r\n",
      "Extracting  (153) ━━━╸\u001b[33m━━━━━━━━━━━━━━━━━━\u001b[0m      44 xcb-util-wm               38.7s"
     ]
    },
    {
     "name": "stdout",
     "output_type": "stream",
     "text": [
      "\u001b[2K\u001b[1A\u001b[2K\u001b[1A\u001b[2K\u001b[0G[+] 39.2s\r\n",
      "Downloading       ━━━━━━━━━━━━━━━━━━━━━━ 286.6MB                           13.9s\r\n",
      "Extracting  (152) ━━━━╸\u001b[33m━━━━━━━━━━━━━━━━━\u001b[0m      45 xkeyboard-config          38.8s"
     ]
    },
    {
     "name": "stdout",
     "output_type": "stream",
     "text": [
      "\u001b[2K\u001b[1A\u001b[2K\u001b[1A\u001b[2K\u001b[0G[+] 39.3s\r\n",
      "Downloading       ━━━━━━━━━━━━━━━━━━━━━━ 286.6MB                           13.9s\r\n",
      "Extracting  (152) ━━━━╸\u001b[33m━━━━━━━━━━━━━━━━━\u001b[0m      45 xkeyboard-config          38.9s"
     ]
    },
    {
     "name": "stdout",
     "output_type": "stream",
     "text": [
      "\u001b[2K\u001b[1A\u001b[2K\u001b[1A\u001b[2K\u001b[0G[+] 39.4s\r\n",
      "Downloading       ━━━━━━━━━━━━━━━━━━━━━━ 286.6MB                           13.9s\r\n",
      "Extracting  (152) ━━━━╸\u001b[33m━━━━━━━━━━━━━━━━━\u001b[0m      45 xkeyboard-config          39.0s"
     ]
    },
    {
     "name": "stdout",
     "output_type": "stream",
     "text": [
      "\u001b[2K\u001b[1A\u001b[2K\u001b[1A\u001b[2K\u001b[0G[+] 39.5s\r\n",
      "Downloading       ━━━━━━━━━━━━━━━━━━━━━━ 286.6MB                           13.9s\r\n",
      "Extracting  (152) ━━━━╸\u001b[33m━━━━━━━━━━━━━━━━━\u001b[0m      45 xkeyboard-config          39.1s"
     ]
    },
    {
     "name": "stdout",
     "output_type": "stream",
     "text": [
      "\u001b[2K\u001b[1A\u001b[2K\u001b[1A\u001b[2K\u001b[0G[+] 39.6s\r\n",
      "Downloading       ━━━━━━━━━━━━━━━━━━━━━━ 286.6MB                           13.9s\r\n",
      "Extracting  (152) ━━━━╸\u001b[33m━━━━━━━━━━━━━━━━━\u001b[0m      45 xorg-kbproto              39.2s"
     ]
    },
    {
     "name": "stdout",
     "output_type": "stream",
     "text": [
      "\u001b[2K\u001b[1A\u001b[2K\u001b[1A\u001b[2K\u001b[0G[+] 39.7s\r\n",
      "Downloading       ━━━━━━━━━━━━━━━━━━━━━━ 286.6MB                           13.9s\r\n",
      "Extracting  (151) ━━━━╸\u001b[33m━━━━━━━━━━━━━━━━━\u001b[0m      46 xorg-kbproto              39.3s"
     ]
    },
    {
     "name": "stdout",
     "output_type": "stream",
     "text": [
      "\u001b[2K\u001b[1A\u001b[2K\u001b[1A\u001b[2K\u001b[0G[+] 39.8s\r\n",
      "Downloading       ━━━━━━━━━━━━━━━━━━━━━━ 286.6MB                           13.9s\r\n",
      "Extracting  (151) ━━━━╸\u001b[33m━━━━━━━━━━━━━━━━━\u001b[0m      46 xorg-kbproto              39.4s"
     ]
    },
    {
     "name": "stdout",
     "output_type": "stream",
     "text": [
      "\u001b[2K\u001b[1A\u001b[2K\u001b[1A\u001b[2K\u001b[0G[+] 39.9s\r\n",
      "Downloading       ━━━━━━━━━━━━━━━━━━━━━━ 286.6MB                           13.9s\r\n",
      "Extracting  (151) ━━━━╸\u001b[33m━━━━━━━━━━━━━━━━━\u001b[0m      46 xorg-kbproto              39.5s"
     ]
    },
    {
     "name": "stdout",
     "output_type": "stream",
     "text": [
      "\u001b[2K\u001b[1A\u001b[2K\u001b[1A\u001b[2K\u001b[0G[+] 40.0s\r\n",
      "Downloading       ━━━━━━━━━━━━━━━━━━━━━━ 286.6MB                           13.9s\r\n",
      "Extracting  (151) ━━━━╸\u001b[33m━━━━━━━━━━━━━━━━━\u001b[0m      46 xorg-libsm                39.6s"
     ]
    },
    {
     "name": "stdout",
     "output_type": "stream",
     "text": [
      "\u001b[2K\u001b[1A\u001b[2K\u001b[1A\u001b[2K\u001b[0G[+] 40.1s\r\n",
      "Downloading       ━━━━━━━━━━━━━━━━━━━━━━ 286.6MB                           13.9s\r\n",
      "Extracting  (151) ━━━━╸\u001b[33m━━━━━━━━━━━━━━━━━\u001b[0m      46 xorg-libsm                39.7s"
     ]
    },
    {
     "name": "stdout",
     "output_type": "stream",
     "text": [
      "\u001b[2K\u001b[1A\u001b[2K\u001b[1A\u001b[2K\u001b[0G[+] 40.2s\r\n",
      "Downloading       ━━━━━━━━━━━━━━━━━━━━━━ 286.6MB                           13.9s\r\n",
      "Extracting  (151) ━━━━╸\u001b[33m━━━━━━━━━━━━━━━━━\u001b[0m      46 xorg-libsm                39.8s"
     ]
    },
    {
     "name": "stdout",
     "output_type": "stream",
     "text": [
      "\u001b[2K\u001b[1A\u001b[2K\u001b[1A\u001b[2K\u001b[0G[+] 40.3s\r\n",
      "Downloading       ━━━━━━━━━━━━━━━━━━━━━━ 286.6MB                           13.9s\r\n",
      "Extracting  (151) ━━━━╸\u001b[33m━━━━━━━━━━━━━━━━━\u001b[0m      46 xorg-libsm                39.9s"
     ]
    },
    {
     "name": "stdout",
     "output_type": "stream",
     "text": [
      "\u001b[2K\u001b[1A\u001b[2K\u001b[1A\u001b[2K\u001b[0G[+] 40.4s\r\n",
      "Downloading       ━━━━━━━━━━━━━━━━━━━━━━ 286.6MB                           13.9s\r\n",
      "Extracting  (151) ━━━━╸\u001b[33m━━━━━━━━━━━━━━━━━\u001b[0m      46 xorg-libxdmcp             40.0s"
     ]
    },
    {
     "name": "stdout",
     "output_type": "stream",
     "text": [
      "\u001b[2K\u001b[1A\u001b[2K\u001b[1A\u001b[2K\u001b[0G[+] 40.5s\r\n",
      "Downloading       ━━━━━━━━━━━━━━━━━━━━━━ 286.6MB                           13.9s\r\n",
      "Extracting  (151) ━━━━╸\u001b[33m━━━━━━━━━━━━━━━━━\u001b[0m      46 xorg-libxdmcp             40.1s"
     ]
    },
    {
     "name": "stdout",
     "output_type": "stream",
     "text": [
      "\u001b[2K\u001b[1A\u001b[2K\u001b[1A\u001b[2K\u001b[0G[+] 40.6s\r\n",
      "Downloading       ━━━━━━━━━━━━━━━━━━━━━━ 286.6MB                           13.9s\r\n",
      "Extracting  (150) ━━━━╸\u001b[33m━━━━━━━━━━━━━━━━━\u001b[0m      47 xorg-libxdmcp             40.2s"
     ]
    },
    {
     "name": "stdout",
     "output_type": "stream",
     "text": [
      "\u001b[2K\u001b[1A\u001b[2K\u001b[1A\u001b[2K\u001b[0G[+] 40.7s\r\n",
      "Downloading       ━━━━━━━━━━━━━━━━━━━━━━ 286.6MB                           13.9s\r\n",
      "Extracting  (150) ━━━━╸\u001b[33m━━━━━━━━━━━━━━━━━\u001b[0m      47 xorg-libxdmcp             40.3s"
     ]
    },
    {
     "name": "stdout",
     "output_type": "stream",
     "text": [
      "\u001b[2K\u001b[1A\u001b[2K\u001b[1A\u001b[2K\u001b[0G[+] 40.8s\r\n",
      "Downloading       ━━━━━━━━━━━━━━━━━━━━━━ 286.6MB                           13.9s\r\n",
      "Extracting  (150) ━━━━╸\u001b[33m━━━━━━━━━━━━━━━━━\u001b[0m      47 xorg-libxext              40.4s"
     ]
    },
    {
     "name": "stdout",
     "output_type": "stream",
     "text": [
      "\u001b[2K\u001b[1A\u001b[2K\u001b[1A\u001b[2K\u001b[0G[+] 40.9s\r\n",
      "Downloading       ━━━━━━━━━━━━━━━━━━━━━━ 286.6MB                           13.9s\r\n",
      "Extracting  (150) ━━━━╸\u001b[33m━━━━━━━━━━━━━━━━━\u001b[0m      47 xorg-libxext              40.5s"
     ]
    },
    {
     "name": "stdout",
     "output_type": "stream",
     "text": [
      "\u001b[2K\u001b[1A\u001b[2K\u001b[1A\u001b[2K\u001b[0G[+] 41.0s\r\n",
      "Downloading       ━━━━━━━━━━━━━━━━━━━━━━ 286.6MB                           13.9s\r\n",
      "Extracting  (150) ━━━━╸\u001b[33m━━━━━━━━━━━━━━━━━\u001b[0m      47 xorg-libxext              40.6s"
     ]
    },
    {
     "name": "stdout",
     "output_type": "stream",
     "text": [
      "\u001b[2K\u001b[1A\u001b[2K\u001b[1A\u001b[2K\u001b[0G[+] 41.1s\r\n",
      "Downloading       ━━━━━━━━━━━━━━━━━━━━━━ 286.6MB                           13.9s\r\n",
      "Extracting  (150) ━━━━╸\u001b[33m━━━━━━━━━━━━━━━━━\u001b[0m      47 xorg-libxext              40.7s"
     ]
    },
    {
     "name": "stdout",
     "output_type": "stream",
     "text": [
      "\u001b[2K\u001b[1A\u001b[2K\u001b[1A\u001b[2K\u001b[0G[+] 41.2s\r\n",
      "Downloading       ━━━━━━━━━━━━━━━━━━━━━━ 286.6MB                           13.9s\r\n",
      "Extracting  (149) ━━━━╸\u001b[33m━━━━━━━━━━━━━━━━━\u001b[0m      48 xorg-libxrender           40.8s"
     ]
    },
    {
     "name": "stdout",
     "output_type": "stream",
     "text": [
      "\u001b[2K\u001b[1A\u001b[2K\u001b[1A\u001b[2K\u001b[0G[+] 41.3s\r\n",
      "Downloading       ━━━━━━━━━━━━━━━━━━━━━━ 286.6MB                           13.9s\r\n",
      "Extracting  (149) ━━━━╸\u001b[33m━━━━━━━━━━━━━━━━━\u001b[0m      48 xorg-libxrender           40.9s"
     ]
    },
    {
     "name": "stdout",
     "output_type": "stream",
     "text": [
      "\u001b[2K\u001b[1A\u001b[2K\u001b[1A\u001b[2K\u001b[0G[+] 41.4s\r\n",
      "Downloading       ━━━━━━━━━━━━━━━━━━━━━━ 286.6MB                           13.9s\r\n",
      "Extracting  (149) ━━━━╸\u001b[33m━━━━━━━━━━━━━━━━━\u001b[0m      48 xorg-libxrender           41.0s"
     ]
    },
    {
     "name": "stdout",
     "output_type": "stream",
     "text": [
      "\u001b[2K\u001b[1A\u001b[2K\u001b[1A\u001b[2K\u001b[0G[+] 41.5s\r\n",
      "Downloading       ━━━━━━━━━━━━━━━━━━━━━━ 286.6MB                           13.9s\r\n",
      "Extracting  (149) ━━━━╸\u001b[33m━━━━━━━━━━━━━━━━━\u001b[0m      48 xorg-libxrender           41.1s"
     ]
    },
    {
     "name": "stdout",
     "output_type": "stream",
     "text": [
      "\u001b[2K\u001b[1A\u001b[2K\u001b[1A\u001b[2K\u001b[0G[+] 41.6s\r\n",
      "Downloading       ━━━━━━━━━━━━━━━━━━━━━━ 286.6MB                           13.9s\r\n",
      "Extracting  (149) ━━━━╸\u001b[33m━━━━━━━━━━━━━━━━━\u001b[0m      48 xorg-xproto               41.2s"
     ]
    },
    {
     "name": "stdout",
     "output_type": "stream",
     "text": [
      "\u001b[2K\u001b[1A\u001b[2K\u001b[1A\u001b[2K\u001b[0G[+] 41.7s\r\n",
      "Downloading       ━━━━━━━━━━━━━━━━━━━━━━ 286.6MB                           13.9s\r\n",
      "Extracting  (149) ━━━━╸\u001b[33m━━━━━━━━━━━━━━━━━\u001b[0m      48 xorg-xproto               41.3s"
     ]
    },
    {
     "name": "stdout",
     "output_type": "stream",
     "text": [
      "\u001b[2K\u001b[1A\u001b[2K\u001b[1A\u001b[2K\u001b[0G[+] 41.8s\r\n",
      "Downloading       ━━━━━━━━━━━━━━━━━━━━━━ 286.6MB                           13.9s\r\n",
      "Extracting  (149) ━━━━╸\u001b[33m━━━━━━━━━━━━━━━━━\u001b[0m      48 xorg-xproto               41.4s"
     ]
    },
    {
     "name": "stdout",
     "output_type": "stream",
     "text": [
      "\u001b[2K\u001b[1A\u001b[2K\u001b[1A\u001b[2K\u001b[0G[+] 41.9s\r\n",
      "Downloading       ━━━━━━━━━━━━━━━━━━━━━━ 286.6MB                           13.9s\r\n",
      "Extracting  (149) ━━━━╸\u001b[33m━━━━━━━━━━━━━━━━━\u001b[0m      48 xorg-xproto               41.5s"
     ]
    },
    {
     "name": "stdout",
     "output_type": "stream",
     "text": [
      "\u001b[2K\u001b[1A\u001b[2K\u001b[1A\u001b[2K\u001b[0G[+] 42.0s\r\n",
      "Downloading       ━━━━━━━━━━━━━━━━━━━━━━ 286.6MB                           13.9s\r\n"
     ]
    },
    {
     "name": "stdout",
     "output_type": "stream",
     "text": [
      "Extracting  (149) ━━━━╸\u001b[33m━━━━━━━━━━━━━━━━━\u001b[0m      48 zeromq                    41.6s"
     ]
    },
    {
     "name": "stdout",
     "output_type": "stream",
     "text": [
      "\u001b[2K\u001b[1A\u001b[2K\u001b[1A\u001b[2K\u001b[0G[+] 42.1s\r\n",
      "Downloading       ━━━━━━━━━━━━━━━━━━━━━━ 286.6MB                           13.9s\r\n",
      "Extracting  (148) ━━━━╸\u001b[33m━━━━━━━━━━━━━━━━━\u001b[0m      49 zeromq                    41.7s"
     ]
    },
    {
     "name": "stdout",
     "output_type": "stream",
     "text": [
      "\u001b[2K\u001b[1A\u001b[2K\u001b[1A\u001b[2K\u001b[0G[+] 42.2s\r\n",
      "Downloading       ━━━━━━━━━━━━━━━━━━━━━━ 286.6MB                           13.9s\r\n",
      "Extracting  (148) ━━━━╸\u001b[33m━━━━━━━━━━━━━━━━━\u001b[0m      49 zeromq                    41.8s"
     ]
    },
    {
     "name": "stdout",
     "output_type": "stream",
     "text": [
      "\u001b[2K\u001b[1A\u001b[2K\u001b[1A\u001b[2K\u001b[0G[+] 42.3s\r\n",
      "Downloading       ━━━━━━━━━━━━━━━━━━━━━━ 286.6MB                           13.9s\r\n",
      "Extracting  (148) ━━━━╸\u001b[33m━━━━━━━━━━━━━━━━━\u001b[0m      49 zeromq                    41.9s"
     ]
    },
    {
     "name": "stdout",
     "output_type": "stream",
     "text": [
      "\u001b[2K\u001b[1A\u001b[2K\u001b[1A\u001b[2K\u001b[0G[+] 42.4s\r\n",
      "Downloading       ━━━━━━━━━━━━━━━━━━━━━━ 286.6MB                           13.9s\r\n",
      "Extracting  (148) ━━━━╸\u001b[33m━━━━━━━━━━━━━━━━━\u001b[0m      49 zipp                      42.0s"
     ]
    },
    {
     "name": "stdout",
     "output_type": "stream",
     "text": [
      "\u001b[2K\u001b[1A\u001b[2K\u001b[1A\u001b[2K\u001b[0G[+] 42.5s\r\n",
      "Downloading       ━━━━━━━━━━━━━━━━━━━━━━ 286.6MB                           13.9s\r\n",
      "Extracting  (148) ━━━━╸\u001b[33m━━━━━━━━━━━━━━━━━\u001b[0m      49 zipp                      42.1s"
     ]
    },
    {
     "name": "stdout",
     "output_type": "stream",
     "text": [
      "\u001b[2K\u001b[1A\u001b[2K\u001b[1A\u001b[2K\u001b[0G[+] 42.6s\r\n",
      "Downloading       ━━━━━━━━━━━━━━━━━━━━━━ 286.6MB                           13.9s\r\n",
      "Extracting  (147) ━━━━╸\u001b[33m━━━━━━━━━━━━━━━━━\u001b[0m      50 zipp                      42.2s"
     ]
    },
    {
     "name": "stdout",
     "output_type": "stream",
     "text": [
      "\u001b[2K\u001b[1A\u001b[2K\u001b[1A\u001b[2K\u001b[0G[+] 42.7s\r\n",
      "Downloading       ━━━━━━━━━━━━━━━━━━━━━━ 286.6MB                           13.9s\r\n",
      "Extracting  (147) ━━━━╸\u001b[33m━━━━━━━━━━━━━━━━━\u001b[0m      50 zipp                      42.3s"
     ]
    },
    {
     "name": "stdout",
     "output_type": "stream",
     "text": [
      "\u001b[2K\u001b[1A\u001b[2K\u001b[1A\u001b[2K\u001b[0G[+] 42.8s\r\n",
      "Downloading       ━━━━━━━━━━━━━━━━━━━━━━ 286.6MB                           13.9s\r\n",
      "Extracting  (147) ━━━━╸\u001b[33m━━━━━━━━━━━━━━━━━\u001b[0m      50 argon2-cffi-bindings      42.4s"
     ]
    },
    {
     "name": "stdout",
     "output_type": "stream",
     "text": [
      "\u001b[2K\u001b[1A\u001b[2K\u001b[1A\u001b[2K\u001b[0G[+] 42.9s\r\n",
      "Downloading       ━━━━━━━━━━━━━━━━━━━━━━ 286.6MB                           13.9s\r\n",
      "Extracting  (147) ━━━━╸\u001b[33m━━━━━━━━━━━━━━━━━\u001b[0m      50 argon2-cffi-bindings      42.5s"
     ]
    },
    {
     "name": "stdout",
     "output_type": "stream",
     "text": [
      "\u001b[2K\u001b[1A\u001b[2K\u001b[1A\u001b[2K\u001b[0G[+] 43.0s\r\n",
      "Downloading       ━━━━━━━━━━━━━━━━━━━━━━ 286.6MB                           13.9s\r\n",
      "Extracting  (147) ━━━━╸\u001b[33m━━━━━━━━━━━━━━━━━\u001b[0m      50 argon2-cffi-bindings      42.6s"
     ]
    },
    {
     "name": "stdout",
     "output_type": "stream",
     "text": [
      "\u001b[2K\u001b[1A\u001b[2K\u001b[1A\u001b[2K\u001b[0G[+] 43.1s\r\n",
      "Downloading       ━━━━━━━━━━━━━━━━━━━━━━ 286.6MB                           13.9s\r\n",
      "Extracting  (147) ━━━━╸\u001b[33m━━━━━━━━━━━━━━━━━\u001b[0m      50 argon2-cffi-bindings      42.7s"
     ]
    },
    {
     "name": "stdout",
     "output_type": "stream",
     "text": [
      "\u001b[2K\u001b[1A\u001b[2K\u001b[1A\u001b[2K\u001b[0G[+] 43.2s\r\n",
      "Downloading       ━━━━━━━━━━━━━━━━━━━━━━ 286.6MB                           13.9s\r\n",
      "Extracting  (147) ━━━━╸\u001b[33m━━━━━━━━━━━━━━━━━\u001b[0m      50 asttokens                 42.8s"
     ]
    },
    {
     "name": "stdout",
     "output_type": "stream",
     "text": [
      "\u001b[2K\u001b[1A\u001b[2K\u001b[1A\u001b[2K\u001b[0G[+] 43.3s\r\n",
      "Downloading       ━━━━━━━━━━━━━━━━━━━━━━ 286.6MB                           13.9s\r\n",
      "Extracting  (147) ━━━━╸\u001b[33m━━━━━━━━━━━━━━━━━\u001b[0m      50 asttokens                 42.9s"
     ]
    },
    {
     "name": "stdout",
     "output_type": "stream",
     "text": [
      "\u001b[2K\u001b[1A\u001b[2K\u001b[1A\u001b[2K\u001b[0G[+] 43.4s\r\n",
      "Downloading       ━━━━━━━━━━━━━━━━━━━━━━ 286.6MB                           13.9s\r\n",
      "Extracting  (147) ━━━━╸\u001b[33m━━━━━━━━━━━━━━━━━\u001b[0m      50 asttokens                 43.0s"
     ]
    },
    {
     "name": "stdout",
     "output_type": "stream",
     "text": [
      "\u001b[2K\u001b[1A\u001b[2K\u001b[1A\u001b[2K\u001b[0G[+] 43.5s\r\n",
      "Downloading       ━━━━━━━━━━━━━━━━━━━━━━ 286.6MB                           13.9s\r\n",
      "Extracting  (146) ━━━━╸\u001b[33m━━━━━━━━━━━━━━━━━\u001b[0m      51 asttokens                 43.1s"
     ]
    },
    {
     "name": "stdout",
     "output_type": "stream",
     "text": [
      "\u001b[2K\u001b[1A\u001b[2K\u001b[1A\u001b[2K\u001b[0G[+] 43.6s\r\n",
      "Downloading       ━━━━━━━━━━━━━━━━━━━━━━ 286.6MB                           13.9s\r\n",
      "Extracting  (146) ━━━━╸\u001b[33m━━━━━━━━━━━━━━━━━\u001b[0m      51 attrs                     43.2s"
     ]
    },
    {
     "name": "stdout",
     "output_type": "stream",
     "text": [
      "\u001b[2K\u001b[1A\u001b[2K\u001b[1A\u001b[2K\u001b[0G[+] 43.7s\r\n",
      "Downloading       ━━━━━━━━━━━━━━━━━━━━━━ 286.6MB                           13.9s\r\n",
      "Extracting  (146) ━━━━╸\u001b[33m━━━━━━━━━━━━━━━━━\u001b[0m      51 attrs                     43.3s"
     ]
    },
    {
     "name": "stdout",
     "output_type": "stream",
     "text": [
      "\u001b[2K\u001b[1A\u001b[2K\u001b[1A\u001b[2K\u001b[0G[+] 43.8s\r\n",
      "Downloading       ━━━━━━━━━━━━━━━━━━━━━━ 286.6MB                           13.9s\r\n",
      "Extracting  (146) ━━━━╸\u001b[33m━━━━━━━━━━━━━━━━━\u001b[0m      51 attrs                     43.4s"
     ]
    },
    {
     "name": "stdout",
     "output_type": "stream",
     "text": [
      "\u001b[2K\u001b[1A\u001b[2K\u001b[1A\u001b[2K\u001b[0G[+] 43.9s\r\n",
      "Downloading       ━━━━━━━━━━━━━━━━━━━━━━ 286.6MB                           13.9s\r\n",
      "Extracting  (146) ━━━━╸\u001b[33m━━━━━━━━━━━━━━━━━\u001b[0m      51 attrs                     43.5s"
     ]
    },
    {
     "name": "stdout",
     "output_type": "stream",
     "text": [
      "\u001b[2K\u001b[1A\u001b[2K\u001b[1A\u001b[2K\u001b[0G[+] 44.0s\r\n",
      "Downloading       ━━━━━━━━━━━━━━━━━━━━━━ 286.6MB                           13.9s\r\n",
      "Extracting  (146) ━━━━╸\u001b[33m━━━━━━━━━━━━━━━━━\u001b[0m      51 backports                 43.6s"
     ]
    },
    {
     "name": "stdout",
     "output_type": "stream",
     "text": [
      "\u001b[2K\u001b[1A\u001b[2K\u001b[1A\u001b[2K\u001b[0G[+] 44.1s\r\n",
      "Downloading       ━━━━━━━━━━━━━━━━━━━━━━ 286.6MB                           13.9s\r\n",
      "Extracting  (146) ━━━━╸\u001b[33m━━━━━━━━━━━━━━━━━\u001b[0m      51 backports                 43.7s"
     ]
    },
    {
     "name": "stdout",
     "output_type": "stream",
     "text": [
      "\u001b[2K\u001b[1A\u001b[2K\u001b[1A\u001b[2K\u001b[0G[+] 44.2s\r\n",
      "Downloading       ━━━━━━━━━━━━━━━━━━━━━━ 286.6MB                           13.9s\r\n",
      "Extracting  (146) ━━━━╸\u001b[33m━━━━━━━━━━━━━━━━━\u001b[0m      51 backports                 43.8s"
     ]
    },
    {
     "name": "stdout",
     "output_type": "stream",
     "text": [
      "\u001b[2K\u001b[1A\u001b[2K\u001b[1A\u001b[2K\u001b[0G[+] 44.3s\r\n",
      "Downloading       ━━━━━━━━━━━━━━━━━━━━━━ 286.6MB                           13.9s\r\n",
      "Extracting  (146) ━━━━╸\u001b[33m━━━━━━━━━━━━━━━━━\u001b[0m      51 backports                 43.9s"
     ]
    },
    {
     "name": "stdout",
     "output_type": "stream",
     "text": [
      "\u001b[2K\u001b[1A\u001b[2K\u001b[1A\u001b[2K\u001b[0G[+] 44.4s\r\n",
      "Downloading       ━━━━━━━━━━━━━━━━━━ 286.6MB                               13.9s\r\n",
      "Extracting  (146) ━━━╸\u001b[33m━━━━━━━━━━━━━━\u001b[0m      51 backports.functools_lru_cache 44.0s"
     ]
    },
    {
     "name": "stdout",
     "output_type": "stream",
     "text": [
      "\u001b[2K\u001b[1A\u001b[2K\u001b[1A\u001b[2K\u001b[0G[+] 44.5s\r\n",
      "Downloading       ━━━━━━━━━━━━━━━━━━ 286.6MB                               13.9s\r\n",
      "Extracting  (146) ━━━╸\u001b[33m━━━━━━━━━━━━━━\u001b[0m      51 backports.functools_lru_cache 44.1s"
     ]
    },
    {
     "name": "stdout",
     "output_type": "stream",
     "text": [
      "\u001b[2K\u001b[1A\u001b[2K\u001b[1A\u001b[2K\u001b[0G[+] 44.6s\r\n",
      "Downloading       ━━━━━━━━━━━━━━━━━━ 286.6MB                               13.9s\r\n",
      "Extracting  (146) ━━━╸\u001b[33m━━━━━━━━━━━━━━\u001b[0m      51 backports.functools_lru_cache 44.2s"
     ]
    },
    {
     "name": "stdout",
     "output_type": "stream",
     "text": [
      "\u001b[2K\u001b[1A\u001b[2K\u001b[1A\u001b[2K\u001b[0G[+] 44.7s\r\n",
      "Downloading       ━━━━━━━━━━━━━━━━━━ 286.6MB                               13.9s\r\n",
      "Extracting  (146) ━━━╸\u001b[33m━━━━━━━━━━━━━━\u001b[0m      51 backports.functools_lru_cache 44.3s"
     ]
    },
    {
     "name": "stdout",
     "output_type": "stream",
     "text": [
      "\u001b[2K\u001b[1A\u001b[2K\u001b[1A\u001b[2K\u001b[0G[+] 44.8s\r\n",
      "Downloading       ━━━━━━━━━━━━━━━━━━━━━━ 286.6MB                           13.9s\r\n",
      "Extracting  (145) ━━━━╸\u001b[33m━━━━━━━━━━━━━━━━━\u001b[0m      52 beautifulsoup4            44.4s"
     ]
    },
    {
     "name": "stdout",
     "output_type": "stream",
     "text": [
      "\u001b[2K\u001b[1A\u001b[2K\u001b[1A\u001b[2K\u001b[0G[+] 44.9s\r\n",
      "Downloading       ━━━━━━━━━━━━━━━━━━━━━━ 286.6MB                           13.9s\r\n",
      "Extracting  (144) ━━━━╸\u001b[33m━━━━━━━━━━━━━━━━━\u001b[0m      53 beautifulsoup4            44.5s"
     ]
    },
    {
     "name": "stdout",
     "output_type": "stream",
     "text": [
      "\u001b[2K\u001b[1A\u001b[2K\u001b[1A\u001b[2K\u001b[0G[+] 45.0s\r\n",
      "Downloading       ━━━━━━━━━━━━━━━━━━━━━━ 286.6MB                           13.9s\r\n",
      "Extracting  (144) ━━━━╸\u001b[33m━━━━━━━━━━━━━━━━━\u001b[0m      53 beautifulsoup4            44.6s"
     ]
    },
    {
     "name": "stdout",
     "output_type": "stream",
     "text": [
      "\u001b[2K\u001b[1A\u001b[2K\u001b[1A\u001b[2K\u001b[0G[+] 45.1s\r\n",
      "Downloading       ━━━━━━━━━━━━━━━━━━━━━━ 286.6MB                           13.9s\r\n",
      "Extracting  (144) ━━━━╸\u001b[33m━━━━━━━━━━━━━━━━━\u001b[0m      53 beautifulsoup4            44.7s"
     ]
    },
    {
     "name": "stdout",
     "output_type": "stream",
     "text": [
      "\u001b[2K\u001b[1A\u001b[2K\u001b[1A\u001b[2K\u001b[0G[+] 45.2s\r\n",
      "Downloading       ━━━━━━━━━━━━━━━━━━━━━━ 286.6MB                           13.9s\r\n",
      "Extracting  (144) ━━━━╸\u001b[33m━━━━━━━━━━━━━━━━━\u001b[0m      53 boltons                   44.8s"
     ]
    },
    {
     "name": "stdout",
     "output_type": "stream",
     "text": [
      "\u001b[2K\u001b[1A\u001b[2K\u001b[1A\u001b[2K\u001b[0G[+] 45.3s\r\n",
      "Downloading       ━━━━━━━━━━━━━━━━━━━━━━ 286.6MB                           13.9s\r\n",
      "Extracting  (144) ━━━━╸\u001b[33m━━━━━━━━━━━━━━━━━\u001b[0m      53 boltons                   44.9s"
     ]
    },
    {
     "name": "stdout",
     "output_type": "stream",
     "text": [
      "\u001b[2K\u001b[1A\u001b[2K\u001b[1A\u001b[2K\u001b[0G[+] 45.4s\r\n",
      "Downloading       ━━━━━━━━━━━━━━━━━━━━━━ 286.6MB                           13.9s\r\n",
      "Extracting  (144) ━━━━╸\u001b[33m━━━━━━━━━━━━━━━━━\u001b[0m      53 boltons                   45.0s"
     ]
    },
    {
     "name": "stdout",
     "output_type": "stream",
     "text": [
      "\u001b[2K\u001b[1A\u001b[2K\u001b[1A\u001b[2K\u001b[0G[+] 45.5s\r\n",
      "Downloading       ━━━━━━━━━━━━━━━━━━━━━━ 286.6MB                           13.9s\r\n",
      "Extracting  (144) ━━━━╸\u001b[33m━━━━━━━━━━━━━━━━━\u001b[0m      53 boltons                   45.1s"
     ]
    },
    {
     "name": "stdout",
     "output_type": "stream",
     "text": [
      "\u001b[2K\u001b[1A\u001b[2K\u001b[1A\u001b[2K\u001b[0G[+] 45.6s\r\n",
      "Downloading       ━━━━━━━━━━━━━━━━━━━━━━ 286.6MB                           13.9s\r\n",
      "Extracting  (144) ━━━━╸\u001b[33m━━━━━━━━━━━━━━━━━\u001b[0m      53 brotlipy                  45.2s"
     ]
    },
    {
     "name": "stdout",
     "output_type": "stream",
     "text": [
      "\u001b[2K\u001b[1A\u001b[2K\u001b[1A\u001b[2K\u001b[0G[+] 45.7s\r\n",
      "Downloading       ━━━━━━━━━━━━━━━━━━━━━━ 286.6MB                           13.9s\r\n",
      "Extracting  (144) ━━━━╸\u001b[33m━━━━━━━━━━━━━━━━━\u001b[0m      53 brotlipy                  45.3s"
     ]
    },
    {
     "name": "stdout",
     "output_type": "stream",
     "text": [
      "\u001b[2K\u001b[1A\u001b[2K\u001b[1A\u001b[2K\u001b[0G[+] 45.8s\r\n",
      "Downloading       ━━━━━━━━━━━━━━━━━━━━━━ 286.6MB                           13.9s\r\n",
      "Extracting  (144) ━━━━╸\u001b[33m━━━━━━━━━━━━━━━━━\u001b[0m      53 brotlipy                  45.4s"
     ]
    },
    {
     "name": "stdout",
     "output_type": "stream",
     "text": [
      "\u001b[2K\u001b[1A\u001b[2K\u001b[1A\u001b[2K\u001b[0G[+] 45.9s\r\n",
      "Downloading       ━━━━━━━━━━━━━━━━━━━━━━ 286.6MB                           13.9s\r\n",
      "Extracting  (144) ━━━━╸\u001b[33m━━━━━━━━━━━━━━━━━\u001b[0m      53 brotlipy                  45.5s"
     ]
    },
    {
     "name": "stdout",
     "output_type": "stream",
     "text": [
      "\u001b[2K\u001b[1A\u001b[2K\u001b[1A\u001b[2K\u001b[0G[+] 46.0s\r\n",
      "Downloading       ━━━━━━━━━━━━━━━━━━━━━━ 286.6MB                           13.9s\r\n",
      "Extracting  (144) ━━━━╸\u001b[33m━━━━━━━━━━━━━━━━━\u001b[0m      53 bzip2                     45.6s"
     ]
    },
    {
     "name": "stdout",
     "output_type": "stream",
     "text": [
      "\u001b[2K\u001b[1A\u001b[2K\u001b[1A\u001b[2K\u001b[0G[+] 46.1s\r\n",
      "Downloading       ━━━━━━━━━━━━━━━━━━━━━━ 286.6MB                           13.9s\r\n",
      "Extracting  (144) ━━━━╸\u001b[33m━━━━━━━━━━━━━━━━━\u001b[0m      53 bzip2                     45.7s"
     ]
    },
    {
     "name": "stdout",
     "output_type": "stream",
     "text": [
      "\u001b[2K\u001b[1A\u001b[2K\u001b[1A\u001b[2K\u001b[0G[+] 46.2s\r\n",
      "Downloading       ━━━━━━━━━━━━━━━━━━━━━━ 286.6MB                           13.9s\r\n",
      "Extracting  (143) ━━━━━╸\u001b[33m━━━━━━━━━━━━━━━━\u001b[0m      54 bzip2                     45.8s"
     ]
    },
    {
     "name": "stdout",
     "output_type": "stream",
     "text": [
      "\u001b[2K\u001b[1A\u001b[2K\u001b[1A\u001b[2K\u001b[0G[+] 46.3s\r\n",
      "Downloading       ━━━━━━━━━━━━━━━━━━━━━━ 286.6MB                           13.9s\r\n",
      "Extracting  (142) ━━━━━╸\u001b[33m━━━━━━━━━━━━━━━━\u001b[0m      55 bzip2                     45.9s"
     ]
    },
    {
     "name": "stdout",
     "output_type": "stream",
     "text": [
      "\u001b[2K\u001b[1A\u001b[2K\u001b[1A\u001b[2K\u001b[0G[+] 46.4s\r\n",
      "Downloading       ━━━━━━━━━━━━━━━━━━━━━━ 286.6MB                           13.9s\r\n",
      "Extracting  (142) ━━━━━╸\u001b[33m━━━━━━━━━━━━━━━━\u001b[0m      55 c-ares                    46.0s"
     ]
    },
    {
     "name": "stdout",
     "output_type": "stream",
     "text": [
      "\u001b[2K\u001b[1A\u001b[2K\u001b[1A\u001b[2K\u001b[0G[+] 46.5s\r\n",
      "Downloading       ━━━━━━━━━━━━━━━━━━━━━━ 286.6MB                           13.9s\r\n",
      "Extracting  (142) ━━━━━╸\u001b[33m━━━━━━━━━━━━━━━━\u001b[0m      55 c-ares                    46.1s"
     ]
    },
    {
     "name": "stdout",
     "output_type": "stream",
     "text": [
      "\u001b[2K\u001b[1A\u001b[2K\u001b[1A\u001b[2K\u001b[0G[+] 46.6s\r\n",
      "Downloading       ━━━━━━━━━━━━━━━━━━━━━━ 286.6MB                           13.9s\r\n",
      "Extracting  (142) ━━━━━╸\u001b[33m━━━━━━━━━━━━━━━━\u001b[0m      55 c-ares                    46.2s"
     ]
    },
    {
     "name": "stdout",
     "output_type": "stream",
     "text": [
      "\u001b[2K\u001b[1A\u001b[2K\u001b[1A\u001b[2K\u001b[0G[+] 46.7s\r\n",
      "Downloading       ━━━━━━━━━━━━━━━━━━━━━━ 286.6MB                           13.9s\r\n",
      "Extracting  (142) ━━━━━╸\u001b[33m━━━━━━━━━━━━━━━━\u001b[0m      55 c-ares                    46.3s"
     ]
    },
    {
     "name": "stdout",
     "output_type": "stream",
     "text": [
      "\u001b[2K\u001b[1A\u001b[2K\u001b[1A\u001b[2K\u001b[0G[+] 46.8s\r\n",
      "Downloading       ━━━━━━━━━━━━━━━━━━━━━━ 286.6MB                           13.9s\r\n",
      "Extracting  (142) ━━━━━╸\u001b[33m━━━━━━━━━━━━━━━━\u001b[0m      55 cairo                     46.4s"
     ]
    },
    {
     "name": "stdout",
     "output_type": "stream",
     "text": [
      "\u001b[2K\u001b[1A\u001b[2K\u001b[1A\u001b[2K\u001b[0G[+] 46.9s\r\n",
      "Downloading       ━━━━━━━━━━━━━━━━━━━━━━ 286.6MB                           13.9s\r\n",
      "Extracting  (142) ━━━━━╸\u001b[33m━━━━━━━━━━━━━━━━\u001b[0m      55 cairo                     46.5s"
     ]
    },
    {
     "name": "stdout",
     "output_type": "stream",
     "text": [
      "\u001b[2K\u001b[1A\u001b[2K\u001b[1A\u001b[2K\u001b[0G[+] 47.0s\r\n",
      "Downloading       ━━━━━━━━━━━━━━━━━━━━━━ 286.6MB                           13.9s\r\n",
      "Extracting  (142) ━━━━━╸\u001b[33m━━━━━━━━━━━━━━━━\u001b[0m      55 cairo                     46.6s"
     ]
    },
    {
     "name": "stdout",
     "output_type": "stream",
     "text": [
      "\u001b[2K\u001b[1A\u001b[2K\u001b[1A\u001b[2K\u001b[0G[+] 47.1s\r\n",
      "Downloading       ━━━━━━━━━━━━━━━━━━━━━━ 286.6MB                           13.9s\r\n",
      "Extracting  (142) ━━━━━╸\u001b[33m━━━━━━━━━━━━━━━━\u001b[0m      55 cairo                     46.7s"
     ]
    },
    {
     "name": "stdout",
     "output_type": "stream",
     "text": [
      "\u001b[2K\u001b[1A\u001b[2K\u001b[1A\u001b[2K\u001b[0G[+] 47.2s\r\n",
      "Downloading       ━━━━━━━━━━━━━━━━━━━━━━ 286.6MB                           13.9s\r\n",
      "Extracting  (142) ━━━━━╸\u001b[33m━━━━━━━━━━━━━━━━\u001b[0m      55 certifi                   46.8s"
     ]
    },
    {
     "name": "stdout",
     "output_type": "stream",
     "text": [
      "\u001b[2K\u001b[1A\u001b[2K\u001b[1A\u001b[2K\u001b[0G[+] 47.3s\r\n",
      "Downloading       ━━━━━━━━━━━━━━━━━━━━━━ 286.6MB                           13.9s\r\n",
      "Extracting  (142) ━━━━━╸\u001b[33m━━━━━━━━━━━━━━━━\u001b[0m      55 certifi                   46.9s"
     ]
    },
    {
     "name": "stdout",
     "output_type": "stream",
     "text": [
      "\u001b[2K\u001b[1A\u001b[2K\u001b[1A\u001b[2K\u001b[0G[+] 47.4s\r\n",
      "Downloading       ━━━━━━━━━━━━━━━━━━━━━━ 286.6MB                           13.9s\r\n",
      "Extracting  (142) ━━━━━╸\u001b[33m━━━━━━━━━━━━━━━━\u001b[0m      55 certifi                   47.0s"
     ]
    },
    {
     "name": "stdout",
     "output_type": "stream",
     "text": [
      "\u001b[2K\u001b[1A\u001b[2K\u001b[1A\u001b[2K\u001b[0G[+] 47.5s\r\n",
      "Downloading       ━━━━━━━━━━━━━━━━━━━━━━ 286.6MB                           13.9s\r\n",
      "Extracting  (142) ━━━━━╸\u001b[33m━━━━━━━━━━━━━━━━\u001b[0m      55 certifi                   47.1s"
     ]
    },
    {
     "name": "stdout",
     "output_type": "stream",
     "text": [
      "\u001b[2K\u001b[1A\u001b[2K\u001b[1A\u001b[2K\u001b[0G[+] 47.6s\r\n",
      "Downloading       ━━━━━━━━━━━━━━━━━━━━━━ 286.6MB                           13.9s\r\n",
      "Extracting  (142) ━━━━━╸\u001b[33m━━━━━━━━━━━━━━━━\u001b[0m      55 charset-normalizer        47.2s"
     ]
    },
    {
     "name": "stdout",
     "output_type": "stream",
     "text": [
      "\u001b[2K\u001b[1A\u001b[2K\u001b[1A\u001b[2K\u001b[0G[+] 47.7s\r\n",
      "Downloading       ━━━━━━━━━━━━━━━━━━━━━━ 286.6MB                           13.9s\r\n",
      "Extracting  (141) ━━━━━╸\u001b[33m━━━━━━━━━━━━━━━━\u001b[0m      56 charset-normalizer        47.3s"
     ]
    },
    {
     "name": "stdout",
     "output_type": "stream",
     "text": [
      "\u001b[2K\u001b[1A\u001b[2K\u001b[1A\u001b[2K\u001b[0G[+] 47.8s\r\n",
      "Downloading       ━━━━━━━━━━━━━━━━━━━━━━ 286.6MB                           13.9s\r\n",
      "Extracting  (140) ━━━━━╸\u001b[33m━━━━━━━━━━━━━━━━\u001b[0m      57 charset-normalizer        47.4s"
     ]
    },
    {
     "name": "stdout",
     "output_type": "stream",
     "text": [
      "\u001b[2K\u001b[1A\u001b[2K\u001b[1A\u001b[2K\u001b[0G[+] 47.9s\r\n",
      "Downloading       ━━━━━━━━━━━━━━━━━━━━━━ 286.6MB                           13.9s\r\n",
      "Extracting  (140) ━━━━━╸\u001b[33m━━━━━━━━━━━━━━━━\u001b[0m      57 charset-normalizer        47.5s"
     ]
    },
    {
     "name": "stdout",
     "output_type": "stream",
     "text": [
      "\u001b[2K\u001b[1A\u001b[2K\u001b[1A\u001b[2K\u001b[0G[+] 48.0s\r\n",
      "Downloading       ━━━━━━━━━━━━━━━━━━━━━━ 286.6MB                           13.9s\r\n",
      "Extracting  (140) ━━━━━╸\u001b[33m━━━━━━━━━━━━━━━━\u001b[0m      57 colorama                  47.6s"
     ]
    },
    {
     "name": "stdout",
     "output_type": "stream",
     "text": [
      "\u001b[2K\u001b[1A\u001b[2K\u001b[1A\u001b[2K\u001b[0G[+] 48.1s\r\n",
      "Downloading       ━━━━━━━━━━━━━━━━━━━━━━ 286.6MB                           13.9s\r\n",
      "Extracting  (140) ━━━━━╸\u001b[33m━━━━━━━━━━━━━━━━\u001b[0m      57 colorama                  47.7s"
     ]
    },
    {
     "name": "stdout",
     "output_type": "stream",
     "text": [
      "\u001b[2K\u001b[1A\u001b[2K\u001b[1A\u001b[2K\u001b[0G[+] 48.2s\r\n",
      "Downloading       ━━━━━━━━━━━━━━━━━━━━━━ 286.6MB                           13.9s\r\n",
      "Extracting  (140) ━━━━━╸\u001b[33m━━━━━━━━━━━━━━━━\u001b[0m      57 colorama                  47.8s"
     ]
    },
    {
     "name": "stdout",
     "output_type": "stream",
     "text": [
      "\u001b[2K\u001b[1A\u001b[2K\u001b[1A\u001b[2K\u001b[0G[+] 48.3s\r\n",
      "Downloading       ━━━━━━━━━━━━━━━━━━━━━━ 286.6MB                           13.9s\r\n",
      "Extracting  (140) ━━━━━╸\u001b[33m━━━━━━━━━━━━━━━━\u001b[0m      57 colorama                  47.9s"
     ]
    },
    {
     "name": "stdout",
     "output_type": "stream",
     "text": [
      "\u001b[2K\u001b[1A\u001b[2K\u001b[1A\u001b[2K\u001b[0G[+] 48.4s\r\n",
      "Downloading       ━━━━━━━━━━━━━━━━━━━━━━ 286.6MB                           13.9s\r\n",
      "Extracting  (140) ━━━━━╸\u001b[33m━━━━━━━━━━━━━━━━\u001b[0m      57 conda                     48.0s"
     ]
    },
    {
     "name": "stdout",
     "output_type": "stream",
     "text": [
      "\u001b[2K\u001b[1A\u001b[2K\u001b[1A\u001b[2K\u001b[0G[+] 48.5s\r\n",
      "Downloading       ━━━━━━━━━━━━━━━━━━━━━━ 286.6MB                           13.9s\r\n",
      "Extracting  (140) ━━━━━╸\u001b[33m━━━━━━━━━━━━━━━━\u001b[0m      57 conda                     48.1s"
     ]
    },
    {
     "name": "stdout",
     "output_type": "stream",
     "text": [
      "\u001b[2K\u001b[1A\u001b[2K\u001b[1A\u001b[2K\u001b[0G[+] 48.6s\r\n",
      "Downloading       ━━━━━━━━━━━━━━━━━━━━━━ 286.6MB                           13.9s\r\n",
      "Extracting  (140) ━━━━━╸\u001b[33m━━━━━━━━━━━━━━━━\u001b[0m      57 conda                     48.2s"
     ]
    },
    {
     "name": "stdout",
     "output_type": "stream",
     "text": [
      "\u001b[2K\u001b[1A\u001b[2K\u001b[1A\u001b[2K\u001b[0G[+] 48.7s\r\n",
      "Downloading       ━━━━━━━━━━━━━━━━━━━━━━ 286.6MB                           13.9s\r\n",
      "Extracting  (140) ━━━━━╸\u001b[33m━━━━━━━━━━━━━━━━\u001b[0m      57 conda                     48.3s"
     ]
    },
    {
     "name": "stdout",
     "output_type": "stream",
     "text": [
      "\u001b[2K\u001b[1A\u001b[2K\u001b[1A\u001b[2K\u001b[0G[+] 48.8s\r\n",
      "Downloading       ━━━━━━━━━━━━━━━━━━━━━━ 286.6MB                           13.9s\r\n",
      "Extracting  (140) ━━━━━╸\u001b[33m━━━━━━━━━━━━━━━━\u001b[0m      57 cryptography              48.4s"
     ]
    },
    {
     "name": "stdout",
     "output_type": "stream",
     "text": [
      "\u001b[2K\u001b[1A\u001b[2K\u001b[1A\u001b[2K\u001b[0G[+] 48.9s\r\n",
      "Downloading       ━━━━━━━━━━━━━━━━━━━━━━ 286.6MB                           13.9s\r\n",
      "Extracting  (140) ━━━━━╸\u001b[33m━━━━━━━━━━━━━━━━\u001b[0m      57 cryptography              48.5s"
     ]
    },
    {
     "name": "stdout",
     "output_type": "stream",
     "text": [
      "\u001b[2K\u001b[1A\u001b[2K\u001b[1A\u001b[2K\u001b[0G[+] 49.0s\r\n",
      "Downloading       ━━━━━━━━━━━━━━━━━━━━━━ 286.6MB                           13.9s\r\n",
      "Extracting  (140) ━━━━━╸\u001b[33m━━━━━━━━━━━━━━━━\u001b[0m      57 cryptography              48.6s"
     ]
    },
    {
     "name": "stdout",
     "output_type": "stream",
     "text": [
      "\u001b[2K\u001b[1A\u001b[2K\u001b[1A\u001b[2K\u001b[0G[+] 49.1s\r\n",
      "Downloading       ━━━━━━━━━━━━━━━━━━━━━━ 286.6MB                           13.9s\r\n",
      "Extracting  (140) ━━━━━╸\u001b[33m━━━━━━━━━━━━━━━━\u001b[0m      57 cryptography              48.7s"
     ]
    },
    {
     "name": "stdout",
     "output_type": "stream",
     "text": [
      "\u001b[2K\u001b[1A\u001b[2K\u001b[1A\u001b[2K\u001b[0G[+] 49.2s\r\n",
      "Downloading       ━━━━━━━━━━━━━━━━━━━━━━ 286.6MB                           13.9s\r\n",
      "Extracting  (139) ━━━━━╸\u001b[33m━━━━━━━━━━━━━━━━\u001b[0m      58 dbus                      48.8s"
     ]
    },
    {
     "name": "stdout",
     "output_type": "stream",
     "text": [
      "\u001b[2K\u001b[1A\u001b[2K\u001b[1A\u001b[2K\u001b[0G[+] 49.3s\r\n",
      "Downloading       ━━━━━━━━━━━━━━━━━━━━━━ 286.6MB                           13.9s\r\n",
      "Extracting  (139) ━━━━━╸\u001b[33m━━━━━━━━━━━━━━━━\u001b[0m      58 dbus                      48.9s"
     ]
    },
    {
     "name": "stdout",
     "output_type": "stream",
     "text": [
      "\u001b[2K\u001b[1A\u001b[2K\u001b[1A\u001b[2K\u001b[0G[+] 49.4s\r\n",
      "Downloading       ━━━━━━━━━━━━━━━━━━━━━━ 286.6MB                           13.9s\r\n",
      "Extracting  (138) ━━━━━╸\u001b[33m━━━━━━━━━━━━━━━━\u001b[0m      59 dbus                      49.0s"
     ]
    },
    {
     "name": "stdout",
     "output_type": "stream",
     "text": [
      "\u001b[2K\u001b[1A\u001b[2K\u001b[1A\u001b[2K\u001b[0G[+] 49.5s\r\n",
      "Downloading       ━━━━━━━━━━━━━━━━━━━━━━ 286.6MB                           13.9s\r\n",
      "Extracting  (138) ━━━━━╸\u001b[33m━━━━━━━━━━━━━━━━\u001b[0m      59 dbus                      49.1s"
     ]
    },
    {
     "name": "stdout",
     "output_type": "stream",
     "text": [
      "\u001b[2K\u001b[1A\u001b[2K\u001b[1A\u001b[2K\u001b[0G[+] 49.6s\r\n",
      "Downloading       ━━━━━━━━━━━━━━━━━━━━━━ 286.6MB                           13.9s\r\n",
      "Extracting  (138) ━━━━━╸\u001b[33m━━━━━━━━━━━━━━━━\u001b[0m      59 debugpy                   49.2s"
     ]
    },
    {
     "name": "stdout",
     "output_type": "stream",
     "text": [
      "\u001b[2K\u001b[1A\u001b[2K\u001b[1A\u001b[2K\u001b[0G[+] 49.7s\r\n",
      "Downloading       ━━━━━━━━━━━━━━━━━━━━━━ 286.6MB                           13.9s\r\n",
      "Extracting  (138) ━━━━━╸\u001b[33m━━━━━━━━━━━━━━━━\u001b[0m      59 debugpy                   49.3s"
     ]
    },
    {
     "name": "stdout",
     "output_type": "stream",
     "text": [
      "\u001b[2K\u001b[1A\u001b[2K\u001b[1A\u001b[2K\u001b[0G[+] 49.8s\r\n",
      "Downloading       ━━━━━━━━━━━━━━━━━━━━━━ 286.6MB                           13.9s\r\n"
     ]
    },
    {
     "name": "stdout",
     "output_type": "stream",
     "text": [
      "Extracting  (138) ━━━━━╸\u001b[33m━━━━━━━━━━━━━━━━\u001b[0m      59 debugpy                   49.4s"
     ]
    },
    {
     "name": "stdout",
     "output_type": "stream",
     "text": [
      "\u001b[2K\u001b[1A\u001b[2K\u001b[1A\u001b[2K\u001b[0G[+] 49.9s\r\n",
      "Downloading       ━━━━━━━━━━━━━━━━━━━━━━ 286.6MB                           13.9s\r\n",
      "Extracting  (138) ━━━━━╸\u001b[33m━━━━━━━━━━━━━━━━\u001b[0m      59 debugpy                   49.5s"
     ]
    },
    {
     "name": "stdout",
     "output_type": "stream",
     "text": [
      "\u001b[2K\u001b[1A\u001b[2K\u001b[1A\u001b[2K\u001b[0G[+] 50.0s\r\n",
      "Downloading       ━━━━━━━━━━━━━━━━━━━━━━ 286.6MB                           13.9s\r\n",
      "Extracting  (138) ━━━━━╸\u001b[33m━━━━━━━━━━━━━━━━\u001b[0m      59 decorator                 49.6s"
     ]
    },
    {
     "name": "stdout",
     "output_type": "stream",
     "text": [
      "\u001b[2K\u001b[1A\u001b[2K\u001b[1A\u001b[2K\u001b[0G[+] 50.1s\r\n",
      "Downloading       ━━━━━━━━━━━━━━━━━━━━━━ 286.6MB                           13.9s\r\n",
      "Extracting  (138) ━━━━━╸\u001b[33m━━━━━━━━━━━━━━━━\u001b[0m      59 decorator                 49.7s"
     ]
    },
    {
     "name": "stdout",
     "output_type": "stream",
     "text": [
      "\u001b[2K\u001b[1A\u001b[2K\u001b[1A\u001b[2K\u001b[0G[+] 50.2s\r\n",
      "Downloading       ━━━━━━━━━━━━━━━━━━━━━━ 286.6MB                           13.9s\r\n",
      "Extracting  (138) ━━━━━╸\u001b[33m━━━━━━━━━━━━━━━━\u001b[0m      59 decorator                 49.8s"
     ]
    },
    {
     "name": "stdout",
     "output_type": "stream",
     "text": [
      "\u001b[2K\u001b[1A\u001b[2K\u001b[1A\u001b[2K\u001b[0G[+] 50.3s\r\n",
      "Downloading       ━━━━━━━━━━━━━━━━━━━━━━ 286.6MB                           13.9s\r\n",
      "Extracting  (138) ━━━━━╸\u001b[33m━━━━━━━━━━━━━━━━\u001b[0m      59 decorator                 49.9s"
     ]
    },
    {
     "name": "stdout",
     "output_type": "stream",
     "text": [
      "\u001b[2K\u001b[1A\u001b[2K\u001b[1A\u001b[2K\u001b[0G[+] 50.4s\r\n",
      "Downloading       ━━━━━━━━━━━━━━━━━━━━━━ 286.6MB                           13.9s\r\n",
      "Extracting  (138) ━━━━━╸\u001b[33m━━━━━━━━━━━━━━━━\u001b[0m      59 executing                 50.0s"
     ]
    },
    {
     "name": "stdout",
     "output_type": "stream",
     "text": [
      "\u001b[2K\u001b[1A\u001b[2K\u001b[1A\u001b[2K\u001b[0G[+] 50.5s\r\n",
      "Downloading       ━━━━━━━━━━━━━━━━━━━━━━ 286.6MB                           13.9s\r\n",
      "Extracting  (138) ━━━━━╸\u001b[33m━━━━━━━━━━━━━━━━\u001b[0m      59 executing                 50.1s"
     ]
    },
    {
     "name": "stdout",
     "output_type": "stream",
     "text": [
      "\u001b[2K\u001b[1A\u001b[2K\u001b[1A\u001b[2K\u001b[0G[+] 50.6s\r\n",
      "Downloading       ━━━━━━━━━━━━━━━━━━━━━━ 286.6MB                           13.9s\r\n",
      "Extracting  (138) ━━━━━╸\u001b[33m━━━━━━━━━━━━━━━━\u001b[0m      59 executing                 50.2s"
     ]
    },
    {
     "name": "stdout",
     "output_type": "stream",
     "text": [
      "\u001b[2K\u001b[1A\u001b[2K\u001b[1A\u001b[2K\u001b[0G[+] 50.7s\r\n",
      "Downloading       ━━━━━━━━━━━━━━━━━━━━━━ 286.6MB                           13.9s\r\n",
      "Extracting  (138) ━━━━━╸\u001b[33m━━━━━━━━━━━━━━━━\u001b[0m      59 executing                 50.3s"
     ]
    },
    {
     "name": "stdout",
     "output_type": "stream",
     "text": [
      "\u001b[2K\u001b[1A\u001b[2K\u001b[1A\u001b[2K\u001b[0G[+] 50.8s\r\n",
      "Downloading       ━━━━━━━━━━━━━━━━━━━━━━ 286.6MB                           13.9s\r\n",
      "Extracting  (137) ━━━━━╸\u001b[33m━━━━━━━━━━━━━━━━\u001b[0m      60 fftw                      50.4s"
     ]
    },
    {
     "name": "stdout",
     "output_type": "stream",
     "text": [
      "\u001b[2K\u001b[1A\u001b[2K\u001b[1A\u001b[2K\u001b[0G[+] 50.9s\r\n",
      "Downloading       ━━━━━━━━━━━━━━━━━━━━━━ 286.6MB                           13.9s\r\n",
      "Extracting  (137) ━━━━━╸\u001b[33m━━━━━━━━━━━━━━━━\u001b[0m      60 fftw                      50.5s"
     ]
    },
    {
     "name": "stdout",
     "output_type": "stream",
     "text": [
      "\u001b[2K\u001b[1A\u001b[2K\u001b[1A\u001b[2K\u001b[0G[+] 51.0s\r\n",
      "Downloading       ━━━━━━━━━━━━━━━━━━━━━━ 286.6MB                           13.9s\r\n",
      "Extracting  (137) ━━━━━╸\u001b[33m━━━━━━━━━━━━━━━━\u001b[0m      60 fftw                      50.6s"
     ]
    },
    {
     "name": "stdout",
     "output_type": "stream",
     "text": [
      "\u001b[2K\u001b[1A\u001b[2K\u001b[1A\u001b[2K\u001b[0G[+] 51.1s\r\n",
      "Downloading       ━━━━━━━━━━━━━━━━━━━━━━ 286.6MB                           13.9s\r\n",
      "Extracting  (137) ━━━━━╸\u001b[33m━━━━━━━━━━━━━━━━\u001b[0m      60 fftw                      50.7s"
     ]
    },
    {
     "name": "stdout",
     "output_type": "stream",
     "text": [
      "\u001b[2K\u001b[1A\u001b[2K\u001b[1A\u001b[2K\u001b[0G[+] 51.2s\r\n",
      "Downloading       ━━━━━━━━━━━━━━━━━━━━━━ 286.6MB                           13.9s\r\n",
      "Extracting  (137) ━━━━━╸\u001b[33m━━━━━━━━━━━━━━━━\u001b[0m      60 fmt                       50.8s"
     ]
    },
    {
     "name": "stdout",
     "output_type": "stream",
     "text": [
      "\u001b[2K\u001b[1A\u001b[2K\u001b[1A\u001b[2K\u001b[0G[+] 51.3s\r\n",
      "Downloading       ━━━━━━━━━━━━━━━━━━━━━━ 286.6MB                           13.9s\r\n",
      "Extracting  (137) ━━━━━╸\u001b[33m━━━━━━━━━━━━━━━━\u001b[0m      60 fmt                       50.9s"
     ]
    },
    {
     "name": "stdout",
     "output_type": "stream",
     "text": [
      "\u001b[2K\u001b[1A\u001b[2K\u001b[1A\u001b[2K\u001b[0G[+] 51.4s\r\n",
      "Downloading       ━━━━━━━━━━━━━━━━━━━━━━ 286.6MB                           13.9s\r\n",
      "Extracting  (137) ━━━━━╸\u001b[33m━━━━━━━━━━━━━━━━\u001b[0m      60 fmt                       51.0s"
     ]
    },
    {
     "name": "stdout",
     "output_type": "stream",
     "text": [
      "\u001b[2K\u001b[1A\u001b[2K\u001b[1A\u001b[2K\u001b[0G[+] 51.5s\r\n",
      "Downloading       ━━━━━━━━━━━━━━━━━━━━━━ 286.6MB                           13.9s\r\n",
      "Extracting  (137) ━━━━━╸\u001b[33m━━━━━━━━━━━━━━━━\u001b[0m      60 fmt                       51.1s"
     ]
    },
    {
     "name": "stdout",
     "output_type": "stream",
     "text": [
      "\u001b[2K\u001b[1A\u001b[2K\u001b[1A\u001b[2K\u001b[0G[+] 51.6s\r\n",
      "Downloading       ━━━━━━━━━━━━━━━━━━━━━━ 286.6MB                           13.9s\r\n",
      "Extracting  (137) ━━━━━╸\u001b[33m━━━━━━━━━━━━━━━━\u001b[0m      60 font-ttf-dejavu-sans-mono 51.2s"
     ]
    },
    {
     "name": "stdout",
     "output_type": "stream",
     "text": [
      "\u001b[2K\u001b[1A\u001b[2K\u001b[1A\u001b[2K\u001b[0G[+] 51.7s\r\n",
      "Downloading       ━━━━━━━━━━━━━━━━━━━━━━ 286.6MB                           13.9s\r\n",
      "Extracting  (137) ━━━━━╸\u001b[33m━━━━━━━━━━━━━━━━\u001b[0m      60 font-ttf-dejavu-sans-mono 51.3s"
     ]
    },
    {
     "name": "stdout",
     "output_type": "stream",
     "text": [
      "\u001b[2K\u001b[1A\u001b[2K\u001b[1A\u001b[2K\u001b[0G[+] 51.8s\r\n",
      "Downloading       ━━━━━━━━━━━━━━━━━━━━━━ 286.6MB                           13.9s\r\n",
      "Extracting  (137) ━━━━━╸\u001b[33m━━━━━━━━━━━━━━━━\u001b[0m      60 font-ttf-dejavu-sans-mono 51.4s"
     ]
    },
    {
     "name": "stdout",
     "output_type": "stream",
     "text": [
      "\u001b[2K\u001b[1A\u001b[2K\u001b[1A\u001b[2K\u001b[0G[+] 51.9s\r\n",
      "Downloading       ━━━━━━━━━━━━━━━━━━━━━━ 286.6MB                           13.9s\r\n",
      "Extracting  (136) ━━━━━╸\u001b[33m━━━━━━━━━━━━━━━━\u001b[0m      61 font-ttf-dejavu-sans-mono 51.5s"
     ]
    },
    {
     "name": "stdout",
     "output_type": "stream",
     "text": [
      "\u001b[2K\u001b[1A\u001b[2K\u001b[1A\u001b[2K\u001b[0G[+] 52.0s\r\n",
      "Downloading       ━━━━━━━━━━━━━━━━━━━━━━ 286.6MB                           13.9s\r\n",
      "Extracting  (136) ━━━━━╸\u001b[33m━━━━━━━━━━━━━━━━\u001b[0m      61 font-ttf-source-code-pro  51.6s"
     ]
    },
    {
     "name": "stdout",
     "output_type": "stream",
     "text": [
      "\u001b[2K\u001b[1A\u001b[2K\u001b[1A\u001b[2K\u001b[0G[+] 52.1s\r\n",
      "Downloading       ━━━━━━━━━━━━━━━━━━━━━━ 286.6MB                           13.9s\r\n",
      "Extracting  (136) ━━━━━╸\u001b[33m━━━━━━━━━━━━━━━━\u001b[0m      61 font-ttf-source-code-pro  51.7s"
     ]
    },
    {
     "name": "stdout",
     "output_type": "stream",
     "text": [
      "\u001b[2K\u001b[1A\u001b[2K\u001b[1A\u001b[2K\u001b[0G[+] 52.2s\r\n",
      "Downloading       ━━━━━━━━━━━━━━━━━━━━━━ 286.6MB                           13.9s\r\n",
      "Extracting  (136) ━━━━━╸\u001b[33m━━━━━━━━━━━━━━━━\u001b[0m      61 font-ttf-source-code-pro  51.8s"
     ]
    },
    {
     "name": "stdout",
     "output_type": "stream",
     "text": [
      "\u001b[2K\u001b[1A\u001b[2K\u001b[1A\u001b[2K\u001b[0G[+] 52.3s\r\n",
      "Downloading       ━━━━━━━━━━━━━━━━━━━━━━ 286.6MB                           13.9s\r\n",
      "Extracting  (136) ━━━━━╸\u001b[33m━━━━━━━━━━━━━━━━\u001b[0m      61 font-ttf-source-code-pro  51.9s"
     ]
    },
    {
     "name": "stdout",
     "output_type": "stream",
     "text": [
      "\u001b[2K\u001b[1A\u001b[2K\u001b[1A\u001b[2K\u001b[0G[+] 52.4s\r\n",
      "Downloading       ━━━━━━━━━━━━━━━━━━━━━━ 286.6MB                           13.9s\r\n",
      "Extracting  (136) ━━━━━╸\u001b[33m━━━━━━━━━━━━━━━━\u001b[0m      61 font-ttf-ubuntu           52.0s"
     ]
    },
    {
     "name": "stdout",
     "output_type": "stream",
     "text": [
      "\u001b[2K\u001b[1A\u001b[2K\u001b[1A\u001b[2K\u001b[0G[+] 52.5s\r\n",
      "Downloading       ━━━━━━━━━━━━━━━━━━━━━━ 286.6MB                           13.9s\r\n",
      "Extracting  (136) ━━━━━╸\u001b[33m━━━━━━━━━━━━━━━━\u001b[0m      61 font-ttf-ubuntu           52.1s"
     ]
    },
    {
     "name": "stdout",
     "output_type": "stream",
     "text": [
      "\u001b[2K\u001b[1A\u001b[2K\u001b[1A\u001b[2K\u001b[0G[+] 52.6s\r\n",
      "Downloading       ━━━━━━━━━━━━━━━━━━━━━━ 286.6MB                           13.9s\r\n",
      "Extracting  (136) ━━━━━╸\u001b[33m━━━━━━━━━━━━━━━━\u001b[0m      61 font-ttf-ubuntu           52.2s"
     ]
    },
    {
     "name": "stdout",
     "output_type": "stream",
     "text": [
      "\u001b[2K\u001b[1A\u001b[2K\u001b[1A\u001b[2K\u001b[0G[+] 52.7s\r\n",
      "Downloading       ━━━━━━━━━━━━━━━━━━━━━━ 286.6MB                           13.9s\r\n",
      "Extracting  (136) ━━━━━╸\u001b[33m━━━━━━━━━━━━━━━━\u001b[0m      61 font-ttf-ubuntu           52.3s"
     ]
    },
    {
     "name": "stdout",
     "output_type": "stream",
     "text": [
      "\u001b[2K\u001b[1A\u001b[2K\u001b[1A\u001b[2K\u001b[0G[+] 52.8s\r\n",
      "Downloading       ━━━━━━━━━━━━━━━━━━━━━━ 286.6MB                           13.9s\r\n",
      "Extracting  (136) ━━━━━╸\u001b[33m━━━━━━━━━━━━━━━━\u001b[0m      61 fonts-conda-forge         52.4s"
     ]
    },
    {
     "name": "stdout",
     "output_type": "stream",
     "text": [
      "\u001b[2K\u001b[1A\u001b[2K\u001b[1A\u001b[2K\u001b[0G[+] 52.9s\r\n",
      "Downloading       ━━━━━━━━━━━━━━━━━━━━━━ 286.6MB                           13.9s\r\n",
      "Extracting  (136) ━━━━━╸\u001b[33m━━━━━━━━━━━━━━━━\u001b[0m      61 fonts-conda-forge         52.5s"
     ]
    },
    {
     "name": "stdout",
     "output_type": "stream",
     "text": [
      "\u001b[2K\u001b[1A\u001b[2K\u001b[1A\u001b[2K\u001b[0G[+] 53.0s\r\n",
      "Downloading       ━━━━━━━━━━━━━━━━━━━━━━ 286.6MB                           13.9s\r\n",
      "Extracting  (136) ━━━━━╸\u001b[33m━━━━━━━━━━━━━━━━\u001b[0m      61 fonts-conda-forge         52.6s"
     ]
    },
    {
     "name": "stdout",
     "output_type": "stream",
     "text": [
      "\u001b[2K\u001b[1A\u001b[2K\u001b[1A\u001b[2K\u001b[0G[+] 53.1s\r\n",
      "Downloading       ━━━━━━━━━━━━━━━━━━━━━━ 286.6MB                           13.9s\r\n",
      "Extracting  (136) ━━━━━╸\u001b[33m━━━━━━━━━━━━━━━━\u001b[0m      61 fonts-conda-forge         52.7s"
     ]
    },
    {
     "name": "stdout",
     "output_type": "stream",
     "text": [
      "\u001b[2K\u001b[1A\u001b[2K\u001b[1A\u001b[2K\u001b[0G[+] 53.2s\r\n",
      "Downloading       ━━━━━━━━━━━━━━━━━━━━━━ 286.6MB                           13.9s\r\n",
      "Extracting  (136) ━━━━━╸\u001b[33m━━━━━━━━━━━━━━━━\u001b[0m      61 glib                      52.8s"
     ]
    },
    {
     "name": "stdout",
     "output_type": "stream",
     "text": [
      "\u001b[2K\u001b[1A\u001b[2K\u001b[1A\u001b[2K\u001b[0G[+] 53.3s\r\n",
      "Downloading       ━━━━━━━━━━━━━━━━━━━━━━ 286.6MB                           13.9s\r\n",
      "Extracting  (136) ━━━━━╸\u001b[33m━━━━━━━━━━━━━━━━\u001b[0m      61 glib                      52.9s"
     ]
    },
    {
     "name": "stdout",
     "output_type": "stream",
     "text": [
      "\u001b[2K\u001b[1A\u001b[2K\u001b[1A\u001b[2K\u001b[0G[+] 53.4s\r\n",
      "Downloading       ━━━━━━━━━━━━━━━━━━━━━━ 286.6MB                           13.9s\r\n",
      "Extracting  (136) ━━━━━╸\u001b[33m━━━━━━━━━━━━━━━━\u001b[0m      61 glib                      53.0s"
     ]
    },
    {
     "name": "stdout",
     "output_type": "stream",
     "text": [
      "\u001b[2K\u001b[1A\u001b[2K\u001b[1A\u001b[2K\u001b[0G[+] 53.5s\r\n",
      "Downloading       ━━━━━━━━━━━━━━━━━━━━━━ 286.6MB                           13.9s\r\n",
      "Extracting  (135) ━━━━━╸\u001b[33m━━━━━━━━━━━━━━━━\u001b[0m      62 glib                      53.1s"
     ]
    },
    {
     "name": "stdout",
     "output_type": "stream",
     "text": [
      "\u001b[2K\u001b[1A\u001b[2K\u001b[1A\u001b[2K\u001b[0G[+] 53.6s\r\n",
      "Downloading       ━━━━━━━━━━━━━━━━━━━━━━ 286.6MB                           13.9s\r\n",
      "Extracting  (135) ━━━━━╸\u001b[33m━━━━━━━━━━━━━━━━\u001b[0m      62 glib-tools                53.2s"
     ]
    },
    {
     "name": "stdout",
     "output_type": "stream",
     "text": [
      "\u001b[2K\u001b[1A\u001b[2K\u001b[1A\u001b[2K\u001b[0G[+] 53.7s\r\n",
      "Downloading       ━━━━━━━━━━━━━━━━━━━━━━ 286.6MB                           13.9s\r\n",
      "Extracting  (135) ━━━━━╸\u001b[33m━━━━━━━━━━━━━━━━\u001b[0m      62 glib-tools                53.3s"
     ]
    },
    {
     "name": "stdout",
     "output_type": "stream",
     "text": [
      "\u001b[2K\u001b[1A\u001b[2K\u001b[1A\u001b[2K\u001b[0G[+] 53.8s\r\n",
      "Downloading       ━━━━━━━━━━━━━━━━━━━━━━ 286.6MB                           13.9s\r\n",
      "Extracting  (135) ━━━━━╸\u001b[33m━━━━━━━━━━━━━━━━\u001b[0m      62 glib-tools                53.4s"
     ]
    },
    {
     "name": "stdout",
     "output_type": "stream",
     "text": [
      "\u001b[2K\u001b[1A\u001b[2K\u001b[1A\u001b[2K\u001b[0G[+] 53.9s\r\n",
      "Downloading       ━━━━━━━━━━━━━━━━━━━━━━ 286.6MB                           13.9s\r\n",
      "Extracting  (135) ━━━━━╸\u001b[33m━━━━━━━━━━━━━━━━\u001b[0m      62 glib-tools                53.5s"
     ]
    },
    {
     "name": "stdout",
     "output_type": "stream",
     "text": [
      "\u001b[2K\u001b[1A\u001b[2K\u001b[1A\u001b[2K\u001b[0G[+] 54.0s\r\n",
      "Downloading       ━━━━━━━━━━━━━━━━━━━━━━ 286.6MB                           13.9s\r\n"
     ]
    },
    {
     "name": "stdout",
     "output_type": "stream",
     "text": [
      "Extracting  (135) ━━━━━╸\u001b[33m━━━━━━━━━━━━━━━━\u001b[0m      62 gst-plugins-base          53.6s"
     ]
    },
    {
     "name": "stdout",
     "output_type": "stream",
     "text": [
      "\u001b[2K\u001b[1A\u001b[2K\u001b[1A\u001b[2K\u001b[0G[+] 54.1s\r\n",
      "Downloading       ━━━━━━━━━━━━━━━━━━━━━━ 286.6MB                           13.9s\r\n",
      "Extracting  (135) ━━━━━╸\u001b[33m━━━━━━━━━━━━━━━━\u001b[0m      62 gst-plugins-base          53.7s"
     ]
    },
    {
     "name": "stdout",
     "output_type": "stream",
     "text": [
      "\u001b[2K\u001b[1A\u001b[2K\u001b[1A\u001b[2K\u001b[0G[+] 54.2s\r\n",
      "Downloading       ━━━━━━━━━━━━━━━━━━━━━━ 286.6MB                           13.9s\r\n",
      "Extracting  (135) ━━━━━╸\u001b[33m━━━━━━━━━━━━━━━━\u001b[0m      62 gst-plugins-base          53.8s"
     ]
    },
    {
     "name": "stdout",
     "output_type": "stream",
     "text": [
      "\u001b[2K\u001b[1A\u001b[2K\u001b[1A\u001b[2K\u001b[0G[+] 54.3s\r\n",
      "Downloading       ━━━━━━━━━━━━━━━━━━━━━━ 286.6MB                           13.9s\r\n",
      "Extracting  (135) ━━━━━╸\u001b[33m━━━━━━━━━━━━━━━━\u001b[0m      62 gst-plugins-base          53.9s"
     ]
    },
    {
     "name": "stdout",
     "output_type": "stream",
     "text": [
      "\u001b[2K\u001b[1A\u001b[2K\u001b[1A\u001b[2K\u001b[0G[+] 54.4s\r\n",
      "Downloading       ━━━━━━━━━━━━━━━━━━━━━━ 286.6MB                           13.9s\r\n",
      "Extracting  (135) ━━━━━╸\u001b[33m━━━━━━━━━━━━━━━━\u001b[0m      62 gstreamer                 54.0s"
     ]
    },
    {
     "name": "stdout",
     "output_type": "stream",
     "text": [
      "\u001b[2K\u001b[1A\u001b[2K\u001b[1A\u001b[2K\u001b[0G[+] 54.5s\r\n",
      "Downloading       ━━━━━━━━━━━━━━━━━━━━━━ 286.6MB                           13.9s\r\n",
      "Extracting  (135) ━━━━━╸\u001b[33m━━━━━━━━━━━━━━━━\u001b[0m      62 gstreamer                 54.1s"
     ]
    },
    {
     "name": "stdout",
     "output_type": "stream",
     "text": [
      "\u001b[2K\u001b[1A\u001b[2K\u001b[1A\u001b[2K\u001b[0G[+] 54.6s\r\n",
      "Downloading       ━━━━━━━━━━━━━━━━━━━━━━ 286.6MB                           13.9s\r\n",
      "Extracting  (135) ━━━━━╸\u001b[33m━━━━━━━━━━━━━━━━\u001b[0m      62 gstreamer                 54.2s"
     ]
    },
    {
     "name": "stdout",
     "output_type": "stream",
     "text": [
      "\u001b[2K\u001b[1A\u001b[2K\u001b[1A\u001b[2K\u001b[0G[+] 54.7s\r\n",
      "Downloading       ━━━━━━━━━━━━━━━━━━━━━━ 286.6MB                           13.9s\r\n",
      "Extracting  (135) ━━━━━╸\u001b[33m━━━━━━━━━━━━━━━━\u001b[0m      62 gstreamer                 54.3s"
     ]
    },
    {
     "name": "stdout",
     "output_type": "stream",
     "text": [
      "\u001b[2K\u001b[1A\u001b[2K\u001b[1A\u001b[2K\u001b[0G[+] 54.8s\r\n",
      "Downloading       ━━━━━━━━━━━━━━━━━━━━━━ 286.6MB                           13.9s\r\n",
      "Extracting  (135) ━━━━━╸\u001b[33m━━━━━━━━━━━━━━━━\u001b[0m      62 gstreamer-orc             54.4s"
     ]
    },
    {
     "name": "stdout",
     "output_type": "stream",
     "text": [
      "\u001b[2K\u001b[1A\u001b[2K\u001b[1A\u001b[2K\u001b[0G[+] 54.9s\r\n",
      "Downloading       ━━━━━━━━━━━━━━━━━━━━━━ 286.6MB                           13.9s\r\n",
      "Extracting  (135) ━━━━━╸\u001b[33m━━━━━━━━━━━━━━━━\u001b[0m      62 gstreamer-orc             54.5s"
     ]
    },
    {
     "name": "stdout",
     "output_type": "stream",
     "text": [
      "\u001b[2K\u001b[1A\u001b[2K\u001b[1A\u001b[2K\u001b[0G[+] 55.0s\r\n",
      "Downloading       ━━━━━━━━━━━━━━━━━━━━━━ 286.6MB                           13.9s\r\n",
      "Extracting  (135) ━━━━━╸\u001b[33m━━━━━━━━━━━━━━━━\u001b[0m      62 gstreamer-orc             54.6s"
     ]
    },
    {
     "name": "stdout",
     "output_type": "stream",
     "text": [
      "\u001b[2K\u001b[1A\u001b[2K\u001b[1A\u001b[2K\u001b[0G[+] 55.1s\r\n",
      "Downloading       ━━━━━━━━━━━━━━━━━━━━━━ 286.6MB                           13.9s\r\n",
      "Extracting  (135) ━━━━━╸\u001b[33m━━━━━━━━━━━━━━━━\u001b[0m      62 gstreamer-orc             54.7s"
     ]
    },
    {
     "name": "stdout",
     "output_type": "stream",
     "text": [
      "\u001b[2K\u001b[1A\u001b[2K\u001b[1A\u001b[2K\u001b[0G[+] 55.2s\r\n",
      "Downloading       ━━━━━━━━━━━━━━━━━━━━━━ 286.6MB                           13.9s\r\n",
      "Extracting  (135) ━━━━━╸\u001b[33m━━━━━━━━━━━━━━━━\u001b[0m      62 importlib-metadata        54.8s"
     ]
    },
    {
     "name": "stdout",
     "output_type": "stream",
     "text": [
      "\u001b[2K\u001b[1A\u001b[2K\u001b[1A\u001b[2K\u001b[0G[+] 55.3s\r\n",
      "Downloading       ━━━━━━━━━━━━━━━━━━━━━━ 286.6MB                           13.9s\r\n",
      "Extracting  (135) ━━━━━╸\u001b[33m━━━━━━━━━━━━━━━━\u001b[0m      62 importlib-metadata        54.9s"
     ]
    },
    {
     "name": "stdout",
     "output_type": "stream",
     "text": [
      "\u001b[2K\u001b[1A\u001b[2K\u001b[1A\u001b[2K\u001b[0G[+] 55.4s\r\n",
      "Downloading       ━━━━━━━━━━━━━━━━━━━━━━ 286.6MB                           13.9s\r\n",
      "Extracting  (134) ━━━━━━╸\u001b[33m━━━━━━━━━━━━━━━\u001b[0m      63 importlib-metadata        55.0s"
     ]
    },
    {
     "name": "stdout",
     "output_type": "stream",
     "text": [
      "\u001b[2K\u001b[1A\u001b[2K\u001b[1A\u001b[2K\u001b[0G[+] 55.5s\r\n",
      "Downloading       ━━━━━━━━━━━━━━━━━━━━━━ 286.6MB                           13.9s\r\n",
      "Extracting  (134) ━━━━━━╸\u001b[33m━━━━━━━━━━━━━━━\u001b[0m      63 importlib-metadata        55.1s"
     ]
    },
    {
     "name": "stdout",
     "output_type": "stream",
     "text": [
      "\u001b[2K\u001b[1A\u001b[2K\u001b[1A\u001b[2K\u001b[0G[+] 55.6s\r\n",
      "Downloading       ━━━━━━━━━━━━━━━━━━━━━━ 286.6MB                           13.9s\r\n",
      "Extracting  (134) ━━━━━━╸\u001b[33m━━━━━━━━━━━━━━━\u001b[0m      63 importlib_metadata        55.2s"
     ]
    },
    {
     "name": "stdout",
     "output_type": "stream",
     "text": [
      "\u001b[2K\u001b[1A\u001b[2K\u001b[1A\u001b[2K\u001b[0G[+] 55.7s\r\n",
      "Downloading       ━━━━━━━━━━━━━━━━━━━━━━ 286.6MB                           13.9s\r\n",
      "Extracting  (134) ━━━━━━╸\u001b[33m━━━━━━━━━━━━━━━\u001b[0m      63 importlib_metadata        55.3s"
     ]
    },
    {
     "name": "stdout",
     "output_type": "stream",
     "text": [
      "\u001b[2K\u001b[1A\u001b[2K\u001b[1A\u001b[2K\u001b[0G[+] 55.8s\r\n",
      "Downloading       ━━━━━━━━━━━━━━━━━━━━━━ 286.6MB                           13.9s\r\n",
      "Extracting  (134) ━━━━━━╸\u001b[33m━━━━━━━━━━━━━━━\u001b[0m      63 importlib_metadata        55.4s"
     ]
    },
    {
     "name": "stdout",
     "output_type": "stream",
     "text": [
      "\u001b[2K\u001b[1A\u001b[2K\u001b[1A\u001b[2K\u001b[0G[+] 55.9s\r\n",
      "Downloading       ━━━━━━━━━━━━━━━━━━━━━━ 286.6MB                           13.9s\r\n",
      "Extracting  (134) ━━━━━━╸\u001b[33m━━━━━━━━━━━━━━━\u001b[0m      63 importlib_metadata        55.5s"
     ]
    },
    {
     "name": "stdout",
     "output_type": "stream",
     "text": [
      "\u001b[2K\u001b[1A\u001b[2K\u001b[1A\u001b[2K\u001b[0G[+] 56.0s\r\n",
      "Downloading       ━━━━━━━━━━━━━━━━━━━━━━ 286.6MB                           13.9s\r\n",
      "Extracting  (134) ━━━━━━╸\u001b[33m━━━━━━━━━━━━━━━\u001b[0m      63 importlib_resources       55.6s"
     ]
    },
    {
     "name": "stdout",
     "output_type": "stream",
     "text": [
      "\u001b[2K\u001b[1A\u001b[2K\u001b[1A\u001b[2K\u001b[0G[+] 56.1s\r\n",
      "Downloading       ━━━━━━━━━━━━━━━━━━━━━━ 286.6MB                           13.9s\r\n",
      "Extracting  (134) ━━━━━━╸\u001b[33m━━━━━━━━━━━━━━━\u001b[0m      63 importlib_resources       55.7s"
     ]
    },
    {
     "name": "stdout",
     "output_type": "stream",
     "text": [
      "\u001b[2K\u001b[1A\u001b[2K\u001b[1A\u001b[2K\u001b[0G[+] 56.2s\r\n",
      "Downloading       ━━━━━━━━━━━━━━━━━━━━━━ 286.6MB                           13.9s\r\n",
      "Extracting  (134) ━━━━━━╸\u001b[33m━━━━━━━━━━━━━━━\u001b[0m      63 importlib_resources       55.8s"
     ]
    },
    {
     "name": "stdout",
     "output_type": "stream",
     "text": [
      "\u001b[2K\u001b[1A\u001b[2K\u001b[1A\u001b[2K\u001b[0G[+] 56.3s\r\n",
      "Downloading       ━━━━━━━━━━━━━━━━━━━━━━ 286.6MB                           13.9s\r\n",
      "Extracting  (134) ━━━━━━╸\u001b[33m━━━━━━━━━━━━━━━\u001b[0m      63 importlib_resources       55.9s"
     ]
    },
    {
     "name": "stdout",
     "output_type": "stream",
     "text": [
      "\u001b[2K\u001b[1A\u001b[2K\u001b[1A\u001b[2K\u001b[0G[+] 56.4s\r\n",
      "Downloading       ━━━━━━━━━━━━━━━━━━━━━━ 286.6MB                           13.9s\r\n",
      "Extracting  (134) ━━━━━━╸\u001b[33m━━━━━━━━━━━━━━━\u001b[0m      63 ipykernel                 56.0s"
     ]
    },
    {
     "name": "stdout",
     "output_type": "stream",
     "text": [
      "\u001b[2K\u001b[1A\u001b[2K\u001b[1A\u001b[2K\u001b[0G[+] 56.5s\r\n",
      "Downloading       ━━━━━━━━━━━━━━━━━━━━━━ 286.6MB                           13.9s\r\n",
      "Extracting  (133) ━━━━━━╸\u001b[33m━━━━━━━━━━━━━━━\u001b[0m      64 ipykernel                 56.1s"
     ]
    },
    {
     "name": "stdout",
     "output_type": "stream",
     "text": [
      "\u001b[2K\u001b[1A\u001b[2K\u001b[1A\u001b[2K\u001b[0G[+] 56.6s\r\n",
      "Downloading       ━━━━━━━━━━━━━━━━━━━━━━ 286.6MB                           13.9s\r\n",
      "Extracting  (133) ━━━━━━╸\u001b[33m━━━━━━━━━━━━━━━\u001b[0m      64 ipykernel                 56.2s"
     ]
    },
    {
     "name": "stdout",
     "output_type": "stream",
     "text": [
      "\u001b[2K\u001b[1A\u001b[2K\u001b[1A\u001b[2K\u001b[0G[+] 56.7s\r\n",
      "Downloading       ━━━━━━━━━━━━━━━━━━━━━━ 286.6MB                           13.9s\r\n",
      "Extracting  (133) ━━━━━━╸\u001b[33m━━━━━━━━━━━━━━━\u001b[0m      64 ipykernel                 56.3s"
     ]
    },
    {
     "name": "stdout",
     "output_type": "stream",
     "text": [
      "\u001b[2K\u001b[1A\u001b[2K\u001b[1A\u001b[2K\u001b[0G[+] 56.8s\r\n",
      "Downloading       ━━━━━━━━━━━━━━━━━━━━━━ 286.6MB                           13.9s\r\n",
      "Extracting  (133) ━━━━━━╸\u001b[33m━━━━━━━━━━━━━━━\u001b[0m      64 ipython                   56.4s"
     ]
    },
    {
     "name": "stdout",
     "output_type": "stream",
     "text": [
      "\u001b[2K\u001b[1A\u001b[2K\u001b[1A\u001b[2K\u001b[0G[+] 56.9s\r\n",
      "Downloading       ━━━━━━━━━━━━━━━━━━━━━━ 286.6MB                           13.9s\r\n",
      "Extracting  (133) ━━━━━━╸\u001b[33m━━━━━━━━━━━━━━━\u001b[0m      64 ipython                   56.5s"
     ]
    },
    {
     "name": "stdout",
     "output_type": "stream",
     "text": [
      "\u001b[2K\u001b[1A\u001b[2K\u001b[1A\u001b[2K\u001b[0G[+] 57.0s\r\n",
      "Downloading       ━━━━━━━━━━━━━━━━━━━━━━ 286.6MB                           13.9s\r\n",
      "Extracting  (133) ━━━━━━╸\u001b[33m━━━━━━━━━━━━━━━\u001b[0m      64 ipython                   56.6s"
     ]
    },
    {
     "name": "stdout",
     "output_type": "stream",
     "text": [
      "\u001b[2K\u001b[1A\u001b[2K\u001b[1A\u001b[2K\u001b[0G[+] 57.1s\r\n",
      "Downloading       ━━━━━━━━━━━━━━━━━━━━━━ 286.6MB                           13.9s\r\n",
      "Extracting  (133) ━━━━━━╸\u001b[33m━━━━━━━━━━━━━━━\u001b[0m      64 ipython                   56.7s"
     ]
    },
    {
     "name": "stdout",
     "output_type": "stream",
     "text": [
      "\u001b[2K\u001b[1A\u001b[2K\u001b[1A\u001b[2K\u001b[0G[+] 57.2s\r\n",
      "Downloading       ━━━━━━━━━━━━━━━━━━━━━━ 286.6MB                           13.9s\r\n",
      "Extracting  (133) ━━━━━━╸\u001b[33m━━━━━━━━━━━━━━━\u001b[0m      64 ipywidgets                56.8s"
     ]
    },
    {
     "name": "stdout",
     "output_type": "stream",
     "text": [
      "\u001b[2K\u001b[1A\u001b[2K\u001b[1A\u001b[2K\u001b[0G[+] 57.3s\r\n",
      "Downloading       ━━━━━━━━━━━━━━━━━━━━━━ 286.6MB                           13.9s\r\n",
      "Extracting  (133) ━━━━━━╸\u001b[33m━━━━━━━━━━━━━━━\u001b[0m      64 ipywidgets                56.9s"
     ]
    },
    {
     "name": "stdout",
     "output_type": "stream",
     "text": [
      "\u001b[2K\u001b[1A\u001b[2K\u001b[1A\u001b[2K\u001b[0G[+] 57.4s\r\n",
      "Downloading       ━━━━━━━━━━━━━━━━━━━━━━ 286.6MB                           13.9s\r\n",
      "Extracting  (133) ━━━━━━╸\u001b[33m━━━━━━━━━━━━━━━\u001b[0m      64 ipywidgets                57.0s"
     ]
    },
    {
     "name": "stdout",
     "output_type": "stream",
     "text": [
      "\u001b[2K\u001b[1A\u001b[2K\u001b[1A\u001b[2K\u001b[0G[+] 57.5s\r\n",
      "Downloading       ━━━━━━━━━━━━━━━━━━━━━━ 286.6MB                           13.9s\r\n",
      "Extracting  (132) ━━━━━━╸\u001b[33m━━━━━━━━━━━━━━━\u001b[0m      65 ipywidgets                57.1s"
     ]
    },
    {
     "name": "stdout",
     "output_type": "stream",
     "text": [
      "\u001b[2K\u001b[1A\u001b[2K\u001b[1A\u001b[2K\u001b[0G[+] 57.6s\r\n",
      "Downloading       ━━━━━━━━━━━━━━━━━━━━━━ 286.6MB                           13.9s\r\n",
      "Extracting  (132) ━━━━━━╸\u001b[33m━━━━━━━━━━━━━━━\u001b[0m      65 jack                      57.2s"
     ]
    },
    {
     "name": "stdout",
     "output_type": "stream",
     "text": [
      "\u001b[2K\u001b[1A\u001b[2K\u001b[1A\u001b[2K\u001b[0G[+] 57.7s\r\n",
      "Downloading       ━━━━━━━━━━━━━━━━━━━━━━ 286.6MB                           13.9s\r\n",
      "Extracting  (132) ━━━━━━╸\u001b[33m━━━━━━━━━━━━━━━\u001b[0m      65 jack                      57.3s"
     ]
    },
    {
     "name": "stdout",
     "output_type": "stream",
     "text": [
      "\u001b[2K\u001b[1A\u001b[2K\u001b[1A\u001b[2K\u001b[0G[+] 57.8s\r\n",
      "Downloading       ━━━━━━━━━━━━━━━━━━━━━━ 286.6MB                           13.9s\r\n",
      "Extracting  (132) ━━━━━━╸\u001b[33m━━━━━━━━━━━━━━━\u001b[0m      65 jack                      57.4s"
     ]
    },
    {
     "name": "stdout",
     "output_type": "stream",
     "text": [
      "\u001b[2K\u001b[1A\u001b[2K\u001b[1A\u001b[2K\u001b[0G[+] 57.9s\r\n",
      "Downloading       ━━━━━━━━━━━━━━━━━━━━━━ 286.6MB                           13.9s\r\n",
      "Extracting  (132) ━━━━━━╸\u001b[33m━━━━━━━━━━━━━━━\u001b[0m      65 jack                      57.5s"
     ]
    },
    {
     "name": "stdout",
     "output_type": "stream",
     "text": [
      "\u001b[2K\u001b[1A\u001b[2K\u001b[1A\u001b[2K\u001b[0G[+] 58.0s\r\n",
      "Downloading       ━━━━━━━━━━━━━━━━━━━━━━ 286.6MB                           13.9s\r\n",
      "Extracting  (132) ━━━━━━╸\u001b[33m━━━━━━━━━━━━━━━\u001b[0m      65 jedi                      57.6s"
     ]
    },
    {
     "name": "stdout",
     "output_type": "stream",
     "text": [
      "\u001b[2K\u001b[1A\u001b[2K\u001b[1A\u001b[2K\u001b[0G[+] 58.1s\r\n",
      "Downloading       ━━━━━━━━━━━━━━━━━━━━━━ 286.6MB                           13.9s\r\n",
      "Extracting  (132) ━━━━━━╸\u001b[33m━━━━━━━━━━━━━━━\u001b[0m      65 jedi                      57.7s"
     ]
    },
    {
     "name": "stdout",
     "output_type": "stream",
     "text": [
      "\u001b[2K\u001b[1A\u001b[2K\u001b[1A\u001b[2K\u001b[0G[+] 58.2s\r\n",
      "Downloading       ━━━━━━━━━━━━━━━━━━━━━━ 286.6MB                           13.9s\r\n",
      "Extracting  (132) ━━━━━━╸\u001b[33m━━━━━━━━━━━━━━━\u001b[0m      65 jedi                      57.8s"
     ]
    },
    {
     "name": "stdout",
     "output_type": "stream",
     "text": [
      "\u001b[2K\u001b[1A\u001b[2K\u001b[1A\u001b[2K\u001b[0G[+] 58.3s\r\n",
      "Downloading       ━━━━━━━━━━━━━━━━━━━━━━ 286.6MB                           13.9s\r\n",
      "Extracting  (132) ━━━━━━╸\u001b[33m━━━━━━━━━━━━━━━\u001b[0m      65 jedi                      57.9s"
     ]
    },
    {
     "name": "stdout",
     "output_type": "stream",
     "text": [
      "\u001b[2K\u001b[1A\u001b[2K\u001b[1A\u001b[2K\u001b[0G[+] 58.4s\r\n",
      "Downloading       ━━━━━━━━━━━━━━━━━━━━━━ 286.6MB                           13.9s\r\n",
      "Extracting  (132) ━━━━━━╸\u001b[33m━━━━━━━━━━━━━━━\u001b[0m      65 jpeg                      58.0s"
     ]
    },
    {
     "name": "stdout",
     "output_type": "stream",
     "text": [
      "\u001b[2K\u001b[1A\u001b[2K\u001b[1A\u001b[2K\u001b[0G[+] 58.5s\r\n",
      "Downloading       ━━━━━━━━━━━━━━━━━━━━━━ 286.6MB                           13.9s\r\n",
      "Extracting  (132) ━━━━━━╸\u001b[33m━━━━━━━━━━━━━━━\u001b[0m      65 jpeg                      58.1s"
     ]
    },
    {
     "name": "stdout",
     "output_type": "stream",
     "text": [
      "\u001b[2K\u001b[1A\u001b[2K\u001b[1A\u001b[2K\u001b[0G[+] 58.6s\r\n",
      "Downloading       ━━━━━━━━━━━━━━━━━━━━━━ 286.6MB                           13.9s\r\n",
      "Extracting  (132) ━━━━━━╸\u001b[33m━━━━━━━━━━━━━━━\u001b[0m      65 jpeg                      58.2s"
     ]
    },
    {
     "name": "stdout",
     "output_type": "stream",
     "text": [
      "\u001b[2K\u001b[1A\u001b[2K\u001b[1A\u001b[2K\u001b[0G[+] 58.7s\r\n",
      "Downloading       ━━━━━━━━━━━━━━━━━━━━━━ 286.6MB                           13.9s\r\n",
      "Extracting  (132) ━━━━━━╸\u001b[33m━━━━━━━━━━━━━━━\u001b[0m      65 jpeg                      58.3s"
     ]
    },
    {
     "name": "stdout",
     "output_type": "stream",
     "text": [
      "\u001b[2K\u001b[1A\u001b[2K\u001b[1A\u001b[2K\u001b[0G[+] 58.8s\r\n",
      "Downloading       ━━━━━━━━━━━━━━━━━━━━━━ 286.6MB                           13.9s\r\n",
      "Extracting  (132) ━━━━━━╸\u001b[33m━━━━━━━━━━━━━━━\u001b[0m      65 jsonpatch                 58.4s"
     ]
    },
    {
     "name": "stdout",
     "output_type": "stream",
     "text": [
      "\u001b[2K\u001b[1A\u001b[2K\u001b[1A\u001b[2K\u001b[0G[+] 58.9s\r\n",
      "Downloading       ━━━━━━━━━━━━━━━━━━━━━━ 286.6MB                           13.9s\r\n",
      "Extracting  (132) ━━━━━━╸\u001b[33m━━━━━━━━━━━━━━━\u001b[0m      65 jsonpatch                 58.5s"
     ]
    },
    {
     "name": "stdout",
     "output_type": "stream",
     "text": [
      "\u001b[2K\u001b[1A\u001b[2K\u001b[1A\u001b[2K\u001b[0G[+] 59.0s\r\n",
      "Downloading       ━━━━━━━━━━━━━━━━━━━━━━ 286.6MB                           13.9s\r\n",
      "Extracting  (131) ━━━━━━╸\u001b[33m━━━━━━━━━━━━━━━\u001b[0m      66 jsonpatch                 58.6s"
     ]
    },
    {
     "name": "stdout",
     "output_type": "stream",
     "text": [
      "\u001b[2K\u001b[1A\u001b[2K\u001b[1A\u001b[2K\u001b[0G[+] 59.1s\r\n",
      "Downloading       ━━━━━━━━━━━━━━━━━━━━━━ 286.6MB                           13.9s\r\n",
      "Extracting  (131) ━━━━━━╸\u001b[33m━━━━━━━━━━━━━━━\u001b[0m      66 jsonpatch                 58.7s"
     ]
    },
    {
     "name": "stdout",
     "output_type": "stream",
     "text": [
      "\u001b[2K\u001b[1A\u001b[2K\u001b[1A\u001b[2K\u001b[0G[+] 59.2s\r\n",
      "Downloading       ━━━━━━━━━━━━━━━━━━━━━━ 286.6MB                           13.9s\r\n",
      "Extracting  (130) ━━━━━━╸\u001b[33m━━━━━━━━━━━━━━━\u001b[0m      67 jsonpointer               58.8s"
     ]
    },
    {
     "name": "stdout",
     "output_type": "stream",
     "text": [
      "\u001b[2K\u001b[1A\u001b[2K\u001b[1A\u001b[2K\u001b[0G[+] 59.3s\r\n",
      "Downloading       ━━━━━━━━━━━━━━━━━━━━━━ 286.6MB                           13.9s\r\n",
      "Extracting  (130) ━━━━━━╸\u001b[33m━━━━━━━━━━━━━━━\u001b[0m      67 jsonpointer               58.9s"
     ]
    },
    {
     "name": "stdout",
     "output_type": "stream",
     "text": [
      "\u001b[2K\u001b[1A\u001b[2K\u001b[1A\u001b[2K\u001b[0G[+] 59.4s\r\n",
      "Downloading       ━━━━━━━━━━━━━━━━━━━━━━ 286.6MB                           13.9s\r\n",
      "Extracting  (130) ━━━━━━╸\u001b[33m━━━━━━━━━━━━━━━\u001b[0m      67 jsonpointer               59.0s"
     ]
    },
    {
     "name": "stdout",
     "output_type": "stream",
     "text": [
      "\u001b[2K\u001b[1A\u001b[2K\u001b[1A\u001b[2K\u001b[0G[+] 59.5s\r\n",
      "Downloading       ━━━━━━━━━━━━━━━━━━━━━━ 286.6MB                           13.9s\r\n",
      "Extracting  (130) ━━━━━━╸\u001b[33m━━━━━━━━━━━━━━━\u001b[0m      67 jsonpointer               59.1s"
     ]
    },
    {
     "name": "stdout",
     "output_type": "stream",
     "text": [
      "\u001b[2K\u001b[1A\u001b[2K\u001b[1A\u001b[2K\u001b[0G[+] 59.6s\r\n",
      "Downloading       ━━━━━━━━━━━━━━━━━━━━━━ 286.6MB                           13.9s\r\n",
      "Extracting  (130) ━━━━━━╸\u001b[33m━━━━━━━━━━━━━━━\u001b[0m      67 jupyter_client            59.2s"
     ]
    },
    {
     "name": "stdout",
     "output_type": "stream",
     "text": [
      "\u001b[2K\u001b[1A\u001b[2K\u001b[1A\u001b[2K\u001b[0G[+] 59.7s\r\n",
      "Downloading       ━━━━━━━━━━━━━━━━━━━━━━ 286.6MB                           13.9s\r\n",
      "Extracting  (130) ━━━━━━╸\u001b[33m━━━━━━━━━━━━━━━\u001b[0m      67 jupyter_client            59.3s"
     ]
    },
    {
     "name": "stdout",
     "output_type": "stream",
     "text": [
      "\u001b[2K\u001b[1A\u001b[2K\u001b[1A\u001b[2K\u001b[0G[+] 59.8s\r\n",
      "Downloading       ━━━━━━━━━━━━━━━━━━━━━━ 286.6MB                           13.9s\r\n",
      "Extracting  (130) ━━━━━━╸\u001b[33m━━━━━━━━━━━━━━━\u001b[0m      67 jupyter_client            59.4s"
     ]
    },
    {
     "name": "stdout",
     "output_type": "stream",
     "text": [
      "\u001b[2K\u001b[1A\u001b[2K\u001b[1A\u001b[2K\u001b[0G[+] 59.9s\r\n",
      "Downloading       ━━━━━━━━━━━━━━━━━━━━━━ 286.6MB                           13.9s\r\n",
      "Extracting  (130) ━━━━━━╸\u001b[33m━━━━━━━━━━━━━━━\u001b[0m      67 jupyter_client            59.5s"
     ]
    },
    {
     "name": "stdout",
     "output_type": "stream",
     "text": [
      "\u001b[2K\u001b[1A\u001b[2K\u001b[1A\u001b[2K\u001b[0G[+] 1m:0.0s\r\n",
      "Downloading       ━━━━━━━━━━━━━━━━━━━━━━ 286.6MB                           13.9s\r\n",
      "Extracting  (130) ━━━━━━╸\u001b[33m━━━━━━━━━━━━━━━\u001b[0m      67 jupyter_console           59.6s"
     ]
    },
    {
     "name": "stdout",
     "output_type": "stream",
     "text": [
      "\u001b[2K\u001b[1A\u001b[2K\u001b[1A\u001b[2K\u001b[0G[+] 1m:0.1s\r\n",
      "Downloading       ━━━━━━━━━━━━━━━━━━━━━━ 286.6MB                           13.9s\r\n",
      "Extracting  (130) ━━━━━━╸\u001b[33m━━━━━━━━━━━━━━━\u001b[0m      67 jupyter_console           59.7s"
     ]
    },
    {
     "name": "stdout",
     "output_type": "stream",
     "text": [
      "\u001b[2K\u001b[1A\u001b[2K\u001b[1A\u001b[2K\u001b[0G[+] 1m:0.2s\r\n",
      "Downloading       ━━━━━━━━━━━━━━━━━━━━━━ 286.6MB                           13.9s\r\n",
      "Extracting  (130) ━━━━━━╸\u001b[33m━━━━━━━━━━━━━━━\u001b[0m      67 jupyter_console           59.8s"
     ]
    },
    {
     "name": "stdout",
     "output_type": "stream",
     "text": [
      "\u001b[2K\u001b[1A\u001b[2K\u001b[1A\u001b[2K\u001b[0G[+] 1m:0.3s\r\n",
      "Downloading       ━━━━━━━━━━━━━━━━━━━━━━ 286.6MB                           13.9s\r\n",
      "Extracting  (130) ━━━━━━╸\u001b[33m━━━━━━━━━━━━━━━\u001b[0m      67 jupyter_console           59.9s"
     ]
    },
    {
     "name": "stdout",
     "output_type": "stream",
     "text": [
      "\u001b[2K\u001b[1A\u001b[2K\u001b[1A\u001b[2K\u001b[0G[+] 1m:0.4s\r\n",
      "Downloading       ━━━━━━━━━━━━━━━━━━━━━━ 286.6MB                           13.9s\r\n",
      "Extracting  (130) ━━━━━━╸\u001b[33m━━━━━━━━━━━━━━━\u001b[0m      67 jupyter_core              60.0s"
     ]
    },
    {
     "name": "stdout",
     "output_type": "stream",
     "text": [
      "\u001b[2K\u001b[1A\u001b[2K\u001b[1A\u001b[2K\u001b[0G[+] 1m:0.5s\r\n",
      "Downloading       ━━━━━━━━━━━━━━━━━━━━ 286.6MB                             13.9s\r\n",
      "Extracting  (129) ━━━━━╸\u001b[33m━━━━━━━━━━━━━━\u001b[0m      68 jupyter_core              1m:0.1s"
     ]
    },
    {
     "name": "stdout",
     "output_type": "stream",
     "text": [
      "\u001b[2K\u001b[1A\u001b[2K\u001b[1A\u001b[2K\u001b[0G[+] 1m:0.6s\r\n",
      "Downloading       ━━━━━━━━━━━━━━━━━━━━ 286.6MB                             13.9s\r\n",
      "Extracting  (129) ━━━━━╸\u001b[33m━━━━━━━━━━━━━━\u001b[0m      68 jupyter_core              1m:0.2s"
     ]
    },
    {
     "name": "stdout",
     "output_type": "stream",
     "text": [
      "\u001b[2K\u001b[1A\u001b[2K\u001b[1A\u001b[2K\u001b[0G[+] 1m:0.7s\r\n",
      "Downloading       ━━━━━━━━━━━━━━━━━━━━ 286.6MB                             13.9s\r\n",
      "Extracting  (128) ━━━━━━╸\u001b[33m━━━━━━━━━━━━━\u001b[0m      69 jupyter_core              1m:0.3s"
     ]
    },
    {
     "name": "stdout",
     "output_type": "stream",
     "text": [
      "\u001b[2K\u001b[1A\u001b[2K\u001b[1A\u001b[2K\u001b[0G[+] 1m:0.8s\r\n",
      "Downloading       ━━━━━━━━━━━━━━━━━━━━ 286.6MB                             13.9s\r\n",
      "Extracting  (128) ━━━━━━╸\u001b[33m━━━━━━━━━━━━━\u001b[0m      69 jupyter_server            1m:0.4s"
     ]
    },
    {
     "name": "stdout",
     "output_type": "stream",
     "text": [
      "\u001b[2K\u001b[1A\u001b[2K\u001b[1A\u001b[2K\u001b[0G[+] 1m:0.9s\r\n",
      "Downloading       ━━━━━━━━━━━━━━━━━━━━ 286.6MB                             13.9s\r\n",
      "Extracting  (128) ━━━━━━╸\u001b[33m━━━━━━━━━━━━━\u001b[0m      69 jupyter_server            1m:0.5s"
     ]
    },
    {
     "name": "stdout",
     "output_type": "stream",
     "text": [
      "\u001b[2K\u001b[1A\u001b[2K\u001b[1A\u001b[2K\u001b[0G[+] 1m:1.0s\r\n",
      "Downloading       ━━━━━━━━━━━━━━━━━━━━ 286.6MB                             13.9s\r\n",
      "Extracting  (128) ━━━━━━╸\u001b[33m━━━━━━━━━━━━━\u001b[0m      69 jupyter_server            1m:0.6s"
     ]
    },
    {
     "name": "stdout",
     "output_type": "stream",
     "text": [
      "\u001b[2K\u001b[1A\u001b[2K\u001b[1A\u001b[2K\u001b[0G[+] 1m:1.1s\r\n",
      "Downloading       ━━━━━━━━━━━━━━━━━━━━ 286.6MB                             13.9s\r\n",
      "Extracting  (128) ━━━━━━╸\u001b[33m━━━━━━━━━━━━━\u001b[0m      69 jupyter_server            1m:0.7s"
     ]
    },
    {
     "name": "stdout",
     "output_type": "stream",
     "text": [
      "\u001b[2K\u001b[1A\u001b[2K\u001b[1A\u001b[2K\u001b[0G[+] 1m:1.2s\r\n",
      "Downloading       ━━━━━━━━━━━━━━━━━━━━ 286.6MB                             13.9s\r\n",
      "Extracting  (128) ━━━━━━╸\u001b[33m━━━━━━━━━━━━━\u001b[0m      69 jupyterlab_widgets        1m:0.8s"
     ]
    },
    {
     "name": "stdout",
     "output_type": "stream",
     "text": [
      "\u001b[2K\u001b[1A\u001b[2K\u001b[1A\u001b[2K\u001b[0G[+] 1m:1.3s\r\n",
      "Downloading       ━━━━━━━━━━━━━━━━━━━━ 286.6MB                             13.9s\r\n",
      "Extracting  (128) ━━━━━━╸\u001b[33m━━━━━━━━━━━━━\u001b[0m      69 jupyterlab_widgets        1m:0.9s"
     ]
    },
    {
     "name": "stdout",
     "output_type": "stream",
     "text": [
      "\u001b[2K\u001b[1A\u001b[2K\u001b[1A\u001b[2K\u001b[0G[+] 1m:1.4s\r\n",
      "Downloading       ━━━━━━━━━━━━━━━━━━━━ 286.6MB                             13.9s\r\n",
      "Extracting  (128) ━━━━━━╸\u001b[33m━━━━━━━━━━━━━\u001b[0m      69 jupyterlab_widgets        1m:1.0s"
     ]
    },
    {
     "name": "stdout",
     "output_type": "stream",
     "text": [
      "\u001b[2K\u001b[1A\u001b[2K\u001b[1A\u001b[2K\u001b[0G[+] 1m:1.5s\r\n",
      "Downloading       ━━━━━━━━━━━━━━━━━━━━ 286.6MB                             13.9s\r\n",
      "Extracting  (128) ━━━━━━╸\u001b[33m━━━━━━━━━━━━━\u001b[0m      69 jupyterlab_widgets        1m:1.1s"
     ]
    },
    {
     "name": "stdout",
     "output_type": "stream",
     "text": [
      "\u001b[2K\u001b[1A\u001b[2K\u001b[1A\u001b[2K\u001b[0G[+] 1m:1.6s\r\n",
      "Downloading       ━━━━━━━━━━━━━━━━━━━━ 286.6MB                             13.9s\r\n",
      "Extracting  (128) ━━━━━━╸\u001b[33m━━━━━━━━━━━━━\u001b[0m      69 keyutils                  1m:1.2s"
     ]
    },
    {
     "name": "stdout",
     "output_type": "stream",
     "text": [
      "\u001b[2K\u001b[1A\u001b[2K\u001b[1A\u001b[2K\u001b[0G[+] 1m:1.7s\r\n",
      "Downloading       ━━━━━━━━━━━━━━━━━━━━ 286.6MB                             13.9s\r\n",
      "Extracting  (128) ━━━━━━╸\u001b[33m━━━━━━━━━━━━━\u001b[0m      69 keyutils                  1m:1.3s"
     ]
    },
    {
     "name": "stdout",
     "output_type": "stream",
     "text": [
      "\u001b[2K\u001b[1A\u001b[2K\u001b[1A\u001b[2K\u001b[0G[+] 1m:1.8s\r\n",
      "Downloading       ━━━━━━━━━━━━━━━━━━━━ 286.6MB                             13.9s\r\n",
      "Extracting  (128) ━━━━━━╸\u001b[33m━━━━━━━━━━━━━\u001b[0m      69 keyutils                  1m:1.4s"
     ]
    },
    {
     "name": "stdout",
     "output_type": "stream",
     "text": [
      "\u001b[2K\u001b[1A\u001b[2K\u001b[1A\u001b[2K\u001b[0G[+] 1m:1.9s\r\n",
      "Downloading       ━━━━━━━━━━━━━━━━━━━━ 286.6MB                             13.9s\r\n",
      "Extracting  (127) ━━━━━━╸\u001b[33m━━━━━━━━━━━━━\u001b[0m      70 keyutils                  1m:1.5s"
     ]
    },
    {
     "name": "stdout",
     "output_type": "stream",
     "text": [
      "\u001b[2K\u001b[1A\u001b[2K\u001b[1A\u001b[2K\u001b[0G[+] 1m:2.0s\r\n",
      "Downloading       ━━━━━━━━━━━━━━━━━━━━ 286.6MB                             13.9s\r\n",
      "Extracting  (127) ━━━━━━╸\u001b[33m━━━━━━━━━━━━━\u001b[0m      70 lame                      1m:1.6s"
     ]
    },
    {
     "name": "stdout",
     "output_type": "stream",
     "text": [
      "\u001b[2K\u001b[1A\u001b[2K\u001b[1A\u001b[2K\u001b[0G[+] 1m:2.1s\r\n",
      "Downloading       ━━━━━━━━━━━━━━━━━━━━ 286.6MB                             13.9s\r\n",
      "Extracting  (127) ━━━━━━╸\u001b[33m━━━━━━━━━━━━━\u001b[0m      70 lame                      1m:1.7s"
     ]
    },
    {
     "name": "stdout",
     "output_type": "stream",
     "text": [
      "\u001b[2K\u001b[1A\u001b[2K\u001b[1A\u001b[2K\u001b[0G[+] 1m:2.2s\r\n",
      "Downloading       ━━━━━━━━━━━━━━━━━━━━ 286.6MB                             13.9s\r\n",
      "Extracting  (126) ━━━━━━╸\u001b[33m━━━━━━━━━━━━━\u001b[0m      71 lame                      1m:1.8s"
     ]
    },
    {
     "name": "stdout",
     "output_type": "stream",
     "text": [
      "\u001b[2K\u001b[1A\u001b[2K\u001b[1A\u001b[2K\u001b[0G[+] 1m:2.3s\r\n",
      "Downloading       ━━━━━━━━━━━━━━━━━━━━ 286.6MB                             13.9s\r\n",
      "Extracting  (126) ━━━━━━╸\u001b[33m━━━━━━━━━━━━━\u001b[0m      71 lame                      1m:1.9s"
     ]
    },
    {
     "name": "stdout",
     "output_type": "stream",
     "text": [
      "\u001b[2K\u001b[1A\u001b[2K\u001b[1A\u001b[2K\u001b[0G[+] 1m:2.4s\r\n",
      "Downloading       ━━━━━━━━━━━━━━━━━━━━ 286.6MB                             13.9s\r\n",
      "Extracting  (126) ━━━━━━╸\u001b[33m━━━━━━━━━━━━━\u001b[0m      71 ld_impl_linux-64          1m:2.0s"
     ]
    },
    {
     "name": "stdout",
     "output_type": "stream",
     "text": [
      "\u001b[2K\u001b[1A\u001b[2K\u001b[1A\u001b[2K\u001b[0G[+] 1m:2.5s\r\n",
      "Downloading       ━━━━━━━━━━━━━━━━━━━━ 286.6MB                             13.9s\r\n",
      "Extracting  (126) ━━━━━━╸\u001b[33m━━━━━━━━━━━━━\u001b[0m      71 ld_impl_linux-64          1m:2.1s"
     ]
    },
    {
     "name": "stdout",
     "output_type": "stream",
     "text": [
      "\u001b[2K\u001b[1A\u001b[2K\u001b[1A\u001b[2K\u001b[0G[+] 1m:2.6s\r\n",
      "Downloading       ━━━━━━━━━━━━━━━━━━━━ 286.6MB                             13.9s\r\n",
      "Extracting  (126) ━━━━━━╸\u001b[33m━━━━━━━━━━━━━\u001b[0m      71 ld_impl_linux-64          1m:2.2s"
     ]
    },
    {
     "name": "stdout",
     "output_type": "stream",
     "text": [
      "\u001b[2K\u001b[1A\u001b[2K\u001b[1A\u001b[2K\u001b[0G[+] 1m:2.7s\r\n",
      "Downloading       ━━━━━━━━━━━━━━━━━━━━ 286.6MB                             13.9s\r\n",
      "Extracting  (126) ━━━━━━╸\u001b[33m━━━━━━━━━━━━━\u001b[0m      71 ld_impl_linux-64          1m:2.3s"
     ]
    },
    {
     "name": "stdout",
     "output_type": "stream",
     "text": [
      "\u001b[2K\u001b[1A\u001b[2K\u001b[1A\u001b[2K\u001b[0G[+] 1m:2.8s\r\n",
      "Downloading       ━━━━━━━━━━━━━━━━━━━━ 286.6MB                             13.9s\r\n",
      "Extracting  (126) ━━━━━━╸\u001b[33m━━━━━━━━━━━━━\u001b[0m      71 libarchive                1m:2.4s"
     ]
    },
    {
     "name": "stdout",
     "output_type": "stream",
     "text": [
      "\u001b[2K\u001b[1A\u001b[2K\u001b[1A\u001b[2K\u001b[0G[+] 1m:2.9s\r\n",
      "Downloading       ━━━━━━━━━━━━━━━━━━━━ 286.6MB                             13.9s\r\n",
      "Extracting  (126) ━━━━━━╸\u001b[33m━━━━━━━━━━━━━\u001b[0m      71 libarchive                1m:2.5s"
     ]
    },
    {
     "name": "stdout",
     "output_type": "stream",
     "text": [
      "\u001b[2K\u001b[1A\u001b[2K\u001b[1A\u001b[2K\u001b[0G[+] 1m:3.0s\r\n",
      "Downloading       ━━━━━━━━━━━━━━━━━━━━ 286.6MB                             13.9s\r\n",
      "Extracting  (126) ━━━━━━╸\u001b[33m━━━━━━━━━━━━━\u001b[0m      71 libarchive                1m:2.6s"
     ]
    },
    {
     "name": "stdout",
     "output_type": "stream",
     "text": [
      "\u001b[2K\u001b[1A\u001b[2K\u001b[1A\u001b[2K\u001b[0G[+] 1m:3.1s\r\n",
      "Downloading       ━━━━━━━━━━━━━━━━━━━━ 286.6MB                             13.9s\r\n",
      "Extracting  (126) ━━━━━━╸\u001b[33m━━━━━━━━━━━━━\u001b[0m      71 libarchive                1m:2.7s"
     ]
    },
    {
     "name": "stdout",
     "output_type": "stream",
     "text": [
      "\u001b[2K\u001b[1A\u001b[2K\u001b[1A\u001b[2K\u001b[0G[+] 1m:3.2s\r\n",
      "Downloading       ━━━━━━━━━━━━━━━━━━━━ 286.6MB                             13.9s\r\n",
      "Extracting  (126) ━━━━━━╸\u001b[33m━━━━━━━━━━━━━\u001b[0m      71 libcap                    1m:2.8s"
     ]
    },
    {
     "name": "stdout",
     "output_type": "stream",
     "text": [
      "\u001b[2K\u001b[1A\u001b[2K\u001b[1A\u001b[2K\u001b[0G[+] 1m:3.3s\r\n",
      "Downloading       ━━━━━━━━━━━━━━━━━━━━ 286.6MB                             13.9s\r\n",
      "Extracting  (126) ━━━━━━╸\u001b[33m━━━━━━━━━━━━━\u001b[0m      71 libcap                    1m:2.9s"
     ]
    },
    {
     "name": "stdout",
     "output_type": "stream",
     "text": [
      "\u001b[2K\u001b[1A\u001b[2K\u001b[1A\u001b[2K\u001b[0G[+] 1m:3.4s\r\n",
      "Downloading       ━━━━━━━━━━━━━━━━━━━━ 286.6MB                             13.9s\r\n",
      "Extracting  (125) ━━━━━━╸\u001b[33m━━━━━━━━━━━━━\u001b[0m      72 libcap                    1m:3.0s"
     ]
    },
    {
     "name": "stdout",
     "output_type": "stream",
     "text": [
      "\u001b[2K\u001b[1A\u001b[2K\u001b[1A\u001b[2K\u001b[0G[+] 1m:3.5s\r\n",
      "Downloading       ━━━━━━━━━━━━━━━━━━━━ 286.6MB                             13.9s\r\n",
      "Extracting  (125) ━━━━━━╸\u001b[33m━━━━━━━━━━━━━\u001b[0m      72 libcap                    1m:3.1s"
     ]
    },
    {
     "name": "stdout",
     "output_type": "stream",
     "text": [
      "\u001b[2K\u001b[1A\u001b[2K\u001b[1A\u001b[2K\u001b[0G[+] 1m:3.6s\r\n",
      "Downloading       ━━━━━━━━━━━━━━━━━━━━ 286.6MB                             13.9s\r\n"
     ]
    },
    {
     "name": "stdout",
     "output_type": "stream",
     "text": [
      "Extracting  (124) ━━━━━━╸\u001b[33m━━━━━━━━━━━━━\u001b[0m      73 libclang                  1m:3.2s"
     ]
    },
    {
     "name": "stdout",
     "output_type": "stream",
     "text": [
      "\u001b[2K\u001b[1A\u001b[2K\u001b[1A\u001b[2K\u001b[0G[+] 1m:3.7s\r\n",
      "Downloading       ━━━━━━━━━━━━━━━━━━━━ 286.6MB                             13.9s\r\n",
      "Extracting  (124) ━━━━━━╸\u001b[33m━━━━━━━━━━━━━\u001b[0m      73 libclang                  1m:3.3s"
     ]
    },
    {
     "name": "stdout",
     "output_type": "stream",
     "text": [
      "\u001b[2K\u001b[1A\u001b[2K\u001b[1A\u001b[2K\u001b[0G[+] 1m:3.8s\r\n",
      "Downloading       ━━━━━━━━━━━━━━━━━━━━ 286.6MB                             13.9s\r\n",
      "Extracting  (124) ━━━━━━╸\u001b[33m━━━━━━━━━━━━━\u001b[0m      73 libclang                  1m:3.4s"
     ]
    },
    {
     "name": "stdout",
     "output_type": "stream",
     "text": [
      "\u001b[2K\u001b[1A\u001b[2K\u001b[1A\u001b[2K\u001b[0G[+] 1m:3.9s\r\n",
      "Downloading       ━━━━━━━━━━━━━━━━━━━━ 286.6MB                             13.9s\r\n",
      "Extracting  (124) ━━━━━━╸\u001b[33m━━━━━━━━━━━━━\u001b[0m      73 libclang                  1m:3.5s"
     ]
    },
    {
     "name": "stdout",
     "output_type": "stream",
     "text": [
      "\u001b[2K\u001b[1A\u001b[2K\u001b[1A\u001b[2K\u001b[0G[+] 1m:4.0s\r\n",
      "Downloading       ━━━━━━━━━━━━━━━━━━━━ 286.6MB                             13.9s\r\n",
      "Extracting  (124) ━━━━━━╸\u001b[33m━━━━━━━━━━━━━\u001b[0m      73 libclang13                1m:3.6s"
     ]
    },
    {
     "name": "stdout",
     "output_type": "stream",
     "text": [
      "\u001b[2K\u001b[1A\u001b[2K\u001b[1A\u001b[2K\u001b[0G[+] 1m:4.1s\r\n",
      "Downloading       ━━━━━━━━━━━━━━━━━━━━ 286.6MB                             13.9s\r\n",
      "Extracting  (124) ━━━━━━╸\u001b[33m━━━━━━━━━━━━━\u001b[0m      73 libclang13                1m:3.7s"
     ]
    },
    {
     "name": "stdout",
     "output_type": "stream",
     "text": [
      "\u001b[2K\u001b[1A\u001b[2K\u001b[1A\u001b[2K\u001b[0G[+] 1m:4.2s\r\n",
      "Downloading       ━━━━━━━━━━━━━━━━━━━━ 286.6MB                             13.9s\r\n",
      "Extracting  (124) ━━━━━━╸\u001b[33m━━━━━━━━━━━━━\u001b[0m      73 libclang13                1m:3.8s"
     ]
    },
    {
     "name": "stdout",
     "output_type": "stream",
     "text": [
      "\u001b[2K\u001b[1A\u001b[2K\u001b[1A\u001b[2K\u001b[0G[+] 1m:4.3s\r\n",
      "Downloading       ━━━━━━━━━━━━━━━━━━━━ 286.6MB                             13.9s\r\n",
      "Extracting  (124) ━━━━━━╸\u001b[33m━━━━━━━━━━━━━\u001b[0m      73 libclang13                1m:3.9s"
     ]
    },
    {
     "name": "stdout",
     "output_type": "stream",
     "text": [
      "\u001b[2K\u001b[1A\u001b[2K\u001b[1A\u001b[2K\u001b[0G[+] 1m:4.4s\r\n",
      "Downloading       ━━━━━━━━━━━━━━━━━━━━ 286.6MB                             13.9s\r\n",
      "Extracting  (124) ━━━━━━╸\u001b[33m━━━━━━━━━━━━━\u001b[0m      73 libcups                   1m:4.0s"
     ]
    },
    {
     "name": "stdout",
     "output_type": "stream",
     "text": [
      "\u001b[2K\u001b[1A\u001b[2K\u001b[1A\u001b[2K\u001b[0G[+] 1m:4.5s\r\n",
      "Downloading       ━━━━━━━━━━━━━━━━━━━━ 286.6MB                             13.9s\r\n",
      "Extracting  (124) ━━━━━━╸\u001b[33m━━━━━━━━━━━━━\u001b[0m      73 libcups                   1m:4.1s"
     ]
    },
    {
     "name": "stdout",
     "output_type": "stream",
     "text": [
      "\u001b[2K\u001b[1A\u001b[2K\u001b[1A\u001b[2K\u001b[0G[+] 1m:4.6s\r\n",
      "Downloading       ━━━━━━━━━━━━━━━━━━━━ 286.6MB                             13.9s\r\n",
      "Extracting  (124) ━━━━━━╸\u001b[33m━━━━━━━━━━━━━\u001b[0m      73 libcups                   1m:4.2s"
     ]
    },
    {
     "name": "stdout",
     "output_type": "stream",
     "text": [
      "\u001b[2K\u001b[1A\u001b[2K\u001b[1A\u001b[2K\u001b[0G[+] 1m:4.7s\r\n",
      "Downloading       ━━━━━━━━━━━━━━━━━━━━ 286.6MB                             13.9s\r\n",
      "Extracting  (124) ━━━━━━╸\u001b[33m━━━━━━━━━━━━━\u001b[0m      73 libcups                   1m:4.3s"
     ]
    },
    {
     "name": "stdout",
     "output_type": "stream",
     "text": [
      "\u001b[2K\u001b[1A\u001b[2K\u001b[1A\u001b[2K\u001b[0G[+] 1m:4.8s\r\n",
      "Downloading       ━━━━━━━━━━━━━━━━━━━━ 286.6MB                             13.9s\r\n",
      "Extracting  (123) ━━━━━━╸\u001b[33m━━━━━━━━━━━━━\u001b[0m      74 libevent                  1m:4.4s"
     ]
    },
    {
     "name": "stdout",
     "output_type": "stream",
     "text": [
      "\u001b[2K\u001b[1A\u001b[2K\u001b[1A\u001b[2K\u001b[0G[+] 1m:4.9s\r\n",
      "Downloading       ━━━━━━━━━━━━━━━━━━━━ 286.6MB                             13.9s\r\n",
      "Extracting  (123) ━━━━━━╸\u001b[33m━━━━━━━━━━━━━\u001b[0m      74 libevent                  1m:4.5s"
     ]
    },
    {
     "name": "stdout",
     "output_type": "stream",
     "text": [
      "\u001b[2K\u001b[1A\u001b[2K\u001b[1A\u001b[2K\u001b[0G[+] 1m:5.0s\r\n",
      "Downloading       ━━━━━━━━━━━━━━━━━━━━ 286.6MB                             13.9s\r\n",
      "Extracting  (123) ━━━━━━╸\u001b[33m━━━━━━━━━━━━━\u001b[0m      74 libevent                  1m:4.6s"
     ]
    },
    {
     "name": "stdout",
     "output_type": "stream",
     "text": [
      "\u001b[2K\u001b[1A\u001b[2K\u001b[1A\u001b[2K\u001b[0G[+] 1m:5.1s\r\n",
      "Downloading       ━━━━━━━━━━━━━━━━━━━━ 286.6MB                             13.9s\r\n",
      "Extracting  (122) ━━━━━━╸\u001b[33m━━━━━━━━━━━━━\u001b[0m      75 libevent                  1m:4.7s"
     ]
    },
    {
     "name": "stdout",
     "output_type": "stream",
     "text": [
      "\u001b[2K\u001b[1A\u001b[2K\u001b[1A\u001b[2K\u001b[0G[+] 1m:5.2s\r\n",
      "Downloading       ━━━━━━━━━━━━━━━━━━━━ 286.6MB                             13.9s\r\n",
      "Extracting  (122) ━━━━━━╸\u001b[33m━━━━━━━━━━━━━\u001b[0m      75 libgcc-ng                 1m:4.8s"
     ]
    },
    {
     "name": "stdout",
     "output_type": "stream",
     "text": [
      "\u001b[2K\u001b[1A\u001b[2K\u001b[1A\u001b[2K\u001b[0G[+] 1m:5.3s\r\n",
      "Downloading       ━━━━━━━━━━━━━━━━━━━━ 286.6MB                             13.9s\r\n",
      "Extracting  (122) ━━━━━━╸\u001b[33m━━━━━━━━━━━━━\u001b[0m      75 libgcc-ng                 1m:4.9s"
     ]
    },
    {
     "name": "stdout",
     "output_type": "stream",
     "text": [
      "\u001b[2K\u001b[1A\u001b[2K\u001b[1A\u001b[2K\u001b[0G[+] 1m:5.4s\r\n",
      "Downloading       ━━━━━━━━━━━━━━━━━━━━ 286.6MB                             13.9s\r\n",
      "Extracting  (122) ━━━━━━╸\u001b[33m━━━━━━━━━━━━━\u001b[0m      75 libgcc-ng                 1m:5.0s"
     ]
    },
    {
     "name": "stdout",
     "output_type": "stream",
     "text": [
      "\u001b[2K\u001b[1A\u001b[2K\u001b[1A\u001b[2K\u001b[0G[+] 1m:5.5s\r\n",
      "Downloading       ━━━━━━━━━━━━━━━━━━━━ 286.6MB                             13.9s\r\n",
      "Extracting  (122) ━━━━━━╸\u001b[33m━━━━━━━━━━━━━\u001b[0m      75 libgcc-ng                 1m:5.1s"
     ]
    },
    {
     "name": "stdout",
     "output_type": "stream",
     "text": [
      "\u001b[2K\u001b[1A\u001b[2K\u001b[1A\u001b[2K\u001b[0G[+] 1m:5.6s\r\n",
      "Downloading       ━━━━━━━━━━━━━━━━━━━━ 286.6MB                             13.9s\r\n",
      "Extracting  (122) ━━━━━━╸\u001b[33m━━━━━━━━━━━━━\u001b[0m      75 libgfortran-ng            1m:5.2s"
     ]
    },
    {
     "name": "stdout",
     "output_type": "stream",
     "text": [
      "\u001b[2K\u001b[1A\u001b[2K\u001b[1A\u001b[2K\u001b[0G[+] 1m:5.7s\r\n",
      "Downloading       ━━━━━━━━━━━━━━━━━━━━ 286.6MB                             13.9s\r\n",
      "Extracting  (122) ━━━━━━╸\u001b[33m━━━━━━━━━━━━━\u001b[0m      75 libgfortran-ng            1m:5.3s"
     ]
    },
    {
     "name": "stdout",
     "output_type": "stream",
     "text": [
      "\u001b[2K\u001b[1A\u001b[2K\u001b[1A\u001b[2K\u001b[0G[+] 1m:5.8s\r\n",
      "Downloading       ━━━━━━━━━━━━━━━━━━━━ 286.6MB                             13.9s\r\n",
      "Extracting  (122) ━━━━━━╸\u001b[33m━━━━━━━━━━━━━\u001b[0m      75 libgfortran-ng            1m:5.4s"
     ]
    },
    {
     "name": "stdout",
     "output_type": "stream",
     "text": [
      "\u001b[2K\u001b[1A\u001b[2K\u001b[1A\u001b[2K\u001b[0G[+] 1m:5.9s\r\n",
      "Downloading       ━━━━━━━━━━━━━━━━━━━━ 286.6MB                             13.9s\r\n",
      "Extracting  (122) ━━━━━━╸\u001b[33m━━━━━━━━━━━━━\u001b[0m      75 libgfortran-ng            1m:5.5s"
     ]
    },
    {
     "name": "stdout",
     "output_type": "stream",
     "text": [
      "\u001b[2K\u001b[1A\u001b[2K\u001b[1A\u001b[2K\u001b[0G[+] 1m:6.0s\r\n",
      "Downloading       ━━━━━━━━━━━━━━━━━━━━ 286.6MB                             13.9s\r\n",
      "Extracting  (122) ━━━━━━╸\u001b[33m━━━━━━━━━━━━━\u001b[0m      75 libgpg-error              1m:5.6s"
     ]
    },
    {
     "name": "stdout",
     "output_type": "stream",
     "text": [
      "\u001b[2K\u001b[1A\u001b[2K\u001b[1A\u001b[2K\u001b[0G[+] 1m:6.1s\r\n",
      "Downloading       ━━━━━━━━━━━━━━━━━━━━ 286.6MB                             13.9s\r\n",
      "Extracting  (122) ━━━━━━╸\u001b[33m━━━━━━━━━━━━━\u001b[0m      75 libgpg-error              1m:5.7s"
     ]
    },
    {
     "name": "stdout",
     "output_type": "stream",
     "text": [
      "\u001b[2K\u001b[1A\u001b[2K\u001b[1A\u001b[2K\u001b[0G[+] 1m:6.2s\r\n",
      "Downloading       ━━━━━━━━━━━━━━━━━━━━ 286.6MB                             13.9s\r\n",
      "Extracting  (122) ━━━━━━╸\u001b[33m━━━━━━━━━━━━━\u001b[0m      75 libgpg-error              1m:5.8s"
     ]
    },
    {
     "name": "stdout",
     "output_type": "stream",
     "text": [
      "\u001b[2K\u001b[1A\u001b[2K\u001b[1A\u001b[2K\u001b[0G[+] 1m:6.3s\r\n",
      "Downloading       ━━━━━━━━━━━━━━━━━━━━ 286.6MB                             13.9s\r\n",
      "Extracting  (122) ━━━━━━╸\u001b[33m━━━━━━━━━━━━━\u001b[0m      75 libgpg-error              1m:5.9s"
     ]
    },
    {
     "name": "stdout",
     "output_type": "stream",
     "text": [
      "\u001b[2K\u001b[1A\u001b[2K\u001b[1A\u001b[2K\u001b[0G[+] 1m:6.4s\r\n",
      "Downloading       ━━━━━━━━━━━━━━━━━━━━ 286.6MB                             13.9s\r\n",
      "Extracting  (121) ━━━━━━╸\u001b[33m━━━━━━━━━━━━━\u001b[0m      76 libmamba                  1m:6.0s"
     ]
    },
    {
     "name": "stdout",
     "output_type": "stream",
     "text": [
      "\u001b[2K\u001b[1A\u001b[2K\u001b[1A\u001b[2K\u001b[0G[+] 1m:6.5s\r\n",
      "Downloading       ━━━━━━━━━━━━━━━━━━━━ 286.6MB                             13.9s\r\n",
      "Extracting  (120) ━━━━━━╸\u001b[33m━━━━━━━━━━━━━\u001b[0m      77 libmamba                  1m:6.1s"
     ]
    },
    {
     "name": "stdout",
     "output_type": "stream",
     "text": [
      "\u001b[2K\u001b[1A\u001b[2K\u001b[1A\u001b[2K\u001b[0G[+] 1m:6.6s\r\n",
      "Downloading       ━━━━━━━━━━━━━━━━━━━━ 286.6MB                             13.9s\r\n",
      "Extracting  (120) ━━━━━━╸\u001b[33m━━━━━━━━━━━━━\u001b[0m      77 libmamba                  1m:6.2s"
     ]
    },
    {
     "name": "stdout",
     "output_type": "stream",
     "text": [
      "\u001b[2K\u001b[1A\u001b[2K\u001b[1A\u001b[2K\u001b[0G[+] 1m:6.7s\r\n",
      "Downloading       ━━━━━━━━━━━━━━━━━━━━ 286.6MB                             13.9s\r\n",
      "Extracting  (120) ━━━━━━╸\u001b[33m━━━━━━━━━━━━━\u001b[0m      77 libmamba                  1m:6.3s"
     ]
    },
    {
     "name": "stdout",
     "output_type": "stream",
     "text": [
      "\u001b[2K\u001b[1A\u001b[2K\u001b[1A\u001b[2K\u001b[0G[+] 1m:6.8s\r\n",
      "Downloading       ━━━━━━━━━━━━━━━━━━━━ 286.6MB                             13.9s\r\n",
      "Extracting  (120) ━━━━━━╸\u001b[33m━━━━━━━━━━━━━\u001b[0m      77 libmambapy                1m:6.4s"
     ]
    },
    {
     "name": "stdout",
     "output_type": "stream",
     "text": [
      "\u001b[2K\u001b[1A\u001b[2K\u001b[1A\u001b[2K\u001b[0G[+] 1m:6.9s\r\n",
      "Downloading       ━━━━━━━━━━━━━━━━━━━━ 286.6MB                             13.9s\r\n",
      "Extracting  (120) ━━━━━━╸\u001b[33m━━━━━━━━━━━━━\u001b[0m      77 libmambapy                1m:6.5s"
     ]
    },
    {
     "name": "stdout",
     "output_type": "stream",
     "text": [
      "\u001b[2K\u001b[1A\u001b[2K\u001b[1A\u001b[2K\u001b[0G[+] 1m:7.0s\r\n",
      "Downloading       ━━━━━━━━━━━━━━━━━━━━ 286.6MB                             13.9s\r\n",
      "Extracting  (120) ━━━━━━╸\u001b[33m━━━━━━━━━━━━━\u001b[0m      77 libmambapy                1m:6.6s"
     ]
    },
    {
     "name": "stdout",
     "output_type": "stream",
     "text": [
      "\u001b[2K\u001b[1A\u001b[2K\u001b[1A\u001b[2K\u001b[0G[+] 1m:7.1s\r\n",
      "Downloading       ━━━━━━━━━━━━━━━━━━━━ 286.6MB                             13.9s\r\n",
      "Extracting  (120) ━━━━━━╸\u001b[33m━━━━━━━━━━━━━\u001b[0m      77 libmambapy                1m:6.7s"
     ]
    },
    {
     "name": "stdout",
     "output_type": "stream",
     "text": [
      "\u001b[2K\u001b[1A\u001b[2K\u001b[1A\u001b[2K\u001b[0G[+] 1m:7.2s\r\n",
      "Downloading       ━━━━━━━━━━━━━━━━━━━━ 286.6MB                             13.9s\r\n",
      "Extracting  (120) ━━━━━━╸\u001b[33m━━━━━━━━━━━━━\u001b[0m      77 libnghttp2                1m:6.8s"
     ]
    },
    {
     "name": "stdout",
     "output_type": "stream",
     "text": [
      "\u001b[2K\u001b[1A\u001b[2K\u001b[1A\u001b[2K\u001b[0G[+] 1m:7.3s\r\n",
      "Downloading       ━━━━━━━━━━━━━━━━━━━━ 286.6MB                             13.9s\r\n",
      "Extracting  (120) ━━━━━━╸\u001b[33m━━━━━━━━━━━━━\u001b[0m      77 libnghttp2                1m:6.9s"
     ]
    },
    {
     "name": "stdout",
     "output_type": "stream",
     "text": [
      "\u001b[2K\u001b[1A\u001b[2K\u001b[1A\u001b[2K\u001b[0G[+] 1m:7.4s\r\n",
      "Downloading       ━━━━━━━━━━━━━━━━━━━━ 286.6MB                             13.9s\r\n",
      "Extracting  (120) ━━━━━━╸\u001b[33m━━━━━━━━━━━━━\u001b[0m      77 libnghttp2                1m:7.0s"
     ]
    },
    {
     "name": "stdout",
     "output_type": "stream",
     "text": [
      "\u001b[2K\u001b[1A\u001b[2K\u001b[1A\u001b[2K\u001b[0G[+] 1m:7.5s\r\n",
      "Downloading       ━━━━━━━━━━━━━━━━━━━━ 286.6MB                             13.9s\r\n",
      "Extracting  (120) ━━━━━━╸\u001b[33m━━━━━━━━━━━━━\u001b[0m      77 libnghttp2                1m:7.1s"
     ]
    },
    {
     "name": "stdout",
     "output_type": "stream",
     "text": [
      "\u001b[2K\u001b[1A\u001b[2K\u001b[1A\u001b[2K\u001b[0G[+] 1m:7.6s\r\n",
      "Downloading       ━━━━━━━━━━━━━━━━━━━━ 286.6MB                             13.9s\r\n",
      "Extracting  (120) ━━━━━━╸\u001b[33m━━━━━━━━━━━━━\u001b[0m      77 libnsl                    1m:7.2s"
     ]
    },
    {
     "name": "stdout",
     "output_type": "stream",
     "text": [
      "\u001b[2K\u001b[1A\u001b[2K\u001b[1A\u001b[2K\u001b[0G[+] 1m:7.7s\r\n",
      "Downloading       ━━━━━━━━━━━━━━━━━━━━ 286.6MB                             13.9s\r\n",
      "Extracting  (120) ━━━━━━╸\u001b[33m━━━━━━━━━━━━━\u001b[0m      77 libnsl                    1m:7.3s"
     ]
    },
    {
     "name": "stdout",
     "output_type": "stream",
     "text": [
      "\u001b[2K\u001b[1A\u001b[2K\u001b[1A\u001b[2K\u001b[0G[+] 1m:7.8s\r\n",
      "Downloading       ━━━━━━━━━━━━━━━━━━━━ 286.6MB                             13.9s\r\n",
      "Extracting  (120) ━━━━━━╸\u001b[33m━━━━━━━━━━━━━\u001b[0m      77 libnsl                    1m:7.4s"
     ]
    },
    {
     "name": "stdout",
     "output_type": "stream",
     "text": [
      "\u001b[2K\u001b[1A\u001b[2K\u001b[1A\u001b[2K\u001b[0G[+] 1m:7.9s\r\n",
      "Downloading       ━━━━━━━━━━━━━━━━━━━━ 286.6MB                             13.9s\r\n",
      "Extracting  (118) ━━━━━━━╸\u001b[33m━━━━━━━━━━━━\u001b[0m      79 libnsl                    1m:7.5s"
     ]
    },
    {
     "name": "stdout",
     "output_type": "stream",
     "text": [
      "\u001b[2K\u001b[1A\u001b[2K\u001b[1A\u001b[2K\u001b[0G[+] 1m:8.0s\r\n",
      "Downloading       ━━━━━━━━━━━━━━━━━━━━ 286.6MB                             13.9s\r\n",
      "Extracting  (118) ━━━━━━━╸\u001b[33m━━━━━━━━━━━━\u001b[0m      79 libpq                     1m:7.6s"
     ]
    },
    {
     "name": "stdout",
     "output_type": "stream",
     "text": [
      "\u001b[2K\u001b[1A\u001b[2K\u001b[1A\u001b[2K\u001b[0G[+] 1m:8.1s\r\n",
      "Downloading       ━━━━━━━━━━━━━━━━━━━━ 286.6MB                             13.9s\r\n",
      "Extracting  (118) ━━━━━━━╸\u001b[33m━━━━━━━━━━━━\u001b[0m      79 libpq                     1m:7.7s"
     ]
    },
    {
     "name": "stdout",
     "output_type": "stream",
     "text": [
      "\u001b[2K\u001b[1A\u001b[2K\u001b[1A\u001b[2K\u001b[0G[+] 1m:8.2s\r\n",
      "Downloading       ━━━━━━━━━━━━━━━━━━━━ 286.6MB                             13.9s\r\n",
      "Extracting  (118) ━━━━━━━╸\u001b[33m━━━━━━━━━━━━\u001b[0m      79 libpq                     1m:7.8s"
     ]
    },
    {
     "name": "stdout",
     "output_type": "stream",
     "text": [
      "\u001b[2K\u001b[1A\u001b[2K\u001b[1A\u001b[2K\u001b[0G[+] 1m:8.3s\r\n",
      "Downloading       ━━━━━━━━━━━━━━━━━━━━ 286.6MB                             13.9s\r\n"
     ]
    },
    {
     "name": "stdout",
     "output_type": "stream",
     "text": [
      "Extracting  (118) ━━━━━━━╸\u001b[33m━━━━━━━━━━━━\u001b[0m      79 libpq                     1m:7.9s"
     ]
    },
    {
     "name": "stdout",
     "output_type": "stream",
     "text": [
      "\u001b[2K\u001b[1A\u001b[2K\u001b[1A\u001b[2K\u001b[0G[+] 1m:8.4s\r\n",
      "Downloading       ━━━━━━━━━━━━━━━━━━━━ 286.6MB                             13.9s\r\n",
      "Extracting  (118) ━━━━━━━╸\u001b[33m━━━━━━━━━━━━\u001b[0m      79 libsndfile                1m:8.0s"
     ]
    },
    {
     "name": "stdout",
     "output_type": "stream",
     "text": [
      "\u001b[2K\u001b[1A\u001b[2K\u001b[1A\u001b[2K\u001b[0G[+] 1m:8.5s\r\n",
      "Downloading       ━━━━━━━━━━━━━━━━━━━━ 286.6MB                             13.9s\r\n",
      "Extracting  (118) ━━━━━━━╸\u001b[33m━━━━━━━━━━━━\u001b[0m      79 libsndfile                1m:8.1s"
     ]
    },
    {
     "name": "stdout",
     "output_type": "stream",
     "text": [
      "\u001b[2K\u001b[1A\u001b[2K\u001b[1A\u001b[2K\u001b[0G[+] 1m:8.6s\r\n",
      "Downloading       ━━━━━━━━━━━━━━━━━━━━ 286.6MB                             13.9s\r\n",
      "Extracting  (118) ━━━━━━━╸\u001b[33m━━━━━━━━━━━━\u001b[0m      79 libsndfile                1m:8.2s"
     ]
    },
    {
     "name": "stdout",
     "output_type": "stream",
     "text": [
      "\u001b[2K\u001b[1A\u001b[2K\u001b[1A\u001b[2K\u001b[0G[+] 1m:8.7s\r\n",
      "Downloading       ━━━━━━━━━━━━━━━━━━━━ 286.6MB                             13.9s\r\n",
      "Extracting  (118) ━━━━━━━╸\u001b[33m━━━━━━━━━━━━\u001b[0m      79 libsndfile                1m:8.3s"
     ]
    },
    {
     "name": "stdout",
     "output_type": "stream",
     "text": [
      "\u001b[2K\u001b[1A\u001b[2K\u001b[1A\u001b[2K\u001b[0G[+] 1m:8.8s\r\n",
      "Downloading       ━━━━━━━━━━━━━━━━━━━━ 286.6MB                             13.9s\r\n",
      "Extracting  (118) ━━━━━━━╸\u001b[33m━━━━━━━━━━━━\u001b[0m      79 libssh2                   1m:8.4s"
     ]
    },
    {
     "name": "stdout",
     "output_type": "stream",
     "text": [
      "\u001b[2K\u001b[1A\u001b[2K\u001b[1A\u001b[2K\u001b[0G[+] 1m:8.9s\r\n",
      "Downloading       ━━━━━━━━━━━━━━━━━━━━ 286.6MB                             13.9s\r\n",
      "Extracting  (118) ━━━━━━━╸\u001b[33m━━━━━━━━━━━━\u001b[0m      79 libssh2                   1m:8.5s"
     ]
    },
    {
     "name": "stdout",
     "output_type": "stream",
     "text": [
      "\u001b[2K\u001b[1A\u001b[2K\u001b[1A\u001b[2K\u001b[0G[+] 1m:9.0s\r\n",
      "Downloading       ━━━━━━━━━━━━━━━━━━━━ 286.6MB                             13.9s\r\n",
      "Extracting  (118) ━━━━━━━╸\u001b[33m━━━━━━━━━━━━\u001b[0m      79 libssh2                   1m:8.6s"
     ]
    },
    {
     "name": "stdout",
     "output_type": "stream",
     "text": [
      "\u001b[2K\u001b[1A\u001b[2K\u001b[1A\u001b[2K\u001b[0G[+] 1m:9.1s\r\n",
      "Downloading       ━━━━━━━━━━━━━━━━━━━━ 286.6MB                             13.9s\r\n",
      "Extracting  (118) ━━━━━━━╸\u001b[33m━━━━━━━━━━━━\u001b[0m      79 libssh2                   1m:8.7s"
     ]
    },
    {
     "name": "stdout",
     "output_type": "stream",
     "text": [
      "\u001b[2K\u001b[1A\u001b[2K\u001b[1A\u001b[2K\u001b[0G[+] 1m:9.2s\r\n",
      "Downloading       ━━━━━━━━━━━━━━━━━━━━ 286.6MB                             13.9s\r\n",
      "Extracting  (118) ━━━━━━━╸\u001b[33m━━━━━━━━━━━━\u001b[0m      79 libxkbcommon              1m:8.8s"
     ]
    },
    {
     "name": "stdout",
     "output_type": "stream",
     "text": [
      "\u001b[2K\u001b[1A\u001b[2K\u001b[1A\u001b[2K\u001b[0G[+] 1m:9.3s\r\n",
      "Downloading       ━━━━━━━━━━━━━━━━━━━━ 286.6MB                             13.9s\r\n",
      "Extracting  (118) ━━━━━━━╸\u001b[33m━━━━━━━━━━━━\u001b[0m      79 libxkbcommon              1m:8.9s"
     ]
    },
    {
     "name": "stdout",
     "output_type": "stream",
     "text": [
      "\u001b[2K\u001b[1A\u001b[2K\u001b[1A\u001b[2K\u001b[0G[+] 1m:9.4s\r\n",
      "Downloading       ━━━━━━━━━━━━━━━━━━━━ 286.6MB                             13.9s\r\n",
      "Extracting  (116) ━━━━━━━╸\u001b[33m━━━━━━━━━━━━\u001b[0m      81 libxkbcommon              1m:9.0s"
     ]
    },
    {
     "name": "stdout",
     "output_type": "stream",
     "text": [
      "\u001b[2K\u001b[1A\u001b[2K\u001b[1A\u001b[2K\u001b[0G[+] 1m:9.5s\r\n",
      "Downloading       ━━━━━━━━━━━━━━━━━━━━ 286.6MB                             13.9s\r\n",
      "Extracting  (116) ━━━━━━━╸\u001b[33m━━━━━━━━━━━━\u001b[0m      81 libxkbcommon              1m:9.1s"
     ]
    },
    {
     "name": "stdout",
     "output_type": "stream",
     "text": [
      "\u001b[2K\u001b[1A\u001b[2K\u001b[1A\u001b[2K\u001b[0G[+] 1m:9.6s\r\n",
      "Downloading       ━━━━━━━━━━━━━━━━━━━━ 286.6MB                             13.9s\r\n",
      "Extracting  (116) ━━━━━━━╸\u001b[33m━━━━━━━━━━━━\u001b[0m      81 lz4-c                     1m:9.2s"
     ]
    },
    {
     "name": "stdout",
     "output_type": "stream",
     "text": [
      "\u001b[2K\u001b[1A\u001b[2K\u001b[1A\u001b[2K\u001b[0G[+] 1m:9.7s\r\n",
      "Downloading       ━━━━━━━━━━━━━━━━━━━━ 286.6MB                             13.9s\r\n",
      "Extracting  (116) ━━━━━━━╸\u001b[33m━━━━━━━━━━━━\u001b[0m      81 lz4-c                     1m:9.3s"
     ]
    },
    {
     "name": "stdout",
     "output_type": "stream",
     "text": [
      "\u001b[2K\u001b[1A\u001b[2K\u001b[1A\u001b[2K\u001b[0G[+] 1m:9.8s\r\n",
      "Downloading       ━━━━━━━━━━━━━━━━━━━━ 286.6MB                             13.9s\r\n",
      "Extracting  (116) ━━━━━━━╸\u001b[33m━━━━━━━━━━━━\u001b[0m      81 lz4-c                     1m:9.4s"
     ]
    },
    {
     "name": "stdout",
     "output_type": "stream",
     "text": [
      "\u001b[2K\u001b[1A\u001b[2K\u001b[1A\u001b[2K\u001b[0G[+] 1m:9.9s\r\n",
      "Downloading       ━━━━━━━━━━━━━━━━━━━━ 286.6MB                             13.9s\r\n",
      "Extracting  (116) ━━━━━━━╸\u001b[33m━━━━━━━━━━━━\u001b[0m      81 lz4-c                     1m:9.5s"
     ]
    },
    {
     "name": "stdout",
     "output_type": "stream",
     "text": [
      "\u001b[2K\u001b[1A\u001b[2K\u001b[1A\u001b[2K\u001b[0G[+] 1m:10.0s\r\n",
      "Downloading       ━━━━━━━━━━━━━━━━━━━━ 286.6MB                             13.9s\r\n",
      "Extracting  (116) ━━━━━━━╸\u001b[33m━━━━━━━━━━━━\u001b[0m      81 mamba                     1m:9.6s"
     ]
    },
    {
     "name": "stdout",
     "output_type": "stream",
     "text": [
      "\u001b[2K\u001b[1A\u001b[2K\u001b[1A\u001b[2K\u001b[0G[+] 1m:10.1s\r\n",
      "Downloading       ━━━━━━━━━━━━━━━━━━━━ 286.6MB                             13.9s\r\n",
      "Extracting  (116) ━━━━━━━╸\u001b[33m━━━━━━━━━━━━\u001b[0m      81 mamba                     1m:9.7s"
     ]
    },
    {
     "name": "stdout",
     "output_type": "stream",
     "text": [
      "\u001b[2K\u001b[1A\u001b[2K\u001b[1A\u001b[2K\u001b[0G[+] 1m:10.2s\r\n",
      "Downloading       ━━━━━━━━━━━━━━━━━━━━ 286.6MB                             13.9s\r\n"
     ]
    },
    {
     "name": "stdout",
     "output_type": "stream",
     "text": [
      "Extracting  (116) ━━━━━━━╸\u001b[33m━━━━━━━━━━━━\u001b[0m      81 mamba                     1m:9.8s"
     ]
    },
    {
     "name": "stdout",
     "output_type": "stream",
     "text": [
      "\u001b[2K\u001b[1A\u001b[2K\u001b[1A\u001b[2K\u001b[0G[+] 1m:10.3s\r\n",
      "Downloading       ━━━━━━━━━━━━━━━━━━━━ 286.6MB                             13.9s\r\n",
      "Extracting  (116) ━━━━━━━╸\u001b[33m━━━━━━━━━━━━\u001b[0m      81 mamba                     1m:9.9s"
     ]
    },
    {
     "name": "stdout",
     "output_type": "stream",
     "text": [
      "\u001b[2K\u001b[1A\u001b[2K\u001b[1A\u001b[2K\u001b[0G[+] 1m:10.4s\r\n",
      "Downloading       ━━━━━━━━━━━━━━━━━━━ 286.6MB                              13.9s\r\n",
      "Extracting  (116) ━━━━━━╸\u001b[33m━━━━━━━━━━━━\u001b[0m      81 matplotlib-inline         1m:10.0s"
     ]
    },
    {
     "name": "stdout",
     "output_type": "stream",
     "text": [
      "\u001b[2K\u001b[1A\u001b[2K\u001b[1A\u001b[2K\u001b[0G[+] 1m:10.5s\r\n",
      "Downloading       ━━━━━━━━━━━━━━━━━━━ 286.6MB                              13.9s\r\n",
      "Extracting  (116) ━━━━━━╸\u001b[33m━━━━━━━━━━━━\u001b[0m      81 matplotlib-inline         1m:10.1s"
     ]
    },
    {
     "name": "stdout",
     "output_type": "stream",
     "text": [
      "\u001b[2K\u001b[1A\u001b[2K\u001b[1A\u001b[2K\u001b[0G[+] 1m:10.6s\r\n",
      "Downloading       ━━━━━━━━━━━━━━━━━━━ 286.6MB                              13.9s\r\n",
      "Extracting  (116) ━━━━━━╸\u001b[33m━━━━━━━━━━━━\u001b[0m      81 matplotlib-inline         1m:10.2s"
     ]
    },
    {
     "name": "stdout",
     "output_type": "stream",
     "text": [
      "\u001b[2K\u001b[1A\u001b[2K\u001b[1A\u001b[2K\u001b[0G[+] 1m:10.7s\r\n",
      "Downloading       ━━━━━━━━━━━━━━━━━━━ 286.6MB                              13.9s\r\n",
      "Extracting  (116) ━━━━━━╸\u001b[33m━━━━━━━━━━━━\u001b[0m      81 matplotlib-inline         1m:10.3s"
     ]
    },
    {
     "name": "stdout",
     "output_type": "stream",
     "text": [
      "\u001b[2K\u001b[1A\u001b[2K\u001b[1A\u001b[2K\u001b[0G[+] 1m:10.8s\r\n",
      "Downloading       ━━━━━━━━━━━━━━━━━━━ 286.6MB                              13.9s\r\n",
      "Extracting  (116) ━━━━━━╸\u001b[33m━━━━━━━━━━━━\u001b[0m      81 mistune                   1m:10.4s"
     ]
    },
    {
     "name": "stdout",
     "output_type": "stream",
     "text": [
      "\u001b[2K\u001b[1A\u001b[2K\u001b[1A\u001b[2K\u001b[0G[+] 1m:10.9s\r\n",
      "Downloading       ━━━━━━━━━━━━━━━━━━━ 286.6MB                              13.9s\r\n",
      "Extracting  (116) ━━━━━━╸\u001b[33m━━━━━━━━━━━━\u001b[0m      81 mistune                   1m:10.5s"
     ]
    },
    {
     "name": "stdout",
     "output_type": "stream",
     "text": [
      "\u001b[2K\u001b[1A\u001b[2K\u001b[1A\u001b[2K\u001b[0G[+] 1m:11.0s\r\n",
      "Downloading       ━━━━━━━━━━━━━━━━━━━ 286.6MB                              13.9s\r\n",
      "Extracting  (114) ━━━━━━━╸\u001b[33m━━━━━━━━━━━\u001b[0m      83 mistune                   1m:10.6s"
     ]
    },
    {
     "name": "stdout",
     "output_type": "stream",
     "text": [
      "\u001b[2K\u001b[1A\u001b[2K\u001b[1A\u001b[2K\u001b[0G[+] 1m:11.1s\r\n",
      "Downloading       ━━━━━━━━━━━━━━━━━━━ 286.6MB                              13.9s\r\n",
      "Extracting  (114) ━━━━━━━╸\u001b[33m━━━━━━━━━━━\u001b[0m      83 mistune                   1m:10.7s"
     ]
    },
    {
     "name": "stdout",
     "output_type": "stream",
     "text": [
      "\u001b[2K\u001b[1A\u001b[2K\u001b[1A\u001b[2K\u001b[0G[+] 1m:11.2s\r\n",
      "Downloading       ━━━━━━━━━━━━━━━━━━━ 286.6MB                              13.9s\r\n",
      "Extracting  (114) ━━━━━━━╸\u001b[33m━━━━━━━━━━━\u001b[0m      83 mpg123                    1m:10.8s"
     ]
    },
    {
     "name": "stdout",
     "output_type": "stream",
     "text": [
      "\u001b[2K\u001b[1A\u001b[2K\u001b[1A\u001b[2K\u001b[0G[+] 1m:11.3s\r\n",
      "Downloading       ━━━━━━━━━━━━━━━━━━━ 286.6MB                              13.9s\r\n",
      "Extracting  (114) ━━━━━━━╸\u001b[33m━━━━━━━━━━━\u001b[0m      83 mpg123                    1m:10.9s"
     ]
    },
    {
     "name": "stdout",
     "output_type": "stream",
     "text": [
      "\u001b[2K\u001b[1A\u001b[2K\u001b[1A\u001b[2K\u001b[0G[+] 1m:11.4s\r\n",
      "Downloading       ━━━━━━━━━━━━━━━━━━━ 286.6MB                              13.9s\r\n",
      "Extracting  (114) ━━━━━━━╸\u001b[33m━━━━━━━━━━━\u001b[0m      83 mpg123                    1m:11.0s"
     ]
    },
    {
     "name": "stdout",
     "output_type": "stream",
     "text": [
      "\u001b[2K\u001b[1A\u001b[2K\u001b[1A\u001b[2K\u001b[0G[+] 1m:11.5s\r\n",
      "Downloading       ━━━━━━━━━━━━━━━━━━━ 286.6MB                              13.9s\r\n",
      "Extracting  (114) ━━━━━━━╸\u001b[33m━━━━━━━━━━━\u001b[0m      83 mpg123                    1m:11.1s"
     ]
    },
    {
     "name": "stdout",
     "output_type": "stream",
     "text": [
      "\u001b[2K\u001b[1A\u001b[2K\u001b[1A\u001b[2K\u001b[0G[+] 1m:11.6s\r\n",
      "Downloading       ━━━━━━━━━━━━━━━━━━━ 286.6MB                              13.9s\r\n",
      "Extracting  (114) ━━━━━━━╸\u001b[33m━━━━━━━━━━━\u001b[0m      83 mysql-libs                1m:11.2s"
     ]
    },
    {
     "name": "stdout",
     "output_type": "stream",
     "text": [
      "\u001b[2K\u001b[1A\u001b[2K\u001b[1A\u001b[2K\u001b[0G[+] 1m:11.7s\r\n",
      "Downloading       ━━━━━━━━━━━━━━━━━━━ 286.6MB                              13.9s\r\n",
      "Extracting  (114) ━━━━━━━╸\u001b[33m━━━━━━━━━━━\u001b[0m      83 mysql-libs                1m:11.3s"
     ]
    },
    {
     "name": "stdout",
     "output_type": "stream",
     "text": [
      "\u001b[2K\u001b[1A\u001b[2K\u001b[1A\u001b[2K\u001b[0G[+] 1m:11.8s\r\n",
      "Downloading       ━━━━━━━━━━━━━━━━━━━ 286.6MB                              13.9s\r\n",
      "Extracting  (114) ━━━━━━━╸\u001b[33m━━━━━━━━━━━\u001b[0m      83 mysql-libs                1m:11.4s"
     ]
    },
    {
     "name": "stdout",
     "output_type": "stream",
     "text": [
      "\u001b[2K\u001b[1A\u001b[2K\u001b[1A\u001b[2K\u001b[0G[+] 1m:11.9s\r\n",
      "Downloading       ━━━━━━━━━━━━━━━━━━━ 286.6MB                              13.9s\r\n",
      "Extracting  (114) ━━━━━━━╸\u001b[33m━━━━━━━━━━━\u001b[0m      83 mysql-libs                1m:11.5s"
     ]
    },
    {
     "name": "stdout",
     "output_type": "stream",
     "text": [
      "\u001b[2K\u001b[1A\u001b[2K\u001b[1A\u001b[2K\u001b[0G[+] 1m:12.0s\r\n",
      "Downloading       ━━━━━━━━━━━━━━━━━━━ 286.6MB                              13.9s\r\n",
      "Extracting  (114) ━━━━━━━╸\u001b[33m━━━━━━━━━━━\u001b[0m      83 nbclassic                 1m:11.6s"
     ]
    },
    {
     "name": "stdout",
     "output_type": "stream",
     "text": [
      "\u001b[2K\u001b[1A\u001b[2K\u001b[1A\u001b[2K\u001b[0G[+] 1m:12.1s\r\n",
      "Downloading       ━━━━━━━━━━━━━━━━━━━ 286.6MB                              13.9s\r\n",
      "Extracting  (114) ━━━━━━━╸\u001b[33m━━━━━━━━━━━\u001b[0m      83 nbclassic                 1m:11.7s"
     ]
    },
    {
     "name": "stdout",
     "output_type": "stream",
     "text": [
      "\u001b[2K\u001b[1A\u001b[2K\u001b[1A\u001b[2K\u001b[0G[+] 1m:12.2s\r\n",
      "Downloading       ━━━━━━━━━━━━━━━━━━━ 286.6MB                              13.9s\r\n",
      "Extracting  (114) ━━━━━━━╸\u001b[33m━━━━━━━━━━━\u001b[0m      83 nbclassic                 1m:11.8s"
     ]
    },
    {
     "name": "stdout",
     "output_type": "stream",
     "text": [
      "\u001b[2K\u001b[1A\u001b[2K\u001b[1A\u001b[2K\u001b[0G[+] 1m:12.3s\r\n",
      "Downloading       ━━━━━━━━━━━━━━━━━━━ 286.6MB                              13.9s\r\n",
      "Extracting  (114) ━━━━━━━╸\u001b[33m━━━━━━━━━━━\u001b[0m      83 nbclassic                 1m:11.9s"
     ]
    },
    {
     "name": "stdout",
     "output_type": "stream",
     "text": [
      "\u001b[2K\u001b[1A\u001b[2K\u001b[1A\u001b[2K\u001b[0G[+] 1m:12.4s\r\n",
      "Downloading       ━━━━━━━━━━━━━━━━━━━ 286.6MB                              13.9s\r\n",
      "Extracting  (113) ━━━━━━━╸\u001b[33m━━━━━━━━━━━\u001b[0m      84 nbconvert                 1m:12.0s"
     ]
    },
    {
     "name": "stdout",
     "output_type": "stream",
     "text": [
      "\u001b[2K\u001b[1A\u001b[2K\u001b[1A\u001b[2K\u001b[0G[+] 1m:12.5s\r\n",
      "Downloading       ━━━━━━━━━━━━━━━━━━━ 286.6MB                              13.9s\r\n",
      "Extracting  (112) ━━━━━━━╸\u001b[33m━━━━━━━━━━━\u001b[0m      85 nbconvert                 1m:12.1s"
     ]
    },
    {
     "name": "stdout",
     "output_type": "stream",
     "text": [
      "\u001b[2K\u001b[1A\u001b[2K\u001b[1A\u001b[2K\u001b[0G[+] 1m:12.6s\r\n",
      "Downloading       ━━━━━━━━━━━━━━━━━━━ 286.6MB                              13.9s\r\n",
      "Extracting  (112) ━━━━━━━╸\u001b[33m━━━━━━━━━━━\u001b[0m      85 nbconvert                 1m:12.2s"
     ]
    },
    {
     "name": "stdout",
     "output_type": "stream",
     "text": [
      "\u001b[2K\u001b[1A\u001b[2K\u001b[1A\u001b[2K\u001b[0G[+] 1m:12.7s\r\n",
      "Downloading       ━━━━━━━━━━━━━━━━━━━ 286.6MB                              13.9s\r\n",
      "Extracting  (112) ━━━━━━━╸\u001b[33m━━━━━━━━━━━\u001b[0m      85 nbconvert                 1m:12.3s"
     ]
    },
    {
     "name": "stdout",
     "output_type": "stream",
     "text": [
      "\u001b[2K\u001b[1A\u001b[2K\u001b[1A\u001b[2K\u001b[0G[+] 1m:12.8s\r\n",
      "Downloading       ━━━━━━━━━━━━━━━━━━━ 286.6MB                              13.9s\r\n",
      "Extracting  (112) ━━━━━━━╸\u001b[33m━━━━━━━━━━━\u001b[0m      85 nbconvert-core            1m:12.4s"
     ]
    },
    {
     "name": "stdout",
     "output_type": "stream",
     "text": [
      "\u001b[2K\u001b[1A\u001b[2K\u001b[1A\u001b[2K\u001b[0G[+] 1m:12.9s\r\n",
      "Downloading       ━━━━━━━━━━━━━━━━━━━ 286.6MB                              13.9s\r\n",
      "Extracting  (112) ━━━━━━━╸\u001b[33m━━━━━━━━━━━\u001b[0m      85 nbconvert-core            1m:12.5s"
     ]
    },
    {
     "name": "stdout",
     "output_type": "stream",
     "text": [
      "\u001b[2K\u001b[1A\u001b[2K\u001b[1A\u001b[2K\u001b[0G[+] 1m:13.0s\r\n",
      "Downloading       ━━━━━━━━━━━━━━━━━━━ 286.6MB                              13.9s\r\n",
      "Extracting  (112) ━━━━━━━╸\u001b[33m━━━━━━━━━━━\u001b[0m      85 nbconvert-core            1m:12.6s"
     ]
    },
    {
     "name": "stdout",
     "output_type": "stream",
     "text": [
      "\u001b[2K\u001b[1A\u001b[2K\u001b[1A\u001b[2K\u001b[0G[+] 1m:13.1s\r\n",
      "Downloading       ━━━━━━━━━━━━━━━━━━━ 286.6MB                              13.9s\r\n",
      "Extracting  (112) ━━━━━━━╸\u001b[33m━━━━━━━━━━━\u001b[0m      85 nbconvert-core            1m:12.7s"
     ]
    },
    {
     "name": "stdout",
     "output_type": "stream",
     "text": [
      "\u001b[2K\u001b[1A\u001b[2K\u001b[1A\u001b[2K\u001b[0G[+] 1m:13.2s\r\n",
      "Downloading       ━━━━━━━━━━━━━━━━━━━ 286.6MB                              13.9s\r\n",
      "Extracting  (112) ━━━━━━━╸\u001b[33m━━━━━━━━━━━\u001b[0m      85 nbconvert-pandoc          1m:12.8s"
     ]
    },
    {
     "name": "stdout",
     "output_type": "stream",
     "text": [
      "\u001b[2K\u001b[1A\u001b[2K\u001b[1A\u001b[2K\u001b[0G[+] 1m:13.3s\r\n",
      "Downloading       ━━━━━━━━━━━━━━━━━━━ 286.6MB                              13.9s\r\n",
      "Extracting  (112) ━━━━━━━╸\u001b[33m━━━━━━━━━━━\u001b[0m      85 nbconvert-pandoc          1m:12.9s"
     ]
    },
    {
     "name": "stdout",
     "output_type": "stream",
     "text": [
      "\u001b[2K\u001b[1A\u001b[2K\u001b[1A\u001b[2K\u001b[0G[+] 1m:13.4s\r\n",
      "Downloading       ━━━━━━━━━━━━━━━━━━━ 286.6MB                              13.9s\r\n",
      "Extracting  (112) ━━━━━━━╸\u001b[33m━━━━━━━━━━━\u001b[0m      85 nbconvert-pandoc          1m:13.0s"
     ]
    },
    {
     "name": "stdout",
     "output_type": "stream",
     "text": [
      "\u001b[2K\u001b[1A\u001b[2K\u001b[1A\u001b[2K\u001b[0G[+] 1m:13.5s\r\n",
      "Downloading       ━━━━━━━━━━━━━━━━━━━ 286.6MB                              13.9s\r\n",
      "Extracting  (112) ━━━━━━━╸\u001b[33m━━━━━━━━━━━\u001b[0m      85 nbconvert-pandoc          1m:13.1s"
     ]
    },
    {
     "name": "stdout",
     "output_type": "stream",
     "text": [
      "\u001b[2K\u001b[1A\u001b[2K\u001b[1A\u001b[2K\u001b[0G[+] 1m:13.6s\r\n",
      "Downloading       ━━━━━━━━━━━━━━━━━━━ 286.6MB                              13.9s\r\n",
      "Extracting  (112) ━━━━━━━╸\u001b[33m━━━━━━━━━━━\u001b[0m      85 notebook                  1m:13.2s"
     ]
    },
    {
     "name": "stdout",
     "output_type": "stream",
     "text": [
      "\u001b[2K\u001b[1A\u001b[2K\u001b[1A\u001b[2K\u001b[0G[+] 1m:13.7s\r\n",
      "Downloading       ━━━━━━━━━━━━━━━━━━━ 286.6MB                              13.9s\r\n",
      "Extracting  (112) ━━━━━━━╸\u001b[33m━━━━━━━━━━━\u001b[0m      85 notebook                  1m:13.3s"
     ]
    },
    {
     "name": "stdout",
     "output_type": "stream",
     "text": [
      "\u001b[2K\u001b[1A\u001b[2K\u001b[1A\u001b[2K\u001b[0G[+] 1m:13.8s\r\n",
      "Downloading       ━━━━━━━━━━━━━━━━━━━ 286.6MB                              13.9s\r\n",
      "Extracting  (112) ━━━━━━━╸\u001b[33m━━━━━━━━━━━\u001b[0m      85 notebook                  1m:13.4s"
     ]
    },
    {
     "name": "stdout",
     "output_type": "stream",
     "text": [
      "\u001b[2K\u001b[1A\u001b[2K\u001b[1A\u001b[2K\u001b[0G[+] 1m:13.9s\r\n",
      "Downloading       ━━━━━━━━━━━━━━━━━━━ 286.6MB                              13.9s\r\n",
      "Extracting  (112) ━━━━━━━╸\u001b[33m━━━━━━━━━━━\u001b[0m      85 notebook                  1m:13.5s"
     ]
    },
    {
     "name": "stdout",
     "output_type": "stream",
     "text": [
      "\u001b[2K\u001b[1A\u001b[2K\u001b[1A\u001b[2K\u001b[0G[+] 1m:14.0s\r\n",
      "Downloading       ━━━━━━━━━━━━━━━━━━━ 286.6MB                              13.9s\r\n",
      "Extracting  (112) ━━━━━━━╸\u001b[33m━━━━━━━━━━━\u001b[0m      85 nspr                      1m:13.6s"
     ]
    },
    {
     "name": "stdout",
     "output_type": "stream",
     "text": [
      "\u001b[2K\u001b[1A\u001b[2K\u001b[1A\u001b[2K\u001b[0G[+] 1m:14.1s\r\n",
      "Downloading       ━━━━━━━━━━━━━━━━━━━ 286.6MB                              13.9s\r\n",
      "Extracting  (110) ━━━━━━━╸\u001b[33m━━━━━━━━━━━\u001b[0m      87 nspr                      1m:13.7s"
     ]
    },
    {
     "name": "stdout",
     "output_type": "stream",
     "text": [
      "\u001b[2K\u001b[1A\u001b[2K\u001b[1A\u001b[2K\u001b[0G[+] 1m:14.2s\r\n",
      "Downloading       ━━━━━━━━━━━━━━━━━━━ 286.6MB                              13.9s\r\n",
      "Extracting  (110) ━━━━━━━╸\u001b[33m━━━━━━━━━━━\u001b[0m      87 nspr                      1m:13.8s"
     ]
    },
    {
     "name": "stdout",
     "output_type": "stream",
     "text": [
      "\u001b[2K\u001b[1A\u001b[2K\u001b[1A\u001b[2K\u001b[0G[+] 1m:14.3s\r\n",
      "Downloading       ━━━━━━━━━━━━━━━━━━━ 286.6MB                              13.9s\r\n",
      "Extracting  (110) ━━━━━━━╸\u001b[33m━━━━━━━━━━━\u001b[0m      87 nspr                      1m:13.9s"
     ]
    },
    {
     "name": "stdout",
     "output_type": "stream",
     "text": [
      "\u001b[2K\u001b[1A\u001b[2K\u001b[1A\u001b[2K\u001b[0G[+] 1m:14.4s\r\n",
      "Downloading       ━━━━━━━━━━━━━━━━━━━ 286.6MB                              13.9s\r\n",
      "Extracting  (110) ━━━━━━━╸\u001b[33m━━━━━━━━━━━\u001b[0m      87 parso                     1m:14.0s"
     ]
    },
    {
     "name": "stdout",
     "output_type": "stream",
     "text": [
      "\u001b[2K\u001b[1A\u001b[2K\u001b[1A\u001b[2K\u001b[0G[+] 1m:14.5s\r\n",
      "Downloading       ━━━━━━━━━━━━━━━━━━━ 286.6MB                              13.9s\r\n",
      "Extracting  (110) ━━━━━━━╸\u001b[33m━━━━━━━━━━━\u001b[0m      87 parso                     1m:14.1s"
     ]
    },
    {
     "name": "stdout",
     "output_type": "stream",
     "text": [
      "\u001b[2K\u001b[1A\u001b[2K\u001b[1A\u001b[2K\u001b[0G[+] 1m:14.6s\r\n",
      "Downloading       ━━━━━━━━━━━━━━━━━━━ 286.6MB                              13.9s\r\n",
      "Extracting  (110) ━━━━━━━╸\u001b[33m━━━━━━━━━━━\u001b[0m      87 parso                     1m:14.2s"
     ]
    },
    {
     "name": "stdout",
     "output_type": "stream",
     "text": [
      "\u001b[2K\u001b[1A\u001b[2K\u001b[1A\u001b[2K\u001b[0G[+] 1m:14.7s\r\n",
      "Downloading       ━━━━━━━━━━━━━━━━━━━ 286.6MB                              13.9s\r\n",
      "Extracting  (110) ━━━━━━━╸\u001b[33m━━━━━━━━━━━\u001b[0m      87 parso                     1m:14.3s"
     ]
    },
    {
     "name": "stdout",
     "output_type": "stream",
     "text": [
      "\u001b[2K\u001b[1A\u001b[2K\u001b[1A\u001b[2K\u001b[0G[+] 1m:14.8s\r\n",
      "Downloading       ━━━━━━━━━━━━━━━━━━━ 286.6MB                              13.9s\r\n",
      "Extracting  (110) ━━━━━━━╸\u001b[33m━━━━━━━━━━━\u001b[0m      87 pexpect                   1m:14.4s"
     ]
    },
    {
     "name": "stdout",
     "output_type": "stream",
     "text": [
      "\u001b[2K\u001b[1A\u001b[2K\u001b[1A\u001b[2K\u001b[0G[+] 1m:14.9s\r\n",
      "Downloading       ━━━━━━━━━━━━━━━━━━━ 286.6MB                              13.9s\r\n",
      "Extracting  (110) ━━━━━━━╸\u001b[33m━━━━━━━━━━━\u001b[0m      87 pexpect                   1m:14.5s"
     ]
    },
    {
     "name": "stdout",
     "output_type": "stream",
     "text": [
      "\u001b[2K\u001b[1A\u001b[2K\u001b[1A\u001b[2K\u001b[0G[+] 1m:15.0s\r\n",
      "Downloading       ━━━━━━━━━━━━━━━━━━━ 286.6MB                              13.9s\r\n",
      "Extracting  (110) ━━━━━━━╸\u001b[33m━━━━━━━━━━━\u001b[0m      87 pexpect                   1m:14.6s"
     ]
    },
    {
     "name": "stdout",
     "output_type": "stream",
     "text": [
      "\u001b[2K\u001b[1A\u001b[2K\u001b[1A\u001b[2K\u001b[0G[+] 1m:15.1s\r\n",
      "Downloading       ━━━━━━━━━━━━━━━━━━━ 286.6MB                              13.9s\r\n",
      "Extracting  (110) ━━━━━━━╸\u001b[33m━━━━━━━━━━━\u001b[0m      87 pexpect                   1m:14.7s"
     ]
    },
    {
     "name": "stdout",
     "output_type": "stream",
     "text": [
      "\u001b[2K\u001b[1A\u001b[2K\u001b[1A\u001b[2K\u001b[0G[+] 1m:15.2s\r\n",
      "Downloading       ━━━━━━━━━━━━━━━━━━━ 286.6MB                              13.9s\r\n",
      "Extracting  (110) ━━━━━━━╸\u001b[33m━━━━━━━━━━━\u001b[0m      87 pip                       1m:14.8s"
     ]
    },
    {
     "name": "stdout",
     "output_type": "stream",
     "text": [
      "\u001b[2K\u001b[1A\u001b[2K\u001b[1A\u001b[2K\u001b[0G[+] 1m:15.3s\r\n",
      "Downloading       ━━━━━━━━━━━━━━━━━━━ 286.6MB                              13.9s\r\n",
      "Extracting  (110) ━━━━━━━╸\u001b[33m━━━━━━━━━━━\u001b[0m      87 pip                       1m:14.9s"
     ]
    },
    {
     "name": "stdout",
     "output_type": "stream",
     "text": [
      "\u001b[2K\u001b[1A\u001b[2K\u001b[1A\u001b[2K\u001b[0G[+] 1m:15.4s\r\n",
      "Downloading       ━━━━━━━━━━━━━━━━━━━ 286.6MB                              13.9s\r\n",
      "Extracting  (110) ━━━━━━━╸\u001b[33m━━━━━━━━━━━\u001b[0m      87 pip                       1m:15.0s"
     ]
    },
    {
     "name": "stdout",
     "output_type": "stream",
     "text": [
      "\u001b[2K\u001b[1A\u001b[2K\u001b[1A\u001b[2K\u001b[0G[+] 1m:15.5s\r\n",
      "Downloading       ━━━━━━━━━━━━━━━━━━━ 286.6MB                              13.9s\r\n",
      "Extracting  (110) ━━━━━━━╸\u001b[33m━━━━━━━━━━━\u001b[0m      87 pip                       1m:15.1s"
     ]
    },
    {
     "name": "stdout",
     "output_type": "stream",
     "text": [
      "\u001b[2K\u001b[1A\u001b[2K\u001b[1A\u001b[2K\u001b[0G[+] 1m:15.6s\r\n",
      "Downloading       ━━━━━━━━━━━━━━━━━━━ 286.6MB                              13.9s\r\n",
      "Extracting  (109) ━━━━━━━╸\u001b[33m━━━━━━━━━━━\u001b[0m      88 pluggy                    1m:15.2s"
     ]
    },
    {
     "name": "stdout",
     "output_type": "stream",
     "text": [
      "\u001b[2K\u001b[1A\u001b[2K\u001b[1A\u001b[2K\u001b[0G[+] 1m:15.7s\r\n",
      "Downloading       ━━━━━━━━━━━━━━━━━━━ 286.6MB                              13.9s\r\n",
      "Extracting  (108) ━━━━━━━╸\u001b[33m━━━━━━━━━━━\u001b[0m      89 pluggy                    1m:15.3s"
     ]
    },
    {
     "name": "stdout",
     "output_type": "stream",
     "text": [
      "\u001b[2K\u001b[1A\u001b[2K\u001b[1A\u001b[2K\u001b[0G[+] 1m:15.8s\r\n",
      "Downloading       ━━━━━━━━━━━━━━━━━━━ 286.6MB                              13.9s\r\n",
      "Extracting  (108) ━━━━━━━╸\u001b[33m━━━━━━━━━━━\u001b[0m      89 pluggy                    1m:15.4s"
     ]
    },
    {
     "name": "stdout",
     "output_type": "stream",
     "text": [
      "\u001b[2K\u001b[1A\u001b[2K\u001b[1A\u001b[2K\u001b[0G[+] 1m:15.9s\r\n",
      "Downloading       ━━━━━━━━━━━━━━━━━━━ 286.6MB                              13.9s\r\n",
      "Extracting  (108) ━━━━━━━╸\u001b[33m━━━━━━━━━━━\u001b[0m      89 pluggy                    1m:15.5s"
     ]
    },
    {
     "name": "stdout",
     "output_type": "stream",
     "text": [
      "\u001b[2K\u001b[1A\u001b[2K\u001b[1A\u001b[2K\u001b[0G[+] 1m:16.0s\r\n",
      "Downloading       ━━━━━━━━━━━━━━━━━━━ 286.6MB                              13.9s\r\n",
      "Extracting  (108) ━━━━━━━╸\u001b[33m━━━━━━━━━━━\u001b[0m      89 ply                       1m:15.6s"
     ]
    },
    {
     "name": "stdout",
     "output_type": "stream",
     "text": [
      "\u001b[2K\u001b[1A\u001b[2K\u001b[1A\u001b[2K\u001b[0G[+] 1m:16.1s\r\n",
      "Downloading       ━━━━━━━━━━━━━━━━━━━ 286.6MB                              13.9s\r\n",
      "Extracting  (108) ━━━━━━━╸\u001b[33m━━━━━━━━━━━\u001b[0m      89 ply                       1m:15.7s"
     ]
    },
    {
     "name": "stdout",
     "output_type": "stream",
     "text": [
      "\u001b[2K\u001b[1A\u001b[2K\u001b[1A\u001b[2K\u001b[0G[+] 1m:16.2s\r\n",
      "Downloading       ━━━━━━━━━━━━━━━━━━━ 286.6MB                              13.9s\r\n",
      "Extracting  (108) ━━━━━━━╸\u001b[33m━━━━━━━━━━━\u001b[0m      89 ply                       1m:15.8s"
     ]
    },
    {
     "name": "stdout",
     "output_type": "stream",
     "text": [
      "\u001b[2K\u001b[1A\u001b[2K\u001b[1A\u001b[2K\u001b[0G[+] 1m:16.3s\r\n",
      "Downloading       ━━━━━━━━━━━━━━━━━━━ 286.6MB                              13.9s\r\n",
      "Extracting  (108) ━━━━━━━╸\u001b[33m━━━━━━━━━━━\u001b[0m      89 ply                       1m:15.9s"
     ]
    },
    {
     "name": "stdout",
     "output_type": "stream",
     "text": [
      "\u001b[2K\u001b[1A\u001b[2K\u001b[1A\u001b[2K\u001b[0G[+] 1m:16.4s\r\n",
      "Downloading       ━━━━━━━━━━━━━━━━━━━ 286.6MB                              13.9s\r\n",
      "Extracting  (108) ━━━━━━━╸\u001b[33m━━━━━━━━━━━\u001b[0m      89 prometheus_client         1m:16.0s"
     ]
    },
    {
     "name": "stdout",
     "output_type": "stream",
     "text": [
      "\u001b[2K\u001b[1A\u001b[2K\u001b[1A\u001b[2K\u001b[0G[+] 1m:16.5s\r\n",
      "Downloading       ━━━━━━━━━━━━━━━━━━━ 286.6MB                              13.9s\r\n",
      "Extracting  (108) ━━━━━━━╸\u001b[33m━━━━━━━━━━━\u001b[0m      89 prometheus_client         1m:16.1s"
     ]
    },
    {
     "name": "stdout",
     "output_type": "stream",
     "text": [
      "\u001b[2K\u001b[1A\u001b[2K\u001b[1A\u001b[2K\u001b[0G[+] 1m:16.6s\r\n",
      "Downloading       ━━━━━━━━━━━━━━━━━━━ 286.6MB                              13.9s\r\n",
      "Extracting  (108) ━━━━━━━╸\u001b[33m━━━━━━━━━━━\u001b[0m      89 prometheus_client         1m:16.2s"
     ]
    },
    {
     "name": "stdout",
     "output_type": "stream",
     "text": [
      "\u001b[2K\u001b[1A\u001b[2K\u001b[1A\u001b[2K\u001b[0G[+] 1m:16.7s\r\n",
      "Downloading       ━━━━━━━━━━━━━━━━━━━ 286.6MB                              13.9s\r\n",
      "Extracting  (108) ━━━━━━━╸\u001b[33m━━━━━━━━━━━\u001b[0m      89 prometheus_client         1m:16.3s"
     ]
    },
    {
     "name": "stdout",
     "output_type": "stream",
     "text": [
      "\u001b[2K\u001b[1A\u001b[2K\u001b[1A\u001b[2K\u001b[0G[+] 1m:16.8s\r\n",
      "Downloading       ━━━━━━━━━━━━━━━━━━━ 286.6MB                              13.9s\r\n",
      "Extracting  (108) ━━━━━━━╸\u001b[33m━━━━━━━━━━━\u001b[0m      89 prompt_toolkit            1m:16.4s"
     ]
    },
    {
     "name": "stdout",
     "output_type": "stream",
     "text": [
      "\u001b[2K\u001b[1A\u001b[2K\u001b[1A\u001b[2K\u001b[0G[+] 1m:16.9s\r\n",
      "Downloading       ━━━━━━━━━━━━━━━━━━━ 286.6MB                              13.9s\r\n",
      "Extracting  (108) ━━━━━━━╸\u001b[33m━━━━━━━━━━━\u001b[0m      89 prompt_toolkit            1m:16.5s"
     ]
    },
    {
     "name": "stdout",
     "output_type": "stream",
     "text": [
      "\u001b[2K\u001b[1A\u001b[2K\u001b[1A\u001b[2K\u001b[0G[+] 1m:17.0s\r\n",
      "Downloading       ━━━━━━━━━━━━━━━━━━━ 286.6MB                              13.9s\r\n",
      "Extracting  (107) ━━━━━━━╸\u001b[33m━━━━━━━━━━━\u001b[0m      90 argon2-cffi-bindings      1m:16.6s"
     ]
    },
    {
     "name": "stdout",
     "output_type": "stream",
     "text": [
      "\u001b[2K\u001b[1A\u001b[2K\u001b[1A\u001b[2K\u001b[0G[+] 1m:17.1s\r\n",
      "Downloading       ━━━━━━━━━━━━━━━━━━━ 286.6MB                              13.9s\r\n",
      "Extracting  (107) ━━━━━━━╸\u001b[33m━━━━━━━━━━━\u001b[0m      90 argon2-cffi-bindings      1m:16.7s"
     ]
    },
    {
     "name": "stdout",
     "output_type": "stream",
     "text": [
      "\u001b[2K\u001b[1A\u001b[2K\u001b[1A\u001b[2K\u001b[0G[+] 1m:17.2s\r\n",
      "Downloading       ━━━━━━━━━━━━━━━━━━━ 286.6MB                              13.9s\r\n",
      "Extracting  (106) ━━━━━━━╸\u001b[33m━━━━━━━━━━━\u001b[0m      91 argon2-cffi-bindings      1m:16.8s"
     ]
    },
    {
     "name": "stdout",
     "output_type": "stream",
     "text": [
      "\u001b[2K\u001b[1A\u001b[2K\u001b[1A\u001b[2K\u001b[0G[+] 1m:17.3s\r\n",
      "Downloading       ━━━━━━━━━━━━━━━━━━━ 286.6MB                              13.9s\r\n"
     ]
    },
    {
     "name": "stdout",
     "output_type": "stream",
     "text": [
      "Extracting  (106) ━━━━━━━╸\u001b[33m━━━━━━━━━━━\u001b[0m      91 argon2-cffi-bindings      1m:16.9s"
     ]
    },
    {
     "name": "stdout",
     "output_type": "stream",
     "text": [
      "\u001b[2K\u001b[1A\u001b[2K\u001b[1A\u001b[2K\u001b[0G[+] 1m:17.4s\r\n",
      "Downloading       ━━━━━━━━━━━━━━━━━━━ 286.6MB                              13.9s\r\n",
      "Extracting  (106) ━━━━━━━╸\u001b[33m━━━━━━━━━━━\u001b[0m      91 attrs                     1m:17.0s"
     ]
    },
    {
     "name": "stdout",
     "output_type": "stream",
     "text": [
      "\u001b[2K\u001b[1A\u001b[2K\u001b[1A\u001b[2K\u001b[0G[+] 1m:17.5s\r\n",
      "Downloading       ━━━━━━━━━━━━━━━━━━━ 286.6MB                              13.9s\r\n",
      "Extracting  (106) ━━━━━━━╸\u001b[33m━━━━━━━━━━━\u001b[0m      91 attrs                     1m:17.1s"
     ]
    },
    {
     "name": "stdout",
     "output_type": "stream",
     "text": [
      "\u001b[2K\u001b[1A\u001b[2K\u001b[1A\u001b[2K\u001b[0G[+] 1m:17.6s\r\n",
      "Downloading       ━━━━━━━━━━━━━━━━━━━ 286.6MB                              13.9s\r\n",
      "Extracting  (106) ━━━━━━━╸\u001b[33m━━━━━━━━━━━\u001b[0m      91 attrs                     1m:17.2s"
     ]
    },
    {
     "name": "stdout",
     "output_type": "stream",
     "text": [
      "\u001b[2K\u001b[1A\u001b[2K\u001b[1A\u001b[2K\u001b[0G[+] 1m:17.7s\r\n",
      "Downloading       ━━━━━━━━━━━━━━━━━━━ 286.6MB                              13.9s\r\n",
      "Extracting  (106) ━━━━━━━╸\u001b[33m━━━━━━━━━━━\u001b[0m      91 attrs                     1m:17.3s"
     ]
    },
    {
     "name": "stdout",
     "output_type": "stream",
     "text": [
      "\u001b[2K\u001b[1A\u001b[2K\u001b[1A\u001b[2K\u001b[0G[+] 1m:17.8s\r\n",
      "Downloading       ━━━━━━━━━━━━━━━━━━━ 286.6MB                              13.9s\r\n",
      "Extracting  (106) ━━━━━━━╸\u001b[33m━━━━━━━━━━━\u001b[0m      91 backports                 1m:17.4s"
     ]
    },
    {
     "name": "stdout",
     "output_type": "stream",
     "text": [
      "\u001b[2K\u001b[1A\u001b[2K\u001b[1A\u001b[2K\u001b[0G[+] 1m:17.9s\r\n",
      "Downloading       ━━━━━━━━━━━━━━━━━━━ 286.6MB                              13.9s\r\n",
      "Extracting  (106) ━━━━━━━╸\u001b[33m━━━━━━━━━━━\u001b[0m      91 backports                 1m:17.5s"
     ]
    },
    {
     "name": "stdout",
     "output_type": "stream",
     "text": [
      "\u001b[2K\u001b[1A\u001b[2K\u001b[1A\u001b[2K\u001b[0G[+] 1m:18.0s\r\n",
      "Downloading       ━━━━━━━━━━━━━━━━━━━ 286.6MB                              13.9s\r\n",
      "Extracting  (106) ━━━━━━━╸\u001b[33m━━━━━━━━━━━\u001b[0m      91 backports                 1m:17.6s"
     ]
    },
    {
     "name": "stdout",
     "output_type": "stream",
     "text": [
      "\u001b[2K\u001b[1A\u001b[2K\u001b[1A\u001b[2K\u001b[0G[+] 1m:18.1s\r\n",
      "Downloading       ━━━━━━━━━━━━━━━━━━━ 286.6MB                              13.9s\r\n",
      "Extracting  (106) ━━━━━━━╸\u001b[33m━━━━━━━━━━━\u001b[0m      91 backports                 1m:17.7s"
     ]
    },
    {
     "name": "stdout",
     "output_type": "stream",
     "text": [
      "\u001b[2K\u001b[1A\u001b[2K\u001b[1A\u001b[2K\u001b[0G[+] 1m:18.2s\r\n",
      "Downloading       ━━━━━━━━━━━━━━━━━━━ 286.6MB                              13.9s\r\n",
      "Extracting  (106) ━━━━━━━╸\u001b[33m━━━━━━━━━━━\u001b[0m      91 beautifulsoup4            1m:17.8s"
     ]
    },
    {
     "name": "stdout",
     "output_type": "stream",
     "text": [
      "\u001b[2K\u001b[1A\u001b[2K\u001b[1A\u001b[2K\u001b[0G[+] 1m:18.3s\r\n",
      "Downloading       ━━━━━━━━━━━━━━━━━━━ 286.6MB                              13.9s\r\n",
      "Extracting  (106) ━━━━━━━╸\u001b[33m━━━━━━━━━━━\u001b[0m      91 beautifulsoup4            1m:17.9s"
     ]
    },
    {
     "name": "stdout",
     "output_type": "stream",
     "text": [
      "\u001b[2K\u001b[1A\u001b[2K\u001b[1A\u001b[2K\u001b[0G[+] 1m:18.4s\r\n",
      "Downloading       ━━━━━━━━━━━━━━━━━━━ 286.6MB                              13.9s\r\n",
      "Extracting  (106) ━━━━━━━╸\u001b[33m━━━━━━━━━━━\u001b[0m      91 beautifulsoup4            1m:18.0s"
     ]
    },
    {
     "name": "stdout",
     "output_type": "stream",
     "text": [
      "\u001b[2K\u001b[1A\u001b[2K\u001b[1A\u001b[2K\u001b[0G[+] 1m:18.5s\r\n",
      "Downloading       ━━━━━━━━━━━━━━━━━━━ 286.6MB                              13.9s\r\n",
      "Extracting  (105) ━━━━━━━╸\u001b[33m━━━━━━━━━━━\u001b[0m      92 beautifulsoup4            1m:18.1s"
     ]
    },
    {
     "name": "stdout",
     "output_type": "stream",
     "text": [
      "\u001b[2K\u001b[1A\u001b[2K\u001b[1A\u001b[2K\u001b[0G[+] 1m:18.6s\r\n",
      "Downloading       ━━━━━━━━━━━━━━━━━━━ 286.6MB                              13.9s\r\n",
      "Extracting  (105) ━━━━━━━╸\u001b[33m━━━━━━━━━━━\u001b[0m      92 boltons                   1m:18.2s"
     ]
    },
    {
     "name": "stdout",
     "output_type": "stream",
     "text": [
      "\u001b[2K\u001b[1A\u001b[2K\u001b[1A\u001b[2K\u001b[0G[+] 1m:18.7s\r\n",
      "Downloading       ━━━━━━━━━━━━━━━━━━━ 286.6MB                              13.9s\r\n",
      "Extracting  (105) ━━━━━━━╸\u001b[33m━━━━━━━━━━━\u001b[0m      92 boltons                   1m:18.3s"
     ]
    },
    {
     "name": "stdout",
     "output_type": "stream",
     "text": [
      "\u001b[2K\u001b[1A\u001b[2K\u001b[1A\u001b[2K\u001b[0G[+] 1m:18.8s\r\n",
      "Downloading       ━━━━━━━━━━━━━━━━━━━ 286.6MB                              13.9s\r\n",
      "Extracting  (104) ━━━━━━━╸\u001b[33m━━━━━━━━━━━\u001b[0m      93 boltons                   1m:18.4s"
     ]
    },
    {
     "name": "stdout",
     "output_type": "stream",
     "text": [
      "\u001b[2K\u001b[1A\u001b[2K\u001b[1A\u001b[2K\u001b[0G[+] 1m:18.9s\r\n",
      "Downloading       ━━━━━━━━━━━━━━━━━━━ 286.6MB                              13.9s\r\n",
      "Extracting  (104) ━━━━━━━╸\u001b[33m━━━━━━━━━━━\u001b[0m      93 boltons                   1m:18.5s"
     ]
    },
    {
     "name": "stdout",
     "output_type": "stream",
     "text": [
      "\u001b[2K\u001b[1A\u001b[2K\u001b[1A\u001b[2K\u001b[0G[+] 1m:19.0s\r\n",
      "Downloading       ━━━━━━━━━━━━━━━━━━━ 286.6MB                              13.9s\r\n",
      "Extracting  (104) ━━━━━━━╸\u001b[33m━━━━━━━━━━━\u001b[0m      93 brotlipy                  1m:18.6s"
     ]
    },
    {
     "name": "stdout",
     "output_type": "stream",
     "text": [
      "\u001b[2K\u001b[1A\u001b[2K\u001b[1A\u001b[2K\u001b[0G[+] 1m:19.1s\r\n",
      "Downloading       ━━━━━━━━━━━━━━━━━━━ 286.6MB                              13.9s\r\n",
      "Extracting  (104) ━━━━━━━╸\u001b[33m━━━━━━━━━━━\u001b[0m      93 brotlipy                  1m:18.7s"
     ]
    },
    {
     "name": "stdout",
     "output_type": "stream",
     "text": [
      "\u001b[2K\u001b[1A\u001b[2K\u001b[1A\u001b[2K\u001b[0G[+] 1m:19.2s\r\n",
      "Downloading       ━━━━━━━━━━━━━━━━━━━ 286.6MB                              13.9s\r\n",
      "Extracting  (104) ━━━━━━━╸\u001b[33m━━━━━━━━━━━\u001b[0m      93 brotlipy                  1m:18.8s"
     ]
    },
    {
     "name": "stdout",
     "output_type": "stream",
     "text": [
      "\u001b[2K\u001b[1A\u001b[2K\u001b[1A\u001b[2K\u001b[0G[+] 1m:19.3s\r\n",
      "Downloading       ━━━━━━━━━━━━━━━━━━━ 286.6MB                              13.9s\r\n",
      "Extracting  (104) ━━━━━━━╸\u001b[33m━━━━━━━━━━━\u001b[0m      93 brotlipy                  1m:18.9s"
     ]
    },
    {
     "name": "stdout",
     "output_type": "stream",
     "text": [
      "\u001b[2K\u001b[1A\u001b[2K\u001b[1A\u001b[2K\u001b[0G[+] 1m:19.4s\r\n",
      "Downloading       ━━━━━━━━━━━━━━━━━━━ 286.6MB                              13.9s\r\n",
      "Extracting  (104) ━━━━━━━╸\u001b[33m━━━━━━━━━━━\u001b[0m      93 bzip2                     1m:19.0s"
     ]
    },
    {
     "name": "stdout",
     "output_type": "stream",
     "text": [
      "\u001b[2K\u001b[1A\u001b[2K\u001b[1A\u001b[2K\u001b[0G[+] 1m:19.5s\r\n",
      "Downloading       ━━━━━━━━━━━━━━━━━━━ 286.6MB                              13.9s\r\n",
      "Extracting  (104) ━━━━━━━╸\u001b[33m━━━━━━━━━━━\u001b[0m      93 bzip2                     1m:19.1s"
     ]
    },
    {
     "name": "stdout",
     "output_type": "stream",
     "text": [
      "\u001b[2K\u001b[1A\u001b[2K\u001b[1A\u001b[2K\u001b[0G[+] 1m:19.6s\r\n",
      "Downloading       ━━━━━━━━━━━━━━━━━━━ 286.6MB                              13.9s\r\n",
      "Extracting  (104) ━━━━━━━╸\u001b[33m━━━━━━━━━━━\u001b[0m      93 bzip2                     1m:19.2s"
     ]
    },
    {
     "name": "stdout",
     "output_type": "stream",
     "text": [
      "\u001b[2K\u001b[1A\u001b[2K\u001b[1A\u001b[2K\u001b[0G[+] 1m:19.7s\r\n",
      "Downloading       ━━━━━━━━━━━━━━━━━━━ 286.6MB                              13.9s\r\n",
      "Extracting  (104) ━━━━━━━╸\u001b[33m━━━━━━━━━━━\u001b[0m      93 bzip2                     1m:19.3s"
     ]
    },
    {
     "name": "stdout",
     "output_type": "stream",
     "text": [
      "\u001b[2K\u001b[1A\u001b[2K\u001b[1A\u001b[2K\u001b[0G[+] 1m:19.8s\r\n",
      "Downloading       ━━━━━━━━━━━━━━━━━━━ 286.6MB                              13.9s\r\n",
      "Extracting  (104) ━━━━━━━╸\u001b[33m━━━━━━━━━━━\u001b[0m      93 c-ares                    1m:19.4s"
     ]
    },
    {
     "name": "stdout",
     "output_type": "stream",
     "text": [
      "\u001b[2K\u001b[1A\u001b[2K\u001b[1A\u001b[2K\u001b[0G[+] 1m:19.9s\r\n",
      "Downloading       ━━━━━━━━━━━━━━━━━━━ 286.6MB                              13.9s\r\n",
      "Extracting  (104) ━━━━━━━╸\u001b[33m━━━━━━━━━━━\u001b[0m      93 c-ares                    1m:19.5s"
     ]
    },
    {
     "name": "stdout",
     "output_type": "stream",
     "text": [
      "\u001b[2K\u001b[1A\u001b[2K\u001b[1A\u001b[2K\u001b[0G[+] 1m:20.0s\r\n",
      "Downloading       ━━━━━━━━━━━━━━━━━━━ 286.6MB                              13.9s\r\n",
      "Extracting  (103) ━━━━━━━━╸\u001b[33m━━━━━━━━━━\u001b[0m      94 c-ares                    1m:19.6s"
     ]
    },
    {
     "name": "stdout",
     "output_type": "stream",
     "text": [
      "\u001b[2K\u001b[1A\u001b[2K\u001b[1A\u001b[2K\u001b[0G[+] 1m:20.1s\r\n",
      "Downloading       ━━━━━━━━━━━━━━━━━━━ 286.6MB                              13.9s\r\n",
      "Extracting  (103) ━━━━━━━━╸\u001b[33m━━━━━━━━━━\u001b[0m      94 c-ares                    1m:19.7s"
     ]
    },
    {
     "name": "stdout",
     "output_type": "stream",
     "text": [
      "\u001b[2K\u001b[1A\u001b[2K\u001b[1A\u001b[2K\u001b[0G[+] 1m:20.2s\r\n",
      "Downloading       ━━━━━━━━━━━━━━━━━━━ 286.6MB                              13.9s\r\n",
      "Extracting  (102) ━━━━━━━━╸\u001b[33m━━━━━━━━━━\u001b[0m      95 cairo                     1m:19.8s"
     ]
    },
    {
     "name": "stdout",
     "output_type": "stream",
     "text": [
      "\u001b[2K\u001b[1A\u001b[2K\u001b[1A\u001b[2K\u001b[0G[+] 1m:20.3s\r\n",
      "Downloading       ━━━━━━━━━━━━━━━━━━━ 286.6MB                              13.9s\r\n",
      "Extracting  (102) ━━━━━━━━╸\u001b[33m━━━━━━━━━━\u001b[0m      95 cairo                     1m:19.9s"
     ]
    },
    {
     "name": "stdout",
     "output_type": "stream",
     "text": [
      "\u001b[2K\u001b[1A\u001b[2K\u001b[1A\u001b[2K\u001b[0G[+] 1m:20.4s\r\n",
      "Downloading       ━━━━━━━━━━━━━━━━━━━ 286.6MB                              13.9s\r\n",
      "Extracting  (102) ━━━━━━━━╸\u001b[33m━━━━━━━━━━\u001b[0m      95 cairo                     1m:20.0s"
     ]
    },
    {
     "name": "stdout",
     "output_type": "stream",
     "text": [
      "\u001b[2K\u001b[1A\u001b[2K\u001b[1A\u001b[2K\u001b[0G[+] 1m:20.5s\r\n",
      "Downloading       ━━━━━━━━━━━━━━━━━━━ 286.6MB                              13.9s\r\n",
      "Extracting  (102) ━━━━━━━━╸\u001b[33m━━━━━━━━━━\u001b[0m      95 cairo                     1m:20.1s"
     ]
    },
    {
     "name": "stdout",
     "output_type": "stream",
     "text": [
      "\u001b[2K\u001b[1A\u001b[2K\u001b[1A\u001b[2K\u001b[0G[+] 1m:20.6s\r\n",
      "Downloading       ━━━━━━━━━━━━━━━━━━━ 286.6MB                              13.9s\r\n",
      "Extracting  (102) ━━━━━━━━╸\u001b[33m━━━━━━━━━━\u001b[0m      95 certifi                   1m:20.2s"
     ]
    },
    {
     "name": "stdout",
     "output_type": "stream",
     "text": [
      "\u001b[2K\u001b[1A\u001b[2K\u001b[1A\u001b[2K\u001b[0G[+] 1m:20.7s\r\n",
      "Downloading       ━━━━━━━━━━━━━━━━━━━ 286.6MB                              13.9s\r\n",
      "Extracting  (102) ━━━━━━━━╸\u001b[33m━━━━━━━━━━\u001b[0m      95 certifi                   1m:20.3s"
     ]
    },
    {
     "name": "stdout",
     "output_type": "stream",
     "text": [
      "\u001b[2K\u001b[1A\u001b[2K\u001b[1A\u001b[2K\u001b[0G[+] 1m:20.8s\r\n",
      "Downloading       ━━━━━━━━━━━━━━━━━━━ 286.6MB                              13.9s\r\n",
      "Extracting  (102) ━━━━━━━━╸\u001b[33m━━━━━━━━━━\u001b[0m      95 certifi                   1m:20.4s"
     ]
    },
    {
     "name": "stdout",
     "output_type": "stream",
     "text": [
      "\u001b[2K\u001b[1A\u001b[2K\u001b[1A\u001b[2K\u001b[0G[+] 1m:20.9s\r\n",
      "Downloading       ━━━━━━━━━━━━━━━━━━━ 286.6MB                              13.9s\r\n",
      "Extracting  (102) ━━━━━━━━╸\u001b[33m━━━━━━━━━━\u001b[0m      95 certifi                   1m:20.5s"
     ]
    },
    {
     "name": "stdout",
     "output_type": "stream",
     "text": [
      "\u001b[2K\u001b[1A\u001b[2K\u001b[1A\u001b[2K\u001b[0G[+] 1m:21.0s\r\n",
      "Downloading       ━━━━━━━━━━━━━━━━━━━ 286.6MB                              13.9s\r\n",
      "Extracting  (102) ━━━━━━━━╸\u001b[33m━━━━━━━━━━\u001b[0m      95 conda                     1m:20.6s"
     ]
    },
    {
     "name": "stdout",
     "output_type": "stream",
     "text": [
      "\u001b[2K\u001b[1A\u001b[2K\u001b[1A\u001b[2K\u001b[0G[+] 1m:21.1s\r\n",
      "Downloading       ━━━━━━━━━━━━━━━━━━━ 286.6MB                              13.9s\r\n",
      "Extracting  (102) ━━━━━━━━╸\u001b[33m━━━━━━━━━━\u001b[0m      95 conda                     1m:20.7s"
     ]
    },
    {
     "name": "stdout",
     "output_type": "stream",
     "text": [
      "\u001b[2K\u001b[1A\u001b[2K\u001b[1A\u001b[2K\u001b[0G[+] 1m:21.2s\r\n",
      "Downloading       ━━━━━━━━━━━━━━━━━━━ 286.6MB                              13.9s\r\n",
      "Extracting  (102) ━━━━━━━━╸\u001b[33m━━━━━━━━━━\u001b[0m      95 conda                     1m:20.8s"
     ]
    },
    {
     "name": "stdout",
     "output_type": "stream",
     "text": [
      "\u001b[2K\u001b[1A\u001b[2K\u001b[1A\u001b[2K\u001b[0G[+] 1m:21.3s\r\n",
      "Downloading       ━━━━━━━━━━━━━━━━━━━ 286.6MB                              13.9s\r\n",
      "Extracting  (102) ━━━━━━━━╸\u001b[33m━━━━━━━━━━\u001b[0m      95 conda                     1m:20.9s"
     ]
    },
    {
     "name": "stdout",
     "output_type": "stream",
     "text": [
      "\u001b[2K\u001b[1A\u001b[2K\u001b[1A\u001b[2K\u001b[0G[+] 1m:21.4s\r\n",
      "Downloading       ━━━━━━━━━━━━━━━━━━━ 286.6MB                              13.9s\r\n",
      "Extracting  (102) ━━━━━━━━╸\u001b[33m━━━━━━━━━━\u001b[0m      95 cryptography              1m:21.0s"
     ]
    },
    {
     "name": "stdout",
     "output_type": "stream",
     "text": [
      "\u001b[2K\u001b[1A\u001b[2K\u001b[1A\u001b[2K\u001b[0G[+] 1m:21.5s\r\n",
      "Downloading       ━━━━━━━━━━━━━━━━━━━ 286.6MB                              13.9s\r\n",
      "Extracting  (102) ━━━━━━━━╸\u001b[33m━━━━━━━━━━\u001b[0m      95 cryptography              1m:21.1s"
     ]
    },
    {
     "name": "stdout",
     "output_type": "stream",
     "text": [
      "\u001b[2K\u001b[1A\u001b[2K\u001b[1A\u001b[2K\u001b[0G[+] 1m:21.6s\r\n",
      "Downloading       ━━━━━━━━━━━━━━━━━━━ 286.6MB                              13.9s\r\n",
      "Extracting  (101) ━━━━━━━━╸\u001b[33m━━━━━━━━━━\u001b[0m      96 cryptography              1m:21.2s"
     ]
    },
    {
     "name": "stdout",
     "output_type": "stream",
     "text": [
      "\u001b[2K\u001b[1A\u001b[2K\u001b[1A\u001b[2K\u001b[0G[+] 1m:21.7s\r\n",
      "Downloading       ━━━━━━━━━━━━━━━━━━━ 286.6MB                              13.9s\r\n",
      "Extracting  (101) ━━━━━━━━╸\u001b[33m━━━━━━━━━━\u001b[0m      96 cryptography              1m:21.3s"
     ]
    },
    {
     "name": "stdout",
     "output_type": "stream",
     "text": [
      "\u001b[2K\u001b[1A\u001b[2K\u001b[1A\u001b[2K\u001b[0G[+] 1m:21.8s\r\n",
      "Downloading       ━━━━━━━━━━━━━━━━━━━ 286.6MB                              13.9s\r\n",
      "Extracting  (101) ━━━━━━━━╸\u001b[33m━━━━━━━━━━\u001b[0m      96 dbus                      1m:21.4s"
     ]
    },
    {
     "name": "stdout",
     "output_type": "stream",
     "text": [
      "\u001b[2K\u001b[1A\u001b[2K\u001b[1A\u001b[2K\u001b[0G[+] 1m:21.9s\r\n",
      "Downloading       ━━━━━━━━━━━━━━━━━━━ 286.6MB                              13.9s\r\n",
      "Extracting  (101) ━━━━━━━━╸\u001b[33m━━━━━━━━━━\u001b[0m      96 dbus                      1m:21.5s"
     ]
    },
    {
     "name": "stdout",
     "output_type": "stream",
     "text": [
      "\u001b[2K\u001b[1A\u001b[2K\u001b[1A\u001b[2K\u001b[0G[+] 1m:22.0s\r\n",
      "Downloading       ━━━━━━━━━━━━━━━━━━━ 286.6MB                              13.9s\r\n",
      "Extracting  (101) ━━━━━━━━╸\u001b[33m━━━━━━━━━━\u001b[0m      96 dbus                      1m:21.6s"
     ]
    },
    {
     "name": "stdout",
     "output_type": "stream",
     "text": [
      "\u001b[2K\u001b[1A\u001b[2K\u001b[1A\u001b[2K\u001b[0G[+] 1m:22.1s\r\n",
      "Downloading       ━━━━━━━━━━━━━━━━━━━ 286.6MB                              13.9s\r\n",
      "Extracting  (101) ━━━━━━━━╸\u001b[33m━━━━━━━━━━\u001b[0m      96 dbus                      1m:21.7s"
     ]
    },
    {
     "name": "stdout",
     "output_type": "stream",
     "text": [
      "\u001b[2K\u001b[1A\u001b[2K\u001b[1A\u001b[2K\u001b[0G[+] 1m:22.2s\r\n",
      "Downloading       ━━━━━━━━━━━━━━━━━━━ 286.6MB                              13.9s\r\n",
      "Extracting  (101) ━━━━━━━━╸\u001b[33m━━━━━━━━━━\u001b[0m      96 debugpy                   1m:21.8s"
     ]
    },
    {
     "name": "stdout",
     "output_type": "stream",
     "text": [
      "\u001b[2K\u001b[1A\u001b[2K\u001b[1A\u001b[2K\u001b[0G[+] 1m:22.3s\r\n",
      "Downloading       ━━━━━━━━━━━━━━━━━━━ 286.6MB                              13.9s\r\n",
      "Extracting  (101) ━━━━━━━━╸\u001b[33m━━━━━━━━━━\u001b[0m      96 debugpy                   1m:21.9s"
     ]
    },
    {
     "name": "stdout",
     "output_type": "stream",
     "text": [
      "\u001b[2K\u001b[1A\u001b[2K\u001b[1A\u001b[2K\u001b[0G[+] 1m:22.4s\r\n",
      "Downloading       ━━━━━━━━━━━━━━━━━━━ 286.6MB                              13.9s\r\n",
      "Extracting  (101) ━━━━━━━━╸\u001b[33m━━━━━━━━━━\u001b[0m      96 debugpy                   1m:22.0s"
     ]
    },
    {
     "name": "stdout",
     "output_type": "stream",
     "text": [
      "\u001b[2K\u001b[1A\u001b[2K\u001b[1A\u001b[2K\u001b[0G[+] 1m:22.5s\r\n",
      "Downloading       ━━━━━━━━━━━━━━━━━━━ 286.6MB                              13.9s\r\n",
      "Extracting  (101) ━━━━━━━━╸\u001b[33m━━━━━━━━━━\u001b[0m      96 debugpy                   1m:22.1s"
     ]
    },
    {
     "name": "stdout",
     "output_type": "stream",
     "text": [
      "\u001b[2K\u001b[1A\u001b[2K\u001b[1A\u001b[2K\u001b[0G[+] 1m:22.6s\r\n",
      "Downloading       ━━━━━━━━━━━━━━━━━━━ 286.6MB                              13.9s\r\n",
      "Extracting  (100) ━━━━━━━━╸\u001b[33m━━━━━━━━━━\u001b[0m      97 decorator                 1m:22.2s"
     ]
    },
    {
     "name": "stdout",
     "output_type": "stream",
     "text": [
      "\u001b[2K\u001b[1A\u001b[2K\u001b[1A\u001b[2K\u001b[0G[+] 1m:22.7s\r\n",
      "Downloading      ━━━━━━━━━━━━━━━━━━━━ 286.6MB                              13.9s\r\n",
      "Extracting  (99) ━━━━━━━━╸\u001b[33m━━━━━━━━━━━\u001b[0m      98 argon2-cffi-bindings      1m:22.3s"
     ]
    },
    {
     "name": "stdout",
     "output_type": "stream",
     "text": [
      "\u001b[2K\u001b[1A\u001b[2K\u001b[1A\u001b[2K\u001b[0G[+] 1m:22.8s\r\n",
      "Downloading      ━━━━━━━━━━━━━━━━━━━━ 286.6MB                              13.9s\r\n",
      "Extracting  (99) ━━━━━━━━╸\u001b[33m━━━━━━━━━━━\u001b[0m      98 argon2-cffi-bindings      1m:22.4s"
     ]
    },
    {
     "name": "stdout",
     "output_type": "stream",
     "text": [
      "\u001b[2K\u001b[1A\u001b[2K\u001b[1A\u001b[2K\u001b[0G[+] 1m:22.9s\r\n",
      "Downloading      ━━━━━━━━━━━━━━━━━━━━ 286.6MB                              13.9s\r\n",
      "Extracting  (99) ━━━━━━━━╸\u001b[33m━━━━━━━━━━━\u001b[0m      98 argon2-cffi-bindings      1m:22.5s"
     ]
    },
    {
     "name": "stdout",
     "output_type": "stream",
     "text": [
      "\u001b[2K\u001b[1A\u001b[2K\u001b[1A\u001b[2K\u001b[0G[+] 1m:23.0s\r\n",
      "Downloading      ━━━━━━━━━━━━━━━━━━━━ 286.6MB                              13.9s\r\n",
      "Extracting  (99) ━━━━━━━━╸\u001b[33m━━━━━━━━━━━\u001b[0m      98 argon2-cffi-bindings      1m:22.6s"
     ]
    },
    {
     "name": "stdout",
     "output_type": "stream",
     "text": [
      "\u001b[2K\u001b[1A\u001b[2K\u001b[1A\u001b[2K\u001b[0G[+] 1m:23.1s\r\n",
      "Downloading      ━━━━━━━━━━━━━━━━━━━━ 286.6MB                              13.9s\r\n",
      "Extracting  (99) ━━━━━━━━╸\u001b[33m━━━━━━━━━━━\u001b[0m      98 attrs                     1m:22.7s"
     ]
    },
    {
     "name": "stdout",
     "output_type": "stream",
     "text": [
      "\u001b[2K\u001b[1A\u001b[2K\u001b[1A\u001b[2K\u001b[0G[+] 1m:23.2s\r\n",
      "Downloading      ━━━━━━━━━━━━━━━━━━━━ 286.6MB                              13.9s\r\n",
      "Extracting  (99) ━━━━━━━━╸\u001b[33m━━━━━━━━━━━\u001b[0m      98 attrs                     1m:22.8s"
     ]
    },
    {
     "name": "stdout",
     "output_type": "stream",
     "text": [
      "\u001b[2K\u001b[1A\u001b[2K\u001b[1A\u001b[2K\u001b[0G[+] 1m:23.3s\r\n",
      "Downloading      ━━━━━━━━━━━━━━━━━━━━ 286.6MB                              13.9s\r\n",
      "Extracting  (99) ━━━━━━━━╸\u001b[33m━━━━━━━━━━━\u001b[0m      98 attrs                     1m:22.9s"
     ]
    },
    {
     "name": "stdout",
     "output_type": "stream",
     "text": [
      "\u001b[2K\u001b[1A\u001b[2K\u001b[1A\u001b[2K\u001b[0G[+] 1m:23.4s\r\n",
      "Downloading      ━━━━━━━━━━━━━━━━━━━━ 286.6MB                              13.9s\r\n",
      "Extracting  (99) ━━━━━━━━╸\u001b[33m━━━━━━━━━━━\u001b[0m      98 attrs                     1m:23.0s"
     ]
    },
    {
     "name": "stdout",
     "output_type": "stream",
     "text": [
      "\u001b[2K\u001b[1A\u001b[2K\u001b[1A\u001b[2K\u001b[0G[+] 1m:23.5s\r\n",
      "Downloading      ━━━━━━━━━━━━━━━━━━━━ 286.6MB                              13.9s\r\n",
      "Extracting  (99) ━━━━━━━━╸\u001b[33m━━━━━━━━━━━\u001b[0m      98 beautifulsoup4            1m:23.1s"
     ]
    },
    {
     "name": "stdout",
     "output_type": "stream",
     "text": [
      "\u001b[2K\u001b[1A\u001b[2K\u001b[1A\u001b[2K\u001b[0G[+] 1m:23.6s\r\n",
      "Downloading      ━━━━━━━━━━━━━━━━━━━━ 286.6MB                              13.9s\r\n",
      "Extracting  (99) ━━━━━━━━╸\u001b[33m━━━━━━━━━━━\u001b[0m      98 beautifulsoup4            1m:23.2s"
     ]
    },
    {
     "name": "stdout",
     "output_type": "stream",
     "text": [
      "\u001b[2K\u001b[1A\u001b[2K\u001b[1A\u001b[2K\u001b[0G[+] 1m:23.7s\r\n",
      "Downloading      ━━━━━━━━━━━━━━━━━━━━ 286.6MB                              13.9s\r\n",
      "Extracting  (99) ━━━━━━━━╸\u001b[33m━━━━━━━━━━━\u001b[0m      98 beautifulsoup4            1m:23.3s"
     ]
    },
    {
     "name": "stdout",
     "output_type": "stream",
     "text": [
      "\u001b[2K\u001b[1A\u001b[2K\u001b[1A\u001b[2K\u001b[0G[+] 1m:23.8s\r\n",
      "Downloading      ━━━━━━━━━━━━━━━━━━━━ 286.6MB                              13.9s\r\n",
      "Extracting  (99) ━━━━━━━━╸\u001b[33m━━━━━━━━━━━\u001b[0m      98 beautifulsoup4            1m:23.4s"
     ]
    },
    {
     "name": "stdout",
     "output_type": "stream",
     "text": [
      "\u001b[2K\u001b[1A\u001b[2K\u001b[1A\u001b[2K\u001b[0G[+] 1m:23.9s\r\n",
      "Downloading      ━━━━━━━━━━━━━━━━━━━━ 286.6MB                              13.9s\r\n",
      "Extracting  (99) ━━━━━━━━╸\u001b[33m━━━━━━━━━━━\u001b[0m      98 boltons                   1m:23.5s"
     ]
    },
    {
     "name": "stdout",
     "output_type": "stream",
     "text": [
      "\u001b[2K\u001b[1A\u001b[2K\u001b[1A\u001b[2K\u001b[0G[+] 1m:24.0s\r\n",
      "Downloading      ━━━━━━━━━━━━━━━━━━━━ 286.6MB                              13.9s\r\n",
      "Extracting  (99) ━━━━━━━━╸\u001b[33m━━━━━━━━━━━\u001b[0m      98 boltons                   1m:23.6s"
     ]
    },
    {
     "name": "stdout",
     "output_type": "stream",
     "text": [
      "\u001b[2K\u001b[1A\u001b[2K\u001b[1A\u001b[2K\u001b[0G[+] 1m:24.1s\r\n",
      "Downloading      ━━━━━━━━━━━━━━━━━━━━ 286.6MB                              13.9s\r\n",
      "Extracting  (99) ━━━━━━━━╸\u001b[33m━━━━━━━━━━━\u001b[0m      98 boltons                   1m:23.7s"
     ]
    },
    {
     "name": "stdout",
     "output_type": "stream",
     "text": [
      "\u001b[2K\u001b[1A\u001b[2K\u001b[1A\u001b[2K\u001b[0G[+] 1m:24.2s\r\n",
      "Downloading      ━━━━━━━━━━━━━━━━━━━━ 286.6MB                              13.9s\r\n",
      "Extracting  (98) ━━━━━━━━━╸\u001b[33m━━━━━━━━━━\u001b[0m      99 boltons                   1m:23.8s"
     ]
    },
    {
     "name": "stdout",
     "output_type": "stream",
     "text": [
      "\u001b[2K\u001b[1A\u001b[2K\u001b[1A\u001b[2K\u001b[0G[+] 1m:24.3s\r\n",
      "Downloading      ━━━━━━━━━━━━━━━━━━━━ 286.6MB                              13.9s\r\n",
      "Extracting  (97) ━━━━━━━━━╸\u001b[33m━━━━━━━━━━\u001b[0m     100 brotlipy                  1m:23.9s"
     ]
    },
    {
     "name": "stdout",
     "output_type": "stream",
     "text": [
      "\u001b[2K\u001b[1A\u001b[2K\u001b[1A\u001b[2K\u001b[0G[+] 1m:24.4s\r\n",
      "Downloading      ━━━━━━━━━━━━━━━━━━━━ 286.6MB                              13.9s\r\n",
      "Extracting  (97) ━━━━━━━━━╸\u001b[33m━━━━━━━━━━\u001b[0m     100 brotlipy                  1m:24.0s"
     ]
    },
    {
     "name": "stdout",
     "output_type": "stream",
     "text": [
      "\u001b[2K\u001b[1A\u001b[2K\u001b[1A\u001b[2K\u001b[0G[+] 1m:24.5s\r\n",
      "Downloading      ━━━━━━━━━━━━━━━━━━━━ 286.6MB                              13.9s\r\n",
      "Extracting  (97) ━━━━━━━━━╸\u001b[33m━━━━━━━━━━\u001b[0m     100 brotlipy                  1m:24.1s"
     ]
    },
    {
     "name": "stdout",
     "output_type": "stream",
     "text": [
      "\u001b[2K\u001b[1A\u001b[2K\u001b[1A\u001b[2K\u001b[0G[+] 1m:24.6s\r\n",
      "Downloading      ━━━━━━━━━━━━━━━━━━━━ 286.6MB                              13.9s\r\n",
      "Extracting  (97) ━━━━━━━━━╸\u001b[33m━━━━━━━━━━\u001b[0m     100 brotlipy                  1m:24.2s"
     ]
    },
    {
     "name": "stdout",
     "output_type": "stream",
     "text": [
      "\u001b[2K\u001b[1A\u001b[2K\u001b[1A\u001b[2K\u001b[0G[+] 1m:24.7s\r\n",
      "Downloading      ━━━━━━━━━━━━━━━━━━━━ 286.6MB                              13.9s\r\n",
      "Extracting  (97) ━━━━━━━━━╸\u001b[33m━━━━━━━━━━\u001b[0m     100 bzip2                     1m:24.3s"
     ]
    },
    {
     "name": "stdout",
     "output_type": "stream",
     "text": [
      "\u001b[2K\u001b[1A\u001b[2K\u001b[1A\u001b[2K\u001b[0G[+] 1m:24.8s\r\n",
      "Downloading      ━━━━━━━━━━━━━━━━━━━━ 286.6MB                              13.9s\r\n",
      "Extracting  (97) ━━━━━━━━━╸\u001b[33m━━━━━━━━━━\u001b[0m     100 bzip2                     1m:24.4s"
     ]
    },
    {
     "name": "stdout",
     "output_type": "stream",
     "text": [
      "\u001b[2K\u001b[1A\u001b[2K\u001b[1A\u001b[2K\u001b[0G[+] 1m:24.9s\r\n",
      "Downloading      ━━━━━━━━━━━━━━━━━━━━ 286.6MB                              13.9s\r\n",
      "Extracting  (97) ━━━━━━━━━╸\u001b[33m━━━━━━━━━━\u001b[0m     100 bzip2                     1m:24.5s"
     ]
    },
    {
     "name": "stdout",
     "output_type": "stream",
     "text": [
      "\u001b[2K\u001b[1A\u001b[2K\u001b[1A\u001b[2K\u001b[0G[+] 1m:25.0s\r\n",
      "Downloading      ━━━━━━━━━━━━━━━━━━━━ 286.6MB                              13.9s\r\n",
      "Extracting  (97) ━━━━━━━━━╸\u001b[33m━━━━━━━━━━\u001b[0m     100 bzip2                     1m:24.6s"
     ]
    },
    {
     "name": "stdout",
     "output_type": "stream",
     "text": [
      "\u001b[2K\u001b[1A\u001b[2K\u001b[1A\u001b[2K\u001b[0G[+] 1m:25.1s\r\n",
      "Downloading      ━━━━━━━━━━━━━━━━━━━━ 286.6MB                              13.9s\r\n",
      "Extracting  (97) ━━━━━━━━━╸\u001b[33m━━━━━━━━━━\u001b[0m     100 c-ares                    1m:24.7s"
     ]
    },
    {
     "name": "stdout",
     "output_type": "stream",
     "text": [
      "\u001b[2K\u001b[1A\u001b[2K\u001b[1A\u001b[2K\u001b[0G[+] 1m:25.2s\r\n",
      "Downloading      ━━━━━━━━━━━━━━━━━━━━ 286.6MB                              13.9s\r\n",
      "Extracting  (97) ━━━━━━━━━╸\u001b[33m━━━━━━━━━━\u001b[0m     100 c-ares                    1m:24.8s"
     ]
    },
    {
     "name": "stdout",
     "output_type": "stream",
     "text": [
      "\u001b[2K\u001b[1A\u001b[2K\u001b[1A\u001b[2K\u001b[0G[+] 1m:25.3s\r\n",
      "Downloading      ━━━━━━━━━━━━━━━━━━━━ 286.6MB                              13.9s\r\n",
      "Extracting  (97) ━━━━━━━━━╸\u001b[33m━━━━━━━━━━\u001b[0m     100 c-ares                    1m:24.9s"
     ]
    },
    {
     "name": "stdout",
     "output_type": "stream",
     "text": [
      "\u001b[2K\u001b[1A\u001b[2K\u001b[1A\u001b[2K\u001b[0G[+] 1m:25.4s\r\n",
      "Downloading      ━━━━━━━━━━━━━━━━━━━━ 286.6MB                              13.9s\r\n",
      "Extracting  (97) ━━━━━━━━━╸\u001b[33m━━━━━━━━━━\u001b[0m     100 c-ares                    1m:25.0s"
     ]
    },
    {
     "name": "stdout",
     "output_type": "stream",
     "text": [
      "\u001b[2K\u001b[1A\u001b[2K\u001b[1A\u001b[2K\u001b[0G[+] 1m:25.5s\r\n",
      "Downloading      ━━━━━━━━━━━━━━━━━━━━ 286.6MB                              13.9s\r\n",
      "Extracting  (97) ━━━━━━━━━╸\u001b[33m━━━━━━━━━━\u001b[0m     100 cairo                     1m:25.1s"
     ]
    },
    {
     "name": "stdout",
     "output_type": "stream",
     "text": [
      "\u001b[2K\u001b[1A\u001b[2K\u001b[1A\u001b[2K\u001b[0G[+] 1m:25.6s\r\n",
      "Downloading      ━━━━━━━━━━━━━━━━━━━━ 286.6MB                              13.9s\r\n",
      "Extracting  (97) ━━━━━━━━━╸\u001b[33m━━━━━━━━━━\u001b[0m     100 cairo                     1m:25.2s"
     ]
    },
    {
     "name": "stdout",
     "output_type": "stream",
     "text": [
      "\u001b[2K\u001b[1A\u001b[2K\u001b[1A\u001b[2K\u001b[0G[+] 1m:25.7s\r\n",
      "Downloading      ━━━━━━━━━━━━━━━━━━━━ 286.6MB                              13.9s\r\n",
      "Extracting  (97) ━━━━━━━━━╸\u001b[33m━━━━━━━━━━\u001b[0m     100 cairo                     1m:25.3s"
     ]
    },
    {
     "name": "stdout",
     "output_type": "stream",
     "text": [
      "\u001b[2K\u001b[1A\u001b[2K\u001b[1A\u001b[2K\u001b[0G[+] 1m:25.8s\r\n",
      "Downloading      ━━━━━━━━━━━━━━━━━━━━ 286.6MB                              13.9s\r\n",
      "Extracting  (97) ━━━━━━━━━╸\u001b[33m━━━━━━━━━━\u001b[0m     100 cairo                     1m:25.4s"
     ]
    },
    {
     "name": "stdout",
     "output_type": "stream",
     "text": [
      "\u001b[2K\u001b[1A\u001b[2K\u001b[1A\u001b[2K\u001b[0G[+] 1m:25.9s\r\n",
      "Downloading      ━━━━━━━━━━━━━━━━━━━━ 286.6MB                              13.9s\r\n",
      "Extracting  (97) ━━━━━━━━━╸\u001b[33m━━━━━━━━━━\u001b[0m     100 certifi                   1m:25.5s"
     ]
    },
    {
     "name": "stdout",
     "output_type": "stream",
     "text": [
      "\u001b[2K\u001b[1A\u001b[2K\u001b[1A\u001b[2K\u001b[0G[+] 1m:26.0s\r\n",
      "Downloading      ━━━━━━━━━━━━━━━━━━━━ 286.6MB                              13.9s\r\n",
      "Extracting  (97) ━━━━━━━━━╸\u001b[33m━━━━━━━━━━\u001b[0m     100 certifi                   1m:25.6s"
     ]
    },
    {
     "name": "stdout",
     "output_type": "stream",
     "text": [
      "\u001b[2K\u001b[1A\u001b[2K\u001b[1A\u001b[2K\u001b[0G[+] 1m:26.1s\r\n",
      "Downloading      ━━━━━━━━━━━━━━━━━━━━ 286.6MB                              13.9s\r\n",
      "Extracting  (97) ━━━━━━━━━╸\u001b[33m━━━━━━━━━━\u001b[0m     100 certifi                   1m:25.7s"
     ]
    },
    {
     "name": "stdout",
     "output_type": "stream",
     "text": [
      "\u001b[2K\u001b[1A\u001b[2K\u001b[1A\u001b[2K\u001b[0G[+] 1m:26.2s\r\n",
      "Downloading      ━━━━━━━━━━━━━━━━━━━━ 286.6MB                              13.9s\r\n",
      "Extracting  (97) ━━━━━━━━━╸\u001b[33m━━━━━━━━━━\u001b[0m     100 certifi                   1m:25.8s"
     ]
    },
    {
     "name": "stdout",
     "output_type": "stream",
     "text": [
      "\u001b[2K\u001b[1A\u001b[2K\u001b[1A\u001b[2K\u001b[0G[+] 1m:26.3s\r\n",
      "Downloading      ━━━━━━━━━━━━━━━━━━━━ 286.6MB                              13.9s\r\n",
      "Extracting  (97) ━━━━━━━━━╸\u001b[33m━━━━━━━━━━\u001b[0m     100 conda                     1m:25.9s"
     ]
    },
    {
     "name": "stdout",
     "output_type": "stream",
     "text": [
      "\u001b[2K\u001b[1A\u001b[2K\u001b[1A\u001b[2K\u001b[0G[+] 1m:26.4s\r\n",
      "Downloading      ━━━━━━━━━━━━━━━━━━━━ 286.6MB                              13.9s\r\n",
      "Extracting  (96) ━━━━━━━━━╸\u001b[33m━━━━━━━━━━\u001b[0m     101 conda                     1m:26.0s"
     ]
    },
    {
     "name": "stdout",
     "output_type": "stream",
     "text": [
      "\u001b[2K\u001b[1A\u001b[2K\u001b[1A\u001b[2K\u001b[0G[+] 1m:26.5s\r\n",
      "Downloading      ━━━━━━━━━━━━━━━━━━━━ 286.6MB                              13.9s\r\n",
      "Extracting  (96) ━━━━━━━━━╸\u001b[33m━━━━━━━━━━\u001b[0m     101 conda                     1m:26.1s"
     ]
    },
    {
     "name": "stdout",
     "output_type": "stream",
     "text": [
      "\u001b[2K\u001b[1A\u001b[2K\u001b[1A\u001b[2K\u001b[0G[+] 1m:26.6s\r\n",
      "Downloading      ━━━━━━━━━━━━━━━━━━━━ 286.6MB                              13.9s\r\n",
      "Extracting  (96) ━━━━━━━━━╸\u001b[33m━━━━━━━━━━\u001b[0m     101 conda                     1m:26.2s"
     ]
    },
    {
     "name": "stdout",
     "output_type": "stream",
     "text": [
      "\u001b[2K\u001b[1A\u001b[2K\u001b[1A\u001b[2K\u001b[0G[+] 1m:26.7s\r\n",
      "Downloading      ━━━━━━━━━━━━━━━━━━━━ 286.6MB                              13.9s\r\n",
      "Extracting  (96) ━━━━━━━━━╸\u001b[33m━━━━━━━━━━\u001b[0m     101 cryptography              1m:26.3s"
     ]
    },
    {
     "name": "stdout",
     "output_type": "stream",
     "text": [
      "\u001b[2K\u001b[1A\u001b[2K\u001b[1A\u001b[2K\u001b[0G[+] 1m:26.8s\r\n",
      "Downloading      ━━━━━━━━━━━━━━━━━━━━ 286.6MB                              13.9s\r\n",
      "Extracting  (96) ━━━━━━━━━╸\u001b[33m━━━━━━━━━━\u001b[0m     101 cryptography              1m:26.4s"
     ]
    },
    {
     "name": "stdout",
     "output_type": "stream",
     "text": [
      "\u001b[2K\u001b[1A\u001b[2K\u001b[1A\u001b[2K\u001b[0G[+] 1m:26.9s\r\n",
      "Downloading      ━━━━━━━━━━━━━━━━━━━━ 286.6MB                              13.9s\r\n",
      "Extracting  (96) ━━━━━━━━━╸\u001b[33m━━━━━━━━━━\u001b[0m     101 cryptography              1m:26.5s"
     ]
    },
    {
     "name": "stdout",
     "output_type": "stream",
     "text": [
      "\u001b[2K\u001b[1A\u001b[2K\u001b[1A\u001b[2K\u001b[0G[+] 1m:27.0s\r\n",
      "Downloading      ━━━━━━━━━━━━━━━━━━━━ 286.6MB                              13.9s\r\n",
      "Extracting  (96) ━━━━━━━━━╸\u001b[33m━━━━━━━━━━\u001b[0m     101 cryptography              1m:26.6s"
     ]
    },
    {
     "name": "stdout",
     "output_type": "stream",
     "text": [
      "\u001b[2K\u001b[1A\u001b[2K\u001b[1A\u001b[2K\u001b[0G[+] 1m:27.1s\r\n",
      "Downloading      ━━━━━━━━━━━━━━━━━━━━ 286.6MB                              13.9s\r\n",
      "Extracting  (96) ━━━━━━━━━╸\u001b[33m━━━━━━━━━━\u001b[0m     101 dbus                      1m:26.7s"
     ]
    },
    {
     "name": "stdout",
     "output_type": "stream",
     "text": [
      "\u001b[2K\u001b[1A\u001b[2K\u001b[1A\u001b[2K\u001b[0G[+] 1m:27.2s\r\n",
      "Downloading      ━━━━━━━━━━━━━━━━━━━━ 286.6MB                              13.9s\r\n",
      "Extracting  (96) ━━━━━━━━━╸\u001b[33m━━━━━━━━━━\u001b[0m     101 dbus                      1m:26.8s"
     ]
    },
    {
     "name": "stdout",
     "output_type": "stream",
     "text": [
      "\u001b[2K\u001b[1A\u001b[2K\u001b[1A\u001b[2K\u001b[0G[+] 1m:27.3s\r\n",
      "Downloading      ━━━━━━━━━━━━━━━━━━━━ 286.6MB                              13.9s\r\n",
      "Extracting  (96) ━━━━━━━━━╸\u001b[33m━━━━━━━━━━\u001b[0m     101 dbus                      1m:26.9s"
     ]
    },
    {
     "name": "stdout",
     "output_type": "stream",
     "text": [
      "\u001b[2K\u001b[1A\u001b[2K\u001b[1A\u001b[2K\u001b[0G[+] 1m:27.4s\r\n",
      "Downloading      ━━━━━━━━━━━━━━━━━━━━ 286.6MB                              13.9s\r\n",
      "Extracting  (96) ━━━━━━━━━╸\u001b[33m━━━━━━━━━━\u001b[0m     101 dbus                      1m:27.0s"
     ]
    },
    {
     "name": "stdout",
     "output_type": "stream",
     "text": [
      "\u001b[2K\u001b[1A\u001b[2K\u001b[1A\u001b[2K\u001b[0G[+] 1m:27.5s\r\n",
      "Downloading      ━━━━━━━━━━━━━━━━━━━━ 286.6MB                              13.9s\r\n",
      "Extracting  (96) ━━━━━━━━━╸\u001b[33m━━━━━━━━━━\u001b[0m     101 debugpy                   1m:27.1s"
     ]
    },
    {
     "name": "stdout",
     "output_type": "stream",
     "text": [
      "\u001b[2K\u001b[1A\u001b[2K\u001b[1A\u001b[2K\u001b[0G[+] 1m:27.6s\r\n",
      "Downloading      ━━━━━━━━━━━━━━━━━━━━ 286.6MB                              13.9s\r\n",
      "Extracting  (96) ━━━━━━━━━╸\u001b[33m━━━━━━━━━━\u001b[0m     101 debugpy                   1m:27.2s"
     ]
    },
    {
     "name": "stdout",
     "output_type": "stream",
     "text": [
      "\u001b[2K\u001b[1A\u001b[2K\u001b[1A\u001b[2K\u001b[0G[+] 1m:27.7s\r\n",
      "Downloading      ━━━━━━━━━━━━━━━━━━━━ 286.6MB                              13.9s\r\n",
      "Extracting  (96) ━━━━━━━━━╸\u001b[33m━━━━━━━━━━\u001b[0m     101 debugpy                   1m:27.3s"
     ]
    },
    {
     "name": "stdout",
     "output_type": "stream",
     "text": [
      "\u001b[2K\u001b[1A\u001b[2K\u001b[1A\u001b[2K\u001b[0G[+] 1m:27.8s\r\n",
      "Downloading      ━━━━━━━━━━━━━━━━━━━━ 286.6MB                              13.9s\r\n",
      "Extracting  (95) ━━━━━━━━━╸\u001b[33m━━━━━━━━━━\u001b[0m     102 debugpy                   1m:27.4s"
     ]
    },
    {
     "name": "stdout",
     "output_type": "stream",
     "text": [
      "\u001b[2K\u001b[1A\u001b[2K\u001b[1A\u001b[2K\u001b[0G[+] 1m:27.9s\r\n",
      "Downloading      ━━━━━━━━━━━━━━━━━━━━ 286.6MB                              13.9s\r\n"
     ]
    },
    {
     "name": "stdout",
     "output_type": "stream",
     "text": [
      "Extracting  (95) ━━━━━━━━━╸\u001b[33m━━━━━━━━━━\u001b[0m     102 fftw                      1m:27.5s"
     ]
    },
    {
     "name": "stdout",
     "output_type": "stream",
     "text": [
      "\u001b[2K\u001b[1A\u001b[2K\u001b[1A\u001b[2K\u001b[0G[+] 1m:28.0s\r\n",
      "Downloading      ━━━━━━━━━━━━━━━━━━━━ 286.6MB                              13.9s\r\n",
      "Extracting  (94) ━━━━━━━━━╸\u001b[33m━━━━━━━━━━\u001b[0m     103 fftw                      1m:27.6s"
     ]
    },
    {
     "name": "stdout",
     "output_type": "stream",
     "text": [
      "\u001b[2K\u001b[1A\u001b[2K\u001b[1A\u001b[2K\u001b[0G[+] 1m:28.1s\r\n",
      "Downloading      ━━━━━━━━━━━━━━━━━━━━ 286.6MB                              13.9s\r\n",
      "Extracting  (94) ━━━━━━━━━╸\u001b[33m━━━━━━━━━━\u001b[0m     103 fftw                      1m:27.7s"
     ]
    },
    {
     "name": "stdout",
     "output_type": "stream",
     "text": [
      "\u001b[2K\u001b[1A\u001b[2K\u001b[1A\u001b[2K\u001b[0G[+] 1m:28.2s\r\n",
      "Downloading      ━━━━━━━━━━━━━━━━━━━━ 286.6MB                              13.9s\r\n",
      "Extracting  (94) ━━━━━━━━━╸\u001b[33m━━━━━━━━━━\u001b[0m     103 fftw                      1m:27.8s"
     ]
    },
    {
     "name": "stdout",
     "output_type": "stream",
     "text": [
      "\u001b[2K\u001b[1A\u001b[2K\u001b[1A\u001b[2K\u001b[0G[+] 1m:28.3s\r\n",
      "Downloading      ━━━━━━━━━━━━━━━━━━━━ 286.6MB                              13.9s\r\n",
      "Extracting  (94) ━━━━━━━━━╸\u001b[33m━━━━━━━━━━\u001b[0m     103 fmt                       1m:27.9s"
     ]
    },
    {
     "name": "stdout",
     "output_type": "stream",
     "text": [
      "\u001b[2K\u001b[1A\u001b[2K\u001b[1A\u001b[2K\u001b[0G[+] 1m:28.4s\r\n",
      "Downloading      ━━━━━━━━━━━━━━━━━━━━ 286.6MB                              13.9s\r\n",
      "Extracting  (94) ━━━━━━━━━╸\u001b[33m━━━━━━━━━━\u001b[0m     103 fmt                       1m:28.0s"
     ]
    },
    {
     "name": "stdout",
     "output_type": "stream",
     "text": [
      "\u001b[2K\u001b[1A\u001b[2K\u001b[1A\u001b[2K\u001b[0G[+] 1m:28.5s\r\n",
      "Downloading      ━━━━━━━━━━━━━━━━━━━━ 286.6MB                              13.9s\r\n",
      "Extracting  (94) ━━━━━━━━━╸\u001b[33m━━━━━━━━━━\u001b[0m     103 fmt                       1m:28.1s"
     ]
    },
    {
     "name": "stdout",
     "output_type": "stream",
     "text": [
      "\u001b[2K\u001b[1A\u001b[2K\u001b[1A\u001b[2K\u001b[0G[+] 1m:28.6s\r\n",
      "Downloading      ━━━━━━━━━━━━━━━━━━━━ 286.6MB                              13.9s\r\n",
      "Extracting  (94) ━━━━━━━━━╸\u001b[33m━━━━━━━━━━\u001b[0m     103 fmt                       1m:28.2s"
     ]
    },
    {
     "name": "stdout",
     "output_type": "stream",
     "text": [
      "\u001b[2K\u001b[1A\u001b[2K\u001b[1A\u001b[2K\u001b[0G[+] 1m:28.7s\r\n",
      "Downloading      ━━━━━━━━━━━━━━━━━━━━ 286.6MB                              13.9s\r\n",
      "Extracting  (94) ━━━━━━━━━╸\u001b[33m━━━━━━━━━━\u001b[0m     103 font-ttf-source-code-pro  1m:28.3s"
     ]
    },
    {
     "name": "stdout",
     "output_type": "stream",
     "text": [
      "\u001b[2K\u001b[1A\u001b[2K\u001b[1A\u001b[2K\u001b[0G[+] 1m:28.8s\r\n",
      "Downloading      ━━━━━━━━━━━━━━━━━━━━ 286.6MB                              13.9s\r\n",
      "Extracting  (94) ━━━━━━━━━╸\u001b[33m━━━━━━━━━━\u001b[0m     103 font-ttf-source-code-pro  1m:28.4s"
     ]
    },
    {
     "name": "stdout",
     "output_type": "stream",
     "text": [
      "\u001b[2K\u001b[1A\u001b[2K\u001b[1A\u001b[2K\u001b[0G[+] 1m:28.9s\r\n",
      "Downloading      ━━━━━━━━━━━━━━━━━━━━ 286.6MB                              13.9s\r\n",
      "Extracting  (94) ━━━━━━━━━╸\u001b[33m━━━━━━━━━━\u001b[0m     103 font-ttf-source-code-pro  1m:28.5s"
     ]
    },
    {
     "name": "stdout",
     "output_type": "stream",
     "text": [
      "\u001b[2K\u001b[1A\u001b[2K\u001b[1A\u001b[2K\u001b[0G[+] 1m:29.0s\r\n",
      "Downloading      ━━━━━━━━━━━━━━━━━━━━ 286.6MB                              13.9s\r\n",
      "Extracting  (94) ━━━━━━━━━╸\u001b[33m━━━━━━━━━━\u001b[0m     103 font-ttf-source-code-pro  1m:28.6s"
     ]
    },
    {
     "name": "stdout",
     "output_type": "stream",
     "text": [
      "\u001b[2K\u001b[1A\u001b[2K\u001b[1A\u001b[2K\u001b[0G[+] 1m:29.1s\r\n",
      "Downloading      ━━━━━━━━━━━━━━━━━━━━ 286.6MB                              13.9s\r\n",
      "Extracting  (94) ━━━━━━━━━╸\u001b[33m━━━━━━━━━━\u001b[0m     103 font-ttf-ubuntu           1m:28.7s"
     ]
    },
    {
     "name": "stdout",
     "output_type": "stream",
     "text": [
      "\u001b[2K\u001b[1A\u001b[2K\u001b[1A\u001b[2K\u001b[0G[+] 1m:29.2s\r\n",
      "Downloading      ━━━━━━━━━━━━━━━━━━━━ 286.6MB                              13.9s\r\n",
      "Extracting  (94) ━━━━━━━━━╸\u001b[33m━━━━━━━━━━\u001b[0m     103 font-ttf-ubuntu           1m:28.8s"
     ]
    },
    {
     "name": "stdout",
     "output_type": "stream",
     "text": [
      "\u001b[2K\u001b[1A\u001b[2K\u001b[1A\u001b[2K\u001b[0G[+] 1m:29.3s\r\n",
      "Downloading      ━━━━━━━━━━━━━━━━━━━━ 286.6MB                              13.9s\r\n",
      "Extracting  (93) ━━━━━━━━━╸\u001b[33m━━━━━━━━━━\u001b[0m     104 font-ttf-ubuntu           1m:28.9s"
     ]
    },
    {
     "name": "stdout",
     "output_type": "stream",
     "text": [
      "\u001b[2K\u001b[1A\u001b[2K\u001b[1A\u001b[2K\u001b[0G[+] 1m:29.4s\r\n",
      "Downloading      ━━━━━━━━━━━━━━━━━━━━ 286.6MB                              13.9s\r\n",
      "Extracting  (93) ━━━━━━━━━╸\u001b[33m━━━━━━━━━━\u001b[0m     104 font-ttf-ubuntu           1m:29.0s"
     ]
    },
    {
     "name": "stdout",
     "output_type": "stream",
     "text": [
      "\u001b[2K\u001b[1A\u001b[2K\u001b[1A\u001b[2K\u001b[0G[+] 1m:29.5s\r\n",
      "Downloading      ━━━━━━━━━━━━━━━━━━━━ 286.6MB                              13.9s\r\n",
      "Extracting  (92) ━━━━━━━━━╸\u001b[33m━━━━━━━━━━\u001b[0m     105 fonts-conda-forge         1m:29.1s"
     ]
    },
    {
     "name": "stdout",
     "output_type": "stream",
     "text": [
      "\u001b[2K\u001b[1A\u001b[2K\u001b[1A\u001b[2K\u001b[0G[+] 1m:29.6s\r\n",
      "Downloading      ━━━━━━━━━━━━━━━━━━━━ 286.6MB                              13.9s\r\n",
      "Extracting  (92) ━━━━━━━━━╸\u001b[33m━━━━━━━━━━\u001b[0m     105 fonts-conda-forge         1m:29.2s"
     ]
    },
    {
     "name": "stdout",
     "output_type": "stream",
     "text": [
      "\u001b[2K\u001b[1A\u001b[2K\u001b[1A\u001b[2K\u001b[0G[+] 1m:29.7s\r\n",
      "Downloading      ━━━━━━━━━━━━━━━━━━━━ 286.6MB                              13.9s\r\n",
      "Extracting  (92) ━━━━━━━━━╸\u001b[33m━━━━━━━━━━\u001b[0m     105 fonts-conda-forge         1m:29.3s"
     ]
    },
    {
     "name": "stdout",
     "output_type": "stream",
     "text": [
      "\u001b[2K\u001b[1A\u001b[2K\u001b[1A\u001b[2K\u001b[0G[+] 1m:29.8s\r\n",
      "Downloading      ━━━━━━━━━━━━━━━━━━━━ 286.6MB                              13.9s\r\n",
      "Extracting  (92) ━━━━━━━━━╸\u001b[33m━━━━━━━━━━\u001b[0m     105 fonts-conda-forge         1m:29.4s"
     ]
    },
    {
     "name": "stdout",
     "output_type": "stream",
     "text": [
      "\u001b[2K\u001b[1A\u001b[2K\u001b[1A\u001b[2K\u001b[0G[+] 1m:29.9s\r\n",
      "Downloading      ━━━━━━━━━━━━━━━━━━━━ 286.6MB                              13.9s\r\n",
      "Extracting  (92) ━━━━━━━━━╸\u001b[33m━━━━━━━━━━\u001b[0m     105 glib                      1m:29.5s"
     ]
    },
    {
     "name": "stdout",
     "output_type": "stream",
     "text": [
      "\u001b[2K\u001b[1A\u001b[2K\u001b[1A\u001b[2K\u001b[0G[+] 1m:30.0s\r\n",
      "Downloading      ━━━━━━━━━━━━━━━━━━━━ 286.6MB                              13.9s\r\n",
      "Extracting  (92) ━━━━━━━━━╸\u001b[33m━━━━━━━━━━\u001b[0m     105 glib                      1m:29.6s"
     ]
    },
    {
     "name": "stdout",
     "output_type": "stream",
     "text": [
      "\u001b[2K\u001b[1A\u001b[2K\u001b[1A\u001b[2K\u001b[0G[+] 1m:30.1s\r\n",
      "Downloading      ━━━━━━━━━━━━━━━━━━━━ 286.6MB                              13.9s\r\n",
      "Extracting  (92) ━━━━━━━━━╸\u001b[33m━━━━━━━━━━\u001b[0m     105 glib                      1m:29.7s"
     ]
    },
    {
     "name": "stdout",
     "output_type": "stream",
     "text": [
      "\u001b[2K\u001b[1A\u001b[2K\u001b[1A\u001b[2K\u001b[0G[+] 1m:30.2s\r\n",
      "Downloading      ━━━━━━━━━━━━━━━━━━━━ 286.6MB                              13.9s\r\n",
      "Extracting  (92) ━━━━━━━━━╸\u001b[33m━━━━━━━━━━\u001b[0m     105 glib                      1m:29.8s"
     ]
    },
    {
     "name": "stdout",
     "output_type": "stream",
     "text": [
      "\u001b[2K\u001b[1A\u001b[2K\u001b[1A\u001b[2K\u001b[0G[+] 1m:30.3s\r\n",
      "Downloading      ━━━━━━━━━━━━━━━━━━━━ 286.6MB                              13.9s\r\n",
      "Extracting  (92) ━━━━━━━━━╸\u001b[33m━━━━━━━━━━\u001b[0m     105 glib-tools                1m:29.9s"
     ]
    },
    {
     "name": "stdout",
     "output_type": "stream",
     "text": [
      "\u001b[2K\u001b[1A\u001b[2K\u001b[1A\u001b[2K\u001b[0G[+] 1m:30.4s\r\n",
      "Downloading      ━━━━━━━━━━━━━━━━━━━━ 286.6MB                              13.9s\r\n",
      "Extracting  (92) ━━━━━━━━━╸\u001b[33m━━━━━━━━━━\u001b[0m     105 glib-tools                1m:30.0s"
     ]
    },
    {
     "name": "stdout",
     "output_type": "stream",
     "text": [
      "\u001b[2K\u001b[1A\u001b[2K\u001b[1A\u001b[2K\u001b[0G[+] 1m:30.5s\r\n",
      "Downloading      ━━━━━━━━━━━━━━━━━━━━ 286.6MB                              13.9s\r\n",
      "Extracting  (92) ━━━━━━━━━╸\u001b[33m━━━━━━━━━━\u001b[0m     105 glib-tools                1m:30.1s"
     ]
    },
    {
     "name": "stdout",
     "output_type": "stream",
     "text": [
      "\u001b[2K\u001b[1A\u001b[2K\u001b[1A\u001b[2K\u001b[0G[+] 1m:30.6s\r\n",
      "Downloading      ━━━━━━━━━━━━━━━━━━━━ 286.6MB                              13.9s\r\n",
      "Extracting  (92) ━━━━━━━━━╸\u001b[33m━━━━━━━━━━\u001b[0m     105 glib-tools                1m:30.2s"
     ]
    },
    {
     "name": "stdout",
     "output_type": "stream",
     "text": [
      "\u001b[2K\u001b[1A\u001b[2K\u001b[1A\u001b[2K\u001b[0G[+] 1m:30.7s\r\n",
      "Downloading      ━━━━━━━━━━━━━━━━━━━━ 286.6MB                              13.9s\r\n",
      "Extracting  (92) ━━━━━━━━━╸\u001b[33m━━━━━━━━━━\u001b[0m     105 gstreamer                 1m:30.3s"
     ]
    },
    {
     "name": "stdout",
     "output_type": "stream",
     "text": [
      "\u001b[2K\u001b[1A\u001b[2K\u001b[1A\u001b[2K\u001b[0G[+] 1m:30.8s\r\n",
      "Downloading      ━━━━━━━━━━━━━━━━━━━━ 286.6MB                              13.9s\r\n",
      "Extracting  (92) ━━━━━━━━━╸\u001b[33m━━━━━━━━━━\u001b[0m     105 gstreamer                 1m:30.4s"
     ]
    },
    {
     "name": "stdout",
     "output_type": "stream",
     "text": [
      "\u001b[2K\u001b[1A\u001b[2K\u001b[1A\u001b[2K\u001b[0G[+] 1m:30.9s\r\n",
      "Downloading      ━━━━━━━━━━━━━━━━━━━━ 286.6MB                              13.9s\r\n",
      "Extracting  (92) ━━━━━━━━━╸\u001b[33m━━━━━━━━━━\u001b[0m     105 gstreamer                 1m:30.5s"
     ]
    },
    {
     "name": "stdout",
     "output_type": "stream",
     "text": [
      "\u001b[2K\u001b[1A\u001b[2K\u001b[1A\u001b[2K\u001b[0G[+] 1m:31.0s\r\n",
      "Downloading      ━━━━━━━━━━━━━━━━━━━━ 286.6MB                              13.9s\r\n",
      "Extracting  (91) ━━━━━━━━━╸\u001b[33m━━━━━━━━━━\u001b[0m     106 gstreamer                 1m:30.6s"
     ]
    },
    {
     "name": "stdout",
     "output_type": "stream",
     "text": [
      "\u001b[2K\u001b[1A\u001b[2K\u001b[1A\u001b[2K\u001b[0G[+] 1m:31.1s\r\n",
      "Downloading      ━━━━━━━━━━━━━━━━━━━━ 286.6MB                              13.9s\r\n",
      "Extracting  (91) ━━━━━━━━━╸\u001b[33m━━━━━━━━━━\u001b[0m     106 importlib-metadata        1m:30.7s"
     ]
    },
    {
     "name": "stdout",
     "output_type": "stream",
     "text": [
      "\u001b[2K\u001b[1A\u001b[2K\u001b[1A\u001b[2K\u001b[0G[+] 1m:31.2s\r\n",
      "Downloading      ━━━━━━━━━━━━━━━━━━━━ 286.6MB                              13.9s\r\n",
      "Extracting  (90) ━━━━━━━━━╸\u001b[33m━━━━━━━━━━\u001b[0m     107 importlib-metadata        1m:30.8s"
     ]
    },
    {
     "name": "stdout",
     "output_type": "stream",
     "text": [
      "\u001b[2K\u001b[1A\u001b[2K\u001b[1A\u001b[2K\u001b[0G[+] 1m:31.3s\r\n",
      "Downloading      ━━━━━━━━━━━━━━━━━━━━ 286.6MB                              13.9s\r\n",
      "Extracting  (90) ━━━━━━━━━╸\u001b[33m━━━━━━━━━━\u001b[0m     107 importlib-metadata        1m:30.9s"
     ]
    },
    {
     "name": "stdout",
     "output_type": "stream",
     "text": [
      "\u001b[2K\u001b[1A\u001b[2K\u001b[1A\u001b[2K\u001b[0G[+] 1m:31.4s\r\n",
      "Downloading      ━━━━━━━━━━━━━━━━━━━━ 286.6MB                              13.9s\r\n",
      "Extracting  (90) ━━━━━━━━━╸\u001b[33m━━━━━━━━━━\u001b[0m     107 importlib-metadata        1m:31.0s"
     ]
    },
    {
     "name": "stdout",
     "output_type": "stream",
     "text": [
      "\u001b[2K\u001b[1A\u001b[2K\u001b[1A\u001b[2K\u001b[0G[+] 1m:31.5s\r\n",
      "Downloading      ━━━━━━━━━━━━━━━━━━━━ 286.6MB                              13.9s\r\n",
      "Extracting  (90) ━━━━━━━━━╸\u001b[33m━━━━━━━━━━\u001b[0m     107 importlib_resources       1m:31.1s"
     ]
    },
    {
     "name": "stdout",
     "output_type": "stream",
     "text": [
      "\u001b[2K\u001b[1A\u001b[2K\u001b[1A\u001b[2K\u001b[0G[+] 1m:31.6s\r\n",
      "Downloading      ━━━━━━━━━━━━━━━━━━━━ 286.6MB                              13.9s\r\n",
      "Extracting  (90) ━━━━━━━━━╸\u001b[33m━━━━━━━━━━\u001b[0m     107 importlib_resources       1m:31.2s"
     ]
    },
    {
     "name": "stdout",
     "output_type": "stream",
     "text": [
      "\u001b[2K\u001b[1A\u001b[2K\u001b[1A\u001b[2K\u001b[0G[+] 1m:31.7s\r\n",
      "Downloading      ━━━━━━━━━━━━━━━━━━━━ 286.6MB                              13.9s\r\n",
      "Extracting  (90) ━━━━━━━━━╸\u001b[33m━━━━━━━━━━\u001b[0m     107 importlib_resources       1m:31.3s"
     ]
    },
    {
     "name": "stdout",
     "output_type": "stream",
     "text": [
      "\u001b[2K\u001b[1A\u001b[2K\u001b[1A\u001b[2K\u001b[0G[+] 1m:31.8s\r\n",
      "Downloading      ━━━━━━━━━━━━━━━━━━━━ 286.6MB                              13.9s\r\n",
      "Extracting  (90) ━━━━━━━━━╸\u001b[33m━━━━━━━━━━\u001b[0m     107 importlib_resources       1m:31.4s"
     ]
    },
    {
     "name": "stdout",
     "output_type": "stream",
     "text": [
      "\u001b[2K\u001b[1A\u001b[2K\u001b[1A\u001b[2K\u001b[0G[+] 1m:31.9s\r\n",
      "Downloading      ━━━━━━━━━━━━━━━━━━━━ 286.6MB                              13.9s\r\n",
      "Extracting  (90) ━━━━━━━━━╸\u001b[33m━━━━━━━━━━\u001b[0m     107 ipykernel                 1m:31.5s"
     ]
    },
    {
     "name": "stdout",
     "output_type": "stream",
     "text": [
      "\u001b[2K\u001b[1A\u001b[2K\u001b[1A\u001b[2K\u001b[0G[+] 1m:32.0s\r\n",
      "Downloading      ━━━━━━━━━━━━━━━━━━━━ 286.6MB                              13.9s\r\n",
      "Extracting  (90) ━━━━━━━━━╸\u001b[33m━━━━━━━━━━\u001b[0m     107 ipykernel                 1m:31.6s"
     ]
    },
    {
     "name": "stdout",
     "output_type": "stream",
     "text": [
      "\u001b[2K\u001b[1A\u001b[2K\u001b[1A\u001b[2K\u001b[0G[+] 1m:32.1s\r\n",
      "Downloading      ━━━━━━━━━━━━━━━━━━━━ 286.6MB                              13.9s\r\n",
      "Extracting  (90) ━━━━━━━━━╸\u001b[33m━━━━━━━━━━\u001b[0m     107 ipykernel                 1m:31.7s"
     ]
    },
    {
     "name": "stdout",
     "output_type": "stream",
     "text": [
      "\u001b[2K\u001b[1A\u001b[2K\u001b[1A\u001b[2K\u001b[0G[+] 1m:32.2s\r\n",
      "Downloading      ━━━━━━━━━━━━━━━━━━━━ 286.6MB                              13.9s\r\n"
     ]
    },
    {
     "name": "stdout",
     "output_type": "stream",
     "text": [
      "Extracting  (90) ━━━━━━━━━╸\u001b[33m━━━━━━━━━━\u001b[0m     107 ipykernel                 1m:31.8s"
     ]
    },
    {
     "name": "stdout",
     "output_type": "stream",
     "text": [
      "\u001b[2K\u001b[1A\u001b[2K\u001b[1A\u001b[2K\u001b[0G[+] 1m:32.3s\r\n",
      "Downloading      ━━━━━━━━━━━━━━━━━━━━ 286.6MB                              13.9s\r\n",
      "Extracting  (90) ━━━━━━━━━╸\u001b[33m━━━━━━━━━━\u001b[0m     107 ipywidgets                1m:31.9s"
     ]
    },
    {
     "name": "stdout",
     "output_type": "stream",
     "text": [
      "\u001b[2K\u001b[1A\u001b[2K\u001b[1A\u001b[2K\u001b[0G[+] 1m:32.4s\r\n",
      "Downloading      ━━━━━━━━━━━━━━━━━━━━ 286.6MB                              13.9s\r\n",
      "Extracting  (90) ━━━━━━━━━╸\u001b[33m━━━━━━━━━━\u001b[0m     107 ipywidgets                1m:32.0s"
     ]
    },
    {
     "name": "stdout",
     "output_type": "stream",
     "text": [
      "\u001b[2K\u001b[1A\u001b[2K\u001b[1A\u001b[2K\u001b[0G[+] 1m:32.5s\r\n",
      "Downloading      ━━━━━━━━━━━━━━━━━━━━ 286.6MB                              13.9s\r\n",
      "Extracting  (90) ━━━━━━━━━╸\u001b[33m━━━━━━━━━━\u001b[0m     107 ipywidgets                1m:32.1s"
     ]
    },
    {
     "name": "stdout",
     "output_type": "stream",
     "text": [
      "\u001b[2K\u001b[1A\u001b[2K\u001b[1A\u001b[2K\u001b[0G[+] 1m:32.6s\r\n",
      "Downloading      ━━━━━━━━━━━━━━━━━━━━ 286.6MB                              13.9s\r\n",
      "Extracting  (89) ━━━━━━━━━╸\u001b[33m━━━━━━━━━━\u001b[0m     108 ipywidgets                1m:32.2s"
     ]
    },
    {
     "name": "stdout",
     "output_type": "stream",
     "text": [
      "\u001b[2K\u001b[1A\u001b[2K\u001b[1A\u001b[2K\u001b[0G[+] 1m:32.7s\r\n",
      "Downloading      ━━━━━━━━━━━━━━━━━━━━ 286.6MB                              13.9s\r\n",
      "Extracting  (88) ━━━━━━━━━━╸\u001b[33m━━━━━━━━━\u001b[0m     109 jack                      1m:32.3s"
     ]
    },
    {
     "name": "stdout",
     "output_type": "stream",
     "text": [
      "\u001b[2K\u001b[1A\u001b[2K\u001b[1A\u001b[2K\u001b[0G[+] 1m:32.8s\r\n",
      "Downloading      ━━━━━━━━━━━━━━━━━━━━ 286.6MB                              13.9s\r\n",
      "Extracting  (88) ━━━━━━━━━━╸\u001b[33m━━━━━━━━━\u001b[0m     109 jack                      1m:32.4s"
     ]
    },
    {
     "name": "stdout",
     "output_type": "stream",
     "text": [
      "\u001b[2K\u001b[1A\u001b[2K\u001b[1A\u001b[2K\u001b[0G[+] 1m:32.9s\r\n",
      "Downloading      ━━━━━━━━━━━━━━━━━━━━ 286.6MB                              13.9s\r\n",
      "Extracting  (88) ━━━━━━━━━━╸\u001b[33m━━━━━━━━━\u001b[0m     109 jack                      1m:32.5s"
     ]
    },
    {
     "name": "stdout",
     "output_type": "stream",
     "text": [
      "\u001b[2K\u001b[1A\u001b[2K\u001b[1A\u001b[2K\u001b[0G[+] 1m:33.0s\r\n",
      "Downloading      ━━━━━━━━━━━━━━━━━━━━ 286.6MB                              13.9s\r\n",
      "Extracting  (88) ━━━━━━━━━━╸\u001b[33m━━━━━━━━━\u001b[0m     109 jack                      1m:32.6s"
     ]
    },
    {
     "name": "stdout",
     "output_type": "stream",
     "text": [
      "\u001b[2K\u001b[1A\u001b[2K\u001b[1A\u001b[2K\u001b[0G[+] 1m:33.1s\r\n",
      "Downloading      ━━━━━━━━━━━━━━━━━━━━ 286.6MB                              13.9s\r\n",
      "Extracting  (88) ━━━━━━━━━━╸\u001b[33m━━━━━━━━━\u001b[0m     109 jsonpatch                 1m:32.7s"
     ]
    },
    {
     "name": "stdout",
     "output_type": "stream",
     "text": [
      "\u001b[2K\u001b[1A\u001b[2K\u001b[1A\u001b[2K\u001b[0G[+] 1m:33.2s\r\n",
      "Downloading      ━━━━━━━━━━━━━━━━━━━━ 286.6MB                              13.9s\r\n",
      "Extracting  (88) ━━━━━━━━━━╸\u001b[33m━━━━━━━━━\u001b[0m     109 jsonpatch                 1m:32.8s"
     ]
    },
    {
     "name": "stdout",
     "output_type": "stream",
     "text": [
      "\u001b[2K\u001b[1A\u001b[2K\u001b[1A\u001b[2K\u001b[0G[+] 1m:33.3s\r\n",
      "Downloading      ━━━━━━━━━━━━━━━━━━━━ 286.6MB                              13.9s\r\n",
      "Extracting  (88) ━━━━━━━━━━╸\u001b[33m━━━━━━━━━\u001b[0m     109 jsonpatch                 1m:32.9s"
     ]
    },
    {
     "name": "stdout",
     "output_type": "stream",
     "text": [
      "\u001b[2K\u001b[1A\u001b[2K\u001b[1A\u001b[2K\u001b[0G[+] 1m:33.4s\r\n",
      "Downloading      ━━━━━━━━━━━━━━━━━━━━ 286.6MB                              13.9s\r\n",
      "Extracting  (88) ━━━━━━━━━━╸\u001b[33m━━━━━━━━━\u001b[0m     109 jsonpatch                 1m:33.0s"
     ]
    },
    {
     "name": "stdout",
     "output_type": "stream",
     "text": [
      "\u001b[2K\u001b[1A\u001b[2K\u001b[1A\u001b[2K\u001b[0G[+] 1m:33.5s\r\n",
      "Downloading      ━━━━━━━━━━━━━━━━━━━━ 286.6MB                              13.9s\r\n",
      "Extracting  (88) ━━━━━━━━━━╸\u001b[33m━━━━━━━━━\u001b[0m     109 jupyter_client            1m:33.1s"
     ]
    },
    {
     "name": "stdout",
     "output_type": "stream",
     "text": [
      "\u001b[2K\u001b[1A\u001b[2K\u001b[1A\u001b[2K\u001b[0G[+] 1m:33.6s\r\n",
      "Downloading      ━━━━━━━━━━━━━━━━━━━━ 286.6MB                              13.9s\r\n",
      "Extracting  (88) ━━━━━━━━━━╸\u001b[33m━━━━━━━━━\u001b[0m     109 jupyter_client            1m:33.2s"
     ]
    },
    {
     "name": "stdout",
     "output_type": "stream",
     "text": [
      "\u001b[2K\u001b[1A\u001b[2K\u001b[1A\u001b[2K\u001b[0G[+] 1m:33.7s\r\n",
      "Downloading      ━━━━━━━━━━━━━━━━━━━━ 286.6MB                              13.9s\r\n",
      "Extracting  (88) ━━━━━━━━━━╸\u001b[33m━━━━━━━━━\u001b[0m     109 jupyter_client            1m:33.3s"
     ]
    },
    {
     "name": "stdout",
     "output_type": "stream",
     "text": [
      "\u001b[2K\u001b[1A\u001b[2K\u001b[1A\u001b[2K\u001b[0G[+] 1m:33.8s\r\n",
      "Downloading      ━━━━━━━━━━━━━━━━━━━━ 286.6MB                              13.9s\r\n",
      "Extracting  (88) ━━━━━━━━━━╸\u001b[33m━━━━━━━━━\u001b[0m     109 jupyter_client            1m:33.4s"
     ]
    },
    {
     "name": "stdout",
     "output_type": "stream",
     "text": [
      "\u001b[2K\u001b[1A\u001b[2K\u001b[1A\u001b[2K\u001b[0G[+] 1m:33.9s\r\n",
      "Downloading      ━━━━━━━━━━━━━━━━━━━━ 286.6MB                              13.9s\r\n",
      "Extracting  (88) ━━━━━━━━━━╸\u001b[33m━━━━━━━━━\u001b[0m     109 jupyter_console           1m:33.5s"
     ]
    },
    {
     "name": "stdout",
     "output_type": "stream",
     "text": [
      "\u001b[2K\u001b[1A\u001b[2K\u001b[1A\u001b[2K\u001b[0G[+] 1m:34.0s\r\n",
      "Downloading      ━━━━━━━━━━━━━━━━━━━━ 286.6MB                              13.9s\r\n"
     ]
    },
    {
     "name": "stdout",
     "output_type": "stream",
     "text": [
      "Extracting  (88) ━━━━━━━━━━╸\u001b[33m━━━━━━━━━\u001b[0m     109 jupyter_console           1m:33.6s"
     ]
    },
    {
     "name": "stdout",
     "output_type": "stream",
     "text": [
      "\u001b[2K\u001b[1A\u001b[2K\u001b[1A\u001b[2K\u001b[0G[+] 1m:34.1s\r\n",
      "Downloading      ━━━━━━━━━━━━━━━━━━━━ 286.6MB                              13.9s\r\n"
     ]
    },
    {
     "name": "stdout",
     "output_type": "stream",
     "text": [
      "Extracting  (87) ━━━━━━━━━━╸\u001b[33m━━━━━━━━━\u001b[0m     110 jupyter_console           1m:33.7s"
     ]
    },
    {
     "name": "stdout",
     "output_type": "stream",
     "text": [
      "\u001b[2K\u001b[1A\u001b[2K\u001b[1A\u001b[2K\u001b[0G[+] 1m:34.2s\r\n",
      "Downloading      ━━━━━━━━━━━━━━━━━━━━ 286.6MB                              13.9s\r\n",
      "Extracting  (86) ━━━━━━━━━━╸\u001b[33m━━━━━━━━━\u001b[0m     111 jupyter_console           1m:33.8s"
     ]
    },
    {
     "name": "stdout",
     "output_type": "stream",
     "text": [
      "\u001b[2K\u001b[1A\u001b[2K\u001b[1A\u001b[2K\u001b[0G[+] 1m:34.3s\r\n",
      "Downloading      ━━━━━━━━━━━━━━━━━━━━ 286.6MB                              13.9s\r\n",
      "Extracting  (86) ━━━━━━━━━━╸\u001b[33m━━━━━━━━━\u001b[0m     111 jupyter_core              1m:33.9s"
     ]
    },
    {
     "name": "stdout",
     "output_type": "stream",
     "text": [
      "\u001b[2K\u001b[1A\u001b[2K\u001b[1A\u001b[2K\u001b[0G[+] 1m:34.4s\r\n",
      "Downloading      ━━━━━━━━━━━━━━━━━━━━ 286.6MB                              13.9s\r\n",
      "Extracting  (86) ━━━━━━━━━━╸\u001b[33m━━━━━━━━━\u001b[0m     111 jupyter_core              1m:34.0s"
     ]
    },
    {
     "name": "stdout",
     "output_type": "stream",
     "text": [
      "\u001b[2K\u001b[1A\u001b[2K\u001b[1A\u001b[2K\u001b[0G[+] 1m:34.5s\r\n",
      "Downloading      ━━━━━━━━━━━━━━━━━━━━ 286.6MB                              13.9s\r\n",
      "Extracting  (86) ━━━━━━━━━━╸\u001b[33m━━━━━━━━━\u001b[0m     111 jupyter_core              1m:34.1s"
     ]
    },
    {
     "name": "stdout",
     "output_type": "stream",
     "text": [
      "\u001b[2K\u001b[1A\u001b[2K\u001b[1A\u001b[2K\u001b[0G[+] 1m:34.6s\r\n",
      "Downloading      ━━━━━━━━━━━━━━━━━━━━ 286.6MB                              13.9s\r\n",
      "Extracting  (86) ━━━━━━━━━━╸\u001b[33m━━━━━━━━━\u001b[0m     111 jupyter_core              1m:34.2s"
     ]
    },
    {
     "name": "stdout",
     "output_type": "stream",
     "text": [
      "\u001b[2K\u001b[1A\u001b[2K\u001b[1A\u001b[2K\u001b[0G[+] 1m:34.7s\r\n",
      "Downloading      ━━━━━━━━━━━━━━━━━━━━ 286.6MB                              13.9s\r\n",
      "Extracting  (86) ━━━━━━━━━━╸\u001b[33m━━━━━━━━━\u001b[0m     111 libcap                    1m:34.3s"
     ]
    },
    {
     "name": "stdout",
     "output_type": "stream",
     "text": [
      "\u001b[2K\u001b[1A\u001b[2K\u001b[1A\u001b[2K\u001b[0G[+] 1m:34.8s\r\n",
      "Downloading      ━━━━━━━━━━━━━━━━━━━━ 286.6MB                              13.9s\r\n",
      "Extracting  (86) ━━━━━━━━━━╸\u001b[33m━━━━━━━━━\u001b[0m     111 libcap                    1m:34.4s"
     ]
    },
    {
     "name": "stdout",
     "output_type": "stream",
     "text": [
      "\u001b[2K\u001b[1A\u001b[2K\u001b[1A\u001b[2K\u001b[0G[+] 1m:34.9s\r\n",
      "Downloading      ━━━━━━━━━━━━━━━━━━━━ 286.6MB                              13.9s\r\n",
      "Extracting  (86) ━━━━━━━━━━╸\u001b[33m━━━━━━━━━\u001b[0m     111 libcap                    1m:34.5s"
     ]
    },
    {
     "name": "stdout",
     "output_type": "stream",
     "text": [
      "\u001b[2K\u001b[1A\u001b[2K\u001b[1A\u001b[2K\u001b[0G[+] 1m:35.0s\r\n",
      "Downloading      ━━━━━━━━━━━━━━━━━━━━ 286.6MB                              13.9s\r\n",
      "Extracting  (86) ━━━━━━━━━━╸\u001b[33m━━━━━━━━━\u001b[0m     111 libcap                    1m:34.6s"
     ]
    },
    {
     "name": "stdout",
     "output_type": "stream",
     "text": [
      "\u001b[2K\u001b[1A\u001b[2K\u001b[1A\u001b[2K\u001b[0G[+] 1m:35.1s\r\n",
      "Downloading      ━━━━━━━━━━━━━━━━━━━━ 286.6MB                              13.9s\r\n",
      "Extracting  (86) ━━━━━━━━━━╸\u001b[33m━━━━━━━━━\u001b[0m     111 libclang                  1m:34.7s"
     ]
    },
    {
     "name": "stdout",
     "output_type": "stream",
     "text": [
      "\u001b[2K\u001b[1A\u001b[2K\u001b[1A\u001b[2K\u001b[0G[+] 1m:35.2s\r\n",
      "Downloading      ━━━━━━━━━━━━━━━━━━━━ 286.6MB                              13.9s\r\n",
      "Extracting  (86) ━━━━━━━━━━╸\u001b[33m━━━━━━━━━\u001b[0m     111 libclang                  1m:34.8s"
     ]
    },
    {
     "name": "stdout",
     "output_type": "stream",
     "text": [
      "\u001b[2K\u001b[1A\u001b[2K\u001b[1A\u001b[2K\u001b[0G[+] 1m:35.3s\r\n",
      "Downloading      ━━━━━━━━━━━━━━━━━━━━ 286.6MB                              13.9s\r\n",
      "Extracting  (86) ━━━━━━━━━━╸\u001b[33m━━━━━━━━━\u001b[0m     111 libclang                  1m:34.9s"
     ]
    },
    {
     "name": "stdout",
     "output_type": "stream",
     "text": [
      "\u001b[2K\u001b[1A\u001b[2K\u001b[1A\u001b[2K\u001b[0G[+] 1m:35.4s\r\n",
      "Downloading      ━━━━━━━━━━━━━━━━━━━━ 286.6MB                              13.9s\r\n",
      "Extracting  (85) ━━━━━━━━━━╸\u001b[33m━━━━━━━━━\u001b[0m     112 libclang                  1m:35.0s"
     ]
    },
    {
     "name": "stdout",
     "output_type": "stream",
     "text": [
      "\u001b[2K\u001b[1A\u001b[2K\u001b[1A\u001b[2K\u001b[0G[+] 1m:35.5s\r\n",
      "Downloading      ━━━━━━━━━━━━━━━━━━━━ 286.6MB                              13.9s\r\n",
      "Extracting  (85) ━━━━━━━━━━╸\u001b[33m━━━━━━━━━\u001b[0m     112 libcups                   1m:35.1s"
     ]
    },
    {
     "name": "stdout",
     "output_type": "stream",
     "text": [
      "\u001b[2K\u001b[1A\u001b[2K\u001b[1A\u001b[2K\u001b[0G[+] 1m:35.6s\r\n",
      "Downloading      ━━━━━━━━━━━━━━━━━━━━ 286.6MB                              13.9s\r\n",
      "Extracting  (85) ━━━━━━━━━━╸\u001b[33m━━━━━━━━━\u001b[0m     112 libcups                   1m:35.2s"
     ]
    },
    {
     "name": "stdout",
     "output_type": "stream",
     "text": [
      "\u001b[2K\u001b[1A\u001b[2K\u001b[1A\u001b[2K\u001b[0G[+] 1m:35.7s\r\n",
      "Downloading      ━━━━━━━━━━━━━━━━━━━━ 286.6MB                              13.9s\r\n",
      "Extracting  (84) ━━━━━━━━━━╸\u001b[33m━━━━━━━━━\u001b[0m     113 libcups                   1m:35.3s"
     ]
    },
    {
     "name": "stdout",
     "output_type": "stream",
     "text": [
      "\u001b[2K\u001b[1A\u001b[2K\u001b[1A\u001b[2K\u001b[0G[+] 1m:35.8s\r\n",
      "Downloading      ━━━━━━━━━━━━━━━━━━━━ 286.6MB                              13.9s\r\n",
      "Extracting  (84) ━━━━━━━━━━╸\u001b[33m━━━━━━━━━\u001b[0m     113 libcups                   1m:35.4s"
     ]
    },
    {
     "name": "stdout",
     "output_type": "stream",
     "text": [
      "\u001b[2K\u001b[1A\u001b[2K\u001b[1A\u001b[2K\u001b[0G[+] 1m:35.9s\r\n",
      "Downloading      ━━━━━━━━━━━━━━━━━━━━ 286.6MB                              13.9s\r\n"
     ]
    },
    {
     "name": "stdout",
     "output_type": "stream",
     "text": [
      "Extracting  (84) ━━━━━━━━━━╸\u001b[33m━━━━━━━━━\u001b[0m     113 libevent                  1m:35.5s"
     ]
    },
    {
     "name": "stdout",
     "output_type": "stream",
     "text": [
      "\u001b[2K\u001b[1A\u001b[2K\u001b[1A\u001b[2K\u001b[0G[+] 1m:36.0s\r\n",
      "Downloading      ━━━━━━━━━━━━━━━━━━━━ 286.6MB                              13.9s\r\n",
      "Extracting  (84) ━━━━━━━━━━╸\u001b[33m━━━━━━━━━\u001b[0m     113 libevent                  1m:35.6s"
     ]
    },
    {
     "name": "stdout",
     "output_type": "stream",
     "text": [
      "\u001b[2K\u001b[1A\u001b[2K\u001b[1A\u001b[2K\u001b[0G[+] 1m:36.1s\r\n",
      "Downloading      ━━━━━━━━━━━━━━━━━━━━ 286.6MB                              13.9s\r\n",
      "Extracting  (84) ━━━━━━━━━━╸\u001b[33m━━━━━━━━━\u001b[0m     113 libevent                  1m:35.7s"
     ]
    },
    {
     "name": "stdout",
     "output_type": "stream",
     "text": [
      "\u001b[2K\u001b[1A\u001b[2K\u001b[1A\u001b[2K\u001b[0G[+] 1m:36.2s\r\n",
      "Downloading      ━━━━━━━━━━━━━━━━━━━━ 286.6MB                              13.9s\r\n",
      "Extracting  (84) ━━━━━━━━━━╸\u001b[33m━━━━━━━━━\u001b[0m     113 libevent                  1m:35.8s"
     ]
    },
    {
     "name": "stdout",
     "output_type": "stream",
     "text": [
      "\u001b[2K\u001b[1A\u001b[2K\u001b[1A\u001b[2K\u001b[0G[+] 1m:36.3s\r\n",
      "Downloading      ━━━━━━━━━━━━━━━━━━━━ 286.6MB                              13.9s\r\n",
      "Extracting  (84) ━━━━━━━━━━╸\u001b[33m━━━━━━━━━\u001b[0m     113 libgcc-ng                 1m:35.9s"
     ]
    },
    {
     "name": "stdout",
     "output_type": "stream",
     "text": [
      "\u001b[2K\u001b[1A\u001b[2K\u001b[1A\u001b[2K\u001b[0G[+] 1m:36.4s\r\n",
      "Downloading      ━━━━━━━━━━━━━━━━━━━━ 286.6MB                              13.9s\r\n",
      "Extracting  (84) ━━━━━━━━━━╸\u001b[33m━━━━━━━━━\u001b[0m     113 libgcc-ng                 1m:36.0s"
     ]
    },
    {
     "name": "stdout",
     "output_type": "stream",
     "text": [
      "\u001b[2K\u001b[1A\u001b[2K\u001b[1A\u001b[2K\u001b[0G[+] 1m:36.5s\r\n",
      "Downloading      ━━━━━━━━━━━━━━━━━━━━ 286.6MB                              13.9s\r\n",
      "Extracting  (84) ━━━━━━━━━━╸\u001b[33m━━━━━━━━━\u001b[0m     113 libgcc-ng                 1m:36.1s"
     ]
    },
    {
     "name": "stdout",
     "output_type": "stream",
     "text": [
      "\u001b[2K\u001b[1A\u001b[2K\u001b[1A\u001b[2K\u001b[0G[+] 1m:36.6s\r\n",
      "Downloading      ━━━━━━━━━━━━━━━━━━━━ 286.6MB                              13.9s\r\n",
      "Extracting  (84) ━━━━━━━━━━╸\u001b[33m━━━━━━━━━\u001b[0m     113 libgcc-ng                 1m:36.2s"
     ]
    },
    {
     "name": "stdout",
     "output_type": "stream",
     "text": [
      "\u001b[2K\u001b[1A\u001b[2K\u001b[1A\u001b[2K\u001b[0G[+] 1m:36.7s\r\n",
      "Downloading      ━━━━━━━━━━━━━━━━━━━━ 286.6MB                              13.9s\r\n",
      "Extracting  (84) ━━━━━━━━━━╸\u001b[33m━━━━━━━━━\u001b[0m     113 libmambapy                1m:36.3s"
     ]
    },
    {
     "name": "stdout",
     "output_type": "stream",
     "text": [
      "\u001b[2K\u001b[1A\u001b[2K\u001b[1A\u001b[2K\u001b[0G[+] 1m:36.8s\r\n",
      "Downloading      ━━━━━━━━━━━━━━━━━━━━ 286.6MB                              13.9s\r\n",
      "Extracting  (84) ━━━━━━━━━━╸\u001b[33m━━━━━━━━━\u001b[0m     113 libmambapy                1m:36.4s"
     ]
    },
    {
     "name": "stdout",
     "output_type": "stream",
     "text": [
      "\u001b[2K\u001b[1A\u001b[2K\u001b[1A\u001b[2K\u001b[0G[+] 1m:36.9s\r\n",
      "Downloading      ━━━━━━━━━━━━━━━━━━━━ 286.6MB                              13.9s\r\n",
      "Extracting  (84) ━━━━━━━━━━╸\u001b[33m━━━━━━━━━\u001b[0m     113 libmambapy                1m:36.5s"
     ]
    },
    {
     "name": "stdout",
     "output_type": "stream",
     "text": [
      "\u001b[2K\u001b[1A\u001b[2K\u001b[1A\u001b[2K\u001b[0G[+] 1m:37.0s\r\n",
      "Downloading      ━━━━━━━━━━━━━━━━━━━━ 286.6MB                              13.9s\r\n",
      "Extracting  (84) ━━━━━━━━━━╸\u001b[33m━━━━━━━━━\u001b[0m     113 libmambapy                1m:36.6s"
     ]
    },
    {
     "name": "stdout",
     "output_type": "stream",
     "text": [
      "\u001b[2K\u001b[1A\u001b[2K\u001b[1A\u001b[2K\u001b[0G[+] 1m:37.1s\r\n",
      "Downloading      ━━━━━━━━━━━━━━━━━━━━ 286.6MB                              13.9s\r\n",
      "Extracting  (84) ━━━━━━━━━━╸\u001b[33m━━━━━━━━━\u001b[0m     113 libnghttp2                1m:36.7s"
     ]
    },
    {
     "name": "stdout",
     "output_type": "stream",
     "text": [
      "\u001b[2K\u001b[1A\u001b[2K\u001b[1A\u001b[2K\u001b[0G[+] 1m:37.2s\r\n",
      "Downloading      ━━━━━━━━━━━━━━━━━━━━ 286.6MB                              13.9s\r\n",
      "Extracting  (84) ━━━━━━━━━━╸\u001b[33m━━━━━━━━━\u001b[0m     113 libnghttp2                1m:36.8s"
     ]
    },
    {
     "name": "stdout",
     "output_type": "stream",
     "text": [
      "\u001b[2K\u001b[1A\u001b[2K\u001b[1A\u001b[2K\u001b[0G[+] 1m:37.3s\r\n",
      "Downloading      ━━━━━━━━━━━━━━━━━━━━ 286.6MB                              13.9s\r\n",
      "Extracting  (83) ━━━━━━━━━━╸\u001b[33m━━━━━━━━━\u001b[0m     114 libnghttp2                1m:36.9s"
     ]
    },
    {
     "name": "stdout",
     "output_type": "stream",
     "text": [
      "\u001b[2K\u001b[1A\u001b[2K\u001b[1A\u001b[2K\u001b[0G[+] 1m:37.4s\r\n",
      "Downloading      ━━━━━━━━━━━━━━━━━━━━ 286.6MB                              13.9s\r\n",
      "Extracting  (83) ━━━━━━━━━━╸\u001b[33m━━━━━━━━━\u001b[0m     114 libnghttp2                1m:37.0s"
     ]
    },
    {
     "name": "stdout",
     "output_type": "stream",
     "text": [
      "\u001b[2K\u001b[1A\u001b[2K\u001b[1A\u001b[2K\u001b[0G[+] 1m:37.5s\r\n",
      "Downloading      ━━━━━━━━━━━━━━━━━━━━ 286.6MB                              13.9s\r\n",
      "Extracting  (82) ━━━━━━━━━━╸\u001b[33m━━━━━━━━━\u001b[0m     115 libnsl                    1m:37.1s"
     ]
    },
    {
     "name": "stdout",
     "output_type": "stream",
     "text": [
      "\u001b[2K\u001b[1A\u001b[2K\u001b[1A\u001b[2K\u001b[0G[+] 1m:37.6s\r\n",
      "Downloading      ━━━━━━━━━━━━━━━━━━━━ 286.6MB                              13.9s\r\n",
      "Extracting  (82) ━━━━━━━━━━╸\u001b[33m━━━━━━━━━\u001b[0m     115 libnsl                    1m:37.2s"
     ]
    },
    {
     "name": "stdout",
     "output_type": "stream",
     "text": [
      "\u001b[2K\u001b[1A\u001b[2K\u001b[1A\u001b[2K\u001b[0G[+] 1m:37.7s\r\n",
      "Downloading      ━━━━━━━━━━━━━━━━━━━━ 286.6MB                              13.9s\r\n",
      "Extracting  (82) ━━━━━━━━━━╸\u001b[33m━━━━━━━━━\u001b[0m     115 libnsl                    1m:37.3s"
     ]
    },
    {
     "name": "stdout",
     "output_type": "stream",
     "text": [
      "\u001b[2K\u001b[1A\u001b[2K\u001b[1A\u001b[2K\u001b[0G[+] 1m:37.8s\r\n",
      "Downloading      ━━━━━━━━━━━━━━━━━━━━ 286.6MB                              13.9s\r\n",
      "Extracting  (82) ━━━━━━━━━━╸\u001b[33m━━━━━━━━━\u001b[0m     115 libnsl                    1m:37.4s"
     ]
    },
    {
     "name": "stdout",
     "output_type": "stream",
     "text": [
      "\u001b[2K\u001b[1A\u001b[2K\u001b[1A\u001b[2K\u001b[0G[+] 1m:37.9s\r\n",
      "Downloading      ━━━━━━━━━━━━━━━━━━━━ 286.6MB                              13.9s\r\n",
      "Extracting  (82) ━━━━━━━━━━╸\u001b[33m━━━━━━━━━\u001b[0m     115 libpq                     1m:37.5s"
     ]
    },
    {
     "name": "stdout",
     "output_type": "stream",
     "text": [
      "\u001b[2K\u001b[1A\u001b[2K\u001b[1A\u001b[2K\u001b[0G[+] 1m:38.0s\r\n",
      "Downloading      ━━━━━━━━━━━━━━━━━━━━ 286.6MB                              13.9s\r\n",
      "Extracting  (82) ━━━━━━━━━━╸\u001b[33m━━━━━━━━━\u001b[0m     115 libpq                     1m:37.6s"
     ]
    },
    {
     "name": "stdout",
     "output_type": "stream",
     "text": [
      "\u001b[2K\u001b[1A\u001b[2K\u001b[1A\u001b[2K\u001b[0G[+] 1m:38.1s\r\n",
      "Downloading      ━━━━━━━━━━━━━━━━━━━━ 286.6MB                              13.9s\r\n",
      "Extracting  (82) ━━━━━━━━━━╸\u001b[33m━━━━━━━━━\u001b[0m     115 libpq                     1m:37.7s"
     ]
    },
    {
     "name": "stdout",
     "output_type": "stream",
     "text": [
      "\u001b[2K\u001b[1A\u001b[2K\u001b[1A\u001b[2K\u001b[0G[+] 1m:38.2s\r\n",
      "Downloading      ━━━━━━━━━━━━━━━━━━━━ 286.6MB                              13.9s\r\n",
      "Extracting  (82) ━━━━━━━━━━╸\u001b[33m━━━━━━━━━\u001b[0m     115 libpq                     1m:37.8s"
     ]
    },
    {
     "name": "stdout",
     "output_type": "stream",
     "text": [
      "\u001b[2K\u001b[1A\u001b[2K\u001b[1A\u001b[2K\u001b[0G[+] 1m:38.3s\r\n",
      "Downloading      ━━━━━━━━━━━━━━━━━━━━ 286.6MB                              13.9s\r\n",
      "Extracting  (82) ━━━━━━━━━━╸\u001b[33m━━━━━━━━━\u001b[0m     115 libsndfile                1m:37.9s"
     ]
    },
    {
     "name": "stdout",
     "output_type": "stream",
     "text": [
      "\u001b[2K\u001b[1A\u001b[2K\u001b[1A\u001b[2K\u001b[0G[+] 1m:38.4s\r\n",
      "Downloading      ━━━━━━━━━━━━━━━━━━━━ 286.6MB                              13.9s\r\n",
      "Extracting  (82) ━━━━━━━━━━╸\u001b[33m━━━━━━━━━\u001b[0m     115 libsndfile                1m:38.0s"
     ]
    },
    {
     "name": "stdout",
     "output_type": "stream",
     "text": [
      "\u001b[2K\u001b[1A\u001b[2K\u001b[1A\u001b[2K\u001b[0G[+] 1m:38.5s\r\n",
      "Downloading      ━━━━━━━━━━━━━━━━━━━━ 286.6MB                              13.9s\r\n",
      "Extracting  (82) ━━━━━━━━━━╸\u001b[33m━━━━━━━━━\u001b[0m     115 libsndfile                1m:38.1s"
     ]
    },
    {
     "name": "stdout",
     "output_type": "stream",
     "text": [
      "\u001b[2K\u001b[1A\u001b[2K\u001b[1A\u001b[2K\u001b[0G[+] 1m:38.6s\r\n",
      "Downloading      ━━━━━━━━━━━━━━━━━━━━ 286.6MB                              13.9s\r\n",
      "Extracting  (82) ━━━━━━━━━━╸\u001b[33m━━━━━━━━━\u001b[0m     115 libsndfile                1m:38.2s"
     ]
    },
    {
     "name": "stdout",
     "output_type": "stream",
     "text": [
      "\u001b[2K\u001b[1A\u001b[2K\u001b[1A\u001b[2K\u001b[0G[+] 1m:38.7s\r\n",
      "Downloading      ━━━━━━━━━━━━━━━━━━━━ 286.6MB                              13.9s\r\n",
      "Extracting  (81) ━━━━━━━━━━╸\u001b[33m━━━━━━━━━\u001b[0m     116 libssh2                   1m:38.3s"
     ]
    },
    {
     "name": "stdout",
     "output_type": "stream",
     "text": [
      "\u001b[2K\u001b[1A\u001b[2K\u001b[1A\u001b[2K\u001b[0G[+] 1m:38.8s\r\n",
      "Downloading      ━━━━━━━━━━━━━━━━━━━━ 286.6MB                              13.9s\r\n",
      "Extracting  (81) ━━━━━━━━━━╸\u001b[33m━━━━━━━━━\u001b[0m     116 libssh2                   1m:38.4s"
     ]
    },
    {
     "name": "stdout",
     "output_type": "stream",
     "text": [
      "\u001b[2K\u001b[1A\u001b[2K\u001b[1A\u001b[2K\u001b[0G[+] 1m:38.9s\r\n",
      "Downloading      ━━━━━━━━━━━━━━━━━━━━ 286.6MB                              13.9s\r\n",
      "Extracting  (81) ━━━━━━━━━━╸\u001b[33m━━━━━━━━━\u001b[0m     116 libssh2                   1m:38.5s"
     ]
    },
    {
     "name": "stdout",
     "output_type": "stream",
     "text": [
      "\u001b[2K\u001b[1A\u001b[2K\u001b[1A\u001b[2K\u001b[0G[+] 1m:39.0s\r\n",
      "Downloading      ━━━━━━━━━━━━━━━━━━━━ 286.6MB                              13.9s\r\n",
      "Extracting  (80) ━━━━━━━━━━╸\u001b[33m━━━━━━━━━\u001b[0m     117 libssh2                   1m:38.6s"
     ]
    },
    {
     "name": "stdout",
     "output_type": "stream",
     "text": [
      "\u001b[2K\u001b[1A\u001b[2K\u001b[1A\u001b[2K\u001b[0G[+] 1m:39.1s\r\n",
      "Downloading      ━━━━━━━━━━━━━━━━━━━━ 286.6MB                              13.9s\r\n",
      "Extracting  (80) ━━━━━━━━━━╸\u001b[33m━━━━━━━━━\u001b[0m     117 libxkbcommon              1m:38.7s"
     ]
    },
    {
     "name": "stdout",
     "output_type": "stream",
     "text": [
      "\u001b[2K\u001b[1A\u001b[2K\u001b[1A\u001b[2K\u001b[0G[+] 1m:39.2s\r\n",
      "Downloading      ━━━━━━━━━━━━━━━━━━━━ 286.6MB                              13.9s\r\n",
      "Extracting  (80) ━━━━━━━━━━╸\u001b[33m━━━━━━━━━\u001b[0m     117 libxkbcommon              1m:38.8s"
     ]
    },
    {
     "name": "stdout",
     "output_type": "stream",
     "text": [
      "\u001b[2K\u001b[1A\u001b[2K\u001b[1A\u001b[2K\u001b[0G[+] 1m:39.3s\r\n",
      "Downloading      ━━━━━━━━━━━━━━━━━━━━ 286.6MB                              13.9s\r\n",
      "Extracting  (80) ━━━━━━━━━━╸\u001b[33m━━━━━━━━━\u001b[0m     117 libxkbcommon              1m:38.9s"
     ]
    },
    {
     "name": "stdout",
     "output_type": "stream",
     "text": [
      "\u001b[2K\u001b[1A\u001b[2K\u001b[1A\u001b[2K\u001b[0G[+] 1m:39.4s\r\n",
      "Downloading      ━━━━━━━━━━━━━━━━━━━━ 286.6MB                              13.9s\r\n",
      "Extracting  (80) ━━━━━━━━━━╸\u001b[33m━━━━━━━━━\u001b[0m     117 libxkbcommon              1m:39.0s"
     ]
    },
    {
     "name": "stdout",
     "output_type": "stream",
     "text": [
      "\u001b[2K\u001b[1A\u001b[2K\u001b[1A\u001b[2K\u001b[0G[+] 1m:39.5s\r\n",
      "Downloading      ━━━━━━━━━━━━━━━━━━━━ 286.6MB                              13.9s\r\n",
      "Extracting  (80) ━━━━━━━━━━╸\u001b[33m━━━━━━━━━\u001b[0m     117 lz4-c                     1m:39.1s"
     ]
    },
    {
     "name": "stdout",
     "output_type": "stream",
     "text": [
      "\u001b[2K\u001b[1A\u001b[2K\u001b[1A\u001b[2K\u001b[0G[+] 1m:39.6s\r\n",
      "Downloading      ━━━━━━━━━━━━━━━━━━━━ 286.6MB                              13.9s\r\n",
      "Extracting  (80) ━━━━━━━━━━╸\u001b[33m━━━━━━━━━\u001b[0m     117 lz4-c                     1m:39.2s"
     ]
    },
    {
     "name": "stdout",
     "output_type": "stream",
     "text": [
      "\u001b[2K\u001b[1A\u001b[2K\u001b[1A\u001b[2K\u001b[0G[+] 1m:39.7s\r\n",
      "Downloading      ━━━━━━━━━━━━━━━━━━━━ 286.6MB                              13.9s\r\n",
      "Extracting  (80) ━━━━━━━━━━╸\u001b[33m━━━━━━━━━\u001b[0m     117 lz4-c                     1m:39.3s"
     ]
    },
    {
     "name": "stdout",
     "output_type": "stream",
     "text": [
      "\u001b[2K\u001b[1A\u001b[2K\u001b[1A\u001b[2K\u001b[0G[+] 1m:39.8s\r\n",
      "Downloading      ━━━━━━━━━━━━━━━━━━━━ 286.6MB                              13.9s\r\n",
      "Extracting  (80) ━━━━━━━━━━╸\u001b[33m━━━━━━━━━\u001b[0m     117 lz4-c                     1m:39.4s"
     ]
    },
    {
     "name": "stdout",
     "output_type": "stream",
     "text": [
      "\u001b[2K\u001b[1A\u001b[2K\u001b[1A\u001b[2K\u001b[0G[+] 1m:39.9s\r\n",
      "Downloading      ━━━━━━━━━━━━━━━━━━━━ 286.6MB                              13.9s\r\n",
      "Extracting  (80) ━━━━━━━━━━╸\u001b[33m━━━━━━━━━\u001b[0m     117 mamba                     1m:39.5s"
     ]
    },
    {
     "name": "stdout",
     "output_type": "stream",
     "text": [
      "\u001b[2K\u001b[1A\u001b[2K\u001b[1A\u001b[2K\u001b[0G[+] 1m:40.0s\r\n",
      "Downloading      ━━━━━━━━━━━━━━━━━━━━ 286.6MB                              13.9s\r\n",
      "Extracting  (80) ━━━━━━━━━━╸\u001b[33m━━━━━━━━━\u001b[0m     117 mamba                     1m:39.6s"
     ]
    },
    {
     "name": "stdout",
     "output_type": "stream",
     "text": [
      "\u001b[2K\u001b[1A\u001b[2K\u001b[1A\u001b[2K\u001b[0G[+] 1m:40.1s\r\n",
      "Downloading      ━━━━━━━━━━━━━━━━━━━━ 286.6MB                              13.9s\r\n",
      "Extracting  (79) ━━━━━━━━━━╸\u001b[33m━━━━━━━━━\u001b[0m     118 mamba                     1m:39.7s"
     ]
    },
    {
     "name": "stdout",
     "output_type": "stream",
     "text": [
      "\u001b[2K\u001b[1A\u001b[2K\u001b[1A\u001b[2K\u001b[0G[+] 1m:40.2s\r\n",
      "Downloading      ━━━━━━━━━━━━━━━━━━━━ 286.6MB                              13.9s\r\n",
      "Extracting  (79) ━━━━━━━━━━╸\u001b[33m━━━━━━━━━\u001b[0m     118 mamba                     1m:39.8s"
     ]
    },
    {
     "name": "stdout",
     "output_type": "stream",
     "text": [
      "\u001b[2K\u001b[1A\u001b[2K\u001b[1A\u001b[2K\u001b[0G[+] 1m:40.3s\r\n",
      "Downloading      ━━━━━━━━━━━━━━━━━━━━ 286.6MB                              13.9s\r\n",
      "Extracting  (79) ━━━━━━━━━━╸\u001b[33m━━━━━━━━━\u001b[0m     118 matplotlib-inline         1m:39.9s"
     ]
    },
    {
     "name": "stdout",
     "output_type": "stream",
     "text": [
      "\u001b[2K\u001b[1A\u001b[2K\u001b[1A\u001b[2K\u001b[0G[+] 1m:40.4s\r\n",
      "Downloading      ━━━━━━━━━━━━━━━━━━━━ 286.6MB                              13.9s\r\n",
      "Extracting  (79) ━━━━━━━━━━╸\u001b[33m━━━━━━━━━\u001b[0m     118 matplotlib-inline         1m:40.0s"
     ]
    },
    {
     "name": "stdout",
     "output_type": "stream",
     "text": [
      "\u001b[2K\u001b[1A\u001b[2K\u001b[1A\u001b[2K\u001b[0G[+] 1m:40.5s\r\n",
      "Downloading      ━━━━━━━━━━━━━━━━━━━━ 286.6MB                              13.9s\r\n",
      "Extracting  (78) ━━━━━━━━━━━╸\u001b[33m━━━━━━━━\u001b[0m     119 matplotlib-inline         1m:40.1s"
     ]
    },
    {
     "name": "stdout",
     "output_type": "stream",
     "text": [
      "\u001b[2K\u001b[1A\u001b[2K\u001b[1A\u001b[2K\u001b[0G[+] 1m:40.6s\r\n",
      "Downloading      ━━━━━━━━━━━━━━━━━━━━ 286.6MB                              13.9s\r\n",
      "Extracting  (78) ━━━━━━━━━━━╸\u001b[33m━━━━━━━━\u001b[0m     119 matplotlib-inline         1m:40.2s"
     ]
    },
    {
     "name": "stdout",
     "output_type": "stream",
     "text": [
      "\u001b[2K\u001b[1A\u001b[2K\u001b[1A\u001b[2K\u001b[0G[+] 1m:40.7s\r\n",
      "Downloading      ━━━━━━━━━━━━━━━━━━━━ 286.6MB                              13.9s\r\n",
      "Extracting  (78) ━━━━━━━━━━━╸\u001b[33m━━━━━━━━\u001b[0m     119 mpg123                    1m:40.3s"
     ]
    },
    {
     "name": "stdout",
     "output_type": "stream",
     "text": [
      "\u001b[2K\u001b[1A\u001b[2K\u001b[1A\u001b[2K\u001b[0G[+] 1m:40.8s\r\n",
      "Downloading      ━━━━━━━━━━━━━━━━━━━━ 286.6MB                              13.9s\r\n",
      "Extracting  (78) ━━━━━━━━━━━╸\u001b[33m━━━━━━━━\u001b[0m     119 mpg123                    1m:40.4s"
     ]
    },
    {
     "name": "stdout",
     "output_type": "stream",
     "text": [
      "\u001b[2K\u001b[1A\u001b[2K\u001b[1A\u001b[2K\u001b[0G[+] 1m:40.9s\r\n",
      "Downloading      ━━━━━━━━━━━━━━━━━━━━ 286.6MB                              13.9s\r\n",
      "Extracting  (78) ━━━━━━━━━━━╸\u001b[33m━━━━━━━━\u001b[0m     119 mpg123                    1m:40.5s"
     ]
    },
    {
     "name": "stdout",
     "output_type": "stream",
     "text": [
      "\u001b[2K\u001b[1A\u001b[2K\u001b[1A\u001b[2K\u001b[0G[+] 1m:41.0s\r\n",
      "Downloading      ━━━━━━━━━━━━━━━━━━━━ 286.6MB                              13.9s\r\n",
      "Extracting  (78) ━━━━━━━━━━━╸\u001b[33m━━━━━━━━\u001b[0m     119 mpg123                    1m:40.6s"
     ]
    },
    {
     "name": "stdout",
     "output_type": "stream",
     "text": [
      "\u001b[2K\u001b[1A\u001b[2K\u001b[1A\u001b[2K\u001b[0G[+] 1m:41.1s\r\n",
      "Downloading      ━━━━━━━━━━━━━━━━━━━━ 286.6MB                              13.9s\r\n",
      "Extracting  (78) ━━━━━━━━━━━╸\u001b[33m━━━━━━━━\u001b[0m     119 mysql-libs                1m:40.7s"
     ]
    },
    {
     "name": "stdout",
     "output_type": "stream",
     "text": [
      "\u001b[2K\u001b[1A\u001b[2K\u001b[1A\u001b[2K\u001b[0G[+] 1m:41.2s\r\n",
      "Downloading      ━━━━━━━━━━━━━━━━━━━━ 286.6MB                              13.9s\r\n",
      "Extracting  (78) ━━━━━━━━━━━╸\u001b[33m━━━━━━━━\u001b[0m     119 mysql-libs                1m:40.8s"
     ]
    },
    {
     "name": "stdout",
     "output_type": "stream",
     "text": [
      "\u001b[2K\u001b[1A\u001b[2K\u001b[1A\u001b[2K\u001b[0G[+] 1m:41.3s\r\n",
      "Downloading      ━━━━━━━━━━━━━━━━━━━━ 286.6MB                              13.9s\r\n",
      "Extracting  (78) ━━━━━━━━━━━╸\u001b[33m━━━━━━━━\u001b[0m     119 mysql-libs                1m:40.9s"
     ]
    },
    {
     "name": "stdout",
     "output_type": "stream",
     "text": [
      "\u001b[2K\u001b[1A\u001b[2K\u001b[1A\u001b[2K\u001b[0G[+] 1m:41.4s\r\n",
      "Downloading      ━━━━━━━━━━━━━━━━━━━━ 286.6MB                              13.9s\r\n",
      "Extracting  (78) ━━━━━━━━━━━╸\u001b[33m━━━━━━━━\u001b[0m     119 mysql-libs                1m:41.0s"
     ]
    },
    {
     "name": "stdout",
     "output_type": "stream",
     "text": [
      "\u001b[2K\u001b[1A\u001b[2K\u001b[1A\u001b[2K\u001b[0G[+] 1m:41.5s\r\n",
      "Downloading      ━━━━━━━━━━━━━━━━━━━━ 286.6MB                              13.9s\r\n",
      "Extracting  (78) ━━━━━━━━━━━╸\u001b[33m━━━━━━━━\u001b[0m     119 nbclassic                 1m:41.1s"
     ]
    },
    {
     "name": "stdout",
     "output_type": "stream",
     "text": [
      "\u001b[2K\u001b[1A\u001b[2K\u001b[1A\u001b[2K\u001b[0G[+] 1m:41.6s\r\n",
      "Downloading      ━━━━━━━━━━━━━━━━━━━━ 286.6MB                              13.9s\r\n",
      "Extracting  (77) ━━━━━━━━━━━╸\u001b[33m━━━━━━━━\u001b[0m     120 nbclassic                 1m:41.2s"
     ]
    },
    {
     "name": "stdout",
     "output_type": "stream",
     "text": [
      "\u001b[2K\u001b[1A\u001b[2K\u001b[1A\u001b[2K\u001b[0G[+] 1m:41.7s\r\n",
      "Downloading      ━━━━━━━━━━━━━━━━━━━━ 286.6MB                              13.9s\r\n",
      "Extracting  (77) ━━━━━━━━━━━╸\u001b[33m━━━━━━━━\u001b[0m     120 nbclassic                 1m:41.3s"
     ]
    },
    {
     "name": "stdout",
     "output_type": "stream",
     "text": [
      "\u001b[2K\u001b[1A\u001b[2K\u001b[1A\u001b[2K\u001b[0G[+] 1m:41.8s\r\n",
      "Downloading      ━━━━━━━━━━━━━━━━━━━━ 286.6MB                              13.9s\r\n",
      "Extracting  (77) ━━━━━━━━━━━╸\u001b[33m━━━━━━━━\u001b[0m     120 nbclassic                 1m:41.4s"
     ]
    },
    {
     "name": "stdout",
     "output_type": "stream",
     "text": [
      "\u001b[2K\u001b[1A\u001b[2K\u001b[1A\u001b[2K\u001b[0G[+] 1m:41.9s\r\n",
      "Downloading      ━━━━━━━━━━━━━━━━━━━━ 286.6MB                              13.9s\r\n"
     ]
    },
    {
     "name": "stdout",
     "output_type": "stream",
     "text": [
      "Extracting  (76) ━━━━━━━━━━━╸\u001b[33m━━━━━━━━\u001b[0m     121 nbconvert                 1m:41.5s"
     ]
    },
    {
     "name": "stdout",
     "output_type": "stream",
     "text": [
      "\u001b[2K\u001b[1A\u001b[2K\u001b[1A\u001b[2K\u001b[0G[+] 1m:42.0s\r\n",
      "Downloading      ━━━━━━━━━━━━━━━━━━━━ 286.6MB                              13.9s\r\n",
      "Extracting  (76) ━━━━━━━━━━━╸\u001b[33m━━━━━━━━\u001b[0m     121 nbconvert                 1m:41.6s"
     ]
    },
    {
     "name": "stdout",
     "output_type": "stream",
     "text": [
      "\u001b[2K\u001b[1A\u001b[2K\u001b[1A\u001b[2K\u001b[0G[+] 1m:42.1s\r\n",
      "Downloading      ━━━━━━━━━━━━━━━━━━━━ 286.6MB                              13.9s\r\n",
      "Extracting  (76) ━━━━━━━━━━━╸\u001b[33m━━━━━━━━\u001b[0m     121 nbconvert                 1m:41.7s"
     ]
    },
    {
     "name": "stdout",
     "output_type": "stream",
     "text": [
      "\u001b[2K\u001b[1A\u001b[2K\u001b[1A\u001b[2K\u001b[0G[+] 1m:42.2s\r\n",
      "Downloading      ━━━━━━━━━━━━━━━━━━━━ 286.6MB                              13.9s\r\n",
      "Extracting  (76) ━━━━━━━━━━━╸\u001b[33m━━━━━━━━\u001b[0m     121 nbconvert                 1m:41.8s"
     ]
    },
    {
     "name": "stdout",
     "output_type": "stream",
     "text": [
      "\u001b[2K\u001b[1A\u001b[2K\u001b[1A\u001b[2K\u001b[0G[+] 1m:42.3s\r\n",
      "Downloading      ━━━━━━━━━━━━━━━━━━━━ 286.6MB                              13.9s\r\n",
      "Extracting  (76) ━━━━━━━━━━━╸\u001b[33m━━━━━━━━\u001b[0m     121 nbconvert-core            1m:41.9s"
     ]
    },
    {
     "name": "stdout",
     "output_type": "stream",
     "text": [
      "\u001b[2K\u001b[1A\u001b[2K\u001b[1A\u001b[2K\u001b[0G[+] 1m:42.4s\r\n",
      "Downloading      ━━━━━━━━━━━━━━━━━━━━ 286.6MB                              13.9s\r\n",
      "Extracting  (76) ━━━━━━━━━━━╸\u001b[33m━━━━━━━━\u001b[0m     121 nbconvert-core            1m:42.0s"
     ]
    },
    {
     "name": "stdout",
     "output_type": "stream",
     "text": [
      "\u001b[2K\u001b[1A\u001b[2K\u001b[1A\u001b[2K\u001b[0G[+] 1m:42.5s\r\n",
      "Downloading      ━━━━━━━━━━━━━━━━━━━━ 286.6MB                              13.9s\r\n",
      "Extracting  (76) ━━━━━━━━━━━╸\u001b[33m━━━━━━━━\u001b[0m     121 nbconvert-core            1m:42.1s"
     ]
    },
    {
     "name": "stdout",
     "output_type": "stream",
     "text": [
      "\u001b[2K\u001b[1A\u001b[2K\u001b[1A\u001b[2K\u001b[0G[+] 1m:42.6s\r\n",
      "Downloading      ━━━━━━━━━━━━━━━━━━━━ 286.6MB                              13.9s\r\n",
      "Extracting  (76) ━━━━━━━━━━━╸\u001b[33m━━━━━━━━\u001b[0m     121 nbconvert-core            1m:42.2s"
     ]
    },
    {
     "name": "stdout",
     "output_type": "stream",
     "text": [
      "\u001b[2K\u001b[1A\u001b[2K\u001b[1A\u001b[2K\u001b[0G[+] 1m:42.7s\r\n",
      "Downloading      ━━━━━━━━━━━━━━━━━━━━ 286.6MB                              13.9s\r\n",
      "Extracting  (76) ━━━━━━━━━━━╸\u001b[33m━━━━━━━━\u001b[0m     121 notebook                  1m:42.3s"
     ]
    },
    {
     "name": "stdout",
     "output_type": "stream",
     "text": [
      "\u001b[2K\u001b[1A\u001b[2K\u001b[1A\u001b[2K\u001b[0G[+] 1m:42.8s\r\n",
      "Downloading      ━━━━━━━━━━━━━━━━━━━━ 286.6MB                              13.9s\r\n",
      "Extracting  (76) ━━━━━━━━━━━╸\u001b[33m━━━━━━━━\u001b[0m     121 notebook                  1m:42.4s"
     ]
    },
    {
     "name": "stdout",
     "output_type": "stream",
     "text": [
      "\u001b[2K\u001b[1A\u001b[2K\u001b[1A\u001b[2K\u001b[0G[+] 1m:42.9s\r\n",
      "Downloading      ━━━━━━━━━━━━━━━━━━━━ 286.6MB                              13.9s\r\n",
      "Extracting  (76) ━━━━━━━━━━━╸\u001b[33m━━━━━━━━\u001b[0m     121 notebook                  1m:42.5s"
     ]
    },
    {
     "name": "stdout",
     "output_type": "stream",
     "text": [
      "\u001b[2K\u001b[1A\u001b[2K\u001b[1A\u001b[2K\u001b[0G[+] 1m:43.0s\r\n",
      "Downloading      ━━━━━━━━━━━━━━━━━━━━ 286.6MB                              13.9s\r\n",
      "Extracting  (76) ━━━━━━━━━━━╸\u001b[33m━━━━━━━━\u001b[0m     122 notebook                  1m:42.6s"
     ]
    },
    {
     "name": "stdout",
     "output_type": "stream",
     "text": [
      "\u001b[2K\u001b[1A\u001b[2K\u001b[1A\u001b[2K\u001b[0G[+] 1m:43.1s\r\n",
      "Downloading      ━━━━━━━━━━━━━━━━━━━━ 286.6MB                              13.9s\r\n"
     ]
    },
    {
     "name": "stdout",
     "output_type": "stream",
     "text": [
      "Extracting  (75) ━━━━━━━━━━━╸\u001b[33m━━━━━━━━\u001b[0m     122 parso                     1m:42.7s"
     ]
    },
    {
     "name": "stdout",
     "output_type": "stream",
     "text": [
      "\u001b[2K\u001b[1A\u001b[2K\u001b[1A\u001b[2K\u001b[0G[+] 1m:43.2s\r\n",
      "Downloading      ━━━━━━━━━━━━━━━━━━━━ 286.6MB                              13.9s\r\n",
      "Extracting  (75) ━━━━━━━━━━━╸\u001b[33m━━━━━━━━\u001b[0m     122 parso                     1m:42.8s"
     ]
    },
    {
     "name": "stdout",
     "output_type": "stream",
     "text": [
      "\u001b[2K\u001b[1A\u001b[2K\u001b[1A\u001b[2K\u001b[0G[+] 1m:43.3s\r\n",
      "Downloading      ━━━━━━━━━━━━━━━━━━━━ 286.6MB                              13.9s\r\n",
      "Extracting  (75) ━━━━━━━━━━━╸\u001b[33m━━━━━━━━\u001b[0m     122 parso                     1m:42.9s"
     ]
    },
    {
     "name": "stdout",
     "output_type": "stream",
     "text": [
      "\u001b[2K\u001b[1A\u001b[2K\u001b[1A\u001b[2K\u001b[0G[+] 1m:43.4s\r\n",
      "Downloading      ━━━━━━━━━━━━━━━━━━━━ 286.6MB                              13.9s\r\n",
      "Extracting  (75) ━━━━━━━━━━━╸\u001b[33m━━━━━━━━\u001b[0m     122 parso                     1m:43.0s"
     ]
    },
    {
     "name": "stdout",
     "output_type": "stream",
     "text": [
      "\u001b[2K\u001b[1A\u001b[2K\u001b[1A\u001b[2K\u001b[0G[+] 1m:43.5s\r\n",
      "Downloading      ━━━━━━━━━━━━━━━━━━━━ 286.6MB                              13.9s\r\n",
      "Extracting  (74) ━━━━━━━━━━━╸\u001b[33m━━━━━━━━\u001b[0m     123 pluggy                    1m:43.1s"
     ]
    },
    {
     "name": "stdout",
     "output_type": "stream",
     "text": [
      "\u001b[2K\u001b[1A\u001b[2K\u001b[1A\u001b[2K\u001b[0G[+] 1m:43.6s\r\n",
      "Downloading      ━━━━━━━━━━━━━━━━━━━━ 286.6MB                              13.9s\r\n",
      "Extracting  (74) ━━━━━━━━━━━╸\u001b[33m━━━━━━━━\u001b[0m     123 pluggy                    1m:43.2s"
     ]
    },
    {
     "name": "stdout",
     "output_type": "stream",
     "text": [
      "\u001b[2K\u001b[1A\u001b[2K\u001b[1A\u001b[2K\u001b[0G[+] 1m:43.7s\r\n",
      "Downloading      ━━━━━━━━━━━━━━━━━━━━ 286.6MB                              13.9s\r\n",
      "Extracting  (74) ━━━━━━━━━━━╸\u001b[33m━━━━━━━━\u001b[0m     123 pluggy                    1m:43.3s"
     ]
    },
    {
     "name": "stdout",
     "output_type": "stream",
     "text": [
      "\u001b[2K\u001b[1A\u001b[2K\u001b[1A\u001b[2K\u001b[0G[+] 1m:43.8s\r\n",
      "Downloading      ━━━━━━━━━━━━━━━━━━━━ 286.6MB                              13.9s\r\n",
      "Extracting  (74) ━━━━━━━━━━━╸\u001b[33m━━━━━━━━\u001b[0m     123 pluggy                    1m:43.4s"
     ]
    },
    {
     "name": "stdout",
     "output_type": "stream",
     "text": [
      "\u001b[2K\u001b[1A\u001b[2K\u001b[1A\u001b[2K\u001b[0G[+] 1m:43.9s\r\n",
      "Downloading      ━━━━━━━━━━━━━━━━━━━━ 286.6MB                              13.9s\r\n",
      "Extracting  (74) ━━━━━━━━━━━╸\u001b[33m━━━━━━━━\u001b[0m     123 ply                       1m:43.5s"
     ]
    },
    {
     "name": "stdout",
     "output_type": "stream",
     "text": [
      "\u001b[2K\u001b[1A\u001b[2K\u001b[1A\u001b[2K\u001b[0G[+] 1m:44.0s\r\n",
      "Downloading      ━━━━━━━━━━━━━━━━━━━━ 286.6MB                              13.9s\r\n",
      "Extracting  (74) ━━━━━━━━━━━╸\u001b[33m━━━━━━━━\u001b[0m     123 ply                       1m:43.6s"
     ]
    },
    {
     "name": "stdout",
     "output_type": "stream",
     "text": [
      "\u001b[2K\u001b[1A\u001b[2K\u001b[1A\u001b[2K\u001b[0G[+] 1m:44.1s\r\n",
      "Downloading      ━━━━━━━━━━━━━━━━━━━━ 286.6MB                              13.9s\r\n",
      "Extracting  (74) ━━━━━━━━━━━╸\u001b[33m━━━━━━━━\u001b[0m     123 ply                       1m:43.7s"
     ]
    },
    {
     "name": "stdout",
     "output_type": "stream",
     "text": [
      "\u001b[2K\u001b[1A\u001b[2K\u001b[1A\u001b[2K\u001b[0G[+] 1m:44.2s\r\n",
      "Downloading      ━━━━━━━━━━━━━━━━━━━━ 286.6MB                              13.9s\r\n",
      "Extracting  (74) ━━━━━━━━━━━╸\u001b[33m━━━━━━━━\u001b[0m     123 ply                       1m:43.8s"
     ]
    },
    {
     "name": "stdout",
     "output_type": "stream",
     "text": [
      "\u001b[2K\u001b[1A\u001b[2K\u001b[1A\u001b[2K\u001b[0G[+] 1m:44.3s\r\n",
      "Downloading      ━━━━━━━━━━━━━━━━━━━━ 286.6MB                              13.9s\r\n",
      "Extracting  (74) ━━━━━━━━━━━╸\u001b[33m━━━━━━━━\u001b[0m     123 prometheus_client         1m:43.9s"
     ]
    },
    {
     "name": "stdout",
     "output_type": "stream",
     "text": [
      "\u001b[2K\u001b[1A\u001b[2K\u001b[1A\u001b[2K\u001b[0G[+] 1m:44.4s\r\n",
      "Downloading      ━━━━━━━━━━━━━━━━━━━━ 286.6MB                              13.9s\r\n",
      "Extracting  (74) ━━━━━━━━━━━╸\u001b[33m━━━━━━━━\u001b[0m     123 prometheus_client         1m:44.0s"
     ]
    },
    {
     "name": "stdout",
     "output_type": "stream",
     "text": [
      "\u001b[2K\u001b[1A\u001b[2K\u001b[1A\u001b[2K\u001b[0G[+] 1m:44.5s\r\n",
      "Downloading      ━━━━━━━━━━━━━━━━━━━━ 286.6MB                              13.9s\r\n",
      "Extracting  (73) ━━━━━━━━━━━╸\u001b[33m━━━━━━━━\u001b[0m     124 prometheus_client         1m:44.1s"
     ]
    },
    {
     "name": "stdout",
     "output_type": "stream",
     "text": [
      "\u001b[2K\u001b[1A\u001b[2K\u001b[1A\u001b[2K\u001b[0G[+] 1m:44.6s\r\n",
      "Downloading      ━━━━━━━━━━━━━━━━━━━━ 286.6MB                              13.9s\r\n",
      "Extracting  (73) ━━━━━━━━━━━╸\u001b[33m━━━━━━━━\u001b[0m     124 prometheus_client         1m:44.2s"
     ]
    },
    {
     "name": "stdout",
     "output_type": "stream",
     "text": [
      "\u001b[2K\u001b[1A\u001b[2K\u001b[1A\u001b[2K\u001b[0G[+] 1m:44.7s\r\n",
      "Downloading      ━━━━━━━━━━━━━━━━━━━━ 286.6MB                              13.9s\r\n",
      "Extracting  (73) ━━━━━━━━━━━╸\u001b[33m━━━━━━━━\u001b[0m     124 ptyprocess                1m:44.3s"
     ]
    },
    {
     "name": "stdout",
     "output_type": "stream",
     "text": [
      "\u001b[2K\u001b[1A\u001b[2K\u001b[1A\u001b[2K\u001b[0G[+] 1m:44.8s\r\n",
      "Downloading      ━━━━━━━━━━━━━━━━━━━━ 286.6MB                              13.9s\r\n",
      "Extracting  (73) ━━━━━━━━━━━╸\u001b[33m━━━━━━━━\u001b[0m     124 ptyprocess                1m:44.4s"
     ]
    },
    {
     "name": "stdout",
     "output_type": "stream",
     "text": [
      "\u001b[2K\u001b[1A\u001b[2K\u001b[1A\u001b[2K\u001b[0G[+] 1m:44.9s\r\n",
      "Downloading      ━━━━━━━━━━━━━━━━━━━━ 286.6MB                              13.9s\r\n",
      "Extracting  (73) ━━━━━━━━━━━╸\u001b[33m━━━━━━━━\u001b[0m     124 ptyprocess                1m:44.5s"
     ]
    },
    {
     "name": "stdout",
     "output_type": "stream",
     "text": [
      "\u001b[2K\u001b[1A\u001b[2K\u001b[1A\u001b[2K\u001b[0G[+] 1m:45.0s\r\n",
      "Downloading      ━━━━━━━━━━━━━━━━━━━━ 286.6MB                              13.9s\r\n",
      "Extracting  (73) ━━━━━━━━━━━╸\u001b[33m━━━━━━━━\u001b[0m     124 ptyprocess                1m:44.6s"
     ]
    },
    {
     "name": "stdout",
     "output_type": "stream",
     "text": [
      "\u001b[2K\u001b[1A\u001b[2K\u001b[1A\u001b[2K\u001b[0G[+] 1m:45.1s\r\n",
      "Downloading      ━━━━━━━━━━━━━━━━━━━━ 286.6MB                              13.9s\r\n",
      "Extracting  (73) ━━━━━━━━━━━╸\u001b[33m━━━━━━━━\u001b[0m     124 pure_eval                 1m:44.7s"
     ]
    },
    {
     "name": "stdout",
     "output_type": "stream",
     "text": [
      "\u001b[2K\u001b[1A\u001b[2K\u001b[1A\u001b[2K\u001b[0G[+] 1m:45.2s\r\n",
      "Downloading      ━━━━━━━━━━━━━━━━━━━━ 286.6MB                              13.9s\r\n",
      "Extracting  (73) ━━━━━━━━━━━╸\u001b[33m━━━━━━━━\u001b[0m     124 pure_eval                 1m:44.8s"
     ]
    },
    {
     "name": "stdout",
     "output_type": "stream",
     "text": [
      "\u001b[2K\u001b[1A\u001b[2K\u001b[1A\u001b[2K\u001b[0G[+] 1m:45.3s\r\n",
      "Downloading      ━━━━━━━━━━━━━━━━━━━━ 286.6MB                              13.9s\r\n",
      "Extracting  (72) ━━━━━━━━━━━╸\u001b[33m━━━━━━━━\u001b[0m     125 pure_eval                 1m:44.9s"
     ]
    },
    {
     "name": "stdout",
     "output_type": "stream",
     "text": [
      "\u001b[2K\u001b[1A\u001b[2K\u001b[1A\u001b[2K\u001b[0G[+] 1m:45.4s\r\n",
      "Downloading      ━━━━━━━━━━━━━━━━━━━━ 286.6MB                              13.9s\r\n",
      "Extracting  (72) ━━━━━━━━━━━╸\u001b[33m━━━━━━━━\u001b[0m     125 pure_eval                 1m:45.0s"
     ]
    },
    {
     "name": "stdout",
     "output_type": "stream",
     "text": [
      "\u001b[2K\u001b[1A\u001b[2K\u001b[1A\u001b[2K\u001b[0G[+] 1m:45.5s\r\n",
      "Downloading      ━━━━━━━━━━━━━━━━━━━━ 286.6MB                              13.9s\r\n",
      "Extracting  (72) ━━━━━━━━━━━╸\u001b[33m━━━━━━━━\u001b[0m     125 pycparser                 1m:45.1s"
     ]
    },
    {
     "name": "stdout",
     "output_type": "stream",
     "text": [
      "\u001b[2K\u001b[1A\u001b[2K\u001b[1A\u001b[2K\u001b[0G[+] 1m:45.6s\r\n",
      "Downloading      ━━━━━━━━━━━━━━━━━━━━ 286.6MB                              13.9s\r\n",
      "Extracting  (72) ━━━━━━━━━━━╸\u001b[33m━━━━━━━━\u001b[0m     125 pycparser                 1m:45.2s"
     ]
    },
    {
     "name": "stdout",
     "output_type": "stream",
     "text": [
      "\u001b[2K\u001b[1A\u001b[2K\u001b[1A\u001b[2K\u001b[0G[+] 1m:45.7s\r\n",
      "Downloading      ━━━━━━━━━━━━━━━━━━━━ 286.6MB                              13.9s\r\n",
      "Extracting  (71) ━━━━━━━━━━━╸\u001b[33m━━━━━━━━\u001b[0m     126 pycparser                 1m:45.3s"
     ]
    },
    {
     "name": "stdout",
     "output_type": "stream",
     "text": [
      "\u001b[2K\u001b[1A\u001b[2K\u001b[1A\u001b[2K\u001b[0G[+] 1m:45.8s\r\n",
      "Downloading      ━━━━━━━━━━━━━━━━━━━━ 286.6MB                              13.9s\r\n",
      "Extracting  (71) ━━━━━━━━━━━╸\u001b[33m━━━━━━━━\u001b[0m     126 pycparser                 1m:45.4s"
     ]
    },
    {
     "name": "stdout",
     "output_type": "stream",
     "text": [
      "\u001b[2K\u001b[1A\u001b[2K\u001b[1A\u001b[2K\u001b[0G[+] 1m:45.9s\r\n",
      "Downloading      ━━━━━━━━━━━━━━━━━━━━ 286.6MB                              13.9s\r\n",
      "Extracting  (71) ━━━━━━━━━━━╸\u001b[33m━━━━━━━━\u001b[0m     126 pyqt                      1m:45.5s"
     ]
    },
    {
     "name": "stdout",
     "output_type": "stream",
     "text": [
      "\u001b[2K\u001b[1A\u001b[2K\u001b[1A\u001b[2K\u001b[0G[+] 1m:46.0s\r\n",
      "Downloading      ━━━━━━━━━━━━━━━━━━━━ 286.6MB                              13.9s\r\n",
      "Extracting  (71) ━━━━━━━━━━━╸\u001b[33m━━━━━━━━\u001b[0m     126 pyqt                      1m:45.6s"
     ]
    },
    {
     "name": "stdout",
     "output_type": "stream",
     "text": [
      "\u001b[2K\u001b[1A\u001b[2K\u001b[1A\u001b[2K\u001b[0G[+] 1m:46.1s\r\n",
      "Downloading      ━━━━━━━━━━━━━━━━━━━━ 286.6MB                              13.9s\r\n",
      "Extracting  (71) ━━━━━━━━━━━╸\u001b[33m━━━━━━━━\u001b[0m     126 pyqt                      1m:45.7s"
     ]
    },
    {
     "name": "stdout",
     "output_type": "stream",
     "text": [
      "\u001b[2K\u001b[1A\u001b[2K\u001b[1A\u001b[2K\u001b[0G[+] 1m:46.2s\r\n",
      "Downloading      ━━━━━━━━━━━━━━━━━━━━ 286.6MB                              13.9s\r\n",
      "Extracting  (71) ━━━━━━━━━━━╸\u001b[33m━━━━━━━━\u001b[0m     126 pyqt                      1m:45.8s"
     ]
    },
    {
     "name": "stdout",
     "output_type": "stream",
     "text": [
      "\u001b[2K\u001b[1A\u001b[2K\u001b[1A\u001b[2K\u001b[0G[+] 1m:46.3s\r\n",
      "Downloading      ━━━━━━━━━━━━━━━━━━━━ 286.6MB                              13.9s\r\n",
      "Extracting  (71) ━━━━━━━━━━━╸\u001b[33m━━━━━━━━\u001b[0m     126 python                    1m:45.9s"
     ]
    },
    {
     "name": "stdout",
     "output_type": "stream",
     "text": [
      "\u001b[2K\u001b[1A\u001b[2K\u001b[1A\u001b[2K\u001b[0G[+] 1m:46.4s\r\n",
      "Downloading      ━━━━━━━━━━━━━━━━━━━━ 286.6MB                              13.9s\r\n",
      "Extracting  (71) ━━━━━━━━━━━╸\u001b[33m━━━━━━━━\u001b[0m     126 python                    1m:46.0s"
     ]
    },
    {
     "name": "stdout",
     "output_type": "stream",
     "text": [
      "\u001b[2K\u001b[1A\u001b[2K\u001b[1A\u001b[2K\u001b[0G[+] 1m:46.5s\r\n",
      "Downloading      ━━━━━━━━━━━━━━━━━━━━ 286.6MB                              13.9s\r\n"
     ]
    },
    {
     "name": "stdout",
     "output_type": "stream",
     "text": [
      "Extracting  (71) ━━━━━━━━━━━╸\u001b[33m━━━━━━━━\u001b[0m     126 python                    1m:46.1s"
     ]
    },
    {
     "name": "stdout",
     "output_type": "stream",
     "text": [
      "\u001b[2K\u001b[1A\u001b[2K\u001b[1A\u001b[2K\u001b[0G[+] 1m:46.6s\r\n",
      "Downloading      ━━━━━━━━━━━━━━━━━━━━ 286.6MB                              13.9s\r\n",
      "Extracting  (71) ━━━━━━━━━━━╸\u001b[33m━━━━━━━━\u001b[0m     126 python                    1m:46.2s"
     ]
    },
    {
     "name": "stdout",
     "output_type": "stream",
     "text": [
      "\u001b[2K\u001b[1A\u001b[2K\u001b[1A\u001b[2K\u001b[0G[+] 1m:46.7s\r\n",
      "Downloading      ━━━━━━━━━━━━━━━━━━━━ 286.6MB                              13.9s\r\n",
      "Extracting  (71) ━━━━━━━━━━━╸\u001b[33m━━━━━━━━\u001b[0m     126 python-fastjsonschema     1m:46.3s"
     ]
    },
    {
     "name": "stdout",
     "output_type": "stream",
     "text": [
      "\u001b[2K\u001b[1A\u001b[2K\u001b[1A\u001b[2K\u001b[0G[+] 1m:46.8s\r\n",
      "Downloading      ━━━━━━━━━━━━━━━━━━━━ 286.6MB                              13.9s\r\n",
      "Extracting  (71) ━━━━━━━━━━━╸\u001b[33m━━━━━━━━\u001b[0m     126 python-fastjsonschema     1m:46.4s"
     ]
    },
    {
     "name": "stdout",
     "output_type": "stream",
     "text": [
      "\u001b[2K\u001b[1A\u001b[2K\u001b[1A\u001b[2K\u001b[0G[+] 1m:46.9s\r\n",
      "Downloading      ━━━━━━━━━━━━━━━━━━━━ 286.6MB                              13.9s\r\n",
      "Extracting  (71) ━━━━━━━━━━━╸\u001b[33m━━━━━━━━\u001b[0m     126 python-fastjsonschema     1m:46.5s"
     ]
    },
    {
     "name": "stdout",
     "output_type": "stream",
     "text": [
      "\u001b[2K\u001b[1A\u001b[2K\u001b[1A\u001b[2K\u001b[0G[+] 1m:47.0s\r\n",
      "Downloading      ━━━━━━━━━━━━━━━━━━━━ 286.6MB                              13.9s\r\n",
      "Extracting  (71) ━━━━━━━━━━━╸\u001b[33m━━━━━━━━\u001b[0m     126 python-fastjsonschema     1m:46.6s"
     ]
    },
    {
     "name": "stdout",
     "output_type": "stream",
     "text": [
      "\u001b[2K\u001b[1A\u001b[2K\u001b[1A\u001b[2K\u001b[0G[+] 1m:47.1s\r\n",
      "Downloading      ━━━━━━━━━━━━━━━━━━━━ 286.6MB                              13.9s\r\n",
      "Extracting  (70) ━━━━━━━━━━━╸\u001b[33m━━━━━━━━\u001b[0m     127 qt-main                   1m:46.7s"
     ]
    },
    {
     "name": "stdout",
     "output_type": "stream",
     "text": [
      "\u001b[2K\u001b[1A\u001b[2K\u001b[1A\u001b[2K\u001b[0G[+] 1m:47.2s\r\n",
      "Downloading      ━━━━━━━━━━━━━━━━━━━━ 286.6MB                              13.9s\r\n"
     ]
    },
    {
     "name": "stdout",
     "output_type": "stream",
     "text": [
      "Extracting  (70) ━━━━━━━━━━━╸\u001b[33m━━━━━━━━\u001b[0m     127 qt-main                   1m:46.8s"
     ]
    },
    {
     "name": "stdout",
     "output_type": "stream",
     "text": [
      "\u001b[2K\u001b[1A\u001b[2K\u001b[1A\u001b[2K\u001b[0G[+] 1m:47.3s\r\n",
      "Downloading      ━━━━━━━━━━━━━━━━━━━━ 286.6MB                              13.9s\r\n",
      "Extracting  (69) ━━━━━━━━━━━╸\u001b[33m━━━━━━━━\u001b[0m     128 qt-main                   1m:46.9s"
     ]
    },
    {
     "name": "stdout",
     "output_type": "stream",
     "text": [
      "\u001b[2K\u001b[1A\u001b[2K\u001b[1A\u001b[2K\u001b[0G[+] 1m:47.4s\r\n",
      "Downloading      ━━━━━━━━━━━━━━━━━━━━ 286.6MB                              13.9s\r\n",
      "Extracting  (69) ━━━━━━━━━━━╸\u001b[33m━━━━━━━━\u001b[0m     128 qt-main                   1m:47.0s"
     ]
    },
    {
     "name": "stdout",
     "output_type": "stream",
     "text": [
      "\u001b[2K\u001b[1A\u001b[2K\u001b[1A\u001b[2K\u001b[0G[+] 1m:47.5s\r\n",
      "Downloading      ━━━━━━━━━━━━━━━━━━━━ 286.6MB                              13.9s\r\n",
      "Extracting  (69) ━━━━━━━━━━━╸\u001b[33m━━━━━━━━\u001b[0m     128 qtpy                      1m:47.1s"
     ]
    },
    {
     "name": "stdout",
     "output_type": "stream",
     "text": [
      "\u001b[2K\u001b[1A\u001b[2K\u001b[1A\u001b[2K\u001b[0G[+] 1m:47.6s\r\n",
      "Downloading      ━━━━━━━━━━━━━━━━━━━━ 286.6MB                              13.9s\r\n",
      "Extracting  (69) ━━━━━━━━━━━╸\u001b[33m━━━━━━━━\u001b[0m     128 qtpy                      1m:47.2s"
     ]
    },
    {
     "name": "stdout",
     "output_type": "stream",
     "text": [
      "\u001b[2K\u001b[1A\u001b[2K\u001b[1A\u001b[2K\u001b[0G[+] 1m:47.7s\r\n",
      "Downloading      ━━━━━━━━━━━━━━━━━━━━ 286.6MB                              13.9s\r\n",
      "Extracting  (69) ━━━━━━━━━━━╸\u001b[33m━━━━━━━━\u001b[0m     128 qtpy                      1m:47.3s"
     ]
    },
    {
     "name": "stdout",
     "output_type": "stream",
     "text": [
      "\u001b[2K\u001b[1A\u001b[2K\u001b[1A\u001b[2K\u001b[0G[+] 1m:47.8s\r\n",
      "Downloading      ━━━━━━━━━━━━━━━━━━━━ 286.6MB                              13.9s\r\n",
      "Extracting  (69) ━━━━━━━━━━━╸\u001b[33m━━━━━━━━\u001b[0m     128 qtpy                      1m:47.4s"
     ]
    },
    {
     "name": "stdout",
     "output_type": "stream",
     "text": [
      "\u001b[2K\u001b[1A\u001b[2K\u001b[1A\u001b[2K\u001b[0G[+] 1m:47.9s\r\n",
      "Downloading      ━━━━━━━━━━━━━━━━━━━━ 286.6MB                              13.9s\r\n",
      "Extracting  (69) ━━━━━━━━━━━╸\u001b[33m━━━━━━━━\u001b[0m     128 readline                  1m:47.5s"
     ]
    },
    {
     "name": "stdout",
     "output_type": "stream",
     "text": [
      "\u001b[2K\u001b[1A\u001b[2K\u001b[1A\u001b[2K\u001b[0G[+] 1m:48.0s\r\n",
      "Downloading      ━━━━━━━━━━━━━━━━━━━━ 286.6MB                              13.9s\r\n",
      "Extracting  (69) ━━━━━━━━━━━╸\u001b[33m━━━━━━━━\u001b[0m     128 readline                  1m:47.6s"
     ]
    },
    {
     "name": "stdout",
     "output_type": "stream",
     "text": [
      "\u001b[2K\u001b[1A\u001b[2K\u001b[1A\u001b[2K\u001b[0G[+] 1m:48.1s\r\n",
      "Downloading      ━━━━━━━━━━━━━━━━━━━━ 286.6MB                              13.9s\r\n",
      "Extracting  (69) ━━━━━━━━━━━╸\u001b[33m━━━━━━━━\u001b[0m     128 readline                  1m:47.7s"
     ]
    },
    {
     "name": "stdout",
     "output_type": "stream",
     "text": [
      "\u001b[2K\u001b[1A\u001b[2K\u001b[1A\u001b[2K\u001b[0G[+] 1m:48.2s\r\n",
      "Downloading      ━━━━━━━━━━━━━━━━━━━━ 286.6MB                              13.9s\r\n",
      "Extracting  (69) ━━━━━━━━━━━╸\u001b[33m━━━━━━━━\u001b[0m     128 readline                  1m:47.8s"
     ]
    },
    {
     "name": "stdout",
     "output_type": "stream",
     "text": [
      "\u001b[2K\u001b[1A\u001b[2K\u001b[1A\u001b[2K\u001b[0G[+] 1m:48.3s\r\n",
      "Downloading      ━━━━━━━━━━━━━━━━━━━━ 286.6MB                              13.9s\r\n",
      "Extracting  (69) ━━━━━━━━━━━╸\u001b[33m━━━━━━━━\u001b[0m     128 ruamel.yaml               1m:47.9s"
     ]
    },
    {
     "name": "stdout",
     "output_type": "stream",
     "text": [
      "\u001b[2K\u001b[1A\u001b[2K\u001b[1A\u001b[2K\u001b[0G[+] 1m:48.4s\r\n",
      "Downloading      ━━━━━━━━━━━━━━━━━━━━ 286.6MB                              13.9s\r\n",
      "Extracting  (69) ━━━━━━━━━━━╸\u001b[33m━━━━━━━━\u001b[0m     128 ruamel.yaml               1m:48.0s"
     ]
    },
    {
     "name": "stdout",
     "output_type": "stream",
     "text": [
      "\u001b[2K\u001b[1A\u001b[2K\u001b[1A\u001b[2K\u001b[0G[+] 1m:48.5s\r\n",
      "Downloading      ━━━━━━━━━━━━━━━━━━━━ 286.6MB                              13.9s\r\n"
     ]
    },
    {
     "name": "stdout",
     "output_type": "stream",
     "text": [
      "Extracting  (69) ━━━━━━━━━━━╸\u001b[33m━━━━━━━━\u001b[0m     128 ruamel.yaml               1m:48.1s"
     ]
    },
    {
     "name": "stdout",
     "output_type": "stream",
     "text": [
      "\u001b[2K\u001b[1A\u001b[2K\u001b[1A\u001b[2K\u001b[0G[+] 1m:48.6s\r\n",
      "Downloading      ━━━━━━━━━━━━━━━━━━━━ 286.6MB                              13.9s\r\n",
      "Extracting  (68) ━━━━━━━━━━━━╸\u001b[33m━━━━━━━\u001b[0m     129 ruamel.yaml               1m:48.2s"
     ]
    },
    {
     "name": "stdout",
     "output_type": "stream",
     "text": [
      "\u001b[2K\u001b[1A\u001b[2K\u001b[1A\u001b[2K\u001b[0G[+] 1m:48.7s\r\n",
      "Downloading      ━━━━━━━━━━━━━━━━━━━━ 286.6MB                              13.9s\r\n",
      "Extracting  (68) ━━━━━━━━━━━━╸\u001b[33m━━━━━━━\u001b[0m     129 send2trash                1m:48.3s"
     ]
    },
    {
     "name": "stdout",
     "output_type": "stream",
     "text": [
      "\u001b[2K\u001b[1A\u001b[2K\u001b[1A\u001b[2K\u001b[0G[+] 1m:48.8s\r\n",
      "Downloading      ━━━━━━━━━━━━━━━━━━━━ 286.6MB                              13.9s\r\n",
      "Extracting  (68) ━━━━━━━━━━━━╸\u001b[33m━━━━━━━\u001b[0m     129 send2trash                1m:48.4s"
     ]
    },
    {
     "name": "stdout",
     "output_type": "stream",
     "text": [
      "\u001b[2K\u001b[1A\u001b[2K\u001b[1A\u001b[2K\u001b[0G[+] 1m:48.9s\r\n",
      "Downloading      ━━━━━━━━━━━━━━━━━━━━ 286.6MB                              13.9s\r\n",
      "Extracting  (68) ━━━━━━━━━━━━╸\u001b[33m━━━━━━━\u001b[0m     129 send2trash                1m:48.5s"
     ]
    },
    {
     "name": "stdout",
     "output_type": "stream",
     "text": [
      "\u001b[2K\u001b[1A\u001b[2K\u001b[1A\u001b[2K\u001b[0G[+] 1m:49.0s\r\n",
      "Downloading      ━━━━━━━━━━━━━━━━━━━━ 286.6MB                              13.9s\r\n",
      "Extracting  (67) ━━━━━━━━━━━━╸\u001b[33m━━━━━━━\u001b[0m     130 send2trash                1m:48.6s"
     ]
    },
    {
     "name": "stdout",
     "output_type": "stream",
     "text": [
      "\u001b[2K\u001b[1A\u001b[2K\u001b[1A\u001b[2K\u001b[0G[+] 1m:49.1s\r\n",
      "Downloading      ━━━━━━━━━━━━━━━━━━━━ 286.6MB                              13.9s\r\n",
      "Extracting  (67) ━━━━━━━━━━━━╸\u001b[33m━━━━━━━\u001b[0m     130 tornado                   1m:48.7s"
     ]
    },
    {
     "name": "stdout",
     "output_type": "stream",
     "text": [
      "\u001b[2K\u001b[1A\u001b[2K\u001b[1A\u001b[2K\u001b[0G[+] 1m:49.2s\r\n",
      "Downloading      ━━━━━━━━━━━━━━━━━━━━ 286.6MB                              13.9s\r\n",
      "Extracting  (67) ━━━━━━━━━━━━╸\u001b[33m━━━━━━━\u001b[0m     130 tornado                   1m:48.8s"
     ]
    },
    {
     "name": "stdout",
     "output_type": "stream",
     "text": [
      "\u001b[2K\u001b[1A\u001b[2K\u001b[1A\u001b[2K\u001b[0G[+] 1m:49.3s\r\n",
      "Downloading      ━━━━━━━━━━━━━━━━━━━━ 286.6MB                              13.9s\r\n",
      "Extracting  (67) ━━━━━━━━━━━━╸\u001b[33m━━━━━━━\u001b[0m     130 tornado                   1m:48.9s"
     ]
    },
    {
     "name": "stdout",
     "output_type": "stream",
     "text": [
      "\u001b[2K\u001b[1A\u001b[2K\u001b[1A\u001b[2K\u001b[0G[+] 1m:49.4s\r\n",
      "Downloading      ━━━━━━━━━━━━━━━━━━━━ 286.6MB                              13.9s\r\n"
     ]
    },
    {
     "name": "stdout",
     "output_type": "stream",
     "text": [
      "Extracting  (67) ━━━━━━━━━━━━╸\u001b[33m━━━━━━━\u001b[0m     130 tornado                   1m:49.0s"
     ]
    },
    {
     "name": "stdout",
     "output_type": "stream",
     "text": [
      "\u001b[2K\u001b[1A\u001b[2K\u001b[1A\u001b[2K\u001b[0G[+] 1m:49.5s\r\n",
      "Downloading      ━━━━━━━━━━━━━━━━━━━━ 286.6MB                              13.9s\r\n",
      "Extracting  (67) ━━━━━━━━━━━━╸\u001b[33m━━━━━━━\u001b[0m     130 tqdm                      1m:49.1s"
     ]
    },
    {
     "name": "stdout",
     "output_type": "stream",
     "text": [
      "\u001b[2K\u001b[1A\u001b[2K\u001b[1A\u001b[2K\u001b[0G[+] 1m:49.6s\r\n",
      "Downloading      ━━━━━━━━━━━━━━━━━━━━ 286.6MB                              13.9s\r\n",
      "Extracting  (67) ━━━━━━━━━━━━╸\u001b[33m━━━━━━━\u001b[0m     130 tqdm                      1m:49.2s"
     ]
    },
    {
     "name": "stdout",
     "output_type": "stream",
     "text": [
      "\u001b[2K\u001b[1A\u001b[2K\u001b[1A\u001b[2K\u001b[0G[+] 1m:49.7s\r\n",
      "Downloading      ━━━━━━━━━━━━━━━━━━━━ 286.6MB                              13.9s\r\n",
      "Extracting  (67) ━━━━━━━━━━━━╸\u001b[33m━━━━━━━\u001b[0m     130 tqdm                      1m:49.3s"
     ]
    },
    {
     "name": "stdout",
     "output_type": "stream",
     "text": [
      "\u001b[2K\u001b[1A\u001b[2K\u001b[1A\u001b[2K\u001b[0G[+] 1m:49.8s\r\n",
      "Downloading      ━━━━━━━━━━━━━━━━━━━━ 286.6MB                              13.9s\r\n",
      "Extracting  (67) ━━━━━━━━━━━━╸\u001b[33m━━━━━━━\u001b[0m     130 tqdm                      1m:49.4s"
     ]
    },
    {
     "name": "stdout",
     "output_type": "stream",
     "text": [
      "\u001b[2K\u001b[1A\u001b[2K\u001b[1A\u001b[2K\u001b[0G[+] 1m:49.9s\r\n",
      "Downloading      ━━━━━━━━━━━━━━━━━━━━ 286.6MB                              13.9s\r\n",
      "Extracting  (67) ━━━━━━━━━━━━╸\u001b[33m━━━━━━━\u001b[0m     130 traitlets                 1m:49.5s"
     ]
    },
    {
     "name": "stdout",
     "output_type": "stream",
     "text": [
      "\u001b[2K\u001b[1A\u001b[2K\u001b[1A\u001b[2K\u001b[0G[+] 1m:50.0s\r\n",
      "Downloading      ━━━━━━━━━━━━━━━━━━━━ 286.6MB                              13.9s\r\n",
      "Extracting  (67) ━━━━━━━━━━━━╸\u001b[33m━━━━━━━\u001b[0m     130 traitlets                 1m:49.6s"
     ]
    },
    {
     "name": "stdout",
     "output_type": "stream",
     "text": [
      "\u001b[2K\u001b[1A\u001b[2K\u001b[1A\u001b[2K\u001b[0G[+] 1m:50.1s\r\n",
      "Downloading      ━━━━━━━━━━━━━━━━━━━━ 286.6MB                              13.9s\r\n",
      "Extracting  (66) ━━━━━━━━━━━━╸\u001b[33m━━━━━━━\u001b[0m     131 traitlets                 1m:49.7s"
     ]
    },
    {
     "name": "stdout",
     "output_type": "stream",
     "text": [
      "\u001b[2K\u001b[1A\u001b[2K\u001b[1A\u001b[2K\u001b[0G[+] 1m:50.2s\r\n",
      "Downloading      ━━━━━━━━━━━━━━━━━━━━ 286.6MB                              13.9s\r\n",
      "Extracting  (66) ━━━━━━━━━━━━╸\u001b[33m━━━━━━━\u001b[0m     131 traitlets                 1m:49.8s"
     ]
    },
    {
     "name": "stdout",
     "output_type": "stream",
     "text": [
      "\u001b[2K\u001b[1A\u001b[2K\u001b[1A\u001b[2K\u001b[0G[+] 1m:50.3s\r\n",
      "Downloading      ━━━━━━━━━━━━━━━━━━━━ 286.6MB                              13.9s\r\n",
      "Extracting  (65) ━━━━━━━━━━━━╸\u001b[33m━━━━━━━\u001b[0m     132 typing_extensions         1m:49.9s"
     ]
    },
    {
     "name": "stdout",
     "output_type": "stream",
     "text": [
      "\u001b[2K\u001b[1A\u001b[2K\u001b[1A\u001b[2K\u001b[0G[+] 1m:50.4s\r\n",
      "Downloading      ━━━━━━━━━━━━━━━━━━━━ 286.6MB                              13.9s\r\n"
     ]
    },
    {
     "name": "stdout",
     "output_type": "stream",
     "text": [
      "Extracting  (65) ━━━━━━━━━━━━╸\u001b[33m━━━━━━━\u001b[0m     132 typing_extensions         1m:50.0s"
     ]
    },
    {
     "name": "stdout",
     "output_type": "stream",
     "text": [
      "\u001b[2K\u001b[1A\u001b[2K\u001b[1A\u001b[2K\u001b[0G[+] 1m:50.5s\r\n",
      "Downloading      ━━━━━━━━━━━━━━━━━━━━ 286.6MB                              13.9s\r\n",
      "Extracting  (65) ━━━━━━━━━━━━╸\u001b[33m━━━━━━━\u001b[0m     132 typing_extensions         1m:50.1s"
     ]
    },
    {
     "name": "stdout",
     "output_type": "stream",
     "text": [
      "\u001b[2K\u001b[1A\u001b[2K\u001b[1A\u001b[2K\u001b[0G[+] 1m:50.6s\r\n",
      "Downloading      ━━━━━━━━━━━━━━━━━━━━ 286.6MB                              13.9s\r\n",
      "Extracting  (65) ━━━━━━━━━━━━╸\u001b[33m━━━━━━━\u001b[0m     132 typing_extensions         1m:50.2s"
     ]
    },
    {
     "name": "stdout",
     "output_type": "stream",
     "text": [
      "\u001b[2K\u001b[1A\u001b[2K\u001b[1A\u001b[2K\u001b[0G[+] 1m:50.7s\r\n",
      "Downloading      ━━━━━━━━━━━━━━━━━━━━ 286.6MB                              13.9s\r\n",
      "Extracting  (65) ━━━━━━━━━━━━╸\u001b[33m━━━━━━━\u001b[0m     132 tzdata                    1m:50.3s"
     ]
    },
    {
     "name": "stdout",
     "output_type": "stream",
     "text": [
      "\u001b[2K\u001b[1A\u001b[2K\u001b[1A\u001b[2K\u001b[0G[+] 1m:50.8s\r\n",
      "Downloading      ━━━━━━━━━━━━━━━━━━━━ 286.6MB                              13.9s\r\n",
      "Extracting  (65) ━━━━━━━━━━━━╸\u001b[33m━━━━━━━\u001b[0m     132 tzdata                    1m:50.4s"
     ]
    },
    {
     "name": "stdout",
     "output_type": "stream",
     "text": [
      "\u001b[2K\u001b[1A\u001b[2K\u001b[1A\u001b[2K\u001b[0G[+] 1m:50.9s\r\n",
      "Downloading      ━━━━━━━━━━━━━━━━━━━━ 286.6MB                              13.9s\r\n",
      "Extracting  (65) ━━━━━━━━━━━━╸\u001b[33m━━━━━━━\u001b[0m     132 tzdata                    1m:50.5s"
     ]
    },
    {
     "name": "stdout",
     "output_type": "stream",
     "text": [
      "\u001b[2K\u001b[1A\u001b[2K\u001b[1A\u001b[2K\u001b[0G[+] 1m:51.0s\r\n",
      "Downloading      ━━━━━━━━━━━━━━━━━━━━ 286.6MB                              13.9s\r\n",
      "Extracting  (65) ━━━━━━━━━━━━╸\u001b[33m━━━━━━━\u001b[0m     132 tzdata                    1m:50.6s"
     ]
    },
    {
     "name": "stdout",
     "output_type": "stream",
     "text": [
      "\u001b[2K\u001b[1A\u001b[2K\u001b[1A\u001b[2K\u001b[0G[+] 1m:51.1s\r\n",
      "Downloading      ━━━━━━━━━━━━━━━━━━━━ 286.6MB                              13.9s\r\n",
      "Extracting  (65) ━━━━━━━━━━━━╸\u001b[33m━━━━━━━\u001b[0m     132 urllib3                   1m:50.7s"
     ]
    },
    {
     "name": "stdout",
     "output_type": "stream",
     "text": [
      "\u001b[2K\u001b[1A\u001b[2K\u001b[1A\u001b[2K\u001b[0G[+] 1m:51.2s\r\n",
      "Downloading      ━━━━━━━━━━━━━━━━━━━━ 286.6MB                              13.9s\r\n",
      "Extracting  (65) ━━━━━━━━━━━━╸\u001b[33m━━━━━━━\u001b[0m     132 urllib3                   1m:50.8s"
     ]
    },
    {
     "name": "stdout",
     "output_type": "stream",
     "text": [
      "\u001b[2K\u001b[1A\u001b[2K\u001b[1A\u001b[2K\u001b[0G[+] 1m:51.3s\r\n",
      "Downloading      ━━━━━━━━━━━━━━━━━━━━ 286.6MB                              13.9s\r\n",
      "Extracting  (65) ━━━━━━━━━━━━╸\u001b[33m━━━━━━━\u001b[0m     132 urllib3                   1m:50.9s"
     ]
    },
    {
     "name": "stdout",
     "output_type": "stream",
     "text": [
      "\u001b[2K\u001b[1A\u001b[2K\u001b[1A\u001b[2K\u001b[0G[+] 1m:51.4s\r\n",
      "Downloading      ━━━━━━━━━━━━━━━━━━━━ 286.6MB                              13.9s\r\n",
      "Extracting  (65) ━━━━━━━━━━━━╸\u001b[33m━━━━━━━\u001b[0m     132 urllib3                   1m:51.0s"
     ]
    },
    {
     "name": "stdout",
     "output_type": "stream",
     "text": [
      "\u001b[2K\u001b[1A\u001b[2K\u001b[1A\u001b[2K\u001b[0G[+] 1m:51.5s\r\n",
      "Downloading      ━━━━━━━━━━━━━━━━━━━━ 286.6MB                              13.9s\r\n",
      "Extracting  (65) ━━━━━━━━━━━━╸\u001b[33m━━━━━━━\u001b[0m     132 widgetsnbextension        1m:51.1s"
     ]
    },
    {
     "name": "stdout",
     "output_type": "stream",
     "text": [
      "\u001b[2K\u001b[1A\u001b[2K\u001b[1A\u001b[2K\u001b[0G[+] 1m:51.6s\r\n",
      "Downloading      ━━━━━━━━━━━━━━━━━━━━ 286.6MB                              13.9s\r\n",
      "Extracting  (65) ━━━━━━━━━━━━╸\u001b[33m━━━━━━━\u001b[0m     132 widgetsnbextension        1m:51.2s"
     ]
    },
    {
     "name": "stdout",
     "output_type": "stream",
     "text": [
      "\u001b[2K\u001b[1A\u001b[2K\u001b[1A\u001b[2K\u001b[0G[+] 1m:51.7s\r\n",
      "Downloading      ━━━━━━━━━━━━━━━━━━━━ 286.6MB                              13.9s\r\n",
      "Extracting  (63) ━━━━━━━━━━━━╸\u001b[33m━━━━━━━\u001b[0m     134 widgetsnbextension        1m:51.3s"
     ]
    },
    {
     "name": "stdout",
     "output_type": "stream",
     "text": [
      "\u001b[2K\u001b[1A\u001b[2K\u001b[1A\u001b[2K\u001b[0G[+] 1m:51.8s\r\n",
      "Downloading      ━━━━━━━━━━━━━━━━━━━━ 286.6MB                              13.9s\r\n",
      "Extracting  (63) ━━━━━━━━━━━━╸\u001b[33m━━━━━━━\u001b[0m     134 widgetsnbextension        1m:51.4s"
     ]
    },
    {
     "name": "stdout",
     "output_type": "stream",
     "text": [
      "\u001b[2K\u001b[1A\u001b[2K\u001b[1A\u001b[2K\u001b[0G[+] 1m:51.9s\r\n",
      "Downloading      ━━━━━━━━━━━━━━━━━━━━ 286.6MB                              13.9s\r\n",
      "Extracting  (63) ━━━━━━━━━━━━╸\u001b[33m━━━━━━━\u001b[0m     134 xcb-util-image            1m:51.5s"
     ]
    },
    {
     "name": "stdout",
     "output_type": "stream",
     "text": [
      "\u001b[2K\u001b[1A\u001b[2K\u001b[1A\u001b[2K\u001b[0G[+] 1m:52.0s\r\n",
      "Downloading      ━━━━━━━━━━━━━━━━━━━━ 286.6MB                              13.9s\r\n",
      "Extracting  (63) ━━━━━━━━━━━━╸\u001b[33m━━━━━━━\u001b[0m     134 xcb-util-image            1m:51.6s"
     ]
    },
    {
     "name": "stdout",
     "output_type": "stream",
     "text": [
      "\u001b[2K\u001b[1A\u001b[2K\u001b[1A\u001b[2K\u001b[0G[+] 1m:52.1s\r\n",
      "Downloading      ━━━━━━━━━━━━━━━━━━━━ 286.6MB                              13.9s\r\n",
      "Extracting  (63) ━━━━━━━━━━━━╸\u001b[33m━━━━━━━\u001b[0m     134 xcb-util-image            1m:51.7s"
     ]
    },
    {
     "name": "stdout",
     "output_type": "stream",
     "text": [
      "\u001b[2K\u001b[1A\u001b[2K\u001b[1A\u001b[2K\u001b[0G[+] 1m:52.2s\r\n",
      "Downloading      ━━━━━━━━━━━━━━━━━━━━ 286.6MB                              13.9s\r\n",
      "Extracting  (63) ━━━━━━━━━━━━╸\u001b[33m━━━━━━━\u001b[0m     134 xcb-util-image            1m:51.8s"
     ]
    },
    {
     "name": "stdout",
     "output_type": "stream",
     "text": [
      "\u001b[2K\u001b[1A\u001b[2K\u001b[1A\u001b[2K\u001b[0G[+] 1m:52.3s\r\n",
      "Downloading      ━━━━━━━━━━━━━━━━━━━━ 286.6MB                              13.9s\r\n",
      "Extracting  (63) ━━━━━━━━━━━━╸\u001b[33m━━━━━━━\u001b[0m     134 xcb-util-renderutil       1m:51.9s"
     ]
    },
    {
     "name": "stdout",
     "output_type": "stream",
     "text": [
      "\u001b[2K\u001b[1A\u001b[2K\u001b[1A\u001b[2K\u001b[0G[+] 1m:52.4s\r\n",
      "Downloading      ━━━━━━━━━━━━━━━━━━━━ 286.6MB                              13.9s\r\n",
      "Extracting  (63) ━━━━━━━━━━━━╸\u001b[33m━━━━━━━\u001b[0m     134 xcb-util-renderutil       1m:52.0s"
     ]
    },
    {
     "name": "stdout",
     "output_type": "stream",
     "text": [
      "\u001b[2K\u001b[1A\u001b[2K\u001b[1A\u001b[2K\u001b[0G[+] 1m:52.5s\r\n",
      "Downloading      ━━━━━━━━━━━━━━━━━━━━ 286.6MB                              13.9s\r\n",
      "Extracting  (63) ━━━━━━━━━━━━╸\u001b[33m━━━━━━━\u001b[0m     134 xcb-util-renderutil       1m:52.1s"
     ]
    },
    {
     "name": "stdout",
     "output_type": "stream",
     "text": [
      "\u001b[2K\u001b[1A\u001b[2K\u001b[1A\u001b[2K\u001b[0G[+] 1m:52.6s\r\n",
      "Downloading      ━━━━━━━━━━━━━━━━━━━━ 286.6MB                              13.9s\r\n",
      "Extracting  (63) ━━━━━━━━━━━━╸\u001b[33m━━━━━━━\u001b[0m     134 xcb-util-renderutil       1m:52.2s"
     ]
    },
    {
     "name": "stdout",
     "output_type": "stream",
     "text": [
      "\u001b[2K\u001b[1A\u001b[2K\u001b[1A\u001b[2K\u001b[0G[+] 1m:52.7s\r\n",
      "Downloading      ━━━━━━━━━━━━━━━━━━━━ 286.6MB                              13.9s\r\n",
      "Extracting  (63) ━━━━━━━━━━━━╸\u001b[33m━━━━━━━\u001b[0m     134 xkeyboard-config          1m:52.3s"
     ]
    },
    {
     "name": "stdout",
     "output_type": "stream",
     "text": [
      "\u001b[2K\u001b[1A\u001b[2K\u001b[1A\u001b[2K\u001b[0G[+] 1m:52.8s\r\n",
      "Downloading      ━━━━━━━━━━━━━━━━━━━━ 286.6MB                              13.9s\r\n",
      "Extracting  (63) ━━━━━━━━━━━━╸\u001b[33m━━━━━━━\u001b[0m     134 xkeyboard-config          1m:52.4s"
     ]
    },
    {
     "name": "stdout",
     "output_type": "stream",
     "text": [
      "\u001b[2K\u001b[1A\u001b[2K\u001b[1A\u001b[2K\u001b[0G[+] 1m:52.9s\r\n",
      "Downloading      ━━━━━━━━━━━━━━━━━━━━ 286.6MB                              13.9s\r\n",
      "Extracting  (63) ━━━━━━━━━━━━╸\u001b[33m━━━━━━━\u001b[0m     134 xkeyboard-config          1m:52.5s"
     ]
    },
    {
     "name": "stdout",
     "output_type": "stream",
     "text": [
      "\u001b[2K\u001b[1A\u001b[2K\u001b[1A\u001b[2K\u001b[0G[+] 1m:53.0s\r\n",
      "Downloading      ━━━━━━━━━━━━━━━━━━━━ 286.6MB                              13.9s\r\n",
      "Extracting  (63) ━━━━━━━━━━━━╸\u001b[33m━━━━━━━\u001b[0m     134 xkeyboard-config          1m:52.6s"
     ]
    },
    {
     "name": "stdout",
     "output_type": "stream",
     "text": [
      "\u001b[2K\u001b[1A\u001b[2K\u001b[1A\u001b[2K\u001b[0G[+] 1m:53.1s\r\n",
      "Downloading      ━━━━━━━━━━━━━━━━━━━━ 286.6MB                              13.9s\r\n",
      "Extracting  (62) ━━━━━━━━━━━━╸\u001b[33m━━━━━━━\u001b[0m     135 xorg-libxdmcp             1m:52.7s"
     ]
    },
    {
     "name": "stdout",
     "output_type": "stream",
     "text": [
      "\u001b[2K\u001b[1A\u001b[2K\u001b[1A\u001b[2K\u001b[0G[+] 1m:53.2s\r\n",
      "Downloading      ━━━━━━━━━━━━━━━━━━━━ 286.6MB                              13.9s\r\n",
      "Extracting  (61) ━━━━━━━━━━━━╸\u001b[33m━━━━━━━\u001b[0m     136 xorg-libxdmcp             1m:52.8s"
     ]
    },
    {
     "name": "stdout",
     "output_type": "stream",
     "text": [
      "\u001b[2K\u001b[1A\u001b[2K\u001b[1A\u001b[2K\u001b[0G[+] 1m:53.3s\r\n",
      "Downloading      ━━━━━━━━━━━━━━━━━━━━ 286.6MB                              13.9s\r\n",
      "Extracting  (61) ━━━━━━━━━━━━╸\u001b[33m━━━━━━━\u001b[0m     136 xorg-libxdmcp             1m:52.9s"
     ]
    },
    {
     "name": "stdout",
     "output_type": "stream",
     "text": [
      "\u001b[2K\u001b[1A\u001b[2K\u001b[1A\u001b[2K\u001b[0G[+] 1m:53.4s\r\n",
      "Downloading      ━━━━━━━━━━━━━━━━━━━━ 286.6MB                              13.9s\r\n",
      "Extracting  (61) ━━━━━━━━━━━━╸\u001b[33m━━━━━━━\u001b[0m     136 xorg-libxdmcp             1m:53.0s"
     ]
    },
    {
     "name": "stdout",
     "output_type": "stream",
     "text": [
      "\u001b[2K\u001b[1A\u001b[2K\u001b[1A\u001b[2K\u001b[0G[+] 1m:53.5s\r\n",
      "Downloading      ━━━━━━━━━━━━━━━━━━━━ 286.6MB                              13.9s\r\n",
      "Extracting  (61) ━━━━━━━━━━━━╸\u001b[33m━━━━━━━\u001b[0m     136 xorg-libxext              1m:53.1s"
     ]
    },
    {
     "name": "stdout",
     "output_type": "stream",
     "text": [
      "\u001b[2K\u001b[1A\u001b[2K\u001b[1A\u001b[2K\u001b[0G[+] 1m:53.6s\r\n",
      "Downloading      ━━━━━━━━━━━━━━━━━━━━ 286.6MB                              13.9s\r\n",
      "Extracting  (61) ━━━━━━━━━━━━╸\u001b[33m━━━━━━━\u001b[0m     136 xorg-libxext              1m:53.2s"
     ]
    },
    {
     "name": "stdout",
     "output_type": "stream",
     "text": [
      "\u001b[2K\u001b[1A\u001b[2K\u001b[1A\u001b[2K\u001b[0G[+] 1m:53.7s\r\n",
      "Downloading      ━━━━━━━━━━━━━━━━━━━━ 286.6MB                              13.9s\r\n",
      "Extracting  (61) ━━━━━━━━━━━━╸\u001b[33m━━━━━━━\u001b[0m     136 xorg-libxext              1m:53.3s"
     ]
    },
    {
     "name": "stdout",
     "output_type": "stream",
     "text": [
      "\u001b[2K\u001b[1A\u001b[2K\u001b[1A\u001b[2K\u001b[0G[+] 1m:53.8s\r\n",
      "Downloading      ━━━━━━━━━━━━━━━━━━━━ 286.6MB                              13.9s\r\n",
      "Extracting  (61) ━━━━━━━━━━━━╸\u001b[33m━━━━━━━\u001b[0m     136 xorg-libxext              1m:53.4s"
     ]
    },
    {
     "name": "stdout",
     "output_type": "stream",
     "text": [
      "\u001b[2K\u001b[1A\u001b[2K\u001b[1A\u001b[2K\u001b[0G[+] 1m:53.9s\r\n",
      "Downloading      ━━━━━━━━━━━━━━━━━━━━ 286.6MB                              13.9s\r\n",
      "Extracting  (61) ━━━━━━━━━━━━╸\u001b[33m━━━━━━━\u001b[0m     136 zeromq                    1m:53.5s"
     ]
    },
    {
     "name": "stdout",
     "output_type": "stream",
     "text": [
      "\u001b[2K\u001b[1A\u001b[2K\u001b[1A\u001b[2K\u001b[0G[+] 1m:54.0s\r\n",
      "Downloading      ━━━━━━━━━━━━━━━━━━━━ 286.6MB                              13.9s\r\n",
      "Extracting  (61) ━━━━━━━━━━━━╸\u001b[33m━━━━━━━\u001b[0m     136 zeromq                    1m:53.6s"
     ]
    },
    {
     "name": "stdout",
     "output_type": "stream",
     "text": [
      "\u001b[2K\u001b[1A\u001b[2K\u001b[1A\u001b[2K\u001b[0G[+] 1m:54.1s\r\n",
      "Downloading      ━━━━━━━━━━━━━━━━━━━━ 286.6MB                              13.9s\r\n",
      "Extracting  (61) ━━━━━━━━━━━━╸\u001b[33m━━━━━━━\u001b[0m     136 zeromq                    1m:53.7s"
     ]
    },
    {
     "name": "stdout",
     "output_type": "stream",
     "text": [
      "\u001b[2K\u001b[1A\u001b[2K\u001b[1A\u001b[2K\u001b[0G[+] 1m:54.2s\r\n",
      "Downloading      ━━━━━━━━━━━━━━━━━━━━ 286.6MB                              13.9s\r\n",
      "Extracting  (61) ━━━━━━━━━━━━╸\u001b[33m━━━━━━━\u001b[0m     136 zeromq                    1m:53.8s"
     ]
    },
    {
     "name": "stdout",
     "output_type": "stream",
     "text": [
      "\u001b[2K\u001b[1A\u001b[2K\u001b[1A\u001b[2K\u001b[0G[+] 1m:54.3s\r\n",
      "Downloading      ━━━━━━━━━━━━━━━━━━━━ 286.6MB                              13.9s\r\n",
      "Extracting  (61) ━━━━━━━━━━━━╸\u001b[33m━━━━━━━\u001b[0m     136 argon2-cffi-bindings      1m:53.9s"
     ]
    },
    {
     "name": "stdout",
     "output_type": "stream",
     "text": [
      "\u001b[2K\u001b[1A\u001b[2K\u001b[1A\u001b[2K\u001b[0G[+] 1m:54.4s\r\n",
      "Downloading      ━━━━━━━━━━━━━━━━━━━━ 286.6MB                              13.9s\r\n",
      "Extracting  (61) ━━━━━━━━━━━━╸\u001b[33m━━━━━━━\u001b[0m     136 argon2-cffi-bindings      1m:54.0s"
     ]
    },
    {
     "name": "stdout",
     "output_type": "stream",
     "text": [
      "\u001b[2K\u001b[1A\u001b[2K\u001b[1A\u001b[2K\u001b[0G[+] 1m:54.5s\r\n",
      "Downloading      ━━━━━━━━━━━━━━━━━━━━ 286.6MB                              13.9s\r\n",
      "Extracting  (61) ━━━━━━━━━━━━╸\u001b[33m━━━━━━━\u001b[0m     136 argon2-cffi-bindings      1m:54.1s"
     ]
    },
    {
     "name": "stdout",
     "output_type": "stream",
     "text": [
      "\u001b[2K\u001b[1A\u001b[2K\u001b[1A\u001b[2K\u001b[0G[+] 1m:54.6s\r\n",
      "Downloading      ━━━━━━━━━━━━━━━━━━━━ 286.6MB                              13.9s\r\n",
      "Extracting  (61) ━━━━━━━━━━━━╸\u001b[33m━━━━━━━\u001b[0m     136 argon2-cffi-bindings      1m:54.2s"
     ]
    },
    {
     "name": "stdout",
     "output_type": "stream",
     "text": [
      "\u001b[2K\u001b[1A\u001b[2K\u001b[1A\u001b[2K\u001b[0G[+] 1m:54.7s\r\n",
      "Downloading      ━━━━━━━━━━━━━━━━━━━━ 286.6MB                              13.9s\r\n",
      "Extracting  (61) ━━━━━━━━━━━━╸\u001b[33m━━━━━━━\u001b[0m     136 beautifulsoup4            1m:54.3s"
     ]
    },
    {
     "name": "stdout",
     "output_type": "stream",
     "text": [
      "\u001b[2K\u001b[1A\u001b[2K\u001b[1A\u001b[2K\u001b[0G[+] 1m:54.8s\r\n",
      "Downloading      ━━━━━━━━━━━━━━━━━━━━ 286.6MB                              13.9s\r\n",
      "Extracting  (60) ━━━━━━━━━━━━╸\u001b[33m━━━━━━━\u001b[0m     137 beautifulsoup4            1m:54.4s"
     ]
    },
    {
     "name": "stdout",
     "output_type": "stream",
     "text": [
      "\u001b[2K\u001b[1A\u001b[2K\u001b[1A\u001b[2K\u001b[0G[+] 1m:54.9s\r\n",
      "Downloading      ━━━━━━━━━━━━━━━━━━━━ 286.6MB                              13.9s\r\n",
      "Extracting  (60) ━━━━━━━━━━━━╸\u001b[33m━━━━━━━\u001b[0m     137 beautifulsoup4            1m:54.5s"
     ]
    },
    {
     "name": "stdout",
     "output_type": "stream",
     "text": [
      "\u001b[2K\u001b[1A\u001b[2K\u001b[1A\u001b[2K\u001b[0G[+] 1m:55.0s\r\n",
      "Downloading      ━━━━━━━━━━━━━━━━━━━━ 286.6MB                              13.9s\r\n",
      "Extracting  (60) ━━━━━━━━━━━━╸\u001b[33m━━━━━━━\u001b[0m     137 beautifulsoup4            1m:54.6s"
     ]
    },
    {
     "name": "stdout",
     "output_type": "stream",
     "text": [
      "\u001b[2K\u001b[1A\u001b[2K\u001b[1A\u001b[2K\u001b[0G[+] 1m:55.1s\r\n",
      "Downloading      ━━━━━━━━━━━━━━━━━━━━ 286.6MB                              13.9s\r\n",
      "Extracting  (60) ━━━━━━━━━━━━╸\u001b[33m━━━━━━━\u001b[0m     137 brotlipy                  1m:54.7s"
     ]
    },
    {
     "name": "stdout",
     "output_type": "stream",
     "text": [
      "\u001b[2K\u001b[1A\u001b[2K\u001b[1A\u001b[2K\u001b[0G[+] 1m:55.2s\r\n",
      "Downloading      ━━━━━━━━━━━━━━━━━━━━ 286.6MB                              13.9s\r\n",
      "Extracting  (60) ━━━━━━━━━━━━╸\u001b[33m━━━━━━━\u001b[0m     137 brotlipy                  1m:54.8s"
     ]
    },
    {
     "name": "stdout",
     "output_type": "stream",
     "text": [
      "\u001b[2K\u001b[1A\u001b[2K\u001b[1A\u001b[2K\u001b[0G[+] 1m:55.3s\r\n",
      "Downloading      ━━━━━━━━━━━━━━━━━━━━ 286.6MB                              13.9s\r\n",
      "Extracting  (60) ━━━━━━━━━━━━╸\u001b[33m━━━━━━━\u001b[0m     137 brotlipy                  1m:54.9s"
     ]
    },
    {
     "name": "stdout",
     "output_type": "stream",
     "text": [
      "\u001b[2K\u001b[1A\u001b[2K\u001b[1A\u001b[2K\u001b[0G[+] 1m:55.4s\r\n",
      "Downloading      ━━━━━━━━━━━━━━━━━━━━ 286.6MB                              13.9s\r\n",
      "Extracting  (60) ━━━━━━━━━━━━╸\u001b[33m━━━━━━━\u001b[0m     137 brotlipy                  1m:55.0s"
     ]
    },
    {
     "name": "stdout",
     "output_type": "stream",
     "text": [
      "\u001b[2K\u001b[1A\u001b[2K\u001b[1A\u001b[2K\u001b[0G[+] 1m:55.5s\r\n",
      "Downloading      ━━━━━━━━━━━━━━━━━━━━ 286.6MB                              13.9s\r\n",
      "Extracting  (60) ━━━━━━━━━━━━╸\u001b[33m━━━━━━━\u001b[0m     137 bzip2                     1m:55.1s"
     ]
    },
    {
     "name": "stdout",
     "output_type": "stream",
     "text": [
      "\u001b[2K\u001b[1A\u001b[2K\u001b[1A\u001b[2K\u001b[0G[+] 1m:55.6s\r\n",
      "Downloading      ━━━━━━━━━━━━━━━━━━━━ 286.6MB                              13.9s\r\n",
      "Extracting  (60) ━━━━━━━━━━━━╸\u001b[33m━━━━━━━\u001b[0m     137 bzip2                     1m:55.2s"
     ]
    },
    {
     "name": "stdout",
     "output_type": "stream",
     "text": [
      "\u001b[2K\u001b[1A\u001b[2K\u001b[1A\u001b[2K\u001b[0G[+] 1m:55.7s\r\n",
      "Downloading      ━━━━━━━━━━━━━━━━━━━━ 286.6MB                              13.9s\r\n",
      "Extracting  (60) ━━━━━━━━━━━━╸\u001b[33m━━━━━━━\u001b[0m     137 bzip2                     1m:55.3s"
     ]
    },
    {
     "name": "stdout",
     "output_type": "stream",
     "text": [
      "\u001b[2K\u001b[1A\u001b[2K\u001b[1A\u001b[2K\u001b[0G[+] 1m:55.8s\r\n",
      "Downloading      ━━━━━━━━━━━━━━━━━━━━ 286.6MB                              13.9s\r\n",
      "Extracting  (60) ━━━━━━━━━━━━╸\u001b[33m━━━━━━━\u001b[0m     137 bzip2                     1m:55.4s"
     ]
    },
    {
     "name": "stdout",
     "output_type": "stream",
     "text": [
      "\u001b[2K\u001b[1A\u001b[2K\u001b[1A\u001b[2K\u001b[0G[+] 1m:55.9s\r\n",
      "Downloading      ━━━━━━━━━━━━━━━━━━━━ 286.6MB                              13.9s\r\n",
      "Extracting  (59) ━━━━━━━━━━━━━╸\u001b[33m━━━━━━\u001b[0m     138 c-ares                    1m:55.5s"
     ]
    },
    {
     "name": "stdout",
     "output_type": "stream",
     "text": [
      "\u001b[2K\u001b[1A\u001b[2K\u001b[1A\u001b[2K\u001b[0G[+] 1m:56.0s\r\n",
      "Downloading      ━━━━━━━━━━━━━━━━━━━━ 286.6MB                              13.9s\r\n",
      "Extracting  (59) ━━━━━━━━━━━━━╸\u001b[33m━━━━━━\u001b[0m     138 c-ares                    1m:55.6s"
     ]
    },
    {
     "name": "stdout",
     "output_type": "stream",
     "text": [
      "\u001b[2K\u001b[1A\u001b[2K\u001b[1A\u001b[2K\u001b[0G[+] 1m:56.1s\r\n",
      "Downloading      ━━━━━━━━━━━━━━━━━━━━ 286.6MB                              13.9s\r\n",
      "Extracting  (59) ━━━━━━━━━━━━━╸\u001b[33m━━━━━━\u001b[0m     138 c-ares                    1m:55.7s"
     ]
    },
    {
     "name": "stdout",
     "output_type": "stream",
     "text": [
      "\u001b[2K\u001b[1A\u001b[2K\u001b[1A\u001b[2K\u001b[0G[+] 1m:56.2s\r\n",
      "Downloading      ━━━━━━━━━━━━━━━━━━━━ 286.6MB                              13.9s\r\n",
      "Extracting  (59) ━━━━━━━━━━━━━╸\u001b[33m━━━━━━\u001b[0m     138 c-ares                    1m:55.8s"
     ]
    },
    {
     "name": "stdout",
     "output_type": "stream",
     "text": [
      "\u001b[2K\u001b[1A\u001b[2K\u001b[1A\u001b[2K\u001b[0G[+] 1m:56.3s\r\n",
      "Downloading      ━━━━━━━━━━━━━━━━━━━━ 286.6MB                              13.9s\r\n",
      "Extracting  (59) ━━━━━━━━━━━━━╸\u001b[33m━━━━━━\u001b[0m     138 cairo                     1m:55.9s"
     ]
    },
    {
     "name": "stdout",
     "output_type": "stream",
     "text": [
      "\u001b[2K\u001b[1A\u001b[2K\u001b[1A\u001b[2K\u001b[0G[+] 1m:56.4s\r\n",
      "Downloading      ━━━━━━━━━━━━━━━━━━━━ 286.6MB                              13.9s\r\n",
      "Extracting  (59) ━━━━━━━━━━━━━╸\u001b[33m━━━━━━\u001b[0m     138 cairo                     1m:56.0s"
     ]
    },
    {
     "name": "stdout",
     "output_type": "stream",
     "text": [
      "\u001b[2K\u001b[1A\u001b[2K\u001b[1A\u001b[2K\u001b[0G[+] 1m:56.5s\r\n",
      "Downloading      ━━━━━━━━━━━━━━━━━━━━ 286.6MB                              13.9s\r\n",
      "Extracting  (59) ━━━━━━━━━━━━━╸\u001b[33m━━━━━━\u001b[0m     138 cairo                     1m:56.1s"
     ]
    },
    {
     "name": "stdout",
     "output_type": "stream",
     "text": [
      "\u001b[2K\u001b[1A\u001b[2K\u001b[1A\u001b[2K\u001b[0G[+] 1m:56.6s\r\n",
      "Downloading      ━━━━━━━━━━━━━━━━━━━━ 286.6MB                              13.9s\r\n",
      "Extracting  (59) ━━━━━━━━━━━━━╸\u001b[33m━━━━━━\u001b[0m     138 cairo                     1m:56.2s"
     ]
    },
    {
     "name": "stdout",
     "output_type": "stream",
     "text": [
      "\u001b[2K\u001b[1A\u001b[2K\u001b[1A\u001b[2K\u001b[0G[+] 1m:56.7s\r\n",
      "Downloading      ━━━━━━━━━━━━━━━━━━━━ 286.6MB                              13.9s\r\n",
      "Extracting  (59) ━━━━━━━━━━━━━╸\u001b[33m━━━━━━\u001b[0m     138 dbus                      1m:56.3s"
     ]
    },
    {
     "name": "stdout",
     "output_type": "stream",
     "text": [
      "\u001b[2K\u001b[1A\u001b[2K\u001b[1A\u001b[2K\u001b[0G[+] 1m:56.8s\r\n",
      "Downloading      ━━━━━━━━━━━━━━━━━━━━ 286.6MB                              13.9s\r\n",
      "Extracting  (59) ━━━━━━━━━━━━━╸\u001b[33m━━━━━━\u001b[0m     138 dbus                      1m:56.4s"
     ]
    },
    {
     "name": "stdout",
     "output_type": "stream",
     "text": [
      "\u001b[2K\u001b[1A\u001b[2K\u001b[1A\u001b[2K\u001b[0G[+] 1m:56.9s\r\n",
      "Downloading      ━━━━━━━━━━━━━━━━━━━━ 286.6MB                              13.9s\r\n",
      "Extracting  (59) ━━━━━━━━━━━━━╸\u001b[33m━━━━━━\u001b[0m     138 dbus                      1m:56.5s"
     ]
    },
    {
     "name": "stdout",
     "output_type": "stream",
     "text": [
      "\u001b[2K\u001b[1A\u001b[2K\u001b[1A\u001b[2K\u001b[0G[+] 1m:57.0s\r\n",
      "Downloading      ━━━━━━━━━━━━━━━━━━━━ 286.6MB                              13.9s\r\n",
      "Extracting  (59) ━━━━━━━━━━━━━╸\u001b[33m━━━━━━\u001b[0m     138 dbus                      1m:56.6s"
     ]
    },
    {
     "name": "stdout",
     "output_type": "stream",
     "text": [
      "\u001b[2K\u001b[1A\u001b[2K\u001b[1A\u001b[2K\u001b[0G[+] 1m:57.1s\r\n",
      "Downloading      ━━━━━━━━━━━━━━━━━━━━ 286.6MB                              13.9s\r\n",
      "Extracting  (59) ━━━━━━━━━━━━━╸\u001b[33m━━━━━━\u001b[0m     138 fftw                      1m:56.7s"
     ]
    },
    {
     "name": "stdout",
     "output_type": "stream",
     "text": [
      "\u001b[2K\u001b[1A\u001b[2K\u001b[1A\u001b[2K\u001b[0G[+] 1m:57.2s\r\n",
      "Downloading      ━━━━━━━━━━━━━━━━━━━━ 286.6MB                              13.9s\r\n",
      "Extracting  (59) ━━━━━━━━━━━━━╸\u001b[33m━━━━━━\u001b[0m     138 fftw                      1m:56.8s"
     ]
    },
    {
     "name": "stdout",
     "output_type": "stream",
     "text": [
      "\u001b[2K\u001b[1A\u001b[2K\u001b[1A\u001b[2K\u001b[0G[+] 1m:57.3s\r\n",
      "Downloading      ━━━━━━━━━━━━━━━━━━━━ 286.6MB                              13.9s\r\n",
      "Extracting  (59) ━━━━━━━━━━━━━╸\u001b[33m━━━━━━\u001b[0m     138 fftw                      1m:56.9s"
     ]
    },
    {
     "name": "stdout",
     "output_type": "stream",
     "text": [
      "\u001b[2K\u001b[1A\u001b[2K\u001b[1A\u001b[2K\u001b[0G[+] 1m:57.4s\r\n",
      "Downloading      ━━━━━━━━━━━━━━━━━━━━ 286.6MB                              13.9s\r\n",
      "Extracting  (58) ━━━━━━━━━━━━━╸\u001b[33m━━━━━━\u001b[0m     139 fftw                      1m:57.0s"
     ]
    },
    {
     "name": "stdout",
     "output_type": "stream",
     "text": [
      "\u001b[2K\u001b[1A\u001b[2K\u001b[1A\u001b[2K\u001b[0G[+] 1m:57.5s\r\n",
      "Downloading      ━━━━━━━━━━━━━━━━━━━━ 286.6MB                              13.9s\r\n",
      "Extracting  (58) ━━━━━━━━━━━━━╸\u001b[33m━━━━━━\u001b[0m     139 font-ttf-source-code-pro  1m:57.1s"
     ]
    },
    {
     "name": "stdout",
     "output_type": "stream",
     "text": [
      "\u001b[2K\u001b[1A\u001b[2K\u001b[1A\u001b[2K\u001b[0G[+] 1m:57.6s\r\n",
      "Downloading      ━━━━━━━━━━━━━━━━━━━━ 286.6MB                              13.9s\r\n",
      "Extracting  (58) ━━━━━━━━━━━━━╸\u001b[33m━━━━━━\u001b[0m     139 font-ttf-source-code-pro  1m:57.2s"
     ]
    },
    {
     "name": "stdout",
     "output_type": "stream",
     "text": [
      "\u001b[2K\u001b[1A\u001b[2K\u001b[1A\u001b[2K\u001b[0G[+] 1m:57.7s\r\n",
      "Downloading      ━━━━━━━━━━━━━━━━━━━━ 286.6MB                              13.9s\r\n",
      "Extracting  (58) ━━━━━━━━━━━━━╸\u001b[33m━━━━━━\u001b[0m     139 font-ttf-source-code-pro  1m:57.3s"
     ]
    },
    {
     "name": "stdout",
     "output_type": "stream",
     "text": [
      "\u001b[2K\u001b[1A\u001b[2K\u001b[1A\u001b[2K\u001b[0G[+] 1m:57.8s\r\n",
      "Downloading      ━━━━━━━━━━━━━━━━━━━━ 286.6MB                              13.9s\r\n",
      "Extracting  (58) ━━━━━━━━━━━━━╸\u001b[33m━━━━━━\u001b[0m     139 font-ttf-source-code-pro  1m:57.4s"
     ]
    },
    {
     "name": "stdout",
     "output_type": "stream",
     "text": [
      "\u001b[2K\u001b[1A\u001b[2K\u001b[1A\u001b[2K\u001b[0G[+] 1m:57.9s\r\n",
      "Downloading      ━━━━━━━━━━━━━━━━━━━━ 286.6MB                              13.9s\r\n",
      "Extracting  (58) ━━━━━━━━━━━━━╸\u001b[33m━━━━━━\u001b[0m     139 fonts-conda-forge         1m:57.5s"
     ]
    },
    {
     "name": "stdout",
     "output_type": "stream",
     "text": [
      "\u001b[2K\u001b[1A\u001b[2K\u001b[1A\u001b[2K\u001b[0G[+] 1m:58.0s\r\n",
      "Downloading      ━━━━━━━━━━━━━━━━━━━━ 286.6MB                              13.9s\r\n",
      "Extracting  (58) ━━━━━━━━━━━━━╸\u001b[33m━━━━━━\u001b[0m     139 fonts-conda-forge         1m:57.6s"
     ]
    },
    {
     "name": "stdout",
     "output_type": "stream",
     "text": [
      "\u001b[2K\u001b[1A\u001b[2K\u001b[1A\u001b[2K\u001b[0G[+] 1m:58.1s\r\n",
      "Downloading      ━━━━━━━━━━━━━━━━━━━━ 286.6MB                              13.9s\r\n"
     ]
    },
    {
     "name": "stdout",
     "output_type": "stream",
     "text": [
      "Extracting  (58) ━━━━━━━━━━━━━╸\u001b[33m━━━━━━\u001b[0m     139 fonts-conda-forge         1m:57.7s"
     ]
    },
    {
     "name": "stdout",
     "output_type": "stream",
     "text": [
      "\u001b[2K\u001b[1A\u001b[2K\u001b[1A\u001b[2K\u001b[0G[+] 1m:58.2s\r\n",
      "Downloading      ━━━━━━━━━━━━━━━━━━━━ 286.6MB                              13.9s\r\n",
      "Extracting  (58) ━━━━━━━━━━━━━╸\u001b[33m━━━━━━\u001b[0m     139 fonts-conda-forge         1m:57.8s"
     ]
    },
    {
     "name": "stdout",
     "output_type": "stream",
     "text": [
      "\u001b[2K\u001b[1A\u001b[2K\u001b[1A\u001b[2K\u001b[0G[+] 1m:58.3s\r\n",
      "Downloading      ━━━━━━━━━━━━━━━━━━━━ 286.6MB                              13.9s\r\n",
      "Extracting  (58) ━━━━━━━━━━━━━╸\u001b[33m━━━━━━\u001b[0m     139 glib                      1m:57.9s"
     ]
    },
    {
     "name": "stdout",
     "output_type": "stream",
     "text": [
      "\u001b[2K\u001b[1A\u001b[2K\u001b[1A\u001b[2K\u001b[0G[+] 1m:58.4s\r\n",
      "Downloading      ━━━━━━━━━━━━━━━━━━━━ 286.6MB                              13.9s\r\n",
      "Extracting  (58) ━━━━━━━━━━━━━╸\u001b[33m━━━━━━\u001b[0m     139 glib                      1m:58.0s"
     ]
    },
    {
     "name": "stdout",
     "output_type": "stream",
     "text": [
      "\u001b[2K\u001b[1A\u001b[2K\u001b[1A\u001b[2K\u001b[0G[+] 1m:58.5s\r\n",
      "Downloading      ━━━━━━━━━━━━━━━━━━━━ 286.6MB                              13.9s\r\n",
      "Extracting  (58) ━━━━━━━━━━━━━╸\u001b[33m━━━━━━\u001b[0m     139 glib                      1m:58.1s"
     ]
    },
    {
     "name": "stdout",
     "output_type": "stream",
     "text": [
      "\u001b[2K\u001b[1A\u001b[2K\u001b[1A\u001b[2K\u001b[0G[+] 1m:58.6s\r\n",
      "Downloading      ━━━━━━━━━━━━━━━━━━━━ 286.6MB                              13.9s\r\n",
      "Extracting  (58) ━━━━━━━━━━━━━╸\u001b[33m━━━━━━\u001b[0m     139 glib                      1m:58.2s"
     ]
    },
    {
     "name": "stdout",
     "output_type": "stream",
     "text": [
      "\u001b[2K\u001b[1A\u001b[2K\u001b[1A\u001b[2K\u001b[0G[+] 1m:58.7s\r\n",
      "Downloading      ━━━━━━━━━━━━━━━━━━━━ 286.6MB                              13.9s\r\n",
      "Extracting  (58) ━━━━━━━━━━━━━╸\u001b[33m━━━━━━\u001b[0m     139 gstreamer                 1m:58.3s"
     ]
    },
    {
     "name": "stdout",
     "output_type": "stream",
     "text": [
      "\u001b[2K\u001b[1A\u001b[2K\u001b[1A\u001b[2K\u001b[0G[+] 1m:58.8s\r\n",
      "Downloading      ━━━━━━━━━━━━━━━━━━━━ 286.6MB                              13.9s\r\n",
      "Extracting  (58) ━━━━━━━━━━━━━╸\u001b[33m━━━━━━\u001b[0m     139 gstreamer                 1m:58.4s"
     ]
    },
    {
     "name": "stdout",
     "output_type": "stream",
     "text": [
      "\u001b[2K\u001b[1A\u001b[2K\u001b[1A\u001b[2K\u001b[0G[+] 1m:58.9s\r\n",
      "Downloading      ━━━━━━━━━━━━━━━━━━━━ 286.6MB                              13.9s\r\n",
      "Extracting  (57) ━━━━━━━━━━━━━╸\u001b[33m━━━━━━\u001b[0m     140 gstreamer                 1m:58.5s"
     ]
    },
    {
     "name": "stdout",
     "output_type": "stream",
     "text": [
      "\u001b[2K\u001b[1A\u001b[2K\u001b[1A\u001b[2K\u001b[0G[+] 1m:59.0s\r\n",
      "Downloading      ━━━━━━━━━━━━━━━━━━━━ 286.6MB                              13.9s\r\n",
      "Extracting  (57) ━━━━━━━━━━━━━╸\u001b[33m━━━━━━\u001b[0m     140 gstreamer                 1m:58.6s"
     ]
    },
    {
     "name": "stdout",
     "output_type": "stream",
     "text": [
      "\u001b[2K\u001b[1A\u001b[2K\u001b[1A\u001b[2K\u001b[0G[+] 1m:59.1s\r\n",
      "Downloading      ━━━━━━━━━━━━━━━━━━━━ 286.6MB                              13.9s\r\n",
      "Extracting  (57) ━━━━━━━━━━━━━╸\u001b[33m━━━━━━\u001b[0m     140 importlib-metadata        1m:58.7s"
     ]
    },
    {
     "name": "stdout",
     "output_type": "stream",
     "text": [
      "\u001b[2K\u001b[1A\u001b[2K\u001b[1A\u001b[2K\u001b[0G[+] 1m:59.2s\r\n",
      "Downloading      ━━━━━━━━━━━━━━━━━━━━ 286.6MB                              13.9s\r\n",
      "Extracting  (57) ━━━━━━━━━━━━━╸\u001b[33m━━━━━━\u001b[0m     140 importlib-metadata        1m:58.8s"
     ]
    },
    {
     "name": "stdout",
     "output_type": "stream",
     "text": [
      "\u001b[2K\u001b[1A\u001b[2K\u001b[1A\u001b[2K\u001b[0G[+] 1m:59.3s\r\n",
      "Downloading      ━━━━━━━━━━━━━━━━━━━━ 286.6MB                              13.9s\r\n",
      "Extracting  (57) ━━━━━━━━━━━━━╸\u001b[33m━━━━━━\u001b[0m     140 importlib-metadata        1m:58.9s"
     ]
    },
    {
     "name": "stdout",
     "output_type": "stream",
     "text": [
      "\u001b[2K\u001b[1A\u001b[2K\u001b[1A\u001b[2K\u001b[0G[+] 1m:59.4s\r\n",
      "Downloading      ━━━━━━━━━━━━━━━━━━━━ 286.6MB                              13.9s\r\n",
      "Extracting  (57) ━━━━━━━━━━━━━╸\u001b[33m━━━━━━\u001b[0m     140 importlib-metadata        1m:59.0s"
     ]
    },
    {
     "name": "stdout",
     "output_type": "stream",
     "text": [
      "\u001b[2K\u001b[1A\u001b[2K\u001b[1A\u001b[2K\u001b[0G[+] 1m:59.5s\r\n",
      "Downloading      ━━━━━━━━━━━━━━━━━━━━ 286.6MB                              13.9s\r\n",
      "Extracting  (57) ━━━━━━━━━━━━━╸\u001b[33m━━━━━━\u001b[0m     140 importlib_resources       1m:59.1s"
     ]
    },
    {
     "name": "stdout",
     "output_type": "stream",
     "text": [
      "\u001b[2K\u001b[1A\u001b[2K\u001b[1A\u001b[2K\u001b[0G[+] 1m:59.6s\r\n",
      "Downloading      ━━━━━━━━━━━━━━━━━━━━ 286.6MB                              13.9s\r\n",
      "Extracting  (57) ━━━━━━━━━━━━━╸\u001b[33m━━━━━━\u001b[0m     140 importlib_resources       1m:59.2s"
     ]
    },
    {
     "name": "stdout",
     "output_type": "stream",
     "text": [
      "\u001b[2K\u001b[1A\u001b[2K\u001b[1A\u001b[2K\u001b[0G[+] 1m:59.7s\r\n",
      "Downloading      ━━━━━━━━━━━━━━━━━━━━ 286.6MB                              13.9s\r\n",
      "Extracting  (57) ━━━━━━━━━━━━━╸\u001b[33m━━━━━━\u001b[0m     140 importlib_resources       1m:59.3s"
     ]
    },
    {
     "name": "stdout",
     "output_type": "stream",
     "text": [
      "\u001b[2K\u001b[1A\u001b[2K\u001b[1A\u001b[2K\u001b[0G[+] 1m:59.8s\r\n",
      "Downloading      ━━━━━━━━━━━━━━━━━━━━ 286.6MB                              13.9s\r\n",
      "Extracting  (57) ━━━━━━━━━━━━━╸\u001b[33m━━━━━━\u001b[0m     140 importlib_resources       1m:59.4s"
     ]
    },
    {
     "name": "stdout",
     "output_type": "stream",
     "text": [
      "\u001b[2K\u001b[1A\u001b[2K\u001b[1A\u001b[2K\u001b[0G[+] 1m:59.9s\r\n",
      "Downloading      ━━━━━━━━━━━━━━━━━━━━ 286.6MB                              13.9s\r\n",
      "Extracting  (57) ━━━━━━━━━━━━━╸\u001b[33m━━━━━━\u001b[0m     140 ipykernel                 1m:59.5s"
     ]
    },
    {
     "name": "stdout",
     "output_type": "stream",
     "text": [
      "\u001b[2K\u001b[1A\u001b[2K\u001b[1A\u001b[2K\u001b[0G[+] 2m:0.0s\r\n",
      "Downloading      ━━━━━━━━━━━━━━━━━━━━ 286.6MB                              13.9s\r\n",
      "Extracting  (57) ━━━━━━━━━━━━━╸\u001b[33m━━━━━━\u001b[0m     140 ipykernel                 1m:59.6s"
     ]
    },
    {
     "name": "stdout",
     "output_type": "stream",
     "text": [
      "\u001b[2K\u001b[1A\u001b[2K\u001b[1A\u001b[2K\u001b[0G[+] 2m:0.1s\r\n",
      "Downloading      ━━━━━━━━━━━━━━━━━━━━ 286.6MB                              13.9s\r\n",
      "Extracting  (57) ━━━━━━━━━━━━━╸\u001b[33m━━━━━━\u001b[0m     140 ipykernel                 1m:59.7s"
     ]
    },
    {
     "name": "stdout",
     "output_type": "stream",
     "text": [
      "\u001b[2K\u001b[1A\u001b[2K\u001b[1A\u001b[2K\u001b[0G[+] 2m:0.2s\r\n",
      "Downloading      ━━━━━━━━━━━━━━━━━━━━ 286.6MB                              13.9s\r\n",
      "Extracting  (57) ━━━━━━━━━━━━━╸\u001b[33m━━━━━━\u001b[0m     140 ipykernel                 1m:59.8s"
     ]
    },
    {
     "name": "stdout",
     "output_type": "stream",
     "text": [
      "\u001b[2K\u001b[1A\u001b[2K\u001b[1A\u001b[2K\u001b[0G[+] 2m:0.3s\r\n",
      "Downloading      ━━━━━━━━━━━━━━━━━━━━ 286.6MB                              13.9s\r\n",
      "Extracting  (57) ━━━━━━━━━━━━━╸\u001b[33m━━━━━━\u001b[0m     140 ipywidgets                1m:59.9s"
     ]
    },
    {
     "name": "stdout",
     "output_type": "stream",
     "text": [
      "\u001b[2K\u001b[1A\u001b[2K\u001b[1A\u001b[2K\u001b[0G[+] 2m:0.4s\r\n",
      "Downloading      ━━━━━━━━━━━━━━━━━━━━ 286.6MB                              13.9s\r\n",
      "Extracting  (57) ━━━━━━━━━━━━━╸\u001b[33m━━━━━━\u001b[0m     140 ipywidgets                1m:60.0s"
     ]
    },
    {
     "name": "stdout",
     "output_type": "stream",
     "text": [
      "\u001b[2K\u001b[1A\u001b[2K\u001b[1A\u001b[2K\u001b[0G[+] 2m:0.5s\r\n",
      "Downloading      ━━━━━━━━━━━━━━━━━━━━━ 286.6MB                             13.9s\r\n",
      "Extracting  (57) ━━━━━━━━━━━━━╸\u001b[33m━━━━━━━\u001b[0m     140 ipywidgets                2m:0.1s"
     ]
    },
    {
     "name": "stdout",
     "output_type": "stream",
     "text": [
      "\u001b[2K\u001b[1A\u001b[2K\u001b[1A\u001b[2K\u001b[0G[+] 2m:0.6s\r\n",
      "Downloading      ━━━━━━━━━━━━━━━━━━━━━ 286.6MB                             13.9s\r\n",
      "Extracting  (57) ━━━━━━━━━━━━━╸\u001b[33m━━━━━━━\u001b[0m     140 ipywidgets                2m:0.2s"
     ]
    },
    {
     "name": "stdout",
     "output_type": "stream",
     "text": [
      "\u001b[2K\u001b[1A\u001b[2K\u001b[1A\u001b[2K\u001b[0G[+] 2m:0.7s\r\n",
      "Downloading      ━━━━━━━━━━━━━━━━━━━━━ 286.6MB                             13.9s\r\n",
      "Extracting  (57) ━━━━━━━━━━━━━╸\u001b[33m━━━━━━━\u001b[0m     140 jack                      2m:0.3s"
     ]
    },
    {
     "name": "stdout",
     "output_type": "stream",
     "text": [
      "\u001b[2K\u001b[1A\u001b[2K\u001b[1A\u001b[2K\u001b[0G[+] 2m:0.8s\r\n",
      "Downloading      ━━━━━━━━━━━━━━━━━━━━━ 286.6MB                             13.9s\r\n",
      "Extracting  (57) ━━━━━━━━━━━━━╸\u001b[33m━━━━━━━\u001b[0m     140 jack                      2m:0.4s"
     ]
    },
    {
     "name": "stdout",
     "output_type": "stream",
     "text": [
      "\u001b[2K\u001b[1A\u001b[2K\u001b[1A\u001b[2K\u001b[0G[+] 2m:0.9s\r\n",
      "Downloading      ━━━━━━━━━━━━━━━━━━━━━ 286.6MB                             13.9s\r\n",
      "Extracting  (57) ━━━━━━━━━━━━━╸\u001b[33m━━━━━━━\u001b[0m     140 jack                      2m:0.5s"
     ]
    },
    {
     "name": "stdout",
     "output_type": "stream",
     "text": [
      "\u001b[2K\u001b[1A\u001b[2K\u001b[1A\u001b[2K\u001b[0G[+] 2m:1.0s\r\n",
      "Downloading      ━━━━━━━━━━━━━━━━━━━━━ 286.6MB                             13.9s\r\n",
      "Extracting  (57) ━━━━━━━━━━━━━╸\u001b[33m━━━━━━━\u001b[0m     140 jack                      2m:0.6s"
     ]
    },
    {
     "name": "stdout",
     "output_type": "stream",
     "text": [
      "\u001b[2K\u001b[1A\u001b[2K\u001b[1A\u001b[2K\u001b[0G[+] 2m:1.1s\r\n",
      "Downloading      ━━━━━━━━━━━━━━━━━━━━━ 286.6MB                             13.9s\r\n",
      "Extracting  (57) ━━━━━━━━━━━━━╸\u001b[33m━━━━━━━\u001b[0m     140 jupyter_client            2m:0.7s"
     ]
    },
    {
     "name": "stdout",
     "output_type": "stream",
     "text": [
      "\u001b[2K\u001b[1A\u001b[2K\u001b[1A\u001b[2K\u001b[0G[+] 2m:1.2s\r\n",
      "Downloading      ━━━━━━━━━━━━━━━━━━━━━ 286.6MB                             13.9s\r\n",
      "Extracting  (57) ━━━━━━━━━━━━━╸\u001b[33m━━━━━━━\u001b[0m     140 jupyter_client            2m:0.8s"
     ]
    },
    {
     "name": "stdout",
     "output_type": "stream",
     "text": [
      "\u001b[2K\u001b[1A\u001b[2K\u001b[1A\u001b[2K\u001b[0G[+] 2m:1.3s\r\n",
      "Downloading      ━━━━━━━━━━━━━━━━━━━━━ 286.6MB                             13.9s\r\n",
      "Extracting  (57) ━━━━━━━━━━━━━╸\u001b[33m━━━━━━━\u001b[0m     140 jupyter_client            2m:0.9s"
     ]
    },
    {
     "name": "stdout",
     "output_type": "stream",
     "text": [
      "\u001b[2K\u001b[1A\u001b[2K\u001b[1A\u001b[2K\u001b[0G[+] 2m:1.4s\r\n",
      "Downloading      ━━━━━━━━━━━━━━━━━━━━━ 286.6MB                             13.9s\r\n",
      "Extracting  (57) ━━━━━━━━━━━━━╸\u001b[33m━━━━━━━\u001b[0m     140 jupyter_client            2m:1.0s"
     ]
    },
    {
     "name": "stdout",
     "output_type": "stream",
     "text": [
      "\u001b[2K\u001b[1A\u001b[2K\u001b[1A\u001b[2K\u001b[0G[+] 2m:1.5s\r\n",
      "Downloading      ━━━━━━━━━━━━━━━━━━━━━ 286.6MB                             13.9s\r\n",
      "Extracting  (57) ━━━━━━━━━━━━━╸\u001b[33m━━━━━━━\u001b[0m     140 jupyter_core              2m:1.1s"
     ]
    },
    {
     "name": "stdout",
     "output_type": "stream",
     "text": [
      "\u001b[2K\u001b[1A\u001b[2K\u001b[1A\u001b[2K\u001b[0G[+] 2m:1.6s\r\n",
      "Downloading      ━━━━━━━━━━━━━━━━━━━━━ 286.6MB                             13.9s\r\n",
      "Extracting  (57) ━━━━━━━━━━━━━╸\u001b[33m━━━━━━━\u001b[0m     140 jupyter_core              2m:1.2s"
     ]
    },
    {
     "name": "stdout",
     "output_type": "stream",
     "text": [
      "\u001b[2K\u001b[1A\u001b[2K\u001b[1A\u001b[2K\u001b[0G[+] 2m:1.7s\r\n",
      "Downloading      ━━━━━━━━━━━━━━━━━━━━━ 286.6MB                             13.9s\r\n",
      "Extracting  (57) ━━━━━━━━━━━━━╸\u001b[33m━━━━━━━\u001b[0m     140 jupyter_core              2m:1.3s"
     ]
    },
    {
     "name": "stdout",
     "output_type": "stream",
     "text": [
      "\u001b[2K\u001b[1A\u001b[2K\u001b[1A\u001b[2K\u001b[0G[+] 2m:1.8s\r\n",
      "Downloading      ━━━━━━━━━━━━━━━━━━━━━ 286.6MB                             13.9s\r\n",
      "Extracting  (57) ━━━━━━━━━━━━━╸\u001b[33m━━━━━━━\u001b[0m     140 jupyter_core              2m:1.4s"
     ]
    },
    {
     "name": "stdout",
     "output_type": "stream",
     "text": [
      "\u001b[2K\u001b[1A\u001b[2K\u001b[1A\u001b[2K\u001b[0G[+] 2m:1.9s\r\n",
      "Downloading      ━━━━━━━━━━━━━━━━━━━━━ 286.6MB                             13.9s\r\n",
      "Extracting  (57) ━━━━━━━━━━━━━╸\u001b[33m━━━━━━━\u001b[0m     140 libclang                  2m:1.5s"
     ]
    },
    {
     "name": "stdout",
     "output_type": "stream",
     "text": [
      "\u001b[2K\u001b[1A\u001b[2K\u001b[1A\u001b[2K\u001b[0G[+] 2m:2.0s\r\n",
      "Downloading      ━━━━━━━━━━━━━━━━━━━━━ 286.6MB                             13.9s\r\n",
      "Extracting  (57) ━━━━━━━━━━━━━╸\u001b[33m━━━━━━━\u001b[0m     140 libclang                  2m:1.6s"
     ]
    },
    {
     "name": "stdout",
     "output_type": "stream",
     "text": [
      "\u001b[2K\u001b[1A\u001b[2K\u001b[1A\u001b[2K\u001b[0G[+] 2m:2.1s\r\n",
      "Downloading      ━━━━━━━━━━━━━━━━━━━━━ 286.6MB                             13.9s\r\n",
      "Extracting  (57) ━━━━━━━━━━━━━╸\u001b[33m━━━━━━━\u001b[0m     140 libclang                  2m:1.7s"
     ]
    },
    {
     "name": "stdout",
     "output_type": "stream",
     "text": [
      "\u001b[2K\u001b[1A\u001b[2K\u001b[1A\u001b[2K\u001b[0G[+] 2m:2.2s\r\n",
      "Downloading      ━━━━━━━━━━━━━━━━━━━━━ 286.6MB                             13.9s\r\n",
      "Extracting  (57) ━━━━━━━━━━━━━╸\u001b[33m━━━━━━━\u001b[0m     140 libclang                  2m:1.8s"
     ]
    },
    {
     "name": "stdout",
     "output_type": "stream",
     "text": [
      "\u001b[2K\u001b[1A\u001b[2K\u001b[1A\u001b[2K\u001b[0G[+] 2m:2.3s\r\n",
      "Downloading      ━━━━━━━━━━━━━━━━━━━━━ 286.6MB                             13.9s\r\n",
      "Extracting  (57) ━━━━━━━━━━━━━╸\u001b[33m━━━━━━━\u001b[0m     140 libcups                   2m:1.9s"
     ]
    },
    {
     "name": "stdout",
     "output_type": "stream",
     "text": [
      "\u001b[2K\u001b[1A\u001b[2K\u001b[1A\u001b[2K\u001b[0G[+] 2m:2.4s\r\n",
      "Downloading      ━━━━━━━━━━━━━━━━━━━━━ 286.6MB                             13.9s\r\n",
      "Extracting  (56) ━━━━━━━━━━━━━━╸\u001b[33m━━━━━━\u001b[0m     141 libcups                   2m:2.0s"
     ]
    },
    {
     "name": "stdout",
     "output_type": "stream",
     "text": [
      "\u001b[2K\u001b[1A\u001b[2K\u001b[1A\u001b[2K\u001b[0G[+] 2m:2.5s\r\n",
      "Downloading      ━━━━━━━━━━━━━━━━━━━━━ 286.6MB                             13.9s\r\n",
      "Extracting  (56) ━━━━━━━━━━━━━━╸\u001b[33m━━━━━━\u001b[0m     141 libcups                   2m:2.1s"
     ]
    },
    {
     "name": "stdout",
     "output_type": "stream",
     "text": [
      "\u001b[2K\u001b[1A\u001b[2K\u001b[1A\u001b[2K\u001b[0G[+] 2m:2.6s\r\n",
      "Downloading      ━━━━━━━━━━━━━━━━━━━━━ 286.6MB                             13.9s\r\n",
      "Extracting  (56) ━━━━━━━━━━━━━━╸\u001b[33m━━━━━━\u001b[0m     141 libcups                   2m:2.2s"
     ]
    },
    {
     "name": "stdout",
     "output_type": "stream",
     "text": [
      "\u001b[2K\u001b[1A\u001b[2K\u001b[1A\u001b[2K\u001b[0G[+] 2m:2.7s\r\n",
      "Downloading      ━━━━━━━━━━━━━━━━━━━━━ 286.6MB                             13.9s\r\n",
      "Extracting  (56) ━━━━━━━━━━━━━━╸\u001b[33m━━━━━━\u001b[0m     141 libgcc-ng                 2m:2.3s"
     ]
    },
    {
     "name": "stdout",
     "output_type": "stream",
     "text": [
      "\u001b[2K\u001b[1A\u001b[2K\u001b[1A\u001b[2K\u001b[0G[+] 2m:2.8s\r\n",
      "Downloading      ━━━━━━━━━━━━━━━━━━━━━ 286.6MB                             13.9s\r\n",
      "Extracting  (56) ━━━━━━━━━━━━━━╸\u001b[33m━━━━━━\u001b[0m     141 libgcc-ng                 2m:2.4s"
     ]
    },
    {
     "name": "stdout",
     "output_type": "stream",
     "text": [
      "\u001b[2K\u001b[1A\u001b[2K\u001b[1A\u001b[2K\u001b[0G[+] 2m:2.9s\r\n",
      "Downloading      ━━━━━━━━━━━━━━━━━━━━━ 286.6MB                             13.9s\r\n",
      "Extracting  (56) ━━━━━━━━━━━━━━╸\u001b[33m━━━━━━\u001b[0m     141 libgcc-ng                 2m:2.5s"
     ]
    },
    {
     "name": "stdout",
     "output_type": "stream",
     "text": [
      "\u001b[2K\u001b[1A\u001b[2K\u001b[1A\u001b[2K\u001b[0G[+] 2m:3.0s\r\n",
      "Downloading      ━━━━━━━━━━━━━━━━━━━━━ 286.6MB                             13.9s\r\n",
      "Extracting  (56) ━━━━━━━━━━━━━━╸\u001b[33m━━━━━━\u001b[0m     141 libgcc-ng                 2m:2.6s"
     ]
    },
    {
     "name": "stdout",
     "output_type": "stream",
     "text": [
      "\u001b[2K\u001b[1A\u001b[2K\u001b[1A\u001b[2K\u001b[0G[+] 2m:3.1s\r\n",
      "Downloading      ━━━━━━━━━━━━━━━━━━━━━ 286.6MB                             13.9s\r\n",
      "Extracting  (56) ━━━━━━━━━━━━━━╸\u001b[33m━━━━━━\u001b[0m     141 libmambapy                2m:2.7s"
     ]
    },
    {
     "name": "stdout",
     "output_type": "stream",
     "text": [
      "\u001b[2K\u001b[1A\u001b[2K\u001b[1A\u001b[2K\u001b[0G[+] 2m:3.2s\r\n",
      "Downloading      ━━━━━━━━━━━━━━━━━━━━━ 286.6MB                             13.9s\r\n",
      "Extracting  (55) ━━━━━━━━━━━━━━╸\u001b[33m━━━━━━\u001b[0m     142 libmambapy                2m:2.8s"
     ]
    },
    {
     "name": "stdout",
     "output_type": "stream",
     "text": [
      "\u001b[2K\u001b[1A\u001b[2K\u001b[1A\u001b[2K\u001b[0G[+] 2m:3.3s\r\n",
      "Downloading      ━━━━━━━━━━━━━━━━━━━━━ 286.6MB                             13.9s\r\n",
      "Extracting  (55) ━━━━━━━━━━━━━━╸\u001b[33m━━━━━━\u001b[0m     142 libmambapy                2m:2.9s"
     ]
    },
    {
     "name": "stdout",
     "output_type": "stream",
     "text": [
      "\u001b[2K\u001b[1A\u001b[2K\u001b[1A\u001b[2K\u001b[0G[+] 2m:3.4s\r\n",
      "Downloading      ━━━━━━━━━━━━━━━━━━━━━ 286.6MB                             13.9s\r\n",
      "Extracting  (55) ━━━━━━━━━━━━━━╸\u001b[33m━━━━━━\u001b[0m     142 libmambapy                2m:3.0s"
     ]
    },
    {
     "name": "stdout",
     "output_type": "stream",
     "text": [
      "\u001b[2K\u001b[1A\u001b[2K\u001b[1A\u001b[2K\u001b[0G[+] 2m:3.5s\r\n",
      "Downloading      ━━━━━━━━━━━━━━━━━━━━━ 286.6MB                             13.9s\r\n",
      "Extracting  (55) ━━━━━━━━━━━━━━╸\u001b[33m━━━━━━\u001b[0m     142 libnghttp2                2m:3.1s"
     ]
    },
    {
     "name": "stdout",
     "output_type": "stream",
     "text": [
      "\u001b[2K\u001b[1A\u001b[2K\u001b[1A\u001b[2K\u001b[0G[+] 2m:3.6s\r\n",
      "Downloading      ━━━━━━━━━━━━━━━━━━━━━ 286.6MB                             13.9s\r\n",
      "Extracting  (55) ━━━━━━━━━━━━━━╸\u001b[33m━━━━━━\u001b[0m     142 libnghttp2                2m:3.2s"
     ]
    },
    {
     "name": "stdout",
     "output_type": "stream",
     "text": [
      "\u001b[2K\u001b[1A\u001b[2K\u001b[1A\u001b[2K\u001b[0G[+] 2m:3.7s\r\n",
      "Downloading      ━━━━━━━━━━━━━━━━━━━━━ 286.6MB                             13.9s\r\n",
      "Extracting  (54) ━━━━━━━━━━━━━━╸\u001b[33m━━━━━━\u001b[0m     143 libnghttp2                2m:3.3s"
     ]
    },
    {
     "name": "stdout",
     "output_type": "stream",
     "text": [
      "\u001b[2K\u001b[1A\u001b[2K\u001b[1A\u001b[2K\u001b[0G[+] 2m:3.8s\r\n",
      "Downloading      ━━━━━━━━━━━━━━━━━━━━━ 286.6MB                             13.9s\r\n",
      "Extracting  (54) ━━━━━━━━━━━━━━╸\u001b[33m━━━━━━\u001b[0m     143 libnghttp2                2m:3.4s"
     ]
    },
    {
     "name": "stdout",
     "output_type": "stream",
     "text": [
      "\u001b[2K\u001b[1A\u001b[2K\u001b[1A\u001b[2K\u001b[0G[+] 2m:3.9s\r\n",
      "Downloading      ━━━━━━━━━━━━━━━━━━━━━ 286.6MB                             13.9s\r\n",
      "Extracting  (54) ━━━━━━━━━━━━━━╸\u001b[33m━━━━━━\u001b[0m     143 libnsl                    2m:3.5s"
     ]
    },
    {
     "name": "stdout",
     "output_type": "stream",
     "text": [
      "\u001b[2K\u001b[1A\u001b[2K\u001b[1A\u001b[2K\u001b[0G[+] 2m:4.0s\r\n",
      "Downloading      ━━━━━━━━━━━━━━━━━━━━━ 286.6MB                             13.9s\r\n",
      "Extracting  (54) ━━━━━━━━━━━━━━╸\u001b[33m━━━━━━\u001b[0m     143 libnsl                    2m:3.6s"
     ]
    },
    {
     "name": "stdout",
     "output_type": "stream",
     "text": [
      "\u001b[2K\u001b[1A\u001b[2K\u001b[1A\u001b[2K\u001b[0G[+] 2m:4.1s\r\n",
      "Downloading      ━━━━━━━━━━━━━━━━━━━━━ 286.6MB                             13.9s\r\n",
      "Extracting  (54) ━━━━━━━━━━━━━━╸\u001b[33m━━━━━━\u001b[0m     143 libnsl                    2m:3.7s"
     ]
    },
    {
     "name": "stdout",
     "output_type": "stream",
     "text": [
      "\u001b[2K\u001b[1A\u001b[2K\u001b[1A\u001b[2K\u001b[0G[+] 2m:4.2s\r\n",
      "Downloading      ━━━━━━━━━━━━━━━━━━━━━ 286.6MB                             13.9s\r\n",
      "Extracting  (54) ━━━━━━━━━━━━━━╸\u001b[33m━━━━━━\u001b[0m     143 libnsl                    2m:3.8s"
     ]
    },
    {
     "name": "stdout",
     "output_type": "stream",
     "text": [
      "\u001b[2K\u001b[1A\u001b[2K\u001b[1A\u001b[2K\u001b[0G[+] 2m:4.3s\r\n",
      "Downloading      ━━━━━━━━━━━━━━━━━━━━━ 286.6MB                             13.9s\r\n",
      "Extracting  (54) ━━━━━━━━━━━━━━╸\u001b[33m━━━━━━\u001b[0m     143 libpq                     2m:3.9s"
     ]
    },
    {
     "name": "stdout",
     "output_type": "stream",
     "text": [
      "\u001b[2K\u001b[1A\u001b[2K\u001b[1A\u001b[2K\u001b[0G[+] 2m:4.4s\r\n",
      "Downloading      ━━━━━━━━━━━━━━━━━━━━━ 286.6MB                             13.9s\r\n",
      "Extracting  (54) ━━━━━━━━━━━━━━╸\u001b[33m━━━━━━\u001b[0m     143 libpq                     2m:4.0s"
     ]
    },
    {
     "name": "stdout",
     "output_type": "stream",
     "text": [
      "\u001b[2K\u001b[1A\u001b[2K\u001b[1A\u001b[2K\u001b[0G[+] 2m:4.5s\r\n",
      "Downloading      ━━━━━━━━━━━━━━━━━━━━━ 286.6MB                             13.9s\r\n",
      "Extracting  (54) ━━━━━━━━━━━━━━╸\u001b[33m━━━━━━\u001b[0m     143 libpq                     2m:4.1s"
     ]
    },
    {
     "name": "stdout",
     "output_type": "stream",
     "text": [
      "\u001b[2K\u001b[1A\u001b[2K\u001b[1A\u001b[2K\u001b[0G[+] 2m:4.6s\r\n",
      "Downloading      ━━━━━━━━━━━━━━━━━━━━━ 286.6MB                             13.9s\r\n",
      "Extracting  (54) ━━━━━━━━━━━━━━╸\u001b[33m━━━━━━\u001b[0m     143 libpq                     2m:4.2s"
     ]
    },
    {
     "name": "stdout",
     "output_type": "stream",
     "text": [
      "\u001b[2K\u001b[1A\u001b[2K\u001b[1A\u001b[2K\u001b[0G[+] 2m:4.7s\r\n",
      "Downloading      ━━━━━━━━━━━━━━━━━━━━━ 286.6MB                             13.9s\r\n",
      "Extracting  (53) ━━━━━━━━━━━━━━╸\u001b[33m━━━━━━\u001b[0m     144 libssh2                   2m:4.3s"
     ]
    },
    {
     "name": "stdout",
     "output_type": "stream",
     "text": [
      "\u001b[2K\u001b[1A\u001b[2K\u001b[1A\u001b[2K\u001b[0G[+] 2m:4.8s\r\n",
      "Downloading      ━━━━━━━━━━━━━━━━━━━━━ 286.6MB                             13.9s\r\n",
      "Extracting  (53) ━━━━━━━━━━━━━━╸\u001b[33m━━━━━━\u001b[0m     144 libssh2                   2m:4.4s"
     ]
    },
    {
     "name": "stdout",
     "output_type": "stream",
     "text": [
      "\u001b[2K\u001b[1A\u001b[2K\u001b[1A\u001b[2K\u001b[0G[+] 2m:4.9s\r\n",
      "Downloading      ━━━━━━━━━━━━━━━━━━━━━ 286.6MB                             13.9s\r\n",
      "Extracting  (53) ━━━━━━━━━━━━━━╸\u001b[33m━━━━━━\u001b[0m     144 libssh2                   2m:4.5s"
     ]
    },
    {
     "name": "stdout",
     "output_type": "stream",
     "text": [
      "\u001b[2K\u001b[1A\u001b[2K\u001b[1A\u001b[2K\u001b[0G[+] 2m:5.0s\r\n",
      "Downloading      ━━━━━━━━━━━━━━━━━━━━━ 286.6MB                             13.9s\r\n",
      "Extracting  (53) ━━━━━━━━━━━━━━╸\u001b[33m━━━━━━\u001b[0m     144 libssh2                   2m:4.6s"
     ]
    },
    {
     "name": "stdout",
     "output_type": "stream",
     "text": [
      "\u001b[2K\u001b[1A\u001b[2K\u001b[1A\u001b[2K\u001b[0G[+] 2m:5.1s\r\n",
      "Downloading      ━━━━━━━━━━━━━━━━━━━━━ 286.6MB                             13.9s\r\n",
      "Extracting  (53) ━━━━━━━━━━━━━━╸\u001b[33m━━━━━━\u001b[0m     144 lz4-c                     2m:4.7s"
     ]
    },
    {
     "name": "stdout",
     "output_type": "stream",
     "text": [
      "\u001b[2K\u001b[1A\u001b[2K\u001b[1A\u001b[2K\u001b[0G[+] 2m:5.2s\r\n",
      "Downloading      ━━━━━━━━━━━━━━━━━━━━━ 286.6MB                             13.9s\r\n",
      "Extracting  (53) ━━━━━━━━━━━━━━╸\u001b[33m━━━━━━\u001b[0m     144 lz4-c                     2m:4.8s"
     ]
    },
    {
     "name": "stdout",
     "output_type": "stream",
     "text": [
      "\u001b[2K\u001b[1A\u001b[2K\u001b[1A\u001b[2K\u001b[0G[+] 2m:5.3s\r\n",
      "Downloading      ━━━━━━━━━━━━━━━━━━━━━ 286.6MB                             13.9s\r\n",
      "Extracting  (52) ━━━━━━━━━━━━━━╸\u001b[33m━━━━━━\u001b[0m     145 lz4-c                     2m:4.9s"
     ]
    },
    {
     "name": "stdout",
     "output_type": "stream",
     "text": [
      "\u001b[2K\u001b[1A\u001b[2K\u001b[1A\u001b[2K\u001b[0G[+] 2m:5.4s\r\n",
      "Downloading      ━━━━━━━━━━━━━━━━━━━━━ 286.6MB                             13.9s\r\n",
      "Extracting  (52) ━━━━━━━━━━━━━━╸\u001b[33m━━━━━━\u001b[0m     145 lz4-c                     2m:5.0s"
     ]
    },
    {
     "name": "stdout",
     "output_type": "stream",
     "text": [
      "\u001b[2K\u001b[1A\u001b[2K\u001b[1A\u001b[2K\u001b[0G[+] 2m:5.5s\r\n",
      "Downloading      ━━━━━━━━━━━━━━━━━━━━━ 286.6MB                             13.9s\r\n",
      "Extracting  (52) ━━━━━━━━━━━━━━╸\u001b[33m━━━━━━\u001b[0m     145 mamba                     2m:5.1s"
     ]
    },
    {
     "name": "stdout",
     "output_type": "stream",
     "text": [
      "\u001b[2K\u001b[1A\u001b[2K\u001b[1A\u001b[2K\u001b[0G[+] 2m:5.6s\r\n",
      "Downloading      ━━━━━━━━━━━━━━━━━━━━━ 286.6MB                             13.9s\r\n",
      "Extracting  (52) ━━━━━━━━━━━━━━╸\u001b[33m━━━━━━\u001b[0m     145 mamba                     2m:5.2s"
     ]
    },
    {
     "name": "stdout",
     "output_type": "stream",
     "text": [
      "\u001b[2K\u001b[1A\u001b[2K\u001b[1A\u001b[2K\u001b[0G[+] 2m:5.7s\r\n",
      "Downloading      ━━━━━━━━━━━━━━━━━━━━━ 286.6MB                             13.9s\r\n",
      "Extracting  (52) ━━━━━━━━━━━━━━╸\u001b[33m━━━━━━\u001b[0m     145 mamba                     2m:5.3s"
     ]
    },
    {
     "name": "stdout",
     "output_type": "stream",
     "text": [
      "\u001b[2K\u001b[1A\u001b[2K\u001b[1A\u001b[2K\u001b[0G[+] 2m:5.8s\r\n",
      "Downloading      ━━━━━━━━━━━━━━━━━━━━━ 286.6MB                             13.9s\r\n",
      "Extracting  (52) ━━━━━━━━━━━━━━╸\u001b[33m━━━━━━\u001b[0m     145 mamba                     2m:5.4s"
     ]
    },
    {
     "name": "stdout",
     "output_type": "stream",
     "text": [
      "\u001b[2K\u001b[1A\u001b[2K\u001b[1A\u001b[2K\u001b[0G[+] 2m:5.9s\r\n",
      "Downloading      ━━━━━━━━━━━━━━━━━━━━━ 286.6MB                             13.9s\r\n",
      "Extracting  (52) ━━━━━━━━━━━━━━╸\u001b[33m━━━━━━\u001b[0m     145 matplotlib-inline         2m:5.5s"
     ]
    },
    {
     "name": "stdout",
     "output_type": "stream",
     "text": [
      "\u001b[2K\u001b[1A\u001b[2K\u001b[1A\u001b[2K\u001b[0G[+] 2m:6.0s\r\n",
      "Downloading      ━━━━━━━━━━━━━━━━━━━━━ 286.6MB                             13.9s\r\n",
      "Extracting  (52) ━━━━━━━━━━━━━━╸\u001b[33m━━━━━━\u001b[0m     145 matplotlib-inline         2m:5.6s"
     ]
    },
    {
     "name": "stdout",
     "output_type": "stream",
     "text": [
      "\u001b[2K\u001b[1A\u001b[2K\u001b[1A\u001b[2K\u001b[0G[+] 2m:6.1s\r\n",
      "Downloading      ━━━━━━━━━━━━━━━━━━━━━ 286.6MB                             13.9s\r\n",
      "Extracting  (52) ━━━━━━━━━━━━━━╸\u001b[33m━━━━━━\u001b[0m     145 matplotlib-inline         2m:5.7s"
     ]
    },
    {
     "name": "stdout",
     "output_type": "stream",
     "text": [
      "\u001b[2K\u001b[1A\u001b[2K\u001b[1A\u001b[2K\u001b[0G[+] 2m:6.2s\r\n",
      "Downloading      ━━━━━━━━━━━━━━━━━━━━━ 286.6MB                             13.9s\r\n",
      "Extracting  (51) ━━━━━━━━━━━━━━╸\u001b[33m━━━━━━\u001b[0m     146 matplotlib-inline         2m:5.8s"
     ]
    },
    {
     "name": "stdout",
     "output_type": "stream",
     "text": [
      "\u001b[2K\u001b[1A\u001b[2K\u001b[1A\u001b[2K\u001b[0G[+] 2m:6.3s\r\n",
      "Downloading      ━━━━━━━━━━━━━━━━━━━━━ 286.6MB                             13.9s\r\n",
      "Extracting  (51) ━━━━━━━━━━━━━━╸\u001b[33m━━━━━━\u001b[0m     146 mpg123                    2m:5.9s"
     ]
    },
    {
     "name": "stdout",
     "output_type": "stream",
     "text": [
      "\u001b[2K\u001b[1A\u001b[2K\u001b[1A\u001b[2K\u001b[0G[+] 2m:6.4s\r\n",
      "Downloading      ━━━━━━━━━━━━━━━━━━━━━ 286.6MB                             13.9s\r\n",
      "Extracting  (51) ━━━━━━━━━━━━━━╸\u001b[33m━━━━━━\u001b[0m     146 mpg123                    2m:6.0s"
     ]
    },
    {
     "name": "stdout",
     "output_type": "stream",
     "text": [
      "\u001b[2K\u001b[1A\u001b[2K\u001b[1A\u001b[2K\u001b[0G[+] 2m:6.5s\r\n",
      "Downloading      ━━━━━━━━━━━━━━━━━━━━━ 286.6MB                             13.9s\r\n",
      "Extracting  (51) ━━━━━━━━━━━━━━╸\u001b[33m━━━━━━\u001b[0m     146 mpg123                    2m:6.1s"
     ]
    },
    {
     "name": "stdout",
     "output_type": "stream",
     "text": [
      "\u001b[2K\u001b[1A\u001b[2K\u001b[1A\u001b[2K\u001b[0G[+] 2m:6.6s\r\n",
      "Downloading      ━━━━━━━━━━━━━━━━━━━━━ 286.6MB                             13.9s\r\n",
      "Extracting  (51) ━━━━━━━━━━━━━━╸\u001b[33m━━━━━━\u001b[0m     146 mpg123                    2m:6.2s"
     ]
    },
    {
     "name": "stdout",
     "output_type": "stream",
     "text": [
      "\u001b[2K\u001b[1A\u001b[2K\u001b[1A\u001b[2K\u001b[0G[+] 2m:6.7s\r\n",
      "Downloading      ━━━━━━━━━━━━━━━━━━━━━ 286.6MB                             13.9s\r\n",
      "Extracting  (50) ━━━━━━━━━━━━━━╸\u001b[33m━━━━━━\u001b[0m     147 nbclassic                 2m:6.3s"
     ]
    },
    {
     "name": "stdout",
     "output_type": "stream",
     "text": [
      "\u001b[2K\u001b[1A\u001b[2K\u001b[1A\u001b[2K\u001b[0G[+] 2m:6.8s\r\n",
      "Downloading      ━━━━━━━━━━━━━━━━━━━━━ 286.6MB                             13.9s\r\n",
      "Extracting  (50) ━━━━━━━━━━━━━━╸\u001b[33m━━━━━━\u001b[0m     147 nbclassic                 2m:6.4s"
     ]
    },
    {
     "name": "stdout",
     "output_type": "stream",
     "text": [
      "\u001b[2K\u001b[1A\u001b[2K\u001b[1A\u001b[2K\u001b[0G[+] 2m:6.9s\r\n",
      "Downloading      ━━━━━━━━━━━━━━━━━━━━━ 286.6MB                             13.9s\r\n",
      "Extracting  (50) ━━━━━━━━━━━━━━╸\u001b[33m━━━━━━\u001b[0m     147 nbclassic                 2m:6.5s"
     ]
    },
    {
     "name": "stdout",
     "output_type": "stream",
     "text": [
      "\u001b[2K\u001b[1A\u001b[2K\u001b[1A\u001b[2K\u001b[0G[+] 2m:7.0s\r\n",
      "Downloading      ━━━━━━━━━━━━━━━━━━━━━ 286.6MB                             13.9s\r\n",
      "Extracting  (50) ━━━━━━━━━━━━━━╸\u001b[33m━━━━━━\u001b[0m     147 nbclassic                 2m:6.6s"
     ]
    },
    {
     "name": "stdout",
     "output_type": "stream",
     "text": [
      "\u001b[2K\u001b[1A\u001b[2K\u001b[1A\u001b[2K\u001b[0G[+] 2m:7.1s\r\n",
      "Downloading      ━━━━━━━━━━━━━━━━━━━━━ 286.6MB                             13.9s\r\n",
      "Extracting  (50) ━━━━━━━━━━━━━━╸\u001b[33m━━━━━━\u001b[0m     147 nbconvert-core            2m:6.7s"
     ]
    },
    {
     "name": "stdout",
     "output_type": "stream",
     "text": [
      "\u001b[2K\u001b[1A\u001b[2K\u001b[1A\u001b[2K\u001b[0G[+] 2m:7.2s\r\n",
      "Downloading      ━━━━━━━━━━━━━━━━━━━━━ 286.6MB                             13.9s\r\n",
      "Extracting  (50) ━━━━━━━━━━━━━━╸\u001b[33m━━━━━━\u001b[0m     147 nbconvert-core            2m:6.8s"
     ]
    },
    {
     "name": "stdout",
     "output_type": "stream",
     "text": [
      "\u001b[2K\u001b[1A\u001b[2K\u001b[1A\u001b[2K\u001b[0G[+] 2m:7.3s\r\n",
      "Downloading      ━━━━━━━━━━━━━━━━━━━━━ 286.6MB                             13.9s\r\n",
      "Extracting  (50) ━━━━━━━━━━━━━━╸\u001b[33m━━━━━━\u001b[0m     147 nbconvert-core            2m:6.9s"
     ]
    },
    {
     "name": "stdout",
     "output_type": "stream",
     "text": [
      "\u001b[2K\u001b[1A\u001b[2K\u001b[1A\u001b[2K\u001b[0G[+] 2m:7.4s\r\n",
      "Downloading      ━━━━━━━━━━━━━━━━━━━━━ 286.6MB                             13.9s\r\n",
      "Extracting  (50) ━━━━━━━━━━━━━━╸\u001b[33m━━━━━━\u001b[0m     147 nbconvert-core            2m:7.0s"
     ]
    },
    {
     "name": "stdout",
     "output_type": "stream",
     "text": [
      "\u001b[2K\u001b[1A\u001b[2K\u001b[1A\u001b[2K\u001b[0G[+] 2m:7.5s\r\n",
      "Downloading      ━━━━━━━━━━━━━━━━━━━━━ 286.6MB                             13.9s\r\n",
      "Extracting  (50) ━━━━━━━━━━━━━━╸\u001b[33m━━━━━━\u001b[0m     147 notebook                  2m:7.1s"
     ]
    },
    {
     "name": "stdout",
     "output_type": "stream",
     "text": [
      "\u001b[2K\u001b[1A\u001b[2K\u001b[1A\u001b[2K\u001b[0G[+] 2m:7.6s\r\n",
      "Downloading      ━━━━━━━━━━━━━━━━━━━━━ 286.6MB                             13.9s\r\n",
      "Extracting  (50) ━━━━━━━━━━━━━━╸\u001b[33m━━━━━━\u001b[0m     147 notebook                  2m:7.2s"
     ]
    },
    {
     "name": "stdout",
     "output_type": "stream",
     "text": [
      "\u001b[2K\u001b[1A\u001b[2K\u001b[1A\u001b[2K\u001b[0G[+] 2m:7.7s\r\n",
      "Downloading      ━━━━━━━━━━━━━━━━━━━━━ 286.6MB                             13.9s\r\n",
      "Extracting  (49) ━━━━━━━━━━━━━━╸\u001b[33m━━━━━━\u001b[0m     148 notebook                  2m:7.3s"
     ]
    },
    {
     "name": "stdout",
     "output_type": "stream",
     "text": [
      "\u001b[2K\u001b[1A\u001b[2K\u001b[1A\u001b[2K\u001b[0G[+] 2m:7.8s\r\n",
      "Downloading      ━━━━━━━━━━━━━━━━━━━━━ 286.6MB                             13.9s\r\n",
      "Extracting  (49) ━━━━━━━━━━━━━━╸\u001b[33m━━━━━━\u001b[0m     148 notebook                  2m:7.4s"
     ]
    },
    {
     "name": "stdout",
     "output_type": "stream",
     "text": [
      "\u001b[2K\u001b[1A\u001b[2K\u001b[1A\u001b[2K\u001b[0G[+] 2m:7.9s\r\n",
      "Downloading      ━━━━━━━━━━━━━━━━━━━━━ 286.6MB                             13.9s\r\n",
      "Extracting  (49) ━━━━━━━━━━━━━━╸\u001b[33m━━━━━━\u001b[0m     148 ply                       2m:7.5s"
     ]
    },
    {
     "name": "stdout",
     "output_type": "stream",
     "text": [
      "\u001b[2K\u001b[1A\u001b[2K\u001b[1A\u001b[2K\u001b[0G[+] 2m:8.0s\r\n",
      "Downloading      ━━━━━━━━━━━━━━━━━━━━━ 286.6MB                             13.9s\r\n",
      "Extracting  (49) ━━━━━━━━━━━━━━╸\u001b[33m━━━━━━\u001b[0m     148 ply                       2m:7.6s"
     ]
    },
    {
     "name": "stdout",
     "output_type": "stream",
     "text": [
      "\u001b[2K\u001b[1A\u001b[2K\u001b[1A\u001b[2K\u001b[0G[+] 2m:8.1s\r\n",
      "Downloading      ━━━━━━━━━━━━━━━━━━━━━ 286.6MB                             13.9s\r\n",
      "Extracting  (49) ━━━━━━━━━━━━━━╸\u001b[33m━━━━━━\u001b[0m     148 ply                       2m:7.7s"
     ]
    },
    {
     "name": "stdout",
     "output_type": "stream",
     "text": [
      "\u001b[2K\u001b[1A\u001b[2K\u001b[1A\u001b[2K\u001b[0G[+] 2m:8.2s\r\n",
      "Downloading      ━━━━━━━━━━━━━━━━━━━━━ 286.6MB                             13.9s\r\n",
      "Extracting  (49) ━━━━━━━━━━━━━━╸\u001b[33m━━━━━━\u001b[0m     148 ply                       2m:7.8s"
     ]
    },
    {
     "name": "stdout",
     "output_type": "stream",
     "text": [
      "\u001b[2K\u001b[1A\u001b[2K\u001b[1A\u001b[2K\u001b[0G[+] 2m:8.3s\r\n",
      "Downloading      ━━━━━━━━━━━━━━━━━━━━━ 286.6MB                             13.9s\r\n",
      "Extracting  (48) ━━━━━━━━━━━━━━╸\u001b[33m━━━━━━\u001b[0m     149 prometheus_client         2m:7.9s"
     ]
    },
    {
     "name": "stdout",
     "output_type": "stream",
     "text": [
      "\u001b[2K\u001b[1A\u001b[2K\u001b[1A\u001b[2K\u001b[0G[+] 2m:8.4s\r\n",
      "Downloading      ━━━━━━━━━━━━━━━━━━━━━ 286.6MB                             13.9s\r\n",
      "Extracting  (48) ━━━━━━━━━━━━━━╸\u001b[33m━━━━━━\u001b[0m     149 prometheus_client         2m:8.0s"
     ]
    },
    {
     "name": "stdout",
     "output_type": "stream",
     "text": [
      "\u001b[2K\u001b[1A\u001b[2K\u001b[1A\u001b[2K\u001b[0G[+] 2m:8.5s\r\n",
      "Downloading      ━━━━━━━━━━━━━━━━━━━━━ 286.6MB                             13.9s\r\n",
      "Extracting  (48) ━━━━━━━━━━━━━━╸\u001b[33m━━━━━━\u001b[0m     149 prometheus_client         2m:8.1s"
     ]
    },
    {
     "name": "stdout",
     "output_type": "stream",
     "text": [
      "\u001b[2K\u001b[1A\u001b[2K\u001b[1A\u001b[2K\u001b[0G[+] 2m:8.6s\r\n",
      "Downloading      ━━━━━━━━━━━━━━━━━━━━━ 286.6MB                             13.9s\r\n",
      "Extracting  (48) ━━━━━━━━━━━━━━╸\u001b[33m━━━━━━\u001b[0m     149 prometheus_client         2m:8.2s"
     ]
    },
    {
     "name": "stdout",
     "output_type": "stream",
     "text": [
      "\u001b[2K\u001b[1A\u001b[2K\u001b[1A\u001b[2K\u001b[0G[+] 2m:8.7s\r\n",
      "Downloading      ━━━━━━━━━━━━━━━━━━━━━ 286.6MB                             13.9s\r\n",
      "Extracting  (48) ━━━━━━━━━━━━━━╸\u001b[33m━━━━━━\u001b[0m     149 ptyprocess                2m:8.3s"
     ]
    },
    {
     "name": "stdout",
     "output_type": "stream",
     "text": [
      "\u001b[2K\u001b[1A\u001b[2K\u001b[1A\u001b[2K\u001b[0G[+] 2m:8.8s\r\n",
      "Downloading      ━━━━━━━━━━━━━━━━━━━━━ 286.6MB                             13.9s\r\n",
      "Extracting  (48) ━━━━━━━━━━━━━━╸\u001b[33m━━━━━━\u001b[0m     149 ptyprocess                2m:8.4s"
     ]
    },
    {
     "name": "stdout",
     "output_type": "stream",
     "text": [
      "\u001b[2K\u001b[1A\u001b[2K\u001b[1A\u001b[2K\u001b[0G[+] 2m:8.9s\r\n",
      "Downloading      ━━━━━━━━━━━━━━━━━━━━━ 286.6MB                             13.9s\r\n"
     ]
    },
    {
     "name": "stdout",
     "output_type": "stream",
     "text": [
      "Extracting  (48) ━━━━━━━━━━━━━━╸\u001b[33m━━━━━━\u001b[0m     149 ptyprocess                2m:8.5s"
     ]
    },
    {
     "name": "stdout",
     "output_type": "stream",
     "text": [
      "\u001b[2K\u001b[1A\u001b[2K\u001b[1A\u001b[2K\u001b[0G[+] 2m:9.0s\r\n",
      "Downloading      ━━━━━━━━━━━━━━━━━━━━━ 286.6MB                             13.9s\r\n",
      "Extracting  (48) ━━━━━━━━━━━━━━╸\u001b[33m━━━━━━\u001b[0m     149 ptyprocess                2m:8.6s"
     ]
    },
    {
     "name": "stdout",
     "output_type": "stream",
     "text": [
      "\u001b[2K\u001b[1A\u001b[2K\u001b[1A\u001b[2K\u001b[0G[+] 2m:9.1s\r\n",
      "Downloading      ━━━━━━━━━━━━━━━━━━━━━ 286.6MB                             13.9s\r\n",
      "Extracting  (48) ━━━━━━━━━━━━━━╸\u001b[33m━━━━━━\u001b[0m     149 pure_eval                 2m:8.7s"
     ]
    },
    {
     "name": "stdout",
     "output_type": "stream",
     "text": [
      "\u001b[2K\u001b[1A\u001b[2K\u001b[1A\u001b[2K\u001b[0G[+] 2m:9.2s\r\n",
      "Downloading      ━━━━━━━━━━━━━━━━━━━━━ 286.6MB                             13.9s\r\n",
      "Extracting  (47) ━━━━━━━━━━━━━━╸\u001b[33m━━━━━━\u001b[0m     150 pure_eval                 2m:8.8s"
     ]
    },
    {
     "name": "stdout",
     "output_type": "stream",
     "text": [
      "\u001b[2K\u001b[1A\u001b[2K\u001b[1A\u001b[2K\u001b[0G[+] 2m:9.3s\r\n",
      "Downloading      ━━━━━━━━━━━━━━━━━━━━━ 286.6MB                             13.9s\r\n",
      "Extracting  (47) ━━━━━━━━━━━━━━╸\u001b[33m━━━━━━\u001b[0m     150 pure_eval                 2m:8.9s"
     ]
    },
    {
     "name": "stdout",
     "output_type": "stream",
     "text": [
      "\u001b[2K\u001b[1A\u001b[2K\u001b[1A\u001b[2K\u001b[0G[+] 2m:9.4s\r\n",
      "Downloading      ━━━━━━━━━━━━━━━━━━━━━ 286.6MB                             13.9s\r\n",
      "Extracting  (47) ━━━━━━━━━━━━━━╸\u001b[33m━━━━━━\u001b[0m     150 pure_eval                 2m:9.0s"
     ]
    },
    {
     "name": "stdout",
     "output_type": "stream",
     "text": [
      "\u001b[2K\u001b[1A\u001b[2K\u001b[1A\u001b[2K\u001b[0G[+] 2m:9.5s\r\n",
      "Downloading      ━━━━━━━━━━━━━━━━━━━━━ 286.6MB                             13.9s\r\n",
      "Extracting  (47) ━━━━━━━━━━━━━━╸\u001b[33m━━━━━━\u001b[0m     150 pyqt                      2m:9.1s"
     ]
    },
    {
     "name": "stdout",
     "output_type": "stream",
     "text": [
      "\u001b[2K\u001b[1A\u001b[2K\u001b[1A\u001b[2K\u001b[0G[+] 2m:9.6s\r\n",
      "Downloading      ━━━━━━━━━━━━━━━━━━━━━ 286.6MB                             13.9s\r\n",
      "Extracting  (47) ━━━━━━━━━━━━━━╸\u001b[33m━━━━━━\u001b[0m     150 pyqt                      2m:9.2s"
     ]
    },
    {
     "name": "stdout",
     "output_type": "stream",
     "text": [
      "\u001b[2K\u001b[1A\u001b[2K\u001b[1A\u001b[2K\u001b[0G[+] 2m:9.7s\r\n",
      "Downloading      ━━━━━━━━━━━━━━━━━━━━━ 286.6MB                             13.9s\r\n",
      "Extracting  (47) ━━━━━━━━━━━━━━╸\u001b[33m━━━━━━\u001b[0m     150 pyqt                      2m:9.3s"
     ]
    },
    {
     "name": "stdout",
     "output_type": "stream",
     "text": [
      "\u001b[2K\u001b[1A\u001b[2K\u001b[1A\u001b[2K\u001b[0G[+] 2m:9.8s\r\n",
      "Downloading      ━━━━━━━━━━━━━━━━━━━━━ 286.6MB                             13.9s\r\n",
      "Extracting  (47) ━━━━━━━━━━━━━━╸\u001b[33m━━━━━━\u001b[0m     150 pyqt                      2m:9.4s"
     ]
    },
    {
     "name": "stdout",
     "output_type": "stream",
     "text": [
      "\u001b[2K\u001b[1A\u001b[2K\u001b[1A\u001b[2K\u001b[0G[+] 2m:9.9s\r\n",
      "Downloading      ━━━━━━━━━━━━━━━━━━━━━ 286.6MB                             13.9s\r\n",
      "Extracting  (47) ━━━━━━━━━━━━━━╸\u001b[33m━━━━━━\u001b[0m     150 python-fastjsonschema     2m:9.5s"
     ]
    },
    {
     "name": "stdout",
     "output_type": "stream",
     "text": [
      "\u001b[2K\u001b[1A\u001b[2K\u001b[1A\u001b[2K\u001b[0G[+] 2m:10.0s\r\n",
      "Downloading      ━━━━━━━━━━━━━━━━━━━━━ 286.6MB                             13.9s\r\n",
      "Extracting  (47) ━━━━━━━━━━━━━━╸\u001b[33m━━━━━━\u001b[0m     150 python-fastjsonschema     2m:9.6s"
     ]
    },
    {
     "name": "stdout",
     "output_type": "stream",
     "text": [
      "\u001b[2K\u001b[1A\u001b[2K\u001b[1A\u001b[2K\u001b[0G[+] 2m:10.1s\r\n",
      "Downloading      ━━━━━━━━━━━━━━━━━━━━━ 286.6MB                             13.9s\r\n",
      "Extracting  (46) ━━━━━━━━━━━━━━━╸\u001b[33m━━━━━\u001b[0m     151 python-fastjsonschema     2m:9.7s"
     ]
    },
    {
     "name": "stdout",
     "output_type": "stream",
     "text": [
      "\u001b[2K\u001b[1A\u001b[2K\u001b[1A\u001b[2K\u001b[0G[+] 2m:10.2s\r\n",
      "Downloading      ━━━━━━━━━━━━━━━━━━━━━ 286.6MB                             13.9s\r\n",
      "Extracting  (46) ━━━━━━━━━━━━━━━╸\u001b[33m━━━━━\u001b[0m     151 python-fastjsonschema     2m:9.8s"
     ]
    },
    {
     "name": "stdout",
     "output_type": "stream",
     "text": [
      "\u001b[2K\u001b[1A\u001b[2K\u001b[1A\u001b[2K\u001b[0G[+] 2m:10.3s\r\n",
      "Downloading      ━━━━━━━━━━━━━━━━━━━━━ 286.6MB                             13.9s\r\n",
      "Extracting  (46) ━━━━━━━━━━━━━━━╸\u001b[33m━━━━━\u001b[0m     151 ruamel.yaml               2m:9.9s"
     ]
    },
    {
     "name": "stdout",
     "output_type": "stream",
     "text": [
      "\u001b[2K\u001b[1A\u001b[2K\u001b[1A\u001b[2K\u001b[0G[+] 2m:10.4s\r\n",
      "Downloading      ━━━━━━━━━━━━━━━━━━━━ 286.6MB                              13.9s\r\n",
      "Extracting  (46) ━━━━━━━━━━━━━━╸\u001b[33m━━━━━\u001b[0m     151 ruamel.yaml               2m:10.0s"
     ]
    },
    {
     "name": "stdout",
     "output_type": "stream",
     "text": [
      "\u001b[2K\u001b[1A\u001b[2K\u001b[1A\u001b[2K\u001b[0G[+] 2m:10.5s\r\n",
      "Downloading      ━━━━━━━━━━━━━━━━━━━━ 286.6MB                              13.9s\r\n",
      "Extracting  (46) ━━━━━━━━━━━━━━╸\u001b[33m━━━━━\u001b[0m     151 ruamel.yaml               2m:10.1s"
     ]
    },
    {
     "name": "stdout",
     "output_type": "stream",
     "text": [
      "\u001b[2K\u001b[1A\u001b[2K\u001b[1A\u001b[2K\u001b[0G[+] 2m:10.6s\r\n",
      "Downloading      ━━━━━━━━━━━━━━━━━━━━ 286.6MB                              13.9s\r\n",
      "Extracting  (46) ━━━━━━━━━━━━━━╸\u001b[33m━━━━━\u001b[0m     151 ruamel.yaml               2m:10.2s"
     ]
    },
    {
     "name": "stdout",
     "output_type": "stream",
     "text": [
      "\u001b[2K\u001b[1A\u001b[2K\u001b[1A\u001b[2K\u001b[0G[+] 2m:10.7s\r\n",
      "Downloading      ━━━━━━━━━━━━━━━━━━━━ 286.6MB                              13.9s\r\n",
      "Extracting  (45) ━━━━━━━━━━━━━━╸\u001b[33m━━━━━\u001b[0m     152 tornado                   2m:10.3s"
     ]
    },
    {
     "name": "stdout",
     "output_type": "stream",
     "text": [
      "\u001b[2K\u001b[1A\u001b[2K\u001b[1A\u001b[2K\u001b[0G[+] 2m:10.8s\r\n",
      "Downloading      ━━━━━━━━━━━━━━━━━━━━ 286.6MB                              13.9s\r\n",
      "Extracting  (45) ━━━━━━━━━━━━━━╸\u001b[33m━━━━━\u001b[0m     152 tornado                   2m:10.4s"
     ]
    },
    {
     "name": "stdout",
     "output_type": "stream",
     "text": [
      "\u001b[2K\u001b[1A\u001b[2K\u001b[1A\u001b[2K\u001b[0G[+] 2m:10.9s\r\n",
      "Downloading      ━━━━━━━━━━━━━━━━━━━━ 286.6MB                              13.9s\r\n",
      "Extracting  (45) ━━━━━━━━━━━━━━╸\u001b[33m━━━━━\u001b[0m     152 tornado                   2m:10.5s"
     ]
    },
    {
     "name": "stdout",
     "output_type": "stream",
     "text": [
      "\u001b[2K\u001b[1A\u001b[2K\u001b[1A\u001b[2K\u001b[0G[+] 2m:11.0s\r\n",
      "Downloading      ━━━━━━━━━━━━━━━━━━━━ 286.6MB                              13.9s\r\n",
      "Extracting  (45) ━━━━━━━━━━━━━━╸\u001b[33m━━━━━\u001b[0m     152 tornado                   2m:10.6s"
     ]
    },
    {
     "name": "stdout",
     "output_type": "stream",
     "text": [
      "\u001b[2K\u001b[1A\u001b[2K\u001b[1A\u001b[2K\u001b[0G[+] 2m:11.1s\r\n",
      "Downloading      ━━━━━━━━━━━━━━━━━━━━ 286.6MB                              13.9s\r\n",
      "Extracting  (45) ━━━━━━━━━━━━━━╸\u001b[33m━━━━━\u001b[0m     152 tqdm                      2m:10.7s"
     ]
    },
    {
     "name": "stdout",
     "output_type": "stream",
     "text": [
      "\u001b[2K\u001b[1A\u001b[2K\u001b[1A\u001b[2K\u001b[0G[+] 2m:11.2s\r\n",
      "Downloading      ━━━━━━━━━━━━━━━━━━━━ 286.6MB                              13.9s\r\n",
      "Extracting  (45) ━━━━━━━━━━━━━━╸\u001b[33m━━━━━\u001b[0m     152 tqdm                      2m:10.8s"
     ]
    },
    {
     "name": "stdout",
     "output_type": "stream",
     "text": [
      "\u001b[2K\u001b[1A\u001b[2K\u001b[1A\u001b[2K\u001b[0G[+] 2m:11.3s\r\n",
      "Downloading      ━━━━━━━━━━━━━━━━━━━━ 286.6MB                              13.9s\r\n",
      "Extracting  (45) ━━━━━━━━━━━━━━╸\u001b[33m━━━━━\u001b[0m     152 tqdm                      2m:10.9s"
     ]
    },
    {
     "name": "stdout",
     "output_type": "stream",
     "text": [
      "\u001b[2K\u001b[1A\u001b[2K\u001b[1A\u001b[2K\u001b[0G[+] 2m:11.4s\r\n",
      "Downloading      ━━━━━━━━━━━━━━━━━━━━ 286.6MB                              13.9s\r\n",
      "Extracting  (45) ━━━━━━━━━━━━━━╸\u001b[33m━━━━━\u001b[0m     152 tqdm                      2m:11.0s"
     ]
    },
    {
     "name": "stdout",
     "output_type": "stream",
     "text": [
      "\u001b[2K\u001b[1A\u001b[2K\u001b[1A\u001b[2K\u001b[0G[+] 2m:11.5s\r\n",
      "Downloading      ━━━━━━━━━━━━━━━━━━━━ 286.6MB                              13.9s\r\n",
      "Extracting  (45) ━━━━━━━━━━━━━━╸\u001b[33m━━━━━\u001b[0m     152 typing_extensions         2m:11.1s"
     ]
    },
    {
     "name": "stdout",
     "output_type": "stream",
     "text": [
      "\u001b[2K\u001b[1A\u001b[2K\u001b[1A\u001b[2K\u001b[0G[+] 2m:11.6s\r\n",
      "Downloading      ━━━━━━━━━━━━━━━━━━━━ 286.6MB                              13.9s\r\n",
      "Extracting  (45) ━━━━━━━━━━━━━━╸\u001b[33m━━━━━\u001b[0m     152 typing_extensions         2m:11.2s"
     ]
    },
    {
     "name": "stdout",
     "output_type": "stream",
     "text": [
      "\u001b[2K\u001b[1A\u001b[2K\u001b[1A\u001b[2K\u001b[0G[+] 2m:11.7s\r\n",
      "Downloading      ━━━━━━━━━━━━━━━━━━━━ 286.6MB                              13.9s\r\n",
      "Extracting  (45) ━━━━━━━━━━━━━━╸\u001b[33m━━━━━\u001b[0m     152 typing_extensions         2m:11.3s"
     ]
    },
    {
     "name": "stdout",
     "output_type": "stream",
     "text": [
      "\u001b[2K\u001b[1A\u001b[2K\u001b[1A\u001b[2K\u001b[0G[+] 2m:11.8s\r\n",
      "Downloading      ━━━━━━━━━━━━━━━━━━━━ 286.6MB                              13.9s\r\n",
      "Extracting  (45) ━━━━━━━━━━━━━━╸\u001b[33m━━━━━\u001b[0m     152 typing_extensions         2m:11.4s"
     ]
    },
    {
     "name": "stdout",
     "output_type": "stream",
     "text": [
      "\u001b[2K\u001b[1A\u001b[2K\u001b[1A\u001b[2K\u001b[0G[+] 2m:11.9s\r\n",
      "Downloading      ━━━━━━━━━━━━━━━━━━━━ 286.6MB                              13.9s\r\n",
      "Extracting  (45) ━━━━━━━━━━━━━━╸\u001b[33m━━━━━\u001b[0m     152 tzdata                    2m:11.5s"
     ]
    },
    {
     "name": "stdout",
     "output_type": "stream",
     "text": [
      "\u001b[2K\u001b[1A\u001b[2K\u001b[1A\u001b[2K\u001b[0G[+] 2m:12.0s\r\n",
      "Downloading      ━━━━━━━━━━━━━━━━━━━━ 286.6MB                              13.9s\r\n",
      "Extracting  (43) ━━━━━━━━━━━━━━╸\u001b[33m━━━━━\u001b[0m     154 tzdata                    2m:11.6s"
     ]
    },
    {
     "name": "stdout",
     "output_type": "stream",
     "text": [
      "\u001b[2K\u001b[1A\u001b[2K\u001b[1A\u001b[2K\u001b[0G[+] 2m:12.1s\r\n",
      "Downloading      ━━━━━━━━━━━━━━━━━━━━ 286.6MB                              13.9s\r\n",
      "Extracting  (43) ━━━━━━━━━━━━━━╸\u001b[33m━━━━━\u001b[0m     154 tzdata                    2m:11.7s"
     ]
    },
    {
     "name": "stdout",
     "output_type": "stream",
     "text": [
      "\u001b[2K\u001b[1A\u001b[2K\u001b[1A\u001b[2K\u001b[0G[+] 2m:12.2s\r\n",
      "Downloading      ━━━━━━━━━━━━━━━━━━━━ 286.6MB                              13.9s\r\n"
     ]
    },
    {
     "name": "stdout",
     "output_type": "stream",
     "text": [
      "Extracting  (43) ━━━━━━━━━━━━━━╸\u001b[33m━━━━━\u001b[0m     154 tzdata                    2m:11.8s"
     ]
    },
    {
     "name": "stdout",
     "output_type": "stream",
     "text": [
      "\u001b[2K\u001b[1A\u001b[2K\u001b[1A\u001b[2K\u001b[0G[+] 2m:12.3s\r\n",
      "Downloading      ━━━━━━━━━━━━━━━━━━━━ 286.6MB                              13.9s\r\n",
      "Extracting  (43) ━━━━━━━━━━━━━━╸\u001b[33m━━━━━\u001b[0m     154 urllib3                   2m:11.9s"
     ]
    },
    {
     "name": "stdout",
     "output_type": "stream",
     "text": [
      "\u001b[2K\u001b[1A\u001b[2K\u001b[1A\u001b[2K\u001b[0G[+] 2m:12.4s\r\n",
      "Downloading      ━━━━━━━━━━━━━━━━━━━━ 286.6MB                              13.9s\r\n",
      "Extracting  (43) ━━━━━━━━━━━━━━╸\u001b[33m━━━━━\u001b[0m     154 urllib3                   2m:12.0s"
     ]
    },
    {
     "name": "stdout",
     "output_type": "stream",
     "text": [
      "\u001b[2K\u001b[1A\u001b[2K\u001b[1A\u001b[2K\u001b[0G[+] 2m:12.5s\r\n",
      "Downloading      ━━━━━━━━━━━━━━━━━━━━ 286.6MB                              13.9s\r\n",
      "Extracting  (43) ━━━━━━━━━━━━━━╸\u001b[33m━━━━━\u001b[0m     154 urllib3                   2m:12.1s"
     ]
    },
    {
     "name": "stdout",
     "output_type": "stream",
     "text": [
      "\u001b[2K\u001b[1A\u001b[2K\u001b[1A\u001b[2K\u001b[0G[+] 2m:12.6s\r\n",
      "Downloading      ━━━━━━━━━━━━━━━━━━━━ 286.6MB                              13.9s\r\n",
      "Extracting  (43) ━━━━━━━━━━━━━━╸\u001b[33m━━━━━\u001b[0m     154 urllib3                   2m:12.2s"
     ]
    },
    {
     "name": "stdout",
     "output_type": "stream",
     "text": [
      "\u001b[2K\u001b[1A\u001b[2K\u001b[1A\u001b[2K\u001b[0G[+] 2m:12.7s\r\n",
      "Downloading      ━━━━━━━━━━━━━━━━━━━━ 286.6MB                              13.9s\r\n",
      "Extracting  (43) ━━━━━━━━━━━━━━╸\u001b[33m━━━━━\u001b[0m     154 widgetsnbextension        2m:12.3s"
     ]
    },
    {
     "name": "stdout",
     "output_type": "stream",
     "text": [
      "\u001b[2K\u001b[1A\u001b[2K\u001b[1A\u001b[2K\u001b[0G[+] 2m:12.8s\r\n",
      "Downloading      ━━━━━━━━━━━━━━━━━━━━ 286.6MB                              13.9s\r\n",
      "Extracting  (43) ━━━━━━━━━━━━━━╸\u001b[33m━━━━━\u001b[0m     154 widgetsnbextension        2m:12.4s"
     ]
    },
    {
     "name": "stdout",
     "output_type": "stream",
     "text": [
      "\u001b[2K\u001b[1A\u001b[2K\u001b[1A\u001b[2K\u001b[0G[+] 2m:12.9s\r\n",
      "Downloading      ━━━━━━━━━━━━━━━━━━━━ 286.6MB                              13.9s\r\n",
      "Extracting  (43) ━━━━━━━━━━━━━━╸\u001b[33m━━━━━\u001b[0m     154 widgetsnbextension        2m:12.5s"
     ]
    },
    {
     "name": "stdout",
     "output_type": "stream",
     "text": [
      "\u001b[2K\u001b[1A\u001b[2K\u001b[1A\u001b[2K\u001b[0G[+] 2m:13.0s\r\n",
      "Downloading      ━━━━━━━━━━━━━━━━━━━━ 286.6MB                              13.9s\r\n",
      "Extracting  (43) ━━━━━━━━━━━━━━╸\u001b[33m━━━━━\u001b[0m     154 widgetsnbextension        2m:12.6s"
     ]
    },
    {
     "name": "stdout",
     "output_type": "stream",
     "text": [
      "\u001b[2K\u001b[1A\u001b[2K\u001b[1A\u001b[2K\u001b[0G[+] 2m:13.1s\r\n",
      "Downloading      ━━━━━━━━━━━━━━━━━━━━ 286.6MB                              13.9s\r\n"
     ]
    },
    {
     "name": "stdout",
     "output_type": "stream",
     "text": [
      "Extracting  (43) ━━━━━━━━━━━━━━╸\u001b[33m━━━━━\u001b[0m     154 xcb-util-image            2m:12.7s"
     ]
    },
    {
     "name": "stdout",
     "output_type": "stream",
     "text": [
      "\u001b[2K\u001b[1A\u001b[2K\u001b[1A\u001b[2K\u001b[0G[+] 2m:13.2s\r\n",
      "Downloading      ━━━━━━━━━━━━━━━━━━━━ 286.6MB                              13.9s\r\n",
      "Extracting  (43) ━━━━━━━━━━━━━━╸\u001b[33m━━━━━\u001b[0m     154 xcb-util-image            2m:12.8s"
     ]
    },
    {
     "name": "stdout",
     "output_type": "stream",
     "text": [
      "\u001b[2K\u001b[1A\u001b[2K\u001b[1A\u001b[2K\u001b[0G[+] 2m:13.3s\r\n",
      "Downloading      ━━━━━━━━━━━━━━━━━━━━ 286.6MB                              13.9s\r\n",
      "Extracting  (43) ━━━━━━━━━━━━━━╸\u001b[33m━━━━━\u001b[0m     154 xcb-util-image            2m:12.9s"
     ]
    },
    {
     "name": "stdout",
     "output_type": "stream",
     "text": [
      "\u001b[2K\u001b[1A\u001b[2K\u001b[1A\u001b[2K\u001b[0G[+] 2m:13.4s\r\n",
      "Downloading      ━━━━━━━━━━━━━━━━━━━━ 286.6MB                              13.9s\r\n",
      "Extracting  (42) ━━━━━━━━━━━━━━╸\u001b[33m━━━━━\u001b[0m     155 xcb-util-image            2m:13.0s"
     ]
    },
    {
     "name": "stdout",
     "output_type": "stream",
     "text": [
      "\u001b[2K\u001b[1A\u001b[2K\u001b[1A\u001b[2K\u001b[0G[+] 2m:13.5s\r\n",
      "Downloading      ━━━━━━━━━━━━━━━━━━━━ 286.6MB                              13.9s\r\n",
      "Extracting  (42) ━━━━━━━━━━━━━━╸\u001b[33m━━━━━\u001b[0m     155 xcb-util-renderutil       2m:13.1s"
     ]
    },
    {
     "name": "stdout",
     "output_type": "stream",
     "text": [
      "\u001b[2K\u001b[1A\u001b[2K\u001b[1A\u001b[2K\u001b[0G[+] 2m:13.6s\r\n",
      "Downloading      ━━━━━━━━━━━━━━━━━━━━ 286.6MB                              13.9s\r\n",
      "Extracting  (42) ━━━━━━━━━━━━━━╸\u001b[33m━━━━━\u001b[0m     155 xcb-util-renderutil       2m:13.2s"
     ]
    },
    {
     "name": "stdout",
     "output_type": "stream",
     "text": [
      "\u001b[2K\u001b[1A\u001b[2K\u001b[1A\u001b[2K\u001b[0G[+] 2m:13.7s\r\n",
      "Downloading      ━━━━━━━━━━━━━━━━━━━━ 286.6MB                              13.9s\r\n",
      "Extracting  (42) ━━━━━━━━━━━━━━╸\u001b[33m━━━━━\u001b[0m     155 xcb-util-renderutil       2m:13.3s"
     ]
    },
    {
     "name": "stdout",
     "output_type": "stream",
     "text": [
      "\u001b[2K\u001b[1A\u001b[2K\u001b[1A\u001b[2K\u001b[0G[+] 2m:13.8s\r\n",
      "Downloading      ━━━━━━━━━━━━━━━━━━━━ 286.6MB                              13.9s\r\n",
      "Extracting  (42) ━━━━━━━━━━━━━━╸\u001b[33m━━━━━\u001b[0m     155 xcb-util-renderutil       2m:13.4s"
     ]
    },
    {
     "name": "stdout",
     "output_type": "stream",
     "text": [
      "\u001b[2K\u001b[1A\u001b[2K\u001b[1A\u001b[2K\u001b[0G[+] 2m:13.9s\r\n",
      "Downloading      ━━━━━━━━━━━━━━━━━━━━ 286.6MB                              13.9s\r\n",
      "Extracting  (42) ━━━━━━━━━━━━━━╸\u001b[33m━━━━━\u001b[0m     155 xkeyboard-config          2m:13.5s"
     ]
    },
    {
     "name": "stdout",
     "output_type": "stream",
     "text": [
      "\u001b[2K\u001b[1A\u001b[2K\u001b[1A\u001b[2K\u001b[0G[+] 2m:14.0s\r\n",
      "Downloading      ━━━━━━━━━━━━━━━━━━━━ 286.6MB                              13.9s\r\n",
      "Extracting  (41) ━━━━━━━━━━━━━━╸\u001b[33m━━━━━\u001b[0m     156 xkeyboard-config          2m:13.6s"
     ]
    },
    {
     "name": "stdout",
     "output_type": "stream",
     "text": [
      "\u001b[2K\u001b[1A\u001b[2K\u001b[1A\u001b[2K\u001b[0G[+] 2m:14.1s\r\n",
      "Downloading      ━━━━━━━━━━━━━━━━━━━━ 286.6MB                              13.9s\r\n",
      "Extracting  (41) ━━━━━━━━━━━━━━╸\u001b[33m━━━━━\u001b[0m     156 xkeyboard-config          2m:13.7s"
     ]
    },
    {
     "name": "stdout",
     "output_type": "stream",
     "text": [
      "\u001b[2K\u001b[1A\u001b[2K\u001b[1A\u001b[2K\u001b[0G[+] 2m:14.2s\r\n",
      "Downloading      ━━━━━━━━━━━━━━━━━━━━ 286.6MB                              13.9s\r\n",
      "Extracting  (41) ━━━━━━━━━━━━━━╸\u001b[33m━━━━━\u001b[0m     156 xkeyboard-config          2m:13.8s"
     ]
    },
    {
     "name": "stdout",
     "output_type": "stream",
     "text": [
      "\u001b[2K\u001b[1A\u001b[2K\u001b[1A\u001b[2K\u001b[0G[+] 2m:14.3s\r\n",
      "Downloading      ━━━━━━━━━━━━━━━━━━━━ 286.6MB                              13.9s\r\n",
      "Extracting  (41) ━━━━━━━━━━━━━━╸\u001b[33m━━━━━\u001b[0m     156 zeromq                    2m:13.9s"
     ]
    },
    {
     "name": "stdout",
     "output_type": "stream",
     "text": [
      "\u001b[2K\u001b[1A\u001b[2K\u001b[1A\u001b[2K\u001b[0G[+] 2m:14.4s\r\n",
      "Downloading      ━━━━━━━━━━━━━━━━━━━━ 286.6MB                              13.9s\r\n",
      "Extracting  (41) ━━━━━━━━━━━━━━╸\u001b[33m━━━━━\u001b[0m     156 zeromq                    2m:14.0s"
     ]
    },
    {
     "name": "stdout",
     "output_type": "stream",
     "text": [
      "\u001b[2K\u001b[1A\u001b[2K\u001b[1A\u001b[2K\u001b[0G[+] 2m:14.5s\r\n",
      "Downloading      ━━━━━━━━━━━━━━━━━━━━ 286.6MB                              13.9s\r\n",
      "Extracting  (41) ━━━━━━━━━━━━━━╸\u001b[33m━━━━━\u001b[0m     156 zeromq                    2m:14.1s"
     ]
    },
    {
     "name": "stdout",
     "output_type": "stream",
     "text": [
      "\u001b[2K\u001b[1A\u001b[2K\u001b[1A\u001b[2K\u001b[0G[+] 2m:14.6s\r\n",
      "Downloading      ━━━━━━━━━━━━━━━━━━━━ 286.6MB                              13.9s\r\n",
      "Extracting  (41) ━━━━━━━━━━━━━━╸\u001b[33m━━━━━\u001b[0m     156 zeromq                    2m:14.2s"
     ]
    },
    {
     "name": "stdout",
     "output_type": "stream",
     "text": [
      "\u001b[2K\u001b[1A\u001b[2K\u001b[1A\u001b[2K\u001b[0G[+] 2m:14.7s\r\n",
      "Downloading      ━━━━━━━━━━━━━━━━━━━━ 286.6MB                              13.9s\r\n",
      "Extracting  (40) ━━━━━━━━━━━━━━╸\u001b[33m━━━━━\u001b[0m     157 argon2-cffi-bindings      2m:14.3s"
     ]
    },
    {
     "name": "stdout",
     "output_type": "stream",
     "text": [
      "\u001b[2K\u001b[1A\u001b[2K\u001b[1A\u001b[2K\u001b[0G[+] 2m:14.8s\r\n",
      "Downloading      ━━━━━━━━━━━━━━━━━━━━ 286.6MB                              13.9s\r\n",
      "Extracting  (40) ━━━━━━━━━━━━━━╸\u001b[33m━━━━━\u001b[0m     157 argon2-cffi-bindings      2m:14.4s"
     ]
    },
    {
     "name": "stdout",
     "output_type": "stream",
     "text": [
      "\u001b[2K\u001b[1A\u001b[2K\u001b[1A\u001b[2K\u001b[0G[+] 2m:14.9s\r\n",
      "Downloading      ━━━━━━━━━━━━━━━━━━━━ 286.6MB                              13.9s\r\n",
      "Extracting  (40) ━━━━━━━━━━━━━━╸\u001b[33m━━━━━\u001b[0m     157 argon2-cffi-bindings      2m:14.5s"
     ]
    },
    {
     "name": "stdout",
     "output_type": "stream",
     "text": [
      "\u001b[2K\u001b[1A\u001b[2K\u001b[1A\u001b[2K\u001b[0G[+] 2m:15.0s\r\n",
      "Downloading      ━━━━━━━━━━━━━━━━━━━━ 286.6MB                              13.9s\r\n",
      "Extracting  (40) ━━━━━━━━━━━━━━╸\u001b[33m━━━━━\u001b[0m     157 argon2-cffi-bindings      2m:14.6s"
     ]
    },
    {
     "name": "stdout",
     "output_type": "stream",
     "text": [
      "\u001b[2K\u001b[1A\u001b[2K\u001b[1A\u001b[2K\u001b[0G[+] 2m:15.1s\r\n",
      "Downloading      ━━━━━━━━━━━━━━━━━━━━ 286.6MB                              13.9s\r\n",
      "Extracting  (40) ━━━━━━━━━━━━━━╸\u001b[33m━━━━━\u001b[0m     157 beautifulsoup4            2m:14.7s"
     ]
    },
    {
     "name": "stdout",
     "output_type": "stream",
     "text": [
      "\u001b[2K\u001b[1A\u001b[2K\u001b[1A\u001b[2K\u001b[0G[+] 2m:15.2s\r\n",
      "Downloading      ━━━━━━━━━━━━━━━━━━━━ 286.6MB                              13.9s\r\n",
      "Extracting  (40) ━━━━━━━━━━━━━━╸\u001b[33m━━━━━\u001b[0m     157 beautifulsoup4            2m:14.8s"
     ]
    },
    {
     "name": "stdout",
     "output_type": "stream",
     "text": [
      "\u001b[2K\u001b[1A\u001b[2K\u001b[1A\u001b[2K\u001b[0G[+] 2m:15.3s\r\n",
      "Downloading      ━━━━━━━━━━━━━━━━━━━━ 286.6MB                              13.9s\r\n",
      "Extracting  (40) ━━━━━━━━━━━━━━╸\u001b[33m━━━━━\u001b[0m     157 beautifulsoup4            2m:14.9s"
     ]
    },
    {
     "name": "stdout",
     "output_type": "stream",
     "text": [
      "\u001b[2K\u001b[1A\u001b[2K\u001b[1A\u001b[2K\u001b[0G[+] 2m:15.4s\r\n",
      "Downloading      ━━━━━━━━━━━━━━━━━━━━ 286.6MB                              13.9s\r\n",
      "Extracting  (40) ━━━━━━━━━━━━━━╸\u001b[33m━━━━━\u001b[0m     157 beautifulsoup4            2m:15.0s"
     ]
    },
    {
     "name": "stdout",
     "output_type": "stream",
     "text": [
      "\u001b[2K\u001b[1A\u001b[2K\u001b[1A\u001b[2K\u001b[0G[+] 2m:15.5s\r\n",
      "Downloading      ━━━━━━━━━━━━━━━━━━━━ 286.6MB                              13.9s\r\n",
      "Extracting  (39) ━━━━━━━━━━━━━━━╸\u001b[33m━━━━\u001b[0m     158 brotlipy                  2m:15.1s"
     ]
    },
    {
     "name": "stdout",
     "output_type": "stream",
     "text": [
      "\u001b[2K\u001b[1A\u001b[2K\u001b[1A\u001b[2K\u001b[0G[+] 2m:15.6s\r\n",
      "Downloading      ━━━━━━━━━━━━━━━━━━━━ 286.6MB                              13.9s\r\n",
      "Extracting  (39) ━━━━━━━━━━━━━━━╸\u001b[33m━━━━\u001b[0m     158 brotlipy                  2m:15.2s"
     ]
    },
    {
     "name": "stdout",
     "output_type": "stream",
     "text": [
      "\u001b[2K\u001b[1A\u001b[2K\u001b[1A\u001b[2K\u001b[0G[+] 2m:15.7s\r\n",
      "Downloading      ━━━━━━━━━━━━━━━━━━━━ 286.6MB                              13.9s\r\n",
      "Extracting  (39) ━━━━━━━━━━━━━━━╸\u001b[33m━━━━\u001b[0m     158 brotlipy                  2m:15.3s"
     ]
    },
    {
     "name": "stdout",
     "output_type": "stream",
     "text": [
      "\u001b[2K\u001b[1A\u001b[2K\u001b[1A\u001b[2K\u001b[0G[+] 2m:15.8s\r\n",
      "Downloading      ━━━━━━━━━━━━━━━━━━━━ 286.6MB                              13.9s\r\n",
      "Extracting  (39) ━━━━━━━━━━━━━━━╸\u001b[33m━━━━\u001b[0m     158 brotlipy                  2m:15.4s"
     ]
    },
    {
     "name": "stdout",
     "output_type": "stream",
     "text": [
      "\u001b[2K\u001b[1A\u001b[2K\u001b[1A\u001b[2K\u001b[0G[+] 2m:15.9s\r\n",
      "Downloading      ━━━━━━━━━━━━━━━━━━━━ 286.6MB                              13.9s\r\n",
      "Extracting  (39) ━━━━━━━━━━━━━━━╸\u001b[33m━━━━\u001b[0m     158 bzip2                     2m:15.5s"
     ]
    },
    {
     "name": "stdout",
     "output_type": "stream",
     "text": [
      "\u001b[2K\u001b[1A\u001b[2K\u001b[1A\u001b[2K\u001b[0G[+] 2m:16.0s\r\n",
      "Downloading      ━━━━━━━━━━━━━━━━━━━━ 286.6MB                              13.9s\r\n",
      "Extracting  (39) ━━━━━━━━━━━━━━━╸\u001b[33m━━━━\u001b[0m     158 bzip2                     2m:15.6s"
     ]
    },
    {
     "name": "stdout",
     "output_type": "stream",
     "text": [
      "\u001b[2K\u001b[1A\u001b[2K\u001b[1A\u001b[2K\u001b[0G[+] 2m:16.1s\r\n",
      "Downloading      ━━━━━━━━━━━━━━━━━━━━ 286.6MB                              13.9s\r\n",
      "Extracting  (39) ━━━━━━━━━━━━━━━╸\u001b[33m━━━━\u001b[0m     158 bzip2                     2m:15.7s"
     ]
    },
    {
     "name": "stdout",
     "output_type": "stream",
     "text": [
      "\u001b[2K\u001b[1A\u001b[2K\u001b[1A\u001b[2K\u001b[0G[+] 2m:16.2s\r\n",
      "Downloading      ━━━━━━━━━━━━━━━━━━━━ 286.6MB                              13.9s\r\n",
      "Extracting  (38) ━━━━━━━━━━━━━━━╸\u001b[33m━━━━\u001b[0m     159 bzip2                     2m:15.8s"
     ]
    },
    {
     "name": "stdout",
     "output_type": "stream",
     "text": [
      "\u001b[2K\u001b[1A\u001b[2K\u001b[1A\u001b[2K\u001b[0G[+] 2m:16.3s\r\n",
      "Downloading      ━━━━━━━━━━━━━━━━━━━━ 286.6MB                              13.9s\r\n",
      "Extracting  (38) ━━━━━━━━━━━━━━━╸\u001b[33m━━━━\u001b[0m     159 dbus                      2m:15.9s"
     ]
    },
    {
     "name": "stdout",
     "output_type": "stream",
     "text": [
      "\u001b[2K\u001b[1A\u001b[2K\u001b[1A\u001b[2K\u001b[0G[+] 2m:16.4s\r\n",
      "Downloading      ━━━━━━━━━━━━━━━━━━━━ 286.6MB                              13.9s\r\n",
      "Extracting  (38) ━━━━━━━━━━━━━━━╸\u001b[33m━━━━\u001b[0m     159 dbus                      2m:16.0s"
     ]
    },
    {
     "name": "stdout",
     "output_type": "stream",
     "text": [
      "\u001b[2K\u001b[1A\u001b[2K\u001b[1A\u001b[2K\u001b[0G[+] 2m:16.5s\r\n",
      "Downloading      ━━━━━━━━━━━━━━━━━━━━ 286.6MB                              13.9s\r\n",
      "Extracting  (38) ━━━━━━━━━━━━━━━╸\u001b[33m━━━━\u001b[0m     159 dbus                      2m:16.1s"
     ]
    },
    {
     "name": "stdout",
     "output_type": "stream",
     "text": [
      "\u001b[2K\u001b[1A\u001b[2K\u001b[1A\u001b[2K\u001b[0G[+] 2m:16.6s\r\n",
      "Downloading      ━━━━━━━━━━━━━━━━━━━━ 286.6MB                              13.9s\r\n",
      "Extracting  (38) ━━━━━━━━━━━━━━━╸\u001b[33m━━━━\u001b[0m     159 dbus                      2m:16.2s"
     ]
    },
    {
     "name": "stdout",
     "output_type": "stream",
     "text": [
      "\u001b[2K\u001b[1A\u001b[2K\u001b[1A\u001b[2K\u001b[0G[+] 2m:16.7s\r\n",
      "Downloading      ━━━━━━━━━━━━━━━━━━━━ 286.6MB                              13.9s\r\n",
      "Extracting  (38) ━━━━━━━━━━━━━━━╸\u001b[33m━━━━\u001b[0m     159 fftw                      2m:16.3s"
     ]
    },
    {
     "name": "stdout",
     "output_type": "stream",
     "text": [
      "\u001b[2K\u001b[1A\u001b[2K\u001b[1A\u001b[2K\u001b[0G[+] 2m:16.8s\r\n",
      "Downloading      ━━━━━━━━━━━━━━━━━━━━ 286.6MB                              13.9s\r\n",
      "Extracting  (38) ━━━━━━━━━━━━━━━╸\u001b[33m━━━━\u001b[0m     159 fftw                      2m:16.4s"
     ]
    },
    {
     "name": "stdout",
     "output_type": "stream",
     "text": [
      "\u001b[2K\u001b[1A\u001b[2K\u001b[1A\u001b[2K\u001b[0G[+] 2m:16.9s\r\n",
      "Downloading      ━━━━━━━━━━━━━━━━━━━━ 286.6MB                              13.9s\r\n",
      "Extracting  (38) ━━━━━━━━━━━━━━━╸\u001b[33m━━━━\u001b[0m     159 fftw                      2m:16.5s"
     ]
    },
    {
     "name": "stdout",
     "output_type": "stream",
     "text": [
      "\u001b[2K\u001b[1A\u001b[2K\u001b[1A\u001b[2K\u001b[0G[+] 2m:17.0s\r\n",
      "Downloading      ━━━━━━━━━━━━━━━━━━━━ 286.6MB                              13.9s\r\n",
      "Extracting  (38) ━━━━━━━━━━━━━━━╸\u001b[33m━━━━\u001b[0m     159 fftw                      2m:16.6s"
     ]
    },
    {
     "name": "stdout",
     "output_type": "stream",
     "text": [
      "\u001b[2K\u001b[1A\u001b[2K\u001b[1A\u001b[2K\u001b[0G[+] 2m:17.1s\r\n",
      "Downloading      ━━━━━━━━━━━━━━━━━━━━ 286.6MB                              13.9s\r\n",
      "Extracting  (38) ━━━━━━━━━━━━━━━╸\u001b[33m━━━━\u001b[0m     159 font-ttf-source-code-pro  2m:16.7s"
     ]
    },
    {
     "name": "stdout",
     "output_type": "stream",
     "text": [
      "\u001b[2K\u001b[1A\u001b[2K\u001b[1A\u001b[2K\u001b[0G[+] 2m:17.2s\r\n",
      "Downloading      ━━━━━━━━━━━━━━━━━━━━ 286.6MB                              13.9s\r\n",
      "Extracting  (38) ━━━━━━━━━━━━━━━╸\u001b[33m━━━━\u001b[0m     159 font-ttf-source-code-pro  2m:16.8s"
     ]
    },
    {
     "name": "stdout",
     "output_type": "stream",
     "text": [
      "\u001b[2K\u001b[1A\u001b[2K\u001b[1A\u001b[2K\u001b[0G[+] 2m:17.3s\r\n",
      "Downloading      ━━━━━━━━━━━━━━━━━━━━ 286.6MB                              13.9s\r\n",
      "Extracting  (38) ━━━━━━━━━━━━━━━╸\u001b[33m━━━━\u001b[0m     159 font-ttf-source-code-pro  2m:16.9s"
     ]
    },
    {
     "name": "stdout",
     "output_type": "stream",
     "text": [
      "\u001b[2K\u001b[1A\u001b[2K\u001b[1A\u001b[2K\u001b[0G[+] 2m:17.4s\r\n",
      "Downloading      ━━━━━━━━━━━━━━━━━━━━ 286.6MB                              13.9s\r\n",
      "Extracting  (37) ━━━━━━━━━━━━━━━╸\u001b[33m━━━━\u001b[0m     160 font-ttf-source-code-pro  2m:17.0s"
     ]
    },
    {
     "name": "stdout",
     "output_type": "stream",
     "text": [
      "\u001b[2K\u001b[1A\u001b[2K\u001b[1A\u001b[2K\u001b[0G[+] 2m:17.5s\r\n",
      "Downloading      ━━━━━━━━━━━━━━━━━━━━ 286.6MB                              13.9s\r\n",
      "Extracting  (36) ━━━━━━━━━━━━━━━╸\u001b[33m━━━━\u001b[0m     161 fonts-conda-forge         2m:17.1s"
     ]
    },
    {
     "name": "stdout",
     "output_type": "stream",
     "text": [
      "\u001b[2K\u001b[1A\u001b[2K\u001b[1A\u001b[2K\u001b[0G[+] 2m:17.6s\r\n",
      "Downloading      ━━━━━━━━━━━━━━━━━━━━ 286.6MB                              13.9s\r\n",
      "Extracting  (36) ━━━━━━━━━━━━━━━╸\u001b[33m━━━━\u001b[0m     161 fonts-conda-forge         2m:17.2s"
     ]
    },
    {
     "name": "stdout",
     "output_type": "stream",
     "text": [
      "\u001b[2K\u001b[1A\u001b[2K\u001b[1A\u001b[2K\u001b[0G[+] 2m:17.7s\r\n",
      "Downloading      ━━━━━━━━━━━━━━━━━━━━ 286.6MB                              13.9s\r\n",
      "Extracting  (36) ━━━━━━━━━━━━━━━╸\u001b[33m━━━━\u001b[0m     161 fonts-conda-forge         2m:17.3s"
     ]
    },
    {
     "name": "stdout",
     "output_type": "stream",
     "text": [
      "\u001b[2K\u001b[1A\u001b[2K\u001b[1A\u001b[2K\u001b[0G[+] 2m:17.8s\r\n",
      "Downloading      ━━━━━━━━━━━━━━━━━━━━ 286.6MB                              13.9s\r\n",
      "Extracting  (36) ━━━━━━━━━━━━━━━╸\u001b[33m━━━━\u001b[0m     161 fonts-conda-forge         2m:17.4s"
     ]
    },
    {
     "name": "stdout",
     "output_type": "stream",
     "text": [
      "\u001b[2K\u001b[1A\u001b[2K\u001b[1A\u001b[2K\u001b[0G[+] 2m:17.9s\r\n",
      "Downloading      ━━━━━━━━━━━━━━━━━━━━ 286.6MB                              13.9s\r\n",
      "Extracting  (36) ━━━━━━━━━━━━━━━╸\u001b[33m━━━━\u001b[0m     161 gstreamer                 2m:17.5s"
     ]
    },
    {
     "name": "stdout",
     "output_type": "stream",
     "text": [
      "\u001b[2K\u001b[1A\u001b[2K\u001b[1A\u001b[2K\u001b[0G[+] 2m:18.0s\r\n",
      "Downloading      ━━━━━━━━━━━━━━━━━━━━ 286.6MB                              13.9s\r\n",
      "Extracting  (36) ━━━━━━━━━━━━━━━╸\u001b[33m━━━━\u001b[0m     161 gstreamer                 2m:17.6s"
     ]
    },
    {
     "name": "stdout",
     "output_type": "stream",
     "text": [
      "\u001b[2K\u001b[1A\u001b[2K\u001b[1A\u001b[2K\u001b[0G[+] 2m:18.1s\r\n",
      "Downloading      ━━━━━━━━━━━━━━━━━━━━ 286.6MB                              13.9s\r\n",
      "Extracting  (36) ━━━━━━━━━━━━━━━╸\u001b[33m━━━━\u001b[0m     161 gstreamer                 2m:17.7s"
     ]
    },
    {
     "name": "stdout",
     "output_type": "stream",
     "text": [
      "\u001b[2K\u001b[1A\u001b[2K\u001b[1A\u001b[2K\u001b[0G[+] 2m:18.2s\r\n",
      "Downloading      ━━━━━━━━━━━━━━━━━━━━ 286.6MB                              13.9s\r\n",
      "Extracting  (36) ━━━━━━━━━━━━━━━╸\u001b[33m━━━━\u001b[0m     161 gstreamer                 2m:17.8s"
     ]
    },
    {
     "name": "stdout",
     "output_type": "stream",
     "text": [
      "\u001b[2K\u001b[1A\u001b[2K\u001b[1A\u001b[2K\u001b[0G[+] 2m:18.3s\r\n",
      "Downloading      ━━━━━━━━━━━━━━━━━━━━ 286.6MB                              13.9s\r\n",
      "Extracting  (36) ━━━━━━━━━━━━━━━╸\u001b[33m━━━━\u001b[0m     161 importlib-metadata        2m:17.9s"
     ]
    },
    {
     "name": "stdout",
     "output_type": "stream",
     "text": [
      "\u001b[2K\u001b[1A\u001b[2K\u001b[1A\u001b[2K\u001b[0G[+] 2m:18.4s\r\n",
      "Downloading      ━━━━━━━━━━━━━━━━━━━━ 286.6MB                              13.9s\r\n",
      "Extracting  (36) ━━━━━━━━━━━━━━━╸\u001b[33m━━━━\u001b[0m     161 importlib-metadata        2m:18.0s"
     ]
    },
    {
     "name": "stdout",
     "output_type": "stream",
     "text": [
      "\u001b[2K\u001b[1A\u001b[2K\u001b[1A\u001b[2K\u001b[0G[+] 2m:18.5s\r\n",
      "Downloading      ━━━━━━━━━━━━━━━━━━━━ 286.6MB                              13.9s\r\n",
      "Extracting  (36) ━━━━━━━━━━━━━━━╸\u001b[33m━━━━\u001b[0m     161 importlib-metadata        2m:18.1s"
     ]
    },
    {
     "name": "stdout",
     "output_type": "stream",
     "text": [
      "\u001b[2K\u001b[1A\u001b[2K\u001b[1A\u001b[2K\u001b[0G[+] 2m:18.6s\r\n",
      "Downloading      ━━━━━━━━━━━━━━━━━━━━ 286.6MB                              13.9s\r\n",
      "Extracting  (36) ━━━━━━━━━━━━━━━╸\u001b[33m━━━━\u001b[0m     161 importlib-metadata        2m:18.2s"
     ]
    },
    {
     "name": "stdout",
     "output_type": "stream",
     "text": [
      "\u001b[2K\u001b[1A\u001b[2K\u001b[1A\u001b[2K\u001b[0G[+] 2m:18.7s\r\n",
      "Downloading      ━━━━━━━━━━━━━━━━━━━━ 286.6MB                              13.9s\r\n",
      "Extracting  (36) ━━━━━━━━━━━━━━━╸\u001b[33m━━━━\u001b[0m     161 ipywidgets                2m:18.3s"
     ]
    },
    {
     "name": "stdout",
     "output_type": "stream",
     "text": [
      "\u001b[2K\u001b[1A\u001b[2K\u001b[1A\u001b[2K\u001b[0G[+] 2m:18.8s\r\n",
      "Downloading      ━━━━━━━━━━━━━━━━━━━━ 286.6MB                              13.9s\r\n",
      "Extracting  (36) ━━━━━━━━━━━━━━━╸\u001b[33m━━━━\u001b[0m     161 ipywidgets                2m:18.4s"
     ]
    },
    {
     "name": "stdout",
     "output_type": "stream",
     "text": [
      "\u001b[2K\u001b[1A\u001b[2K\u001b[1A\u001b[2K\u001b[0G[+] 2m:18.9s\r\n",
      "Downloading      ━━━━━━━━━━━━━━━━━━━━ 286.6MB                              13.9s\r\n",
      "Extracting  (36) ━━━━━━━━━━━━━━━╸\u001b[33m━━━━\u001b[0m     161 ipywidgets                2m:18.5s"
     ]
    },
    {
     "name": "stdout",
     "output_type": "stream",
     "text": [
      "\u001b[2K\u001b[1A\u001b[2K\u001b[1A\u001b[2K\u001b[0G[+] 2m:19.0s\r\n",
      "Downloading      ━━━━━━━━━━━━━━━━━━━━ 286.6MB                              13.9s\r\n",
      "Extracting  (35) ━━━━━━━━━━━━━━━╸\u001b[33m━━━━\u001b[0m     162 ipywidgets                2m:18.6s"
     ]
    },
    {
     "name": "stdout",
     "output_type": "stream",
     "text": [
      "\u001b[2K\u001b[1A\u001b[2K\u001b[1A\u001b[2K\u001b[0G[+] 2m:19.1s\r\n",
      "Downloading      ━━━━━━━━━━━━━━━━━━━━ 286.6MB                              13.9s\r\n",
      "Extracting  (35) ━━━━━━━━━━━━━━━╸\u001b[33m━━━━\u001b[0m     162 jack                      2m:18.7s"
     ]
    },
    {
     "name": "stdout",
     "output_type": "stream",
     "text": [
      "\u001b[2K\u001b[1A\u001b[2K\u001b[1A\u001b[2K\u001b[0G[+] 2m:19.2s\r\n",
      "Downloading      ━━━━━━━━━━━━━━━━━━━━ 286.6MB                              13.9s\r\n",
      "Extracting  (35) ━━━━━━━━━━━━━━━╸\u001b[33m━━━━\u001b[0m     162 jack                      2m:18.8s"
     ]
    },
    {
     "name": "stdout",
     "output_type": "stream",
     "text": [
      "\u001b[2K\u001b[1A\u001b[2K\u001b[1A\u001b[2K\u001b[0G[+] 2m:19.3s\r\n",
      "Downloading      ━━━━━━━━━━━━━━━━━━━━ 286.6MB                              13.9s\r\n",
      "Extracting  (34) ━━━━━━━━━━━━━━━╸\u001b[33m━━━━\u001b[0m     163 jack                      2m:18.9s"
     ]
    },
    {
     "name": "stdout",
     "output_type": "stream",
     "text": [
      "\u001b[2K\u001b[1A\u001b[2K\u001b[1A\u001b[2K\u001b[0G[+] 2m:19.4s\r\n",
      "Downloading      ━━━━━━━━━━━━━━━━━━━━ 286.6MB                              13.9s\r\n",
      "Extracting  (34) ━━━━━━━━━━━━━━━╸\u001b[33m━━━━\u001b[0m     163 jack                      2m:19.0s"
     ]
    },
    {
     "name": "stdout",
     "output_type": "stream",
     "text": [
      "\u001b[2K\u001b[1A\u001b[2K\u001b[1A\u001b[2K\u001b[0G[+] 2m:19.5s\r\n",
      "Downloading      ━━━━━━━━━━━━━━━━━━━━ 286.6MB                              13.9s\r\n",
      "Extracting  (34) ━━━━━━━━━━━━━━━╸\u001b[33m━━━━\u001b[0m     163 jupyter_client            2m:19.1s"
     ]
    },
    {
     "name": "stdout",
     "output_type": "stream",
     "text": [
      "\u001b[2K\u001b[1A\u001b[2K\u001b[1A\u001b[2K\u001b[0G[+] 2m:19.6s\r\n",
      "Downloading      ━━━━━━━━━━━━━━━━━━━━ 286.6MB                              13.9s\r\n",
      "Extracting  (34) ━━━━━━━━━━━━━━━╸\u001b[33m━━━━\u001b[0m     163 jupyter_client            2m:19.2s"
     ]
    },
    {
     "name": "stdout",
     "output_type": "stream",
     "text": [
      "\u001b[2K\u001b[1A\u001b[2K\u001b[1A\u001b[2K\u001b[0G[+] 2m:19.7s\r\n",
      "Downloading      ━━━━━━━━━━━━━━━━━━━━ 286.6MB                              13.9s\r\n",
      "Extracting  (34) ━━━━━━━━━━━━━━━╸\u001b[33m━━━━\u001b[0m     163 jupyter_client            2m:19.3s"
     ]
    },
    {
     "name": "stdout",
     "output_type": "stream",
     "text": [
      "\u001b[2K\u001b[1A\u001b[2K\u001b[1A\u001b[2K\u001b[0G[+] 2m:19.8s\r\n",
      "Downloading      ━━━━━━━━━━━━━━━━━━━━ 286.6MB                              13.9s\r\n",
      "Extracting  (34) ━━━━━━━━━━━━━━━╸\u001b[33m━━━━\u001b[0m     163 jupyter_client            2m:19.4s"
     ]
    },
    {
     "name": "stdout",
     "output_type": "stream",
     "text": [
      "\u001b[2K\u001b[1A\u001b[2K\u001b[1A\u001b[2K\u001b[0G[+] 2m:19.9s\r\n",
      "Downloading      ━━━━━━━━━━━━━━━━━━━━ 286.6MB                              13.9s\r\n",
      "Extracting  (34) ━━━━━━━━━━━━━━━╸\u001b[33m━━━━\u001b[0m     163 jupyter_core              2m:19.5s"
     ]
    },
    {
     "name": "stdout",
     "output_type": "stream",
     "text": [
      "\u001b[2K\u001b[1A\u001b[2K\u001b[1A\u001b[2K\u001b[0G[+] 2m:20.0s\r\n",
      "Downloading      ━━━━━━━━━━━━━━━━━━━━ 286.6MB                              13.9s\r\n",
      "Extracting  (34) ━━━━━━━━━━━━━━━╸\u001b[33m━━━━\u001b[0m     163 jupyter_core              2m:19.6s"
     ]
    },
    {
     "name": "stdout",
     "output_type": "stream",
     "text": [
      "\u001b[2K\u001b[1A\u001b[2K\u001b[1A\u001b[2K\u001b[0G[+] 2m:20.1s\r\n",
      "Downloading      ━━━━━━━━━━━━━━━━━━━━ 286.6MB                              13.9s\r\n",
      "Extracting  (34) ━━━━━━━━━━━━━━━╸\u001b[33m━━━━\u001b[0m     163 jupyter_core              2m:19.7s"
     ]
    },
    {
     "name": "stdout",
     "output_type": "stream",
     "text": [
      "\u001b[2K\u001b[1A\u001b[2K\u001b[1A\u001b[2K\u001b[0G[+] 2m:20.2s\r\n",
      "Downloading      ━━━━━━━━━━━━━━━━━━━━ 286.6MB                              13.9s\r\n",
      "Extracting  (34) ━━━━━━━━━━━━━━━╸\u001b[33m━━━━\u001b[0m     163 jupyter_core              2m:19.8s"
     ]
    },
    {
     "name": "stdout",
     "output_type": "stream",
     "text": [
      "\u001b[2K\u001b[1A\u001b[2K\u001b[1A\u001b[2K\u001b[0G[+] 2m:20.3s\r\n",
      "Downloading      ━━━━━━━━━━━━━━━━━━━━ 286.6MB                              13.9s\r\n",
      "Extracting  (34) ━━━━━━━━━━━━━━━╸\u001b[33m━━━━\u001b[0m     163 libgcc-ng                 2m:19.9s"
     ]
    },
    {
     "name": "stdout",
     "output_type": "stream",
     "text": [
      "\u001b[2K\u001b[1A\u001b[2K\u001b[1A\u001b[2K\u001b[0G[+] 2m:20.4s\r\n",
      "Downloading      ━━━━━━━━━━━━━━━━━━━━ 286.6MB                              13.9s\r\n",
      "Extracting  (34) ━━━━━━━━━━━━━━━╸\u001b[33m━━━━\u001b[0m     163 libgcc-ng                 2m:20.0s"
     ]
    },
    {
     "name": "stdout",
     "output_type": "stream",
     "text": [
      "\u001b[2K\u001b[1A\u001b[2K\u001b[1A\u001b[2K\u001b[0G[+] 2m:20.5s\r\n",
      "Downloading      ━━━━━━━━━━━━━━━━━━━━ 286.6MB                              13.9s\r\n",
      "Extracting  (34) ━━━━━━━━━━━━━━━╸\u001b[33m━━━━\u001b[0m     163 libgcc-ng                 2m:20.1s"
     ]
    },
    {
     "name": "stdout",
     "output_type": "stream",
     "text": [
      "\u001b[2K\u001b[1A\u001b[2K\u001b[1A\u001b[2K\u001b[0G[+] 2m:20.6s\r\n",
      "Downloading      ━━━━━━━━━━━━━━━━━━━━ 286.6MB                              13.9s\r\n",
      "Extracting  (34) ━━━━━━━━━━━━━━━╸\u001b[33m━━━━\u001b[0m     163 libgcc-ng                 2m:20.2s"
     ]
    },
    {
     "name": "stdout",
     "output_type": "stream",
     "text": [
      "\u001b[2K\u001b[1A\u001b[2K\u001b[1A\u001b[2K\u001b[0G[+] 2m:20.7s\r\n",
      "Downloading      ━━━━━━━━━━━━━━━━━━━━ 286.6MB                              13.9s\r\n",
      "Extracting  (34) ━━━━━━━━━━━━━━━╸\u001b[33m━━━━\u001b[0m     163 libnghttp2                2m:20.3s"
     ]
    },
    {
     "name": "stdout",
     "output_type": "stream",
     "text": [
      "\u001b[2K\u001b[1A\u001b[2K\u001b[1A\u001b[2K\u001b[0G[+] 2m:20.8s\r\n",
      "Downloading      ━━━━━━━━━━━━━━━━━━━━ 286.6MB                              13.9s\r\n",
      "Extracting  (34) ━━━━━━━━━━━━━━━╸\u001b[33m━━━━\u001b[0m     163 libnghttp2                2m:20.4s"
     ]
    },
    {
     "name": "stdout",
     "output_type": "stream",
     "text": [
      "\u001b[2K\u001b[1A\u001b[2K\u001b[1A\u001b[2K\u001b[0G[+] 2m:20.9s\r\n",
      "Downloading      ━━━━━━━━━━━━━━━━━━━━ 286.6MB                              13.9s\r\n",
      "Extracting  (34) ━━━━━━━━━━━━━━━╸\u001b[33m━━━━\u001b[0m     163 libnghttp2                2m:20.5s"
     ]
    },
    {
     "name": "stdout",
     "output_type": "stream",
     "text": [
      "\u001b[2K\u001b[1A\u001b[2K\u001b[1A\u001b[2K\u001b[0G[+] 2m:21.0s\r\n",
      "Downloading      ━━━━━━━━━━━━━━━━━━━━ 286.6MB                              13.9s\r\n",
      "Extracting  (34) ━━━━━━━━━━━━━━━╸\u001b[33m━━━━\u001b[0m     163 libnghttp2                2m:20.6s"
     ]
    },
    {
     "name": "stdout",
     "output_type": "stream",
     "text": [
      "\u001b[2K\u001b[1A\u001b[2K\u001b[1A\u001b[2K\u001b[0G[+] 2m:21.1s\r\n",
      "Downloading      ━━━━━━━━━━━━━━━━━━━━ 286.6MB                              13.9s\r\n",
      "Extracting  (34) ━━━━━━━━━━━━━━━╸\u001b[33m━━━━\u001b[0m     163 libpq                     2m:20.7s"
     ]
    },
    {
     "name": "stdout",
     "output_type": "stream",
     "text": [
      "\u001b[2K\u001b[1A\u001b[2K\u001b[1A\u001b[2K\u001b[0G[+] 2m:21.2s\r\n",
      "Downloading      ━━━━━━━━━━━━━━━━━━━━ 286.6MB                              13.9s\r\n",
      "Extracting  (33) ━━━━━━━━━━━━━━━╸\u001b[33m━━━━\u001b[0m     164 libpq                     2m:20.8s"
     ]
    },
    {
     "name": "stdout",
     "output_type": "stream",
     "text": [
      "\u001b[2K\u001b[1A\u001b[2K\u001b[1A\u001b[2K\u001b[0G[+] 2m:21.3s\r\n",
      "Downloading      ━━━━━━━━━━━━━━━━━━━━ 286.6MB                              13.9s\r\n",
      "Extracting  (32) ━━━━━━━━━━━━━━━╸\u001b[33m━━━━\u001b[0m     165 libpq                     2m:20.9s"
     ]
    },
    {
     "name": "stdout",
     "output_type": "stream",
     "text": [
      "\u001b[2K\u001b[1A\u001b[2K\u001b[1A\u001b[2K\u001b[0G[+] 2m:21.4s\r\n",
      "Downloading      ━━━━━━━━━━━━━━━━━━━━ 286.6MB                              13.9s\r\n",
      "Extracting  (32) ━━━━━━━━━━━━━━━╸\u001b[33m━━━━\u001b[0m     165 libpq                     2m:21.0s"
     ]
    },
    {
     "name": "stdout",
     "output_type": "stream",
     "text": [
      "\u001b[2K\u001b[1A\u001b[2K\u001b[1A\u001b[2K\u001b[0G[+] 2m:21.5s\r\n",
      "Downloading      ━━━━━━━━━━━━━━━━━━━━ 286.6MB                              13.9s\r\n",
      "Extracting  (32) ━━━━━━━━━━━━━━━╸\u001b[33m━━━━\u001b[0m     165 lz4-c                     2m:21.1s"
     ]
    },
    {
     "name": "stdout",
     "output_type": "stream",
     "text": [
      "\u001b[2K\u001b[1A\u001b[2K\u001b[1A\u001b[2K\u001b[0G[+] 2m:21.6s\r\n",
      "Downloading      ━━━━━━━━━━━━━━━━━━━━ 286.6MB                              13.9s\r\n",
      "Extracting  (32) ━━━━━━━━━━━━━━━╸\u001b[33m━━━━\u001b[0m     165 lz4-c                     2m:21.2s"
     ]
    },
    {
     "name": "stdout",
     "output_type": "stream",
     "text": [
      "\u001b[2K\u001b[1A\u001b[2K\u001b[1A\u001b[2K\u001b[0G[+] 2m:21.7s\r\n",
      "Downloading      ━━━━━━━━━━━━━━━━━━━━ 286.6MB                              13.9s\r\n",
      "Extracting  (32) ━━━━━━━━━━━━━━━╸\u001b[33m━━━━\u001b[0m     165 lz4-c                     2m:21.3s"
     ]
    },
    {
     "name": "stdout",
     "output_type": "stream",
     "text": [
      "\u001b[2K\u001b[1A\u001b[2K\u001b[1A\u001b[2K\u001b[0G[+] 2m:21.8s\r\n",
      "Downloading      ━━━━━━━━━━━━━━━━━━━━ 286.6MB                              13.9s\r\n",
      "Extracting  (32) ━━━━━━━━━━━━━━━╸\u001b[33m━━━━\u001b[0m     165 lz4-c                     2m:21.4s"
     ]
    },
    {
     "name": "stdout",
     "output_type": "stream",
     "text": [
      "\u001b[2K\u001b[1A\u001b[2K\u001b[1A\u001b[2K\u001b[0G[+] 2m:21.9s\r\n",
      "Downloading      ━━━━━━━━━━━━━━━━━━━━ 286.6MB                              13.9s\r\n",
      "Extracting  (32) ━━━━━━━━━━━━━━━╸\u001b[33m━━━━\u001b[0m     165 matplotlib-inline         2m:21.5s"
     ]
    },
    {
     "name": "stdout",
     "output_type": "stream",
     "text": [
      "\u001b[2K\u001b[1A\u001b[2K\u001b[1A\u001b[2K\u001b[0G[+] 2m:22.0s\r\n",
      "Downloading      ━━━━━━━━━━━━━━━━━━━━ 286.6MB                              13.9s\r\n",
      "Extracting  (32) ━━━━━━━━━━━━━━━╸\u001b[33m━━━━\u001b[0m     165 matplotlib-inline         2m:21.6s"
     ]
    },
    {
     "name": "stdout",
     "output_type": "stream",
     "text": [
      "\u001b[2K\u001b[1A\u001b[2K\u001b[1A\u001b[2K\u001b[0G[+] 2m:22.1s\r\n",
      "Downloading      ━━━━━━━━━━━━━━━━━━━━ 286.6MB                              13.9s\r\n",
      "Extracting  (32) ━━━━━━━━━━━━━━━╸\u001b[33m━━━━\u001b[0m     165 matplotlib-inline         2m:21.7s"
     ]
    },
    {
     "name": "stdout",
     "output_type": "stream",
     "text": [
      "\u001b[2K\u001b[1A\u001b[2K\u001b[1A\u001b[2K\u001b[0G[+] 2m:22.2s\r\n",
      "Downloading      ━━━━━━━━━━━━━━━━━━━━ 286.6MB                              13.9s\r\n",
      "Extracting  (32) ━━━━━━━━━━━━━━━╸\u001b[33m━━━━\u001b[0m     165 matplotlib-inline         2m:21.8s"
     ]
    },
    {
     "name": "stdout",
     "output_type": "stream",
     "text": [
      "\u001b[2K\u001b[1A\u001b[2K\u001b[1A\u001b[2K\u001b[0G[+] 2m:22.3s\r\n",
      "Downloading      ━━━━━━━━━━━━━━━━━━━━ 286.6MB                              13.9s\r\n",
      "Extracting  (32) ━━━━━━━━━━━━━━━╸\u001b[33m━━━━\u001b[0m     165 mpg123                    2m:21.9s"
     ]
    },
    {
     "name": "stdout",
     "output_type": "stream",
     "text": [
      "\u001b[2K\u001b[1A\u001b[2K\u001b[1A\u001b[2K\u001b[0G[+] 2m:22.4s\r\n",
      "Downloading      ━━━━━━━━━━━━━━━━━━━━ 286.6MB                              13.9s\r\n",
      "Extracting  (32) ━━━━━━━━━━━━━━━╸\u001b[33m━━━━\u001b[0m     165 mpg123                    2m:22.0s"
     ]
    },
    {
     "name": "stdout",
     "output_type": "stream",
     "text": [
      "\u001b[2K\u001b[1A\u001b[2K\u001b[1A\u001b[2K\u001b[0G[+] 2m:22.5s\r\n",
      "Downloading      ━━━━━━━━━━━━━━━━━━━━ 286.6MB                              13.9s\r\n",
      "Extracting  (32) ━━━━━━━━━━━━━━━╸\u001b[33m━━━━\u001b[0m     165 mpg123                    2m:22.1s"
     ]
    },
    {
     "name": "stdout",
     "output_type": "stream",
     "text": [
      "\u001b[2K\u001b[1A\u001b[2K\u001b[1A\u001b[2K\u001b[0G[+] 2m:22.6s\r\n",
      "Downloading      ━━━━━━━━━━━━━━━━━━━━ 286.6MB                              13.9s\r\n",
      "Extracting  (32) ━━━━━━━━━━━━━━━╸\u001b[33m━━━━\u001b[0m     165 mpg123                    2m:22.2s"
     ]
    },
    {
     "name": "stdout",
     "output_type": "stream",
     "text": [
      "\u001b[2K\u001b[1A\u001b[2K\u001b[1A\u001b[2K\u001b[0G[+] 2m:22.7s\r\n",
      "Downloading      ━━━━━━━━━━━━━━━━━━━━ 286.6MB                              13.9s\r\n",
      "Extracting  (31) ━━━━━━━━━━━━━━━╸\u001b[33m━━━━\u001b[0m     166 notebook                  2m:22.3s"
     ]
    },
    {
     "name": "stdout",
     "output_type": "stream",
     "text": [
      "\u001b[2K\u001b[1A\u001b[2K\u001b[1A\u001b[2K\u001b[0G[+] 2m:22.8s\r\n",
      "Downloading      ━━━━━━━━━━━━━━━━━━━━ 286.6MB                              13.9s\r\n",
      "Extracting  (30) ━━━━━━━━━━━━━━━╸\u001b[33m━━━━\u001b[0m     167 notebook                  2m:22.4s"
     ]
    },
    {
     "name": "stdout",
     "output_type": "stream",
     "text": [
      "\u001b[2K\u001b[1A\u001b[2K\u001b[1A\u001b[2K\u001b[0G[+] 2m:22.9s\r\n",
      "Downloading      ━━━━━━━━━━━━━━━━━━━━ 286.6MB                              13.9s\r\n",
      "Extracting  (30) ━━━━━━━━━━━━━━━╸\u001b[33m━━━━\u001b[0m     167 notebook                  2m:22.5s"
     ]
    },
    {
     "name": "stdout",
     "output_type": "stream",
     "text": [
      "\u001b[2K\u001b[1A\u001b[2K\u001b[1A\u001b[2K\u001b[0G[+] 2m:23.0s\r\n",
      "Downloading      ━━━━━━━━━━━━━━━━━━━━ 286.6MB                              13.9s\r\n",
      "Extracting  (30) ━━━━━━━━━━━━━━━╸\u001b[33m━━━━\u001b[0m     167 notebook                  2m:22.6s"
     ]
    },
    {
     "name": "stdout",
     "output_type": "stream",
     "text": [
      "\u001b[2K\u001b[1A\u001b[2K\u001b[1A\u001b[2K\u001b[0G[+] 2m:23.1s\r\n",
      "Downloading      ━━━━━━━━━━━━━━━━━━━━ 286.6MB                              13.9s\r\n",
      "Extracting  (30) ━━━━━━━━━━━━━━━╸\u001b[33m━━━━\u001b[0m     167 ply                       2m:22.7s"
     ]
    },
    {
     "name": "stdout",
     "output_type": "stream",
     "text": [
      "\u001b[2K\u001b[1A\u001b[2K\u001b[1A\u001b[2K\u001b[0G[+] 2m:23.2s\r\n",
      "Downloading      ━━━━━━━━━━━━━━━━━━━━ 286.6MB                              13.9s\r\n",
      "Extracting  (30) ━━━━━━━━━━━━━━━╸\u001b[33m━━━━\u001b[0m     167 ply                       2m:22.8s"
     ]
    },
    {
     "name": "stdout",
     "output_type": "stream",
     "text": [
      "\u001b[2K\u001b[1A\u001b[2K\u001b[1A\u001b[2K\u001b[0G[+] 2m:23.3s\r\n",
      "Downloading      ━━━━━━━━━━━━━━━━━━━━ 286.6MB                              13.9s\r\n",
      "Extracting  (30) ━━━━━━━━━━━━━━━╸\u001b[33m━━━━\u001b[0m     167 ply                       2m:22.9s"
     ]
    },
    {
     "name": "stdout",
     "output_type": "stream",
     "text": [
      "\u001b[2K\u001b[1A\u001b[2K\u001b[1A\u001b[2K\u001b[0G[+] 2m:23.4s\r\n",
      "Downloading      ━━━━━━━━━━━━━━━━━━━━ 286.6MB                              13.9s\r\n",
      "Extracting  (30) ━━━━━━━━━━━━━━━╸\u001b[33m━━━━\u001b[0m     167 ply                       2m:23.0s"
     ]
    },
    {
     "name": "stdout",
     "output_type": "stream",
     "text": [
      "\u001b[2K\u001b[1A\u001b[2K\u001b[1A\u001b[2K\u001b[0G[+] 2m:23.5s\r\n",
      "Downloading      ━━━━━━━━━━━━━━━━━━━━ 286.6MB                              13.9s\r\n",
      "Extracting  (30) ━━━━━━━━━━━━━━━╸\u001b[33m━━━━\u001b[0m     167 prometheus_client         2m:23.1s"
     ]
    },
    {
     "name": "stdout",
     "output_type": "stream",
     "text": [
      "\u001b[2K\u001b[1A\u001b[2K\u001b[1A\u001b[2K\u001b[0G[+] 2m:23.6s\r\n",
      "Downloading      ━━━━━━━━━━━━━━━━━━━━ 286.6MB                              13.9s\r\n",
      "Extracting  (30) ━━━━━━━━━━━━━━━╸\u001b[33m━━━━\u001b[0m     167 prometheus_client         2m:23.2s"
     ]
    },
    {
     "name": "stdout",
     "output_type": "stream",
     "text": [
      "\u001b[2K\u001b[1A\u001b[2K\u001b[1A\u001b[2K\u001b[0G[+] 2m:23.7s\r\n",
      "Downloading      ━━━━━━━━━━━━━━━━━━━━ 286.6MB                              13.9s\r\n",
      "Extracting  (30) ━━━━━━━━━━━━━━━╸\u001b[33m━━━━\u001b[0m     167 prometheus_client         2m:23.3s"
     ]
    },
    {
     "name": "stdout",
     "output_type": "stream",
     "text": [
      "\u001b[2K\u001b[1A\u001b[2K\u001b[1A\u001b[2K\u001b[0G[+] 2m:23.8s\r\n",
      "Downloading      ━━━━━━━━━━━━━━━━━━━━ 286.6MB                              13.9s\r\n",
      "Extracting  (30) ━━━━━━━━━━━━━━━╸\u001b[33m━━━━\u001b[0m     167 prometheus_client         2m:23.4s"
     ]
    },
    {
     "name": "stdout",
     "output_type": "stream",
     "text": [
      "\u001b[2K\u001b[1A\u001b[2K\u001b[1A\u001b[2K\u001b[0G[+] 2m:23.9s\r\n",
      "Downloading      ━━━━━━━━━━━━━━━━━━━━ 286.6MB                              13.9s\r\n",
      "Extracting  (30) ━━━━━━━━━━━━━━━╸\u001b[33m━━━━\u001b[0m     167 pure_eval                 2m:23.5s"
     ]
    },
    {
     "name": "stdout",
     "output_type": "stream",
     "text": [
      "\u001b[2K\u001b[1A\u001b[2K\u001b[1A\u001b[2K\u001b[0G[+] 2m:24.0s\r\n",
      "Downloading      ━━━━━━━━━━━━━━━━━━━━ 286.6MB                              13.9s\r\n",
      "Extracting  (30) ━━━━━━━━━━━━━━━╸\u001b[33m━━━━\u001b[0m     167 pure_eval                 2m:23.6s"
     ]
    },
    {
     "name": "stdout",
     "output_type": "stream",
     "text": [
      "\u001b[2K\u001b[1A\u001b[2K\u001b[1A\u001b[2K\u001b[0G[+] 2m:24.1s\r\n",
      "Downloading      ━━━━━━━━━━━━━━━━━━━━ 286.6MB                              13.9s\r\n",
      "Extracting  (30) ━━━━━━━━━━━━━━━╸\u001b[33m━━━━\u001b[0m     167 pure_eval                 2m:23.7s"
     ]
    },
    {
     "name": "stdout",
     "output_type": "stream",
     "text": [
      "\u001b[2K\u001b[1A\u001b[2K\u001b[1A\u001b[2K\u001b[0G[+] 2m:24.2s\r\n",
      "Downloading      ━━━━━━━━━━━━━━━━━━━━ 286.6MB                              13.9s\r\n",
      "Extracting  (30) ━━━━━━━━━━━━━━━╸\u001b[33m━━━━\u001b[0m     167 pure_eval                 2m:23.8s"
     ]
    },
    {
     "name": "stdout",
     "output_type": "stream",
     "text": [
      "\u001b[2K\u001b[1A\u001b[2K\u001b[1A\u001b[2K\u001b[0G[+] 2m:24.3s\r\n",
      "Downloading      ━━━━━━━━━━━━━━━━━━━━ 286.6MB                              13.9s\r\n",
      "Extracting  (29) ━━━━━━━━━━━━━━━━╸\u001b[33m━━━\u001b[0m     168 python-fastjsonschema     2m:23.9s"
     ]
    },
    {
     "name": "stdout",
     "output_type": "stream",
     "text": [
      "\u001b[2K\u001b[1A\u001b[2K\u001b[1A\u001b[2K\u001b[0G[+] 2m:24.4s\r\n",
      "Downloading      ━━━━━━━━━━━━━━━━━━━━ 286.6MB                              13.9s\r\n",
      "Extracting  (29) ━━━━━━━━━━━━━━━━╸\u001b[33m━━━\u001b[0m     168 python-fastjsonschema     2m:24.0s"
     ]
    },
    {
     "name": "stdout",
     "output_type": "stream",
     "text": [
      "\u001b[2K\u001b[1A\u001b[2K\u001b[1A\u001b[2K\u001b[0G[+] 2m:24.5s\r\n",
      "Downloading      ━━━━━━━━━━━━━━━━━━━━ 286.6MB                              13.9s\r\n",
      "Extracting  (29) ━━━━━━━━━━━━━━━━╸\u001b[33m━━━\u001b[0m     168 python-fastjsonschema     2m:24.1s"
     ]
    },
    {
     "name": "stdout",
     "output_type": "stream",
     "text": [
      "\u001b[2K\u001b[1A\u001b[2K\u001b[1A\u001b[2K\u001b[0G[+] 2m:24.6s\r\n",
      "Downloading      ━━━━━━━━━━━━━━━━━━━━ 286.6MB                              13.9s\r\n",
      "Extracting  (29) ━━━━━━━━━━━━━━━━╸\u001b[33m━━━\u001b[0m     168 python-fastjsonschema     2m:24.2s"
     ]
    },
    {
     "name": "stdout",
     "output_type": "stream",
     "text": [
      "\u001b[2K\u001b[1A\u001b[2K\u001b[1A\u001b[2K\u001b[0G[+] 2m:24.7s\r\n",
      "Downloading      ━━━━━━━━━━━━━━━━━━━━ 286.6MB                              13.9s\r\n",
      "Extracting  (29) ━━━━━━━━━━━━━━━━╸\u001b[33m━━━\u001b[0m     168 ruamel.yaml               2m:24.3s"
     ]
    },
    {
     "name": "stdout",
     "output_type": "stream",
     "text": [
      "\u001b[2K\u001b[1A\u001b[2K\u001b[1A\u001b[2K\u001b[0G[+] 2m:24.8s\r\n",
      "Downloading      ━━━━━━━━━━━━━━━━━━━━ 286.6MB                              13.9s\r\n",
      "Extracting  (29) ━━━━━━━━━━━━━━━━╸\u001b[33m━━━\u001b[0m     168 ruamel.yaml               2m:24.4s"
     ]
    },
    {
     "name": "stdout",
     "output_type": "stream",
     "text": [
      "\u001b[2K\u001b[1A\u001b[2K\u001b[1A\u001b[2K\u001b[0G[+] 2m:24.9s\r\n",
      "Downloading      ━━━━━━━━━━━━━━━━━━━━ 286.6MB                              13.9s\r\n",
      "Extracting  (29) ━━━━━━━━━━━━━━━━╸\u001b[33m━━━\u001b[0m     168 ruamel.yaml               2m:24.5s"
     ]
    },
    {
     "name": "stdout",
     "output_type": "stream",
     "text": [
      "\u001b[2K\u001b[1A\u001b[2K\u001b[1A\u001b[2K\u001b[0G[+] 2m:25.0s\r\n",
      "Downloading      ━━━━━━━━━━━━━━━━━━━━ 286.6MB                              13.9s\r\n",
      "Extracting  (29) ━━━━━━━━━━━━━━━━╸\u001b[33m━━━\u001b[0m     168 ruamel.yaml               2m:24.6s"
     ]
    },
    {
     "name": "stdout",
     "output_type": "stream",
     "text": [
      "\u001b[2K\u001b[1A\u001b[2K\u001b[1A\u001b[2K\u001b[0G[+] 2m:25.1s\r\n",
      "Downloading      ━━━━━━━━━━━━━━━━━━━━ 286.6MB                              13.9s\r\n",
      "Extracting  (29) ━━━━━━━━━━━━━━━━╸\u001b[33m━━━\u001b[0m     168 typing_extensions         2m:24.7s"
     ]
    },
    {
     "name": "stdout",
     "output_type": "stream",
     "text": [
      "\u001b[2K\u001b[1A\u001b[2K\u001b[1A\u001b[2K\u001b[0G[+] 2m:25.2s\r\n",
      "Downloading      ━━━━━━━━━━━━━━━━━━━━ 286.6MB                              13.9s\r\n",
      "Extracting  (29) ━━━━━━━━━━━━━━━━╸\u001b[33m━━━\u001b[0m     168 typing_extensions         2m:24.8s"
     ]
    },
    {
     "name": "stdout",
     "output_type": "stream",
     "text": [
      "\u001b[2K\u001b[1A\u001b[2K\u001b[1A\u001b[2K\u001b[0G[+] 2m:25.3s\r\n",
      "Downloading      ━━━━━━━━━━━━━━━━━━━━ 286.6MB                              13.9s\r\n",
      "Extracting  (29) ━━━━━━━━━━━━━━━━╸\u001b[33m━━━\u001b[0m     168 typing_extensions         2m:24.9s"
     ]
    },
    {
     "name": "stdout",
     "output_type": "stream",
     "text": [
      "\u001b[2K\u001b[1A\u001b[2K\u001b[1A\u001b[2K\u001b[0G[+] 2m:25.4s\r\n",
      "Downloading      ━━━━━━━━━━━━━━━━━━━━ 286.6MB                              13.9s\r\n",
      "Extracting  (28) ━━━━━━━━━━━━━━━━╸\u001b[33m━━━\u001b[0m     169 typing_extensions         2m:25.0s"
     ]
    },
    {
     "name": "stdout",
     "output_type": "stream",
     "text": [
      "\u001b[2K\u001b[1A\u001b[2K\u001b[1A\u001b[2K\u001b[0G[+] 2m:25.5s\r\n",
      "Downloading      ━━━━━━━━━━━━━━━━━━━━ 286.6MB                              13.9s\r\n",
      "Extracting  (28) ━━━━━━━━━━━━━━━━╸\u001b[33m━━━\u001b[0m     169 urllib3                   2m:25.1s"
     ]
    },
    {
     "name": "stdout",
     "output_type": "stream",
     "text": [
      "\u001b[2K\u001b[1A\u001b[2K\u001b[1A\u001b[2K\u001b[0G[+] 2m:25.6s\r\n",
      "Downloading      ━━━━━━━━━━━━━━━━━━━━ 286.6MB                              13.9s\r\n",
      "Extracting  (28) ━━━━━━━━━━━━━━━━╸\u001b[33m━━━\u001b[0m     169 urllib3                   2m:25.2s"
     ]
    },
    {
     "name": "stdout",
     "output_type": "stream",
     "text": [
      "\u001b[2K\u001b[1A\u001b[2K\u001b[1A\u001b[2K\u001b[0G[+] 2m:25.7s\r\n",
      "Downloading      ━━━━━━━━━━━━━━━━━━━━ 286.6MB                              13.9s\r\n",
      "Extracting  (28) ━━━━━━━━━━━━━━━━╸\u001b[33m━━━\u001b[0m     169 urllib3                   2m:25.3s"
     ]
    },
    {
     "name": "stdout",
     "output_type": "stream",
     "text": [
      "\u001b[2K\u001b[1A\u001b[2K\u001b[1A\u001b[2K\u001b[0G[+] 2m:25.8s\r\n",
      "Downloading      ━━━━━━━━━━━━━━━━━━━━ 286.6MB                              13.9s\r\n",
      "Extracting  (28) ━━━━━━━━━━━━━━━━╸\u001b[33m━━━\u001b[0m     169 urllib3                   2m:25.4s"
     ]
    },
    {
     "name": "stdout",
     "output_type": "stream",
     "text": [
      "\u001b[2K\u001b[1A\u001b[2K\u001b[1A\u001b[2K\u001b[0G[+] 2m:25.9s\r\n",
      "Downloading      ━━━━━━━━━━━━━━━━━━━━ 286.6MB                              13.9s\r\n",
      "Extracting  (28) ━━━━━━━━━━━━━━━━╸\u001b[33m━━━\u001b[0m     169 widgetsnbextension        2m:25.5s"
     ]
    },
    {
     "name": "stdout",
     "output_type": "stream",
     "text": [
      "\u001b[2K\u001b[1A\u001b[2K\u001b[1A\u001b[2K\u001b[0G[+] 2m:26.0s\r\n",
      "Downloading      ━━━━━━━━━━━━━━━━━━━━ 286.6MB                              13.9s\r\n",
      "Extracting  (28) ━━━━━━━━━━━━━━━━╸\u001b[33m━━━\u001b[0m     169 widgetsnbextension        2m:25.6s"
     ]
    },
    {
     "name": "stdout",
     "output_type": "stream",
     "text": [
      "\u001b[2K\u001b[1A\u001b[2K\u001b[1A\u001b[2K\u001b[0G[+] 2m:26.1s\r\n",
      "Downloading      ━━━━━━━━━━━━━━━━━━━━ 286.6MB                              13.9s\r\n",
      "Extracting  (28) ━━━━━━━━━━━━━━━━╸\u001b[33m━━━\u001b[0m     169 widgetsnbextension        2m:25.7s"
     ]
    },
    {
     "name": "stdout",
     "output_type": "stream",
     "text": [
      "\u001b[2K\u001b[1A\u001b[2K\u001b[1A\u001b[2K\u001b[0G[+] 2m:26.2s\r\n",
      "Downloading      ━━━━━━━━━━━━━━━━━━━━ 286.6MB                              13.9s\r\n",
      "Extracting  (28) ━━━━━━━━━━━━━━━━╸\u001b[33m━━━\u001b[0m     169 widgetsnbextension        2m:25.8s"
     ]
    },
    {
     "name": "stdout",
     "output_type": "stream",
     "text": [
      "\u001b[2K\u001b[1A\u001b[2K\u001b[1A\u001b[2K\u001b[0G[+] 2m:26.3s\r\n",
      "Downloading      ━━━━━━━━━━━━━━━━━━━━ 286.6MB                              13.9s\r\n",
      "Extracting  (27) ━━━━━━━━━━━━━━━━╸\u001b[33m━━━\u001b[0m     170 xcb-util-image            2m:25.9s"
     ]
    },
    {
     "name": "stdout",
     "output_type": "stream",
     "text": [
      "\u001b[2K\u001b[1A\u001b[2K\u001b[1A\u001b[2K\u001b[0G[+] 2m:26.4s\r\n",
      "Downloading      ━━━━━━━━━━━━━━━━━━━━ 286.6MB                              13.9s\r\n",
      "Extracting  (27) ━━━━━━━━━━━━━━━━╸\u001b[33m━━━\u001b[0m     170 xcb-util-image            2m:26.0s"
     ]
    },
    {
     "name": "stdout",
     "output_type": "stream",
     "text": [
      "\u001b[2K\u001b[1A\u001b[2K\u001b[1A\u001b[2K\u001b[0G[+] 2m:26.5s\r\n",
      "Downloading      ━━━━━━━━━━━━━━━━━━━━ 286.6MB                              13.9s\r\n",
      "Extracting  (27) ━━━━━━━━━━━━━━━━╸\u001b[33m━━━\u001b[0m     170 xcb-util-image            2m:26.1s"
     ]
    },
    {
     "name": "stdout",
     "output_type": "stream",
     "text": [
      "\u001b[2K\u001b[1A\u001b[2K\u001b[1A\u001b[2K\u001b[0G[+] 2m:26.6s\r\n",
      "Downloading      ━━━━━━━━━━━━━━━━━━━━ 286.6MB                              13.9s\r\n",
      "Extracting  (26) ━━━━━━━━━━━━━━━━╸\u001b[33m━━━\u001b[0m     171 xcb-util-image            2m:26.2s"
     ]
    },
    {
     "name": "stdout",
     "output_type": "stream",
     "text": [
      "\u001b[2K\u001b[1A\u001b[2K\u001b[1A\u001b[2K\u001b[0G[+] 2m:26.7s\r\n",
      "Downloading      ━━━━━━━━━━━━━━━━━━━━ 286.6MB                              13.9s\r\n",
      "Extracting  (26) ━━━━━━━━━━━━━━━━╸\u001b[33m━━━\u001b[0m     171 xcb-util-renderutil       2m:26.3s"
     ]
    },
    {
     "name": "stdout",
     "output_type": "stream",
     "text": [
      "\u001b[2K\u001b[1A\u001b[2K\u001b[1A\u001b[2K\u001b[0G[+] 2m:26.8s\r\n",
      "Downloading      ━━━━━━━━━━━━━━━━━━━━ 286.6MB                              13.9s\r\n",
      "Extracting  (26) ━━━━━━━━━━━━━━━━╸\u001b[33m━━━\u001b[0m     171 xcb-util-renderutil       2m:26.4s"
     ]
    },
    {
     "name": "stdout",
     "output_type": "stream",
     "text": [
      "\u001b[2K\u001b[1A\u001b[2K\u001b[1A\u001b[2K\u001b[0G[+] 2m:26.9s\r\n",
      "Downloading      ━━━━━━━━━━━━━━━━━━━━ 286.6MB                              13.9s\r\n",
      "Extracting  (26) ━━━━━━━━━━━━━━━━╸\u001b[33m━━━\u001b[0m     171 xcb-util-renderutil       2m:26.5s"
     ]
    },
    {
     "name": "stdout",
     "output_type": "stream",
     "text": [
      "\u001b[2K\u001b[1A\u001b[2K\u001b[1A\u001b[2K\u001b[0G[+] 2m:27.0s\r\n",
      "Downloading      ━━━━━━━━━━━━━━━━━━━━ 286.6MB                              13.9s\r\n",
      "Extracting  (26) ━━━━━━━━━━━━━━━━╸\u001b[33m━━━\u001b[0m     171 xcb-util-renderutil       2m:26.6s"
     ]
    },
    {
     "name": "stdout",
     "output_type": "stream",
     "text": [
      "\u001b[2K\u001b[1A\u001b[2K\u001b[1A\u001b[2K\u001b[0G[+] 2m:27.1s\r\n",
      "Downloading      ━━━━━━━━━━━━━━━━━━━━ 286.6MB                              13.9s\r\n",
      "Extracting  (26) ━━━━━━━━━━━━━━━━╸\u001b[33m━━━\u001b[0m     171 xkeyboard-config          2m:26.7s"
     ]
    },
    {
     "name": "stdout",
     "output_type": "stream",
     "text": [
      "\u001b[2K\u001b[1A\u001b[2K\u001b[1A\u001b[2K\u001b[0G[+] 2m:27.2s\r\n",
      "Downloading      ━━━━━━━━━━━━━━━━━━━━ 286.6MB                              13.9s\r\n",
      "Extracting  (26) ━━━━━━━━━━━━━━━━╸\u001b[33m━━━\u001b[0m     171 xkeyboard-config          2m:26.8s"
     ]
    },
    {
     "name": "stdout",
     "output_type": "stream",
     "text": [
      "\u001b[2K\u001b[1A\u001b[2K\u001b[1A\u001b[2K\u001b[0G[+] 2m:27.3s\r\n",
      "Downloading      ━━━━━━━━━━━━━━━━━━━━ 286.6MB                              13.9s\r\n",
      "Extracting  (26) ━━━━━━━━━━━━━━━━╸\u001b[33m━━━\u001b[0m     171 xkeyboard-config          2m:26.9s"
     ]
    },
    {
     "name": "stdout",
     "output_type": "stream",
     "text": [
      "\u001b[2K\u001b[1A\u001b[2K\u001b[1A\u001b[2K\u001b[0G[+] 2m:27.4s\r\n",
      "Downloading      ━━━━━━━━━━━━━━━━━━━━ 286.6MB                              13.9s\r\n",
      "Extracting  (26) ━━━━━━━━━━━━━━━━╸\u001b[33m━━━\u001b[0m     171 xkeyboard-config          2m:27.0s"
     ]
    },
    {
     "name": "stdout",
     "output_type": "stream",
     "text": [
      "\u001b[2K\u001b[1A\u001b[2K\u001b[1A\u001b[2K\u001b[0G[+] 2m:27.5s\r\n",
      "Downloading      ━━━━━━━━━━━━━━━━━━━━ 286.6MB                              13.9s\r\n",
      "Extracting  (26) ━━━━━━━━━━━━━━━━╸\u001b[33m━━━\u001b[0m     171 beautifulsoup4            2m:27.1s"
     ]
    },
    {
     "name": "stdout",
     "output_type": "stream",
     "text": [
      "\u001b[2K\u001b[1A\u001b[2K\u001b[1A\u001b[2K\u001b[0G[+] 2m:27.6s\r\n",
      "Downloading      ━━━━━━━━━━━━━━━━━━━━ 286.6MB                              13.9s\r\n",
      "Extracting  (26) ━━━━━━━━━━━━━━━━╸\u001b[33m━━━\u001b[0m     171 beautifulsoup4            2m:27.2s"
     ]
    },
    {
     "name": "stdout",
     "output_type": "stream",
     "text": [
      "\u001b[2K\u001b[1A\u001b[2K\u001b[1A\u001b[2K\u001b[0G[+] 2m:27.7s\r\n",
      "Downloading      ━━━━━━━━━━━━━━━━━━━━ 286.6MB                              13.9s\r\n",
      "Extracting  (26) ━━━━━━━━━━━━━━━━╸\u001b[33m━━━\u001b[0m     171 beautifulsoup4            2m:27.3s"
     ]
    },
    {
     "name": "stdout",
     "output_type": "stream",
     "text": [
      "\u001b[2K\u001b[1A\u001b[2K\u001b[1A\u001b[2K\u001b[0G[+] 2m:27.8s\r\n",
      "Downloading      ━━━━━━━━━━━━━━━━━━━━ 286.6MB                              13.9s\r\n",
      "Extracting  (26) ━━━━━━━━━━━━━━━━╸\u001b[33m━━━\u001b[0m     171 beautifulsoup4            2m:27.4s"
     ]
    },
    {
     "name": "stdout",
     "output_type": "stream",
     "text": [
      "\u001b[2K\u001b[1A\u001b[2K\u001b[1A\u001b[2K\u001b[0G[+] 2m:27.9s\r\n",
      "Downloading      ━━━━━━━━━━━━━━━━━━━━ 286.6MB                              13.9s\r\n",
      "Extracting  (26) ━━━━━━━━━━━━━━━━╸\u001b[33m━━━\u001b[0m     171 brotlipy                  2m:27.5s"
     ]
    },
    {
     "name": "stdout",
     "output_type": "stream",
     "text": [
      "\u001b[2K\u001b[1A\u001b[2K\u001b[1A\u001b[2K\u001b[0G[+] 2m:28.0s\r\n",
      "Downloading      ━━━━━━━━━━━━━━━━━━━━ 286.6MB                              13.9s\r\n",
      "Extracting  (25) ━━━━━━━━━━━━━━━━╸\u001b[33m━━━\u001b[0m     172 brotlipy                  2m:27.6s"
     ]
    },
    {
     "name": "stdout",
     "output_type": "stream",
     "text": [
      "\u001b[2K\u001b[1A\u001b[2K\u001b[1A\u001b[2K\u001b[0G[+] 2m:28.1s\r\n",
      "Downloading      ━━━━━━━━━━━━━━━━━━━━ 286.6MB                              13.9s\r\n",
      "Extracting  (24) ━━━━━━━━━━━━━━━━╸\u001b[33m━━━\u001b[0m     173 brotlipy                  2m:27.7s"
     ]
    },
    {
     "name": "stdout",
     "output_type": "stream",
     "text": [
      "\u001b[2K\u001b[1A\u001b[2K\u001b[1A\u001b[2K\u001b[0G[+] 2m:28.2s\r\n",
      "Downloading      ━━━━━━━━━━━━━━━━━━━━ 286.6MB                              13.9s\r\n",
      "Extracting  (24) ━━━━━━━━━━━━━━━━╸\u001b[33m━━━\u001b[0m     173 brotlipy                  2m:27.8s"
     ]
    },
    {
     "name": "stdout",
     "output_type": "stream",
     "text": [
      "\u001b[2K\u001b[1A\u001b[2K\u001b[1A\u001b[2K\u001b[0G[+] 2m:28.3s\r\n",
      "Downloading      ━━━━━━━━━━━━━━━━━━━━ 286.6MB                              13.9s\r\n",
      "Extracting  (24) ━━━━━━━━━━━━━━━━╸\u001b[33m━━━\u001b[0m     173 bzip2                     2m:27.9s"
     ]
    },
    {
     "name": "stdout",
     "output_type": "stream",
     "text": [
      "\u001b[2K\u001b[1A\u001b[2K\u001b[1A\u001b[2K\u001b[0G[+] 2m:28.4s\r\n",
      "Downloading      ━━━━━━━━━━━━━━━━━━━━ 286.6MB                              13.9s\r\n",
      "Extracting  (24) ━━━━━━━━━━━━━━━━╸\u001b[33m━━━\u001b[0m     173 bzip2                     2m:28.0s"
     ]
    },
    {
     "name": "stdout",
     "output_type": "stream",
     "text": [
      "\u001b[2K\u001b[1A\u001b[2K\u001b[1A\u001b[2K\u001b[0G[+] 2m:28.5s\r\n",
      "Downloading      ━━━━━━━━━━━━━━━━━━━━ 286.6MB                              13.9s\r\n"
     ]
    },
    {
     "name": "stdout",
     "output_type": "stream",
     "text": [
      "Extracting  (24) ━━━━━━━━━━━━━━━━╸\u001b[33m━━━\u001b[0m     173 bzip2                     2m:28.1s"
     ]
    },
    {
     "name": "stdout",
     "output_type": "stream",
     "text": [
      "\u001b[2K\u001b[1A\u001b[2K\u001b[1A\u001b[2K\u001b[0G[+] 2m:28.6s\r\n",
      "Downloading      ━━━━━━━━━━━━━━━━━━━━ 286.6MB                              13.9s\r\n",
      "Extracting  (24) ━━━━━━━━━━━━━━━━╸\u001b[33m━━━\u001b[0m     173 bzip2                     2m:28.2s"
     ]
    },
    {
     "name": "stdout",
     "output_type": "stream",
     "text": [
      "\u001b[2K\u001b[1A\u001b[2K\u001b[1A\u001b[2K\u001b[0G[+] 2m:28.7s\r\n",
      "Downloading      ━━━━━━━━━━━━━━━━━━━━ 286.6MB                              13.9s\r\n",
      "Extracting  (24) ━━━━━━━━━━━━━━━━╸\u001b[33m━━━\u001b[0m     173 dbus                      2m:28.3s"
     ]
    },
    {
     "name": "stdout",
     "output_type": "stream",
     "text": [
      "\u001b[2K\u001b[1A\u001b[2K\u001b[1A\u001b[2K\u001b[0G[+] 2m:28.8s\r\n",
      "Downloading      ━━━━━━━━━━━━━━━━━━━━ 286.6MB                              13.9s\r\n",
      "Extracting  (24) ━━━━━━━━━━━━━━━━╸\u001b[33m━━━\u001b[0m     173 dbus                      2m:28.4s"
     ]
    },
    {
     "name": "stdout",
     "output_type": "stream",
     "text": [
      "\u001b[2K\u001b[1A\u001b[2K\u001b[1A\u001b[2K\u001b[0G[+] 2m:28.9s\r\n",
      "Downloading      ━━━━━━━━━━━━━━━━━━━━ 286.6MB                              13.9s\r\n",
      "Extracting  (24) ━━━━━━━━━━━━━━━━╸\u001b[33m━━━\u001b[0m     173 dbus                      2m:28.5s"
     ]
    },
    {
     "name": "stdout",
     "output_type": "stream",
     "text": [
      "\u001b[2K\u001b[1A\u001b[2K\u001b[1A\u001b[2K\u001b[0G[+] 2m:29.0s\r\n",
      "Downloading      ━━━━━━━━━━━━━━━━━━━━ 286.6MB                              13.9s\r\n",
      "Extracting  (24) ━━━━━━━━━━━━━━━━╸\u001b[33m━━━\u001b[0m     173 dbus                      2m:28.6s"
     ]
    },
    {
     "name": "stdout",
     "output_type": "stream",
     "text": [
      "\u001b[2K\u001b[1A\u001b[2K\u001b[1A\u001b[2K\u001b[0G[+] 2m:29.1s\r\n",
      "Downloading      ━━━━━━━━━━━━━━━━━━━━ 286.6MB                              13.9s\r\n",
      "Extracting  (24) ━━━━━━━━━━━━━━━━╸\u001b[33m━━━\u001b[0m     173 importlib-metadata        2m:28.7s"
     ]
    },
    {
     "name": "stdout",
     "output_type": "stream",
     "text": [
      "\u001b[2K\u001b[1A\u001b[2K\u001b[1A\u001b[2K\u001b[0G[+] 2m:29.2s\r\n",
      "Downloading      ━━━━━━━━━━━━━━━━━━━━ 286.6MB                              13.9s\r\n",
      "Extracting  (24) ━━━━━━━━━━━━━━━━╸\u001b[33m━━━\u001b[0m     173 importlib-metadata        2m:28.8s"
     ]
    },
    {
     "name": "stdout",
     "output_type": "stream",
     "text": [
      "\u001b[2K\u001b[1A\u001b[2K\u001b[1A\u001b[2K\u001b[0G[+] 2m:29.3s\r\n",
      "Downloading      ━━━━━━━━━━━━━━━━━━━━ 286.6MB                              13.9s\r\n",
      "Extracting  (24) ━━━━━━━━━━━━━━━━╸\u001b[33m━━━\u001b[0m     173 importlib-metadata        2m:28.9s"
     ]
    },
    {
     "name": "stdout",
     "output_type": "stream",
     "text": [
      "\u001b[2K\u001b[1A\u001b[2K\u001b[1A\u001b[2K\u001b[0G[+] 2m:29.4s\r\n",
      "Downloading      ━━━━━━━━━━━━━━━━━━━━ 286.6MB                              13.9s\r\n",
      "Extracting  (24) ━━━━━━━━━━━━━━━━╸\u001b[33m━━━\u001b[0m     173 importlib-metadata        2m:29.0s"
     ]
    },
    {
     "name": "stdout",
     "output_type": "stream",
     "text": [
      "\u001b[2K\u001b[1A\u001b[2K\u001b[1A\u001b[2K\u001b[0G[+] 2m:29.5s\r\n",
      "Downloading      ━━━━━━━━━━━━━━━━━━━━ 286.6MB                              13.9s\r\n",
      "Extracting  (24) ━━━━━━━━━━━━━━━━╸\u001b[33m━━━\u001b[0m     173 ipywidgets                2m:29.1s"
     ]
    },
    {
     "name": "stdout",
     "output_type": "stream",
     "text": [
      "\u001b[2K\u001b[1A\u001b[2K\u001b[1A\u001b[2K\u001b[0G[+] 2m:29.6s\r\n",
      "Downloading      ━━━━━━━━━━━━━━━━━━━━ 286.6MB                              13.9s\r\n",
      "Extracting  (24) ━━━━━━━━━━━━━━━━╸\u001b[33m━━━\u001b[0m     173 ipywidgets                2m:29.2s"
     ]
    },
    {
     "name": "stdout",
     "output_type": "stream",
     "text": [
      "\u001b[2K\u001b[1A\u001b[2K\u001b[1A\u001b[2K\u001b[0G[+] 2m:29.7s\r\n",
      "Downloading      ━━━━━━━━━━━━━━━━━━━━ 286.6MB                              13.9s\r\n",
      "Extracting  (24) ━━━━━━━━━━━━━━━━╸\u001b[33m━━━\u001b[0m     173 ipywidgets                2m:29.3s"
     ]
    },
    {
     "name": "stdout",
     "output_type": "stream",
     "text": [
      "\u001b[2K\u001b[1A\u001b[2K\u001b[1A\u001b[2K\u001b[0G[+] 2m:29.8s\r\n",
      "Downloading      ━━━━━━━━━━━━━━━━━━━━ 286.6MB                              13.9s\r\n",
      "Extracting  (24) ━━━━━━━━━━━━━━━━╸\u001b[33m━━━\u001b[0m     173 ipywidgets                2m:29.4s"
     ]
    },
    {
     "name": "stdout",
     "output_type": "stream",
     "text": [
      "\u001b[2K\u001b[1A\u001b[2K\u001b[1A\u001b[2K\u001b[0G[+] 2m:29.9s\r\n",
      "Downloading      ━━━━━━━━━━━━━━━━━━━━ 286.6MB                              13.9s\r\n",
      "Extracting  (23) ━━━━━━━━━━━━━━━━╸\u001b[33m━━━\u001b[0m     174 jack                      2m:29.5s"
     ]
    },
    {
     "name": "stdout",
     "output_type": "stream",
     "text": [
      "\u001b[2K\u001b[1A\u001b[2K\u001b[1A\u001b[2K\u001b[0G[+] 2m:30.0s\r\n",
      "Downloading      ━━━━━━━━━━━━━━━━━━━━ 286.6MB                              13.9s\r\n",
      "Extracting  (23) ━━━━━━━━━━━━━━━━╸\u001b[33m━━━\u001b[0m     174 jack                      2m:29.6s"
     ]
    },
    {
     "name": "stdout",
     "output_type": "stream",
     "text": [
      "\u001b[2K\u001b[1A\u001b[2K\u001b[1A\u001b[2K\u001b[0G[+] 2m:30.1s\r\n",
      "Downloading      ━━━━━━━━━━━━━━━━━━━━ 286.6MB                              13.9s\r\n",
      "Extracting  (23) ━━━━━━━━━━━━━━━━╸\u001b[33m━━━\u001b[0m     174 jack                      2m:29.7s"
     ]
    },
    {
     "name": "stdout",
     "output_type": "stream",
     "text": [
      "\u001b[2K\u001b[1A\u001b[2K\u001b[1A\u001b[2K\u001b[0G[+] 2m:30.2s\r\n",
      "Downloading      ━━━━━━━━━━━━━━━━━━━━ 286.6MB                              13.9s\r\n",
      "Extracting  (23) ━━━━━━━━━━━━━━━━╸\u001b[33m━━━\u001b[0m     174 jack                      2m:29.8s"
     ]
    },
    {
     "name": "stdout",
     "output_type": "stream",
     "text": [
      "\u001b[2K\u001b[1A\u001b[2K\u001b[1A\u001b[2K\u001b[0G[+] 2m:30.3s\r\n",
      "Downloading      ━━━━━━━━━━━━━━━━━━━━ 286.6MB                              13.9s\r\n",
      "Extracting  (22) ━━━━━━━━━━━━━━━━╸\u001b[33m━━━\u001b[0m     175 libgcc-ng                 2m:29.9s"
     ]
    },
    {
     "name": "stdout",
     "output_type": "stream",
     "text": [
      "\u001b[2K\u001b[1A\u001b[2K\u001b[1A\u001b[2K\u001b[0G[+] 2m:30.4s\r\n",
      "Downloading      ━━━━━━━━━━━━━━━━━━━━ 286.6MB                              13.9s\r\n",
      "Extracting  (22) ━━━━━━━━━━━━━━━━╸\u001b[33m━━━\u001b[0m     175 libgcc-ng                 2m:30.0s"
     ]
    },
    {
     "name": "stdout",
     "output_type": "stream",
     "text": [
      "\u001b[2K\u001b[1A\u001b[2K\u001b[1A\u001b[2K\u001b[0G[+] 2m:30.5s\r\n",
      "Downloading      ━━━━━━━━━━━━━━━━━━━━ 286.6MB                              13.9s\r\n",
      "Extracting  (22) ━━━━━━━━━━━━━━━━╸\u001b[33m━━━\u001b[0m     175 libgcc-ng                 2m:30.1s"
     ]
    },
    {
     "name": "stdout",
     "output_type": "stream",
     "text": [
      "\u001b[2K\u001b[1A\u001b[2K\u001b[1A\u001b[2K\u001b[0G[+] 2m:30.6s\r\n",
      "Downloading      ━━━━━━━━━━━━━━━━━━━━ 286.6MB                              13.9s\r\n",
      "Extracting  (22) ━━━━━━━━━━━━━━━━╸\u001b[33m━━━\u001b[0m     175 libgcc-ng                 2m:30.2s"
     ]
    },
    {
     "name": "stdout",
     "output_type": "stream",
     "text": [
      "\u001b[2K\u001b[1A\u001b[2K\u001b[1A\u001b[2K\u001b[0G[+] 2m:30.7s\r\n",
      "Downloading      ━━━━━━━━━━━━━━━━━━━━ 286.6MB                              13.9s\r\n",
      "Extracting  (22) ━━━━━━━━━━━━━━━━╸\u001b[33m━━━\u001b[0m     175 libnghttp2                2m:30.3s"
     ]
    },
    {
     "name": "stdout",
     "output_type": "stream",
     "text": [
      "\u001b[2K\u001b[1A\u001b[2K\u001b[1A\u001b[2K\u001b[0G[+] 2m:30.8s\r\n",
      "Downloading      ━━━━━━━━━━━━━━━━━━━━ 286.6MB                              13.9s\r\n",
      "Extracting  (22) ━━━━━━━━━━━━━━━━╸\u001b[33m━━━\u001b[0m     175 libnghttp2                2m:30.4s"
     ]
    },
    {
     "name": "stdout",
     "output_type": "stream",
     "text": [
      "\u001b[2K\u001b[1A\u001b[2K\u001b[1A\u001b[2K\u001b[0G[+] 2m:30.9s\r\n",
      "Downloading      ━━━━━━━━━━━━━━━━━━━━ 286.6MB                              13.9s\r\n",
      "Extracting  (22) ━━━━━━━━━━━━━━━━╸\u001b[33m━━━\u001b[0m     175 libnghttp2                2m:30.5s"
     ]
    },
    {
     "name": "stdout",
     "output_type": "stream",
     "text": [
      "\u001b[2K\u001b[1A\u001b[2K\u001b[1A\u001b[2K\u001b[0G[+] 2m:31.0s\r\n",
      "Downloading      ━━━━━━━━━━━━━━━━━━━━ 286.6MB                              13.9s\r\n",
      "Extracting  (22) ━━━━━━━━━━━━━━━━╸\u001b[33m━━━\u001b[0m     175 libnghttp2                2m:30.6s"
     ]
    },
    {
     "name": "stdout",
     "output_type": "stream",
     "text": [
      "\u001b[2K\u001b[1A\u001b[2K\u001b[1A\u001b[2K\u001b[0G[+] 2m:31.1s\r\n",
      "Downloading      ━━━━━━━━━━━━━━━━━━━━ 286.6MB                              13.9s\r\n",
      "Extracting  (22) ━━━━━━━━━━━━━━━━╸\u001b[33m━━━\u001b[0m     175 libpq                     2m:30.7s"
     ]
    },
    {
     "name": "stdout",
     "output_type": "stream",
     "text": [
      "\u001b[2K\u001b[1A\u001b[2K\u001b[1A\u001b[2K\u001b[0G[+] 2m:31.2s\r\n",
      "Downloading      ━━━━━━━━━━━━━━━━━━━━ 286.6MB                              13.9s\r\n",
      "Extracting  (22) ━━━━━━━━━━━━━━━━╸\u001b[33m━━━\u001b[0m     175 libpq                     2m:30.8s"
     ]
    },
    {
     "name": "stdout",
     "output_type": "stream",
     "text": [
      "\u001b[2K\u001b[1A\u001b[2K\u001b[1A\u001b[2K\u001b[0G[+] 2m:31.3s\r\n",
      "Downloading      ━━━━━━━━━━━━━━━━━━━━ 286.6MB                              13.9s\r\n",
      "Extracting  (22) ━━━━━━━━━━━━━━━━╸\u001b[33m━━━\u001b[0m     175 libpq                     2m:30.9s"
     ]
    },
    {
     "name": "stdout",
     "output_type": "stream",
     "text": [
      "\u001b[2K\u001b[1A\u001b[2K\u001b[1A\u001b[2K\u001b[0G[+] 2m:31.4s\r\n",
      "Downloading      ━━━━━━━━━━━━━━━━━━━━ 286.6MB                              13.9s\r\n",
      "Extracting  (22) ━━━━━━━━━━━━━━━━╸\u001b[33m━━━\u001b[0m     175 libpq                     2m:31.0s"
     ]
    },
    {
     "name": "stdout",
     "output_type": "stream",
     "text": [
      "\u001b[2K\u001b[1A\u001b[2K\u001b[1A\u001b[2K\u001b[0G[+] 2m:31.5s\r\n",
      "Downloading      ━━━━━━━━━━━━━━━━━━━━ 286.6MB                              13.9s\r\n",
      "Extracting  (22) ━━━━━━━━━━━━━━━━╸\u001b[33m━━━\u001b[0m     175 lz4-c                     2m:31.1s"
     ]
    },
    {
     "name": "stdout",
     "output_type": "stream",
     "text": [
      "\u001b[2K\u001b[1A\u001b[2K\u001b[1A\u001b[2K\u001b[0G[+] 2m:31.6s\r\n",
      "Downloading      ━━━━━━━━━━━━━━━━━━━━ 286.6MB                              13.9s\r\n",
      "Extracting  (21) ━━━━━━━━━━━━━━━━╸\u001b[33m━━━\u001b[0m     176 lz4-c                     2m:31.2s"
     ]
    },
    {
     "name": "stdout",
     "output_type": "stream",
     "text": [
      "\u001b[2K\u001b[1A\u001b[2K\u001b[1A\u001b[2K\u001b[0G[+] 2m:31.7s\r\n",
      "Downloading      ━━━━━━━━━━━━━━━━━━━━ 286.6MB                              13.9s\r\n",
      "Extracting  (21) ━━━━━━━━━━━━━━━━╸\u001b[33m━━━\u001b[0m     176 lz4-c                     2m:31.3s"
     ]
    },
    {
     "name": "stdout",
     "output_type": "stream",
     "text": [
      "\u001b[2K\u001b[1A\u001b[2K\u001b[1A\u001b[2K\u001b[0G[+] 2m:31.8s\r\n",
      "Downloading      ━━━━━━━━━━━━━━━━━━━━ 286.6MB                              13.9s\r\n",
      "Extracting  (20) ━━━━━━━━━━━━━━━━╸\u001b[33m━━━\u001b[0m     177 lz4-c                     2m:31.4s"
     ]
    },
    {
     "name": "stdout",
     "output_type": "stream",
     "text": [
      "\u001b[2K\u001b[1A\u001b[2K\u001b[1A\u001b[2K\u001b[0G[+] 2m:31.9s\r\n",
      "Downloading      ━━━━━━━━━━━━━━━━━━━━ 286.6MB                              13.9s\r\n",
      "Extracting  (20) ━━━━━━━━━━━━━━━━╸\u001b[33m━━━\u001b[0m     177 matplotlib-inline         2m:31.5s"
     ]
    },
    {
     "name": "stdout",
     "output_type": "stream",
     "text": [
      "\u001b[2K\u001b[1A\u001b[2K\u001b[1A\u001b[2K\u001b[0G[+] 2m:32.0s\r\n",
      "Downloading      ━━━━━━━━━━━━━━━━━━━━ 286.6MB                              13.9s\r\n",
      "Extracting  (20) ━━━━━━━━━━━━━━━━╸\u001b[33m━━━\u001b[0m     177 matplotlib-inline         2m:31.6s"
     ]
    },
    {
     "name": "stdout",
     "output_type": "stream",
     "text": [
      "\u001b[2K\u001b[1A\u001b[2K\u001b[1A\u001b[2K\u001b[0G[+] 2m:32.1s\r\n",
      "Downloading      ━━━━━━━━━━━━━━━━━━━━ 286.6MB                              13.9s\r\n",
      "Extracting  (20) ━━━━━━━━━━━━━━━━╸\u001b[33m━━━\u001b[0m     177 matplotlib-inline         2m:31.7s"
     ]
    },
    {
     "name": "stdout",
     "output_type": "stream",
     "text": [
      "\u001b[2K\u001b[1A\u001b[2K\u001b[1A\u001b[2K\u001b[0G[+] 2m:32.2s\r\n",
      "Downloading      ━━━━━━━━━━━━━━━━━━━━ 286.6MB                              13.9s\r\n",
      "Extracting  (20) ━━━━━━━━━━━━━━━━╸\u001b[33m━━━\u001b[0m     177 matplotlib-inline         2m:31.8s"
     ]
    },
    {
     "name": "stdout",
     "output_type": "stream",
     "text": [
      "\u001b[2K\u001b[1A\u001b[2K\u001b[1A\u001b[2K\u001b[0G[+] 2m:32.3s\r\n",
      "Downloading      ━━━━━━━━━━━━━━━━━━━━ 286.6MB                              13.9s\r\n",
      "Extracting  (20) ━━━━━━━━━━━━━━━━╸\u001b[33m━━━\u001b[0m     177 mpg123                    2m:31.9s"
     ]
    },
    {
     "name": "stdout",
     "output_type": "stream",
     "text": [
      "\u001b[2K\u001b[1A\u001b[2K\u001b[1A\u001b[2K\u001b[0G[+] 2m:32.4s\r\n",
      "Downloading      ━━━━━━━━━━━━━━━━━━━━ 286.6MB                              13.9s\r\n",
      "Extracting  (20) ━━━━━━━━━━━━━━━━╸\u001b[33m━━━\u001b[0m     177 mpg123                    2m:32.0s"
     ]
    },
    {
     "name": "stdout",
     "output_type": "stream",
     "text": [
      "\u001b[2K\u001b[1A\u001b[2K\u001b[1A\u001b[2K\u001b[0G[+] 2m:32.5s\r\n",
      "Downloading      ━━━━━━━━━━━━━━━━━━━━ 286.6MB                              13.9s\r\n",
      "Extracting  (20) ━━━━━━━━━━━━━━━━╸\u001b[33m━━━\u001b[0m     177 mpg123                    2m:32.1s"
     ]
    },
    {
     "name": "stdout",
     "output_type": "stream",
     "text": [
      "\u001b[2K\u001b[1A\u001b[2K\u001b[1A\u001b[2K\u001b[0G[+] 2m:32.6s\r\n",
      "Downloading      ━━━━━━━━━━━━━━━━━━━━ 286.6MB                              13.9s\r\n",
      "Extracting  (20) ━━━━━━━━━━━━━━━━╸\u001b[33m━━━\u001b[0m     177 mpg123                    2m:32.2s"
     ]
    },
    {
     "name": "stdout",
     "output_type": "stream",
     "text": [
      "\u001b[2K\u001b[1A\u001b[2K\u001b[1A\u001b[2K\u001b[0G[+] 2m:32.7s\r\n",
      "Downloading      ━━━━━━━━━━━━━━━━━━━━ 286.6MB                              13.9s\r\n",
      "Extracting  (20) ━━━━━━━━━━━━━━━━╸\u001b[33m━━━\u001b[0m     177 prometheus_client         2m:32.3s"
     ]
    },
    {
     "name": "stdout",
     "output_type": "stream",
     "text": [
      "\u001b[2K\u001b[1A\u001b[2K\u001b[1A\u001b[2K\u001b[0G[+] 2m:32.8s\r\n",
      "Downloading      ━━━━━━━━━━━━━━━━━━━━ 286.6MB                              13.9s\r\n",
      "Extracting  (20) ━━━━━━━━━━━━━━━━╸\u001b[33m━━━\u001b[0m     177 prometheus_client         2m:32.4s"
     ]
    },
    {
     "name": "stdout",
     "output_type": "stream",
     "text": [
      "\u001b[2K\u001b[1A\u001b[2K\u001b[1A\u001b[2K\u001b[0G[+] 2m:32.9s\r\n",
      "Downloading      ━━━━━━━━━━━━━━━━━━━━ 286.6MB                              13.9s\r\n",
      "Extracting  (20) ━━━━━━━━━━━━━━━━╸\u001b[33m━━━\u001b[0m     177 prometheus_client         2m:32.5s"
     ]
    },
    {
     "name": "stdout",
     "output_type": "stream",
     "text": [
      "\u001b[2K\u001b[1A\u001b[2K\u001b[1A\u001b[2K\u001b[0G[+] 2m:33.0s\r\n",
      "Downloading      ━━━━━━━━━━━━━━━━━━━━ 286.6MB                              13.9s\r\n",
      "Extracting  (19) ━━━━━━━━━━━━━━━━━╸\u001b[33m━━\u001b[0m     178 prometheus_client         2m:32.6s"
     ]
    },
    {
     "name": "stdout",
     "output_type": "stream",
     "text": [
      "\u001b[2K\u001b[1A\u001b[2K\u001b[1A\u001b[2K\u001b[0G[+] 2m:33.1s\r\n",
      "Downloading      ━━━━━━━━━━━━━━━━━━━━ 286.6MB                              13.9s\r\n"
     ]
    },
    {
     "name": "stdout",
     "output_type": "stream",
     "text": [
      "Extracting  (19) ━━━━━━━━━━━━━━━━━╸\u001b[33m━━\u001b[0m     178 pure_eval                 2m:32.7s"
     ]
    },
    {
     "name": "stdout",
     "output_type": "stream",
     "text": [
      "\u001b[2K\u001b[1A\u001b[2K\u001b[1A\u001b[2K\u001b[0G[+] 2m:33.2s\r\n",
      "Downloading      ━━━━━━━━━━━━━━━━━━━━ 286.6MB                              13.9s\r\n",
      "Extracting  (18) ━━━━━━━━━━━━━━━━━╸\u001b[33m━━\u001b[0m     179 pure_eval                 2m:32.8s"
     ]
    },
    {
     "name": "stdout",
     "output_type": "stream",
     "text": [
      "\u001b[2K\u001b[1A\u001b[2K\u001b[1A\u001b[2K\u001b[0G[+] 2m:33.3s\r\n",
      "Downloading      ━━━━━━━━━━━━━━━━━━━━ 286.6MB                              13.9s\r\n",
      "Extracting  (18) ━━━━━━━━━━━━━━━━━╸\u001b[33m━━\u001b[0m     179 pure_eval                 2m:32.9s"
     ]
    },
    {
     "name": "stdout",
     "output_type": "stream",
     "text": [
      "\u001b[2K\u001b[1A\u001b[2K\u001b[1A\u001b[2K\u001b[0G[+] 2m:33.4s\r\n",
      "Downloading      ━━━━━━━━━━━━━━━━━━━━ 286.6MB                              13.9s\r\n",
      "Extracting  (18) ━━━━━━━━━━━━━━━━━╸\u001b[33m━━\u001b[0m     179 pure_eval                 2m:33.0s"
     ]
    },
    {
     "name": "stdout",
     "output_type": "stream",
     "text": [
      "\u001b[2K\u001b[1A\u001b[2K\u001b[1A\u001b[2K\u001b[0G[+] 2m:33.5s\r\n",
      "Downloading      ━━━━━━━━━━━━━━━━━━━━ 286.6MB                              13.9s\r\n",
      "Extracting  (18) ━━━━━━━━━━━━━━━━━╸\u001b[33m━━\u001b[0m     179 ruamel.yaml               2m:33.1s"
     ]
    },
    {
     "name": "stdout",
     "output_type": "stream",
     "text": [
      "\u001b[2K\u001b[1A\u001b[2K\u001b[1A\u001b[2K\u001b[0G[+] 2m:33.6s\r\n",
      "Downloading      ━━━━━━━━━━━━━━━━━━━━ 286.6MB                              13.9s\r\n",
      "Extracting  (18) ━━━━━━━━━━━━━━━━━╸\u001b[33m━━\u001b[0m     179 ruamel.yaml               2m:33.2s"
     ]
    },
    {
     "name": "stdout",
     "output_type": "stream",
     "text": [
      "\u001b[2K\u001b[1A\u001b[2K\u001b[1A\u001b[2K\u001b[0G[+] 2m:33.7s\r\n",
      "Downloading      ━━━━━━━━━━━━━━━━━━━━ 286.6MB                              13.9s\r\n",
      "Extracting  (18) ━━━━━━━━━━━━━━━━━╸\u001b[33m━━\u001b[0m     179 ruamel.yaml               2m:33.3s"
     ]
    },
    {
     "name": "stdout",
     "output_type": "stream",
     "text": [
      "\u001b[2K\u001b[1A\u001b[2K\u001b[1A\u001b[2K\u001b[0G[+] 2m:33.8s\r\n",
      "Downloading      ━━━━━━━━━━━━━━━━━━━━ 286.6MB                              13.9s\r\n",
      "Extracting  (18) ━━━━━━━━━━━━━━━━━╸\u001b[33m━━\u001b[0m     179 ruamel.yaml               2m:33.4s"
     ]
    },
    {
     "name": "stdout",
     "output_type": "stream",
     "text": [
      "\u001b[2K\u001b[1A\u001b[2K\u001b[1A\u001b[2K\u001b[0G[+] 2m:33.9s\r\n",
      "Downloading      ━━━━━━━━━━━━━━━━━━━━ 286.6MB                              13.9s\r\n",
      "Extracting  (18) ━━━━━━━━━━━━━━━━━╸\u001b[33m━━\u001b[0m     179 typing_extensions         2m:33.5s"
     ]
    },
    {
     "name": "stdout",
     "output_type": "stream",
     "text": [
      "\u001b[2K\u001b[1A\u001b[2K\u001b[1A\u001b[2K\u001b[0G[+] 2m:34.0s\r\n",
      "Downloading      ━━━━━━━━━━━━━━━━━━━━ 286.6MB                              13.9s\r\n",
      "Extracting  (18) ━━━━━━━━━━━━━━━━━╸\u001b[33m━━\u001b[0m     179 typing_extensions         2m:33.6s"
     ]
    },
    {
     "name": "stdout",
     "output_type": "stream",
     "text": [
      "\u001b[2K\u001b[1A\u001b[2K\u001b[1A\u001b[2K\u001b[0G[+] 2m:34.1s\r\n",
      "Downloading      ━━━━━━━━━━━━━━━━━━━━ 286.6MB                              13.9s\r\n",
      "Extracting  (18) ━━━━━━━━━━━━━━━━━╸\u001b[33m━━\u001b[0m     179 typing_extensions         2m:33.7s"
     ]
    },
    {
     "name": "stdout",
     "output_type": "stream",
     "text": [
      "\u001b[2K\u001b[1A\u001b[2K\u001b[1A\u001b[2K\u001b[0G[+] 2m:34.2s\r\n",
      "Downloading      ━━━━━━━━━━━━━━━━━━━━ 286.6MB                              13.9s\r\n",
      "Extracting  (18) ━━━━━━━━━━━━━━━━━╸\u001b[33m━━\u001b[0m     179 typing_extensions         2m:33.8s"
     ]
    },
    {
     "name": "stdout",
     "output_type": "stream",
     "text": [
      "\u001b[2K\u001b[1A\u001b[2K\u001b[1A\u001b[2K\u001b[0G[+] 2m:34.3s\r\n",
      "Downloading      ━━━━━━━━━━━━━━━━━━━━ 286.6MB                              13.9s\r\n",
      "Extracting  (18) ━━━━━━━━━━━━━━━━━╸\u001b[33m━━\u001b[0m     179 urllib3                   2m:33.9s"
     ]
    },
    {
     "name": "stdout",
     "output_type": "stream",
     "text": [
      "\u001b[2K\u001b[1A\u001b[2K\u001b[1A\u001b[2K\u001b[0G[+] 2m:34.4s\r\n",
      "Downloading      ━━━━━━━━━━━━━━━━━━━━ 286.6MB                              13.9s\r\n",
      "Extracting  (17) ━━━━━━━━━━━━━━━━━╸\u001b[33m━━\u001b[0m     180 urllib3                   2m:34.0s"
     ]
    },
    {
     "name": "stdout",
     "output_type": "stream",
     "text": [
      "\u001b[2K\u001b[1A\u001b[2K\u001b[1A\u001b[2K\u001b[0G[+] 2m:34.5s\r\n",
      "Downloading      ━━━━━━━━━━━━━━━━━━━━ 286.6MB                              13.9s\r\n",
      "Extracting  (17) ━━━━━━━━━━━━━━━━━╸\u001b[33m━━\u001b[0m     180 urllib3                   2m:34.1s"
     ]
    },
    {
     "name": "stdout",
     "output_type": "stream",
     "text": [
      "\u001b[2K\u001b[1A\u001b[2K\u001b[1A\u001b[2K\u001b[0G[+] 2m:34.6s\r\n",
      "Downloading      ━━━━━━━━━━━━━━━━━━━━ 286.6MB                              13.9s\r\n",
      "Extracting  (17) ━━━━━━━━━━━━━━━━━╸\u001b[33m━━\u001b[0m     180 urllib3                   2m:34.2s"
     ]
    },
    {
     "name": "stdout",
     "output_type": "stream",
     "text": [
      "\u001b[2K\u001b[1A\u001b[2K\u001b[1A\u001b[2K\u001b[0G[+] 2m:34.7s\r\n",
      "Downloading      ━━━━━━━━━━━━━━━━━━━━ 286.6MB                              13.9s\r\n",
      "Extracting  (16) ━━━━━━━━━━━━━━━━━╸\u001b[33m━━\u001b[0m     181 widgetsnbextension        2m:34.3s"
     ]
    },
    {
     "name": "stdout",
     "output_type": "stream",
     "text": [
      "\u001b[2K\u001b[1A\u001b[2K\u001b[1A\u001b[2K\u001b[0G[+] 2m:34.8s\r\n",
      "Downloading      ━━━━━━━━━━━━━━━━━━━━ 286.6MB                              13.9s\r\n",
      "Extracting  (16) ━━━━━━━━━━━━━━━━━╸\u001b[33m━━\u001b[0m     181 widgetsnbextension        2m:34.4s"
     ]
    },
    {
     "name": "stdout",
     "output_type": "stream",
     "text": [
      "\u001b[2K\u001b[1A\u001b[2K\u001b[1A\u001b[2K\u001b[0G[+] 2m:34.9s\r\n",
      "Downloading      ━━━━━━━━━━━━━━━━━━━━ 286.6MB                              13.9s\r\n",
      "Extracting  (16) ━━━━━━━━━━━━━━━━━╸\u001b[33m━━\u001b[0m     181 widgetsnbextension        2m:34.5s"
     ]
    },
    {
     "name": "stdout",
     "output_type": "stream",
     "text": [
      "\u001b[2K\u001b[1A\u001b[2K\u001b[1A\u001b[2K\u001b[0G[+] 2m:35.0s\r\n",
      "Downloading      ━━━━━━━━━━━━━━━━━━━━ 286.6MB                              13.9s\r\n"
     ]
    },
    {
     "name": "stdout",
     "output_type": "stream",
     "text": [
      "Extracting  (16) ━━━━━━━━━━━━━━━━━╸\u001b[33m━━\u001b[0m     181 widgetsnbextension        2m:34.6s"
     ]
    },
    {
     "name": "stdout",
     "output_type": "stream",
     "text": [
      "\u001b[2K\u001b[1A\u001b[2K\u001b[1A\u001b[2K\u001b[0G[+] 2m:35.1s\r\n",
      "Downloading      ━━━━━━━━━━━━━━━━━━━━ 286.6MB                              13.9s\r\n",
      "Extracting  (16) ━━━━━━━━━━━━━━━━━╸\u001b[33m━━\u001b[0m     181 xcb-util-renderutil       2m:34.7s"
     ]
    },
    {
     "name": "stdout",
     "output_type": "stream",
     "text": [
      "\u001b[2K\u001b[1A\u001b[2K\u001b[1A\u001b[2K\u001b[0G[+] 2m:35.2s\r\n",
      "Downloading      ━━━━━━━━━━━━━━━━━━━━ 286.6MB                              13.9s\r\n",
      "Extracting  (16) ━━━━━━━━━━━━━━━━━╸\u001b[33m━━\u001b[0m     181 xcb-util-renderutil       2m:34.8s"
     ]
    },
    {
     "name": "stdout",
     "output_type": "stream",
     "text": [
      "\u001b[2K\u001b[1A\u001b[2K\u001b[1A\u001b[2K\u001b[0G[+] 2m:35.3s\r\n",
      "Downloading      ━━━━━━━━━━━━━━━━━━━━ 286.6MB                              13.9s\r\n",
      "Extracting  (16) ━━━━━━━━━━━━━━━━━╸\u001b[33m━━\u001b[0m     181 xcb-util-renderutil       2m:34.9s"
     ]
    },
    {
     "name": "stdout",
     "output_type": "stream",
     "text": [
      "\u001b[2K\u001b[1A\u001b[2K\u001b[1A\u001b[2K\u001b[0G[+] 2m:35.4s\r\n",
      "Downloading      ━━━━━━━━━━━━━━━━━━━━ 286.6MB                              13.9s\r\n",
      "Extracting  (16) ━━━━━━━━━━━━━━━━━╸\u001b[33m━━\u001b[0m     181 xcb-util-renderutil       2m:35.0s"
     ]
    },
    {
     "name": "stdout",
     "output_type": "stream",
     "text": [
      "\u001b[2K\u001b[1A\u001b[2K\u001b[1A\u001b[2K\u001b[0G[+] 2m:35.5s\r\n",
      "Downloading      ━━━━━━━━━━━━━━━━━━━━ 286.6MB                              13.9s\r\n",
      "Extracting  (16) ━━━━━━━━━━━━━━━━━╸\u001b[33m━━\u001b[0m     181 xkeyboard-config          2m:35.1s"
     ]
    },
    {
     "name": "stdout",
     "output_type": "stream",
     "text": [
      "\u001b[2K\u001b[1A\u001b[2K\u001b[1A\u001b[2K\u001b[0G[+] 2m:35.6s\r\n",
      "Downloading      ━━━━━━━━━━━━━━━━━━━━ 286.6MB                              13.9s\r\n",
      "Extracting  (16) ━━━━━━━━━━━━━━━━━╸\u001b[33m━━\u001b[0m     181 xkeyboard-config          2m:35.2s"
     ]
    },
    {
     "name": "stdout",
     "output_type": "stream",
     "text": [
      "\u001b[2K\u001b[1A\u001b[2K\u001b[1A\u001b[2K\u001b[0G[+] 2m:35.7s\r\n",
      "Downloading      ━━━━━━━━━━━━━━━━━━━━ 286.6MB                              13.9s\r\n",
      "Extracting  (16) ━━━━━━━━━━━━━━━━━╸\u001b[33m━━\u001b[0m     181 xkeyboard-config          2m:35.3s"
     ]
    },
    {
     "name": "stdout",
     "output_type": "stream",
     "text": [
      "\u001b[2K\u001b[1A\u001b[2K\u001b[1A\u001b[2K\u001b[0G[+] 2m:35.8s\r\n",
      "Downloading      ━━━━━━━━━━━━━━━━━━━━ 286.6MB                              13.9s\r\n",
      "Extracting  (16) ━━━━━━━━━━━━━━━━━╸\u001b[33m━━\u001b[0m     181 xkeyboard-config          2m:35.4s"
     ]
    },
    {
     "name": "stdout",
     "output_type": "stream",
     "text": [
      "\u001b[2K\u001b[1A\u001b[2K\u001b[1A\u001b[2K\u001b[0G[+] 2m:35.9s\r\n",
      "Downloading      ━━━━━━━━━━━━━━━━━━━━ 286.6MB                              13.9s\r\n",
      "Extracting  (15) ━━━━━━━━━━━━━━━━━╸\u001b[33m━━\u001b[0m     182 beautifulsoup4            2m:35.5s"
     ]
    },
    {
     "name": "stdout",
     "output_type": "stream",
     "text": [
      "\u001b[2K\u001b[1A\u001b[2K\u001b[1A\u001b[2K\u001b[0G[+] 2m:36.0s\r\n",
      "Downloading      ━━━━━━━━━━━━━━━━━━━━ 286.6MB                              13.9s\r\n",
      "Extracting  (14) ━━━━━━━━━━━━━━━━━╸\u001b[33m━━\u001b[0m     183 bzip2                     2m:35.6s"
     ]
    },
    {
     "name": "stdout",
     "output_type": "stream",
     "text": [
      "\u001b[2K\u001b[1A\u001b[2K\u001b[1A\u001b[2K\u001b[0G[+] 2m:36.1s\r\n",
      "Downloading      ━━━━━━━━━━━━━━━━━━━━ 286.6MB                              13.9s\r\n",
      "Extracting  (14) ━━━━━━━━━━━━━━━━━╸\u001b[33m━━\u001b[0m     183 bzip2                     2m:35.7s"
     ]
    },
    {
     "name": "stdout",
     "output_type": "stream",
     "text": [
      "\u001b[2K\u001b[1A\u001b[2K\u001b[1A\u001b[2K\u001b[0G[+] 2m:36.2s\r\n",
      "Downloading      ━━━━━━━━━━━━━━━━━━━━ 286.6MB                              13.9s\r\n",
      "Extracting  (14) ━━━━━━━━━━━━━━━━━╸\u001b[33m━━\u001b[0m     183 bzip2                     2m:35.8s"
     ]
    },
    {
     "name": "stdout",
     "output_type": "stream",
     "text": [
      "\u001b[2K\u001b[1A\u001b[2K\u001b[1A\u001b[2K\u001b[0G[+] 2m:36.3s\r\n",
      "Downloading      ━━━━━━━━━━━━━━━━━━━━ 286.6MB                              13.9s\r\n",
      "Extracting  (14) ━━━━━━━━━━━━━━━━━╸\u001b[33m━━\u001b[0m     183 bzip2                     2m:35.9s"
     ]
    },
    {
     "name": "stdout",
     "output_type": "stream",
     "text": [
      "\u001b[2K\u001b[1A\u001b[2K\u001b[1A\u001b[2K\u001b[0G[+] 2m:36.4s\r\n",
      "Downloading      ━━━━━━━━━━━━━━━━━━━━ 286.6MB                              13.9s\r\n",
      "Extracting  (14) ━━━━━━━━━━━━━━━━━╸\u001b[33m━━\u001b[0m     183 dbus                      2m:36.0s"
     ]
    },
    {
     "name": "stdout",
     "output_type": "stream",
     "text": [
      "\u001b[2K\u001b[1A\u001b[2K\u001b[1A\u001b[2K\u001b[0G[+] 2m:36.5s\r\n",
      "Downloading      ━━━━━━━━━━━━━━━━━━━━ 286.6MB                              13.9s\r\n",
      "Extracting  (14) ━━━━━━━━━━━━━━━━━╸\u001b[33m━━\u001b[0m     183 dbus                      2m:36.1s"
     ]
    },
    {
     "name": "stdout",
     "output_type": "stream",
     "text": [
      "\u001b[2K\u001b[1A\u001b[2K\u001b[1A\u001b[2K\u001b[0G[+] 2m:36.6s\r\n",
      "Downloading      ━━━━━━━━━━━━━━━━━━━━ 286.6MB                              13.9s\r\n",
      "Extracting  (14) ━━━━━━━━━━━━━━━━━╸\u001b[33m━━\u001b[0m     183 dbus                      2m:36.2s"
     ]
    },
    {
     "name": "stdout",
     "output_type": "stream",
     "text": [
      "\u001b[2K\u001b[1A\u001b[2K\u001b[1A\u001b[2K\u001b[0G[+] 2m:36.7s\r\n",
      "Downloading      ━━━━━━━━━━━━━━━━━━━━ 286.6MB                              13.9s\r\n",
      "Extracting  (14) ━━━━━━━━━━━━━━━━━╸\u001b[33m━━\u001b[0m     183 dbus                      2m:36.3s"
     ]
    },
    {
     "name": "stdout",
     "output_type": "stream",
     "text": [
      "\u001b[2K\u001b[1A\u001b[2K\u001b[1A\u001b[2K\u001b[0G[+] 2m:36.8s\r\n",
      "Downloading      ━━━━━━━━━━━━━━━━━━━━ 286.6MB                              13.9s\r\n",
      "Extracting  (14) ━━━━━━━━━━━━━━━━━╸\u001b[33m━━\u001b[0m     183 ipywidgets                2m:36.4s"
     ]
    },
    {
     "name": "stdout",
     "output_type": "stream",
     "text": [
      "\u001b[2K\u001b[1A\u001b[2K\u001b[1A\u001b[2K\u001b[0G[+] 2m:36.9s\r\n",
      "Downloading      ━━━━━━━━━━━━━━━━━━━━ 286.6MB                              13.9s\r\n",
      "Extracting  (14) ━━━━━━━━━━━━━━━━━╸\u001b[33m━━\u001b[0m     183 ipywidgets                2m:36.5s"
     ]
    },
    {
     "name": "stdout",
     "output_type": "stream",
     "text": [
      "\u001b[2K\u001b[1A\u001b[2K\u001b[1A\u001b[2K\u001b[0G[+] 2m:37.0s\r\n",
      "Downloading      ━━━━━━━━━━━━━━━━━━━━ 286.6MB                              13.9s\r\n",
      "Extracting  (14) ━━━━━━━━━━━━━━━━━╸\u001b[33m━━\u001b[0m     183 ipywidgets                2m:36.6s"
     ]
    },
    {
     "name": "stdout",
     "output_type": "stream",
     "text": [
      "\u001b[2K\u001b[1A\u001b[2K\u001b[1A\u001b[2K\u001b[0G[+] 2m:37.1s\r\n",
      "Downloading      ━━━━━━━━━━━━━━━━━━━━ 286.6MB                              13.9s\r\n",
      "Extracting  (14) ━━━━━━━━━━━━━━━━━╸\u001b[33m━━\u001b[0m     183 ipywidgets                2m:36.7s"
     ]
    },
    {
     "name": "stdout",
     "output_type": "stream",
     "text": [
      "\u001b[2K\u001b[1A\u001b[2K\u001b[1A\u001b[2K\u001b[0G[+] 2m:37.2s\r\n",
      "Downloading      ━━━━━━━━━━━━━━━━━━━━ 286.6MB                              13.9s\r\n",
      "Extracting  (14) ━━━━━━━━━━━━━━━━━╸\u001b[33m━━\u001b[0m     183 libgcc-ng                 2m:36.8s"
     ]
    },
    {
     "name": "stdout",
     "output_type": "stream",
     "text": [
      "\u001b[2K\u001b[1A\u001b[2K\u001b[1A\u001b[2K\u001b[0G[+] 2m:37.3s\r\n",
      "Downloading      ━━━━━━━━━━━━━━━━━━━━ 286.6MB                              13.9s\r\n",
      "Extracting  (13) ━━━━━━━━━━━━━━━━━╸\u001b[33m━━\u001b[0m     184 libgcc-ng                 2m:36.9s"
     ]
    },
    {
     "name": "stdout",
     "output_type": "stream",
     "text": [
      "\u001b[2K\u001b[1A\u001b[2K\u001b[1A\u001b[2K\u001b[0G[+] 2m:37.4s\r\n",
      "Downloading      ━━━━━━━━━━━━━━━━━━━━ 286.6MB                              13.9s\r\n",
      "Extracting  (13) ━━━━━━━━━━━━━━━━━╸\u001b[33m━━\u001b[0m     184 libgcc-ng                 2m:37.0s"
     ]
    },
    {
     "name": "stdout",
     "output_type": "stream",
     "text": [
      "\u001b[2K\u001b[1A\u001b[2K\u001b[1A\u001b[2K\u001b[0G[+] 2m:37.5s\r\n",
      "Downloading      ━━━━━━━━━━━━━━━━━━━━ 286.6MB                              13.9s\r\n",
      "Extracting  (12) ━━━━━━━━━━━━━━━━━╸\u001b[33m━━\u001b[0m     185 libgcc-ng                 2m:37.1s"
     ]
    },
    {
     "name": "stdout",
     "output_type": "stream",
     "text": [
      "\u001b[2K\u001b[1A\u001b[2K\u001b[1A\u001b[2K\u001b[0G[+] 2m:37.6s\r\n",
      "Downloading      ━━━━━━━━━━━━━━━━━━━━ 286.6MB                              13.9s\r\n",
      "Extracting  (12) ━━━━━━━━━━━━━━━━━╸\u001b[33m━━\u001b[0m     185 libnghttp2                2m:37.2s"
     ]
    },
    {
     "name": "stdout",
     "output_type": "stream",
     "text": [
      "\u001b[2K\u001b[1A\u001b[2K\u001b[1A\u001b[2K\u001b[0G[+] 2m:37.7s\r\n",
      "Downloading      ━━━━━━━━━━━━━━━━━━━━ 286.6MB                              13.9s\r\n",
      "Extracting  (12) ━━━━━━━━━━━━━━━━━╸\u001b[33m━━\u001b[0m     185 libnghttp2                2m:37.3s"
     ]
    },
    {
     "name": "stdout",
     "output_type": "stream",
     "text": [
      "\u001b[2K\u001b[1A\u001b[2K\u001b[1A\u001b[2K\u001b[0G[+] 2m:37.8s\r\n",
      "Downloading      ━━━━━━━━━━━━━━━━━━━━ 286.6MB                              13.9s\r\n",
      "Extracting  (12) ━━━━━━━━━━━━━━━━━╸\u001b[33m━━\u001b[0m     185 libnghttp2                2m:37.4s"
     ]
    },
    {
     "name": "stdout",
     "output_type": "stream",
     "text": [
      "\u001b[2K\u001b[1A\u001b[2K\u001b[1A\u001b[2K\u001b[0G[+] 2m:37.9s\r\n",
      "Downloading      ━━━━━━━━━━━━━━━━━━━━ 286.6MB                              13.9s\r\n",
      "Extracting  (12) ━━━━━━━━━━━━━━━━━╸\u001b[33m━━\u001b[0m     185 libnghttp2                2m:37.5s"
     ]
    },
    {
     "name": "stdout",
     "output_type": "stream",
     "text": [
      "\u001b[2K\u001b[1A\u001b[2K\u001b[1A\u001b[2K\u001b[0G[+] 2m:38.0s\r\n",
      "Downloading      ━━━━━━━━━━━━━━━━━━━━ 286.6MB                              13.9s\r\n",
      "Extracting  (12) ━━━━━━━━━━━━━━━━━╸\u001b[33m━━\u001b[0m     185 libpq                     2m:37.6s"
     ]
    },
    {
     "name": "stdout",
     "output_type": "stream",
     "text": [
      "\u001b[2K\u001b[1A\u001b[2K\u001b[1A\u001b[2K\u001b[0G[+] 2m:38.1s\r\n",
      "Downloading      ━━━━━━━━━━━━━━━━━━━━ 286.6MB                              13.9s\r\n",
      "Extracting  (12) ━━━━━━━━━━━━━━━━━╸\u001b[33m━━\u001b[0m     185 libpq                     2m:37.7s"
     ]
    },
    {
     "name": "stdout",
     "output_type": "stream",
     "text": [
      "\u001b[2K\u001b[1A\u001b[2K\u001b[1A\u001b[2K\u001b[0G[+] 2m:38.2s\r\n",
      "Downloading      ━━━━━━━━━━━━━━━━━━━━ 286.6MB                              13.9s\r\n",
      "Extracting  (12) ━━━━━━━━━━━━━━━━━╸\u001b[33m━━\u001b[0m     185 libpq                     2m:37.8s"
     ]
    },
    {
     "name": "stdout",
     "output_type": "stream",
     "text": [
      "\u001b[2K\u001b[1A\u001b[2K\u001b[1A\u001b[2K\u001b[0G[+] 2m:38.3s\r\n",
      "Downloading      ━━━━━━━━━━━━━━━━━━━━ 286.6MB                              13.9s\r\n",
      "Extracting  (12) ━━━━━━━━━━━━━━━━━╸\u001b[33m━━\u001b[0m     185 libpq                     2m:37.9s"
     ]
    },
    {
     "name": "stdout",
     "output_type": "stream",
     "text": [
      "\u001b[2K\u001b[1A\u001b[2K\u001b[1A\u001b[2K\u001b[0G[+] 2m:38.4s\r\n",
      "Downloading      ━━━━━━━━━━━━━━━━━━━━ 286.6MB                              13.9s\r\n",
      "Extracting  (12) ━━━━━━━━━━━━━━━━━╸\u001b[33m━━\u001b[0m     185 lz4-c                     2m:38.0s"
     ]
    },
    {
     "name": "stdout",
     "output_type": "stream",
     "text": [
      "\u001b[2K\u001b[1A\u001b[2K\u001b[1A\u001b[2K\u001b[0G[+] 2m:38.5s\r\n",
      "Downloading      ━━━━━━━━━━━━━━━━━━━━ 286.6MB                              13.9s\r\n",
      "Extracting  (12) ━━━━━━━━━━━━━━━━━╸\u001b[33m━━\u001b[0m     185 lz4-c                     2m:38.1s"
     ]
    },
    {
     "name": "stdout",
     "output_type": "stream",
     "text": [
      "\u001b[2K\u001b[1A\u001b[2K\u001b[1A\u001b[2K\u001b[0G[+] 2m:38.6s\r\n",
      "Downloading      ━━━━━━━━━━━━━━━━━━━━ 286.6MB                              13.9s\r\n",
      "Extracting  (12) ━━━━━━━━━━━━━━━━━╸\u001b[33m━━\u001b[0m     185 lz4-c                     2m:38.2s"
     ]
    },
    {
     "name": "stdout",
     "output_type": "stream",
     "text": [
      "\u001b[2K\u001b[1A\u001b[2K\u001b[1A\u001b[2K\u001b[0G[+] 2m:38.7s\r\n",
      "Downloading      ━━━━━━━━━━━━━━━━━━━━ 286.6MB                              13.9s\r\n",
      "Extracting  (12) ━━━━━━━━━━━━━━━━━╸\u001b[33m━━\u001b[0m     185 lz4-c                     2m:38.3s"
     ]
    },
    {
     "name": "stdout",
     "output_type": "stream",
     "text": [
      "\u001b[2K\u001b[1A\u001b[2K\u001b[1A\u001b[2K\u001b[0G[+] 2m:38.8s\r\n",
      "Downloading      ━━━━━━━━━━━━━━━━━━━━ 286.6MB                              13.9s\r\n",
      "Extracting  (12) ━━━━━━━━━━━━━━━━━╸\u001b[33m━━\u001b[0m     185 matplotlib-inline         2m:38.4s"
     ]
    },
    {
     "name": "stdout",
     "output_type": "stream",
     "text": [
      "\u001b[2K\u001b[1A\u001b[2K\u001b[1A\u001b[2K\u001b[0G[+] 2m:38.9s\r\n",
      "Downloading      ━━━━━━━━━━━━━━━━━━━━ 286.6MB                              13.9s\r\n",
      "Extracting  (11) ━━━━━━━━━━━━━━━━━╸\u001b[33m━━\u001b[0m     186 bzip2                     2m:38.5s"
     ]
    },
    {
     "name": "stdout",
     "output_type": "stream",
     "text": [
      "\u001b[2K\u001b[1A\u001b[2K\u001b[1A\u001b[2K\u001b[0G[+] 2m:39.0s\r\n",
      "Downloading      ━━━━━━━━━━━━━━━━━━━━ 286.6MB                              13.9s\r\n",
      "Extracting  (11) ━━━━━━━━━━━━━━━━━╸\u001b[33m━━\u001b[0m     186 bzip2                     2m:38.6s"
     ]
    },
    {
     "name": "stdout",
     "output_type": "stream",
     "text": [
      "\u001b[2K\u001b[1A\u001b[2K\u001b[1A\u001b[2K\u001b[0G[+] 2m:39.1s\r\n",
      "Downloading      ━━━━━━━━━━━━━━━━━━━━ 286.6MB                              13.9s\r\n",
      "Extracting  (11) ━━━━━━━━━━━━━━━━━╸\u001b[33m━━\u001b[0m     186 bzip2                     2m:38.7s"
     ]
    },
    {
     "name": "stdout",
     "output_type": "stream",
     "text": [
      "\u001b[2K\u001b[1A\u001b[2K\u001b[1A\u001b[2K\u001b[0G[+] 2m:39.2s\r\n",
      "Downloading      ━━━━━━━━━━━━━━━━━━━━ 286.6MB                              13.9s\r\n",
      "Extracting  (11) ━━━━━━━━━━━━━━━━━╸\u001b[33m━━\u001b[0m     186 bzip2                     2m:38.8s"
     ]
    },
    {
     "name": "stdout",
     "output_type": "stream",
     "text": [
      "\u001b[2K\u001b[1A\u001b[2K\u001b[1A\u001b[2K\u001b[0G[+] 2m:39.3s\r\n",
      "Downloading      ━━━━━━━━━━━━━━━━━━━━ 286.6MB                              13.9s\r\n",
      "Extracting  (10) ━━━━━━━━━━━━━━━━━╸\u001b[33m━━\u001b[0m     187 dbus                      2m:38.9s"
     ]
    },
    {
     "name": "stdout",
     "output_type": "stream",
     "text": [
      "\u001b[2K\u001b[1A\u001b[2K\u001b[1A\u001b[2K\u001b[0G[+] 2m:39.4s\r\n",
      "Downloading      ━━━━━━━━━━━━━━━━━━━━ 286.6MB                              13.9s\r\n",
      "Extracting  (10) ━━━━━━━━━━━━━━━━━╸\u001b[33m━━\u001b[0m     187 dbus                      2m:39.0s"
     ]
    },
    {
     "name": "stdout",
     "output_type": "stream",
     "text": [
      "\u001b[2K\u001b[1A\u001b[2K\u001b[1A\u001b[2K\u001b[0G[+] 2m:39.5s\r\n",
      "Downloading      ━━━━━━━━━━━━━━━━━━━━ 286.6MB                              13.9s\r\n",
      "Extracting  (10) ━━━━━━━━━━━━━━━━━╸\u001b[33m━━\u001b[0m     187 dbus                      2m:39.1s"
     ]
    },
    {
     "name": "stdout",
     "output_type": "stream",
     "text": [
      "\u001b[2K\u001b[1A\u001b[2K\u001b[1A\u001b[2K\u001b[0G[+] 2m:39.6s\r\n",
      "Downloading      ━━━━━━━━━━━━━━━━━━━━ 286.6MB                              13.9s\r\n",
      "Extracting  (10) ━━━━━━━━━━━━━━━━━╸\u001b[33m━━\u001b[0m     187 dbus                      2m:39.2s"
     ]
    },
    {
     "name": "stdout",
     "output_type": "stream",
     "text": [
      "\u001b[2K\u001b[1A\u001b[2K\u001b[1A\u001b[2K\u001b[0G[+] 2m:39.7s\r\n",
      "Downloading      ━━━━━━━━━━━━━━━━━━━━ 286.6MB                              13.9s\r\n",
      "Extracting  (10) ━━━━━━━━━━━━━━━━━╸\u001b[33m━━\u001b[0m     187 ipywidgets                2m:39.3s"
     ]
    },
    {
     "name": "stdout",
     "output_type": "stream",
     "text": [
      "\u001b[2K\u001b[1A\u001b[2K\u001b[1A\u001b[2K\u001b[0G[+] 2m:39.8s\r\n",
      "Downloading      ━━━━━━━━━━━━━━━━━━━━ 286.6MB                              13.9s\r\n",
      "Extracting  (10) ━━━━━━━━━━━━━━━━━╸\u001b[33m━━\u001b[0m     187 ipywidgets                2m:39.4s"
     ]
    },
    {
     "name": "stdout",
     "output_type": "stream",
     "text": [
      "\u001b[2K\u001b[1A\u001b[2K\u001b[1A\u001b[2K\u001b[0G[+] 2m:39.9s\r\n",
      "Downloading      ━━━━━━━━━━━━━━━━━━━━ 286.6MB                              13.9s\r\n",
      "Extracting  (10) ━━━━━━━━━━━━━━━━━╸\u001b[33m━━\u001b[0m     187 ipywidgets                2m:39.5s"
     ]
    },
    {
     "name": "stdout",
     "output_type": "stream",
     "text": [
      "\u001b[2K\u001b[1A\u001b[2K\u001b[1A\u001b[2K\u001b[0G[+] 2m:40.0s\r\n",
      "Downloading      ━━━━━━━━━━━━━━━━━━━━ 286.6MB                              13.9s\r\n",
      "Extracting  (10) ━━━━━━━━━━━━━━━━━╸\u001b[33m━━\u001b[0m     187 ipywidgets                2m:39.6s"
     ]
    },
    {
     "name": "stdout",
     "output_type": "stream",
     "text": [
      "\u001b[2K\u001b[1A\u001b[2K\u001b[1A\u001b[2K\u001b[0G[+] 2m:40.1s\r\n",
      "Downloading      ━━━━━━━━━━━━━━━━━━━━ 286.6MB                              13.9s\r\n",
      "Extracting  (10) ━━━━━━━━━━━━━━━━━╸\u001b[33m━━\u001b[0m     187 libgcc-ng                 2m:39.7s"
     ]
    },
    {
     "name": "stdout",
     "output_type": "stream",
     "text": [
      "\u001b[2K\u001b[1A\u001b[2K\u001b[1A\u001b[2K\u001b[0G[+] 2m:40.2s\r\n",
      "Downloading      ━━━━━━━━━━━━━━━━━━━━ 286.6MB                              13.9s\r\n",
      "Extracting  (10) ━━━━━━━━━━━━━━━━━╸\u001b[33m━━\u001b[0m     187 libgcc-ng                 2m:39.8s"
     ]
    },
    {
     "name": "stdout",
     "output_type": "stream",
     "text": [
      "\u001b[2K\u001b[1A\u001b[2K\u001b[1A\u001b[2K\u001b[0G[+] 2m:40.3s\r\n",
      "Downloading      ━━━━━━━━━━━━━━━━━━━━ 286.6MB                              13.9s\r\n",
      "Extracting  (10) ━━━━━━━━━━━━━━━━━╸\u001b[33m━━\u001b[0m     187 libgcc-ng                 2m:39.9s"
     ]
    },
    {
     "name": "stdout",
     "output_type": "stream",
     "text": [
      "\u001b[2K\u001b[1A\u001b[2K\u001b[1A\u001b[2K\u001b[0G[+] 2m:40.4s\r\n",
      "Downloading      ━━━━━━━━━━━━━━━━━━━━ 286.6MB                              13.9s\r\n",
      "Extracting  (10) ━━━━━━━━━━━━━━━━━╸\u001b[33m━━\u001b[0m     187 libgcc-ng                 2m:40.0s"
     ]
    },
    {
     "name": "stdout",
     "output_type": "stream",
     "text": [
      "\u001b[2K\u001b[1A\u001b[2K\u001b[1A\u001b[2K\u001b[0G[+] 2m:40.5s\r\n",
      "Downloading      ━━━━━━━━━━━━━━━━━━━━ 286.6MB                              13.9s\r\n",
      "Extracting   (9) ━━━━━━━━━━━━━━━━━━╸\u001b[33m━\u001b[0m     188 libnghttp2                2m:40.1s"
     ]
    },
    {
     "name": "stdout",
     "output_type": "stream",
     "text": [
      "\u001b[2K\u001b[1A\u001b[2K\u001b[1A\u001b[2K\u001b[0G[+] 2m:40.6s\r\n",
      "Downloading      ━━━━━━━━━━━━━━━━━━━━ 286.6MB                              13.9s\r\n",
      "Extracting   (8) ━━━━━━━━━━━━━━━━━━╸\u001b[33m━\u001b[0m     189 libnghttp2                2m:40.2s"
     ]
    },
    {
     "name": "stdout",
     "output_type": "stream",
     "text": [
      "\u001b[2K\u001b[1A\u001b[2K\u001b[1A\u001b[2K\u001b[0G[+] 2m:40.7s\r\n",
      "Downloading      ━━━━━━━━━━━━━━━━━━━━ 286.6MB                              13.9s\r\n",
      "Extracting   (8) ━━━━━━━━━━━━━━━━━━╸\u001b[33m━\u001b[0m     189 libnghttp2                2m:40.3s"
     ]
    },
    {
     "name": "stdout",
     "output_type": "stream",
     "text": [
      "\u001b[2K\u001b[1A\u001b[2K\u001b[1A\u001b[2K\u001b[0G[+] 2m:40.8s\r\n",
      "Downloading      ━━━━━━━━━━━━━━━━━━━━ 286.6MB                              13.9s\r\n",
      "Extracting   (8) ━━━━━━━━━━━━━━━━━━╸\u001b[33m━\u001b[0m     189 libnghttp2                2m:40.4s"
     ]
    },
    {
     "name": "stdout",
     "output_type": "stream",
     "text": [
      "\u001b[2K\u001b[1A\u001b[2K\u001b[1A\u001b[2K\u001b[0G[+] 2m:40.9s\r\n",
      "Downloading      ━━━━━━━━━━━━━━━━━━━━ 286.6MB                              13.9s\r\n",
      "Extracting   (8) ━━━━━━━━━━━━━━━━━━╸\u001b[33m━\u001b[0m     189 libpq                     2m:40.5s"
     ]
    },
    {
     "name": "stdout",
     "output_type": "stream",
     "text": [
      "\u001b[2K\u001b[1A\u001b[2K\u001b[1A\u001b[2K\u001b[0G[+] 2m:41.0s\r\n",
      "Downloading      ━━━━━━━━━━━━━━━━━━━━ 286.6MB                              13.9s\r\n",
      "Extracting   (8) ━━━━━━━━━━━━━━━━━━╸\u001b[33m━\u001b[0m     189 libpq                     2m:40.6s"
     ]
    },
    {
     "name": "stdout",
     "output_type": "stream",
     "text": [
      "\u001b[2K\u001b[1A\u001b[2K\u001b[1A\u001b[2K\u001b[0G[+] 2m:41.1s\r\n",
      "Downloading      ━━━━━━━━━━━━━━━━━━━━ 286.6MB                              13.9s\r\n",
      "Extracting   (8) ━━━━━━━━━━━━━━━━━━╸\u001b[33m━\u001b[0m     189 libpq                     2m:40.7s"
     ]
    },
    {
     "name": "stdout",
     "output_type": "stream",
     "text": [
      "\u001b[2K\u001b[1A\u001b[2K\u001b[1A\u001b[2K\u001b[0G[+] 2m:41.2s\r\n",
      "Downloading      ━━━━━━━━━━━━━━━━━━━━ 286.6MB                              13.9s\r\n",
      "Extracting   (8) ━━━━━━━━━━━━━━━━━━╸\u001b[33m━\u001b[0m     189 libpq                     2m:40.8s"
     ]
    },
    {
     "name": "stdout",
     "output_type": "stream",
     "text": [
      "\u001b[2K\u001b[1A\u001b[2K\u001b[1A\u001b[2K\u001b[0G[+] 2m:41.3s\r\n",
      "Downloading      ━━━━━━━━━━━━━━━━━━━━ 286.6MB                              13.9s\r\n",
      "Extracting   (8) ━━━━━━━━━━━━━━━━━━╸\u001b[33m━\u001b[0m     189 lz4-c                     2m:40.9s"
     ]
    },
    {
     "name": "stdout",
     "output_type": "stream",
     "text": [
      "\u001b[2K\u001b[1A\u001b[2K\u001b[1A\u001b[2K\u001b[0G[+] 2m:41.4s\r\n",
      "Downloading      ━━━━━━━━━━━━━━━━━━━━ 286.6MB                              13.9s\r\n",
      "Extracting   (8) ━━━━━━━━━━━━━━━━━━╸\u001b[33m━\u001b[0m     189 lz4-c                     2m:41.0s"
     ]
    },
    {
     "name": "stdout",
     "output_type": "stream",
     "text": [
      "\u001b[2K\u001b[1A\u001b[2K\u001b[1A\u001b[2K\u001b[0G[+] 2m:41.5s\r\n",
      "Downloading      ━━━━━━━━━━━━━━━━━━━━ 286.6MB                              13.9s\r\n",
      "Extracting   (8) ━━━━━━━━━━━━━━━━━━╸\u001b[33m━\u001b[0m     189 lz4-c                     2m:41.1s"
     ]
    },
    {
     "name": "stdout",
     "output_type": "stream",
     "text": [
      "\u001b[2K\u001b[1A\u001b[2K\u001b[1A\u001b[2K\u001b[0G[+] 2m:41.6s\r\n",
      "Downloading      ━━━━━━━━━━━━━━━━━━━━ 286.6MB                              13.9s\r\n",
      "Extracting   (8) ━━━━━━━━━━━━━━━━━━╸\u001b[33m━\u001b[0m     189 lz4-c                     2m:41.2s"
     ]
    },
    {
     "name": "stdout",
     "output_type": "stream",
     "text": [
      "\u001b[2K\u001b[1A\u001b[2K\u001b[1A\u001b[2K\u001b[0G[+] 2m:41.7s\r\n",
      "Downloading      ━━━━━━━━━━━━━━━━━━━━ 286.6MB                              13.9s\r\n",
      "Extracting   (8) ━━━━━━━━━━━━━━━━━━╸\u001b[33m━\u001b[0m     189 prometheus_client         2m:41.3s"
     ]
    },
    {
     "name": "stdout",
     "output_type": "stream",
     "text": [
      "\u001b[2K\u001b[1A\u001b[2K\u001b[1A\u001b[2K\u001b[0G[+] 2m:41.8s\r\n",
      "Downloading      ━━━━━━━━━━━━━━━━━━━━ 286.6MB                              13.9s\r\n",
      "Extracting   (8) ━━━━━━━━━━━━━━━━━━╸\u001b[33m━\u001b[0m     189 prometheus_client         2m:41.4s"
     ]
    },
    {
     "name": "stdout",
     "output_type": "stream",
     "text": [
      "\u001b[2K\u001b[1A\u001b[2K\u001b[1A\u001b[2K\u001b[0G[+] 2m:41.9s\r\n",
      "Downloading      ━━━━━━━━━━━━━━━━━━━━ 286.6MB                              13.9s\r\n",
      "Extracting   (8) ━━━━━━━━━━━━━━━━━━╸\u001b[33m━\u001b[0m     189 prometheus_client         2m:41.5s"
     ]
    },
    {
     "name": "stdout",
     "output_type": "stream",
     "text": [
      "\u001b[2K\u001b[1A\u001b[2K\u001b[1A\u001b[2K\u001b[0G[+] 2m:42.0s\r\n",
      "Downloading      ━━━━━━━━━━━━━━━━━━━━ 286.6MB                              13.9s\r\n",
      "Extracting   (7) ━━━━━━━━━━━━━━━━━━╸\u001b[33m━\u001b[0m     190 prometheus_client         2m:41.6s"
     ]
    },
    {
     "name": "stdout",
     "output_type": "stream",
     "text": [
      "\u001b[2K\u001b[1A\u001b[2K\u001b[1A\u001b[2K\u001b[0G[+] 2m:42.1s\r\n",
      "Downloading      ━━━━━━━━━━━━━━━━━━━━ 286.6MB                              13.9s\r\n",
      "Extracting   (6) ━━━━━━━━━━━━━━━━━━╸\u001b[33m━\u001b[0m     191 xkeyboard-config          2m:41.7s"
     ]
    },
    {
     "name": "stdout",
     "output_type": "stream",
     "text": [
      "\u001b[2K\u001b[1A\u001b[2K\u001b[1A\u001b[2K\u001b[0G[+] 2m:42.2s\r\n",
      "Downloading      ━━━━━━━━━━━━━━━━━━━━ 286.6MB                              13.9s\r\n",
      "Extracting   (6) ━━━━━━━━━━━━━━━━━━╸\u001b[33m━\u001b[0m     191 xkeyboard-config          2m:41.8s"
     ]
    },
    {
     "name": "stdout",
     "output_type": "stream",
     "text": [
      "\u001b[2K\u001b[1A\u001b[2K\u001b[1A\u001b[2K\u001b[0G[+] 2m:42.3s\r\n",
      "Downloading      ━━━━━━━━━━━━━━━━━━━━ 286.6MB                              13.9s\r\n",
      "Extracting   (6) ━━━━━━━━━━━━━━━━━━╸\u001b[33m━\u001b[0m     191 xkeyboard-config          2m:41.9s"
     ]
    },
    {
     "name": "stdout",
     "output_type": "stream",
     "text": [
      "\u001b[2K\u001b[1A\u001b[2K\u001b[1A\u001b[2K\u001b[0G[+] 2m:42.4s\r\n",
      "Downloading      ━━━━━━━━━━━━━━━━━━━━ 286.6MB                              13.9s\r\n",
      "Extracting   (6) ━━━━━━━━━━━━━━━━━━╸\u001b[33m━\u001b[0m     191 xkeyboard-config          2m:42.0s"
     ]
    },
    {
     "name": "stdout",
     "output_type": "stream",
     "text": [
      "\u001b[2K\u001b[1A\u001b[2K\u001b[1A\u001b[2K\u001b[0G[+] 2m:42.5s\r\n",
      "Downloading      ━━━━━━━━━━━━━━━━━━━━ 286.6MB                              13.9s\r\n",
      "Extracting   (6) ━━━━━━━━━━━━━━━━━━╸\u001b[33m━\u001b[0m     191 ipywidgets                2m:42.1s"
     ]
    },
    {
     "name": "stdout",
     "output_type": "stream",
     "text": [
      "\u001b[2K\u001b[1A\u001b[2K\u001b[1A\u001b[2K\u001b[0G[+] 2m:42.6s\r\n",
      "Downloading      ━━━━━━━━━━━━━━━━━━━━ 286.6MB                              13.9s\r\n",
      "Extracting   (6) ━━━━━━━━━━━━━━━━━━╸\u001b[33m━\u001b[0m     191 ipywidgets                2m:42.2s"
     ]
    },
    {
     "name": "stdout",
     "output_type": "stream",
     "text": [
      "\u001b[2K\u001b[1A\u001b[2K\u001b[1A\u001b[2K\u001b[0G[+] 2m:42.7s\r\n",
      "Downloading      ━━━━━━━━━━━━━━━━━━━━ 286.6MB                              13.9s\r\n",
      "Extracting   (6) ━━━━━━━━━━━━━━━━━━╸\u001b[33m━\u001b[0m     191 ipywidgets                2m:42.3s"
     ]
    },
    {
     "name": "stdout",
     "output_type": "stream",
     "text": [
      "\u001b[2K\u001b[1A\u001b[2K\u001b[1A\u001b[2K\u001b[0G[+] 2m:42.8s\r\n",
      "Downloading      ━━━━━━━━━━━━━━━━━━━━ 286.6MB                              13.9s\r\n",
      "Extracting   (6) ━━━━━━━━━━━━━━━━━━╸\u001b[33m━\u001b[0m     191 ipywidgets                2m:42.4s"
     ]
    },
    {
     "name": "stdout",
     "output_type": "stream",
     "text": [
      "\u001b[2K\u001b[1A\u001b[2K\u001b[1A\u001b[2K\u001b[0G[+] 2m:42.9s\r\n",
      "Downloading      ━━━━━━━━━━━━━━━━━━━━ 286.6MB                              13.9s\r\n",
      "Extracting   (6) ━━━━━━━━━━━━━━━━━━╸\u001b[33m━\u001b[0m     191 libgcc-ng                 2m:42.5s"
     ]
    },
    {
     "name": "stdout",
     "output_type": "stream",
     "text": [
      "\u001b[2K\u001b[1A\u001b[2K\u001b[1A\u001b[2K\u001b[0G[+] 2m:43.0s\r\n",
      "Downloading      ━━━━━━━━━━━━━━━━━━━━ 286.6MB                              13.9s\r\n",
      "Extracting   (6) ━━━━━━━━━━━━━━━━━━╸\u001b[33m━\u001b[0m     191 libgcc-ng                 2m:42.6s"
     ]
    },
    {
     "name": "stdout",
     "output_type": "stream",
     "text": [
      "\u001b[2K\u001b[1A\u001b[2K\u001b[1A\u001b[2K\u001b[0G[+] 2m:43.1s\r\n",
      "Downloading      ━━━━━━━━━━━━━━━━━━━━ 286.6MB                              13.9s\r\n",
      "Extracting   (6) ━━━━━━━━━━━━━━━━━━╸\u001b[33m━\u001b[0m     191 libgcc-ng                 2m:42.7s"
     ]
    },
    {
     "name": "stdout",
     "output_type": "stream",
     "text": [
      "\u001b[2K\u001b[1A\u001b[2K\u001b[1A\u001b[2K\u001b[0G[+] 2m:43.2s\r\n",
      "Downloading      ━━━━━━━━━━━━━━━━━━━━ 286.6MB                              13.9s\r\n",
      "Extracting   (6) ━━━━━━━━━━━━━━━━━━╸\u001b[33m━\u001b[0m     191 libgcc-ng                 2m:42.8s"
     ]
    },
    {
     "name": "stdout",
     "output_type": "stream",
     "text": [
      "\u001b[2K\u001b[1A\u001b[2K\u001b[1A\u001b[2K\u001b[0G[+] 2m:43.3s\r\n",
      "Downloading      ━━━━━━━━━━━━━━━━━━━━ 286.6MB                              13.9s\r\n",
      "Extracting   (6) ━━━━━━━━━━━━━━━━━━╸\u001b[33m━\u001b[0m     191 libnghttp2                2m:42.9s"
     ]
    },
    {
     "name": "stdout",
     "output_type": "stream",
     "text": [
      "\u001b[2K\u001b[1A\u001b[2K\u001b[1A\u001b[2K\u001b[0G[+] 2m:43.4s\r\n",
      "Downloading      ━━━━━━━━━━━━━━━━━━━━ 286.6MB                              13.9s\r\n",
      "Extracting   (6) ━━━━━━━━━━━━━━━━━━╸\u001b[33m━\u001b[0m     191 libnghttp2                2m:43.0s"
     ]
    },
    {
     "name": "stdout",
     "output_type": "stream",
     "text": [
      "\u001b[2K\u001b[1A\u001b[2K\u001b[1A\u001b[2K\u001b[0G[+] 2m:43.5s\r\n",
      "Downloading      ━━━━━━━━━━━━━━━━━━━━ 286.6MB                              13.9s\r\n",
      "Extracting   (5) ━━━━━━━━━━━━━━━━━━╸\u001b[33m━\u001b[0m     192 libnghttp2                2m:43.1s"
     ]
    },
    {
     "name": "stdout",
     "output_type": "stream",
     "text": [
      "\u001b[2K\u001b[1A\u001b[2K\u001b[1A\u001b[2K\u001b[0G[+] 2m:43.6s\r\n",
      "Downloading      ━━━━━━━━━━━━━━━━━━━━ 286.6MB                              13.9s\r\n",
      "Extracting   (5) ━━━━━━━━━━━━━━━━━━╸\u001b[33m━\u001b[0m     192 libnghttp2                2m:43.2s"
     ]
    },
    {
     "name": "stdout",
     "output_type": "stream",
     "text": [
      "\u001b[2K\u001b[1A\u001b[2K\u001b[1A\u001b[2K\u001b[0G[+] 2m:43.7s\r\n",
      "Downloading      ━━━━━━━━━━━━━━━━━━━━ 286.6MB                              13.9s\r\n",
      "Extracting   (5) ━━━━━━━━━━━━━━━━━━╸\u001b[33m━\u001b[0m     192 prometheus_client         2m:43.3s"
     ]
    },
    {
     "name": "stdout",
     "output_type": "stream",
     "text": [
      "\u001b[2K\u001b[1A\u001b[2K\u001b[1A\u001b[2K\u001b[0G[+] 2m:43.8s\r\n",
      "Downloading      ━━━━━━━━━━━━━━━━━━━━ 286.6MB                              13.9s\r\n",
      "Extracting   (4) ━━━━━━━━━━━━━━━━━━╸\u001b[33m━\u001b[0m     193 prometheus_client         2m:43.4s"
     ]
    },
    {
     "name": "stdout",
     "output_type": "stream",
     "text": [
      "\u001b[2K\u001b[1A\u001b[2K\u001b[1A\u001b[2K\u001b[0G[+] 2m:43.9s\r\n",
      "Downloading      ━━━━━━━━━━━━━━━━━━━━ 286.6MB                              13.9s\r\n",
      "Extracting   (4) ━━━━━━━━━━━━━━━━━━╸\u001b[33m━\u001b[0m     193 prometheus_client         2m:43.5s"
     ]
    },
    {
     "name": "stdout",
     "output_type": "stream",
     "text": [
      "\u001b[2K\u001b[1A\u001b[2K\u001b[1A\u001b[2K\u001b[0G[+] 2m:44.0s\r\n",
      "Downloading      ━━━━━━━━━━━━━━━━━━━━ 286.6MB                              13.9s\r\n",
      "Extracting   (4) ━━━━━━━━━━━━━━━━━━╸\u001b[33m━\u001b[0m     193 prometheus_client         2m:43.6s"
     ]
    },
    {
     "name": "stdout",
     "output_type": "stream",
     "text": [
      "\u001b[2K\u001b[1A\u001b[2K\u001b[1A\u001b[2K\u001b[0G[+] 2m:44.1s\r\n",
      "Downloading      ━━━━━━━━━━━━━━━━━━━━ 286.6MB                              13.9s\r\n",
      "Extracting   (4) ━━━━━━━━━━━━━━━━━━╸\u001b[33m━\u001b[0m     193 xkeyboard-config          2m:43.7s"
     ]
    },
    {
     "name": "stdout",
     "output_type": "stream",
     "text": [
      "\u001b[2K\u001b[1A\u001b[2K\u001b[1A\u001b[2K\u001b[0G[+] 2m:44.2s\r\n",
      "Downloading      ━━━━━━━━━━━━━━━━━━━━ 286.6MB                              13.9s\r\n",
      "Extracting   (4) ━━━━━━━━━━━━━━━━━━╸\u001b[33m━\u001b[0m     193 xkeyboard-config          2m:43.8s"
     ]
    },
    {
     "name": "stdout",
     "output_type": "stream",
     "text": [
      "\u001b[2K\u001b[1A\u001b[2K\u001b[1A\u001b[2K\u001b[0G[+] 2m:44.3s\r\n",
      "Downloading      ━━━━━━━━━━━━━━━━━━━━ 286.6MB                              13.9s\r\n",
      "Extracting   (4) ━━━━━━━━━━━━━━━━━━╸\u001b[33m━\u001b[0m     193 xkeyboard-config          2m:43.9s"
     ]
    },
    {
     "name": "stdout",
     "output_type": "stream",
     "text": [
      "\u001b[2K\u001b[1A\u001b[2K\u001b[1A\u001b[2K\u001b[0G[+] 2m:44.4s\r\n",
      "Downloading      ━━━━━━━━━━━━━━━━━━━━ 286.6MB                              13.9s\r\n",
      "Extracting   (4) ━━━━━━━━━━━━━━━━━━╸\u001b[33m━\u001b[0m     193 xkeyboard-config          2m:44.0s"
     ]
    },
    {
     "name": "stdout",
     "output_type": "stream",
     "text": [
      "\u001b[2K\u001b[1A\u001b[2K\u001b[1A\u001b[2K\u001b[0G[+] 2m:44.5s\r\n",
      "Downloading      ━━━━━━━━━━━━━━━━━━━━ 286.6MB                              13.9s\r\n",
      "Extracting   (4) ━━━━━━━━━━━━━━━━━━╸\u001b[33m━\u001b[0m     193 ipywidgets                2m:44.1s"
     ]
    },
    {
     "name": "stdout",
     "output_type": "stream",
     "text": [
      "\u001b[2K\u001b[1A\u001b[2K\u001b[1A\u001b[2K\u001b[0G[+] 2m:44.6s\r\n",
      "Downloading      ━━━━━━━━━━━━━━━━━━━━ 286.6MB                              13.9s\r\n",
      "Extracting   (4) ━━━━━━━━━━━━━━━━━━╸\u001b[33m━\u001b[0m     193 ipywidgets                2m:44.2s"
     ]
    },
    {
     "name": "stdout",
     "output_type": "stream",
     "text": [
      "\u001b[2K\u001b[1A\u001b[2K\u001b[1A\u001b[2K\u001b[0G[+] 2m:44.7s\r\n",
      "Downloading      ━━━━━━━━━━━━━━━━━━━━ 286.6MB                              13.9s\r\n",
      "Extracting   (4) ━━━━━━━━━━━━━━━━━━╸\u001b[33m━\u001b[0m     193 ipywidgets                2m:44.3s"
     ]
    },
    {
     "name": "stdout",
     "output_type": "stream",
     "text": [
      "\u001b[2K\u001b[1A\u001b[2K\u001b[1A\u001b[2K\u001b[0G[+] 2m:44.8s\r\n",
      "Downloading      ━━━━━━━━━━━━━━━━━━━━ 286.6MB                              13.9s\r\n",
      "Extracting   (4) ━━━━━━━━━━━━━━━━━━╸\u001b[33m━\u001b[0m     193 ipywidgets                2m:44.4s"
     ]
    },
    {
     "name": "stdout",
     "output_type": "stream",
     "text": [
      "\u001b[2K\u001b[1A\u001b[2K\u001b[1A\u001b[2K\u001b[0G[+] 2m:44.9s\r\n",
      "Downloading      ━━━━━━━━━━━━━━━━━━━━ 286.6MB                              13.9s\r\n",
      "Extracting   (3) ━━━━━━━━━━━━━━━━━━╸\u001b[33m━\u001b[0m     194 libnghttp2                2m:44.5s"
     ]
    },
    {
     "name": "stdout",
     "output_type": "stream",
     "text": [
      "\u001b[2K\u001b[1A\u001b[2K\u001b[1A\u001b[2K\u001b[0G[+] 2m:45.0s\r\n",
      "Downloading      ━━━━━━━━━━━━━━━━━━━━ 286.6MB                              13.9s\r\n",
      "Extracting   (3) ━━━━━━━━━━━━━━━━━━╸\u001b[33m━\u001b[0m     194 libnghttp2                2m:44.6s"
     ]
    },
    {
     "name": "stdout",
     "output_type": "stream",
     "text": [
      "\u001b[2K\u001b[1A\u001b[2K\u001b[1A\u001b[2K\u001b[0G[+] 2m:45.1s\r\n",
      "Downloading      ━━━━━━━━━━━━━━━━━━━━ 286.6MB                              13.9s\r\n",
      "Extracting   (2) ━━━━━━━━━━━━━━━━━━╸\u001b[33m━\u001b[0m     195 libnghttp2                2m:44.7s"
     ]
    },
    {
     "name": "stdout",
     "output_type": "stream",
     "text": [
      "\u001b[2K\u001b[1A\u001b[2K\u001b[1A\u001b[2K\u001b[0G[+] 2m:45.2s\r\n",
      "Downloading      ━━━━━━━━━━━━━━━━━━━━ 286.6MB                              13.9s\r\n",
      "Extracting   (2) ━━━━━━━━━━━━━━━━━━╸\u001b[33m━\u001b[0m     195 libnghttp2                2m:44.8s"
     ]
    },
    {
     "name": "stdout",
     "output_type": "stream",
     "text": [
      "\u001b[2K\u001b[1A\u001b[2K\u001b[1A\u001b[2K\u001b[0G[+] 2m:45.3s\r\n",
      "Downloading      ━━━━━━━━━━━━━━━━━━━━ 286.6MB                              13.9s\r\n",
      "Extracting   (2) ━━━━━━━━━━━━━━━━━━╸\u001b[33m━\u001b[0m     195 ipywidgets                2m:44.9s"
     ]
    },
    {
     "name": "stdout",
     "output_type": "stream",
     "text": [
      "\u001b[2K\u001b[1A\u001b[2K\u001b[1A\u001b[2K\u001b[0G[+] 2m:45.4s\r\n",
      "Downloading      ━━━━━━━━━━━━━━━━━━━━ 286.6MB                              13.9s\r\n",
      "Extracting   (2) ━━━━━━━━━━━━━━━━━━╸\u001b[33m━\u001b[0m     195 ipywidgets                2m:45.0s"
     ]
    },
    {
     "name": "stdout",
     "output_type": "stream",
     "text": [
      "\u001b[2K\u001b[1A\u001b[2K\u001b[1A\u001b[2K\u001b[0G[+] 2m:45.5s\r\n",
      "Downloading      ━━━━━━━━━━━━━━━━━━━━ 286.6MB                              13.9s\r\n",
      "Extracting   (2) ━━━━━━━━━━━━━━━━━━╸\u001b[33m━\u001b[0m     195 ipywidgets                2m:45.1s"
     ]
    },
    {
     "name": "stdout",
     "output_type": "stream",
     "text": [
      "\u001b[2K\u001b[1A\u001b[2K\u001b[1A\u001b[2K\u001b[0G[+] 2m:45.6s\r\n",
      "Downloading      ━━━━━━━━━━━━━━━━━━━━ 286.6MB                              13.9s\r\n",
      "Extracting   (2) ━━━━━━━━━━━━━━━━━━╸\u001b[33m━\u001b[0m     195 ipywidgets                2m:45.2s"
     ]
    },
    {
     "name": "stdout",
     "output_type": "stream",
     "text": [
      "\u001b[2K\u001b[1A\u001b[2K\u001b[1A\u001b[2K\u001b[0G[+] 2m:45.7s\r\n",
      "Downloading      ━━━━━━━━━━━━━━━━━━━━ 286.6MB                              13.9s\r\n",
      "Extracting   (2) ━━━━━━━━━━━━━━━━━━╸\u001b[33m━\u001b[0m     195 libnghttp2                2m:45.3s"
     ]
    },
    {
     "name": "stdout",
     "output_type": "stream",
     "text": [
      "\u001b[2K\u001b[1A\u001b[2K\u001b[1A\u001b[2K\u001b[0G[+] 2m:45.8s\r\n",
      "Downloading      ━━━━━━━━━━━━━━━━━━━━ 286.6MB                              13.9s\r\n",
      "Extracting   (2) ━━━━━━━━━━━━━━━━━━╸\u001b[33m━\u001b[0m     195 libnghttp2                2m:45.4s"
     ]
    },
    {
     "name": "stdout",
     "output_type": "stream",
     "text": [
      "\u001b[2K\u001b[1A\u001b[2K\u001b[1A\u001b[2K\u001b[0G[+] 2m:45.9s\r\n",
      "Downloading      ━━━━━━━━━━━━━━━━━━━━ 286.6MB                              13.9s\r\n",
      "Extracting   (2) ━━━━━━━━━━━━━━━━━━╸\u001b[33m━\u001b[0m     195 libnghttp2                2m:45.5s"
     ]
    },
    {
     "name": "stdout",
     "output_type": "stream",
     "text": [
      "\u001b[2K\u001b[1A\u001b[2K\u001b[1A\u001b[2K\u001b[0G[+] 2m:46.0s\r\n",
      "Downloading      ━━━━━━━━━━━━━━━━━━━━ 286.6MB                              13.9s\r\n",
      "Extracting   (2) ━━━━━━━━━━━━━━━━━━╸\u001b[33m━\u001b[0m     195 libnghttp2                2m:45.6s"
     ]
    },
    {
     "name": "stdout",
     "output_type": "stream",
     "text": [
      "\u001b[2K\u001b[1A\u001b[2K\u001b[1A\u001b[2K\u001b[0G[+] 2m:46.1s\r\n",
      "Downloading      ━━━━━━━━━━━━━━━━━━━━ 286.6MB                              13.9s\r\n",
      "Extracting   (2) ━━━━━━━━━━━━━━━━━━╸\u001b[33m━\u001b[0m     195 ipywidgets                2m:45.7s"
     ]
    },
    {
     "name": "stdout",
     "output_type": "stream",
     "text": [
      "\u001b[2K\u001b[1A\u001b[2K\u001b[1A\u001b[2K\u001b[0G[+] 2m:46.2s\r\n",
      "Downloading      ━━━━━━━━━━━━━━━━━━━━ 286.6MB                              13.9s\r\n",
      "Extracting   (2) ━━━━━━━━━━━━━━━━━━╸\u001b[33m━\u001b[0m     195 ipywidgets                2m:45.8s"
     ]
    },
    {
     "name": "stdout",
     "output_type": "stream",
     "text": [
      "\u001b[2K\u001b[1A\u001b[2K\u001b[1A\u001b[2K\u001b[0G[+] 2m:46.3s\r\n",
      "Downloading      ━━━━━━━━━━━━━━━━━━━━ 286.6MB                              13.9s\r\n",
      "Extracting   (1) ━━━━━━━━━━━━━━━━━━╸\u001b[33m━\u001b[0m     196 libnghttp2                2m:45.9s"
     ]
    },
    {
     "name": "stdout",
     "output_type": "stream",
     "text": [
      "\u001b[2K\u001b[1A\u001b[2K\u001b[1A\u001b[2K\u001b[0G[+] 2m:46.4s\r\n",
      "Downloading      ━━━━━━━━━━━━━━━━━━━━ 286.6MB                              13.9s\r\n",
      "Extracting   (1) ━━━━━━━━━━━━━━━━━━╸\u001b[33m━\u001b[0m     196 libnghttp2                2m:46.0s"
     ]
    },
    {
     "name": "stdout",
     "output_type": "stream",
     "text": [
      "\u001b[2K\u001b[1A\u001b[2K\u001b[1A\u001b[2K\u001b[0G[+] 2m:46.5s\r\n",
      "Downloading      ━━━━━━━━━━━━━━━━━━━━ 286.6MB                              13.9s\r\n",
      "Extracting   (1) ━━━━━━━━━━━━━━━━━━╸\u001b[33m━\u001b[0m     196 libnghttp2                2m:46.1s"
     ]
    },
    {
     "name": "stdout",
     "output_type": "stream",
     "text": [
      "\u001b[2K\u001b[1A\u001b[2K\u001b[1A\u001b[2K\u001b[0G\u001b[?25h"
     ]
    },
    {
     "name": "stdout",
     "output_type": "stream",
     "text": [
      "Preparing transaction: - "
     ]
    },
    {
     "name": "stdout",
     "output_type": "stream",
     "text": [
      "\b\b\\ "
     ]
    },
    {
     "name": "stdout",
     "output_type": "stream",
     "text": [
      "\b\b| "
     ]
    },
    {
     "name": "stdout",
     "output_type": "stream",
     "text": [
      "\b\b/ "
     ]
    },
    {
     "name": "stdout",
     "output_type": "stream",
     "text": [
      "\b\b- "
     ]
    },
    {
     "name": "stdout",
     "output_type": "stream",
     "text": [
      "\b\b\\ "
     ]
    },
    {
     "name": "stdout",
     "output_type": "stream",
     "text": [
      "\b\b| "
     ]
    },
    {
     "name": "stdout",
     "output_type": "stream",
     "text": [
      "\b\b/ "
     ]
    },
    {
     "name": "stdout",
     "output_type": "stream",
     "text": [
      "\b\b- "
     ]
    },
    {
     "name": "stdout",
     "output_type": "stream",
     "text": [
      "\b\b\\ "
     ]
    },
    {
     "name": "stdout",
     "output_type": "stream",
     "text": [
      "\b\b| "
     ]
    },
    {
     "name": "stdout",
     "output_type": "stream",
     "text": [
      "\b\b/ "
     ]
    },
    {
     "name": "stdout",
     "output_type": "stream",
     "text": [
      "\b\b- "
     ]
    },
    {
     "name": "stdout",
     "output_type": "stream",
     "text": [
      "\b\b\\ "
     ]
    },
    {
     "name": "stdout",
     "output_type": "stream",
     "text": [
      "\b\b| "
     ]
    },
    {
     "name": "stdout",
     "output_type": "stream",
     "text": [
      "\b\b/ "
     ]
    },
    {
     "name": "stdout",
     "output_type": "stream",
     "text": [
      "\b\b- "
     ]
    },
    {
     "name": "stdout",
     "output_type": "stream",
     "text": [
      "\b\b\\ "
     ]
    },
    {
     "name": "stdout",
     "output_type": "stream",
     "text": [
      "\b\b| "
     ]
    },
    {
     "name": "stdout",
     "output_type": "stream",
     "text": [
      "\b\b/ "
     ]
    },
    {
     "name": "stdout",
     "output_type": "stream",
     "text": [
      "\b\b- "
     ]
    },
    {
     "name": "stdout",
     "output_type": "stream",
     "text": [
      "\b\b\\ "
     ]
    },
    {
     "name": "stdout",
     "output_type": "stream",
     "text": [
      "\b\b| "
     ]
    },
    {
     "name": "stdout",
     "output_type": "stream",
     "text": [
      "\b\b/ "
     ]
    },
    {
     "name": "stdout",
     "output_type": "stream",
     "text": [
      "\b\b- "
     ]
    },
    {
     "name": "stdout",
     "output_type": "stream",
     "text": [
      "\b\b\\ "
     ]
    },
    {
     "name": "stdout",
     "output_type": "stream",
     "text": [
      "\b\bdone\r\n",
      "Verifying transaction: / "
     ]
    },
    {
     "name": "stdout",
     "output_type": "stream",
     "text": [
      "\b\b- "
     ]
    },
    {
     "name": "stdout",
     "output_type": "stream",
     "text": [
      "\b\b\\ "
     ]
    },
    {
     "name": "stdout",
     "output_type": "stream",
     "text": [
      "\b\b| "
     ]
    },
    {
     "name": "stdout",
     "output_type": "stream",
     "text": [
      "\b\b/ "
     ]
    },
    {
     "name": "stdout",
     "output_type": "stream",
     "text": [
      "\b\b- "
     ]
    },
    {
     "name": "stdout",
     "output_type": "stream",
     "text": [
      "\b\b\\ "
     ]
    },
    {
     "name": "stdout",
     "output_type": "stream",
     "text": [
      "\b\b| "
     ]
    },
    {
     "name": "stdout",
     "output_type": "stream",
     "text": [
      "\b\b/ "
     ]
    },
    {
     "name": "stdout",
     "output_type": "stream",
     "text": [
      "\b\b- "
     ]
    },
    {
     "name": "stdout",
     "output_type": "stream",
     "text": [
      "\b\b\\ "
     ]
    },
    {
     "name": "stdout",
     "output_type": "stream",
     "text": [
      "\b\b| "
     ]
    },
    {
     "name": "stdout",
     "output_type": "stream",
     "text": [
      "\b\b/ "
     ]
    },
    {
     "name": "stdout",
     "output_type": "stream",
     "text": [
      "\b\b- "
     ]
    },
    {
     "name": "stdout",
     "output_type": "stream",
     "text": [
      "\b\b\\ "
     ]
    },
    {
     "name": "stdout",
     "output_type": "stream",
     "text": [
      "\b\b| "
     ]
    },
    {
     "name": "stdout",
     "output_type": "stream",
     "text": [
      "\b\b/ "
     ]
    },
    {
     "name": "stdout",
     "output_type": "stream",
     "text": [
      "\b\b- "
     ]
    },
    {
     "name": "stdout",
     "output_type": "stream",
     "text": [
      "\b\b\\ "
     ]
    },
    {
     "name": "stdout",
     "output_type": "stream",
     "text": [
      "\b\b| "
     ]
    },
    {
     "name": "stdout",
     "output_type": "stream",
     "text": [
      "\b\b/ "
     ]
    },
    {
     "name": "stdout",
     "output_type": "stream",
     "text": [
      "\b\b- "
     ]
    },
    {
     "name": "stdout",
     "output_type": "stream",
     "text": [
      "\b\b\\ "
     ]
    },
    {
     "name": "stdout",
     "output_type": "stream",
     "text": [
      "\b\b| "
     ]
    },
    {
     "name": "stdout",
     "output_type": "stream",
     "text": [
      "\b\b/ "
     ]
    },
    {
     "name": "stdout",
     "output_type": "stream",
     "text": [
      "\b\b- "
     ]
    },
    {
     "name": "stdout",
     "output_type": "stream",
     "text": [
      "\b\b\\ "
     ]
    },
    {
     "name": "stdout",
     "output_type": "stream",
     "text": [
      "\b\b| "
     ]
    },
    {
     "name": "stdout",
     "output_type": "stream",
     "text": [
      "\b\b/ "
     ]
    },
    {
     "name": "stdout",
     "output_type": "stream",
     "text": [
      "\b\b- "
     ]
    },
    {
     "name": "stdout",
     "output_type": "stream",
     "text": [
      "\b\b\\ "
     ]
    },
    {
     "name": "stdout",
     "output_type": "stream",
     "text": [
      "\b\b| "
     ]
    },
    {
     "name": "stdout",
     "output_type": "stream",
     "text": [
      "\b\b/ "
     ]
    },
    {
     "name": "stdout",
     "output_type": "stream",
     "text": [
      "\b\b- "
     ]
    },
    {
     "name": "stdout",
     "output_type": "stream",
     "text": [
      "\b\b\\ "
     ]
    },
    {
     "name": "stdout",
     "output_type": "stream",
     "text": [
      "\b\b| "
     ]
    },
    {
     "name": "stdout",
     "output_type": "stream",
     "text": [
      "\b\b/ "
     ]
    },
    {
     "name": "stdout",
     "output_type": "stream",
     "text": [
      "\b\b- "
     ]
    },
    {
     "name": "stdout",
     "output_type": "stream",
     "text": [
      "\b\b\\ "
     ]
    },
    {
     "name": "stdout",
     "output_type": "stream",
     "text": [
      "\b\b| "
     ]
    },
    {
     "name": "stdout",
     "output_type": "stream",
     "text": [
      "\b\b/ "
     ]
    },
    {
     "name": "stdout",
     "output_type": "stream",
     "text": [
      "\b\b- "
     ]
    },
    {
     "name": "stdout",
     "output_type": "stream",
     "text": [
      "\b\b\\ "
     ]
    },
    {
     "name": "stdout",
     "output_type": "stream",
     "text": [
      "\b\b| "
     ]
    },
    {
     "name": "stdout",
     "output_type": "stream",
     "text": [
      "\b\b/ "
     ]
    },
    {
     "name": "stdout",
     "output_type": "stream",
     "text": [
      "\b\b- "
     ]
    },
    {
     "name": "stdout",
     "output_type": "stream",
     "text": [
      "\b\b\\ "
     ]
    },
    {
     "name": "stdout",
     "output_type": "stream",
     "text": [
      "\b\b| "
     ]
    },
    {
     "name": "stdout",
     "output_type": "stream",
     "text": [
      "\b\b/ "
     ]
    },
    {
     "name": "stdout",
     "output_type": "stream",
     "text": [
      "\b\b- "
     ]
    },
    {
     "name": "stdout",
     "output_type": "stream",
     "text": [
      "\b\b\\ "
     ]
    },
    {
     "name": "stdout",
     "output_type": "stream",
     "text": [
      "\b\b| "
     ]
    },
    {
     "name": "stdout",
     "output_type": "stream",
     "text": [
      "\b\b/ "
     ]
    },
    {
     "name": "stdout",
     "output_type": "stream",
     "text": [
      "\b\b- "
     ]
    },
    {
     "name": "stdout",
     "output_type": "stream",
     "text": [
      "\b\b\\ "
     ]
    },
    {
     "name": "stdout",
     "output_type": "stream",
     "text": [
      "\b\b| "
     ]
    },
    {
     "name": "stdout",
     "output_type": "stream",
     "text": [
      "\b\b/ "
     ]
    },
    {
     "name": "stdout",
     "output_type": "stream",
     "text": [
      "\b\b- "
     ]
    },
    {
     "name": "stdout",
     "output_type": "stream",
     "text": [
      "\b\b\\ "
     ]
    },
    {
     "name": "stdout",
     "output_type": "stream",
     "text": [
      "\b\b| "
     ]
    },
    {
     "name": "stdout",
     "output_type": "stream",
     "text": [
      "\b\b/ "
     ]
    },
    {
     "name": "stdout",
     "output_type": "stream",
     "text": [
      "\b\b- "
     ]
    },
    {
     "name": "stdout",
     "output_type": "stream",
     "text": [
      "\b\b\\ "
     ]
    },
    {
     "name": "stdout",
     "output_type": "stream",
     "text": [
      "\b\b| "
     ]
    },
    {
     "name": "stdout",
     "output_type": "stream",
     "text": [
      "\b\b/ "
     ]
    },
    {
     "name": "stdout",
     "output_type": "stream",
     "text": [
      "\b\b- "
     ]
    },
    {
     "name": "stdout",
     "output_type": "stream",
     "text": [
      "\b\b\\ "
     ]
    },
    {
     "name": "stdout",
     "output_type": "stream",
     "text": [
      "\b\b| "
     ]
    },
    {
     "name": "stdout",
     "output_type": "stream",
     "text": [
      "\b\b/ "
     ]
    },
    {
     "name": "stdout",
     "output_type": "stream",
     "text": [
      "\b\b- "
     ]
    },
    {
     "name": "stdout",
     "output_type": "stream",
     "text": [
      "\b\b\\ "
     ]
    },
    {
     "name": "stdout",
     "output_type": "stream",
     "text": [
      "\b\b| "
     ]
    },
    {
     "name": "stdout",
     "output_type": "stream",
     "text": [
      "\b\b/ "
     ]
    },
    {
     "name": "stdout",
     "output_type": "stream",
     "text": [
      "\b\b- "
     ]
    },
    {
     "name": "stdout",
     "output_type": "stream",
     "text": [
      "\b\b\\ "
     ]
    },
    {
     "name": "stdout",
     "output_type": "stream",
     "text": [
      "\b\b| "
     ]
    },
    {
     "name": "stdout",
     "output_type": "stream",
     "text": [
      "\b\b/ "
     ]
    },
    {
     "name": "stdout",
     "output_type": "stream",
     "text": [
      "\b\b- "
     ]
    },
    {
     "name": "stdout",
     "output_type": "stream",
     "text": [
      "\b\b\\ "
     ]
    },
    {
     "name": "stdout",
     "output_type": "stream",
     "text": [
      "\b\b| "
     ]
    },
    {
     "name": "stdout",
     "output_type": "stream",
     "text": [
      "\b\b/ "
     ]
    },
    {
     "name": "stdout",
     "output_type": "stream",
     "text": [
      "\b\b- "
     ]
    },
    {
     "name": "stdout",
     "output_type": "stream",
     "text": [
      "\b\b\\ "
     ]
    },
    {
     "name": "stdout",
     "output_type": "stream",
     "text": [
      "\b\b| "
     ]
    },
    {
     "name": "stdout",
     "output_type": "stream",
     "text": [
      "\b\b/ "
     ]
    },
    {
     "name": "stdout",
     "output_type": "stream",
     "text": [
      "\b\b- "
     ]
    },
    {
     "name": "stdout",
     "output_type": "stream",
     "text": [
      "\b\b\\ "
     ]
    },
    {
     "name": "stdout",
     "output_type": "stream",
     "text": [
      "\b\b| "
     ]
    },
    {
     "name": "stdout",
     "output_type": "stream",
     "text": [
      "\b\b/ "
     ]
    },
    {
     "name": "stdout",
     "output_type": "stream",
     "text": [
      "\b\b- "
     ]
    },
    {
     "name": "stdout",
     "output_type": "stream",
     "text": [
      "\b\b\\ "
     ]
    },
    {
     "name": "stdout",
     "output_type": "stream",
     "text": [
      "\b\b| "
     ]
    },
    {
     "name": "stdout",
     "output_type": "stream",
     "text": [
      "\b\b/ "
     ]
    },
    {
     "name": "stdout",
     "output_type": "stream",
     "text": [
      "\b\b- "
     ]
    },
    {
     "name": "stdout",
     "output_type": "stream",
     "text": [
      "\b\b\\ "
     ]
    },
    {
     "name": "stdout",
     "output_type": "stream",
     "text": [
      "\b\b| "
     ]
    },
    {
     "name": "stdout",
     "output_type": "stream",
     "text": [
      "\b\b/ "
     ]
    },
    {
     "name": "stdout",
     "output_type": "stream",
     "text": [
      "\b\b- "
     ]
    },
    {
     "name": "stdout",
     "output_type": "stream",
     "text": [
      "\b\b\\ "
     ]
    },
    {
     "name": "stdout",
     "output_type": "stream",
     "text": [
      "\b\b| "
     ]
    },
    {
     "name": "stdout",
     "output_type": "stream",
     "text": [
      "\b\b/ "
     ]
    },
    {
     "name": "stdout",
     "output_type": "stream",
     "text": [
      "\b\b- "
     ]
    },
    {
     "name": "stdout",
     "output_type": "stream",
     "text": [
      "\b\b\\ "
     ]
    },
    {
     "name": "stdout",
     "output_type": "stream",
     "text": [
      "\b\b| "
     ]
    },
    {
     "name": "stdout",
     "output_type": "stream",
     "text": [
      "\b\b/ "
     ]
    },
    {
     "name": "stdout",
     "output_type": "stream",
     "text": [
      "\b\b- "
     ]
    },
    {
     "name": "stdout",
     "output_type": "stream",
     "text": [
      "\b\b\\ "
     ]
    },
    {
     "name": "stdout",
     "output_type": "stream",
     "text": [
      "\b\b| "
     ]
    },
    {
     "name": "stdout",
     "output_type": "stream",
     "text": [
      "\b\b/ "
     ]
    },
    {
     "name": "stdout",
     "output_type": "stream",
     "text": [
      "\b\b- "
     ]
    },
    {
     "name": "stdout",
     "output_type": "stream",
     "text": [
      "\b\b\\ "
     ]
    },
    {
     "name": "stdout",
     "output_type": "stream",
     "text": [
      "\b\b| "
     ]
    },
    {
     "name": "stdout",
     "output_type": "stream",
     "text": [
      "\b\bdone\r\n",
      "Executing transaction: - "
     ]
    },
    {
     "name": "stdout",
     "output_type": "stream",
     "text": [
      "\b\b\\ "
     ]
    },
    {
     "name": "stdout",
     "output_type": "stream",
     "text": [
      "\b\b| "
     ]
    },
    {
     "name": "stdout",
     "output_type": "stream",
     "text": [
      "\b\b/ "
     ]
    },
    {
     "name": "stdout",
     "output_type": "stream",
     "text": [
      "\b\b- "
     ]
    },
    {
     "name": "stdout",
     "output_type": "stream",
     "text": [
      "\b\b\\ "
     ]
    },
    {
     "name": "stdout",
     "output_type": "stream",
     "text": [
      "\b\b| "
     ]
    },
    {
     "name": "stdout",
     "output_type": "stream",
     "text": [
      "\b\b/ "
     ]
    },
    {
     "name": "stdout",
     "output_type": "stream",
     "text": [
      "\b\b- "
     ]
    },
    {
     "name": "stdout",
     "output_type": "stream",
     "text": [
      "\b\b\\ "
     ]
    },
    {
     "name": "stdout",
     "output_type": "stream",
     "text": [
      "\b\b| "
     ]
    },
    {
     "name": "stdout",
     "output_type": "stream",
     "text": [
      "\b\b/ "
     ]
    },
    {
     "name": "stdout",
     "output_type": "stream",
     "text": [
      "\b\b- "
     ]
    },
    {
     "name": "stdout",
     "output_type": "stream",
     "text": [
      "\b\b\\ "
     ]
    },
    {
     "name": "stdout",
     "output_type": "stream",
     "text": [
      "\b\b| "
     ]
    },
    {
     "name": "stdout",
     "output_type": "stream",
     "text": [
      "\b\b/ "
     ]
    },
    {
     "name": "stdout",
     "output_type": "stream",
     "text": [
      "\b\b- "
     ]
    },
    {
     "name": "stdout",
     "output_type": "stream",
     "text": [
      "\b\b\\ "
     ]
    },
    {
     "name": "stdout",
     "output_type": "stream",
     "text": [
      "\b\b| "
     ]
    },
    {
     "name": "stdout",
     "output_type": "stream",
     "text": [
      "\b\b/ "
     ]
    },
    {
     "name": "stdout",
     "output_type": "stream",
     "text": [
      "\b\b- "
     ]
    },
    {
     "name": "stdout",
     "output_type": "stream",
     "text": [
      "\b\b\\ "
     ]
    },
    {
     "name": "stdout",
     "output_type": "stream",
     "text": [
      "\b\b| "
     ]
    },
    {
     "name": "stdout",
     "output_type": "stream",
     "text": [
      "\b\b/ "
     ]
    },
    {
     "name": "stdout",
     "output_type": "stream",
     "text": [
      "\b\b- "
     ]
    },
    {
     "name": "stdout",
     "output_type": "stream",
     "text": [
      "\b\b\\ "
     ]
    },
    {
     "name": "stdout",
     "output_type": "stream",
     "text": [
      "\b\b| "
     ]
    },
    {
     "name": "stdout",
     "output_type": "stream",
     "text": [
      "\b\b/ "
     ]
    },
    {
     "name": "stdout",
     "output_type": "stream",
     "text": [
      "\b\b- "
     ]
    },
    {
     "name": "stdout",
     "output_type": "stream",
     "text": [
      "\b\b\\ "
     ]
    },
    {
     "name": "stdout",
     "output_type": "stream",
     "text": [
      "\b\b| "
     ]
    },
    {
     "name": "stdout",
     "output_type": "stream",
     "text": [
      "\b\b/ "
     ]
    },
    {
     "name": "stdout",
     "output_type": "stream",
     "text": [
      "\b\b- "
     ]
    },
    {
     "name": "stdout",
     "output_type": "stream",
     "text": [
      "\b\b\\ "
     ]
    },
    {
     "name": "stdout",
     "output_type": "stream",
     "text": [
      "\b\b| "
     ]
    },
    {
     "name": "stdout",
     "output_type": "stream",
     "text": [
      "\b\b/ "
     ]
    },
    {
     "name": "stdout",
     "output_type": "stream",
     "text": [
      "\b\b- "
     ]
    },
    {
     "name": "stdout",
     "output_type": "stream",
     "text": [
      "\b\b\\ "
     ]
    },
    {
     "name": "stdout",
     "output_type": "stream",
     "text": [
      "\b\b| "
     ]
    },
    {
     "name": "stdout",
     "output_type": "stream",
     "text": [
      "\b\b/ "
     ]
    },
    {
     "name": "stdout",
     "output_type": "stream",
     "text": [
      "\b\b- "
     ]
    },
    {
     "name": "stdout",
     "output_type": "stream",
     "text": [
      "\b\b\\ "
     ]
    },
    {
     "name": "stdout",
     "output_type": "stream",
     "text": [
      "\b\b| "
     ]
    },
    {
     "name": "stdout",
     "output_type": "stream",
     "text": [
      "\b\b/ "
     ]
    },
    {
     "name": "stdout",
     "output_type": "stream",
     "text": [
      "\b\b- "
     ]
    },
    {
     "name": "stdout",
     "output_type": "stream",
     "text": [
      "\b\b\\ "
     ]
    },
    {
     "name": "stdout",
     "output_type": "stream",
     "text": [
      "\b\b| "
     ]
    },
    {
     "name": "stdout",
     "output_type": "stream",
     "text": [
      "\b\b/ "
     ]
    },
    {
     "name": "stdout",
     "output_type": "stream",
     "text": [
      "\b\b- "
     ]
    },
    {
     "name": "stdout",
     "output_type": "stream",
     "text": [
      "\b\b\\ "
     ]
    },
    {
     "name": "stdout",
     "output_type": "stream",
     "text": [
      "\b\b| "
     ]
    },
    {
     "name": "stdout",
     "output_type": "stream",
     "text": [
      "\b\b/ "
     ]
    },
    {
     "name": "stdout",
     "output_type": "stream",
     "text": [
      "\b\b- "
     ]
    },
    {
     "name": "stdout",
     "output_type": "stream",
     "text": [
      "\b\b\\ "
     ]
    },
    {
     "name": "stdout",
     "output_type": "stream",
     "text": [
      "\b\b| "
     ]
    },
    {
     "name": "stdout",
     "output_type": "stream",
     "text": [
      "\b\b/ "
     ]
    },
    {
     "name": "stdout",
     "output_type": "stream",
     "text": [
      "\b\b- "
     ]
    },
    {
     "name": "stdout",
     "output_type": "stream",
     "text": [
      "\b\b\\ "
     ]
    },
    {
     "name": "stdout",
     "output_type": "stream",
     "text": [
      "\b\b| "
     ]
    },
    {
     "name": "stdout",
     "output_type": "stream",
     "text": [
      "\b\b/ "
     ]
    },
    {
     "name": "stdout",
     "output_type": "stream",
     "text": [
      "\b\b- "
     ]
    },
    {
     "name": "stdout",
     "output_type": "stream",
     "text": [
      "\b\b\\ "
     ]
    },
    {
     "name": "stdout",
     "output_type": "stream",
     "text": [
      "\b\b| "
     ]
    },
    {
     "name": "stdout",
     "output_type": "stream",
     "text": [
      "\b\b/ "
     ]
    },
    {
     "name": "stdout",
     "output_type": "stream",
     "text": [
      "\b\b- "
     ]
    },
    {
     "name": "stdout",
     "output_type": "stream",
     "text": [
      "\b\b\\ "
     ]
    },
    {
     "name": "stdout",
     "output_type": "stream",
     "text": [
      "\b\b| "
     ]
    },
    {
     "name": "stdout",
     "output_type": "stream",
     "text": [
      "\b\b/ "
     ]
    },
    {
     "name": "stdout",
     "output_type": "stream",
     "text": [
      "\b\b- "
     ]
    },
    {
     "name": "stdout",
     "output_type": "stream",
     "text": [
      "\b\b\\ "
     ]
    },
    {
     "name": "stdout",
     "output_type": "stream",
     "text": [
      "\b\b| "
     ]
    },
    {
     "name": "stdout",
     "output_type": "stream",
     "text": [
      "\b\b/ "
     ]
    },
    {
     "name": "stdout",
     "output_type": "stream",
     "text": [
      "\b\b- "
     ]
    },
    {
     "name": "stdout",
     "output_type": "stream",
     "text": [
      "\b\b\\ "
     ]
    },
    {
     "name": "stdout",
     "output_type": "stream",
     "text": [
      "\b\b| "
     ]
    },
    {
     "name": "stdout",
     "output_type": "stream",
     "text": [
      "\b\b/ "
     ]
    },
    {
     "name": "stdout",
     "output_type": "stream",
     "text": [
      "\b\b- "
     ]
    },
    {
     "name": "stdout",
     "output_type": "stream",
     "text": [
      "\b\b\\ "
     ]
    },
    {
     "name": "stdout",
     "output_type": "stream",
     "text": [
      "\b\b| "
     ]
    },
    {
     "name": "stdout",
     "output_type": "stream",
     "text": [
      "\b\b/ "
     ]
    },
    {
     "name": "stdout",
     "output_type": "stream",
     "text": [
      "\b\b- "
     ]
    },
    {
     "name": "stdout",
     "output_type": "stream",
     "text": [
      "\b\b\\ "
     ]
    },
    {
     "name": "stdout",
     "output_type": "stream",
     "text": [
      "\b\b| "
     ]
    },
    {
     "name": "stdout",
     "output_type": "stream",
     "text": [
      "\b\b/ "
     ]
    },
    {
     "name": "stdout",
     "output_type": "stream",
     "text": [
      "\b\b- "
     ]
    },
    {
     "name": "stdout",
     "output_type": "stream",
     "text": [
      "\b\b\\ "
     ]
    },
    {
     "name": "stdout",
     "output_type": "stream",
     "text": [
      "\b\b| "
     ]
    },
    {
     "name": "stdout",
     "output_type": "stream",
     "text": [
      "\b\b/ "
     ]
    },
    {
     "name": "stdout",
     "output_type": "stream",
     "text": [
      "\b\b- "
     ]
    },
    {
     "name": "stdout",
     "output_type": "stream",
     "text": [
      "\b\b\\ "
     ]
    },
    {
     "name": "stdout",
     "output_type": "stream",
     "text": [
      "\b\b| "
     ]
    },
    {
     "name": "stdout",
     "output_type": "stream",
     "text": [
      "\b\b/ "
     ]
    },
    {
     "name": "stdout",
     "output_type": "stream",
     "text": [
      "\b\b- "
     ]
    },
    {
     "name": "stdout",
     "output_type": "stream",
     "text": [
      "\b\b\\ "
     ]
    },
    {
     "name": "stdout",
     "output_type": "stream",
     "text": [
      "\b\b| "
     ]
    },
    {
     "name": "stdout",
     "output_type": "stream",
     "text": [
      "\b\b/ "
     ]
    },
    {
     "name": "stdout",
     "output_type": "stream",
     "text": [
      "\b\b- "
     ]
    },
    {
     "name": "stdout",
     "output_type": "stream",
     "text": [
      "\b\b\\ "
     ]
    },
    {
     "name": "stdout",
     "output_type": "stream",
     "text": [
      "\b\b| "
     ]
    },
    {
     "name": "stdout",
     "output_type": "stream",
     "text": [
      "\b\b/ "
     ]
    },
    {
     "name": "stdout",
     "output_type": "stream",
     "text": [
      "\b\b- "
     ]
    },
    {
     "name": "stdout",
     "output_type": "stream",
     "text": [
      "\b\b\\ "
     ]
    },
    {
     "name": "stdout",
     "output_type": "stream",
     "text": [
      "\b\b| "
     ]
    },
    {
     "name": "stdout",
     "output_type": "stream",
     "text": [
      "\b\b/ "
     ]
    },
    {
     "name": "stdout",
     "output_type": "stream",
     "text": [
      "\b\b- "
     ]
    },
    {
     "name": "stdout",
     "output_type": "stream",
     "text": [
      "\b\b\\ "
     ]
    },
    {
     "name": "stdout",
     "output_type": "stream",
     "text": [
      "\b\b| "
     ]
    },
    {
     "name": "stdout",
     "output_type": "stream",
     "text": [
      "\b\b/ "
     ]
    },
    {
     "name": "stdout",
     "output_type": "stream",
     "text": [
      "\b\b- "
     ]
    },
    {
     "name": "stdout",
     "output_type": "stream",
     "text": [
      "\b\b\\ "
     ]
    },
    {
     "name": "stdout",
     "output_type": "stream",
     "text": [
      "\b\b| "
     ]
    },
    {
     "name": "stdout",
     "output_type": "stream",
     "text": [
      "\b\b/ "
     ]
    },
    {
     "name": "stdout",
     "output_type": "stream",
     "text": [
      "\b\b- "
     ]
    },
    {
     "name": "stdout",
     "output_type": "stream",
     "text": [
      "\b\b\\ "
     ]
    },
    {
     "name": "stdout",
     "output_type": "stream",
     "text": [
      "\b\b| "
     ]
    },
    {
     "name": "stdout",
     "output_type": "stream",
     "text": [
      "\b\b/ "
     ]
    },
    {
     "name": "stdout",
     "output_type": "stream",
     "text": [
      "\b\b- "
     ]
    },
    {
     "name": "stdout",
     "output_type": "stream",
     "text": [
      "\b\b\\ "
     ]
    },
    {
     "name": "stdout",
     "output_type": "stream",
     "text": [
      "\b\b| "
     ]
    },
    {
     "name": "stdout",
     "output_type": "stream",
     "text": [
      "\b\b/ "
     ]
    },
    {
     "name": "stdout",
     "output_type": "stream",
     "text": [
      "\b\b- "
     ]
    },
    {
     "name": "stdout",
     "output_type": "stream",
     "text": [
      "\b\b\\ "
     ]
    },
    {
     "name": "stdout",
     "output_type": "stream",
     "text": [
      "\b\b| "
     ]
    },
    {
     "name": "stdout",
     "output_type": "stream",
     "text": [
      "\b\b/ "
     ]
    },
    {
     "name": "stdout",
     "output_type": "stream",
     "text": [
      "\b\b- "
     ]
    },
    {
     "name": "stdout",
     "output_type": "stream",
     "text": [
      "\b\b\\ "
     ]
    },
    {
     "name": "stdout",
     "output_type": "stream",
     "text": [
      "\b\b| "
     ]
    },
    {
     "name": "stdout",
     "output_type": "stream",
     "text": [
      "\b\b/ "
     ]
    },
    {
     "name": "stdout",
     "output_type": "stream",
     "text": [
      "\b\b- "
     ]
    },
    {
     "name": "stdout",
     "output_type": "stream",
     "text": [
      "\b\b\\ "
     ]
    },
    {
     "name": "stdout",
     "output_type": "stream",
     "text": [
      "\b\b| "
     ]
    },
    {
     "name": "stdout",
     "output_type": "stream",
     "text": [
      "\b\b/ "
     ]
    },
    {
     "name": "stdout",
     "output_type": "stream",
     "text": [
      "\b\b- "
     ]
    },
    {
     "name": "stdout",
     "output_type": "stream",
     "text": [
      "\b\b\\ "
     ]
    },
    {
     "name": "stdout",
     "output_type": "stream",
     "text": [
      "\b\b| "
     ]
    },
    {
     "name": "stdout",
     "output_type": "stream",
     "text": [
      "\b\b/ "
     ]
    },
    {
     "name": "stdout",
     "output_type": "stream",
     "text": [
      "\b\b- "
     ]
    },
    {
     "name": "stdout",
     "output_type": "stream",
     "text": [
      "\b\b\\ "
     ]
    },
    {
     "name": "stdout",
     "output_type": "stream",
     "text": [
      "\b\b| "
     ]
    },
    {
     "name": "stdout",
     "output_type": "stream",
     "text": [
      "\b\b/ "
     ]
    },
    {
     "name": "stdout",
     "output_type": "stream",
     "text": [
      "\b\b- "
     ]
    },
    {
     "name": "stdout",
     "output_type": "stream",
     "text": [
      "\b\b\\ "
     ]
    },
    {
     "name": "stdout",
     "output_type": "stream",
     "text": [
      "\b\b| "
     ]
    },
    {
     "name": "stdout",
     "output_type": "stream",
     "text": [
      "\b\b/ "
     ]
    },
    {
     "name": "stdout",
     "output_type": "stream",
     "text": [
      "\b\b- "
     ]
    },
    {
     "name": "stdout",
     "output_type": "stream",
     "text": [
      "\b\b\\ "
     ]
    },
    {
     "name": "stdout",
     "output_type": "stream",
     "text": [
      "\b\b| "
     ]
    },
    {
     "name": "stdout",
     "output_type": "stream",
     "text": [
      "\b\b/ "
     ]
    },
    {
     "name": "stdout",
     "output_type": "stream",
     "text": [
      "\b\b- "
     ]
    },
    {
     "name": "stdout",
     "output_type": "stream",
     "text": [
      "\b\b\\ "
     ]
    },
    {
     "name": "stdout",
     "output_type": "stream",
     "text": [
      "\b\b| "
     ]
    },
    {
     "name": "stdout",
     "output_type": "stream",
     "text": [
      "\b\b/ "
     ]
    },
    {
     "name": "stdout",
     "output_type": "stream",
     "text": [
      "\b\b- "
     ]
    },
    {
     "name": "stdout",
     "output_type": "stream",
     "text": [
      "\b\b\\ "
     ]
    },
    {
     "name": "stdout",
     "output_type": "stream",
     "text": [
      "\b\b| "
     ]
    },
    {
     "name": "stdout",
     "output_type": "stream",
     "text": [
      "\b\b/ "
     ]
    },
    {
     "name": "stdout",
     "output_type": "stream",
     "text": [
      "\b\b- "
     ]
    },
    {
     "name": "stdout",
     "output_type": "stream",
     "text": [
      "\b\b\\ "
     ]
    },
    {
     "name": "stdout",
     "output_type": "stream",
     "text": [
      "\b\b| "
     ]
    },
    {
     "name": "stdout",
     "output_type": "stream",
     "text": [
      "\b\b/ "
     ]
    },
    {
     "name": "stdout",
     "output_type": "stream",
     "text": [
      "\b\b- "
     ]
    },
    {
     "name": "stdout",
     "output_type": "stream",
     "text": [
      "\b\b\\ "
     ]
    },
    {
     "name": "stdout",
     "output_type": "stream",
     "text": [
      "\b\b| "
     ]
    },
    {
     "name": "stdout",
     "output_type": "stream",
     "text": [
      "\b\b/ "
     ]
    },
    {
     "name": "stdout",
     "output_type": "stream",
     "text": [
      "\b\b- "
     ]
    },
    {
     "name": "stdout",
     "output_type": "stream",
     "text": [
      "\b\b\\ "
     ]
    },
    {
     "name": "stdout",
     "output_type": "stream",
     "text": [
      "\b\b| "
     ]
    },
    {
     "name": "stdout",
     "output_type": "stream",
     "text": [
      "\b\b/ "
     ]
    },
    {
     "name": "stdout",
     "output_type": "stream",
     "text": [
      "\b\b- "
     ]
    },
    {
     "name": "stdout",
     "output_type": "stream",
     "text": [
      "\b\b\\ "
     ]
    },
    {
     "name": "stdout",
     "output_type": "stream",
     "text": [
      "\b\b| "
     ]
    },
    {
     "name": "stdout",
     "output_type": "stream",
     "text": [
      "\b\b/ "
     ]
    },
    {
     "name": "stdout",
     "output_type": "stream",
     "text": [
      "\b\b- "
     ]
    },
    {
     "name": "stdout",
     "output_type": "stream",
     "text": [
      "\b\b\\ "
     ]
    },
    {
     "name": "stdout",
     "output_type": "stream",
     "text": [
      "\b\b| "
     ]
    },
    {
     "name": "stdout",
     "output_type": "stream",
     "text": [
      "\b\b/ "
     ]
    },
    {
     "name": "stdout",
     "output_type": "stream",
     "text": [
      "\b\b- "
     ]
    },
    {
     "name": "stdout",
     "output_type": "stream",
     "text": [
      "\b\b\\ "
     ]
    },
    {
     "name": "stdout",
     "output_type": "stream",
     "text": [
      "\b\b| "
     ]
    },
    {
     "name": "stdout",
     "output_type": "stream",
     "text": [
      "\b\b/ "
     ]
    },
    {
     "name": "stdout",
     "output_type": "stream",
     "text": [
      "\b\b- "
     ]
    },
    {
     "name": "stdout",
     "output_type": "stream",
     "text": [
      "\b\b\\ "
     ]
    },
    {
     "name": "stdout",
     "output_type": "stream",
     "text": [
      "\b\b| "
     ]
    },
    {
     "name": "stdout",
     "output_type": "stream",
     "text": [
      "\b\b/ "
     ]
    },
    {
     "name": "stdout",
     "output_type": "stream",
     "text": [
      "\b\b- "
     ]
    },
    {
     "name": "stdout",
     "output_type": "stream",
     "text": [
      "\b\b\\ "
     ]
    },
    {
     "name": "stdout",
     "output_type": "stream",
     "text": [
      "\b\b| "
     ]
    },
    {
     "name": "stdout",
     "output_type": "stream",
     "text": [
      "\b\b/ "
     ]
    },
    {
     "name": "stdout",
     "output_type": "stream",
     "text": [
      "\b\b- "
     ]
    },
    {
     "name": "stdout",
     "output_type": "stream",
     "text": [
      "\b\b\\ "
     ]
    },
    {
     "name": "stdout",
     "output_type": "stream",
     "text": [
      "\b\b| "
     ]
    },
    {
     "name": "stdout",
     "output_type": "stream",
     "text": [
      "\b\b/ "
     ]
    },
    {
     "name": "stdout",
     "output_type": "stream",
     "text": [
      "\b\b- "
     ]
    },
    {
     "name": "stdout",
     "output_type": "stream",
     "text": [
      "\b\b\\ "
     ]
    },
    {
     "name": "stdout",
     "output_type": "stream",
     "text": [
      "\b\b| "
     ]
    },
    {
     "name": "stdout",
     "output_type": "stream",
     "text": [
      "\b\b/ "
     ]
    },
    {
     "name": "stdout",
     "output_type": "stream",
     "text": [
      "\b\b- "
     ]
    },
    {
     "name": "stdout",
     "output_type": "stream",
     "text": [
      "\b\b\\ "
     ]
    },
    {
     "name": "stdout",
     "output_type": "stream",
     "text": [
      "\b\b| "
     ]
    },
    {
     "name": "stdout",
     "output_type": "stream",
     "text": [
      "\b\b/ "
     ]
    },
    {
     "name": "stdout",
     "output_type": "stream",
     "text": [
      "\b\b- "
     ]
    },
    {
     "name": "stdout",
     "output_type": "stream",
     "text": [
      "\b\b\\ "
     ]
    },
    {
     "name": "stdout",
     "output_type": "stream",
     "text": [
      "\b\b| "
     ]
    },
    {
     "name": "stdout",
     "output_type": "stream",
     "text": [
      "\b\b/ "
     ]
    },
    {
     "name": "stdout",
     "output_type": "stream",
     "text": [
      "\b\b- "
     ]
    },
    {
     "name": "stdout",
     "output_type": "stream",
     "text": [
      "\b\b\\ "
     ]
    },
    {
     "name": "stdout",
     "output_type": "stream",
     "text": [
      "\b\b| "
     ]
    },
    {
     "name": "stdout",
     "output_type": "stream",
     "text": [
      "\b\b/ "
     ]
    },
    {
     "name": "stdout",
     "output_type": "stream",
     "text": [
      "\b\b- "
     ]
    },
    {
     "name": "stdout",
     "output_type": "stream",
     "text": [
      "\b\b\\ "
     ]
    },
    {
     "name": "stdout",
     "output_type": "stream",
     "text": [
      "\b\b| "
     ]
    },
    {
     "name": "stdout",
     "output_type": "stream",
     "text": [
      "\b\b/ "
     ]
    },
    {
     "name": "stdout",
     "output_type": "stream",
     "text": [
      "\b\b- "
     ]
    },
    {
     "name": "stdout",
     "output_type": "stream",
     "text": [
      "\b\b\\ "
     ]
    },
    {
     "name": "stdout",
     "output_type": "stream",
     "text": [
      "\b\b| "
     ]
    },
    {
     "name": "stdout",
     "output_type": "stream",
     "text": [
      "\b\b/ "
     ]
    },
    {
     "name": "stdout",
     "output_type": "stream",
     "text": [
      "\b\b- "
     ]
    },
    {
     "name": "stdout",
     "output_type": "stream",
     "text": [
      "\b\b\\ "
     ]
    },
    {
     "name": "stdout",
     "output_type": "stream",
     "text": [
      "\b\b| "
     ]
    },
    {
     "name": "stdout",
     "output_type": "stream",
     "text": [
      "\b\b/ "
     ]
    },
    {
     "name": "stdout",
     "output_type": "stream",
     "text": [
      "\b\b- "
     ]
    },
    {
     "name": "stdout",
     "output_type": "stream",
     "text": [
      "\b\b\\ "
     ]
    },
    {
     "name": "stdout",
     "output_type": "stream",
     "text": [
      "\b\b| "
     ]
    },
    {
     "name": "stdout",
     "output_type": "stream",
     "text": [
      "\b\b/ "
     ]
    },
    {
     "name": "stdout",
     "output_type": "stream",
     "text": [
      "\b\b- "
     ]
    },
    {
     "name": "stdout",
     "output_type": "stream",
     "text": [
      "\b\b\\ "
     ]
    },
    {
     "name": "stdout",
     "output_type": "stream",
     "text": [
      "\b\b| "
     ]
    },
    {
     "name": "stdout",
     "output_type": "stream",
     "text": [
      "\b\b/ "
     ]
    },
    {
     "name": "stdout",
     "output_type": "stream",
     "text": [
      "\b\b- "
     ]
    },
    {
     "name": "stdout",
     "output_type": "stream",
     "text": [
      "\b\b\\ "
     ]
    },
    {
     "name": "stdout",
     "output_type": "stream",
     "text": [
      "\b\b| "
     ]
    },
    {
     "name": "stdout",
     "output_type": "stream",
     "text": [
      "\b\b/ "
     ]
    },
    {
     "name": "stdout",
     "output_type": "stream",
     "text": [
      "\b\b- "
     ]
    },
    {
     "name": "stdout",
     "output_type": "stream",
     "text": [
      "\b\b\\ "
     ]
    },
    {
     "name": "stdout",
     "output_type": "stream",
     "text": [
      "\b\b| "
     ]
    },
    {
     "name": "stdout",
     "output_type": "stream",
     "text": [
      "\b\b/ "
     ]
    },
    {
     "name": "stdout",
     "output_type": "stream",
     "text": [
      "\b\b- "
     ]
    },
    {
     "name": "stdout",
     "output_type": "stream",
     "text": [
      "\b\b\\ "
     ]
    },
    {
     "name": "stdout",
     "output_type": "stream",
     "text": [
      "\b\b| "
     ]
    },
    {
     "name": "stdout",
     "output_type": "stream",
     "text": [
      "\b\b/ "
     ]
    },
    {
     "name": "stdout",
     "output_type": "stream",
     "text": [
      "\b\b- "
     ]
    },
    {
     "name": "stdout",
     "output_type": "stream",
     "text": [
      "\b\b\\ "
     ]
    },
    {
     "name": "stdout",
     "output_type": "stream",
     "text": [
      "\b\b| "
     ]
    },
    {
     "name": "stdout",
     "output_type": "stream",
     "text": [
      "\b\b/ "
     ]
    },
    {
     "name": "stdout",
     "output_type": "stream",
     "text": [
      "\b\b- "
     ]
    },
    {
     "name": "stdout",
     "output_type": "stream",
     "text": [
      "\b\b\\ "
     ]
    },
    {
     "name": "stdout",
     "output_type": "stream",
     "text": [
      "\b\b| "
     ]
    },
    {
     "name": "stdout",
     "output_type": "stream",
     "text": [
      "\b\b/ "
     ]
    },
    {
     "name": "stdout",
     "output_type": "stream",
     "text": [
      "\b\b- "
     ]
    },
    {
     "name": "stdout",
     "output_type": "stream",
     "text": [
      "\b\b\\ "
     ]
    },
    {
     "name": "stdout",
     "output_type": "stream",
     "text": [
      "\b\b| "
     ]
    },
    {
     "name": "stdout",
     "output_type": "stream",
     "text": [
      "\b\b/ "
     ]
    },
    {
     "name": "stdout",
     "output_type": "stream",
     "text": [
      "\b\b- "
     ]
    },
    {
     "name": "stdout",
     "output_type": "stream",
     "text": [
      "\b\b\\ "
     ]
    },
    {
     "name": "stdout",
     "output_type": "stream",
     "text": [
      "\b\b| "
     ]
    },
    {
     "name": "stdout",
     "output_type": "stream",
     "text": [
      "\b\b/ "
     ]
    },
    {
     "name": "stdout",
     "output_type": "stream",
     "text": [
      "\b\b- "
     ]
    },
    {
     "name": "stdout",
     "output_type": "stream",
     "text": [
      "\b\b\\ "
     ]
    },
    {
     "name": "stdout",
     "output_type": "stream",
     "text": [
      "\b\b| "
     ]
    },
    {
     "name": "stdout",
     "output_type": "stream",
     "text": [
      "\b\b/ "
     ]
    },
    {
     "name": "stdout",
     "output_type": "stream",
     "text": [
      "\b\b- "
     ]
    },
    {
     "name": "stdout",
     "output_type": "stream",
     "text": [
      "\b\b\\ "
     ]
    },
    {
     "name": "stdout",
     "output_type": "stream",
     "text": [
      "\b\b| "
     ]
    },
    {
     "name": "stdout",
     "output_type": "stream",
     "text": [
      "\b\b/ "
     ]
    },
    {
     "name": "stdout",
     "output_type": "stream",
     "text": [
      "\b\b- "
     ]
    },
    {
     "name": "stdout",
     "output_type": "stream",
     "text": [
      "\b\b\\ "
     ]
    },
    {
     "name": "stdout",
     "output_type": "stream",
     "text": [
      "\b\b| "
     ]
    },
    {
     "name": "stdout",
     "output_type": "stream",
     "text": [
      "\b\b/ "
     ]
    },
    {
     "name": "stdout",
     "output_type": "stream",
     "text": [
      "\b\b- "
     ]
    },
    {
     "name": "stdout",
     "output_type": "stream",
     "text": [
      "\b\b\\ "
     ]
    },
    {
     "name": "stdout",
     "output_type": "stream",
     "text": [
      "\b\b| "
     ]
    },
    {
     "name": "stdout",
     "output_type": "stream",
     "text": [
      "\b\b/ "
     ]
    },
    {
     "name": "stdout",
     "output_type": "stream",
     "text": [
      "\b\b- "
     ]
    },
    {
     "name": "stdout",
     "output_type": "stream",
     "text": [
      "\b\b\\ "
     ]
    },
    {
     "name": "stdout",
     "output_type": "stream",
     "text": [
      "\b\b| "
     ]
    },
    {
     "name": "stdout",
     "output_type": "stream",
     "text": [
      "\b\b/ "
     ]
    },
    {
     "name": "stdout",
     "output_type": "stream",
     "text": [
      "\b\b- "
     ]
    },
    {
     "name": "stdout",
     "output_type": "stream",
     "text": [
      "\b\b\\ "
     ]
    },
    {
     "name": "stdout",
     "output_type": "stream",
     "text": [
      "\b\b| "
     ]
    },
    {
     "name": "stdout",
     "output_type": "stream",
     "text": [
      "\b\b/ "
     ]
    },
    {
     "name": "stdout",
     "output_type": "stream",
     "text": [
      "\b\b- "
     ]
    },
    {
     "name": "stdout",
     "output_type": "stream",
     "text": [
      "\b\b\\ "
     ]
    },
    {
     "name": "stdout",
     "output_type": "stream",
     "text": [
      "\b\b| "
     ]
    },
    {
     "name": "stdout",
     "output_type": "stream",
     "text": [
      "\b\b/ "
     ]
    },
    {
     "name": "stdout",
     "output_type": "stream",
     "text": [
      "\b\b- "
     ]
    },
    {
     "name": "stdout",
     "output_type": "stream",
     "text": [
      "\b\b\\ "
     ]
    },
    {
     "name": "stdout",
     "output_type": "stream",
     "text": [
      "\b\b| "
     ]
    },
    {
     "name": "stdout",
     "output_type": "stream",
     "text": [
      "\b\b/ "
     ]
    },
    {
     "name": "stdout",
     "output_type": "stream",
     "text": [
      "\b\b- "
     ]
    },
    {
     "name": "stdout",
     "output_type": "stream",
     "text": [
      "\b\b\\ "
     ]
    },
    {
     "name": "stdout",
     "output_type": "stream",
     "text": [
      "\b\b| "
     ]
    },
    {
     "name": "stdout",
     "output_type": "stream",
     "text": [
      "\b\b/ "
     ]
    },
    {
     "name": "stdout",
     "output_type": "stream",
     "text": [
      "\b\b- "
     ]
    },
    {
     "name": "stdout",
     "output_type": "stream",
     "text": [
      "\b\b\\ "
     ]
    },
    {
     "name": "stdout",
     "output_type": "stream",
     "text": [
      "\b\b| "
     ]
    },
    {
     "name": "stdout",
     "output_type": "stream",
     "text": [
      "\b\b/ "
     ]
    },
    {
     "name": "stdout",
     "output_type": "stream",
     "text": [
      "\b\b- "
     ]
    },
    {
     "name": "stdout",
     "output_type": "stream",
     "text": [
      "\b\b\\ "
     ]
    },
    {
     "name": "stdout",
     "output_type": "stream",
     "text": [
      "\b\b| "
     ]
    },
    {
     "name": "stdout",
     "output_type": "stream",
     "text": [
      "\b\b/ "
     ]
    },
    {
     "name": "stdout",
     "output_type": "stream",
     "text": [
      "\b\b- "
     ]
    },
    {
     "name": "stdout",
     "output_type": "stream",
     "text": [
      "\b\b\\ "
     ]
    },
    {
     "name": "stdout",
     "output_type": "stream",
     "text": [
      "\b\b| "
     ]
    },
    {
     "name": "stdout",
     "output_type": "stream",
     "text": [
      "\b\b/ "
     ]
    },
    {
     "name": "stdout",
     "output_type": "stream",
     "text": [
      "\b\b- "
     ]
    },
    {
     "name": "stdout",
     "output_type": "stream",
     "text": [
      "\b\b\\ "
     ]
    },
    {
     "name": "stdout",
     "output_type": "stream",
     "text": [
      "\b\b| "
     ]
    },
    {
     "name": "stdout",
     "output_type": "stream",
     "text": [
      "\b\b/ "
     ]
    },
    {
     "name": "stdout",
     "output_type": "stream",
     "text": [
      "\b\b- "
     ]
    },
    {
     "name": "stdout",
     "output_type": "stream",
     "text": [
      "\b\b\\ "
     ]
    },
    {
     "name": "stdout",
     "output_type": "stream",
     "text": [
      "\b\b| "
     ]
    },
    {
     "name": "stdout",
     "output_type": "stream",
     "text": [
      "\b\b/ "
     ]
    },
    {
     "name": "stdout",
     "output_type": "stream",
     "text": [
      "\b\b- "
     ]
    },
    {
     "name": "stdout",
     "output_type": "stream",
     "text": [
      "\b\b\\ "
     ]
    },
    {
     "name": "stdout",
     "output_type": "stream",
     "text": [
      "\b\b| "
     ]
    },
    {
     "name": "stdout",
     "output_type": "stream",
     "text": [
      "\b\bdone\r\n"
     ]
    }
   ],
   "source": [
    "!mamba create -n py310 -c cctbx202208 -y\n",
    "!source /opt/conda/bin/activate py310 && mamba install -c cctbx202208 python jupyter mamba -y\n",
    "\n",
    "!sudo rm /opt/conda/bin/python3\n",
    "!sudo ln -sf /opt/conda/envs/py310/bin/python3 /opt/conda/bin/python3\n",
    "!sudo rm /opt/conda/bin/python3.7\n",
    "!sudo ln -sf /opt/conda/envs/py310/bin/python3 /opt/conda/bin/python3.7\n",
    "!sudo rm /opt/conda/bin/python\n",
    "!sudo ln -sf /opt/conda/envs/py310/bin/python3 /opt/conda/bin/python"
   ]
  },
  {
   "cell_type": "code",
   "execution_count": 2,
   "id": "4ef997d1",
   "metadata": {
    "execution": {
     "iopub.execute_input": "2023-04-06T12:27:40.932995Z",
     "iopub.status.busy": "2023-04-06T12:27:40.932602Z",
     "iopub.status.idle": "2023-04-06T12:27:41.862950Z",
     "shell.execute_reply": "2023-04-06T12:27:41.861748Z"
    },
    "papermill": {
     "duration": 1.06193,
     "end_time": "2023-04-06T12:27:41.865441",
     "exception": false,
     "start_time": "2023-04-06T12:27:40.803511",
     "status": "completed"
    },
    "tags": []
   },
   "outputs": [
    {
     "name": "stdout",
     "output_type": "stream",
     "text": [
      "Python 3.10.5\r\n"
     ]
    }
   ],
   "source": [
    "! python --version"
   ]
  },
  {
   "cell_type": "code",
   "execution_count": 3,
   "id": "7feb45f8",
   "metadata": {
    "_cell_guid": "b1076dfc-b9ad-4769-8c92-a6c4dae69d19",
    "_uuid": "8f2839f25d086af736a60e9eeb907d3b93b6e0e5",
    "execution": {
     "iopub.execute_input": "2023-04-06T12:27:42.185850Z",
     "iopub.status.busy": "2023-04-06T12:27:42.184624Z",
     "iopub.status.idle": "2023-04-06T12:27:54.847944Z",
     "shell.execute_reply": "2023-04-06T12:27:54.846744Z"
    },
    "papermill": {
     "duration": 12.797804,
     "end_time": "2023-04-06T12:27:54.850288",
     "exception": false,
     "start_time": "2023-04-06T12:27:42.052484",
     "status": "completed"
    },
    "tags": []
   },
   "outputs": [
    {
     "name": "stdout",
     "output_type": "stream",
     "text": [
      "Cloning into 'ml-agents'...\r\n"
     ]
    },
    {
     "name": "stdout",
     "output_type": "stream",
     "text": [
      "remote: Enumerating objects: 2331, done.\u001b[K\r\n",
      "remote: Counting objects:   0% (1/2331)\u001b[K\r",
      "remote: Counting objects:   1% (24/2331)\u001b[K\r",
      "remote: Counting objects:   2% (47/2331)\u001b[K\r",
      "remote: Counting objects:   3% (70/2331)\u001b[K\r",
      "remote: Counting objects:   4% (94/2331)\u001b[K\r",
      "remote: Counting objects:   5% (117/2331)\u001b[K\r",
      "remote: Counting objects:   6% (140/2331)\u001b[K\r",
      "remote: Counting objects:   7% (164/2331)\u001b[K\r",
      "remote: Counting objects:   8% (187/2331)\u001b[K\r",
      "remote: Counting objects:   9% (210/2331)\u001b[K\r",
      "remote: Counting objects:  10% (234/2331)\u001b[K\r",
      "remote: Counting objects:  11% (257/2331)\u001b[K\r",
      "remote: Counting objects:  12% (280/2331)\u001b[K\r",
      "remote: Counting objects:  13% (304/2331)\u001b[K\r",
      "remote: Counting objects:  14% (327/2331)\u001b[K\r",
      "remote: Counting objects:  15% (350/2331)\u001b[K\r",
      "remote: Counting objects:  16% (373/2331)\u001b[K\r",
      "remote: Counting objects:  17% (397/2331)\u001b[K\r",
      "remote: Counting objects:  18% (420/2331)\u001b[K\r",
      "remote: Counting objects:  19% (443/2331)\u001b[K\r",
      "remote: Counting objects:  20% (467/2331)\u001b[K\r",
      "remote: Counting objects:  21% (490/2331)\u001b[K\r",
      "remote: Counting objects:  22% (513/2331)\u001b[K\r",
      "remote: Counting objects:  23% (537/2331)\u001b[K\r",
      "remote: Counting objects:  24% (560/2331)\u001b[K\r",
      "remote: Counting objects:  25% (583/2331)\u001b[K\r",
      "remote: Counting objects:  26% (607/2331)\u001b[K\r",
      "remote: Counting objects:  27% (630/2331)\u001b[K\r",
      "remote: Counting objects:  28% (653/2331)\u001b[K\r",
      "remote: Counting objects:  29% (676/2331)\u001b[K\r",
      "remote: Counting objects:  30% (700/2331)\u001b[K\r",
      "remote: Counting objects:  31% (723/2331)\u001b[K\r",
      "remote: Counting objects:  32% (746/2331)\u001b[K\r",
      "remote: Counting objects:  33% (770/2331)\u001b[K\r",
      "remote: Counting objects:  34% (793/2331)\u001b[K\r",
      "remote: Counting objects:  35% (816/2331)\u001b[K\r",
      "remote: Counting objects:  36% (840/2331)\u001b[K\r",
      "remote: Counting objects:  37% (863/2331)\u001b[K\r",
      "remote: Counting objects:  38% (886/2331)\u001b[K\r",
      "remote: Counting objects:  39% (910/2331)\u001b[K\r",
      "remote: Counting objects:  40% (933/2331)\u001b[K\r",
      "remote: Counting objects:  41% (956/2331)\u001b[K\r",
      "remote: Counting objects:  42% (980/2331)\u001b[K\r",
      "remote: Counting objects:  43% (1003/2331)\u001b[K\r",
      "remote: Counting objects:  44% (1026/2331)\u001b[K\r",
      "remote: Counting objects:  45% (1049/2331)\u001b[K\r",
      "remote: Counting objects:  46% (1073/2331)\u001b[K\r",
      "remote: Counting objects:  47% (1096/2331)\u001b[K\r",
      "remote: Counting objects:  48% (1119/2331)\u001b[K\r",
      "remote: Counting objects:  49% (1143/2331)\u001b[K\r",
      "remote: Counting objects:  50% (1166/2331)\u001b[K\r",
      "remote: Counting objects:  51% (1189/2331)\u001b[K\r",
      "remote: Counting objects:  52% (1213/2331)\u001b[K\r",
      "remote: Counting objects:  53% (1236/2331)\u001b[K\r",
      "remote: Counting objects:  54% (1259/2331)\u001b[K\r",
      "remote: Counting objects:  55% (1283/2331)\u001b[K\r",
      "remote: Counting objects:  56% (1306/2331)\u001b[K\r",
      "remote: Counting objects:  57% (1329/2331)\u001b[K\r",
      "remote: Counting objects:  58% (1352/2331)\u001b[K\r",
      "remote: Counting objects:  59% (1376/2331)\u001b[K\r",
      "remote: Counting objects:  60% (1399/2331)\u001b[K\r",
      "remote: Counting objects:  61% (1422/2331)\u001b[K\r",
      "remote: Counting objects:  62% (1446/2331)\u001b[K\r",
      "remote: Counting objects:  63% (1469/2331)\u001b[K\r",
      "remote: Counting objects:  64% (1492/2331)\u001b[K\r",
      "remote: Counting objects:  65% (1516/2331)\u001b[K\r",
      "remote: Counting objects:  66% (1539/2331)\u001b[K\r",
      "remote: Counting objects:  67% (1562/2331)\u001b[K\r",
      "remote: Counting objects:  68% (1586/2331)\u001b[K\r",
      "remote: Counting objects:  69% (1609/2331)\u001b[K\r",
      "remote: Counting objects:  70% (1632/2331)\u001b[K\r",
      "remote: Counting objects:  71% (1656/2331)\u001b[K\r",
      "remote: Counting objects:  72% (1679/2331)\u001b[K\r",
      "remote: Counting objects:  73% (1702/2331)\u001b[K\r",
      "remote: Counting objects:  74% (1725/2331)\u001b[K\r",
      "remote: Counting objects:  75% (1749/2331)\u001b[K\r",
      "remote: Counting objects:  76% (1772/2331)\u001b[K\r",
      "remote: Counting objects:  77% (1795/2331)\u001b[K\r",
      "remote: Counting objects:  78% (1819/2331)\u001b[K\r",
      "remote: Counting objects:  79% (1842/2331)\u001b[K\r",
      "remote: Counting objects:  80% (1865/2331)\u001b[K\r",
      "remote: Counting objects:  81% (1889/2331)\u001b[K\r",
      "remote: Counting objects:  82% (1912/2331)\u001b[K\r",
      "remote: Counting objects:  83% (1935/2331)\u001b[K\r",
      "remote: Counting objects:  84% (1959/2331)\u001b[K\r",
      "remote: Counting objects:  85% (1982/2331)\u001b[K\r",
      "remote: Counting objects:  86% (2005/2331)\u001b[K\r",
      "remote: Counting objects:  87% (2028/2331)\u001b[K\r",
      "remote: Counting objects:  88% (2052/2331)\u001b[K\r",
      "remote: Counting objects:  89% (2075/2331)\u001b[K\r",
      "remote: Counting objects:  90% (2098/2331)\u001b[K\r",
      "remote: Counting objects:  91% (2122/2331)\u001b[K\r",
      "remote: Counting objects:  92% (2145/2331)\u001b[K\r",
      "remote: Counting objects:  93% (2168/2331)\u001b[K\r",
      "remote: Counting objects:  94% (2192/2331)\u001b[K\r",
      "remote: Counting objects:  95% (2215/2331)\u001b[K\r",
      "remote: Counting objects:  96% (2238/2331)\u001b[K\r",
      "remote: Counting objects:  97% (2262/2331)\u001b[K\r",
      "remote: Counting objects:  98% (2285/2331)\u001b[K\r",
      "remote: Counting objects:  99% (2308/2331)\u001b[K\r",
      "remote: Counting objects: 100% (2331/2331)\u001b[K\r",
      "remote: Counting objects: 100% (2331/2331), done.\u001b[K\r\n",
      "remote: Compressing objects:   0% (1/1906)\u001b[K\r"
     ]
    },
    {
     "name": "stdout",
     "output_type": "stream",
     "text": [
      "remote: Compressing objects:   1% (20/1906)\u001b[K\r",
      "remote: Compressing objects:   2% (39/1906)\u001b[K\r",
      "remote: Compressing objects:   3% (58/1906)\u001b[K\r",
      "remote: Compressing objects:   4% (77/1906)\u001b[K\r",
      "remote: Compressing objects:   5% (96/1906)\u001b[K\r",
      "remote: Compressing objects:   6% (115/1906)\u001b[K\r"
     ]
    },
    {
     "name": "stdout",
     "output_type": "stream",
     "text": [
      "remote: Compressing objects:   7% (134/1906)\u001b[K\r",
      "remote: Compressing objects:   8% (153/1906)\u001b[K\r",
      "remote: Compressing objects:   9% (172/1906)\u001b[K\r",
      "remote: Compressing objects:  10% (191/1906)\u001b[K\r",
      "remote: Compressing objects:  11% (210/1906)\u001b[K\r",
      "remote: Compressing objects:  12% (229/1906)\u001b[K\r",
      "remote: Compressing objects:  13% (248/1906)\u001b[K\r"
     ]
    },
    {
     "name": "stdout",
     "output_type": "stream",
     "text": [
      "remote: Compressing objects:  14% (267/1906)\u001b[K\r",
      "remote: Compressing objects:  15% (286/1906)\u001b[K\r",
      "remote: Compressing objects:  16% (305/1906)\u001b[K\r",
      "remote: Compressing objects:  17% (325/1906)\u001b[K\r",
      "remote: Compressing objects:  18% (344/1906)\u001b[K\r",
      "remote: Compressing objects:  19% (363/1906)\u001b[K\r"
     ]
    },
    {
     "name": "stdout",
     "output_type": "stream",
     "text": [
      "remote: Compressing objects:  20% (382/1906)\u001b[K\r",
      "remote: Compressing objects:  21% (401/1906)\u001b[K\r",
      "remote: Compressing objects:  22% (420/1906)\u001b[K\r",
      "remote: Compressing objects:  23% (439/1906)\u001b[K\r",
      "remote: Compressing objects:  24% (458/1906)\u001b[K\r",
      "remote: Compressing objects:  25% (477/1906)\u001b[K\r",
      "remote: Compressing objects:  26% (496/1906)\u001b[K\r"
     ]
    },
    {
     "name": "stdout",
     "output_type": "stream",
     "text": [
      "remote: Compressing objects:  27% (515/1906)\u001b[K\r",
      "remote: Compressing objects:  28% (534/1906)\u001b[K\r",
      "remote: Compressing objects:  29% (553/1906)\u001b[K\r",
      "remote: Compressing objects:  30% (572/1906)\u001b[K\r",
      "remote: Compressing objects:  31% (591/1906)\u001b[K\r",
      "remote: Compressing objects:  32% (610/1906)\u001b[K\r",
      "remote: Compressing objects:  33% (629/1906)\u001b[K\r",
      "remote: Compressing objects:  34% (649/1906)\u001b[K\r",
      "remote: Compressing objects:  35% (668/1906)\u001b[K\r",
      "remote: Compressing objects:  36% (687/1906)\u001b[K\r"
     ]
    },
    {
     "name": "stdout",
     "output_type": "stream",
     "text": [
      "remote: Compressing objects:  37% (706/1906)\u001b[K\r",
      "remote: Compressing objects:  38% (725/1906)\u001b[K\r",
      "remote: Compressing objects:  39% (744/1906)\u001b[K\r",
      "remote: Compressing objects:  40% (763/1906)\u001b[K\r",
      "remote: Compressing objects:  41% (782/1906)\u001b[K\r",
      "remote: Compressing objects:  42% (801/1906)\u001b[K\r",
      "remote: Compressing objects:  43% (820/1906)\u001b[K\r",
      "remote: Compressing objects:  44% (839/1906)\u001b[K\r",
      "remote: Compressing objects:  45% (858/1906)\u001b[K\r",
      "remote: Compressing objects:  46% (877/1906)\u001b[K\r",
      "remote: Compressing objects:  47% (896/1906)\u001b[K\r",
      "remote: Compressing objects:  48% (915/1906)\u001b[K\r",
      "remote: Compressing objects:  49% (934/1906)\u001b[K\r",
      "remote: Compressing objects:  50% (953/1906)\u001b[K\r",
      "remote: Compressing objects:  51% (973/1906)\u001b[K\r",
      "remote: Compressing objects:  52% (992/1906)\u001b[K\r",
      "remote: Compressing objects:  53% (1011/1906)\u001b[K\r",
      "remote: Compressing objects:  54% (1030/1906)\u001b[K\r",
      "remote: Compressing objects:  55% (1049/1906)\u001b[K\r",
      "remote: Compressing objects:  56% (1068/1906)\u001b[K\r",
      "remote: Compressing objects:  57% (1087/1906)\u001b[K\r",
      "remote: Compressing objects:  58% (1106/1906)\u001b[K\r",
      "remote: Compressing objects:  59% (1125/1906)\u001b[K\r",
      "remote: Compressing objects:  60% (1144/1906)\u001b[K\r",
      "remote: Compressing objects:  61% (1163/1906)\u001b[K\r",
      "remote: Compressing objects:  62% (1182/1906)\u001b[K\r",
      "remote: Compressing objects:  63% (1201/1906)\u001b[K\r",
      "remote: Compressing objects:  64% (1220/1906)\u001b[K\r",
      "remote: Compressing objects:  65% (1239/1906)\u001b[K\r",
      "remote: Compressing objects:  66% (1258/1906)\u001b[K\r",
      "remote: Compressing objects:  67% (1278/1906)\u001b[K\r",
      "remote: Compressing objects:  68% (1297/1906)\u001b[K\r",
      "remote: Compressing objects:  69% (1316/1906)\u001b[K\r",
      "remote: Compressing objects:  70% (1335/1906)\u001b[K\r",
      "remote: Compressing objects:  71% (1354/1906)\u001b[K\r",
      "remote: Compressing objects:  72% (1373/1906)\u001b[K\r",
      "remote: Compressing objects:  73% (1392/1906)\u001b[K\r",
      "remote: Compressing objects:  74% (1411/1906)\u001b[K\r",
      "remote: Compressing objects:  75% (1430/1906)\u001b[K\r",
      "remote: Compressing objects:  76% (1449/1906)\u001b[K\r",
      "remote: Compressing objects:  77% (1468/1906)\u001b[K\r",
      "remote: Compressing objects:  78% (1487/1906)\u001b[K\r",
      "remote: Compressing objects:  79% (1506/1906)\u001b[K\r",
      "remote: Compressing objects:  80% (1525/1906)\u001b[K\r",
      "remote: Compressing objects:  81% (1544/1906)\u001b[K\r"
     ]
    },
    {
     "name": "stdout",
     "output_type": "stream",
     "text": [
      "remote: Compressing objects:  82% (1563/1906)\u001b[K\r",
      "remote: Compressing objects:  83% (1582/1906)\u001b[K\r",
      "remote: Compressing objects:  84% (1602/1906)\u001b[K\r"
     ]
    },
    {
     "name": "stdout",
     "output_type": "stream",
     "text": [
      "remote: Compressing objects:  85% (1621/1906)\u001b[K\r",
      "remote: Compressing objects:  86% (1640/1906)\u001b[K\r",
      "remote: Compressing objects:  87% (1659/1906)\u001b[K\r",
      "remote: Compressing objects:  88% (1678/1906)\u001b[K\r",
      "remote: Compressing objects:  89% (1697/1906)\u001b[K\r",
      "remote: Compressing objects:  90% (1716/1906)\u001b[K\r",
      "remote: Compressing objects:  91% (1735/1906)\u001b[K\r",
      "remote: Compressing objects:  92% (1754/1906)\u001b[K\r",
      "remote: Compressing objects:  93% (1773/1906)\u001b[K\r",
      "remote: Compressing objects:  94% (1792/1906)\u001b[K\r",
      "remote: Compressing objects:  95% (1811/1906)\u001b[K\r",
      "remote: Compressing objects:  96% (1830/1906)\u001b[K\r",
      "remote: Compressing objects:  97% (1849/1906)\u001b[K\r",
      "remote: Compressing objects:  98% (1868/1906)\u001b[K\r",
      "remote: Compressing objects:  99% (1887/1906)\u001b[K\r",
      "remote: Compressing objects: 100% (1906/1906)\u001b[K\r",
      "remote: Compressing objects: 100% (1906/1906), done.\u001b[K\r\n",
      "Receiving objects:   0% (1/2331)\r",
      "Receiving objects:   1% (24/2331)\r",
      "Receiving objects:   2% (47/2331)\r",
      "Receiving objects:   3% (70/2331)\r",
      "Receiving objects:   4% (94/2331)\r",
      "Receiving objects:   5% (117/2331)\r",
      "Receiving objects:   6% (140/2331)\r",
      "Receiving objects:   7% (164/2331)\r",
      "Receiving objects:   8% (187/2331)\r"
     ]
    },
    {
     "name": "stdout",
     "output_type": "stream",
     "text": [
      "Receiving objects:   9% (210/2331)\r"
     ]
    },
    {
     "name": "stdout",
     "output_type": "stream",
     "text": [
      "Receiving objects:  10% (234/2331), 5.91 MiB | 11.58 MiB/s\r"
     ]
    },
    {
     "name": "stdout",
     "output_type": "stream",
     "text": [
      "Receiving objects:  11% (257/2331), 5.91 MiB | 11.58 MiB/s\r",
      "Receiving objects:  12% (280/2331), 5.91 MiB | 11.58 MiB/s\r"
     ]
    },
    {
     "name": "stdout",
     "output_type": "stream",
     "text": [
      "Receiving objects:  13% (304/2331), 5.91 MiB | 11.58 MiB/s\r",
      "Receiving objects:  14% (327/2331), 5.91 MiB | 11.58 MiB/s\r"
     ]
    },
    {
     "name": "stdout",
     "output_type": "stream",
     "text": [
      "Receiving objects:  14% (331/2331), 11.98 MiB | 11.73 MiB/s\r"
     ]
    },
    {
     "name": "stdout",
     "output_type": "stream",
     "text": [
      "Receiving objects:  15% (350/2331), 11.98 MiB | 11.73 MiB/s\r"
     ]
    },
    {
     "name": "stdout",
     "output_type": "stream",
     "text": [
      "Receiving objects:  16% (373/2331), 11.98 MiB | 11.73 MiB/s\r"
     ]
    },
    {
     "name": "stdout",
     "output_type": "stream",
     "text": [
      "Receiving objects:  17% (397/2331), 18.13 MiB | 11.92 MiB/s\r",
      "Receiving objects:  18% (420/2331), 18.13 MiB | 11.92 MiB/s\r",
      "Receiving objects:  19% (443/2331), 18.13 MiB | 11.92 MiB/s\r"
     ]
    },
    {
     "name": "stdout",
     "output_type": "stream",
     "text": [
      "Receiving objects:  19% (444/2331), 24.34 MiB | 11.94 MiB/s\r"
     ]
    },
    {
     "name": "stdout",
     "output_type": "stream",
     "text": [
      "Receiving objects:  20% (467/2331), 24.34 MiB | 11.94 MiB/s\r"
     ]
    },
    {
     "name": "stdout",
     "output_type": "stream",
     "text": [
      "Receiving objects:  21% (490/2331), 24.34 MiB | 11.94 MiB/s\r",
      "Receiving objects:  22% (513/2331), 24.34 MiB | 11.94 MiB/s\r"
     ]
    },
    {
     "name": "stdout",
     "output_type": "stream",
     "text": [
      "Receiving objects:  23% (537/2331), 24.34 MiB | 11.94 MiB/s\r"
     ]
    },
    {
     "name": "stdout",
     "output_type": "stream",
     "text": [
      "Receiving objects:  24% (560/2331), 24.34 MiB | 11.94 MiB/s\r",
      "Receiving objects:  25% (583/2331), 24.34 MiB | 11.94 MiB/s\r",
      "Receiving objects:  26% (607/2331), 24.34 MiB | 11.94 MiB/s\r",
      "Receiving objects:  27% (630/2331), 24.34 MiB | 11.94 MiB/s\r"
     ]
    },
    {
     "name": "stdout",
     "output_type": "stream",
     "text": [
      "Receiving objects:  28% (653/2331), 30.57 MiB | 11.96 MiB/s\r",
      "Receiving objects:  29% (676/2331), 30.57 MiB | 11.96 MiB/s\r",
      "Receiving objects:  30% (700/2331), 30.57 MiB | 11.96 MiB/s\r",
      "Receiving objects:  31% (723/2331), 30.57 MiB | 11.96 MiB/s\r",
      "Receiving objects:  32% (746/2331), 30.57 MiB | 11.96 MiB/s\r",
      "Receiving objects:  33% (770/2331), 30.57 MiB | 11.96 MiB/s\r",
      "Receiving objects:  34% (793/2331), 30.57 MiB | 11.96 MiB/s\r"
     ]
    },
    {
     "name": "stdout",
     "output_type": "stream",
     "text": [
      "Receiving objects:  35% (816/2331), 30.57 MiB | 11.96 MiB/s\r"
     ]
    },
    {
     "name": "stdout",
     "output_type": "stream",
     "text": [
      "Receiving objects:  35% (818/2331), 30.57 MiB | 11.96 MiB/s\r"
     ]
    },
    {
     "name": "stdout",
     "output_type": "stream",
     "text": [
      "Receiving objects:  36% (840/2331), 36.82 MiB | 12.05 MiB/s\r"
     ]
    },
    {
     "name": "stdout",
     "output_type": "stream",
     "text": [
      "Receiving objects:  37% (863/2331), 43.04 MiB | 12.08 MiB/s\r"
     ]
    },
    {
     "name": "stdout",
     "output_type": "stream",
     "text": [
      "Receiving objects:  38% (886/2331), 43.04 MiB | 12.08 MiB/s\r",
      "Receiving objects:  39% (910/2331), 43.04 MiB | 12.08 MiB/s\r"
     ]
    },
    {
     "name": "stdout",
     "output_type": "stream",
     "text": [
      "Receiving objects:  39% (916/2331), 43.04 MiB | 12.08 MiB/s\r",
      "Receiving objects:  40% (933/2331), 43.04 MiB | 12.08 MiB/s\r"
     ]
    },
    {
     "name": "stdout",
     "output_type": "stream",
     "text": [
      "Receiving objects:  41% (956/2331), 48.70 MiB | 11.95 MiB/s\r"
     ]
    },
    {
     "name": "stdout",
     "output_type": "stream",
     "text": [
      "Receiving objects:  41% (972/2331), 53.29 MiB | 11.62 MiB/s\r",
      "Receiving objects:  42% (980/2331), 53.29 MiB | 11.62 MiB/s\r"
     ]
    },
    {
     "name": "stdout",
     "output_type": "stream",
     "text": [
      "Receiving objects:  43% (1003/2331), 58.17 MiB | 11.39 MiB/s\r",
      "Receiving objects:  44% (1026/2331), 58.17 MiB | 11.39 MiB/s\r",
      "Receiving objects:  45% (1049/2331), 58.17 MiB | 11.39 MiB/s\r",
      "Receiving objects:  46% (1073/2331), 58.17 MiB | 11.39 MiB/s\r",
      "Receiving objects:  47% (1096/2331), 58.17 MiB | 11.39 MiB/s\r",
      "Receiving objects:  48% (1119/2331), 58.17 MiB | 11.39 MiB/s\r",
      "Receiving objects:  49% (1143/2331), 58.17 MiB | 11.39 MiB/s\r",
      "Receiving objects:  50% (1166/2331), 58.17 MiB | 11.39 MiB/s\r"
     ]
    },
    {
     "name": "stdout",
     "output_type": "stream",
     "text": [
      "Receiving objects:  51% (1189/2331), 58.17 MiB | 11.39 MiB/s\r"
     ]
    },
    {
     "name": "stdout",
     "output_type": "stream",
     "text": [
      "Receiving objects:  51% (1199/2331), 68.67 MiB | 10.96 MiB/s\r"
     ]
    },
    {
     "name": "stdout",
     "output_type": "stream",
     "text": [
      "Receiving objects:  52% (1213/2331), 68.67 MiB | 10.96 MiB/s\r"
     ]
    },
    {
     "name": "stdout",
     "output_type": "stream",
     "text": [
      "Receiving objects:  53% (1236/2331), 68.67 MiB | 10.96 MiB/s\r",
      "Receiving objects:  54% (1259/2331), 68.67 MiB | 10.96 MiB/s\r",
      "Receiving objects:  55% (1283/2331), 68.67 MiB | 10.96 MiB/s\r",
      "Receiving objects:  56% (1306/2331), 68.67 MiB | 10.96 MiB/s\r",
      "Receiving objects:  57% (1329/2331), 68.67 MiB | 10.96 MiB/s\r",
      "Receiving objects:  58% (1352/2331), 68.67 MiB | 10.96 MiB/s\r",
      "Receiving objects:  59% (1376/2331), 68.67 MiB | 10.96 MiB/s\r",
      "Receiving objects:  60% (1399/2331), 68.67 MiB | 10.96 MiB/s\r",
      "Receiving objects:  61% (1422/2331), 68.67 MiB | 10.96 MiB/s\r",
      "Receiving objects:  62% (1446/2331), 68.67 MiB | 10.96 MiB/s\r"
     ]
    },
    {
     "name": "stdout",
     "output_type": "stream",
     "text": [
      "Receiving objects:  63% (1469/2331), 68.67 MiB | 10.96 MiB/s\r",
      "Receiving objects:  64% (1492/2331), 68.67 MiB | 10.96 MiB/s\r",
      "Receiving objects:  65% (1516/2331), 68.67 MiB | 10.96 MiB/s\r",
      "Receiving objects:  66% (1539/2331), 68.67 MiB | 10.96 MiB/s\r",
      "Receiving objects:  67% (1562/2331), 68.67 MiB | 10.96 MiB/s\r",
      "Receiving objects:  68% (1586/2331), 68.67 MiB | 10.96 MiB/s\r",
      "Receiving objects:  69% (1609/2331), 68.67 MiB | 10.96 MiB/s\r",
      "Receiving objects:  70% (1632/2331), 68.67 MiB | 10.96 MiB/s\r"
     ]
    },
    {
     "name": "stdout",
     "output_type": "stream",
     "text": [
      "Receiving objects:  71% (1656/2331), 74.24 MiB | 10.82 MiB/s\r",
      "Receiving objects:  72% (1679/2331), 74.24 MiB | 10.82 MiB/s\r",
      "Receiving objects:  73% (1702/2331), 74.24 MiB | 10.82 MiB/s\r",
      "Receiving objects:  74% (1725/2331), 74.24 MiB | 10.82 MiB/s\r",
      "Receiving objects:  75% (1749/2331), 74.24 MiB | 10.82 MiB/s\r",
      "Receiving objects:  76% (1772/2331), 74.24 MiB | 10.82 MiB/s\r",
      "Receiving objects:  77% (1795/2331), 74.24 MiB | 10.82 MiB/s\r",
      "Receiving objects:  78% (1819/2331), 74.24 MiB | 10.82 MiB/s\r"
     ]
    },
    {
     "name": "stdout",
     "output_type": "stream",
     "text": [
      "Receiving objects:  79% (1842/2331), 74.24 MiB | 10.82 MiB/s\r"
     ]
    },
    {
     "name": "stdout",
     "output_type": "stream",
     "text": [
      "Receiving objects:  79% (1848/2331), 74.24 MiB | 10.82 MiB/s\r"
     ]
    },
    {
     "name": "stdout",
     "output_type": "stream",
     "text": [
      "Receiving objects:  80% (1865/2331), 79.95 MiB | 10.73 MiB/s\r"
     ]
    },
    {
     "name": "stdout",
     "output_type": "stream",
     "text": [
      "Receiving objects:  81% (1889/2331), 85.76 MiB | 10.63 MiB/s\r"
     ]
    },
    {
     "name": "stdout",
     "output_type": "stream",
     "text": [
      "Receiving objects:  82% (1912/2331), 85.76 MiB | 10.63 MiB/s\r"
     ]
    },
    {
     "name": "stdout",
     "output_type": "stream",
     "text": [
      "Receiving objects:  82% (1921/2331), 85.76 MiB | 10.63 MiB/s\r",
      "Receiving objects:  83% (1935/2331), 85.76 MiB | 10.63 MiB/s\r"
     ]
    },
    {
     "name": "stdout",
     "output_type": "stream",
     "text": [
      "Receiving objects:  84% (1959/2331), 91.72 MiB | 10.59 MiB/s\r"
     ]
    },
    {
     "name": "stdout",
     "output_type": "stream",
     "text": [
      "Receiving objects:  85% (1982/2331), 91.72 MiB | 10.59 MiB/s\r"
     ]
    },
    {
     "name": "stdout",
     "output_type": "stream",
     "text": [
      "Receiving objects:  86% (2005/2331), 97.76 MiB | 10.67 MiB/s\r",
      "Receiving objects:  87% (2028/2331), 97.76 MiB | 10.67 MiB/s\r",
      "Receiving objects:  88% (2052/2331), 97.76 MiB | 10.67 MiB/s\r"
     ]
    },
    {
     "name": "stdout",
     "output_type": "stream",
     "text": [
      "Receiving objects:  89% (2075/2331), 97.76 MiB | 10.67 MiB/s\r",
      "Receiving objects:  90% (2098/2331), 97.76 MiB | 10.67 MiB/s\r",
      "Receiving objects:  91% (2122/2331), 97.76 MiB | 10.67 MiB/s\r",
      "Receiving objects:  92% (2145/2331), 97.76 MiB | 10.67 MiB/s\r",
      "Receiving objects:  93% (2168/2331), 97.76 MiB | 10.67 MiB/s\r",
      "Receiving objects:  94% (2192/2331), 97.76 MiB | 10.67 MiB/s\r",
      "Receiving objects:  95% (2215/2331), 97.76 MiB | 10.67 MiB/s\r",
      "Receiving objects:  96% (2238/2331), 97.76 MiB | 10.67 MiB/s\r",
      "remote: Total 2331 (delta 878), reused 1154 (delta 404), pack-reused 0\u001b[K\r\n",
      "Receiving objects:  97% (2262/2331), 97.76 MiB | 10.67 MiB/s\r",
      "Receiving objects:  98% (2285/2331), 97.76 MiB | 10.67 MiB/s\r",
      "Receiving objects:  99% (2308/2331), 97.76 MiB | 10.67 MiB/s\r",
      "Receiving objects: 100% (2331/2331), 97.76 MiB | 10.67 MiB/s\r",
      "Receiving objects: 100% (2331/2331), 98.22 MiB | 11.24 MiB/s, done.\r\n",
      "Resolving deltas:   0% (0/878)\r",
      "Resolving deltas:   1% (9/878)\r",
      "Resolving deltas:   2% (18/878)\r",
      "Resolving deltas:   3% (27/878)\r",
      "Resolving deltas:   4% (36/878)\r",
      "Resolving deltas:   5% (44/878)\r",
      "Resolving deltas:   6% (53/878)\r",
      "Resolving deltas:   7% (62/878)\r",
      "Resolving deltas:   8% (71/878)\r",
      "Resolving deltas:   9% (80/878)\r",
      "Resolving deltas:  10% (88/878)\r",
      "Resolving deltas:  11% (97/878)\r",
      "Resolving deltas:  12% (106/878)\r",
      "Resolving deltas:  13% (115/878)\r",
      "Resolving deltas:  14% (123/878)\r",
      "Resolving deltas:  15% (132/878)\r",
      "Resolving deltas:  16% (141/878)\r",
      "Resolving deltas:  17% (150/878)\r",
      "Resolving deltas:  18% (159/878)\r",
      "Resolving deltas:  19% (167/878)\r",
      "Resolving deltas:  20% (176/878)\r",
      "Resolving deltas:  21% (185/878)\r",
      "Resolving deltas:  22% (194/878)\r",
      "Resolving deltas:  23% (202/878)\r",
      "Resolving deltas:  24% (211/878)\r",
      "Resolving deltas:  25% (220/878)\r",
      "Resolving deltas:  26% (229/878)\r",
      "Resolving deltas:  27% (238/878)\r",
      "Resolving deltas:  28% (246/878)\r",
      "Resolving deltas:  29% (255/878)\r",
      "Resolving deltas:  30% (264/878)\r",
      "Resolving deltas:  31% (273/878)\r",
      "Resolving deltas:  32% (281/878)\r",
      "Resolving deltas:  33% (290/878)\r",
      "Resolving deltas:  34% (299/878)\r",
      "Resolving deltas:  35% (308/878)\r",
      "Resolving deltas:  36% (317/878)\r",
      "Resolving deltas:  37% (325/878)\r",
      "Resolving deltas:  38% (334/878)\r",
      "Resolving deltas:  39% (343/878)\r",
      "Resolving deltas:  40% (352/878)\r",
      "Resolving deltas:  41% (360/878)\r",
      "Resolving deltas:  42% (369/878)\r",
      "Resolving deltas:  43% (378/878)\r",
      "Resolving deltas:  44% (387/878)\r",
      "Resolving deltas:  45% (396/878)\r",
      "Resolving deltas:  46% (404/878)\r",
      "Resolving deltas:  47% (413/878)\r",
      "Resolving deltas:  48% (422/878)\r"
     ]
    },
    {
     "name": "stdout",
     "output_type": "stream",
     "text": [
      "Resolving deltas:  49% (431/878)\r",
      "Resolving deltas:  50% (439/878)\r",
      "Resolving deltas:  51% (448/878)\r",
      "Resolving deltas:  52% (457/878)\r",
      "Resolving deltas:  53% (466/878)\r",
      "Resolving deltas:  54% (475/878)\r",
      "Resolving deltas:  55% (483/878)\r",
      "Resolving deltas:  56% (492/878)\r",
      "Resolving deltas:  57% (501/878)\r",
      "Resolving deltas:  58% (510/878)\r",
      "Resolving deltas:  59% (519/878)\r",
      "Resolving deltas:  60% (527/878)\r",
      "Resolving deltas:  61% (536/878)\r",
      "Resolving deltas:  62% (545/878)\r",
      "Resolving deltas:  63% (554/878)\r",
      "Resolving deltas:  64% (562/878)\r",
      "Resolving deltas:  65% (571/878)\r",
      "Resolving deltas:  66% (580/878)\r",
      "Resolving deltas:  67% (589/878)\r",
      "Resolving deltas:  68% (598/878)\r",
      "Resolving deltas:  69% (606/878)\r",
      "Resolving deltas:  70% (615/878)\r",
      "Resolving deltas:  71% (624/878)\r",
      "Resolving deltas:  72% (633/878)\r",
      "Resolving deltas:  73% (641/878)\r",
      "Resolving deltas:  74% (650/878)\r",
      "Resolving deltas:  75% (659/878)\r",
      "Resolving deltas:  76% (668/878)\r",
      "Resolving deltas:  77% (677/878)\r",
      "Resolving deltas:  78% (685/878)\r",
      "Resolving deltas:  79% (694/878)\r",
      "Resolving deltas:  80% (703/878)\r",
      "Resolving deltas:  81% (712/878)\r",
      "Resolving deltas:  82% (720/878)\r",
      "Resolving deltas:  83% (729/878)\r",
      "Resolving deltas:  84% (738/878)\r",
      "Resolving deltas:  85% (747/878)\r",
      "Resolving deltas:  86% (756/878)\r",
      "Resolving deltas:  87% (764/878)\r",
      "Resolving deltas:  88% (773/878)\r",
      "Resolving deltas:  89% (782/878)\r",
      "Resolving deltas:  90% (791/878)\r",
      "Resolving deltas:  91% (799/878)\r",
      "Resolving deltas:  92% (808/878)\r",
      "Resolving deltas:  93% (817/878)\r",
      "Resolving deltas:  94% (826/878)\r",
      "Resolving deltas:  95% (835/878)\r",
      "Resolving deltas:  96% (843/878)\r",
      "Resolving deltas:  97% (852/878)\r",
      "Resolving deltas:  98% (861/878)\r",
      "Resolving deltas:  99% (870/878)\r",
      "Resolving deltas: 100% (878/878)\r",
      "Resolving deltas: 100% (878/878), done.\r\n"
     ]
    },
    {
     "name": "stdout",
     "output_type": "stream",
     "text": [
      "Updating files:  82% (1779/2160)\r",
      "Updating files:  83% (1793/2160)\r"
     ]
    },
    {
     "name": "stdout",
     "output_type": "stream",
     "text": [
      "Updating files:  84% (1815/2160)\r",
      "Updating files:  85% (1836/2160)\r",
      "Updating files:  86% (1858/2160)\r",
      "Updating files:  87% (1880/2160)\r",
      "Updating files:  88% (1901/2160)\r",
      "Updating files:  89% (1923/2160)\r",
      "Updating files:  90% (1944/2160)\r",
      "Updating files:  91% (1966/2160)\r",
      "Updating files:  92% (1988/2160)\r",
      "Updating files:  93% (2009/2160)\r",
      "Updating files:  94% (2031/2160)\r",
      "Updating files:  95% (2052/2160)\r",
      "Updating files:  96% (2074/2160)\r",
      "Updating files:  97% (2096/2160)\r",
      "Updating files:  98% (2117/2160)\r",
      "Updating files:  99% (2139/2160)\r",
      "Updating files: 100% (2160/2160)\r",
      "Updating files: 100% (2160/2160), done.\r\n"
     ]
    }
   ],
   "source": [
    "!git clone --depth 1 --branch hf-integration https://github.com/huggingface/ml-agents"
   ]
  },
  {
   "cell_type": "code",
   "execution_count": 4,
   "id": "6e1be0dc",
   "metadata": {
    "execution": {
     "iopub.execute_input": "2023-04-06T12:27:55.113835Z",
     "iopub.status.busy": "2023-04-06T12:27:55.113433Z",
     "iopub.status.idle": "2023-04-06T12:28:52.090719Z",
     "shell.execute_reply": "2023-04-06T12:28:52.089414Z"
    },
    "papermill": {
     "duration": 57.111823,
     "end_time": "2023-04-06T12:28:52.093494",
     "exception": false,
     "start_time": "2023-04-06T12:27:54.981671",
     "status": "completed"
    },
    "tags": []
   },
   "outputs": [
    {
     "name": "stdout",
     "output_type": "stream",
     "text": [
      "/kaggle/working/ml-agents\n"
     ]
    },
    {
     "name": "stdout",
     "output_type": "stream",
     "text": [
      "Obtaining file:///kaggle/working/ml-agents/ml-agents-envs\r\n"
     ]
    },
    {
     "name": "stdout",
     "output_type": "stream",
     "text": [
      "  Preparing metadata (setup.py) ... \u001b[?25l-"
     ]
    },
    {
     "name": "stdout",
     "output_type": "stream",
     "text": [
      "\b \bdone\r\n"
     ]
    },
    {
     "name": "stdout",
     "output_type": "stream",
     "text": [
      "\u001b[?25hCollecting cloudpickle\r\n"
     ]
    },
    {
     "name": "stdout",
     "output_type": "stream",
     "text": [
      "  Downloading cloudpickle-2.2.1-py3-none-any.whl (25 kB)\r\n"
     ]
    },
    {
     "name": "stdout",
     "output_type": "stream",
     "text": [
      "Collecting grpcio>=1.11.0\r\n",
      "  Downloading grpcio-1.53.0-cp310-cp310-manylinux_2_17_x86_64.manylinux2014_x86_64.whl (5.0 MB)\r\n",
      "\u001b[?25l     \u001b[90m━━━━━━━━━━━━━━━━━━━━━━━━━━━━━━━━━━━━━━━━\u001b[0m \u001b[32m0.0/5.0 MB\u001b[0m \u001b[31m?\u001b[0m eta \u001b[36m-:--:--\u001b[0m"
     ]
    },
    {
     "name": "stdout",
     "output_type": "stream",
     "text": [
      "\r",
      "\u001b[2K     \u001b[91m━━━━━━━━━━━━━━━━━━━━━━━━━━━━━━━━━━\u001b[0m\u001b[90m╺\u001b[0m\u001b[90m━━━━━\u001b[0m \u001b[32m4.3/5.0 MB\u001b[0m \u001b[31m123.6 MB/s\u001b[0m eta \u001b[36m0:00:01\u001b[0m\r",
      "\u001b[2K     \u001b[90m━━━━━━━━━━━━━━━━━━━━━━━━━━━━━━━━━━━━━━━━\u001b[0m \u001b[32m5.0/5.0 MB\u001b[0m \u001b[31m74.0 MB/s\u001b[0m eta \u001b[36m0:00:00\u001b[0m\r\n",
      "\u001b[?25h"
     ]
    },
    {
     "name": "stdout",
     "output_type": "stream",
     "text": [
      "Collecting numpy>=1.14.1\r\n",
      "  Downloading numpy-1.24.2-cp310-cp310-manylinux_2_17_x86_64.manylinux2014_x86_64.whl (17.3 MB)\r\n",
      "\u001b[?25l     \u001b[90m━━━━━━━━━━━━━━━━━━━━━━━━━━━━━━━━━━━━━━━━\u001b[0m \u001b[32m0.0/17.3 MB\u001b[0m \u001b[31m?\u001b[0m eta \u001b[36m-:--:--\u001b[0m"
     ]
    },
    {
     "name": "stdout",
     "output_type": "stream",
     "text": [
      "\r",
      "\u001b[2K     \u001b[91m━━━━━━━━━━━━\u001b[0m\u001b[91m╸\u001b[0m\u001b[90m━━━━━━━━━━━━━━━━━━━━━━━━━━━\u001b[0m \u001b[32m5.6/17.3 MB\u001b[0m \u001b[31m168.5 MB/s\u001b[0m eta \u001b[36m0:00:01\u001b[0m\r",
      "\u001b[2K     \u001b[91m━━━━━━━━━━━━━━━━━━━━━━━━━━━━\u001b[0m\u001b[90m╺\u001b[0m\u001b[90m━━━━━━━━━━\u001b[0m \u001b[32m12.5/17.3 MB\u001b[0m \u001b[31m181.2 MB/s\u001b[0m eta \u001b[36m0:00:01\u001b[0m"
     ]
    },
    {
     "name": "stdout",
     "output_type": "stream",
     "text": [
      "\r",
      "\u001b[2K     \u001b[91m━━━━━━━━━━━━━━━━━━━━━━━━━━━━━━━━━━━━━━\u001b[0m\u001b[91m╸\u001b[0m \u001b[32m17.3/17.3 MB\u001b[0m \u001b[31m198.5 MB/s\u001b[0m eta \u001b[36m0:00:01\u001b[0m"
     ]
    },
    {
     "name": "stdout",
     "output_type": "stream",
     "text": [
      "\r",
      "\u001b[2K     \u001b[91m━━━━━━━━━━━━━━━━━━━━━━━━━━━━━━━━━━━━━━\u001b[0m\u001b[91m╸\u001b[0m \u001b[32m17.3/17.3 MB\u001b[0m \u001b[31m198.5 MB/s\u001b[0m eta \u001b[36m0:00:01\u001b[0m"
     ]
    },
    {
     "name": "stdout",
     "output_type": "stream",
     "text": [
      "\r",
      "\u001b[2K     \u001b[91m━━━━━━━━━━━━━━━━━━━━━━━━━━━━━━━━━━━━━━\u001b[0m\u001b[91m╸\u001b[0m \u001b[32m17.3/17.3 MB\u001b[0m \u001b[31m198.5 MB/s\u001b[0m eta \u001b[36m0:00:01\u001b[0m\r",
      "\u001b[2K     \u001b[90m━━━━━━━━━━━━━━━━━━━━━━━━━━━━━━━━━━━━━━━━\u001b[0m \u001b[32m17.3/17.3 MB\u001b[0m \u001b[31m71.1 MB/s\u001b[0m eta \u001b[36m0:00:00\u001b[0m\r\n",
      "\u001b[?25h"
     ]
    },
    {
     "name": "stdout",
     "output_type": "stream",
     "text": [
      "Collecting Pillow>=4.2.1\r\n",
      "  Downloading Pillow-9.5.0-cp310-cp310-manylinux_2_28_x86_64.whl (3.4 MB)\r\n",
      "\u001b[?25l"
     ]
    },
    {
     "name": "stdout",
     "output_type": "stream",
     "text": [
      "     \u001b[90m━━━━━━━━━━━━━━━━━━━━━━━━━━━━━━━━━━━━━━━━\u001b[0m \u001b[32m0.0/3.4 MB\u001b[0m \u001b[31m?\u001b[0m eta \u001b[36m-:--:--\u001b[0m\r",
      "\u001b[2K     \u001b[91m━━━━━━━━━━━━━━━━━━━━━━━━━━━━━━━━━━━━━━━\u001b[0m\u001b[91m╸\u001b[0m \u001b[32m3.4/3.4 MB\u001b[0m \u001b[31m196.9 MB/s\u001b[0m eta \u001b[36m0:00:01\u001b[0m\r",
      "\u001b[2K     \u001b[90m━━━━━━━━━━━━━━━━━━━━━━━━━━━━━━━━━━━━━━━━\u001b[0m \u001b[32m3.4/3.4 MB\u001b[0m \u001b[31m85.3 MB/s\u001b[0m eta \u001b[36m0:00:00\u001b[0m\r\n",
      "\u001b[?25h"
     ]
    },
    {
     "name": "stdout",
     "output_type": "stream",
     "text": [
      "Collecting protobuf>=3.6\r\n",
      "  Downloading protobuf-4.22.1-cp37-abi3-manylinux2014_x86_64.whl (302 kB)\r\n",
      "\u001b[?25l"
     ]
    },
    {
     "name": "stdout",
     "output_type": "stream",
     "text": [
      "     \u001b[90m━━━━━━━━━━━━━━━━━━━━━━━━━━━━━━━━━━━━━━━━\u001b[0m \u001b[32m0.0/302.4 kB\u001b[0m \u001b[31m?\u001b[0m eta \u001b[36m-:--:--\u001b[0m\r",
      "\u001b[2K     \u001b[90m━━━━━━━━━━━━━━━━━━━━━━━━━━━━━━━━━━━━━━\u001b[0m \u001b[32m302.4/302.4 kB\u001b[0m \u001b[31m27.0 MB/s\u001b[0m eta \u001b[36m0:00:00\u001b[0m\r\n",
      "\u001b[?25h"
     ]
    },
    {
     "name": "stdout",
     "output_type": "stream",
     "text": [
      "Collecting pyyaml>=3.1.0\r\n",
      "  Downloading PyYAML-6.0-cp310-cp310-manylinux_2_5_x86_64.manylinux1_x86_64.manylinux_2_12_x86_64.manylinux2010_x86_64.whl (682 kB)\r\n",
      "\u001b[?25l     \u001b[90m━━━━━━━━━━━━━━━━━━━━━━━━━━━━━━━━━━━━━━━━\u001b[0m \u001b[32m0.0/682.2 kB\u001b[0m \u001b[31m?\u001b[0m eta \u001b[36m-:--:--\u001b[0m"
     ]
    },
    {
     "name": "stdout",
     "output_type": "stream",
     "text": [
      "\r",
      "\u001b[2K     \u001b[90m━━━━━━━━━━━━━━━━━━━━━━━━━━━━━━━━━━━━━━\u001b[0m \u001b[32m682.2/682.2 kB\u001b[0m \u001b[31m54.0 MB/s\u001b[0m eta \u001b[36m0:00:00\u001b[0m\r\n",
      "\u001b[?25hCollecting gym>=0.21.0\r\n"
     ]
    },
    {
     "name": "stdout",
     "output_type": "stream",
     "text": [
      "  Downloading gym-0.26.2.tar.gz (721 kB)\r\n",
      "\u001b[?25l     \u001b[90m━━━━━━━━━━━━━━━━━━━━━━━━━━━━━━━━━━━━━━━━\u001b[0m \u001b[32m0.0/721.7 kB\u001b[0m \u001b[31m?\u001b[0m eta \u001b[36m-:--:--\u001b[0m\r",
      "\u001b[2K     \u001b[90m━━━━━━━━━━━━━━━━━━━━━━━━━━━━━━━━━━━━━━\u001b[0m \u001b[32m721.7/721.7 kB\u001b[0m \u001b[31m19.1 MB/s\u001b[0m eta \u001b[36m0:00:00\u001b[0m\r\n",
      "\u001b[?25h"
     ]
    },
    {
     "name": "stdout",
     "output_type": "stream",
     "text": [
      "  Installing build dependencies ... \u001b[?25l-"
     ]
    },
    {
     "name": "stdout",
     "output_type": "stream",
     "text": [
      "\b \b\\"
     ]
    },
    {
     "name": "stdout",
     "output_type": "stream",
     "text": [
      "\b \b|"
     ]
    },
    {
     "name": "stdout",
     "output_type": "stream",
     "text": [
      "\b \b/"
     ]
    },
    {
     "name": "stdout",
     "output_type": "stream",
     "text": [
      "\b \bdone\r\n"
     ]
    },
    {
     "name": "stdout",
     "output_type": "stream",
     "text": [
      "\u001b[?25h  Getting requirements to build wheel ... \u001b[?25l-"
     ]
    },
    {
     "name": "stdout",
     "output_type": "stream",
     "text": [
      "\b \bdone\r\n"
     ]
    },
    {
     "name": "stdout",
     "output_type": "stream",
     "text": [
      "\u001b[?25h  Preparing metadata (pyproject.toml) ... \u001b[?25l-"
     ]
    },
    {
     "name": "stdout",
     "output_type": "stream",
     "text": [
      "\b \bdone\r\n"
     ]
    },
    {
     "name": "stdout",
     "output_type": "stream",
     "text": [
      "\u001b[?25hCollecting pettingzoo==1.15.0\r\n",
      "  Downloading PettingZoo-1.15.0.tar.gz (756 kB)\r\n",
      "\u001b[?25l"
     ]
    },
    {
     "name": "stdout",
     "output_type": "stream",
     "text": [
      "     \u001b[90m━━━━━━━━━━━━━━━━━━━━━━━━━━━━━━━━━━━━━━━━\u001b[0m \u001b[32m0.0/756.7 kB\u001b[0m \u001b[31m?\u001b[0m eta \u001b[36m-:--:--\u001b[0m\r",
      "\u001b[2K     \u001b[90m━━━━━━━━━━━━━━━━━━━━━━━━━━━━━━━━━━━━━━\u001b[0m \u001b[32m756.7/756.7 kB\u001b[0m \u001b[31m52.4 MB/s\u001b[0m eta \u001b[36m0:00:00\u001b[0m\r\n",
      "\u001b[?25h"
     ]
    },
    {
     "name": "stdout",
     "output_type": "stream",
     "text": [
      "  Preparing metadata (setup.py) ... \u001b[?25l-"
     ]
    },
    {
     "name": "stdout",
     "output_type": "stream",
     "text": [
      "\b \bdone\r\n",
      "\u001b[?25hCollecting numpy>=1.14.1\r\n",
      "  Downloading numpy-1.21.2-cp310-cp310-manylinux_2_17_x86_64.manylinux2014_x86_64.whl (15.9 MB)\r\n",
      "\u001b[?25l     \u001b[90m━━━━━━━━━━━━━━━━━━━━━━━━━━━━━━━━━━━━━━━━\u001b[0m \u001b[32m0.0/15.9 MB\u001b[0m \u001b[31m?\u001b[0m eta \u001b[36m-:--:--\u001b[0m"
     ]
    },
    {
     "name": "stdout",
     "output_type": "stream",
     "text": [
      "\r",
      "\u001b[2K     \u001b[91m━━━━━━━━━━━━━━\u001b[0m\u001b[90m╺\u001b[0m\u001b[90m━━━━━━━━━━━━━━━━━━━━━━━━━\u001b[0m \u001b[32m5.8/15.9 MB\u001b[0m \u001b[31m173.2 MB/s\u001b[0m eta \u001b[36m0:00:01\u001b[0m"
     ]
    },
    {
     "name": "stdout",
     "output_type": "stream",
     "text": [
      "\r",
      "\u001b[2K     \u001b[91m━━━━━━━━━━━━━━━━━━━━━━━━━━━━━\u001b[0m\u001b[91m╸\u001b[0m\u001b[90m━━━━━━━━━\u001b[0m \u001b[32m12.2/15.9 MB\u001b[0m \u001b[31m175.2 MB/s\u001b[0m eta \u001b[36m0:00:01\u001b[0m"
     ]
    },
    {
     "name": "stdout",
     "output_type": "stream",
     "text": [
      "\r",
      "\u001b[2K     \u001b[91m━━━━━━━━━━━━━━━━━━━━━━━━━━━━━━━━━━━━━━\u001b[0m\u001b[91m╸\u001b[0m \u001b[32m15.9/15.9 MB\u001b[0m \u001b[31m188.5 MB/s\u001b[0m eta \u001b[36m0:00:01\u001b[0m\r",
      "\u001b[2K     \u001b[91m━━━━━━━━━━━━━━━━━━━━━━━━━━━━━━━━━━━━━━\u001b[0m\u001b[91m╸\u001b[0m \u001b[32m15.9/15.9 MB\u001b[0m \u001b[31m188.5 MB/s\u001b[0m eta \u001b[36m0:00:01\u001b[0m"
     ]
    },
    {
     "name": "stdout",
     "output_type": "stream",
     "text": [
      "\r",
      "\u001b[2K     \u001b[90m━━━━━━━━━━━━━━━━━━━━━━━━━━━━━━━━━━━━━━━━\u001b[0m \u001b[32m15.9/15.9 MB\u001b[0m \u001b[31m77.3 MB/s\u001b[0m eta \u001b[36m0:00:00\u001b[0m\r\n",
      "\u001b[?25h"
     ]
    },
    {
     "name": "stdout",
     "output_type": "stream",
     "text": [
      "Collecting filelock>=3.4.0\r\n",
      "  Downloading filelock-3.10.7-py3-none-any.whl (10 kB)\r\n"
     ]
    },
    {
     "name": "stdout",
     "output_type": "stream",
     "text": [
      "Collecting gym-notices>=0.0.4\r\n",
      "  Downloading gym_notices-0.0.8-py3-none-any.whl (3.0 kB)\r\n"
     ]
    },
    {
     "name": "stdout",
     "output_type": "stream",
     "text": [
      "Building wheels for collected packages: pettingzoo, gym\r\n"
     ]
    },
    {
     "name": "stdout",
     "output_type": "stream",
     "text": [
      "  Building wheel for pettingzoo (setup.py) ... \u001b[?25l-"
     ]
    },
    {
     "name": "stdout",
     "output_type": "stream",
     "text": [
      "\b \b\\"
     ]
    },
    {
     "name": "stdout",
     "output_type": "stream",
     "text": [
      "\b \b|"
     ]
    },
    {
     "name": "stdout",
     "output_type": "stream",
     "text": [
      "\b \b/"
     ]
    },
    {
     "name": "stdout",
     "output_type": "stream",
     "text": [
      "\b \bdone\r\n",
      "\u001b[?25h  Created wheel for pettingzoo: filename=PettingZoo-1.15.0-py3-none-any.whl size=875660 sha256=393993d48926f007c7d7ba64a1a91c478d9b231c4efa8702a537a8aa7a2ab8d8\r\n",
      "  Stored in directory: /root/.cache/pip/wheels/e3/35/ac/76984cb1c12902d190c818d57c43d25c3f9281591a640ccd13\r\n"
     ]
    },
    {
     "name": "stdout",
     "output_type": "stream",
     "text": [
      "  Building wheel for gym (pyproject.toml) ... \u001b[?25l-"
     ]
    },
    {
     "name": "stdout",
     "output_type": "stream",
     "text": [
      "\b \b\\"
     ]
    },
    {
     "name": "stdout",
     "output_type": "stream",
     "text": [
      "\b \b|"
     ]
    },
    {
     "name": "stdout",
     "output_type": "stream",
     "text": [
      "\b \bdone\r\n",
      "\u001b[?25h  Created wheel for gym: filename=gym-0.26.2-py3-none-any.whl size=827636 sha256=5918d15783559850328649f3e457ec5e080f7fc4f3f05510d19647191c17a12f\r\n",
      "  Stored in directory: /root/.cache/pip/wheels/b9/22/6d/3e7b32d98451b4cd9d12417052affbeeeea012955d437da1da\r\n",
      "Successfully built pettingzoo gym\r\n"
     ]
    },
    {
     "name": "stdout",
     "output_type": "stream",
     "text": [
      "Installing collected packages: gym-notices, pyyaml, protobuf, Pillow, numpy, grpcio, filelock, cloudpickle, gym, pettingzoo, mlagents-envs\r\n"
     ]
    },
    {
     "name": "stdout",
     "output_type": "stream",
     "text": [
      "\u001b[33m  WARNING: The scripts f2py, f2py3 and f2py3.10 are installed in '/opt/conda/envs/py310/bin' which is not on PATH.\r\n",
      "  Consider adding this directory to PATH or, if you prefer to suppress this warning, use --no-warn-script-location.\u001b[0m\u001b[33m\r\n",
      "\u001b[0m"
     ]
    },
    {
     "name": "stdout",
     "output_type": "stream",
     "text": [
      "  Running setup.py develop for mlagents-envs\r\n"
     ]
    },
    {
     "name": "stdout",
     "output_type": "stream",
     "text": [
      "Successfully installed Pillow-9.5.0 cloudpickle-2.2.1 filelock-3.10.7 grpcio-1.53.0 gym-0.26.2 gym-notices-0.0.8 mlagents-envs-0.31.0.dev0 numpy-1.21.2 pettingzoo-1.15.0 protobuf-4.22.1 pyyaml-6.0\r\n",
      "\u001b[33mWARNING: Running pip as the 'root' user can result in broken permissions and conflicting behaviour with the system package manager. It is recommended to use a virtual environment instead: https://pip.pypa.io/warnings/venv\u001b[0m\u001b[33m\r\n",
      "\u001b[0m"
     ]
    },
    {
     "name": "stdout",
     "output_type": "stream",
     "text": [
      "Obtaining file:///kaggle/working/ml-agents/ml-agents\r\n"
     ]
    },
    {
     "name": "stdout",
     "output_type": "stream",
     "text": [
      "  Preparing metadata (setup.py) ... \u001b[?25l-"
     ]
    },
    {
     "name": "stdout",
     "output_type": "stream",
     "text": [
      "\b \bdone\r\n"
     ]
    },
    {
     "name": "stdout",
     "output_type": "stream",
     "text": [
      "\u001b[?25hRequirement already satisfied: grpcio>=1.11.0 in /opt/conda/envs/py310/lib/python3.10/site-packages (from mlagents==0.31.0.dev0) (1.53.0)\r\n"
     ]
    },
    {
     "name": "stdout",
     "output_type": "stream",
     "text": [
      "Collecting h5py>=2.9.0\r\n"
     ]
    },
    {
     "name": "stdout",
     "output_type": "stream",
     "text": [
      "  Downloading h5py-3.8.0-cp310-cp310-manylinux_2_17_x86_64.manylinux2014_x86_64.whl (4.6 MB)\r\n",
      "\u001b[?25l     \u001b[90m━━━━━━━━━━━━━━━━━━━━━━━━━━━━━━━━━━━━━━━━\u001b[0m \u001b[32m0.0/4.6 MB\u001b[0m \u001b[31m?\u001b[0m eta \u001b[36m-:--:--\u001b[0m"
     ]
    },
    {
     "name": "stdout",
     "output_type": "stream",
     "text": [
      "\r",
      "\u001b[2K     \u001b[91m━━━━━━━━━━━━━━━━━━━━━━━━━━\u001b[0m\u001b[91m╸\u001b[0m\u001b[90m━━━━━━━━━━━━━\u001b[0m \u001b[32m3.1/4.6 MB\u001b[0m \u001b[31m93.8 MB/s\u001b[0m eta \u001b[36m0:00:01\u001b[0m\r",
      "\u001b[2K     \u001b[90m━━━━━━━━━━━━━━━━━━━━━━━━━━━━━━━━━━━━━━━━\u001b[0m \u001b[32m4.6/4.6 MB\u001b[0m \u001b[31m68.3 MB/s\u001b[0m eta \u001b[36m0:00:00\u001b[0m\r\n",
      "\u001b[?25h"
     ]
    },
    {
     "name": "stdout",
     "output_type": "stream",
     "text": [
      "Requirement already satisfied: mlagents_envs==0.31.0.dev0 in ./ml-agents-envs (from mlagents==0.31.0.dev0) (0.31.0.dev0)\r\n",
      "Requirement already satisfied: numpy<2.0,>=1.13.3 in /opt/conda/envs/py310/lib/python3.10/site-packages (from mlagents==0.31.0.dev0) (1.21.2)\r\n",
      "Requirement already satisfied: Pillow>=4.2.1 in /opt/conda/envs/py310/lib/python3.10/site-packages (from mlagents==0.31.0.dev0) (9.5.0)\r\n",
      "Requirement already satisfied: protobuf>=3.6 in /opt/conda/envs/py310/lib/python3.10/site-packages (from mlagents==0.31.0.dev0) (4.22.1)\r\n",
      "Requirement already satisfied: pyyaml>=3.1.0 in /opt/conda/envs/py310/lib/python3.10/site-packages (from mlagents==0.31.0.dev0) (6.0)\r\n",
      "Collecting tensorboard>=1.15\r\n"
     ]
    },
    {
     "name": "stdout",
     "output_type": "stream",
     "text": [
      "  Downloading tensorboard-2.12.1-py3-none-any.whl (5.6 MB)\r\n",
      "\u001b[?25l     \u001b[90m━━━━━━━━━━━━━━━━━━━━━━━━━━━━━━━━━━━━━━━━\u001b[0m \u001b[32m0.0/5.6 MB\u001b[0m \u001b[31m?\u001b[0m eta \u001b[36m-:--:--\u001b[0m\r",
      "\u001b[2K     \u001b[91m━━━━━━━━━━━━━━━━━━━━━━━━━━━━━━━━━━━━━━━\u001b[0m\u001b[91m╸\u001b[0m \u001b[32m5.6/5.6 MB\u001b[0m \u001b[31m210.4 MB/s\u001b[0m eta \u001b[36m0:00:01\u001b[0m"
     ]
    },
    {
     "name": "stdout",
     "output_type": "stream",
     "text": [
      "\r",
      "\u001b[2K     \u001b[90m━━━━━━━━━━━━━━━━━━━━━━━━━━━━━━━━━━━━━━━━\u001b[0m \u001b[32m5.6/5.6 MB\u001b[0m \u001b[31m92.7 MB/s\u001b[0m eta \u001b[36m0:00:00\u001b[0m\r\n",
      "\u001b[?25hRequirement already satisfied: attrs>=19.3.0 in /opt/conda/envs/py310/lib/python3.10/site-packages (from mlagents==0.31.0.dev0) (22.1.0)\r\n"
     ]
    },
    {
     "name": "stdout",
     "output_type": "stream",
     "text": [
      "Collecting huggingface_hub~=0.8\r\n",
      "  Downloading huggingface_hub-0.13.3-py3-none-any.whl (199 kB)\r\n",
      "\u001b[?25l     \u001b[90m━━━━━━━━━━━━━━━━━━━━━━━━━━━━━━━━━━━━━━━━\u001b[0m \u001b[32m0.0/199.8 kB\u001b[0m \u001b[31m?\u001b[0m eta \u001b[36m-:--:--\u001b[0m"
     ]
    },
    {
     "name": "stdout",
     "output_type": "stream",
     "text": [
      "\r",
      "\u001b[2K     \u001b[90m━━━━━━━━━━━━━━━━━━━━━━━━━━━━━━━━━━━━━━\u001b[0m \u001b[32m199.8/199.8 kB\u001b[0m \u001b[31m19.0 MB/s\u001b[0m eta \u001b[36m0:00:00\u001b[0m\r\n",
      "\u001b[?25h"
     ]
    },
    {
     "name": "stdout",
     "output_type": "stream",
     "text": [
      "Collecting torch<=1.11.0,>=1.8.0\r\n",
      "  Downloading torch-1.11.0-cp310-cp310-manylinux1_x86_64.whl (750.6 MB)\r\n",
      "\u001b[?25l     \u001b[90m━━━━━━━━━━━━━━━━━━━━━━━━━━━━━━━━━━━━━━━━\u001b[0m \u001b[32m0.0/750.6 MB\u001b[0m \u001b[31m?\u001b[0m eta \u001b[36m-:--:--\u001b[0m"
     ]
    },
    {
     "name": "stdout",
     "output_type": "stream",
     "text": [
      "\r",
      "\u001b[2K     \u001b[90m━━━━━━━━━━━━━━━━━━━━━━━━━━━━━━━━━━━━━━━\u001b[0m \u001b[32m6.3/750.6 MB\u001b[0m \u001b[31m191.4 MB/s\u001b[0m eta \u001b[36m0:00:04\u001b[0m"
     ]
    },
    {
     "name": "stdout",
     "output_type": "stream",
     "text": [
      "\r",
      "\u001b[2K     \u001b[91m╸\u001b[0m\u001b[90m━━━━━━━━━━━━━━━━━━━━━━━━━━━━━━━━━━━━━\u001b[0m \u001b[32m11.7/750.6 MB\u001b[0m \u001b[31m171.9 MB/s\u001b[0m eta \u001b[36m0:00:05\u001b[0m\r",
      "\u001b[2K     \u001b[91m╸\u001b[0m\u001b[90m━━━━━━━━━━━━━━━━━━━━━━━━━━━━━━━━━━━━━\u001b[0m \u001b[32m15.7/750.6 MB\u001b[0m \u001b[31m137.1 MB/s\u001b[0m eta \u001b[36m0:00:06\u001b[0m"
     ]
    },
    {
     "name": "stdout",
     "output_type": "stream",
     "text": [
      "\r",
      "\u001b[2K     \u001b[91m━\u001b[0m\u001b[90m╺\u001b[0m\u001b[90m━━━━━━━━━━━━━━━━━━━━━━━━━━━━━━━━━━━━\u001b[0m \u001b[32m19.9/750.6 MB\u001b[0m \u001b[31m142.0 MB/s\u001b[0m eta \u001b[36m0:00:06\u001b[0m"
     ]
    },
    {
     "name": "stdout",
     "output_type": "stream",
     "text": [
      "\r",
      "\u001b[2K     \u001b[91m━\u001b[0m\u001b[90m╺\u001b[0m\u001b[90m━━━━━━━━━━━━━━━━━━━━━━━━━━━━━━━━━━━━\u001b[0m \u001b[32m26.8/750.6 MB\u001b[0m \u001b[31m140.1 MB/s\u001b[0m eta \u001b[36m0:00:06\u001b[0m"
     ]
    },
    {
     "name": "stdout",
     "output_type": "stream",
     "text": [
      "\r",
      "\u001b[2K     \u001b[91m━\u001b[0m\u001b[91m╸\u001b[0m\u001b[90m━━━━━━━━━━━━━━━━━━━━━━━━━━━━━━━━━━━━\u001b[0m \u001b[32m31.6/750.6 MB\u001b[0m \u001b[31m127.9 MB/s\u001b[0m eta \u001b[36m0:00:06\u001b[0m"
     ]
    },
    {
     "name": "stdout",
     "output_type": "stream",
     "text": [
      "\r",
      "\u001b[2K     \u001b[91m━\u001b[0m\u001b[91m╸\u001b[0m\u001b[90m━━━━━━━━━━━━━━━━━━━━━━━━━━━━━━━━━━━━\u001b[0m \u001b[32m35.6/750.6 MB\u001b[0m \u001b[31m110.4 MB/s\u001b[0m eta \u001b[36m0:00:07\u001b[0m\r",
      "\u001b[2K     \u001b[91m━━\u001b[0m\u001b[90m╺\u001b[0m\u001b[90m━━━━━━━━━━━━━━━━━━━━━━━━━━━━━━━━━━━\u001b[0m \u001b[32m39.6/750.6 MB\u001b[0m \u001b[31m110.7 MB/s\u001b[0m eta \u001b[36m0:00:07\u001b[0m"
     ]
    },
    {
     "name": "stdout",
     "output_type": "stream",
     "text": [
      "\r",
      "\u001b[2K     \u001b[91m━━\u001b[0m\u001b[90m╺\u001b[0m\u001b[90m━━━━━━━━━━━━━━━━━━━━━━━━━━━━━━━━━━━\u001b[0m \u001b[32m45.9/750.6 MB\u001b[0m \u001b[31m150.1 MB/s\u001b[0m eta \u001b[36m0:00:05\u001b[0m"
     ]
    },
    {
     "name": "stdout",
     "output_type": "stream",
     "text": [
      "\r",
      "\u001b[2K     \u001b[91m━━\u001b[0m\u001b[91m╸\u001b[0m\u001b[90m━━━━━━━━━━━━━━━━━━━━━━━━━━━━━━━━━━━\u001b[0m \u001b[32m52.1/750.6 MB\u001b[0m \u001b[31m180.7 MB/s\u001b[0m eta \u001b[36m0:00:04\u001b[0m\r",
      "\u001b[2K     \u001b[91m━━\u001b[0m\u001b[91m╸\u001b[0m\u001b[90m━━━━━━━━━━━━━━━━━━━━━━━━━━━━━━━━━━━\u001b[0m \u001b[32m58.6/750.6 MB\u001b[0m \u001b[31m180.7 MB/s\u001b[0m eta \u001b[36m0:00:04\u001b[0m"
     ]
    },
    {
     "name": "stdout",
     "output_type": "stream",
     "text": [
      "\r",
      "\u001b[2K     \u001b[91m━━━\u001b[0m\u001b[90m╺\u001b[0m\u001b[90m━━━━━━━━━━━━━━━━━━━━━━━━━━━━━━━━━━\u001b[0m \u001b[32m64.8/750.6 MB\u001b[0m \u001b[31m179.9 MB/s\u001b[0m eta \u001b[36m0:00:04\u001b[0m"
     ]
    },
    {
     "name": "stdout",
     "output_type": "stream",
     "text": [
      "\r",
      "\u001b[2K     \u001b[91m━━━\u001b[0m\u001b[91m╸\u001b[0m\u001b[90m━━━━━━━━━━━━━━━━━━━━━━━━━━━━━━━━━━\u001b[0m \u001b[32m70.9/750.6 MB\u001b[0m \u001b[31m179.9 MB/s\u001b[0m eta \u001b[36m0:00:04\u001b[0m\r",
      "\u001b[2K     \u001b[91m━━━\u001b[0m\u001b[91m╸\u001b[0m\u001b[90m━━━━━━━━━━━━━━━━━━━━━━━━━━━━━━━━━━\u001b[0m \u001b[32m77.4/750.6 MB\u001b[0m \u001b[31m178.8 MB/s\u001b[0m eta \u001b[36m0:00:04\u001b[0m"
     ]
    },
    {
     "name": "stdout",
     "output_type": "stream",
     "text": [
      "\r",
      "\u001b[2K     \u001b[91m━━━━\u001b[0m\u001b[90m╺\u001b[0m\u001b[90m━━━━━━━━━━━━━━━━━━━━━━━━━━━━━━━━━\u001b[0m \u001b[32m83.6/750.6 MB\u001b[0m \u001b[31m181.1 MB/s\u001b[0m eta \u001b[36m0:00:04\u001b[0m"
     ]
    },
    {
     "name": "stdout",
     "output_type": "stream",
     "text": [
      "\r",
      "\u001b[2K     \u001b[91m━━━━\u001b[0m\u001b[91m╸\u001b[0m\u001b[90m━━━━━━━━━━━━━━━━━━━━━━━━━━━━━━━━━\u001b[0m \u001b[32m89.7/750.6 MB\u001b[0m \u001b[31m178.2 MB/s\u001b[0m eta \u001b[36m0:00:04\u001b[0m"
     ]
    },
    {
     "name": "stdout",
     "output_type": "stream",
     "text": [
      "\r",
      "\u001b[2K     \u001b[91m━━━━\u001b[0m\u001b[91m╸\u001b[0m\u001b[90m━━━━━━━━━━━━━━━━━━━━━━━━━━━━━━━━━\u001b[0m \u001b[32m96.2/750.6 MB\u001b[0m \u001b[31m179.9 MB/s\u001b[0m eta \u001b[36m0:00:04\u001b[0m\r",
      "\u001b[2K     \u001b[91m━━━━━\u001b[0m\u001b[90m╺\u001b[0m\u001b[90m━━━━━━━━━━━━━━━━━━━━━━━━━━━━━━━\u001b[0m \u001b[32m102.7/750.6 MB\u001b[0m \u001b[31m176.3 MB/s\u001b[0m eta \u001b[36m0:00:04\u001b[0m"
     ]
    },
    {
     "name": "stdout",
     "output_type": "stream",
     "text": [
      "\r",
      "\u001b[2K     \u001b[91m━━━━━\u001b[0m\u001b[90m╺\u001b[0m\u001b[90m━━━━━━━━━━━━━━━━━━━━━━━━━━━━━━━\u001b[0m \u001b[32m109.1/750.6 MB\u001b[0m \u001b[31m183.6 MB/s\u001b[0m eta \u001b[36m0:00:04\u001b[0m"
     ]
    },
    {
     "name": "stdout",
     "output_type": "stream",
     "text": [
      "\r",
      "\u001b[2K     \u001b[91m━━━━━\u001b[0m\u001b[91m╸\u001b[0m\u001b[90m━━━━━━━━━━━━━━━━━━━━━━━━━━━━━━━\u001b[0m \u001b[32m115.1/750.6 MB\u001b[0m \u001b[31m177.8 MB/s\u001b[0m eta \u001b[36m0:00:04\u001b[0m\r",
      "\u001b[2K     \u001b[91m━━━━━━\u001b[0m\u001b[90m╺\u001b[0m\u001b[90m━━━━━━━━━━━━━━━━━━━━━━━━━━━━━━\u001b[0m \u001b[32m122.1/750.6 MB\u001b[0m \u001b[31m186.6 MB/s\u001b[0m eta \u001b[36m0:00:04\u001b[0m"
     ]
    },
    {
     "name": "stdout",
     "output_type": "stream",
     "text": [
      "\r",
      "\u001b[2K     \u001b[91m━━━━━━\u001b[0m\u001b[90m╺\u001b[0m\u001b[90m━━━━━━━━━━━━━━━━━━━━━━━━━━━━━━\u001b[0m \u001b[32m128.5/750.6 MB\u001b[0m \u001b[31m187.4 MB/s\u001b[0m eta \u001b[36m0:00:04\u001b[0m"
     ]
    },
    {
     "name": "stdout",
     "output_type": "stream",
     "text": [
      "\r",
      "\u001b[2K     \u001b[91m━━━━━━\u001b[0m\u001b[91m╸\u001b[0m\u001b[90m━━━━━━━━━━━━━━━━━━━━━━━━━━━━━━\u001b[0m \u001b[32m134.7/750.6 MB\u001b[0m \u001b[31m185.4 MB/s\u001b[0m eta \u001b[36m0:00:04\u001b[0m\r",
      "\u001b[2K     \u001b[91m━━━━━━\u001b[0m\u001b[91m╸\u001b[0m\u001b[90m━━━━━━━━━━━━━━━━━━━━━━━━━━━━━━\u001b[0m \u001b[32m141.1/750.6 MB\u001b[0m \u001b[31m179.6 MB/s\u001b[0m eta \u001b[36m0:00:04\u001b[0m"
     ]
    },
    {
     "name": "stdout",
     "output_type": "stream",
     "text": [
      "\r",
      "\u001b[2K     \u001b[91m━━━━━━━\u001b[0m\u001b[90m╺\u001b[0m\u001b[90m━━━━━━━━━━━━━━━━━━━━━━━━━━━━━\u001b[0m \u001b[32m147.5/750.6 MB\u001b[0m \u001b[31m182.1 MB/s\u001b[0m eta \u001b[36m0:00:04\u001b[0m"
     ]
    },
    {
     "name": "stdout",
     "output_type": "stream",
     "text": [
      "\r",
      "\u001b[2K     \u001b[91m━━━━━━━\u001b[0m\u001b[91m╸\u001b[0m\u001b[90m━━━━━━━━━━━━━━━━━━━━━━━━━━━━━\u001b[0m \u001b[32m153.7/750.6 MB\u001b[0m \u001b[31m184.4 MB/s\u001b[0m eta \u001b[36m0:00:04\u001b[0m\r",
      "\u001b[2K     \u001b[91m━━━━━━━\u001b[0m\u001b[91m╸\u001b[0m\u001b[90m━━━━━━━━━━━━━━━━━━━━━━━━━━━━━\u001b[0m \u001b[32m160.2/750.6 MB\u001b[0m \u001b[31m182.7 MB/s\u001b[0m eta \u001b[36m0:00:04\u001b[0m"
     ]
    },
    {
     "name": "stdout",
     "output_type": "stream",
     "text": [
      "\r",
      "\u001b[2K     \u001b[91m━━━━━━━━\u001b[0m\u001b[90m╺\u001b[0m\u001b[90m━━━━━━━━━━━━━━━━━━━━━━━━━━━━\u001b[0m \u001b[32m166.7/750.6 MB\u001b[0m \u001b[31m186.4 MB/s\u001b[0m eta \u001b[36m0:00:04\u001b[0m"
     ]
    },
    {
     "name": "stdout",
     "output_type": "stream",
     "text": [
      "\r",
      "\u001b[2K     \u001b[91m━━━━━━━━\u001b[0m\u001b[91m╸\u001b[0m\u001b[90m━━━━━━━━━━━━━━━━━━━━━━━━━━━━\u001b[0m \u001b[32m173.0/750.6 MB\u001b[0m \u001b[31m187.3 MB/s\u001b[0m eta \u001b[36m0:00:04\u001b[0m"
     ]
    },
    {
     "name": "stdout",
     "output_type": "stream",
     "text": [
      "\r",
      "\u001b[2K     \u001b[91m━━━━━━━━\u001b[0m\u001b[91m╸\u001b[0m\u001b[90m━━━━━━━━━━━━━━━━━━━━━━━━━━━━\u001b[0m \u001b[32m179.5/750.6 MB\u001b[0m \u001b[31m184.2 MB/s\u001b[0m eta \u001b[36m0:00:04\u001b[0m\r",
      "\u001b[2K     \u001b[91m━━━━━━━━━\u001b[0m\u001b[90m╺\u001b[0m\u001b[90m━━━━━━━━━━━━━━━━━━━━━━━━━━━\u001b[0m \u001b[32m186.2/750.6 MB\u001b[0m \u001b[31m187.6 MB/s\u001b[0m eta \u001b[36m0:00:04\u001b[0m"
     ]
    },
    {
     "name": "stdout",
     "output_type": "stream",
     "text": [
      "\r",
      "\u001b[2K     \u001b[91m━━━━━━━━━\u001b[0m\u001b[90m╺\u001b[0m\u001b[90m━━━━━━━━━━━━━━━━━━━━━━━━━━━\u001b[0m \u001b[32m192.5/750.6 MB\u001b[0m \u001b[31m184.2 MB/s\u001b[0m eta \u001b[36m0:00:04\u001b[0m"
     ]
    },
    {
     "name": "stdout",
     "output_type": "stream",
     "text": [
      "\r",
      "\u001b[2K     \u001b[91m━━━━━━━━━\u001b[0m\u001b[91m╸\u001b[0m\u001b[90m━━━━━━━━━━━━━━━━━━━━━━━━━━━\u001b[0m \u001b[32m198.6/750.6 MB\u001b[0m \u001b[31m177.8 MB/s\u001b[0m eta \u001b[36m0:00:04\u001b[0m\r",
      "\u001b[2K     \u001b[91m━━━━━━━━━━\u001b[0m\u001b[90m╺\u001b[0m\u001b[90m━━━━━━━━━━━━━━━━━━━━━━━━━━\u001b[0m \u001b[32m205.2/750.6 MB\u001b[0m \u001b[31m182.8 MB/s\u001b[0m eta \u001b[36m0:00:03\u001b[0m"
     ]
    },
    {
     "name": "stdout",
     "output_type": "stream",
     "text": [
      "\r",
      "\u001b[2K     \u001b[91m━━━━━━━━━━\u001b[0m\u001b[90m╺\u001b[0m\u001b[90m━━━━━━━━━━━━━━━━━━━━━━━━━━\u001b[0m \u001b[32m211.7/750.6 MB\u001b[0m \u001b[31m186.0 MB/s\u001b[0m eta \u001b[36m0:00:03\u001b[0m"
     ]
    },
    {
     "name": "stdout",
     "output_type": "stream",
     "text": [
      "\r",
      "\u001b[2K     \u001b[91m━━━━━━━━━━\u001b[0m\u001b[91m╸\u001b[0m\u001b[90m━━━━━━━━━━━━━━━━━━━━━━━━━━\u001b[0m \u001b[32m217.8/750.6 MB\u001b[0m \u001b[31m183.5 MB/s\u001b[0m eta \u001b[36m0:00:03\u001b[0m\r",
      "\u001b[2K     \u001b[91m━━━━━━━━━━━\u001b[0m\u001b[90m╺\u001b[0m\u001b[90m━━━━━━━━━━━━━━━━━━━━━━━━━\u001b[0m \u001b[32m224.4/750.6 MB\u001b[0m \u001b[31m181.5 MB/s\u001b[0m eta \u001b[36m0:00:03\u001b[0m"
     ]
    },
    {
     "name": "stdout",
     "output_type": "stream",
     "text": [
      "\r",
      "\u001b[2K     \u001b[91m━━━━━━━━━━━\u001b[0m\u001b[90m╺\u001b[0m\u001b[90m━━━━━━━━━━━━━━━━━━━━━━━━━\u001b[0m \u001b[32m231.2/750.6 MB\u001b[0m \u001b[31m187.6 MB/s\u001b[0m eta \u001b[36m0:00:03\u001b[0m"
     ]
    },
    {
     "name": "stdout",
     "output_type": "stream",
     "text": [
      "\r",
      "\u001b[2K     \u001b[91m━━━━━━━━━━━\u001b[0m\u001b[91m╸\u001b[0m\u001b[90m━━━━━━━━━━━━━━━━━━━━━━━━━\u001b[0m \u001b[32m237.5/750.6 MB\u001b[0m \u001b[31m186.6 MB/s\u001b[0m eta \u001b[36m0:00:03\u001b[0m\r",
      "\u001b[2K     \u001b[91m━━━━━━━━━━━━\u001b[0m\u001b[90m╺\u001b[0m\u001b[90m━━━━━━━━━━━━━━━━━━━━━━━━\u001b[0m \u001b[32m244.0/750.6 MB\u001b[0m \u001b[31m181.1 MB/s\u001b[0m eta \u001b[36m0:00:03\u001b[0m"
     ]
    },
    {
     "name": "stdout",
     "output_type": "stream",
     "text": [
      "\r",
      "\u001b[2K     \u001b[91m━━━━━━━━━━━━\u001b[0m\u001b[90m╺\u001b[0m\u001b[90m━━━━━━━━━━━━━━━━━━━━━━━━\u001b[0m \u001b[32m250.4/750.6 MB\u001b[0m \u001b[31m184.5 MB/s\u001b[0m eta \u001b[36m0:00:03\u001b[0m"
     ]
    },
    {
     "name": "stdout",
     "output_type": "stream",
     "text": [
      "\r",
      "\u001b[2K     \u001b[91m━━━━━━━━━━━━\u001b[0m\u001b[91m╸\u001b[0m\u001b[90m━━━━━━━━━━━━━━━━━━━━━━━━\u001b[0m \u001b[32m256.8/750.6 MB\u001b[0m \u001b[31m187.8 MB/s\u001b[0m eta \u001b[36m0:00:03\u001b[0m"
     ]
    },
    {
     "name": "stdout",
     "output_type": "stream",
     "text": [
      "\r",
      "\u001b[2K     \u001b[91m━━━━━━━━━━━━\u001b[0m\u001b[91m╸\u001b[0m\u001b[90m━━━━━━━━━━━━━━━━━━━━━━━━\u001b[0m \u001b[32m263.2/750.6 MB\u001b[0m \u001b[31m182.4 MB/s\u001b[0m eta \u001b[36m0:00:03\u001b[0m\r",
      "\u001b[2K     \u001b[91m━━━━━━━━━━━━━\u001b[0m\u001b[90m╺\u001b[0m\u001b[90m━━━━━━━━━━━━━━━━━━━━━━━\u001b[0m \u001b[32m269.9/750.6 MB\u001b[0m \u001b[31m185.0 MB/s\u001b[0m eta \u001b[36m0:00:03\u001b[0m"
     ]
    },
    {
     "name": "stdout",
     "output_type": "stream",
     "text": [
      "\r",
      "\u001b[2K     \u001b[91m━━━━━━━━━━━━━\u001b[0m\u001b[91m╸\u001b[0m\u001b[90m━━━━━━━━━━━━━━━━━━━━━━━\u001b[0m \u001b[32m276.1/750.6 MB\u001b[0m \u001b[31m183.9 MB/s\u001b[0m eta \u001b[36m0:00:03\u001b[0m"
     ]
    },
    {
     "name": "stdout",
     "output_type": "stream",
     "text": [
      "\r",
      "\u001b[2K     \u001b[91m━━━━━━━━━━━━━\u001b[0m\u001b[91m╸\u001b[0m\u001b[90m━━━━━━━━━━━━━━━━━━━━━━━\u001b[0m \u001b[32m282.5/750.6 MB\u001b[0m \u001b[31m177.5 MB/s\u001b[0m eta \u001b[36m0:00:03\u001b[0m\r",
      "\u001b[2K     \u001b[91m━━━━━━━━━━━━━━\u001b[0m\u001b[90m╺\u001b[0m\u001b[90m━━━━━━━━━━━━━━━━━━━━━━\u001b[0m \u001b[32m289.2/750.6 MB\u001b[0m \u001b[31m182.3 MB/s\u001b[0m eta \u001b[36m0:00:03\u001b[0m"
     ]
    },
    {
     "name": "stdout",
     "output_type": "stream",
     "text": [
      "\r",
      "\u001b[2K     \u001b[91m━━━━━━━━━━━━━━\u001b[0m\u001b[91m╸\u001b[0m\u001b[90m━━━━━━━━━━━━━━━━━━━━━━\u001b[0m \u001b[32m295.2/750.6 MB\u001b[0m \u001b[31m180.3 MB/s\u001b[0m eta \u001b[36m0:00:03\u001b[0m"
     ]
    },
    {
     "name": "stdout",
     "output_type": "stream",
     "text": [
      "\r",
      "\u001b[2K     \u001b[91m━━━━━━━━━━━━━━\u001b[0m\u001b[91m╸\u001b[0m\u001b[90m━━━━━━━━━━━━━━━━━━━━━━\u001b[0m \u001b[32m299.9/750.6 MB\u001b[0m \u001b[31m193.8 MB/s\u001b[0m eta \u001b[36m0:00:03\u001b[0m\r",
      "\u001b[2K     \u001b[91m━━━━━━━━━━━━━━\u001b[0m\u001b[91m╸\u001b[0m\u001b[90m━━━━━━━━━━━━━━━━━━━━━━\u001b[0m \u001b[32m299.9/750.6 MB\u001b[0m \u001b[31m193.8 MB/s\u001b[0m eta \u001b[36m0:00:03\u001b[0m"
     ]
    },
    {
     "name": "stdout",
     "output_type": "stream",
     "text": [
      "\r",
      "\u001b[2K     \u001b[91m━━━━━━━━━━━━━━\u001b[0m\u001b[91m╸\u001b[0m\u001b[90m━━━━━━━━━━━━━━━━━━━━━━\u001b[0m \u001b[32m299.9/750.6 MB\u001b[0m \u001b[31m193.8 MB/s\u001b[0m eta \u001b[36m0:00:03\u001b[0m"
     ]
    },
    {
     "name": "stdout",
     "output_type": "stream",
     "text": [
      "\r",
      "\u001b[2K     \u001b[91m━━━━━━━━━━━━━━━\u001b[0m\u001b[90m╺\u001b[0m\u001b[90m━━━━━━━━━━━━━━━━━━━━━━\u001b[0m \u001b[32m301.8/750.6 MB\u001b[0m \u001b[31m63.6 MB/s\u001b[0m eta \u001b[36m0:00:08\u001b[0m\r",
      "\u001b[2K     \u001b[91m━━━━━━━━━━━━━━━\u001b[0m\u001b[90m╺\u001b[0m\u001b[90m━━━━━━━━━━━━━━━━━━━━━━\u001b[0m \u001b[32m304.5/750.6 MB\u001b[0m \u001b[31m56.0 MB/s\u001b[0m eta \u001b[36m0:00:08\u001b[0m"
     ]
    },
    {
     "name": "stdout",
     "output_type": "stream",
     "text": [
      "\r",
      "\u001b[2K     \u001b[91m━━━━━━━━━━━━━━━\u001b[0m\u001b[90m╺\u001b[0m\u001b[90m━━━━━━━━━━━━━━━━━━━━━\u001b[0m \u001b[32m310.9/750.6 MB\u001b[0m \u001b[31m131.8 MB/s\u001b[0m eta \u001b[36m0:00:04\u001b[0m"
     ]
    },
    {
     "name": "stdout",
     "output_type": "stream",
     "text": [
      "\r",
      "\u001b[2K     \u001b[91m━━━━━━━━━━━━━━━\u001b[0m\u001b[91m╸\u001b[0m\u001b[90m━━━━━━━━━━━━━━━━━━━━━\u001b[0m \u001b[32m316.9/750.6 MB\u001b[0m \u001b[31m181.7 MB/s\u001b[0m eta \u001b[36m0:00:03\u001b[0m"
     ]
    },
    {
     "name": "stdout",
     "output_type": "stream",
     "text": [
      "\r",
      "\u001b[2K     \u001b[91m━━━━━━━━━━━━━━━\u001b[0m\u001b[91m╸\u001b[0m\u001b[90m━━━━━━━━━━━━━━━━━━━━━\u001b[0m \u001b[32m323.5/750.6 MB\u001b[0m \u001b[31m168.2 MB/s\u001b[0m eta \u001b[36m0:00:03\u001b[0m\r",
      "\u001b[2K     \u001b[91m━━━━━━━━━━━━━━━━\u001b[0m\u001b[90m╺\u001b[0m\u001b[90m━━━━━━━━━━━━━━━━━━━━\u001b[0m \u001b[32m330.5/750.6 MB\u001b[0m \u001b[31m186.8 MB/s\u001b[0m eta \u001b[36m0:00:03\u001b[0m"
     ]
    },
    {
     "name": "stdout",
     "output_type": "stream",
     "text": [
      "\r",
      "\u001b[2K     \u001b[91m━━━━━━━━━━━━━━━━\u001b[0m\u001b[91m╸\u001b[0m\u001b[90m━━━━━━━━━━━━━━━━━━━━\u001b[0m \u001b[32m337.0/750.6 MB\u001b[0m \u001b[31m190.3 MB/s\u001b[0m eta \u001b[36m0:00:03\u001b[0m"
     ]
    },
    {
     "name": "stdout",
     "output_type": "stream",
     "text": [
      "\r",
      "\u001b[2K     \u001b[91m━━━━━━━━━━━━━━━━\u001b[0m\u001b[91m╸\u001b[0m\u001b[90m━━━━━━━━━━━━━━━━━━━━\u001b[0m \u001b[32m343.4/750.6 MB\u001b[0m \u001b[31m187.6 MB/s\u001b[0m eta \u001b[36m0:00:03\u001b[0m\r",
      "\u001b[2K     \u001b[91m━━━━━━━━━━━━━━━━━\u001b[0m\u001b[90m╺\u001b[0m\u001b[90m━━━━━━━━━━━━━━━━━━━\u001b[0m \u001b[32m350.4/750.6 MB\u001b[0m \u001b[31m189.1 MB/s\u001b[0m eta \u001b[36m0:00:03\u001b[0m"
     ]
    },
    {
     "name": "stdout",
     "output_type": "stream",
     "text": [
      "\r",
      "\u001b[2K     \u001b[91m━━━━━━━━━━━━━━━━━\u001b[0m\u001b[91m╸\u001b[0m\u001b[90m━━━━━━━━━━━━━━━━━━━\u001b[0m \u001b[32m356.9/750.6 MB\u001b[0m \u001b[31m189.2 MB/s\u001b[0m eta \u001b[36m0:00:03\u001b[0m"
     ]
    },
    {
     "name": "stdout",
     "output_type": "stream",
     "text": [
      "\r",
      "\u001b[2K     \u001b[91m━━━━━━━━━━━━━━━━━\u001b[0m\u001b[91m╸\u001b[0m\u001b[90m━━━━━━━━━━━━━━━━━━━\u001b[0m \u001b[32m363.3/750.6 MB\u001b[0m \u001b[31m187.1 MB/s\u001b[0m eta \u001b[36m0:00:03\u001b[0m\r",
      "\u001b[2K     \u001b[91m━━━━━━━━━━━━━━━━━━\u001b[0m\u001b[90m╺\u001b[0m\u001b[90m━━━━━━━━━━━━━━━━━━\u001b[0m \u001b[32m370.1/750.6 MB\u001b[0m \u001b[31m187.3 MB/s\u001b[0m eta \u001b[36m0:00:03\u001b[0m"
     ]
    },
    {
     "name": "stdout",
     "output_type": "stream",
     "text": [
      "\r",
      "\u001b[2K     \u001b[91m━━━━━━━━━━━━━━━━━━\u001b[0m\u001b[91m╸\u001b[0m\u001b[90m━━━━━━━━━━━━━━━━━━\u001b[0m \u001b[32m376.7/750.6 MB\u001b[0m \u001b[31m189.8 MB/s\u001b[0m eta \u001b[36m0:00:02\u001b[0m"
     ]
    },
    {
     "name": "stdout",
     "output_type": "stream",
     "text": [
      "\r",
      "\u001b[2K     \u001b[91m━━━━━━━━━━━━━━━━━━\u001b[0m\u001b[91m╸\u001b[0m\u001b[90m━━━━━━━━━━━━━━━━━━\u001b[0m \u001b[32m383.1/750.6 MB\u001b[0m \u001b[31m188.1 MB/s\u001b[0m eta \u001b[36m0:00:02\u001b[0m\r",
      "\u001b[2K     \u001b[91m━━━━━━━━━━━━━━━━━━━\u001b[0m\u001b[90m╺\u001b[0m\u001b[90m━━━━━━━━━━━━━━━━━\u001b[0m \u001b[32m390.0/750.6 MB\u001b[0m \u001b[31m187.5 MB/s\u001b[0m eta \u001b[36m0:00:02\u001b[0m"
     ]
    },
    {
     "name": "stdout",
     "output_type": "stream",
     "text": [
      "\r",
      "\u001b[2K     \u001b[91m━━━━━━━━━━━━━━━━━━━\u001b[0m\u001b[91m╸\u001b[0m\u001b[90m━━━━━━━━━━━━━━━━━\u001b[0m \u001b[32m396.5/750.6 MB\u001b[0m \u001b[31m187.2 MB/s\u001b[0m eta \u001b[36m0:00:02\u001b[0m"
     ]
    },
    {
     "name": "stdout",
     "output_type": "stream",
     "text": [
      "\r",
      "\u001b[2K     \u001b[91m━━━━━━━━━━━━━━━━━━━\u001b[0m\u001b[91m╸\u001b[0m\u001b[90m━━━━━━━━━━━━━━━━━\u001b[0m \u001b[32m403.0/750.6 MB\u001b[0m \u001b[31m189.4 MB/s\u001b[0m eta \u001b[36m0:00:02\u001b[0m"
     ]
    },
    {
     "name": "stdout",
     "output_type": "stream",
     "text": [
      "\r",
      "\u001b[2K     \u001b[91m━━━━━━━━━━━━━━━━━━━━\u001b[0m\u001b[90m╺\u001b[0m\u001b[90m━━━━━━━━━━━━━━━━\u001b[0m \u001b[32m409.9/750.6 MB\u001b[0m \u001b[31m190.7 MB/s\u001b[0m eta \u001b[36m0:00:02\u001b[0m\r",
      "\u001b[2K     \u001b[91m━━━━━━━━━━━━━━━━━━━━\u001b[0m\u001b[91m╸\u001b[0m\u001b[90m━━━━━━━━━━━━━━━━\u001b[0m \u001b[32m416.7/750.6 MB\u001b[0m \u001b[31m181.5 MB/s\u001b[0m eta \u001b[36m0:00:02\u001b[0m"
     ]
    },
    {
     "name": "stdout",
     "output_type": "stream",
     "text": [
      "\r",
      "\u001b[2K     \u001b[91m━━━━━━━━━━━━━━━━━━━━\u001b[0m\u001b[91m╸\u001b[0m\u001b[90m━━━━━━━━━━━━━━━━\u001b[0m \u001b[32m423.0/750.6 MB\u001b[0m \u001b[31m181.2 MB/s\u001b[0m eta \u001b[36m0:00:02\u001b[0m"
     ]
    },
    {
     "name": "stdout",
     "output_type": "stream",
     "text": [
      "\r",
      "\u001b[2K     \u001b[91m━━━━━━━━━━━━━━━━━━━━━\u001b[0m\u001b[90m╺\u001b[0m\u001b[90m━━━━━━━━━━━━━━━\u001b[0m \u001b[32m429.0/750.6 MB\u001b[0m \u001b[31m174.2 MB/s\u001b[0m eta \u001b[36m0:00:02\u001b[0m\r",
      "\u001b[2K     \u001b[91m━━━━━━━━━━━━━━━━━━━━━\u001b[0m\u001b[90m╺\u001b[0m\u001b[90m━━━━━━━━━━━━━━━\u001b[0m \u001b[32m435.9/750.6 MB\u001b[0m \u001b[31m184.9 MB/s\u001b[0m eta \u001b[36m0:00:02\u001b[0m"
     ]
    },
    {
     "name": "stdout",
     "output_type": "stream",
     "text": [
      "\r",
      "\u001b[2K     \u001b[91m━━━━━━━━━━━━━━━━━━━━━\u001b[0m\u001b[91m╸\u001b[0m\u001b[90m━━━━━━━━━━━━━━━\u001b[0m \u001b[32m442.4/750.6 MB\u001b[0m \u001b[31m187.4 MB/s\u001b[0m eta \u001b[36m0:00:02\u001b[0m"
     ]
    },
    {
     "name": "stdout",
     "output_type": "stream",
     "text": [
      "\r",
      "\u001b[2K     \u001b[91m━━━━━━━━━━━━━━━━━━━━━━\u001b[0m\u001b[90m╺\u001b[0m\u001b[90m━━━━━━━━━━━━━━\u001b[0m \u001b[32m448.4/750.6 MB\u001b[0m \u001b[31m184.0 MB/s\u001b[0m eta \u001b[36m0:00:02\u001b[0m\r",
      "\u001b[2K     \u001b[91m━━━━━━━━━━━━━━━━━━━━━━\u001b[0m\u001b[90m╺\u001b[0m\u001b[90m━━━━━━━━━━━━━━\u001b[0m \u001b[32m454.9/750.6 MB\u001b[0m \u001b[31m178.7 MB/s\u001b[0m eta \u001b[36m0:00:02\u001b[0m"
     ]
    },
    {
     "name": "stdout",
     "output_type": "stream",
     "text": [
      "\r",
      "\u001b[2K     \u001b[91m━━━━━━━━━━━━━━━━━━━━━━\u001b[0m\u001b[91m╸\u001b[0m\u001b[90m━━━━━━━━━━━━━━\u001b[0m \u001b[32m461.3/750.6 MB\u001b[0m \u001b[31m183.3 MB/s\u001b[0m eta \u001b[36m0:00:02\u001b[0m"
     ]
    },
    {
     "name": "stdout",
     "output_type": "stream",
     "text": [
      "\r",
      "\u001b[2K     \u001b[91m━━━━━━━━━━━━━━━━━━━━━━━\u001b[0m\u001b[90m╺\u001b[0m\u001b[90m━━━━━━━━━━━━━\u001b[0m \u001b[32m467.4/750.6 MB\u001b[0m \u001b[31m183.8 MB/s\u001b[0m eta \u001b[36m0:00:02\u001b[0m\r",
      "\u001b[2K     \u001b[91m━━━━━━━━━━━━━━━━━━━━━━━\u001b[0m\u001b[90m╺\u001b[0m\u001b[90m━━━━━━━━━━━━━\u001b[0m \u001b[32m473.8/750.6 MB\u001b[0m \u001b[31m178.6 MB/s\u001b[0m eta \u001b[36m0:00:02\u001b[0m"
     ]
    },
    {
     "name": "stdout",
     "output_type": "stream",
     "text": [
      "\r",
      "\u001b[2K     \u001b[91m━━━━━━━━━━━━━━━━━━━━━━━\u001b[0m\u001b[91m╸\u001b[0m\u001b[90m━━━━━━━━━━━━━\u001b[0m \u001b[32m479.9/750.6 MB\u001b[0m \u001b[31m176.6 MB/s\u001b[0m eta \u001b[36m0:00:02\u001b[0m"
     ]
    },
    {
     "name": "stdout",
     "output_type": "stream",
     "text": [
      "\r",
      "\u001b[2K     \u001b[91m━━━━━━━━━━━━━━━━━━━━━━━\u001b[0m\u001b[91m╸\u001b[0m\u001b[90m━━━━━━━━━━━━━\u001b[0m \u001b[32m485.7/750.6 MB\u001b[0m \u001b[31m173.2 MB/s\u001b[0m eta \u001b[36m0:00:02\u001b[0m"
     ]
    },
    {
     "name": "stdout",
     "output_type": "stream",
     "text": [
      "\r",
      "\u001b[2K     \u001b[91m━━━━━━━━━━━━━━━━━━━━━━━━\u001b[0m\u001b[90m╺\u001b[0m\u001b[90m━━━━━━━━━━━━\u001b[0m \u001b[32m492.1/750.6 MB\u001b[0m \u001b[31m175.1 MB/s\u001b[0m eta \u001b[36m0:00:02\u001b[0m\r",
      "\u001b[2K     \u001b[91m━━━━━━━━━━━━━━━━━━━━━━━━\u001b[0m\u001b[91m╸\u001b[0m\u001b[90m━━━━━━━━━━━━\u001b[0m \u001b[32m498.3/750.6 MB\u001b[0m \u001b[31m175.3 MB/s\u001b[0m eta \u001b[36m0:00:02\u001b[0m"
     ]
    },
    {
     "name": "stdout",
     "output_type": "stream",
     "text": [
      "\r",
      "\u001b[2K     \u001b[91m━━━━━━━━━━━━━━━━━━━━━━━━\u001b[0m\u001b[91m╸\u001b[0m\u001b[90m━━━━━━━━━━━━\u001b[0m \u001b[32m505.0/750.6 MB\u001b[0m \u001b[31m178.4 MB/s\u001b[0m eta \u001b[36m0:00:02\u001b[0m"
     ]
    },
    {
     "name": "stdout",
     "output_type": "stream",
     "text": [
      "\r",
      "\u001b[2K     \u001b[91m━━━━━━━━━━━━━━━━━━━━━━━━━\u001b[0m\u001b[90m╺\u001b[0m\u001b[90m━━━━━━━━━━━\u001b[0m \u001b[32m511.4/750.6 MB\u001b[0m \u001b[31m181.1 MB/s\u001b[0m eta \u001b[36m0:00:02\u001b[0m\r",
      "\u001b[2K     \u001b[91m━━━━━━━━━━━━━━━━━━━━━━━━━\u001b[0m\u001b[91m╸\u001b[0m\u001b[90m━━━━━━━━━━━\u001b[0m \u001b[32m518.2/750.6 MB\u001b[0m \u001b[31m188.5 MB/s\u001b[0m eta \u001b[36m0:00:02\u001b[0m"
     ]
    },
    {
     "name": "stdout",
     "output_type": "stream",
     "text": [
      "\r",
      "\u001b[2K     \u001b[91m━━━━━━━━━━━━━━━━━━━━━━━━━\u001b[0m\u001b[91m╸\u001b[0m\u001b[90m━━━━━━━━━━━\u001b[0m \u001b[32m524.2/750.6 MB\u001b[0m \u001b[31m180.4 MB/s\u001b[0m eta \u001b[36m0:00:02\u001b[0m"
     ]
    },
    {
     "name": "stdout",
     "output_type": "stream",
     "text": [
      "\r",
      "\u001b[2K     \u001b[91m━━━━━━━━━━━━━━━━━━━━━━━━━━\u001b[0m\u001b[90m╺\u001b[0m\u001b[90m━━━━━━━━━━\u001b[0m \u001b[32m530.3/750.6 MB\u001b[0m \u001b[31m175.6 MB/s\u001b[0m eta \u001b[36m0:00:02\u001b[0m\r",
      "\u001b[2K     \u001b[91m━━━━━━━━━━━━━━━━━━━━━━━━━━\u001b[0m\u001b[90m╺\u001b[0m\u001b[90m━━━━━━━━━━\u001b[0m \u001b[32m536.6/750.6 MB\u001b[0m \u001b[31m175.7 MB/s\u001b[0m eta \u001b[36m0:00:02\u001b[0m"
     ]
    },
    {
     "name": "stdout",
     "output_type": "stream",
     "text": [
      "\r",
      "\u001b[2K     \u001b[91m━━━━━━━━━━━━━━━━━━━━━━━━━━\u001b[0m\u001b[91m╸\u001b[0m\u001b[90m━━━━━━━━━━\u001b[0m \u001b[32m541.1/750.6 MB\u001b[0m \u001b[31m155.0 MB/s\u001b[0m eta \u001b[36m0:00:02\u001b[0m"
     ]
    },
    {
     "name": "stdout",
     "output_type": "stream",
     "text": [
      "\r",
      "\u001b[2K     \u001b[91m━━━━━━━━━━━━━━━━━━━━━━━━━━\u001b[0m\u001b[91m╸\u001b[0m\u001b[90m━━━━━━━━━━\u001b[0m \u001b[32m545.0/750.6 MB\u001b[0m \u001b[31m111.3 MB/s\u001b[0m eta \u001b[36m0:00:02\u001b[0m"
     ]
    },
    {
     "name": "stdout",
     "output_type": "stream",
     "text": [
      "\r",
      "\u001b[2K     \u001b[91m━━━━━━━━━━━━━━━━━━━━━━━━━━━\u001b[0m\u001b[91m╸\u001b[0m\u001b[90m━━━━━━━━━━\u001b[0m \u001b[32m548.5/750.6 MB\u001b[0m \u001b[31m96.9 MB/s\u001b[0m eta \u001b[36m0:00:03\u001b[0m\r",
      "\u001b[2K     \u001b[91m━━━━━━━━━━━━━━━━━━━━━━━━━━━\u001b[0m\u001b[91m╸\u001b[0m\u001b[90m━━━━━━━━━━\u001b[0m \u001b[32m551.6/750.6 MB\u001b[0m \u001b[31m90.6 MB/s\u001b[0m eta \u001b[36m0:00:03\u001b[0m"
     ]
    },
    {
     "name": "stdout",
     "output_type": "stream",
     "text": [
      "\r",
      "\u001b[2K     \u001b[91m━━━━━━━━━━━━━━━━━━━━━━━━━━━━\u001b[0m\u001b[90m╺\u001b[0m\u001b[90m━━━━━━━━━\u001b[0m \u001b[32m554.6/750.6 MB\u001b[0m \u001b[31m85.9 MB/s\u001b[0m eta \u001b[36m0:00:03\u001b[0m"
     ]
    },
    {
     "name": "stdout",
     "output_type": "stream",
     "text": [
      "\r",
      "\u001b[2K     \u001b[91m━━━━━━━━━━━━━━━━━━━━━━━━━━━━\u001b[0m\u001b[90m╺\u001b[0m\u001b[90m━━━━━━━━━\u001b[0m \u001b[32m557.9/750.6 MB\u001b[0m \u001b[31m83.1 MB/s\u001b[0m eta \u001b[36m0:00:03\u001b[0m"
     ]
    },
    {
     "name": "stdout",
     "output_type": "stream",
     "text": [
      "\r",
      "\u001b[2K     \u001b[91m━━━━━━━━━━━━━━━━━━━━━━━━━━━━\u001b[0m\u001b[90m╺\u001b[0m\u001b[90m━━━━━━━━━\u001b[0m \u001b[32m561.6/750.6 MB\u001b[0m \u001b[31m89.1 MB/s\u001b[0m eta \u001b[36m0:00:03\u001b[0m\r",
      "\u001b[2K     \u001b[91m━━━━━━━━━━━━━━━━━━━━━━━━━━━━\u001b[0m\u001b[91m╸\u001b[0m\u001b[90m━━━━━━━━━\u001b[0m \u001b[32m565.5/750.6 MB\u001b[0m \u001b[31m96.6 MB/s\u001b[0m eta \u001b[36m0:00:02\u001b[0m"
     ]
    },
    {
     "name": "stdout",
     "output_type": "stream",
     "text": [
      "\r",
      "\u001b[2K     \u001b[91m━━━━━━━━━━━━━━━━━━━━━━━━━━━━\u001b[0m\u001b[91m╸\u001b[0m\u001b[90m━━━━━━━━━\u001b[0m \u001b[32m568.9/750.6 MB\u001b[0m \u001b[31m96.5 MB/s\u001b[0m eta \u001b[36m0:00:02\u001b[0m"
     ]
    },
    {
     "name": "stdout",
     "output_type": "stream",
     "text": [
      "\r",
      "\u001b[2K     \u001b[91m━━━━━━━━━━━━━━━━━━━━━━━━━━━━\u001b[0m\u001b[91m╸\u001b[0m\u001b[90m━━━━━━━━━\u001b[0m \u001b[32m572.3/750.6 MB\u001b[0m \u001b[31m97.8 MB/s\u001b[0m eta \u001b[36m0:00:02\u001b[0m\r",
      "\u001b[2K     \u001b[91m━━━━━━━━━━━━━━━━━━━━━━━━━━━━━\u001b[0m\u001b[90m╺\u001b[0m\u001b[90m━━━━━━━━\u001b[0m \u001b[32m576.2/750.6 MB\u001b[0m \u001b[31m98.2 MB/s\u001b[0m eta \u001b[36m0:00:02\u001b[0m"
     ]
    },
    {
     "name": "stdout",
     "output_type": "stream",
     "text": [
      "\r",
      "\u001b[2K     \u001b[91m━━━━━━━━━━━━━━━━━━━━━━━━━━━━━\u001b[0m\u001b[90m╺\u001b[0m\u001b[90m━━━━━━━━\u001b[0m \u001b[32m579.7/750.6 MB\u001b[0m \u001b[31m99.3 MB/s\u001b[0m eta \u001b[36m0:00:02\u001b[0m"
     ]
    },
    {
     "name": "stdout",
     "output_type": "stream",
     "text": [
      "\r",
      "\u001b[2K     \u001b[91m━━━━━━━━━━━━━━━━━━━━━━━━━━━━━\u001b[0m\u001b[91m╸\u001b[0m\u001b[90m━━━━━━━━\u001b[0m \u001b[32m583.1/750.6 MB\u001b[0m \u001b[31m99.3 MB/s\u001b[0m eta \u001b[36m0:00:02\u001b[0m\r",
      "\u001b[2K     \u001b[91m━━━━━━━━━━━━━━━━━━━━━━━━━━━━━\u001b[0m\u001b[91m╸\u001b[0m\u001b[90m━━━━━━━━\u001b[0m \u001b[32m586.5/750.6 MB\u001b[0m \u001b[31m95.7 MB/s\u001b[0m eta \u001b[36m0:00:02\u001b[0m"
     ]
    },
    {
     "name": "stdout",
     "output_type": "stream",
     "text": [
      "\r",
      "\u001b[2K     \u001b[91m━━━━━━━━━━━━━━━━━━━━━━━━━━━━━\u001b[0m\u001b[91m╸\u001b[0m\u001b[90m━━━━━━━━\u001b[0m \u001b[32m589.9/750.6 MB\u001b[0m \u001b[31m95.4 MB/s\u001b[0m eta \u001b[36m0:00:02\u001b[0m"
     ]
    },
    {
     "name": "stdout",
     "output_type": "stream",
     "text": [
      "\r",
      "\u001b[2K     \u001b[91m━━━━━━━━━━━━━━━━━━━━━━━━━━━━━━\u001b[0m\u001b[90m╺\u001b[0m\u001b[90m━━━━━━━\u001b[0m \u001b[32m593.4/750.6 MB\u001b[0m \u001b[31m95.7 MB/s\u001b[0m eta \u001b[36m0:00:02\u001b[0m\r",
      "\u001b[2K     \u001b[91m━━━━━━━━━━━━━━━━━━━━━━━━━━━━━\u001b[0m\u001b[90m╺\u001b[0m\u001b[90m━━━━━━━\u001b[0m \u001b[32m597.3/750.6 MB\u001b[0m \u001b[31m103.5 MB/s\u001b[0m eta \u001b[36m0:00:02\u001b[0m"
     ]
    },
    {
     "name": "stdout",
     "output_type": "stream",
     "text": [
      "\r",
      "\u001b[2K     \u001b[91m━━━━━━━━━━━━━━━━━━━━━━━━━━━━━━\u001b[0m\u001b[90m╺\u001b[0m\u001b[90m━━━━━━━\u001b[0m \u001b[32m600.7/750.6 MB\u001b[0m \u001b[31m99.4 MB/s\u001b[0m eta \u001b[36m0:00:02\u001b[0m"
     ]
    },
    {
     "name": "stdout",
     "output_type": "stream",
     "text": [
      "\r",
      "\u001b[2K     \u001b[91m━━━━━━━━━━━━━━━━━━━━━━━━━━━━━━\u001b[0m\u001b[91m╸\u001b[0m\u001b[90m━━━━━━━\u001b[0m \u001b[32m604.1/750.6 MB\u001b[0m \u001b[31m99.1 MB/s\u001b[0m eta \u001b[36m0:00:02\u001b[0m"
     ]
    },
    {
     "name": "stdout",
     "output_type": "stream",
     "text": [
      "\r",
      "\u001b[2K     \u001b[91m━━━━━━━━━━━━━━━━━━━━━━━━━━━━━\u001b[0m\u001b[91m╸\u001b[0m\u001b[90m━━━━━━━\u001b[0m \u001b[32m607.8/750.6 MB\u001b[0m \u001b[31m103.6 MB/s\u001b[0m eta \u001b[36m0:00:02\u001b[0m\r",
      "\u001b[2K     \u001b[91m━━━━━━━━━━━━━━━━━━━━━━━━━━━━━━\u001b[0m\u001b[91m╸\u001b[0m\u001b[90m━━━━━━━\u001b[0m \u001b[32m611.7/750.6 MB\u001b[0m \u001b[31m98.0 MB/s\u001b[0m eta \u001b[36m0:00:02\u001b[0m"
     ]
    },
    {
     "name": "stdout",
     "output_type": "stream",
     "text": [
      "\r",
      "\u001b[2K     \u001b[91m━━━━━━━━━━━━━━━━━━━━━━━━━━━━━━━\u001b[0m\u001b[90m╺\u001b[0m\u001b[90m━━━━━━\u001b[0m \u001b[32m615.0/750.6 MB\u001b[0m \u001b[31m96.8 MB/s\u001b[0m eta \u001b[36m0:00:02\u001b[0m"
     ]
    },
    {
     "name": "stdout",
     "output_type": "stream",
     "text": [
      "\r",
      "\u001b[2K     \u001b[91m━━━━━━━━━━━━━━━━━━━━━━━━━━━━━━━\u001b[0m\u001b[90m╺\u001b[0m\u001b[90m━━━━━━\u001b[0m \u001b[32m618.4/750.6 MB\u001b[0m \u001b[31m97.3 MB/s\u001b[0m eta \u001b[36m0:00:02\u001b[0m\r",
      "\u001b[2K     \u001b[91m━━━━━━━━━━━━━━━━━━━━━━━━━━━━━━━\u001b[0m\u001b[91m╸\u001b[0m\u001b[90m━━━━━━\u001b[0m \u001b[32m622.2/750.6 MB\u001b[0m \u001b[31m96.9 MB/s\u001b[0m eta \u001b[36m0:00:02\u001b[0m"
     ]
    },
    {
     "name": "stdout",
     "output_type": "stream",
     "text": [
      "\r",
      "\u001b[2K     \u001b[91m━━━━━━━━━━━━━━━━━━━━━━━━━━━━━━━\u001b[0m\u001b[91m╸\u001b[0m\u001b[90m━━━━━━\u001b[0m \u001b[32m625.6/750.6 MB\u001b[0m \u001b[31m97.0 MB/s\u001b[0m eta \u001b[36m0:00:02\u001b[0m"
     ]
    },
    {
     "name": "stdout",
     "output_type": "stream",
     "text": [
      "\r",
      "\u001b[2K     \u001b[91m━━━━━━━━━━━━━━━━━━━━━━━━━━━━━━━\u001b[0m\u001b[91m╸\u001b[0m\u001b[90m━━━━━━\u001b[0m \u001b[32m628.9/750.6 MB\u001b[0m \u001b[31m96.7 MB/s\u001b[0m eta \u001b[36m0:00:02\u001b[0m\r",
      "\u001b[2K     \u001b[91m━━━━━━━━━━━━━━━━━━━━━━━━━━━━━━━━\u001b[0m\u001b[90m╺\u001b[0m\u001b[90m━━━━━\u001b[0m \u001b[32m632.8/750.6 MB\u001b[0m \u001b[31m97.0 MB/s\u001b[0m eta \u001b[36m0:00:02\u001b[0m"
     ]
    },
    {
     "name": "stdout",
     "output_type": "stream",
     "text": [
      "\r",
      "\u001b[2K     \u001b[91m━━━━━━━━━━━━━━━━━━━━━━━━━━━━━━━━\u001b[0m\u001b[90m╺\u001b[0m\u001b[90m━━━━━\u001b[0m \u001b[32m636.1/750.6 MB\u001b[0m \u001b[31m96.9 MB/s\u001b[0m eta \u001b[36m0:00:02\u001b[0m"
     ]
    },
    {
     "name": "stdout",
     "output_type": "stream",
     "text": [
      "\r",
      "\u001b[2K     \u001b[91m━━━━━━━━━━━━━━━━━━━━━━━━━━━━━━━━\u001b[0m\u001b[90m╺\u001b[0m\u001b[90m━━━━━\u001b[0m \u001b[32m639.4/750.6 MB\u001b[0m \u001b[31m96.9 MB/s\u001b[0m eta \u001b[36m0:00:02\u001b[0m\r",
      "\u001b[2K     \u001b[91m━━━━━━━━━━━━━━━━━━━━━━━━━━━━━━━\u001b[0m\u001b[91m╸\u001b[0m\u001b[90m━━━━━\u001b[0m \u001b[32m643.3/750.6 MB\u001b[0m \u001b[31m101.4 MB/s\u001b[0m eta \u001b[36m0:00:02\u001b[0m"
     ]
    },
    {
     "name": "stdout",
     "output_type": "stream",
     "text": [
      "\r",
      "\u001b[2K     \u001b[91m━━━━━━━━━━━━━━━━━━━━━━━━━━━━━━━━\u001b[0m\u001b[91m╸\u001b[0m\u001b[90m━━━━━\u001b[0m \u001b[32m646.7/750.6 MB\u001b[0m \u001b[31m97.8 MB/s\u001b[0m eta \u001b[36m0:00:02\u001b[0m"
     ]
    },
    {
     "name": "stdout",
     "output_type": "stream",
     "text": [
      "\r",
      "\u001b[2K     \u001b[91m━━━━━━━━━━━━━━━━━━━━━━━━━━━━━━━━\u001b[0m\u001b[91m╸\u001b[0m\u001b[90m━━━━━\u001b[0m \u001b[32m650.0/750.6 MB\u001b[0m \u001b[31m97.6 MB/s\u001b[0m eta \u001b[36m0:00:02\u001b[0m"
     ]
    },
    {
     "name": "stdout",
     "output_type": "stream",
     "text": [
      "\r",
      "\u001b[2K     \u001b[91m━━━━━━━━━━━━━━━━━━━━━━━━━━━━━━━━\u001b[0m\u001b[90m╺\u001b[0m\u001b[90m━━━━\u001b[0m \u001b[32m653.9/750.6 MB\u001b[0m \u001b[31m102.0 MB/s\u001b[0m eta \u001b[36m0:00:01\u001b[0m\r",
      "\u001b[2K     \u001b[91m━━━━━━━━━━━━━━━━━━━━━━━━━━━━━━━━━\u001b[0m\u001b[90m╺\u001b[0m\u001b[90m━━━━\u001b[0m \u001b[32m657.3/750.6 MB\u001b[0m \u001b[31m97.5 MB/s\u001b[0m eta \u001b[36m0:00:01\u001b[0m"
     ]
    },
    {
     "name": "stdout",
     "output_type": "stream",
     "text": [
      "\r",
      "\u001b[2K     \u001b[91m━━━━━━━━━━━━━━━━━━━━━━━━━━━━━━━━━\u001b[0m\u001b[90m╺\u001b[0m\u001b[90m━━━━\u001b[0m \u001b[32m660.7/750.6 MB\u001b[0m \u001b[31m98.2 MB/s\u001b[0m eta \u001b[36m0:00:01\u001b[0m\r",
      "\u001b[2K     \u001b[91m━━━━━━━━━━━━━━━━━━━━━━━━━━━━━━━━\u001b[0m\u001b[91m╸\u001b[0m\u001b[90m━━━━\u001b[0m \u001b[32m664.6/750.6 MB\u001b[0m \u001b[31m102.8 MB/s\u001b[0m eta \u001b[36m0:00:01\u001b[0m"
     ]
    },
    {
     "name": "stdout",
     "output_type": "stream",
     "text": [
      "\r",
      "\u001b[2K     \u001b[91m━━━━━━━━━━━━━━━━━━━━━━━━━━━━━━━━━\u001b[0m\u001b[91m╸\u001b[0m\u001b[90m━━━━\u001b[0m \u001b[32m667.9/750.6 MB\u001b[0m \u001b[31m98.5 MB/s\u001b[0m eta \u001b[36m0:00:01\u001b[0m"
     ]
    },
    {
     "name": "stdout",
     "output_type": "stream",
     "text": [
      "\r",
      "\u001b[2K     \u001b[91m━━━━━━━━━━━━━━━━━━━━━━━━━━━━━━━━━\u001b[0m\u001b[91m╸\u001b[0m\u001b[90m━━━━\u001b[0m \u001b[32m671.3/750.6 MB\u001b[0m \u001b[31m98.3 MB/s\u001b[0m eta \u001b[36m0:00:01\u001b[0m"
     ]
    },
    {
     "name": "stdout",
     "output_type": "stream",
     "text": [
      "\r",
      "\u001b[2K     \u001b[91m━━━━━━━━━━━━━━━━━━━━━━━━━━━━━━━━━\u001b[0m\u001b[90m╺\u001b[0m\u001b[90m━━━\u001b[0m \u001b[32m675.3/750.6 MB\u001b[0m \u001b[31m103.3 MB/s\u001b[0m eta \u001b[36m0:00:01\u001b[0m\r",
      "\u001b[2K     \u001b[91m━━━━━━━━━━━━━━━━━━━━━━━━━━━━━━━━━━\u001b[0m\u001b[90m╺\u001b[0m\u001b[90m━━━\u001b[0m \u001b[32m679.2/750.6 MB\u001b[0m \u001b[31m99.0 MB/s\u001b[0m eta \u001b[36m0:00:01\u001b[0m"
     ]
    },
    {
     "name": "stdout",
     "output_type": "stream",
     "text": [
      "\r",
      "\u001b[2K     \u001b[91m━━━━━━━━━━━━━━━━━━━━━━━━━━━━━━━━━━\u001b[0m\u001b[90m╺\u001b[0m\u001b[90m━━━\u001b[0m \u001b[32m680.8/750.6 MB\u001b[0m \u001b[31m83.8 MB/s\u001b[0m eta \u001b[36m0:00:01\u001b[0m"
     ]
    },
    {
     "name": "stdout",
     "output_type": "stream",
     "text": [
      "\r",
      "\u001b[2K     \u001b[91m━━━━━━━━━━━━━━━━━━━━━━━━━━━━━━━━━━\u001b[0m\u001b[91m╸\u001b[0m\u001b[90m━━━\u001b[0m \u001b[32m683.4/750.6 MB\u001b[0m \u001b[31m72.9 MB/s\u001b[0m eta \u001b[36m0:00:01\u001b[0m"
     ]
    },
    {
     "name": "stdout",
     "output_type": "stream",
     "text": [
      "\r",
      "\u001b[2K     \u001b[91m━━━━━━━━━━━━━━━━━━━━━━━━━━━━━━━━━━\u001b[0m\u001b[91m╸\u001b[0m\u001b[90m━━━\u001b[0m \u001b[32m685.4/750.6 MB\u001b[0m \u001b[31m61.3 MB/s\u001b[0m eta \u001b[36m0:00:02\u001b[0m\r",
      "\u001b[2K     \u001b[91m━━━━━━━━━━━━━━━━━━━━━━━━━━━━━━━━━━\u001b[0m\u001b[91m╸\u001b[0m\u001b[90m━━━\u001b[0m \u001b[32m688.3/750.6 MB\u001b[0m \u001b[31m54.7 MB/s\u001b[0m eta \u001b[36m0:00:02\u001b[0m"
     ]
    },
    {
     "name": "stdout",
     "output_type": "stream",
     "text": [
      "\r",
      "\u001b[2K     \u001b[91m━━━━━━━━━━━━━━━━━━━━━━━━━━━━━━━━━━\u001b[0m\u001b[91m╸\u001b[0m\u001b[90m━━━\u001b[0m \u001b[32m688.5/750.6 MB\u001b[0m \u001b[31m52.8 MB/s\u001b[0m eta \u001b[36m0:00:02\u001b[0m"
     ]
    },
    {
     "name": "stdout",
     "output_type": "stream",
     "text": [
      "\r",
      "\u001b[2K     \u001b[91m━━━━━━━━━━━━━━━━━━━━━━━━━━━━━━━━━━━\u001b[0m\u001b[90m╺\u001b[0m\u001b[90m━━\u001b[0m \u001b[32m691.9/750.6 MB\u001b[0m \u001b[31m51.7 MB/s\u001b[0m eta \u001b[36m0:00:02\u001b[0m\r",
      "\u001b[2K     \u001b[91m━━━━━━━━━━━━━━━━━━━━━━━━━━━━━━━━━━━\u001b[0m\u001b[90m╺\u001b[0m\u001b[90m━━\u001b[0m \u001b[32m696.1/750.6 MB\u001b[0m \u001b[31m71.7 MB/s\u001b[0m eta \u001b[36m0:00:01\u001b[0m"
     ]
    },
    {
     "name": "stdout",
     "output_type": "stream",
     "text": [
      "\r",
      "\u001b[2K     \u001b[91m━━━━━━━━━━━━━━━━━━━━━━━━━━━━━━━━━━\u001b[0m\u001b[91m╸\u001b[0m\u001b[90m━━\u001b[0m \u001b[32m699.9/750.6 MB\u001b[0m \u001b[31m101.4 MB/s\u001b[0m eta \u001b[36m0:00:01\u001b[0m"
     ]
    },
    {
     "name": "stdout",
     "output_type": "stream",
     "text": [
      "\r",
      "\u001b[2K     \u001b[91m━━━━━━━━━━━━━━━━━━━━━━━━━━━━━━━━━━\u001b[0m\u001b[91m╸\u001b[0m\u001b[90m━━\u001b[0m \u001b[32m706.3/750.6 MB\u001b[0m \u001b[31m139.4 MB/s\u001b[0m eta \u001b[36m0:00:01\u001b[0m"
     ]
    },
    {
     "name": "stdout",
     "output_type": "stream",
     "text": [
      "\r",
      "\u001b[2K     \u001b[91m━━━━━━━━━━━━━━━━━━━━━━━━━━━━━━━━━━━\u001b[0m\u001b[90m╺\u001b[0m\u001b[90m━\u001b[0m \u001b[32m712.6/750.6 MB\u001b[0m \u001b[31m178.0 MB/s\u001b[0m eta \u001b[36m0:00:01\u001b[0m\r",
      "\u001b[2K     \u001b[91m━━━━━━━━━━━━━━━━━━━━━━━━━━━━━━━━━━━\u001b[0m\u001b[90m╺\u001b[0m\u001b[90m━\u001b[0m \u001b[32m719.1/750.6 MB\u001b[0m \u001b[31m174.8 MB/s\u001b[0m eta \u001b[36m0:00:01\u001b[0m"
     ]
    },
    {
     "name": "stdout",
     "output_type": "stream",
     "text": [
      "\r",
      "\u001b[2K     \u001b[91m━━━━━━━━━━━━━━━━━━━━━━━━━━━━━━━━━━━\u001b[0m\u001b[91m╸\u001b[0m\u001b[90m━\u001b[0m \u001b[32m725.3/750.6 MB\u001b[0m \u001b[31m180.1 MB/s\u001b[0m eta \u001b[36m0:00:01\u001b[0m"
     ]
    },
    {
     "name": "stdout",
     "output_type": "stream",
     "text": [
      "\r",
      "\u001b[2K     \u001b[91m━━━━━━━━━━━━━━━━━━━━━━━━━━━━━━━━━━━━\u001b[0m\u001b[90m╺\u001b[0m \u001b[32m731.4/750.6 MB\u001b[0m \u001b[31m175.3 MB/s\u001b[0m eta \u001b[36m0:00:01\u001b[0m\r",
      "\u001b[2K     \u001b[91m━━━━━━━━━━━━━━━━━━━━━━━━━━━━━━━━━━━━\u001b[0m\u001b[90m╺\u001b[0m \u001b[32m737.8/750.6 MB\u001b[0m \u001b[31m176.4 MB/s\u001b[0m eta \u001b[36m0:00:01\u001b[0m"
     ]
    },
    {
     "name": "stdout",
     "output_type": "stream",
     "text": [
      "\r",
      "\u001b[2K     \u001b[91m━━━━━━━━━━━━━━━━━━━━━━━━━━━━━━━━━━━━\u001b[0m\u001b[91m╸\u001b[0m \u001b[32m744.0/750.6 MB\u001b[0m \u001b[31m178.8 MB/s\u001b[0m eta \u001b[36m0:00:01\u001b[0m"
     ]
    },
    {
     "name": "stdout",
     "output_type": "stream",
     "text": [
      "\r",
      "\u001b[2K     \u001b[91m━━━━━━━━━━━━━━━━━━━━━━━━━━━━━━━━━━━━\u001b[0m\u001b[91m╸\u001b[0m \u001b[32m750.6/750.6 MB\u001b[0m \u001b[31m196.0 MB/s\u001b[0m eta \u001b[36m0:00:01\u001b[0m"
     ]
    },
    {
     "name": "stdout",
     "output_type": "stream",
     "text": [
      "\r",
      "\u001b[2K     \u001b[91m━━━━━━━━━━━━━━━━━━━━━━━━━━━━━━━━━━━━\u001b[0m\u001b[91m╸\u001b[0m \u001b[32m750.6/750.6 MB\u001b[0m \u001b[31m196.0 MB/s\u001b[0m eta \u001b[36m0:00:01\u001b[0m"
     ]
    },
    {
     "name": "stdout",
     "output_type": "stream",
     "text": [
      "\r",
      "\u001b[2K     \u001b[91m━━━━━━━━━━━━━━━━━━━━━━━━━━━━━━━━━━━━\u001b[0m\u001b[91m╸\u001b[0m \u001b[32m750.6/750.6 MB\u001b[0m \u001b[31m196.0 MB/s\u001b[0m eta \u001b[36m0:00:01\u001b[0m\r",
      "\u001b[2K     \u001b[91m━━━━━━━━━━━━━━━━━━━━━━━━━━━━━━━━━━━━\u001b[0m\u001b[91m╸\u001b[0m \u001b[32m750.6/750.6 MB\u001b[0m \u001b[31m196.0 MB/s\u001b[0m eta \u001b[36m0:00:01\u001b[0m"
     ]
    },
    {
     "name": "stdout",
     "output_type": "stream",
     "text": [
      "\r",
      "\u001b[2K     \u001b[91m━━━━━━━━━━━━━━━━━━━━━━━━━━━━━━━━━━━━\u001b[0m\u001b[91m╸\u001b[0m \u001b[32m750.6/750.6 MB\u001b[0m \u001b[31m196.0 MB/s\u001b[0m eta \u001b[36m0:00:01\u001b[0m"
     ]
    },
    {
     "name": "stdout",
     "output_type": "stream",
     "text": [
      "\r",
      "\u001b[2K     \u001b[91m━━━━━━━━━━━━━━━━━━━━━━━━━━━━━━━━━━━━\u001b[0m\u001b[91m╸\u001b[0m \u001b[32m750.6/750.6 MB\u001b[0m \u001b[31m196.0 MB/s\u001b[0m eta \u001b[36m0:00:01\u001b[0m"
     ]
    },
    {
     "name": "stdout",
     "output_type": "stream",
     "text": [
      "\r",
      "\u001b[2K     \u001b[91m━━━━━━━━━━━━━━━━━━━━━━━━━━━━━━━━━━━━\u001b[0m\u001b[91m╸\u001b[0m \u001b[32m750.6/750.6 MB\u001b[0m \u001b[31m196.0 MB/s\u001b[0m eta \u001b[36m0:00:01\u001b[0m"
     ]
    },
    {
     "name": "stdout",
     "output_type": "stream",
     "text": [
      "\r",
      "\u001b[2K     \u001b[91m━━━━━━━━━━━━━━━━━━━━━━━━━━━━━━━━━━━━\u001b[0m\u001b[91m╸\u001b[0m \u001b[32m750.6/750.6 MB\u001b[0m \u001b[31m196.0 MB/s\u001b[0m eta \u001b[36m0:00:01\u001b[0m\r",
      "\u001b[2K     \u001b[91m━━━━━━━━━━━━━━━━━━━━━━━━━━━━━━━━━━━━\u001b[0m\u001b[91m╸\u001b[0m \u001b[32m750.6/750.6 MB\u001b[0m \u001b[31m196.0 MB/s\u001b[0m eta \u001b[36m0:00:01\u001b[0m"
     ]
    },
    {
     "name": "stdout",
     "output_type": "stream",
     "text": [
      "\r",
      "\u001b[2K     \u001b[91m━━━━━━━━━━━━━━━━━━━━━━━━━━━━━━━━━━━━\u001b[0m\u001b[91m╸\u001b[0m \u001b[32m750.6/750.6 MB\u001b[0m \u001b[31m196.0 MB/s\u001b[0m eta \u001b[36m0:00:01\u001b[0m"
     ]
    },
    {
     "name": "stdout",
     "output_type": "stream",
     "text": [
      "\r",
      "\u001b[2K     \u001b[91m━━━━━━━━━━━━━━━━━━━━━━━━━━━━━━━━━━━━\u001b[0m\u001b[91m╸\u001b[0m \u001b[32m750.6/750.6 MB\u001b[0m \u001b[31m196.0 MB/s\u001b[0m eta \u001b[36m0:00:01\u001b[0m\r",
      "\u001b[2K     \u001b[91m━━━━━━━━━━━━━━━━━━━━━━━━━━━━━━━━━━━━\u001b[0m\u001b[91m╸\u001b[0m \u001b[32m750.6/750.6 MB\u001b[0m \u001b[31m196.0 MB/s\u001b[0m eta \u001b[36m0:00:01\u001b[0m"
     ]
    },
    {
     "name": "stdout",
     "output_type": "stream",
     "text": [
      "\r",
      "\u001b[2K     \u001b[91m━━━━━━━━━━━━━━━━━━━━━━━━━━━━━━━━━━━━\u001b[0m\u001b[91m╸\u001b[0m \u001b[32m750.6/750.6 MB\u001b[0m \u001b[31m196.0 MB/s\u001b[0m eta \u001b[36m0:00:01\u001b[0m"
     ]
    },
    {
     "name": "stdout",
     "output_type": "stream",
     "text": [
      "\r",
      "\u001b[2K     \u001b[91m━━━━━━━━━━━━━━━━━━━━━━━━━━━━━━━━━━━━\u001b[0m\u001b[91m╸\u001b[0m \u001b[32m750.6/750.6 MB\u001b[0m \u001b[31m196.0 MB/s\u001b[0m eta \u001b[36m0:00:01\u001b[0m"
     ]
    },
    {
     "name": "stdout",
     "output_type": "stream",
     "text": [
      "\r",
      "\u001b[2K     \u001b[91m━━━━━━━━━━━━━━━━━━━━━━━━━━━━━━━━━━━━\u001b[0m\u001b[91m╸\u001b[0m \u001b[32m750.6/750.6 MB\u001b[0m \u001b[31m196.0 MB/s\u001b[0m eta \u001b[36m0:00:01\u001b[0m\r",
      "\u001b[2K     \u001b[91m━━━━━━━━━━━━━━━━━━━━━━━━━━━━━━━━━━━━\u001b[0m\u001b[91m╸\u001b[0m \u001b[32m750.6/750.6 MB\u001b[0m \u001b[31m196.0 MB/s\u001b[0m eta \u001b[36m0:00:01\u001b[0m"
     ]
    },
    {
     "name": "stdout",
     "output_type": "stream",
     "text": [
      "\r",
      "\u001b[2K     \u001b[91m━━━━━━━━━━━━━━━━━━━━━━━━━━━━━━━━━━━━\u001b[0m\u001b[91m╸\u001b[0m \u001b[32m750.6/750.6 MB\u001b[0m \u001b[31m196.0 MB/s\u001b[0m eta \u001b[36m0:00:01\u001b[0m"
     ]
    },
    {
     "name": "stdout",
     "output_type": "stream",
     "text": [
      "\r",
      "\u001b[2K     \u001b[91m━━━━━━━━━━━━━━━━━━━━━━━━━━━━━━━━━━━━\u001b[0m\u001b[91m╸\u001b[0m \u001b[32m750.6/750.6 MB\u001b[0m \u001b[31m196.0 MB/s\u001b[0m eta \u001b[36m0:00:01\u001b[0m"
     ]
    },
    {
     "name": "stdout",
     "output_type": "stream",
     "text": [
      "\r",
      "\u001b[2K     \u001b[91m━━━━━━━━━━━━━━━━━━━━━━━━━━━━━━━━━━━━\u001b[0m\u001b[91m╸\u001b[0m \u001b[32m750.6/750.6 MB\u001b[0m \u001b[31m196.0 MB/s\u001b[0m eta \u001b[36m0:00:01\u001b[0m"
     ]
    },
    {
     "name": "stdout",
     "output_type": "stream",
     "text": [
      "\r",
      "\u001b[2K     \u001b[91m━━━━━━━━━━━━━━━━━━━━━━━━━━━━━━━━━━━━\u001b[0m\u001b[91m╸\u001b[0m \u001b[32m750.6/750.6 MB\u001b[0m \u001b[31m196.0 MB/s\u001b[0m eta \u001b[36m0:00:01\u001b[0m\r",
      "\u001b[2K     \u001b[91m━━━━━━━━━━━━━━━━━━━━━━━━━━━━━━━━━━━━\u001b[0m\u001b[91m╸\u001b[0m \u001b[32m750.6/750.6 MB\u001b[0m \u001b[31m196.0 MB/s\u001b[0m eta \u001b[36m0:00:01\u001b[0m"
     ]
    },
    {
     "name": "stdout",
     "output_type": "stream",
     "text": [
      "\r",
      "\u001b[2K     \u001b[91m━━━━━━━━━━━━━━━━━━━━━━━━━━━━━━━━━━━━\u001b[0m\u001b[91m╸\u001b[0m \u001b[32m750.6/750.6 MB\u001b[0m \u001b[31m196.0 MB/s\u001b[0m eta \u001b[36m0:00:01\u001b[0m"
     ]
    },
    {
     "name": "stdout",
     "output_type": "stream",
     "text": [
      "\r",
      "\u001b[2K     \u001b[91m━━━━━━━━━━━━━━━━━━━━━━━━━━━━━━━━━━━━\u001b[0m\u001b[91m╸\u001b[0m \u001b[32m750.6/750.6 MB\u001b[0m \u001b[31m196.0 MB/s\u001b[0m eta \u001b[36m0:00:01\u001b[0m\r",
      "\u001b[2K     \u001b[91m━━━━━━━━━━━━━━━━━━━━━━━━━━━━━━━━━━━━\u001b[0m\u001b[91m╸\u001b[0m \u001b[32m750.6/750.6 MB\u001b[0m \u001b[31m196.0 MB/s\u001b[0m eta \u001b[36m0:00:01\u001b[0m"
     ]
    },
    {
     "name": "stdout",
     "output_type": "stream",
     "text": [
      "\r",
      "\u001b[2K     \u001b[91m━━━━━━━━━━━━━━━━━━━━━━━━━━━━━━━━━━━━\u001b[0m\u001b[91m╸\u001b[0m \u001b[32m750.6/750.6 MB\u001b[0m \u001b[31m196.0 MB/s\u001b[0m eta \u001b[36m0:00:01\u001b[0m"
     ]
    },
    {
     "name": "stdout",
     "output_type": "stream",
     "text": [
      "\r",
      "\u001b[2K     \u001b[91m━━━━━━━━━━━━━━━━━━━━━━━━━━━━━━━━━━━━\u001b[0m\u001b[91m╸\u001b[0m \u001b[32m750.6/750.6 MB\u001b[0m \u001b[31m196.0 MB/s\u001b[0m eta \u001b[36m0:00:01\u001b[0m"
     ]
    },
    {
     "name": "stdout",
     "output_type": "stream",
     "text": [
      "\r",
      "\u001b[2K     \u001b[91m━━━━━━━━━━━━━━━━━━━━━━━━━━━━━━━━━━━━\u001b[0m\u001b[91m╸\u001b[0m \u001b[32m750.6/750.6 MB\u001b[0m \u001b[31m196.0 MB/s\u001b[0m eta \u001b[36m0:00:01\u001b[0m\r",
      "\u001b[2K     \u001b[91m━━━━━━━━━━━━━━━━━━━━━━━━━━━━━━━━━━━━\u001b[0m\u001b[91m╸\u001b[0m \u001b[32m750.6/750.6 MB\u001b[0m \u001b[31m196.0 MB/s\u001b[0m eta \u001b[36m0:00:01\u001b[0m"
     ]
    },
    {
     "name": "stdout",
     "output_type": "stream",
     "text": [
      "\r",
      "\u001b[2K     \u001b[91m━━━━━━━━━━━━━━━━━━━━━━━━━━━━━━━━━━━━\u001b[0m\u001b[91m╸\u001b[0m \u001b[32m750.6/750.6 MB\u001b[0m \u001b[31m196.0 MB/s\u001b[0m eta \u001b[36m0:00:01\u001b[0m"
     ]
    },
    {
     "name": "stdout",
     "output_type": "stream",
     "text": [
      "\r",
      "\u001b[2K     \u001b[91m━━━━━━━━━━━━━━━━━━━━━━━━━━━━━━━━━━━━\u001b[0m\u001b[91m╸\u001b[0m \u001b[32m750.6/750.6 MB\u001b[0m \u001b[31m196.0 MB/s\u001b[0m eta \u001b[36m0:00:01\u001b[0m\r",
      "\u001b[2K     \u001b[91m━━━━━━━━━━━━━━━━━━━━━━━━━━━━━━━━━━━━\u001b[0m\u001b[91m╸\u001b[0m \u001b[32m750.6/750.6 MB\u001b[0m \u001b[31m196.0 MB/s\u001b[0m eta \u001b[36m0:00:01\u001b[0m"
     ]
    },
    {
     "name": "stdout",
     "output_type": "stream",
     "text": [
      "\r",
      "\u001b[2K     \u001b[91m━━━━━━━━━━━━━━━━━━━━━━━━━━━━━━━━━━━━\u001b[0m\u001b[91m╸\u001b[0m \u001b[32m750.6/750.6 MB\u001b[0m \u001b[31m196.0 MB/s\u001b[0m eta \u001b[36m0:00:01\u001b[0m"
     ]
    },
    {
     "name": "stdout",
     "output_type": "stream",
     "text": [
      "\r",
      "\u001b[2K     \u001b[91m━━━━━━━━━━━━━━━━━━━━━━━━━━━━━━━━━━━━\u001b[0m\u001b[91m╸\u001b[0m \u001b[32m750.6/750.6 MB\u001b[0m \u001b[31m196.0 MB/s\u001b[0m eta \u001b[36m0:00:01\u001b[0m"
     ]
    },
    {
     "name": "stdout",
     "output_type": "stream",
     "text": [
      "\r",
      "\u001b[2K     \u001b[91m━━━━━━━━━━━━━━━━━━━━━━━━━━━━━━━━━━━━\u001b[0m\u001b[91m╸\u001b[0m \u001b[32m750.6/750.6 MB\u001b[0m \u001b[31m196.0 MB/s\u001b[0m eta \u001b[36m0:00:01\u001b[0m\r",
      "\u001b[2K     \u001b[91m━━━━━━━━━━━━━━━━━━━━━━━━━━━━━━━━━━━━\u001b[0m\u001b[91m╸\u001b[0m \u001b[32m750.6/750.6 MB\u001b[0m \u001b[31m196.0 MB/s\u001b[0m eta \u001b[36m0:00:01\u001b[0m"
     ]
    },
    {
     "name": "stdout",
     "output_type": "stream",
     "text": [
      "\r",
      "\u001b[2K     \u001b[91m━━━━━━━━━━━━━━━━━━━━━━━━━━━━━━━━━━━━\u001b[0m\u001b[91m╸\u001b[0m \u001b[32m750.6/750.6 MB\u001b[0m \u001b[31m196.0 MB/s\u001b[0m eta \u001b[36m0:00:01\u001b[0m"
     ]
    },
    {
     "name": "stdout",
     "output_type": "stream",
     "text": [
      "\r",
      "\u001b[2K     \u001b[91m━━━━━━━━━━━━━━━━━━━━━━━━━━━━━━━━━━━━\u001b[0m\u001b[91m╸\u001b[0m \u001b[32m750.6/750.6 MB\u001b[0m \u001b[31m196.0 MB/s\u001b[0m eta \u001b[36m0:00:01\u001b[0m"
     ]
    },
    {
     "name": "stdout",
     "output_type": "stream",
     "text": [
      "\r",
      "\u001b[2K     \u001b[91m━━━━━━━━━━━━━━━━━━━━━━━━━━━━━━━━━━━━\u001b[0m\u001b[91m╸\u001b[0m \u001b[32m750.6/750.6 MB\u001b[0m \u001b[31m196.0 MB/s\u001b[0m eta \u001b[36m0:00:01\u001b[0m\r",
      "\u001b[2K     \u001b[91m━━━━━━━━━━━━━━━━━━━━━━━━━━━━━━━━━━━━\u001b[0m\u001b[91m╸\u001b[0m \u001b[32m750.6/750.6 MB\u001b[0m \u001b[31m196.0 MB/s\u001b[0m eta \u001b[36m0:00:01\u001b[0m"
     ]
    },
    {
     "name": "stdout",
     "output_type": "stream",
     "text": [
      "\r",
      "\u001b[2K     \u001b[91m━━━━━━━━━━━━━━━━━━━━━━━━━━━━━━━━━━━━\u001b[0m\u001b[91m╸\u001b[0m \u001b[32m750.6/750.6 MB\u001b[0m \u001b[31m196.0 MB/s\u001b[0m eta \u001b[36m0:00:01\u001b[0m"
     ]
    },
    {
     "name": "stdout",
     "output_type": "stream",
     "text": [
      "\r",
      "\u001b[2K     \u001b[91m━━━━━━━━━━━━━━━━━━━━━━━━━━━━━━━━━━━━\u001b[0m\u001b[91m╸\u001b[0m \u001b[32m750.6/750.6 MB\u001b[0m \u001b[31m196.0 MB/s\u001b[0m eta \u001b[36m0:00:01\u001b[0m\r",
      "\u001b[2K     \u001b[91m━━━━━━━━━━━━━━━━━━━━━━━━━━━━━━━━━━━━\u001b[0m\u001b[91m╸\u001b[0m \u001b[32m750.6/750.6 MB\u001b[0m \u001b[31m196.0 MB/s\u001b[0m eta \u001b[36m0:00:01\u001b[0m"
     ]
    },
    {
     "name": "stdout",
     "output_type": "stream",
     "text": [
      "\r",
      "\u001b[2K     \u001b[91m━━━━━━━━━━━━━━━━━━━━━━━━━━━━━━━━━━━━\u001b[0m\u001b[91m╸\u001b[0m \u001b[32m750.6/750.6 MB\u001b[0m \u001b[31m196.0 MB/s\u001b[0m eta \u001b[36m0:00:01\u001b[0m"
     ]
    },
    {
     "name": "stdout",
     "output_type": "stream",
     "text": [
      "\r",
      "\u001b[2K     \u001b[91m━━━━━━━━━━━━━━━━━━━━━━━━━━━━━━━━━━━━\u001b[0m\u001b[91m╸\u001b[0m \u001b[32m750.6/750.6 MB\u001b[0m \u001b[31m196.0 MB/s\u001b[0m eta \u001b[36m0:00:01\u001b[0m\r",
      "\u001b[2K     \u001b[91m━━━━━━━━━━━━━━━━━━━━━━━━━━━━━━━━━━━━\u001b[0m\u001b[91m╸\u001b[0m \u001b[32m750.6/750.6 MB\u001b[0m \u001b[31m196.0 MB/s\u001b[0m eta \u001b[36m0:00:01\u001b[0m"
     ]
    },
    {
     "name": "stdout",
     "output_type": "stream",
     "text": [
      "\r",
      "\u001b[2K     \u001b[91m━━━━━━━━━━━━━━━━━━━━━━━━━━━━━━━━━━━━\u001b[0m\u001b[91m╸\u001b[0m \u001b[32m750.6/750.6 MB\u001b[0m \u001b[31m196.0 MB/s\u001b[0m eta \u001b[36m0:00:01\u001b[0m"
     ]
    },
    {
     "name": "stdout",
     "output_type": "stream",
     "text": [
      "\r",
      "\u001b[2K     \u001b[91m━━━━━━━━━━━━━━━━━━━━━━━━━━━━━━━━━━━━\u001b[0m\u001b[91m╸\u001b[0m \u001b[32m750.6/750.6 MB\u001b[0m \u001b[31m196.0 MB/s\u001b[0m eta \u001b[36m0:00:01\u001b[0m"
     ]
    },
    {
     "name": "stdout",
     "output_type": "stream",
     "text": [
      "\r",
      "\u001b[2K     \u001b[91m━━━━━━━━━━━━━━━━━━━━━━━━━━━━━━━━━━━━\u001b[0m\u001b[91m╸\u001b[0m \u001b[32m750.6/750.6 MB\u001b[0m \u001b[31m196.0 MB/s\u001b[0m eta \u001b[36m0:00:01\u001b[0m\r",
      "\u001b[2K     \u001b[91m━━━━━━━━━━━━━━━━━━━━━━━━━━━━━━━━━━━━\u001b[0m\u001b[91m╸\u001b[0m \u001b[32m750.6/750.6 MB\u001b[0m \u001b[31m196.0 MB/s\u001b[0m eta \u001b[36m0:00:01\u001b[0m"
     ]
    },
    {
     "name": "stdout",
     "output_type": "stream",
     "text": [
      "\r",
      "\u001b[2K     \u001b[91m━━━━━━━━━━━━━━━━━━━━━━━━━━━━━━━━━━━━\u001b[0m\u001b[91m╸\u001b[0m \u001b[32m750.6/750.6 MB\u001b[0m \u001b[31m196.0 MB/s\u001b[0m eta \u001b[36m0:00:01\u001b[0m"
     ]
    },
    {
     "name": "stdout",
     "output_type": "stream",
     "text": [
      "\r",
      "\u001b[2K     \u001b[91m━━━━━━━━━━━━━━━━━━━━━━━━━━━━━━━━━━━━\u001b[0m\u001b[91m╸\u001b[0m \u001b[32m750.6/750.6 MB\u001b[0m \u001b[31m196.0 MB/s\u001b[0m eta \u001b[36m0:00:01\u001b[0m\r",
      "\u001b[2K     \u001b[91m━━━━━━━━━━━━━━━━━━━━━━━━━━━━━━━━━━━━\u001b[0m\u001b[91m╸\u001b[0m \u001b[32m750.6/750.6 MB\u001b[0m \u001b[31m196.0 MB/s\u001b[0m eta \u001b[36m0:00:01\u001b[0m"
     ]
    },
    {
     "name": "stdout",
     "output_type": "stream",
     "text": [
      "\r",
      "\u001b[2K     \u001b[91m━━━━━━━━━━━━━━━━━━━━━━━━━━━━━━━━━━━━\u001b[0m\u001b[91m╸\u001b[0m \u001b[32m750.6/750.6 MB\u001b[0m \u001b[31m196.0 MB/s\u001b[0m eta \u001b[36m0:00:01\u001b[0m"
     ]
    },
    {
     "name": "stdout",
     "output_type": "stream",
     "text": [
      "\r",
      "\u001b[2K     \u001b[91m━━━━━━━━━━━━━━━━━━━━━━━━━━━━━━━━━━━━\u001b[0m\u001b[91m╸\u001b[0m \u001b[32m750.6/750.6 MB\u001b[0m \u001b[31m196.0 MB/s\u001b[0m eta \u001b[36m0:00:01\u001b[0m\r",
      "\u001b[2K     \u001b[91m━━━━━━━━━━━━━━━━━━━━━━━━━━━━━━━━━━━━\u001b[0m\u001b[91m╸\u001b[0m \u001b[32m750.6/750.6 MB\u001b[0m \u001b[31m196.0 MB/s\u001b[0m eta \u001b[36m0:00:01\u001b[0m"
     ]
    },
    {
     "name": "stdout",
     "output_type": "stream",
     "text": [
      "\r",
      "\u001b[2K     \u001b[91m━━━━━━━━━━━━━━━━━━━━━━━━━━━━━━━━━━━━\u001b[0m\u001b[91m╸\u001b[0m \u001b[32m750.6/750.6 MB\u001b[0m \u001b[31m196.0 MB/s\u001b[0m eta \u001b[36m0:00:01\u001b[0m"
     ]
    },
    {
     "name": "stdout",
     "output_type": "stream",
     "text": [
      "\r",
      "\u001b[2K     \u001b[91m━━━━━━━━━━━━━━━━━━━━━━━━━━━━━━━━━━━━\u001b[0m\u001b[91m╸\u001b[0m \u001b[32m750.6/750.6 MB\u001b[0m \u001b[31m196.0 MB/s\u001b[0m eta \u001b[36m0:00:01\u001b[0m"
     ]
    },
    {
     "name": "stdout",
     "output_type": "stream",
     "text": [
      "\r",
      "\u001b[2K     \u001b[91m━━━━━━━━━━━━━━━━━━━━━━━━━━━━━━━━━━━━\u001b[0m\u001b[91m╸\u001b[0m \u001b[32m750.6/750.6 MB\u001b[0m \u001b[31m196.0 MB/s\u001b[0m eta \u001b[36m0:00:01\u001b[0m\r",
      "\u001b[2K     \u001b[91m━━━━━━━━━━━━━━━━━━━━━━━━━━━━━━━━━━━━\u001b[0m\u001b[91m╸\u001b[0m \u001b[32m750.6/750.6 MB\u001b[0m \u001b[31m196.0 MB/s\u001b[0m eta \u001b[36m0:00:01\u001b[0m"
     ]
    },
    {
     "name": "stdout",
     "output_type": "stream",
     "text": [
      "\r",
      "\u001b[2K     \u001b[91m━━━━━━━━━━━━━━━━━━━━━━━━━━━━━━━━━━━━\u001b[0m\u001b[91m╸\u001b[0m \u001b[32m750.6/750.6 MB\u001b[0m \u001b[31m196.0 MB/s\u001b[0m eta \u001b[36m0:00:01\u001b[0m"
     ]
    },
    {
     "name": "stdout",
     "output_type": "stream",
     "text": [
      "\r",
      "\u001b[2K     \u001b[91m━━━━━━━━━━━━━━━━━━━━━━━━━━━━━━━━━━━━\u001b[0m\u001b[91m╸\u001b[0m \u001b[32m750.6/750.6 MB\u001b[0m \u001b[31m196.0 MB/s\u001b[0m eta \u001b[36m0:00:01\u001b[0m"
     ]
    },
    {
     "name": "stdout",
     "output_type": "stream",
     "text": [
      "\r",
      "\u001b[2K     \u001b[91m━━━━━━━━━━━━━━━━━━━━━━━━━━━━━━━━━━━━\u001b[0m\u001b[91m╸\u001b[0m \u001b[32m750.6/750.6 MB\u001b[0m \u001b[31m196.0 MB/s\u001b[0m eta \u001b[36m0:00:01\u001b[0m\r",
      "\u001b[2K     \u001b[91m━━━━━━━━━━━━━━━━━━━━━━━━━━━━━━━━━━━━\u001b[0m\u001b[91m╸\u001b[0m \u001b[32m750.6/750.6 MB\u001b[0m \u001b[31m196.0 MB/s\u001b[0m eta \u001b[36m0:00:01\u001b[0m"
     ]
    },
    {
     "name": "stdout",
     "output_type": "stream",
     "text": [
      "\r",
      "\u001b[2K     \u001b[91m━━━━━━━━━━━━━━━━━━━━━━━━━━━━━━━━━━━━\u001b[0m\u001b[91m╸\u001b[0m \u001b[32m750.6/750.6 MB\u001b[0m \u001b[31m196.0 MB/s\u001b[0m eta \u001b[36m0:00:01\u001b[0m"
     ]
    },
    {
     "name": "stdout",
     "output_type": "stream",
     "text": [
      "\r",
      "\u001b[2K     \u001b[91m━━━━━━━━━━━━━━━━━━━━━━━━━━━━━━━━━━━━\u001b[0m\u001b[91m╸\u001b[0m \u001b[32m750.6/750.6 MB\u001b[0m \u001b[31m196.0 MB/s\u001b[0m eta \u001b[36m0:00:01\u001b[0m\r",
      "\u001b[2K     \u001b[91m━━━━━━━━━━━━━━━━━━━━━━━━━━━━━━━━━━━━\u001b[0m\u001b[91m╸\u001b[0m \u001b[32m750.6/750.6 MB\u001b[0m \u001b[31m196.0 MB/s\u001b[0m eta \u001b[36m0:00:01\u001b[0m"
     ]
    },
    {
     "name": "stdout",
     "output_type": "stream",
     "text": [
      "\r",
      "\u001b[2K     \u001b[91m━━━━━━━━━━━━━━━━━━━━━━━━━━━━━━━━━━━━\u001b[0m\u001b[91m╸\u001b[0m \u001b[32m750.6/750.6 MB\u001b[0m \u001b[31m196.0 MB/s\u001b[0m eta \u001b[36m0:00:01\u001b[0m"
     ]
    },
    {
     "name": "stdout",
     "output_type": "stream",
     "text": [
      "\r",
      "\u001b[2K     \u001b[91m━━━━━━━━━━━━━━━━━━━━━━━━━━━━━━━━━━━━\u001b[0m\u001b[91m╸\u001b[0m \u001b[32m750.6/750.6 MB\u001b[0m \u001b[31m196.0 MB/s\u001b[0m eta \u001b[36m0:00:01\u001b[0m"
     ]
    },
    {
     "name": "stdout",
     "output_type": "stream",
     "text": [
      "\r",
      "\u001b[2K     \u001b[91m━━━━━━━━━━━━━━━━━━━━━━━━━━━━━━━━━━━━\u001b[0m\u001b[91m╸\u001b[0m \u001b[32m750.6/750.6 MB\u001b[0m \u001b[31m196.0 MB/s\u001b[0m eta \u001b[36m0:00:01\u001b[0m\r",
      "\u001b[2K     \u001b[91m━━━━━━━━━━━━━━━━━━━━━━━━━━━━━━━━━━━━\u001b[0m\u001b[91m╸\u001b[0m \u001b[32m750.6/750.6 MB\u001b[0m \u001b[31m196.0 MB/s\u001b[0m eta \u001b[36m0:00:01\u001b[0m"
     ]
    },
    {
     "name": "stdout",
     "output_type": "stream",
     "text": [
      "\r",
      "\u001b[2K     \u001b[91m━━━━━━━━━━━━━━━━━━━━━━━━━━━━━━━━━━━━\u001b[0m\u001b[91m╸\u001b[0m \u001b[32m750.6/750.6 MB\u001b[0m \u001b[31m196.0 MB/s\u001b[0m eta \u001b[36m0:00:01\u001b[0m"
     ]
    },
    {
     "name": "stdout",
     "output_type": "stream",
     "text": [
      "\r",
      "\u001b[2K     \u001b[91m━━━━━━━━━━━━━━━━━━━━━━━━━━━━━━━━━━━━\u001b[0m\u001b[91m╸\u001b[0m \u001b[32m750.6/750.6 MB\u001b[0m \u001b[31m196.0 MB/s\u001b[0m eta \u001b[36m0:00:01\u001b[0m\r",
      "\u001b[2K     \u001b[91m━━━━━━━━━━━━━━━━━━━━━━━━━━━━━━━━━━━━\u001b[0m\u001b[91m╸\u001b[0m \u001b[32m750.6/750.6 MB\u001b[0m \u001b[31m196.0 MB/s\u001b[0m eta \u001b[36m0:00:01\u001b[0m"
     ]
    },
    {
     "name": "stdout",
     "output_type": "stream",
     "text": [
      "\r",
      "\u001b[2K     \u001b[91m━━━━━━━━━━━━━━━━━━━━━━━━━━━━━━━━━━━━\u001b[0m\u001b[91m╸\u001b[0m \u001b[32m750.6/750.6 MB\u001b[0m \u001b[31m196.0 MB/s\u001b[0m eta \u001b[36m0:00:01\u001b[0m"
     ]
    },
    {
     "name": "stdout",
     "output_type": "stream",
     "text": [
      "\r",
      "\u001b[2K     \u001b[91m━━━━━━━━━━━━━━━━━━━━━━━━━━━━━━━━━━━━\u001b[0m\u001b[91m╸\u001b[0m \u001b[32m750.6/750.6 MB\u001b[0m \u001b[31m196.0 MB/s\u001b[0m eta \u001b[36m0:00:01\u001b[0m\r",
      "\u001b[2K     \u001b[91m━━━━━━━━━━━━━━━━━━━━━━━━━━━━━━━━━━━━\u001b[0m\u001b[91m╸\u001b[0m \u001b[32m750.6/750.6 MB\u001b[0m \u001b[31m196.0 MB/s\u001b[0m eta \u001b[36m0:00:01\u001b[0m"
     ]
    },
    {
     "name": "stdout",
     "output_type": "stream",
     "text": [
      "\r",
      "\u001b[2K     \u001b[91m━━━━━━━━━━━━━━━━━━━━━━━━━━━━━━━━━━━━\u001b[0m\u001b[91m╸\u001b[0m \u001b[32m750.6/750.6 MB\u001b[0m \u001b[31m196.0 MB/s\u001b[0m eta \u001b[36m0:00:01\u001b[0m"
     ]
    },
    {
     "name": "stdout",
     "output_type": "stream",
     "text": [
      "\r",
      "\u001b[2K     \u001b[91m━━━━━━━━━━━━━━━━━━━━━━━━━━━━━━━━━━━━\u001b[0m\u001b[91m╸\u001b[0m \u001b[32m750.6/750.6 MB\u001b[0m \u001b[31m196.0 MB/s\u001b[0m eta \u001b[36m0:00:01\u001b[0m"
     ]
    },
    {
     "name": "stdout",
     "output_type": "stream",
     "text": [
      "\r",
      "\u001b[2K     \u001b[91m━━━━━━━━━━━━━━━━━━━━━━━━━━━━━━━━━━━━\u001b[0m\u001b[91m╸\u001b[0m \u001b[32m750.6/750.6 MB\u001b[0m \u001b[31m196.0 MB/s\u001b[0m eta \u001b[36m0:00:01\u001b[0m\r",
      "\u001b[2K     \u001b[91m━━━━━━━━━━━━━━━━━━━━━━━━━━━━━━━━━━━━\u001b[0m\u001b[91m╸\u001b[0m \u001b[32m750.6/750.6 MB\u001b[0m \u001b[31m196.0 MB/s\u001b[0m eta \u001b[36m0:00:01\u001b[0m"
     ]
    },
    {
     "name": "stdout",
     "output_type": "stream",
     "text": [
      "\r",
      "\u001b[2K     \u001b[91m━━━━━━━━━━━━━━━━━━━━━━━━━━━━━━━━━━━━\u001b[0m\u001b[91m╸\u001b[0m \u001b[32m750.6/750.6 MB\u001b[0m \u001b[31m196.0 MB/s\u001b[0m eta \u001b[36m0:00:01\u001b[0m"
     ]
    },
    {
     "name": "stdout",
     "output_type": "stream",
     "text": [
      "\r",
      "\u001b[2K     \u001b[91m━━━━━━━━━━━━━━━━━━━━━━━━━━━━━━━━━━━━\u001b[0m\u001b[91m╸\u001b[0m \u001b[32m750.6/750.6 MB\u001b[0m \u001b[31m196.0 MB/s\u001b[0m eta \u001b[36m0:00:01\u001b[0m\r",
      "\u001b[2K     \u001b[91m━━━━━━━━━━━━━━━━━━━━━━━━━━━━━━━━━━━━\u001b[0m\u001b[91m╸\u001b[0m \u001b[32m750.6/750.6 MB\u001b[0m \u001b[31m196.0 MB/s\u001b[0m eta \u001b[36m0:00:01\u001b[0m"
     ]
    },
    {
     "name": "stdout",
     "output_type": "stream",
     "text": [
      "\r",
      "\u001b[2K     \u001b[91m━━━━━━━━━━━━━━━━━━━━━━━━━━━━━━━━━━━━\u001b[0m\u001b[91m╸\u001b[0m \u001b[32m750.6/750.6 MB\u001b[0m \u001b[31m196.0 MB/s\u001b[0m eta \u001b[36m0:00:01\u001b[0m"
     ]
    },
    {
     "name": "stdout",
     "output_type": "stream",
     "text": [
      "\r",
      "\u001b[2K     \u001b[91m━━━━━━━━━━━━━━━━━━━━━━━━━━━━━━━━━━━━\u001b[0m\u001b[91m╸\u001b[0m \u001b[32m750.6/750.6 MB\u001b[0m \u001b[31m196.0 MB/s\u001b[0m eta \u001b[36m0:00:01\u001b[0m\r",
      "\u001b[2K     \u001b[91m━━━━━━━━━━━━━━━━━━━━━━━━━━━━━━━━━━━━\u001b[0m\u001b[91m╸\u001b[0m \u001b[32m750.6/750.6 MB\u001b[0m \u001b[31m196.0 MB/s\u001b[0m eta \u001b[36m0:00:01\u001b[0m"
     ]
    },
    {
     "name": "stdout",
     "output_type": "stream",
     "text": [
      "\r",
      "\u001b[2K     \u001b[91m━━━━━━━━━━━━━━━━━━━━━━━━━━━━━━━━━━━━\u001b[0m\u001b[91m╸\u001b[0m \u001b[32m750.6/750.6 MB\u001b[0m \u001b[31m196.0 MB/s\u001b[0m eta \u001b[36m0:00:01\u001b[0m"
     ]
    },
    {
     "name": "stdout",
     "output_type": "stream",
     "text": [
      "\r",
      "\u001b[2K     \u001b[91m━━━━━━━━━━━━━━━━━━━━━━━━━━━━━━━━━━━━\u001b[0m\u001b[91m╸\u001b[0m \u001b[32m750.6/750.6 MB\u001b[0m \u001b[31m196.0 MB/s\u001b[0m eta \u001b[36m0:00:01\u001b[0m\r",
      "\u001b[2K     \u001b[91m━━━━━━━━━━━━━━━━━━━━━━━━━━━━━━━━━━━━\u001b[0m\u001b[91m╸\u001b[0m \u001b[32m750.6/750.6 MB\u001b[0m \u001b[31m196.0 MB/s\u001b[0m eta \u001b[36m0:00:01\u001b[0m"
     ]
    },
    {
     "name": "stdout",
     "output_type": "stream",
     "text": [
      "\r",
      "\u001b[2K     \u001b[91m━━━━━━━━━━━━━━━━━━━━━━━━━━━━━━━━━━━━\u001b[0m\u001b[91m╸\u001b[0m \u001b[32m750.6/750.6 MB\u001b[0m \u001b[31m196.0 MB/s\u001b[0m eta \u001b[36m0:00:01\u001b[0m"
     ]
    },
    {
     "name": "stdout",
     "output_type": "stream",
     "text": [
      "\r",
      "\u001b[2K     \u001b[91m━━━━━━━━━━━━━━━━━━━━━━━━━━━━━━━━━━━━\u001b[0m\u001b[91m╸\u001b[0m \u001b[32m750.6/750.6 MB\u001b[0m \u001b[31m196.0 MB/s\u001b[0m eta \u001b[36m0:00:01\u001b[0m\r",
      "\u001b[2K     \u001b[91m━━━━━━━━━━━━━━━━━━━━━━━━━━━━━━━━━━━━\u001b[0m\u001b[91m╸\u001b[0m \u001b[32m750.6/750.6 MB\u001b[0m \u001b[31m196.0 MB/s\u001b[0m eta \u001b[36m0:00:01\u001b[0m"
     ]
    },
    {
     "name": "stdout",
     "output_type": "stream",
     "text": [
      "\r",
      "\u001b[2K     \u001b[91m━━━━━━━━━━━━━━━━━━━━━━━━━━━━━━━━━━━━\u001b[0m\u001b[91m╸\u001b[0m \u001b[32m750.6/750.6 MB\u001b[0m \u001b[31m196.0 MB/s\u001b[0m eta \u001b[36m0:00:01\u001b[0m"
     ]
    },
    {
     "name": "stdout",
     "output_type": "stream",
     "text": [
      "\r",
      "\u001b[2K     \u001b[91m━━━━━━━━━━━━━━━━━━━━━━━━━━━━━━━━━━━━\u001b[0m\u001b[91m╸\u001b[0m \u001b[32m750.6/750.6 MB\u001b[0m \u001b[31m196.0 MB/s\u001b[0m eta \u001b[36m0:00:01\u001b[0m"
     ]
    },
    {
     "name": "stdout",
     "output_type": "stream",
     "text": [
      "\r",
      "\u001b[2K     \u001b[91m━━━━━━━━━━━━━━━━━━━━━━━━━━━━━━━━━━━━\u001b[0m\u001b[91m╸\u001b[0m \u001b[32m750.6/750.6 MB\u001b[0m \u001b[31m196.0 MB/s\u001b[0m eta \u001b[36m0:00:01\u001b[0m\r",
      "\u001b[2K     \u001b[91m━━━━━━━━━━━━━━━━━━━━━━━━━━━━━━━━━━━━\u001b[0m\u001b[91m╸\u001b[0m \u001b[32m750.6/750.6 MB\u001b[0m \u001b[31m196.0 MB/s\u001b[0m eta \u001b[36m0:00:01\u001b[0m"
     ]
    },
    {
     "name": "stdout",
     "output_type": "stream",
     "text": [
      "\r",
      "\u001b[2K     \u001b[91m━━━━━━━━━━━━━━━━━━━━━━━━━━━━━━━━━━━━\u001b[0m\u001b[91m╸\u001b[0m \u001b[32m750.6/750.6 MB\u001b[0m \u001b[31m196.0 MB/s\u001b[0m eta \u001b[36m0:00:01\u001b[0m"
     ]
    },
    {
     "name": "stdout",
     "output_type": "stream",
     "text": [
      "\r",
      "\u001b[2K     \u001b[91m━━━━━━━━━━━━━━━━━━━━━━━━━━━━━━━━━━━━\u001b[0m\u001b[91m╸\u001b[0m \u001b[32m750.6/750.6 MB\u001b[0m \u001b[31m196.0 MB/s\u001b[0m eta \u001b[36m0:00:01\u001b[0m\r",
      "\u001b[2K     \u001b[91m━━━━━━━━━━━━━━━━━━━━━━━━━━━━━━━━━━━━\u001b[0m\u001b[91m╸\u001b[0m \u001b[32m750.6/750.6 MB\u001b[0m \u001b[31m196.0 MB/s\u001b[0m eta \u001b[36m0:00:01\u001b[0m"
     ]
    },
    {
     "name": "stdout",
     "output_type": "stream",
     "text": [
      "\r",
      "\u001b[2K     \u001b[91m━━━━━━━━━━━━━━━━━━━━━━━━━━━━━━━━━━━━\u001b[0m\u001b[91m╸\u001b[0m \u001b[32m750.6/750.6 MB\u001b[0m \u001b[31m196.0 MB/s\u001b[0m eta \u001b[36m0:00:01\u001b[0m"
     ]
    },
    {
     "name": "stdout",
     "output_type": "stream",
     "text": [
      "\r",
      "\u001b[2K     \u001b[91m━━━━━━━━━━━━━━━━━━━━━━━━━━━━━━━━━━━━\u001b[0m\u001b[91m╸\u001b[0m \u001b[32m750.6/750.6 MB\u001b[0m \u001b[31m196.0 MB/s\u001b[0m eta \u001b[36m0:00:01\u001b[0m\r",
      "\u001b[2K     \u001b[91m━━━━━━━━━━━━━━━━━━━━━━━━━━━━━━━━━━━━\u001b[0m\u001b[91m╸\u001b[0m \u001b[32m750.6/750.6 MB\u001b[0m \u001b[31m196.0 MB/s\u001b[0m eta \u001b[36m0:00:01\u001b[0m"
     ]
    },
    {
     "name": "stdout",
     "output_type": "stream",
     "text": [
      "\r",
      "\u001b[2K     \u001b[91m━━━━━━━━━━━━━━━━━━━━━━━━━━━━━━━━━━━━\u001b[0m\u001b[91m╸\u001b[0m \u001b[32m750.6/750.6 MB\u001b[0m \u001b[31m196.0 MB/s\u001b[0m eta \u001b[36m0:00:01\u001b[0m"
     ]
    },
    {
     "name": "stdout",
     "output_type": "stream",
     "text": [
      "\r",
      "\u001b[2K     \u001b[91m━━━━━━━━━━━━━━━━━━━━━━━━━━━━━━━━━━━━\u001b[0m\u001b[91m╸\u001b[0m \u001b[32m750.6/750.6 MB\u001b[0m \u001b[31m196.0 MB/s\u001b[0m eta \u001b[36m0:00:01\u001b[0m\r",
      "\u001b[2K     \u001b[91m━━━━━━━━━━━━━━━━━━━━━━━━━━━━━━━━━━━━\u001b[0m\u001b[91m╸\u001b[0m \u001b[32m750.6/750.6 MB\u001b[0m \u001b[31m196.0 MB/s\u001b[0m eta \u001b[36m0:00:01\u001b[0m"
     ]
    },
    {
     "name": "stdout",
     "output_type": "stream",
     "text": [
      "\r",
      "\u001b[2K     \u001b[91m━━━━━━━━━━━━━━━━━━━━━━━━━━━━━━━━━━━━\u001b[0m\u001b[91m╸\u001b[0m \u001b[32m750.6/750.6 MB\u001b[0m \u001b[31m196.0 MB/s\u001b[0m eta \u001b[36m0:00:01\u001b[0m"
     ]
    },
    {
     "name": "stdout",
     "output_type": "stream",
     "text": [
      "\r",
      "\u001b[2K     \u001b[91m━━━━━━━━━━━━━━━━━━━━━━━━━━━━━━━━━━━━\u001b[0m\u001b[91m╸\u001b[0m \u001b[32m750.6/750.6 MB\u001b[0m \u001b[31m196.0 MB/s\u001b[0m eta \u001b[36m0:00:01\u001b[0m"
     ]
    },
    {
     "name": "stdout",
     "output_type": "stream",
     "text": [
      "\r",
      "\u001b[2K     \u001b[91m━━━━━━━━━━━━━━━━━━━━━━━━━━━━━━━━━━━━\u001b[0m\u001b[91m╸\u001b[0m \u001b[32m750.6/750.6 MB\u001b[0m \u001b[31m196.0 MB/s\u001b[0m eta \u001b[36m0:00:01\u001b[0m\r",
      "\u001b[2K     \u001b[91m━━━━━━━━━━━━━━━━━━━━━━━━━━━━━━━━━━━━\u001b[0m\u001b[91m╸\u001b[0m \u001b[32m750.6/750.6 MB\u001b[0m \u001b[31m196.0 MB/s\u001b[0m eta \u001b[36m0:00:01\u001b[0m"
     ]
    },
    {
     "name": "stdout",
     "output_type": "stream",
     "text": [
      "\r",
      "\u001b[2K     \u001b[91m━━━━━━━━━━━━━━━━━━━━━━━━━━━━━━━━━━━━\u001b[0m\u001b[91m╸\u001b[0m \u001b[32m750.6/750.6 MB\u001b[0m \u001b[31m196.0 MB/s\u001b[0m eta \u001b[36m0:00:01\u001b[0m"
     ]
    },
    {
     "name": "stdout",
     "output_type": "stream",
     "text": [
      "\r",
      "\u001b[2K     \u001b[91m━━━━━━━━━━━━━━━━━━━━━━━━━━━━━━━━━━━━\u001b[0m\u001b[91m╸\u001b[0m \u001b[32m750.6/750.6 MB\u001b[0m \u001b[31m196.0 MB/s\u001b[0m eta \u001b[36m0:00:01\u001b[0m\r",
      "\u001b[2K     \u001b[91m━━━━━━━━━━━━━━━━━━━━━━━━━━━━━━━━━━━━\u001b[0m\u001b[91m╸\u001b[0m \u001b[32m750.6/750.6 MB\u001b[0m \u001b[31m196.0 MB/s\u001b[0m eta \u001b[36m0:00:01\u001b[0m"
     ]
    },
    {
     "name": "stdout",
     "output_type": "stream",
     "text": [
      "\r",
      "\u001b[2K     \u001b[91m━━━━━━━━━━━━━━━━━━━━━━━━━━━━━━━━━━━━\u001b[0m\u001b[91m╸\u001b[0m \u001b[32m750.6/750.6 MB\u001b[0m \u001b[31m196.0 MB/s\u001b[0m eta \u001b[36m0:00:01\u001b[0m"
     ]
    },
    {
     "name": "stdout",
     "output_type": "stream",
     "text": [
      "\r",
      "\u001b[2K     \u001b[91m━━━━━━━━━━━━━━━━━━━━━━━━━━━━━━━━━━━━\u001b[0m\u001b[91m╸\u001b[0m \u001b[32m750.6/750.6 MB\u001b[0m \u001b[31m196.0 MB/s\u001b[0m eta \u001b[36m0:00:01\u001b[0m"
     ]
    },
    {
     "name": "stdout",
     "output_type": "stream",
     "text": [
      "\r",
      "\u001b[2K     \u001b[91m━━━━━━━━━━━━━━━━━━━━━━━━━━━━━━━━━━━━\u001b[0m\u001b[91m╸\u001b[0m \u001b[32m750.6/750.6 MB\u001b[0m \u001b[31m196.0 MB/s\u001b[0m eta \u001b[36m0:00:01\u001b[0m\r",
      "\u001b[2K     \u001b[91m━━━━━━━━━━━━━━━━━━━━━━━━━━━━━━━━━━━━\u001b[0m\u001b[91m╸\u001b[0m \u001b[32m750.6/750.6 MB\u001b[0m \u001b[31m196.0 MB/s\u001b[0m eta \u001b[36m0:00:01\u001b[0m"
     ]
    },
    {
     "name": "stdout",
     "output_type": "stream",
     "text": [
      "\r",
      "\u001b[2K     \u001b[91m━━━━━━━━━━━━━━━━━━━━━━━━━━━━━━━━━━━━\u001b[0m\u001b[91m╸\u001b[0m \u001b[32m750.6/750.6 MB\u001b[0m \u001b[31m196.0 MB/s\u001b[0m eta \u001b[36m0:00:01\u001b[0m"
     ]
    },
    {
     "name": "stdout",
     "output_type": "stream",
     "text": [
      "\r",
      "\u001b[2K     \u001b[91m━━━━━━━━━━━━━━━━━━━━━━━━━━━━━━━━━━━━\u001b[0m\u001b[91m╸\u001b[0m \u001b[32m750.6/750.6 MB\u001b[0m \u001b[31m196.0 MB/s\u001b[0m eta \u001b[36m0:00:01\u001b[0m\r",
      "\u001b[2K     \u001b[91m━━━━━━━━━━━━━━━━━━━━━━━━━━━━━━━━━━━━\u001b[0m\u001b[91m╸\u001b[0m \u001b[32m750.6/750.6 MB\u001b[0m \u001b[31m196.0 MB/s\u001b[0m eta \u001b[36m0:00:01\u001b[0m"
     ]
    },
    {
     "name": "stdout",
     "output_type": "stream",
     "text": [
      "\r",
      "\u001b[2K     \u001b[91m━━━━━━━━━━━━━━━━━━━━━━━━━━━━━━━━━━━━\u001b[0m\u001b[91m╸\u001b[0m \u001b[32m750.6/750.6 MB\u001b[0m \u001b[31m196.0 MB/s\u001b[0m eta \u001b[36m0:00:01\u001b[0m"
     ]
    },
    {
     "name": "stdout",
     "output_type": "stream",
     "text": [
      "\r",
      "\u001b[2K     \u001b[91m━━━━━━━━━━━━━━━━━━━━━━━━━━━━━━━━━━━━\u001b[0m\u001b[91m╸\u001b[0m \u001b[32m750.6/750.6 MB\u001b[0m \u001b[31m196.0 MB/s\u001b[0m eta \u001b[36m0:00:01\u001b[0m\r",
      "\u001b[2K     \u001b[91m━━━━━━━━━━━━━━━━━━━━━━━━━━━━━━━━━━━━\u001b[0m\u001b[91m╸\u001b[0m \u001b[32m750.6/750.6 MB\u001b[0m \u001b[31m196.0 MB/s\u001b[0m eta \u001b[36m0:00:01\u001b[0m"
     ]
    },
    {
     "name": "stdout",
     "output_type": "stream",
     "text": [
      "\r",
      "\u001b[2K     \u001b[91m━━━━━━━━━━━━━━━━━━━━━━━━━━━━━━━━━━━━\u001b[0m\u001b[91m╸\u001b[0m \u001b[32m750.6/750.6 MB\u001b[0m \u001b[31m196.0 MB/s\u001b[0m eta \u001b[36m0:00:01\u001b[0m"
     ]
    },
    {
     "name": "stdout",
     "output_type": "stream",
     "text": [
      "\r",
      "\u001b[2K     \u001b[91m━━━━━━━━━━━━━━━━━━━━━━━━━━━━━━━━━━━━\u001b[0m\u001b[91m╸\u001b[0m \u001b[32m750.6/750.6 MB\u001b[0m \u001b[31m196.0 MB/s\u001b[0m eta \u001b[36m0:00:01\u001b[0m"
     ]
    },
    {
     "name": "stdout",
     "output_type": "stream",
     "text": [
      "\r",
      "\u001b[2K     \u001b[91m━━━━━━━━━━━━━━━━━━━━━━━━━━━━━━━━━━━━\u001b[0m\u001b[91m╸\u001b[0m \u001b[32m750.6/750.6 MB\u001b[0m \u001b[31m196.0 MB/s\u001b[0m eta \u001b[36m0:00:01\u001b[0m\r",
      "\u001b[2K     \u001b[91m━━━━━━━━━━━━━━━━━━━━━━━━━━━━━━━━━━━━\u001b[0m\u001b[91m╸\u001b[0m \u001b[32m750.6/750.6 MB\u001b[0m \u001b[31m196.0 MB/s\u001b[0m eta \u001b[36m0:00:01\u001b[0m"
     ]
    },
    {
     "name": "stdout",
     "output_type": "stream",
     "text": [
      "\r",
      "\u001b[2K     \u001b[91m━━━━━━━━━━━━━━━━━━━━━━━━━━━━━━━━━━━━\u001b[0m\u001b[91m╸\u001b[0m \u001b[32m750.6/750.6 MB\u001b[0m \u001b[31m196.0 MB/s\u001b[0m eta \u001b[36m0:00:01\u001b[0m"
     ]
    },
    {
     "name": "stdout",
     "output_type": "stream",
     "text": [
      "\r",
      "\u001b[2K     \u001b[91m━━━━━━━━━━━━━━━━━━━━━━━━━━━━━━━━━━━━\u001b[0m\u001b[91m╸\u001b[0m \u001b[32m750.6/750.6 MB\u001b[0m \u001b[31m196.0 MB/s\u001b[0m eta \u001b[36m0:00:01\u001b[0m\r",
      "\u001b[2K     \u001b[91m━━━━━━━━━━━━━━━━━━━━━━━━━━━━━━━━━━━━\u001b[0m\u001b[91m╸\u001b[0m \u001b[32m750.6/750.6 MB\u001b[0m \u001b[31m196.0 MB/s\u001b[0m eta \u001b[36m0:00:01\u001b[0m"
     ]
    },
    {
     "name": "stdout",
     "output_type": "stream",
     "text": [
      "\r",
      "\u001b[2K     \u001b[91m━━━━━━━━━━━━━━━━━━━━━━━━━━━━━━━━━━━━\u001b[0m\u001b[91m╸\u001b[0m \u001b[32m750.6/750.6 MB\u001b[0m \u001b[31m196.0 MB/s\u001b[0m eta \u001b[36m0:00:01\u001b[0m"
     ]
    },
    {
     "name": "stdout",
     "output_type": "stream",
     "text": [
      "\r",
      "\u001b[2K     \u001b[91m━━━━━━━━━━━━━━━━━━━━━━━━━━━━━━━━━━━━\u001b[0m\u001b[91m╸\u001b[0m \u001b[32m750.6/750.6 MB\u001b[0m \u001b[31m196.0 MB/s\u001b[0m eta \u001b[36m0:00:01\u001b[0m\r",
      "\u001b[2K     \u001b[91m━━━━━━━━━━━━━━━━━━━━━━━━━━━━━━━━━━━━\u001b[0m\u001b[91m╸\u001b[0m \u001b[32m750.6/750.6 MB\u001b[0m \u001b[31m196.0 MB/s\u001b[0m eta \u001b[36m0:00:01\u001b[0m"
     ]
    },
    {
     "name": "stdout",
     "output_type": "stream",
     "text": [
      "\r",
      "\u001b[2K     \u001b[91m━━━━━━━━━━━━━━━━━━━━━━━━━━━━━━━━━━━━\u001b[0m\u001b[91m╸\u001b[0m \u001b[32m750.6/750.6 MB\u001b[0m \u001b[31m196.0 MB/s\u001b[0m eta \u001b[36m0:00:01\u001b[0m"
     ]
    },
    {
     "name": "stdout",
     "output_type": "stream",
     "text": [
      "\r",
      "\u001b[2K     \u001b[91m━━━━━━━━━━━━━━━━━━━━━━━━━━━━━━━━━━━━\u001b[0m\u001b[91m╸\u001b[0m \u001b[32m750.6/750.6 MB\u001b[0m \u001b[31m196.0 MB/s\u001b[0m eta \u001b[36m0:00:01\u001b[0m\r",
      "\u001b[2K     \u001b[91m━━━━━━━━━━━━━━━━━━━━━━━━━━━━━━━━━━━━\u001b[0m\u001b[91m╸\u001b[0m \u001b[32m750.6/750.6 MB\u001b[0m \u001b[31m196.0 MB/s\u001b[0m eta \u001b[36m0:00:01\u001b[0m"
     ]
    },
    {
     "name": "stdout",
     "output_type": "stream",
     "text": [
      "\r",
      "\u001b[2K     \u001b[91m━━━━━━━━━━━━━━━━━━━━━━━━━━━━━━━━━━━━\u001b[0m\u001b[91m╸\u001b[0m \u001b[32m750.6/750.6 MB\u001b[0m \u001b[31m196.0 MB/s\u001b[0m eta \u001b[36m0:00:01\u001b[0m"
     ]
    },
    {
     "name": "stdout",
     "output_type": "stream",
     "text": [
      "\r",
      "\u001b[2K     \u001b[91m━━━━━━━━━━━━━━━━━━━━━━━━━━━━━━━━━━━━\u001b[0m\u001b[91m╸\u001b[0m \u001b[32m750.6/750.6 MB\u001b[0m \u001b[31m196.0 MB/s\u001b[0m eta \u001b[36m0:00:01\u001b[0m"
     ]
    },
    {
     "name": "stdout",
     "output_type": "stream",
     "text": [
      "\r",
      "\u001b[2K     \u001b[91m━━━━━━━━━━━━━━━━━━━━━━━━━━━━━━━━━━━━\u001b[0m\u001b[91m╸\u001b[0m \u001b[32m750.6/750.6 MB\u001b[0m \u001b[31m196.0 MB/s\u001b[0m eta \u001b[36m0:00:01\u001b[0m\r",
      "\u001b[2K     \u001b[91m━━━━━━━━━━━━━━━━━━━━━━━━━━━━━━━━━━━━\u001b[0m\u001b[91m╸\u001b[0m \u001b[32m750.6/750.6 MB\u001b[0m \u001b[31m196.0 MB/s\u001b[0m eta \u001b[36m0:00:01\u001b[0m"
     ]
    },
    {
     "name": "stdout",
     "output_type": "stream",
     "text": [
      "\r",
      "\u001b[2K     \u001b[91m━━━━━━━━━━━━━━━━━━━━━━━━━━━━━━━━━━━━\u001b[0m\u001b[91m╸\u001b[0m \u001b[32m750.6/750.6 MB\u001b[0m \u001b[31m196.0 MB/s\u001b[0m eta \u001b[36m0:00:01\u001b[0m"
     ]
    },
    {
     "name": "stdout",
     "output_type": "stream",
     "text": [
      "\r",
      "\u001b[2K     \u001b[91m━━━━━━━━━━━━━━━━━━━━━━━━━━━━━━━━━━━━\u001b[0m\u001b[91m╸\u001b[0m \u001b[32m750.6/750.6 MB\u001b[0m \u001b[31m196.0 MB/s\u001b[0m eta \u001b[36m0:00:01\u001b[0m\r",
      "\u001b[2K     \u001b[91m━━━━━━━━━━━━━━━━━━━━━━━━━━━━━━━━━━━━\u001b[0m\u001b[91m╸\u001b[0m \u001b[32m750.6/750.6 MB\u001b[0m \u001b[31m196.0 MB/s\u001b[0m eta \u001b[36m0:00:01\u001b[0m"
     ]
    },
    {
     "name": "stdout",
     "output_type": "stream",
     "text": [
      "\r",
      "\u001b[2K     \u001b[91m━━━━━━━━━━━━━━━━━━━━━━━━━━━━━━━━━━━━\u001b[0m\u001b[91m╸\u001b[0m \u001b[32m750.6/750.6 MB\u001b[0m \u001b[31m196.0 MB/s\u001b[0m eta \u001b[36m0:00:01\u001b[0m"
     ]
    },
    {
     "name": "stdout",
     "output_type": "stream",
     "text": [
      "\r",
      "\u001b[2K     \u001b[91m━━━━━━━━━━━━━━━━━━━━━━━━━━━━━━━━━━━━\u001b[0m\u001b[91m╸\u001b[0m \u001b[32m750.6/750.6 MB\u001b[0m \u001b[31m196.0 MB/s\u001b[0m eta \u001b[36m0:00:01\u001b[0m\r",
      "\u001b[2K     \u001b[91m━━━━━━━━━━━━━━━━━━━━━━━━━━━━━━━━━━━━\u001b[0m\u001b[91m╸\u001b[0m \u001b[32m750.6/750.6 MB\u001b[0m \u001b[31m196.0 MB/s\u001b[0m eta \u001b[36m0:00:01\u001b[0m"
     ]
    },
    {
     "name": "stdout",
     "output_type": "stream",
     "text": [
      "\r",
      "\u001b[2K     \u001b[91m━━━━━━━━━━━━━━━━━━━━━━━━━━━━━━━━━━━━\u001b[0m\u001b[91m╸\u001b[0m \u001b[32m750.6/750.6 MB\u001b[0m \u001b[31m196.0 MB/s\u001b[0m eta \u001b[36m0:00:01\u001b[0m"
     ]
    },
    {
     "name": "stdout",
     "output_type": "stream",
     "text": [
      "\r",
      "\u001b[2K     \u001b[91m━━━━━━━━━━━━━━━━━━━━━━━━━━━━━━━━━━━━\u001b[0m\u001b[91m╸\u001b[0m \u001b[32m750.6/750.6 MB\u001b[0m \u001b[31m196.0 MB/s\u001b[0m eta \u001b[36m0:00:01\u001b[0m\r",
      "\u001b[2K     \u001b[91m━━━━━━━━━━━━━━━━━━━━━━━━━━━━━━━━━━━━\u001b[0m\u001b[91m╸\u001b[0m \u001b[32m750.6/750.6 MB\u001b[0m \u001b[31m196.0 MB/s\u001b[0m eta \u001b[36m0:00:01\u001b[0m"
     ]
    },
    {
     "name": "stdout",
     "output_type": "stream",
     "text": [
      "\r",
      "\u001b[2K     \u001b[91m━━━━━━━━━━━━━━━━━━━━━━━━━━━━━━━━━━━━\u001b[0m\u001b[91m╸\u001b[0m \u001b[32m750.6/750.6 MB\u001b[0m \u001b[31m196.0 MB/s\u001b[0m eta \u001b[36m0:00:01\u001b[0m"
     ]
    },
    {
     "name": "stdout",
     "output_type": "stream",
     "text": [
      "\r",
      "\u001b[2K     \u001b[91m━━━━━━━━━━━━━━━━━━━━━━━━━━━━━━━━━━━━\u001b[0m\u001b[91m╸\u001b[0m \u001b[32m750.6/750.6 MB\u001b[0m \u001b[31m196.0 MB/s\u001b[0m eta \u001b[36m0:00:01\u001b[0m"
     ]
    },
    {
     "name": "stdout",
     "output_type": "stream",
     "text": [
      "\r",
      "\u001b[2K     \u001b[91m━━━━━━━━━━━━━━━━━━━━━━━━━━━━━━━━━━━━\u001b[0m\u001b[91m╸\u001b[0m \u001b[32m750.6/750.6 MB\u001b[0m \u001b[31m196.0 MB/s\u001b[0m eta \u001b[36m0:00:01\u001b[0m\r",
      "\u001b[2K     \u001b[91m━━━━━━━━━━━━━━━━━━━━━━━━━━━━━━━━━━━━\u001b[0m\u001b[91m╸\u001b[0m \u001b[32m750.6/750.6 MB\u001b[0m \u001b[31m196.0 MB/s\u001b[0m eta \u001b[36m0:00:01\u001b[0m"
     ]
    },
    {
     "name": "stdout",
     "output_type": "stream",
     "text": [
      "\r",
      "\u001b[2K     \u001b[91m━━━━━━━━━━━━━━━━━━━━━━━━━━━━━━━━━━━━\u001b[0m\u001b[91m╸\u001b[0m \u001b[32m750.6/750.6 MB\u001b[0m \u001b[31m196.0 MB/s\u001b[0m eta \u001b[36m0:00:01\u001b[0m"
     ]
    },
    {
     "name": "stdout",
     "output_type": "stream",
     "text": [
      "\r",
      "\u001b[2K     \u001b[91m━━━━━━━━━━━━━━━━━━━━━━━━━━━━━━━━━━━━\u001b[0m\u001b[91m╸\u001b[0m \u001b[32m750.6/750.6 MB\u001b[0m \u001b[31m196.0 MB/s\u001b[0m eta \u001b[36m0:00:01\u001b[0m\r",
      "\u001b[2K     \u001b[90m━━━━━━━━━━━━━━━━━━━━━━━━━━━━━━━━━━━━━━━\u001b[0m \u001b[32m750.6/750.6 MB\u001b[0m \u001b[31m1.0 MB/s\u001b[0m eta \u001b[36m0:00:00\u001b[0m\r\n",
      "\u001b[?25h"
     ]
    },
    {
     "name": "stdout",
     "output_type": "stream",
     "text": [
      "Collecting cattrs<1.7,>=1.1.0\r\n"
     ]
    },
    {
     "name": "stdout",
     "output_type": "stream",
     "text": [
      "  Downloading cattrs-1.5.0-py3-none-any.whl (19 kB)\r\n",
      "Requirement already satisfied: cloudpickle in /opt/conda/envs/py310/lib/python3.10/site-packages (from mlagents_envs==0.31.0.dev0->mlagents==0.31.0.dev0) (2.2.1)\r\n",
      "Requirement already satisfied: gym>=0.21.0 in /opt/conda/envs/py310/lib/python3.10/site-packages (from mlagents_envs==0.31.0.dev0->mlagents==0.31.0.dev0) (0.26.2)\r\n",
      "Requirement already satisfied: pettingzoo==1.15.0 in /opt/conda/envs/py310/lib/python3.10/site-packages (from mlagents_envs==0.31.0.dev0->mlagents==0.31.0.dev0) (1.15.0)\r\n",
      "Requirement already satisfied: filelock>=3.4.0 in /opt/conda/envs/py310/lib/python3.10/site-packages (from mlagents_envs==0.31.0.dev0->mlagents==0.31.0.dev0) (3.10.7)\r\n"
     ]
    },
    {
     "name": "stdout",
     "output_type": "stream",
     "text": [
      "Requirement already satisfied: tqdm>=4.42.1 in /opt/conda/envs/py310/lib/python3.10/site-packages (from huggingface_hub~=0.8->mlagents==0.31.0.dev0) (4.64.0)\r\n",
      "Requirement already satisfied: typing-extensions>=3.7.4.3 in /opt/conda/envs/py310/lib/python3.10/site-packages (from huggingface_hub~=0.8->mlagents==0.31.0.dev0) (4.3.0)\r\n",
      "Requirement already satisfied: packaging>=20.9 in /opt/conda/envs/py310/lib/python3.10/site-packages (from huggingface_hub~=0.8->mlagents==0.31.0.dev0) (23.0)\r\n",
      "Requirement already satisfied: requests in /opt/conda/envs/py310/lib/python3.10/site-packages (from huggingface_hub~=0.8->mlagents==0.31.0.dev0) (2.28.1)\r\n"
     ]
    },
    {
     "name": "stdout",
     "output_type": "stream",
     "text": [
      "Collecting markdown>=2.6.8\r\n",
      "  Downloading Markdown-3.4.3-py3-none-any.whl (93 kB)\r\n",
      "\u001b[?25l     \u001b[90m━━━━━━━━━━━━━━━━━━━━━━━━━━━━━━━━━━━━━━━━\u001b[0m \u001b[32m0.0/93.9 kB\u001b[0m \u001b[31m?\u001b[0m eta \u001b[36m-:--:--\u001b[0m"
     ]
    },
    {
     "name": "stdout",
     "output_type": "stream",
     "text": [
      "\r",
      "\u001b[2K     \u001b[90m━━━━━━━━━━━━━━━━━━━━━━━━━━━━━━━━━━━━━━━━\u001b[0m \u001b[32m93.9/93.9 kB\u001b[0m \u001b[31m11.2 MB/s\u001b[0m eta \u001b[36m0:00:00\u001b[0m\r\n",
      "\u001b[?25h"
     ]
    },
    {
     "name": "stdout",
     "output_type": "stream",
     "text": [
      "Collecting werkzeug>=1.0.1\r\n",
      "  Downloading Werkzeug-2.2.3-py3-none-any.whl (233 kB)\r\n",
      "\u001b[?25l     \u001b[90m━━━━━━━━━━━━━━━━━━━━━━━━━━━━━━━━━━━━━━━━\u001b[0m \u001b[32m0.0/233.6 kB\u001b[0m \u001b[31m?\u001b[0m eta \u001b[36m-:--:--\u001b[0m\r",
      "\u001b[2K     \u001b[90m━━━━━━━━━━━━━━━━━━━━━━━━━━━━━━━━━━━━━━\u001b[0m \u001b[32m233.6/233.6 kB\u001b[0m \u001b[31m26.6 MB/s\u001b[0m eta \u001b[36m0:00:00\u001b[0m\r\n",
      "\u001b[?25h"
     ]
    },
    {
     "name": "stdout",
     "output_type": "stream",
     "text": [
      "Collecting google-auth<3,>=1.6.3\r\n",
      "  Downloading google_auth-2.17.2-py2.py3-none-any.whl (178 kB)\r\n",
      "\u001b[?25l     \u001b[90m━━━━━━━━━━━━━━━━━━━━━━━━━━━━━━━━━━━━━━━━\u001b[0m \u001b[32m0.0/178.2 kB\u001b[0m \u001b[31m?\u001b[0m eta \u001b[36m-:--:--\u001b[0m"
     ]
    },
    {
     "name": "stdout",
     "output_type": "stream",
     "text": [
      "\r",
      "\u001b[2K     \u001b[90m━━━━━━━━━━━━━━━━━━━━━━━━━━━━━━━━━━━━━━\u001b[0m \u001b[32m178.2/178.2 kB\u001b[0m \u001b[31m18.9 MB/s\u001b[0m eta \u001b[36m0:00:00\u001b[0m\r\n",
      "\u001b[?25hCollecting tensorboard-plugin-wit>=1.6.0\r\n",
      "  Downloading tensorboard_plugin_wit-1.8.1-py3-none-any.whl (781 kB)\r\n",
      "\u001b[?25l     \u001b[90m━━━━━━━━━━━━━━━━━━━━━━━━━━━━━━━━━━━━━━━━\u001b[0m \u001b[32m0.0/781.3 kB\u001b[0m \u001b[31m?\u001b[0m eta \u001b[36m-:--:--\u001b[0m"
     ]
    },
    {
     "name": "stdout",
     "output_type": "stream",
     "text": [
      "\r",
      "\u001b[2K     \u001b[90m━━━━━━━━━━━━━━━━━━━━━━━━━━━━━━━━━━━━━━\u001b[0m \u001b[32m781.3/781.3 kB\u001b[0m \u001b[31m52.2 MB/s\u001b[0m eta \u001b[36m0:00:00\u001b[0m\r\n",
      "\u001b[?25hCollecting absl-py>=0.4\r\n",
      "  Downloading absl_py-1.4.0-py3-none-any.whl (126 kB)\r\n",
      "\u001b[?25l     \u001b[90m━━━━━━━━━━━━━━━━━━━━━━━━━━━━━━━━━━━━━━━━\u001b[0m \u001b[32m0.0/126.5 kB\u001b[0m \u001b[31m?\u001b[0m eta \u001b[36m-:--:--\u001b[0m"
     ]
    },
    {
     "name": "stdout",
     "output_type": "stream",
     "text": [
      "\r",
      "\u001b[2K     \u001b[90m━━━━━━━━━━━━━━━━━━━━━━━━━━━━━━━━━━━━━━\u001b[0m \u001b[32m126.5/126.5 kB\u001b[0m \u001b[31m14.8 MB/s\u001b[0m eta \u001b[36m0:00:00\u001b[0m\r\n",
      "\u001b[?25hRequirement already satisfied: wheel>=0.26 in /opt/conda/envs/py310/lib/python3.10/site-packages (from tensorboard>=1.15->mlagents==0.31.0.dev0) (0.37.1)\r\n",
      "Collecting google-auth-oauthlib<1.1,>=0.5\r\n",
      "  Downloading google_auth_oauthlib-1.0.0-py2.py3-none-any.whl (18 kB)\r\n"
     ]
    },
    {
     "name": "stdout",
     "output_type": "stream",
     "text": [
      "Requirement already satisfied: setuptools>=41.0.0 in /opt/conda/envs/py310/lib/python3.10/site-packages (from tensorboard>=1.15->mlagents==0.31.0.dev0) (59.8.0)\r\n",
      "Collecting tensorboard-data-server<0.8.0,>=0.7.0\r\n",
      "  Downloading tensorboard_data_server-0.7.0-py3-none-manylinux2014_x86_64.whl (6.6 MB)\r\n",
      "\u001b[?25l     \u001b[90m━━━━━━━━━━━━━━━━━━━━━━━━━━━━━━━━━━━━━━━━\u001b[0m \u001b[32m0.0/6.6 MB\u001b[0m \u001b[31m?\u001b[0m eta \u001b[36m-:--:--\u001b[0m"
     ]
    },
    {
     "name": "stdout",
     "output_type": "stream",
     "text": [
      "\r",
      "\u001b[2K     \u001b[91m━━━━━━━━━━━━━━━━━━━━━━━━━━━━━━━━━━━━━━━\u001b[0m\u001b[90m╺\u001b[0m \u001b[32m6.4/6.6 MB\u001b[0m \u001b[31m194.2 MB/s\u001b[0m eta \u001b[36m0:00:01\u001b[0m"
     ]
    },
    {
     "name": "stdout",
     "output_type": "stream",
     "text": [
      "\r",
      "\u001b[2K     \u001b[91m━━━━━━━━━━━━━━━━━━━━━━━━━━━━━━━━━━━━━━━\u001b[0m\u001b[91m╸\u001b[0m \u001b[32m6.6/6.6 MB\u001b[0m \u001b[31m184.6 MB/s\u001b[0m eta \u001b[36m0:00:01\u001b[0m\r",
      "\u001b[2K     \u001b[90m━━━━━━━━━━━━━━━━━━━━━━━━━━━━━━━━━━━━━━━━\u001b[0m \u001b[32m6.6/6.6 MB\u001b[0m \u001b[31m90.9 MB/s\u001b[0m eta \u001b[36m0:00:00\u001b[0m\r\n",
      "\u001b[?25h"
     ]
    },
    {
     "name": "stdout",
     "output_type": "stream",
     "text": [
      "Collecting pyasn1-modules>=0.2.1\r\n",
      "  Downloading pyasn1_modules-0.2.8-py2.py3-none-any.whl (155 kB)\r\n",
      "\u001b[?25l     \u001b[90m━━━━━━━━━━━━━━━━━━━━━━━━━━━━━━━━━━━━━━━━\u001b[0m \u001b[32m0.0/155.3 kB\u001b[0m \u001b[31m?\u001b[0m eta \u001b[36m-:--:--\u001b[0m\r",
      "\u001b[2K     \u001b[90m━━━━━━━━━━━━━━━━━━━━━━━━━━━━━━━━━━━━━━\u001b[0m \u001b[32m155.3/155.3 kB\u001b[0m \u001b[31m16.4 MB/s\u001b[0m eta \u001b[36m0:00:00\u001b[0m\r\n",
      "\u001b[?25hRequirement already satisfied: six>=1.9.0 in /opt/conda/envs/py310/lib/python3.10/site-packages (from google-auth<3,>=1.6.3->tensorboard>=1.15->mlagents==0.31.0.dev0) (1.16.0)\r\n"
     ]
    },
    {
     "name": "stdout",
     "output_type": "stream",
     "text": [
      "Collecting cachetools<6.0,>=2.0.0\r\n",
      "  Downloading cachetools-5.3.0-py3-none-any.whl (9.3 kB)\r\n"
     ]
    },
    {
     "name": "stdout",
     "output_type": "stream",
     "text": [
      "Collecting rsa<5,>=3.1.4\r\n",
      "  Downloading rsa-4.9-py3-none-any.whl (34 kB)\r\n"
     ]
    },
    {
     "name": "stdout",
     "output_type": "stream",
     "text": [
      "Collecting requests-oauthlib>=0.7.0\r\n",
      "  Downloading requests_oauthlib-1.3.1-py2.py3-none-any.whl (23 kB)\r\n"
     ]
    },
    {
     "name": "stdout",
     "output_type": "stream",
     "text": [
      "Requirement already satisfied: gym-notices>=0.0.4 in /opt/conda/envs/py310/lib/python3.10/site-packages (from gym>=0.21.0->mlagents_envs==0.31.0.dev0->mlagents==0.31.0.dev0) (0.0.8)\r\n",
      "Requirement already satisfied: charset-normalizer<3,>=2 in /opt/conda/envs/py310/lib/python3.10/site-packages (from requests->huggingface_hub~=0.8->mlagents==0.31.0.dev0) (2.1.0)\r\n",
      "Requirement already satisfied: idna<4,>=2.5 in /opt/conda/envs/py310/lib/python3.10/site-packages (from requests->huggingface_hub~=0.8->mlagents==0.31.0.dev0) (3.3)\r\n",
      "Requirement already satisfied: certifi>=2017.4.17 in /opt/conda/envs/py310/lib/python3.10/site-packages (from requests->huggingface_hub~=0.8->mlagents==0.31.0.dev0) (2022.6.15)\r\n",
      "Requirement already satisfied: urllib3<1.27,>=1.21.1 in /opt/conda/envs/py310/lib/python3.10/site-packages (from requests->huggingface_hub~=0.8->mlagents==0.31.0.dev0) (1.26.11)\r\n"
     ]
    },
    {
     "name": "stdout",
     "output_type": "stream",
     "text": [
      "Requirement already satisfied: MarkupSafe>=2.1.1 in /opt/conda/envs/py310/lib/python3.10/site-packages (from werkzeug>=1.0.1->tensorboard>=1.15->mlagents==0.31.0.dev0) (2.1.1)\r\n"
     ]
    },
    {
     "name": "stdout",
     "output_type": "stream",
     "text": [
      "Collecting pyasn1<0.5.0,>=0.4.6\r\n",
      "  Downloading pyasn1-0.4.8-py2.py3-none-any.whl (77 kB)\r\n",
      "\u001b[?25l     \u001b[90m━━━━━━━━━━━━━━━━━━━━━━━━━━━━━━━━━━━━━━━━\u001b[0m \u001b[32m0.0/77.1 kB\u001b[0m \u001b[31m?\u001b[0m eta \u001b[36m-:--:--\u001b[0m\r",
      "\u001b[2K     \u001b[90m━━━━━━━━━━━━━━━━━━━━━━━━━━━━━━━━━━━━━━━━\u001b[0m \u001b[32m77.1/77.1 kB\u001b[0m \u001b[31m9.0 MB/s\u001b[0m eta \u001b[36m0:00:00\u001b[0m\r\n",
      "\u001b[?25h"
     ]
    },
    {
     "name": "stdout",
     "output_type": "stream",
     "text": [
      "Collecting oauthlib>=3.0.0\r\n",
      "  Downloading oauthlib-3.2.2-py3-none-any.whl (151 kB)\r\n",
      "\u001b[?25l     \u001b[90m━━━━━━━━━━━━━━━━━━━━━━━━━━━━━━━━━━━━━━━━\u001b[0m \u001b[32m0.0/151.7 kB\u001b[0m \u001b[31m?\u001b[0m eta \u001b[36m-:--:--\u001b[0m\r",
      "\u001b[2K     \u001b[90m━━━━━━━━━━━━━━━━━━━━━━━━━━━━━━━━━━━━━━\u001b[0m \u001b[32m151.7/151.7 kB\u001b[0m \u001b[31m18.5 MB/s\u001b[0m eta \u001b[36m0:00:00\u001b[0m\r\n",
      "\u001b[?25h"
     ]
    },
    {
     "name": "stdout",
     "output_type": "stream",
     "text": [
      "Installing collected packages: tensorboard-plugin-wit, pyasn1, werkzeug, torch, tensorboard-data-server, rsa, pyasn1-modules, oauthlib, markdown, h5py, cattrs, cachetools, absl-py, requests-oauthlib, huggingface_hub, google-auth, google-auth-oauthlib, tensorboard, mlagents\r\n"
     ]
    },
    {
     "name": "stdout",
     "output_type": "stream",
     "text": [
      "\u001b[33m  WARNING: The scripts convert-caffe2-to-onnx, convert-onnx-to-caffe2 and torchrun are installed in '/opt/conda/envs/py310/bin' which is not on PATH.\r\n",
      "  Consider adding this directory to PATH or, if you prefer to suppress this warning, use --no-warn-script-location.\u001b[0m\u001b[33m\r\n",
      "\u001b[0m"
     ]
    },
    {
     "name": "stdout",
     "output_type": "stream",
     "text": [
      "\u001b[33m  WARNING: The scripts pyrsa-decrypt, pyrsa-encrypt, pyrsa-keygen, pyrsa-priv2pub, pyrsa-sign and pyrsa-verify are installed in '/opt/conda/envs/py310/bin' which is not on PATH.\r\n",
      "  Consider adding this directory to PATH or, if you prefer to suppress this warning, use --no-warn-script-location.\u001b[0m\u001b[33m\r\n",
      "\u001b[0m"
     ]
    },
    {
     "name": "stdout",
     "output_type": "stream",
     "text": [
      "\u001b[33m  WARNING: The script markdown_py is installed in '/opt/conda/envs/py310/bin' which is not on PATH.\r\n",
      "  Consider adding this directory to PATH or, if you prefer to suppress this warning, use --no-warn-script-location.\u001b[0m\u001b[33m\r\n",
      "\u001b[0m"
     ]
    },
    {
     "name": "stdout",
     "output_type": "stream",
     "text": [
      "\u001b[33m  WARNING: The script huggingface-cli is installed in '/opt/conda/envs/py310/bin' which is not on PATH.\r\n",
      "  Consider adding this directory to PATH or, if you prefer to suppress this warning, use --no-warn-script-location.\u001b[0m\u001b[33m\r\n",
      "\u001b[0m"
     ]
    },
    {
     "name": "stdout",
     "output_type": "stream",
     "text": [
      "\u001b[33m  WARNING: The script google-oauthlib-tool is installed in '/opt/conda/envs/py310/bin' which is not on PATH.\r\n",
      "  Consider adding this directory to PATH or, if you prefer to suppress this warning, use --no-warn-script-location.\u001b[0m\u001b[33m\r\n",
      "\u001b[0m"
     ]
    },
    {
     "name": "stdout",
     "output_type": "stream",
     "text": [
      "\u001b[33m  WARNING: The script tensorboard is installed in '/opt/conda/envs/py310/bin' which is not on PATH.\r\n",
      "  Consider adding this directory to PATH or, if you prefer to suppress this warning, use --no-warn-script-location.\u001b[0m\u001b[33m\r\n",
      "\u001b[0m  Running setup.py develop for mlagents\r\n"
     ]
    },
    {
     "name": "stdout",
     "output_type": "stream",
     "text": [
      "Successfully installed absl-py-1.4.0 cachetools-5.3.0 cattrs-1.5.0 google-auth-2.17.2 google-auth-oauthlib-1.0.0 h5py-3.8.0 huggingface_hub-0.13.3 markdown-3.4.3 mlagents-0.31.0.dev0 oauthlib-3.2.2 pyasn1-0.4.8 pyasn1-modules-0.2.8 requests-oauthlib-1.3.1 rsa-4.9 tensorboard-2.12.1 tensorboard-data-server-0.7.0 tensorboard-plugin-wit-1.8.1 torch-1.11.0 werkzeug-2.2.3\r\n",
      "\u001b[33mWARNING: Running pip as the 'root' user can result in broken permissions and conflicting behaviour with the system package manager. It is recommended to use a virtual environment instead: https://pip.pypa.io/warnings/venv\u001b[0m\u001b[33m\r\n",
      "\u001b[0m"
     ]
    }
   ],
   "source": [
    "%cd ml-agents\n",
    "!pip3 install -e ./ml-agents-envs\n",
    "!pip3 install -e ./ml-agents"
   ]
  },
  {
   "cell_type": "code",
   "execution_count": 5,
   "id": "9e8bf8df",
   "metadata": {
    "execution": {
     "iopub.execute_input": "2023-04-06T12:28:52.395967Z",
     "iopub.status.busy": "2023-04-06T12:28:52.394934Z",
     "iopub.status.idle": "2023-04-06T12:28:53.862012Z",
     "shell.execute_reply": "2023-04-06T12:28:53.860795Z"
    },
    "papermill": {
     "duration": 1.620258,
     "end_time": "2023-04-06T12:28:53.864626",
     "exception": false,
     "start_time": "2023-04-06T12:28:52.244368",
     "status": "completed"
    },
    "tags": []
   },
   "outputs": [
    {
     "name": "stdout",
     "output_type": "stream",
     "text": [
      "\u001b[33mWARNING: Skipping tensorflow as it is not installed.\u001b[0m\u001b[33m\r\n",
      "\u001b[0m\u001b[33mWARNING: Running pip as the 'root' user can result in broken permissions and conflicting behaviour with the system package manager. It is recommended to use a virtual environment instead: https://pip.pypa.io/warnings/venv\u001b[0m\u001b[33m\r\n",
      "\u001b[0m"
     ]
    }
   ],
   "source": [
    "!pip3 uninstall tensorflow -y"
   ]
  },
  {
   "cell_type": "code",
   "execution_count": 6,
   "id": "f4d22aef",
   "metadata": {
    "execution": {
     "iopub.execute_input": "2023-04-06T12:28:54.165813Z",
     "iopub.status.busy": "2023-04-06T12:28:54.164796Z",
     "iopub.status.idle": "2023-04-06T12:28:56.066040Z",
     "shell.execute_reply": "2023-04-06T12:28:56.064639Z"
    },
    "papermill": {
     "duration": 2.0538,
     "end_time": "2023-04-06T12:28:56.068988",
     "exception": false,
     "start_time": "2023-04-06T12:28:54.015188",
     "status": "completed"
    },
    "tags": []
   },
   "outputs": [],
   "source": [
    "!mkdir ./training-envs-executables\n",
    "!mkdir ./training-envs-executables/linux"
   ]
  },
  {
   "cell_type": "code",
   "execution_count": 7,
   "id": "204f9924",
   "metadata": {
    "execution": {
     "iopub.execute_input": "2023-04-06T12:28:56.378617Z",
     "iopub.status.busy": "2023-04-06T12:28:56.378235Z",
     "iopub.status.idle": "2023-04-06T12:28:58.963325Z",
     "shell.execute_reply": "2023-04-06T12:28:58.962111Z"
    },
    "papermill": {
     "duration": 2.739625,
     "end_time": "2023-04-06T12:28:58.965937",
     "exception": false,
     "start_time": "2023-04-06T12:28:56.226312",
     "status": "completed"
    },
    "tags": []
   },
   "outputs": [
    {
     "name": "stdout",
     "output_type": "stream",
     "text": [
      "--2023-04-06 12:28:57--  https://docs.google.com/uc?export=download&confirm=t&id=1YHHLjyj6gaZ3Gemx1hQgqrPgSS2ZhmB5\r\n",
      "Resolving docs.google.com (docs.google.com)... "
     ]
    },
    {
     "name": "stdout",
     "output_type": "stream",
     "text": [
      "108.177.119.138, 108.177.119.102, 108.177.119.139, ...\r\n",
      "Connecting to docs.google.com (docs.google.com)|108.177.119.138|:443... connected.\r\n",
      "HTTP request sent, awaiting response... "
     ]
    },
    {
     "name": "stdout",
     "output_type": "stream",
     "text": [
      "303 See Other\r\n",
      "Location: https://doc-14-28-docs.googleusercontent.com/docs/securesc/ha0ro937gcuc7l7deffksulhg5h7mbp1/5a8l47ofq0f0mgrrb77hdgcoud9p27oa/1680784125000/15803371278684422230/*/1YHHLjyj6gaZ3Gemx1hQgqrPgSS2ZhmB5?e=download&uuid=0ad349a3-b4d5-4ed2-a089-ac5d344c01d4 [following]\r\n",
      "Warning: wildcards not supported in HTTP.\r\n",
      "--2023-04-06 12:28:58--  https://doc-14-28-docs.googleusercontent.com/docs/securesc/ha0ro937gcuc7l7deffksulhg5h7mbp1/5a8l47ofq0f0mgrrb77hdgcoud9p27oa/1680784125000/15803371278684422230/*/1YHHLjyj6gaZ3Gemx1hQgqrPgSS2ZhmB5?e=download&uuid=0ad349a3-b4d5-4ed2-a089-ac5d344c01d4\r\n",
      "Resolving doc-14-28-docs.googleusercontent.com (doc-14-28-docs.googleusercontent.com)... 108.177.119.132, 2a00:1450:4013:c00::84\r\n",
      "Connecting to doc-14-28-docs.googleusercontent.com (doc-14-28-docs.googleusercontent.com)|108.177.119.132|:443... connected.\r\n",
      "HTTP request sent, awaiting response... "
     ]
    },
    {
     "name": "stdout",
     "output_type": "stream",
     "text": [
      "200 OK\r\n",
      "Length: 35134213 (34M) [application/x-zip-compressed]\r\n",
      "Saving to: ‘./training-envs-executables/linux/SnowballTarget.zip’\r\n",
      "\r\n",
      "\r",
      "          ./trainin   0%[                    ]       0  --.-KB/s               "
     ]
    },
    {
     "name": "stdout",
     "output_type": "stream",
     "text": [
      "\r",
      "         ./training  42%[=======>            ]  14.24M  71.2MB/s               "
     ]
    },
    {
     "name": "stdout",
     "output_type": "stream",
     "text": [
      "\r",
      "./training-envs-exe 100%[===================>]  33.51M   104MB/s    in 0.3s    \r\n",
      "\r\n",
      "2023-04-06 12:28:58 (104 MB/s) - ‘./training-envs-executables/linux/SnowballTarget.zip’ saved [35134213/35134213]\r\n",
      "\r\n"
     ]
    }
   ],
   "source": [
    "!wget --load-cookies /tmp/cookies.txt \"https://docs.google.com/uc?export=download&confirm=$(wget --quiet --save-cookies /tmp/cookies.txt --keep-session-cookies --no-check-certificate 'https://docs.google.com/uc?export=download&id=1YHHLjyj6gaZ3Gemx1hQgqrPgSS2ZhmB5' -O- | sed -rn 's/.*confirm=([0-9A-Za-z_]+).*/\\1\\n/p')&id=1YHHLjyj6gaZ3Gemx1hQgqrPgSS2ZhmB5\" -O ./training-envs-executables/linux/SnowballTarget.zip && rm -rf /tmp/cookies.txt"
   ]
  },
  {
   "cell_type": "code",
   "execution_count": 8,
   "id": "c18f8230",
   "metadata": {
    "collapsed": true,
    "execution": {
     "iopub.execute_input": "2023-04-06T12:28:59.268841Z",
     "iopub.status.busy": "2023-04-06T12:28:59.267912Z",
     "iopub.status.idle": "2023-04-06T12:29:01.184677Z",
     "shell.execute_reply": "2023-04-06T12:29:01.183295Z"
    },
    "jupyter": {
     "outputs_hidden": true
    },
    "papermill": {
     "duration": 2.069419,
     "end_time": "2023-04-06T12:29:01.187721",
     "exception": false,
     "start_time": "2023-04-06T12:28:59.118302",
     "status": "completed"
    },
    "tags": []
   },
   "outputs": [
    {
     "name": "stdout",
     "output_type": "stream",
     "text": [
      "Archive:  ./training-envs-executables/linux/SnowballTarget.zip\r\n",
      "   creating: ./training-envs-executables/linux/SnowballTarget/\r\n",
      "  inflating: ./training-envs-executables/linux/SnowballTarget/SnowballTarget.x86_64  \r\n",
      "   creating: ./training-envs-executables/linux/SnowballTarget/SnowballTarget_BurstDebugInformation_DoNotShip/\r\n",
      "   creating: ./training-envs-executables/linux/SnowballTarget/SnowballTarget_BurstDebugInformation_DoNotShip/Data/\r\n",
      "   creating: ./training-envs-executables/linux/SnowballTarget/SnowballTarget_BurstDebugInformation_DoNotShip/Data/Plugins/\r\n",
      "  inflating: ./training-envs-executables/linux/SnowballTarget/SnowballTarget_BurstDebugInformation_DoNotShip/Data/Plugins/lib_burst_generated.txt  \r\n",
      "   creating: ./training-envs-executables/linux/SnowballTarget/SnowballTarget_Data/\r\n",
      "  inflating: ./training-envs-executables/linux/SnowballTarget/SnowballTarget_Data/app.info  \r\n",
      "  inflating: ./training-envs-executables/linux/SnowballTarget/SnowballTarget_Data/boot.config  \r\n",
      "  inflating: ./training-envs-executables/linux/SnowballTarget/SnowballTarget_Data/globalgamemanagers  \r\n",
      "  inflating: ./training-envs-executables/linux/SnowballTarget/SnowballTarget_Data/globalgamemanagers.assets  \r\n",
      "  inflating: ./training-envs-executables/linux/SnowballTarget/SnowballTarget_Data/level0  \r\n",
      "  inflating: ./training-envs-executables/linux/SnowballTarget/SnowballTarget_Data/level0.resS  \r\n",
      "   creating: ./training-envs-executables/linux/SnowballTarget/SnowballTarget_Data/Managed/\r\n",
      "  inflating: ./training-envs-executables/linux/SnowballTarget/SnowballTarget_Data/Managed/Assembly-CSharp.dll  \r\n",
      "  inflating: ./training-envs-executables/linux/SnowballTarget/SnowballTarget_Data/Managed/Google.Protobuf.dll  \r\n",
      "  inflating: ./training-envs-executables/linux/SnowballTarget/SnowballTarget_Data/Managed/Grpc.Core.dll  \r\n",
      "  inflating: ./training-envs-executables/linux/SnowballTarget/SnowballTarget_Data/Managed/Mono.Security.dll  \r\n",
      "  inflating: ./training-envs-executables/linux/SnowballTarget/SnowballTarget_Data/Managed/mscorlib.dll  "
     ]
    },
    {
     "name": "stdout",
     "output_type": "stream",
     "text": [
      "\r\n",
      "  inflating: ./training-envs-executables/linux/SnowballTarget/SnowballTarget_Data/Managed/netstandard.dll  \r\n",
      "  inflating: ./training-envs-executables/linux/SnowballTarget/SnowballTarget_Data/Managed/Newtonsoft.Json.dll  "
     ]
    },
    {
     "name": "stdout",
     "output_type": "stream",
     "text": [
      "\r\n",
      "  inflating: ./training-envs-executables/linux/SnowballTarget/SnowballTarget_Data/Managed/System.ComponentModel.Composition.dll  \r\n",
      "  inflating: ./training-envs-executables/linux/SnowballTarget/SnowballTarget_Data/Managed/System.Configuration.dll  \r\n",
      "  inflating: ./training-envs-executables/linux/SnowballTarget/SnowballTarget_Data/Managed/System.Core.dll  \r\n",
      "  inflating: ./training-envs-executables/linux/SnowballTarget/SnowballTarget_Data/Managed/System.Data.DataSetExtensions.dll  \r\n",
      "  inflating: ./training-envs-executables/linux/SnowballTarget/SnowballTarget_Data/Managed/System.Data.dll  \r\n",
      "  inflating: ./training-envs-executables/linux/SnowballTarget/SnowballTarget_Data/Managed/System.dll  "
     ]
    },
    {
     "name": "stdout",
     "output_type": "stream",
     "text": [
      "\r\n",
      "  inflating: ./training-envs-executables/linux/SnowballTarget/SnowballTarget_Data/Managed/System.Drawing.dll  \r\n",
      "  inflating: ./training-envs-executables/linux/SnowballTarget/SnowballTarget_Data/Managed/System.EnterpriseServices.dll  \r\n",
      "  inflating: ./training-envs-executables/linux/SnowballTarget/SnowballTarget_Data/Managed/System.Interactive.Async.dll  \r\n",
      "  inflating: ./training-envs-executables/linux/SnowballTarget/SnowballTarget_Data/Managed/System.IO.Abstractions.dll  \r\n",
      "  inflating: ./training-envs-executables/linux/SnowballTarget/SnowballTarget_Data/Managed/System.IO.Abstractions.TestingHelpers.dll  \r\n",
      "  inflating: ./training-envs-executables/linux/SnowballTarget/SnowballTarget_Data/Managed/System.IO.Compression.dll  \r\n",
      "  inflating: ./training-envs-executables/linux/SnowballTarget/SnowballTarget_Data/Managed/System.IO.Compression.FileSystem.dll  \r\n",
      "  inflating: ./training-envs-executables/linux/SnowballTarget/SnowballTarget_Data/Managed/System.Net.Http.dll  \r\n",
      "  inflating: ./training-envs-executables/linux/SnowballTarget/SnowballTarget_Data/Managed/System.Numerics.dll  \r\n",
      "  inflating: ./training-envs-executables/linux/SnowballTarget/SnowballTarget_Data/Managed/System.Runtime.dll  \r\n",
      "  inflating: ./training-envs-executables/linux/SnowballTarget/SnowballTarget_Data/Managed/System.Runtime.Serialization.dll  "
     ]
    },
    {
     "name": "stdout",
     "output_type": "stream",
     "text": [
      "\r\n",
      "  inflating: ./training-envs-executables/linux/SnowballTarget/SnowballTarget_Data/Managed/System.Security.dll  \r\n",
      "  inflating: ./training-envs-executables/linux/SnowballTarget/SnowballTarget_Data/Managed/System.ServiceModel.Internals.dll  \r\n",
      "  inflating: ./training-envs-executables/linux/SnowballTarget/SnowballTarget_Data/Managed/System.Transactions.dll  \r\n",
      "  inflating: ./training-envs-executables/linux/SnowballTarget/SnowballTarget_Data/Managed/System.Xml.dll  \r\n",
      "  inflating: ./training-envs-executables/linux/SnowballTarget/SnowballTarget_Data/Managed/System.Xml.Linq.dll  \r\n",
      "  inflating: ./training-envs-executables/linux/SnowballTarget/SnowballTarget_Data/Managed/Unity.Barracuda.BurstBLAS.dll  \r\n",
      "  inflating: ./training-envs-executables/linux/SnowballTarget/SnowballTarget_Data/Managed/Unity.Barracuda.dll  \r\n",
      "  inflating: ./training-envs-executables/linux/SnowballTarget/SnowballTarget_Data/Managed/Unity.Barracuda.ONNX.dll  \r\n",
      "  inflating: ./training-envs-executables/linux/SnowballTarget/SnowballTarget_Data/Managed/Unity.Burst.Cecil.dll  \r\n",
      "  inflating: ./training-envs-executables/linux/SnowballTarget/SnowballTarget_Data/Managed/Unity.Burst.Cecil.Mdb.dll  \r\n",
      "  inflating: ./training-envs-executables/linux/SnowballTarget/SnowballTarget_Data/Managed/Unity.Burst.Cecil.Pdb.dll  \r\n",
      "  inflating: ./training-envs-executables/linux/SnowballTarget/SnowballTarget_Data/Managed/Unity.Burst.Cecil.Rocks.dll  \r\n",
      "  inflating: ./training-envs-executables/linux/SnowballTarget/SnowballTarget_Data/Managed/Unity.Burst.dll  \r\n",
      "  inflating: ./training-envs-executables/linux/SnowballTarget/SnowballTarget_Data/Managed/Unity.Burst.Unsafe.dll  \r\n",
      "  inflating: ./training-envs-executables/linux/SnowballTarget/SnowballTarget_Data/Managed/Unity.Mathematics.dll  "
     ]
    },
    {
     "name": "stdout",
     "output_type": "stream",
     "text": [
      "\r\n",
      "  inflating: ./training-envs-executables/linux/SnowballTarget/SnowballTarget_Data/Managed/Unity.ML-Agents.CommunicatorObjects.dll  \r\n",
      "  inflating: ./training-envs-executables/linux/SnowballTarget/SnowballTarget_Data/Managed/Unity.ML-Agents.dll  \r\n",
      "  inflating: ./training-envs-executables/linux/SnowballTarget/SnowballTarget_Data/Managed/Unity.ProGrids.dll  \r\n",
      "  inflating: ./training-envs-executables/linux/SnowballTarget/SnowballTarget_Data/Managed/Unity.Services.Core.Analytics.dll  \r\n",
      "  inflating: ./training-envs-executables/linux/SnowballTarget/SnowballTarget_Data/Managed/Unity.Services.Core.Configuration.dll  \r\n",
      "  inflating: ./training-envs-executables/linux/SnowballTarget/SnowballTarget_Data/Managed/Unity.Services.Core.Device.dll  \r\n",
      "  inflating: ./training-envs-executables/linux/SnowballTarget/SnowballTarget_Data/Managed/Unity.Services.Core.dll  \r\n",
      "  inflating: ./training-envs-executables/linux/SnowballTarget/SnowballTarget_Data/Managed/Unity.Services.Core.Environments.dll  \r\n",
      "  inflating: ./training-envs-executables/linux/SnowballTarget/SnowballTarget_Data/Managed/Unity.Services.Core.Environments.Internal.dll  \r\n",
      "  inflating: ./training-envs-executables/linux/SnowballTarget/SnowballTarget_Data/Managed/Unity.Services.Core.Internal.dll  \r\n",
      "  inflating: ./training-envs-executables/linux/SnowballTarget/SnowballTarget_Data/Managed/Unity.Services.Core.Networking.dll  \r\n",
      "  inflating: ./training-envs-executables/linux/SnowballTarget/SnowballTarget_Data/Managed/Unity.Services.Core.Registration.dll  \r\n",
      "  inflating: ./training-envs-executables/linux/SnowballTarget/SnowballTarget_Data/Managed/Unity.Services.Core.Scheduler.dll  \r\n",
      "  inflating: ./training-envs-executables/linux/SnowballTarget/SnowballTarget_Data/Managed/Unity.Services.Core.Telemetry.dll  \r\n",
      "  inflating: ./training-envs-executables/linux/SnowballTarget/SnowballTarget_Data/Managed/Unity.Services.Core.Threading.dll  \r\n",
      "  inflating: ./training-envs-executables/linux/SnowballTarget/SnowballTarget_Data/Managed/Unity.TextMeshPro.dll  \r\n",
      "  inflating: ./training-envs-executables/linux/SnowballTarget/SnowballTarget_Data/Managed/Unity.Timeline.dll  \r\n",
      "  inflating: ./training-envs-executables/linux/SnowballTarget/SnowballTarget_Data/Managed/UnityEngine.AccessibilityModule.dll  \r\n",
      "  inflating: ./training-envs-executables/linux/SnowballTarget/SnowballTarget_Data/Managed/UnityEngine.AIModule.dll  \r\n",
      "  inflating: ./training-envs-executables/linux/SnowballTarget/SnowballTarget_Data/Managed/UnityEngine.AndroidJNIModule.dll  \r\n",
      "  inflating: ./training-envs-executables/linux/SnowballTarget/SnowballTarget_Data/Managed/UnityEngine.AnimationModule.dll  \r\n",
      "  inflating: ./training-envs-executables/linux/SnowballTarget/SnowballTarget_Data/Managed/UnityEngine.AssetBundleModule.dll  \r\n",
      "  inflating: ./training-envs-executables/linux/SnowballTarget/SnowballTarget_Data/Managed/UnityEngine.AudioModule.dll  \r\n",
      "  inflating: ./training-envs-executables/linux/SnowballTarget/SnowballTarget_Data/Managed/UnityEngine.ClothModule.dll  \r\n",
      "  inflating: ./training-envs-executables/linux/SnowballTarget/SnowballTarget_Data/Managed/UnityEngine.ClusterInputModule.dll  \r\n",
      "  inflating: ./training-envs-executables/linux/SnowballTarget/SnowballTarget_Data/Managed/UnityEngine.ClusterRendererModule.dll  \r\n",
      "  inflating: ./training-envs-executables/linux/SnowballTarget/SnowballTarget_Data/Managed/UnityEngine.CoreModule.dll  \r\n",
      "  inflating: ./training-envs-executables/linux/SnowballTarget/SnowballTarget_Data/Managed/UnityEngine.CrashReportingModule.dll  \r\n",
      "  inflating: ./training-envs-executables/linux/SnowballTarget/SnowballTarget_Data/Managed/UnityEngine.DirectorModule.dll  \r\n",
      "  inflating: ./training-envs-executables/linux/SnowballTarget/SnowballTarget_Data/Managed/UnityEngine.dll  \r\n",
      "  inflating: ./training-envs-executables/linux/SnowballTarget/SnowballTarget_Data/Managed/UnityEngine.DSPGraphModule.dll  \r\n",
      "  inflating: ./training-envs-executables/linux/SnowballTarget/SnowballTarget_Data/Managed/UnityEngine.GameCenterModule.dll  \r\n",
      "  inflating: ./training-envs-executables/linux/SnowballTarget/SnowballTarget_Data/Managed/UnityEngine.GIModule.dll  \r\n",
      "  inflating: ./training-envs-executables/linux/SnowballTarget/SnowballTarget_Data/Managed/UnityEngine.GridModule.dll  \r\n",
      "  inflating: ./training-envs-executables/linux/SnowballTarget/SnowballTarget_Data/Managed/UnityEngine.HotReloadModule.dll  \r\n",
      "  inflating: ./training-envs-executables/linux/SnowballTarget/SnowballTarget_Data/Managed/UnityEngine.ImageConversionModule.dll  \r\n",
      "  inflating: ./training-envs-executables/linux/SnowballTarget/SnowballTarget_Data/Managed/UnityEngine.IMGUIModule.dll  \r\n",
      "  inflating: ./training-envs-executables/linux/SnowballTarget/SnowballTarget_Data/Managed/UnityEngine.InputLegacyModule.dll  \r\n",
      "  inflating: ./training-envs-executables/linux/SnowballTarget/SnowballTarget_Data/Managed/UnityEngine.InputModule.dll  \r\n",
      "  inflating: ./training-envs-executables/linux/SnowballTarget/SnowballTarget_Data/Managed/UnityEngine.JSONSerializeModule.dll  \r\n",
      "  inflating: ./training-envs-executables/linux/SnowballTarget/SnowballTarget_Data/Managed/UnityEngine.LocalizationModule.dll  \r\n",
      "  inflating: ./training-envs-executables/linux/SnowballTarget/SnowballTarget_Data/Managed/UnityEngine.ParticleSystemModule.dll  \r\n",
      "  inflating: ./training-envs-executables/linux/SnowballTarget/SnowballTarget_Data/Managed/UnityEngine.PerformanceReportingModule.dll  \r\n",
      "  inflating: ./training-envs-executables/linux/SnowballTarget/SnowballTarget_Data/Managed/UnityEngine.Physics2DModule.dll  \r\n",
      "  inflating: ./training-envs-executables/linux/SnowballTarget/SnowballTarget_Data/Managed/UnityEngine.PhysicsModule.dll  \r\n",
      "  inflating: ./training-envs-executables/linux/SnowballTarget/SnowballTarget_Data/Managed/UnityEngine.ProfilerModule.dll  \r\n",
      "  inflating: ./training-envs-executables/linux/SnowballTarget/SnowballTarget_Data/Managed/UnityEngine.RuntimeInitializeOnLoadManagerInitializerModule.dll  \r\n",
      "  inflating: ./training-envs-executables/linux/SnowballTarget/SnowballTarget_Data/Managed/UnityEngine.ScreenCaptureModule.dll  \r\n",
      "  inflating: ./training-envs-executables/linux/SnowballTarget/SnowballTarget_Data/Managed/UnityEngine.SharedInternalsModule.dll  \r\n",
      "  inflating: ./training-envs-executables/linux/SnowballTarget/SnowballTarget_Data/Managed/UnityEngine.SpriteMaskModule.dll  \r\n",
      "  inflating: ./training-envs-executables/linux/SnowballTarget/SnowballTarget_Data/Managed/UnityEngine.SpriteShapeModule.dll  \r\n",
      "  inflating: ./training-envs-executables/linux/SnowballTarget/SnowballTarget_Data/Managed/UnityEngine.StreamingModule.dll  \r\n",
      "  inflating: ./training-envs-executables/linux/SnowballTarget/SnowballTarget_Data/Managed/UnityEngine.SubstanceModule.dll  \r\n",
      "  inflating: ./training-envs-executables/linux/SnowballTarget/SnowballTarget_Data/Managed/UnityEngine.SubsystemsModule.dll  \r\n",
      "  inflating: ./training-envs-executables/linux/SnowballTarget/SnowballTarget_Data/Managed/UnityEngine.TerrainModule.dll  \r\n",
      "  inflating: ./training-envs-executables/linux/SnowballTarget/SnowballTarget_Data/Managed/UnityEngine.TerrainPhysicsModule.dll  \r\n",
      "  inflating: ./training-envs-executables/linux/SnowballTarget/SnowballTarget_Data/Managed/UnityEngine.TextCoreFontEngineModule.dll  \r\n",
      "  inflating: ./training-envs-executables/linux/SnowballTarget/SnowballTarget_Data/Managed/UnityEngine.TextCoreTextEngineModule.dll  \r\n",
      "  inflating: ./training-envs-executables/linux/SnowballTarget/SnowballTarget_Data/Managed/UnityEngine.TextRenderingModule.dll  \r\n",
      "  inflating: ./training-envs-executables/linux/SnowballTarget/SnowballTarget_Data/Managed/UnityEngine.TilemapModule.dll  \r\n",
      "  inflating: ./training-envs-executables/linux/SnowballTarget/SnowballTarget_Data/Managed/UnityEngine.TLSModule.dll  \r\n",
      "  inflating: ./training-envs-executables/linux/SnowballTarget/SnowballTarget_Data/Managed/UnityEngine.UI.dll  \r\n"
     ]
    },
    {
     "name": "stdout",
     "output_type": "stream",
     "text": [
      "  inflating: ./training-envs-executables/linux/SnowballTarget/SnowballTarget_Data/Managed/UnityEngine.UIElementsModule.dll  \r\n",
      "  inflating: ./training-envs-executables/linux/SnowballTarget/SnowballTarget_Data/Managed/UnityEngine.UIElementsNativeModule.dll  \r\n",
      "  inflating: ./training-envs-executables/linux/SnowballTarget/SnowballTarget_Data/Managed/UnityEngine.UIModule.dll  \r\n",
      "  inflating: ./training-envs-executables/linux/SnowballTarget/SnowballTarget_Data/Managed/UnityEngine.UmbraModule.dll  \r\n",
      "  inflating: ./training-envs-executables/linux/SnowballTarget/SnowballTarget_Data/Managed/UnityEngine.UNETModule.dll  \r\n",
      "  inflating: ./training-envs-executables/linux/SnowballTarget/SnowballTarget_Data/Managed/UnityEngine.UnityAnalyticsCommonModule.dll  \r\n",
      "  inflating: ./training-envs-executables/linux/SnowballTarget/SnowballTarget_Data/Managed/UnityEngine.UnityAnalyticsModule.dll  \r\n",
      "  inflating: ./training-envs-executables/linux/SnowballTarget/SnowballTarget_Data/Managed/UnityEngine.UnityConnectModule.dll  \r\n",
      "  inflating: ./training-envs-executables/linux/SnowballTarget/SnowballTarget_Data/Managed/UnityEngine.UnityCurlModule.dll  \r\n",
      "  inflating: ./training-envs-executables/linux/SnowballTarget/SnowballTarget_Data/Managed/UnityEngine.UnityTestProtocolModule.dll  \r\n",
      "  inflating: ./training-envs-executables/linux/SnowballTarget/SnowballTarget_Data/Managed/UnityEngine.UnityWebRequestAssetBundleModule.dll  \r\n",
      "  inflating: ./training-envs-executables/linux/SnowballTarget/SnowballTarget_Data/Managed/UnityEngine.UnityWebRequestAudioModule.dll  \r\n",
      "  inflating: ./training-envs-executables/linux/SnowballTarget/SnowballTarget_Data/Managed/UnityEngine.UnityWebRequestModule.dll  \r\n",
      "  inflating: ./training-envs-executables/linux/SnowballTarget/SnowballTarget_Data/Managed/UnityEngine.UnityWebRequestTextureModule.dll  \r\n",
      "  inflating: ./training-envs-executables/linux/SnowballTarget/SnowballTarget_Data/Managed/UnityEngine.UnityWebRequestWWWModule.dll  \r\n",
      "  inflating: ./training-envs-executables/linux/SnowballTarget/SnowballTarget_Data/Managed/UnityEngine.VehiclesModule.dll  \r\n",
      "  inflating: ./training-envs-executables/linux/SnowballTarget/SnowballTarget_Data/Managed/UnityEngine.VFXModule.dll  \r\n",
      "  inflating: ./training-envs-executables/linux/SnowballTarget/SnowballTarget_Data/Managed/UnityEngine.VideoModule.dll  \r\n",
      "  inflating: ./training-envs-executables/linux/SnowballTarget/SnowballTarget_Data/Managed/UnityEngine.VirtualTexturingModule.dll  \r\n",
      "  inflating: ./training-envs-executables/linux/SnowballTarget/SnowballTarget_Data/Managed/UnityEngine.VRModule.dll  \r\n",
      "  inflating: ./training-envs-executables/linux/SnowballTarget/SnowballTarget_Data/Managed/UnityEngine.WindModule.dll  \r\n",
      "  inflating: ./training-envs-executables/linux/SnowballTarget/SnowballTarget_Data/Managed/UnityEngine.XRModule.dll  \r\n",
      "   creating: ./training-envs-executables/linux/SnowballTarget/SnowballTarget_Data/MonoBleedingEdge/\r\n",
      "   creating: ./training-envs-executables/linux/SnowballTarget/SnowballTarget_Data/MonoBleedingEdge/etc/\r\n",
      "  inflating: ./training-envs-executables/linux/SnowballTarget/SnowballTarget_Data/MonoBleedingEdge/etc/config  \r\n",
      "   creating: ./training-envs-executables/linux/SnowballTarget/SnowballTarget_Data/MonoBleedingEdge/etc/mono/\r\n",
      "   creating: ./training-envs-executables/linux/SnowballTarget/SnowballTarget_Data/MonoBleedingEdge/etc/mono/2.0/\r\n",
      "   creating: ./training-envs-executables/linux/SnowballTarget/SnowballTarget_Data/MonoBleedingEdge/etc/mono/2.0/Browsers/\r\n",
      "  inflating: ./training-envs-executables/linux/SnowballTarget/SnowballTarget_Data/MonoBleedingEdge/etc/mono/2.0/Browsers/Compat.browser  \r\n",
      "  inflating: ./training-envs-executables/linux/SnowballTarget/SnowballTarget_Data/MonoBleedingEdge/etc/mono/2.0/DefaultWsdlHelpGenerator.aspx  \r\n",
      "  inflating: ./training-envs-executables/linux/SnowballTarget/SnowballTarget_Data/MonoBleedingEdge/etc/mono/2.0/machine.config  \r\n",
      "  inflating: ./training-envs-executables/linux/SnowballTarget/SnowballTarget_Data/MonoBleedingEdge/etc/mono/2.0/settings.map  \r\n",
      "  inflating: ./training-envs-executables/linux/SnowballTarget/SnowballTarget_Data/MonoBleedingEdge/etc/mono/2.0/web.config  \r\n",
      "   creating: ./training-envs-executables/linux/SnowballTarget/SnowballTarget_Data/MonoBleedingEdge/etc/mono/4.0/\r\n",
      "   creating: ./training-envs-executables/linux/SnowballTarget/SnowballTarget_Data/MonoBleedingEdge/etc/mono/4.0/Browsers/\r\n",
      "  inflating: ./training-envs-executables/linux/SnowballTarget/SnowballTarget_Data/MonoBleedingEdge/etc/mono/4.0/Browsers/Compat.browser  \r\n",
      "  inflating: ./training-envs-executables/linux/SnowballTarget/SnowballTarget_Data/MonoBleedingEdge/etc/mono/4.0/DefaultWsdlHelpGenerator.aspx  \r\n",
      "  inflating: ./training-envs-executables/linux/SnowballTarget/SnowballTarget_Data/MonoBleedingEdge/etc/mono/4.0/machine.config  \r\n",
      "  inflating: ./training-envs-executables/linux/SnowballTarget/SnowballTarget_Data/MonoBleedingEdge/etc/mono/4.0/settings.map  \r\n",
      "  inflating: ./training-envs-executables/linux/SnowballTarget/SnowballTarget_Data/MonoBleedingEdge/etc/mono/4.0/web.config  \r\n",
      "   creating: ./training-envs-executables/linux/SnowballTarget/SnowballTarget_Data/MonoBleedingEdge/etc/mono/4.5/\r\n",
      "   creating: ./training-envs-executables/linux/SnowballTarget/SnowballTarget_Data/MonoBleedingEdge/etc/mono/4.5/Browsers/\r\n",
      "  inflating: ./training-envs-executables/linux/SnowballTarget/SnowballTarget_Data/MonoBleedingEdge/etc/mono/4.5/Browsers/Compat.browser  \r\n",
      "  inflating: ./training-envs-executables/linux/SnowballTarget/SnowballTarget_Data/MonoBleedingEdge/etc/mono/4.5/DefaultWsdlHelpGenerator.aspx  \r\n",
      "  inflating: ./training-envs-executables/linux/SnowballTarget/SnowballTarget_Data/MonoBleedingEdge/etc/mono/4.5/machine.config  \r\n",
      "  inflating: ./training-envs-executables/linux/SnowballTarget/SnowballTarget_Data/MonoBleedingEdge/etc/mono/4.5/settings.map  \r\n",
      "  inflating: ./training-envs-executables/linux/SnowballTarget/SnowballTarget_Data/MonoBleedingEdge/etc/mono/4.5/web.config  \r\n",
      "  inflating: ./training-envs-executables/linux/SnowballTarget/SnowballTarget_Data/MonoBleedingEdge/etc/mono/browscap.ini  \r\n",
      "  inflating: ./training-envs-executables/linux/SnowballTarget/SnowballTarget_Data/MonoBleedingEdge/etc/mono/config  \r\n",
      "   creating: ./training-envs-executables/linux/SnowballTarget/SnowballTarget_Data/MonoBleedingEdge/etc/mono/mconfig/\r\n",
      "  inflating: ./training-envs-executables/linux/SnowballTarget/SnowballTarget_Data/MonoBleedingEdge/etc/mono/mconfig/config.xml  \r\n",
      "   creating: ./training-envs-executables/linux/SnowballTarget/SnowballTarget_Data/MonoBleedingEdge/x86_64/\r\n",
      "  inflating: ./training-envs-executables/linux/SnowballTarget/SnowballTarget_Data/MonoBleedingEdge/x86_64/libmono-native.so  \r\n",
      "  inflating: ./training-envs-executables/linux/SnowballTarget/SnowballTarget_Data/MonoBleedingEdge/x86_64/libmonobdwgc-2.0.so  "
     ]
    },
    {
     "name": "stdout",
     "output_type": "stream",
     "text": [
      "\r\n",
      "  inflating: ./training-envs-executables/linux/SnowballTarget/SnowballTarget_Data/MonoBleedingEdge/x86_64/libMonoPosixHelper.so  \r\n",
      "   creating: ./training-envs-executables/linux/SnowballTarget/SnowballTarget_Data/Plugins/\r\n",
      "  inflating: ./training-envs-executables/linux/SnowballTarget/SnowballTarget_Data/Plugins/libgrpc_csharp_ext.x64.so  "
     ]
    },
    {
     "name": "stdout",
     "output_type": "stream",
     "text": [
      "\r\n",
      "  inflating: ./training-envs-executables/linux/SnowballTarget/SnowballTarget_Data/Plugins/lib_burst_generated.so  "
     ]
    },
    {
     "name": "stdout",
     "output_type": "stream",
     "text": [
      "\r\n",
      "   creating: ./training-envs-executables/linux/SnowballTarget/SnowballTarget_Data/Resources/\r\n",
      "  inflating: ./training-envs-executables/linux/SnowballTarget/SnowballTarget_Data/Resources/unity default resources  \r\n",
      "  inflating: ./training-envs-executables/linux/SnowballTarget/SnowballTarget_Data/Resources/UnityPlayer.png  \r\n",
      "  inflating: ./training-envs-executables/linux/SnowballTarget/SnowballTarget_Data/Resources/unity_builtin_extra  \r\n",
      "  inflating: ./training-envs-executables/linux/SnowballTarget/SnowballTarget_Data/resources.assets  "
     ]
    },
    {
     "name": "stdout",
     "output_type": "stream",
     "text": [
      "\r\n",
      "  inflating: ./training-envs-executables/linux/SnowballTarget/SnowballTarget_Data/resources.assets.resS  \r\n",
      "  inflating: ./training-envs-executables/linux/SnowballTarget/SnowballTarget_Data/RuntimeInitializeOnLoads.json  \r\n",
      "  inflating: ./training-envs-executables/linux/SnowballTarget/SnowballTarget_Data/ScriptingAssemblies.json  \r\n",
      "  inflating: ./training-envs-executables/linux/SnowballTarget/SnowballTarget_Data/sharedassets0.assets  \r\n",
      "  inflating: ./training-envs-executables/linux/SnowballTarget/SnowballTarget_Data/sharedassets0.assets.resS  \r\n",
      "   creating: ./training-envs-executables/linux/SnowballTarget/SnowballTarget_Data/StreamingAssets/\r\n",
      "  inflating: ./training-envs-executables/linux/SnowballTarget/SnowballTarget_Data/StreamingAssets/UnityServicesProjectConfiguration.json  \r\n",
      "  inflating: ./training-envs-executables/linux/SnowballTarget/UnityPlayer.so  "
     ]
    },
    {
     "name": "stdout",
     "output_type": "stream",
     "text": [
      "\r\n"
     ]
    }
   ],
   "source": [
    "!unzip -d ./training-envs-executables/linux/ ./training-envs-executables/linux/SnowballTarget.zip"
   ]
  },
  {
   "cell_type": "code",
   "execution_count": 9,
   "id": "046f79ed",
   "metadata": {
    "execution": {
     "iopub.execute_input": "2023-04-06T12:29:01.516129Z",
     "iopub.status.busy": "2023-04-06T12:29:01.515707Z",
     "iopub.status.idle": "2023-04-06T12:29:02.491135Z",
     "shell.execute_reply": "2023-04-06T12:29:02.489773Z"
    },
    "papermill": {
     "duration": 1.139874,
     "end_time": "2023-04-06T12:29:02.494040",
     "exception": false,
     "start_time": "2023-04-06T12:29:01.354166",
     "status": "completed"
    },
    "tags": []
   },
   "outputs": [],
   "source": [
    "!chmod -R 755 ./training-envs-executables/linux/SnowballTarget"
   ]
  },
  {
   "cell_type": "code",
   "execution_count": 10,
   "id": "7779c1b5",
   "metadata": {
    "execution": {
     "iopub.execute_input": "2023-04-06T12:29:02.796492Z",
     "iopub.status.busy": "2023-04-06T12:29:02.795441Z",
     "iopub.status.idle": "2023-04-06T12:29:02.800989Z",
     "shell.execute_reply": "2023-04-06T12:29:02.800050Z"
    },
    "papermill": {
     "duration": 0.158795,
     "end_time": "2023-04-06T12:29:02.803154",
     "exception": false,
     "start_time": "2023-04-06T12:29:02.644359",
     "status": "completed"
    },
    "tags": []
   },
   "outputs": [],
   "source": [
    "# ! mlagents-learn ./config/ppo/SnowballTarget.yaml --env=./training-envs-executables/linux/SnowballTarget/SnowballTarget --run-id=\"SnowballTarget1\" --no-graphics"
   ]
  },
  {
   "cell_type": "code",
   "execution_count": 11,
   "id": "492890fa",
   "metadata": {
    "execution": {
     "iopub.execute_input": "2023-04-06T12:29:03.145533Z",
     "iopub.status.busy": "2023-04-06T12:29:03.145164Z",
     "iopub.status.idle": "2023-04-06T12:29:05.947540Z",
     "shell.execute_reply": "2023-04-06T12:29:05.946358Z"
    },
    "papermill": {
     "duration": 2.95525,
     "end_time": "2023-04-06T12:29:05.950255",
     "exception": false,
     "start_time": "2023-04-06T12:29:02.995005",
     "status": "completed"
    },
    "tags": []
   },
   "outputs": [
    {
     "name": "stdout",
     "output_type": "stream",
     "text": [
      "Collecting protobuf==3.20.*\r\n",
      "  Downloading protobuf-3.20.3-cp310-cp310-manylinux_2_12_x86_64.manylinux2010_x86_64.whl (1.1 MB)\r\n",
      "\u001b[?25l     \u001b[90m━━━━━━━━━━━━━━━━━━━━━━━━━━━━━━━━━━━━━━━━\u001b[0m \u001b[32m0.0/1.1 MB\u001b[0m \u001b[31m?\u001b[0m eta \u001b[36m-:--:--\u001b[0m"
     ]
    },
    {
     "name": "stdout",
     "output_type": "stream",
     "text": [
      "\r",
      "\u001b[2K     \u001b[91m━━━━━━━━━━━━━━━━━━━━━━━━━━━━━━━━━━━━━━━\u001b[0m\u001b[91m╸\u001b[0m \u001b[32m1.0/1.1 MB\u001b[0m \u001b[31m52.1 MB/s\u001b[0m eta \u001b[36m0:00:01\u001b[0m\r",
      "\u001b[2K     \u001b[90m━━━━━━━━━━━━━━━━━━━━━━━━━━━━━━━━━━━━━━━━\u001b[0m \u001b[32m1.1/1.1 MB\u001b[0m \u001b[31m29.3 MB/s\u001b[0m eta \u001b[36m0:00:00\u001b[0m\r\n",
      "\u001b[?25h"
     ]
    },
    {
     "name": "stdout",
     "output_type": "stream",
     "text": [
      "Installing collected packages: protobuf\r\n",
      "  Attempting uninstall: protobuf\r\n",
      "    Found existing installation: protobuf 4.22.1\r\n"
     ]
    },
    {
     "name": "stdout",
     "output_type": "stream",
     "text": [
      "    Uninstalling protobuf-4.22.1:\r\n",
      "      Successfully uninstalled protobuf-4.22.1\r\n"
     ]
    },
    {
     "name": "stdout",
     "output_type": "stream",
     "text": [
      "Successfully installed protobuf-3.20.3\r\n",
      "\u001b[33mWARNING: Running pip as the 'root' user can result in broken permissions and conflicting behaviour with the system package manager. It is recommended to use a virtual environment instead: https://pip.pypa.io/warnings/venv\u001b[0m\u001b[33m\r\n",
      "\u001b[0m"
     ]
    }
   ],
   "source": [
    "# TypeError: Descriptors cannot not be created directly.\n",
    "# If this call came from a _pb2.py file, your generated code is out of date and must be regenerated with protoc >= 3.19.0.\n",
    "# If you cannot immediately regenerate your protos, some other possible workarounds are:\n",
    "#  1. Downgrade the protobuf package to 3.20.x or lower.\n",
    "#  2. Set PROTOCOL_BUFFERS_PYTHON_IMPLEMENTATION=python (but this will use pure-Python parsing and will be much slower).\n",
    "\n",
    "# More information: https://developers.google.com/protocol-buffers/docs/news/2022-05-06#python-updates\n",
    "# ! export PROTOCOL_BUFFERS_PYTHON_IMPLEMENTATION=python\n",
    "! pip install protobuf==3.20.*"
   ]
  },
  {
   "cell_type": "code",
   "execution_count": 12,
   "id": "b8014949",
   "metadata": {
    "execution": {
     "iopub.execute_input": "2023-04-06T12:29:06.254499Z",
     "iopub.status.busy": "2023-04-06T12:29:06.254117Z",
     "iopub.status.idle": "2023-04-06T12:29:06.260695Z",
     "shell.execute_reply": "2023-04-06T12:29:06.259596Z"
    },
    "papermill": {
     "duration": 0.161593,
     "end_time": "2023-04-06T12:29:06.262841",
     "exception": false,
     "start_time": "2023-04-06T12:29:06.101248",
     "status": "completed"
    },
    "tags": []
   },
   "outputs": [],
   "source": [
    "snowballyaml = \"\"\"behaviors:\n",
    "  SnowballTarget:\n",
    "    trainer_type: ppo\n",
    "    summary_freq: 10000\n",
    "    keep_checkpoints: 10\n",
    "    checkpoint_interval: 50000\n",
    "    max_steps: 1000\n",
    "    time_horizon: 64\n",
    "    threaded: true\n",
    "    hyperparameters:\n",
    "      learning_rate: 0.0003\n",
    "      learning_rate_schedule: linear\n",
    "      batch_size: 128\n",
    "      buffer_size: 2048\n",
    "      beta: 0.005\n",
    "      epsilon: 0.2\n",
    "      lambd: 0.95\n",
    "      num_epoch: 3\n",
    "    network_settings:\n",
    "      normalize: false\n",
    "      hidden_units: 256\n",
    "      num_layers: 2\n",
    "      vis_encode_type: simple\n",
    "    reward_signals:\n",
    "      extrinsic:\n",
    "        gamma: 0.99\n",
    "        strength: 1.0\"\"\"\n",
    "\n",
    "with open(\"./config/ppo/SnowballTarget.yaml\", \"w\") as outfile:\n",
    "    outfile.write(snowballyaml)"
   ]
  },
  {
   "cell_type": "code",
   "execution_count": 13,
   "id": "b89c6182",
   "metadata": {
    "execution": {
     "iopub.execute_input": "2023-04-06T12:29:06.654723Z",
     "iopub.status.busy": "2023-04-06T12:29:06.654277Z",
     "iopub.status.idle": "2023-04-06T12:29:06.681174Z",
     "shell.execute_reply": "2023-04-06T12:29:06.679860Z"
    },
    "papermill": {
     "duration": 0.269441,
     "end_time": "2023-04-06T12:29:06.684530",
     "exception": false,
     "start_time": "2023-04-06T12:29:06.415089",
     "status": "completed"
    },
    "tags": []
   },
   "outputs": [
    {
     "name": "stdout",
     "output_type": "stream",
     "text": [
      ". .pre-commit-config.yaml\n",
      "./ml-agents-envs pydoc-config.yaml\n",
      "./ml-agents-trainer-plugin/mlagents_trainer_plugin/a2c a2c_3DBall.yaml\n",
      "./ml-agents-trainer-plugin/mlagents_trainer_plugin/dqn dqn_basic.yaml\n",
      "./com.unity.ml-agents catalog-info.yaml.meta\n",
      "./ml-agents pydoc-config.yaml\n",
      "./.github/workflows publish_docs.yaml\n",
      "./config/imitation Pyramids.yaml\n",
      "./config/poca SoccerTwos.yaml\n",
      "./config/ppo Pyramids.yaml\n",
      "./config/sac Pyramids.yaml\n"
     ]
    }
   ],
   "source": [
    "import os\n",
    "\n",
    "for dirpath, dirnames, filenames in os.walk(\".\"):\n",
    "    for filename in filenames:\n",
    "        if \"yaml\" in filename:\n",
    "            print(dirpath, filename)\n",
    "            break"
   ]
  },
  {
   "cell_type": "code",
   "execution_count": 14,
   "id": "7fbc8031",
   "metadata": {
    "execution": {
     "iopub.execute_input": "2023-04-06T12:29:07.240297Z",
     "iopub.status.busy": "2023-04-06T12:29:07.239866Z",
     "iopub.status.idle": "2023-04-06T12:29:07.253250Z",
     "shell.execute_reply": "2023-04-06T12:29:07.252374Z"
    },
    "papermill": {
     "duration": 0.280812,
     "end_time": "2023-04-06T12:29:07.255969",
     "exception": false,
     "start_time": "2023-04-06T12:29:06.975157",
     "status": "completed"
    },
    "tags": []
   },
   "outputs": [
    {
     "data": {
      "text/plain": [
       "['Pyramids.yaml',\n",
       " 'Crawler.yaml',\n",
       " 'Sorter_curriculum.yaml',\n",
       " '3DBallHard.yaml',\n",
       " 'Basic.yaml',\n",
       " 'Hallway.yaml',\n",
       " 'GridWorld.yaml',\n",
       " 'VisualFoodCollector.yaml',\n",
       " 'Match3.yaml',\n",
       " 'Worm.yaml',\n",
       " '3DBall_randomize.yaml',\n",
       " 'WallJump.yaml',\n",
       " 'Walker.yaml',\n",
       " 'Visual3DBall.yaml',\n",
       " 'Huggy.yaml',\n",
       " 'WallJump_curriculum.yaml',\n",
       " 'SnowballTarget.yaml',\n",
       " 'PushBlock.yaml',\n",
       " 'PyramidsRND.yaml',\n",
       " 'FoodCollector.yaml',\n",
       " '3DBall.yaml']"
      ]
     },
     "execution_count": 14,
     "metadata": {},
     "output_type": "execute_result"
    }
   ],
   "source": [
    "os.listdir(\"./config/ppo\")"
   ]
  },
  {
   "cell_type": "code",
   "execution_count": 15,
   "id": "bfa7f3c0",
   "metadata": {
    "execution": {
     "iopub.execute_input": "2023-04-06T12:29:07.719700Z",
     "iopub.status.busy": "2023-04-06T12:29:07.719257Z",
     "iopub.status.idle": "2023-04-06T12:29:17.301698Z",
     "shell.execute_reply": "2023-04-06T12:29:17.300393Z"
    },
    "papermill": {
     "duration": 9.818321,
     "end_time": "2023-04-06T12:29:17.304741",
     "exception": false,
     "start_time": "2023-04-06T12:29:07.486420",
     "status": "completed"
    },
    "tags": []
   },
   "outputs": [
    {
     "name": "stdout",
     "output_type": "stream",
     "text": [
      "\r\n",
      "            ┐  ╖\r\n",
      "        ╓╖╬│╡  ││╬╖╖\r\n",
      "    ╓╖╬│││││┘  ╬│││││╬╖\r\n",
      " ╖╬│││││╬╜        ╙╬│││││╖╖                               ╗╗╗\r\n",
      " ╬╬╬╬╖││╦╖        ╖╬││╗╣╣╣╬      ╟╣╣╬    ╟╣╣╣             ╜╜╜  ╟╣╣\r\n",
      " ╬╬╬╬╬╬╬╬╖│╬╖╖╓╬╪│╓╣╣╣╣╣╣╣╬      ╟╣╣╬    ╟╣╣╣ ╒╣╣╖╗╣╣╣╗   ╣╣╣ ╣╣╣╣╣╣ ╟╣╣╖   ╣╣╣\r\n",
      " ╬╬╬╬┐  ╙╬╬╬╬│╓╣╣╣╝╜  ╫╣╣╣╬      ╟╣╣╬    ╟╣╣╣ ╟╣╣╣╙ ╙╣╣╣  ╣╣╣ ╙╟╣╣╜╙  ╫╣╣  ╟╣╣\r\n",
      " ╬╬╬╬┐     ╙╬╬╣╣      ╫╣╣╣╬      ╟╣╣╬    ╟╣╣╣ ╟╣╣╬   ╣╣╣  ╣╣╣  ╟╣╣     ╣╣╣┌╣╣╜\r\n",
      " ╬╬╬╜       ╬╬╣╣      ╙╝╣╣╬      ╙╣╣╣╗╖╓╗╣╣╣╜ ╟╣╣╬   ╣╣╣  ╣╣╣  ╟╣╣╦╓    ╣╣╣╣╣\r\n",
      " ╙   ╓╦╖    ╬╬╣╣   ╓╗╗╖            ╙╝╣╣╣╣╝╜   ╘╝╝╜   ╝╝╝  ╝╝╝   ╙╣╣╣    ╟╣╣╣\r\n",
      "   ╩╬╬╬╬╬╬╦╦╬╬╣╣╗╣╣╣╣╣╣╣╝                                             ╫╣╣╣╣\r\n",
      "      ╙╬╬╬╬╬╬╬╣╣╣╣╣╣╝╜\r\n",
      "          ╙╬╬╬╣╣╣╜\r\n",
      "             ╙\r\n",
      "        \r\n",
      " Version information:\r\n",
      "  ml-agents: 0.31.0.dev0,\r\n",
      "  ml-agents-envs: 0.31.0.dev0,\r\n",
      "  Communicator API: 1.5.0,\r\n",
      "  PyTorch: 1.11.0+cu102\r\n"
     ]
    },
    {
     "name": "stdout",
     "output_type": "stream",
     "text": [
      "[INFO] Connected to Unity environment with package version 2.1.0-exp.1 and communication version 1.5.0\r\n"
     ]
    },
    {
     "name": "stdout",
     "output_type": "stream",
     "text": [
      "[INFO] Connected new brain: SnowballTarget?team=0\r\n"
     ]
    },
    {
     "name": "stdout",
     "output_type": "stream",
     "text": [
      "[INFO] Hyperparameters for behavior name SnowballTarget: \r\n",
      "\ttrainer_type:\tppo\r\n",
      "\thyperparameters:\t\r\n",
      "\t  batch_size:\t128\r\n",
      "\t  buffer_size:\t2048\r\n",
      "\t  learning_rate:\t0.0003\r\n",
      "\t  beta:\t0.005\r\n",
      "\t  epsilon:\t0.2\r\n",
      "\t  lambd:\t0.95\r\n",
      "\t  num_epoch:\t3\r\n",
      "\t  shared_critic:\tFalse\r\n",
      "\t  learning_rate_schedule:\tlinear\r\n",
      "\t  beta_schedule:\tlinear\r\n",
      "\t  epsilon_schedule:\tlinear\r\n",
      "\tcheckpoint_interval:\t50000\r\n",
      "\tnetwork_settings:\t\r\n",
      "\t  normalize:\tFalse\r\n",
      "\t  hidden_units:\t256\r\n",
      "\t  num_layers:\t2\r\n",
      "\t  vis_encode_type:\tsimple\r\n",
      "\t  memory:\tNone\r\n",
      "\t  goal_conditioning_type:\thyper\r\n",
      "\t  deterministic:\tFalse\r\n",
      "\treward_signals:\t\r\n",
      "\t  extrinsic:\t\r\n",
      "\t    gamma:\t0.99\r\n",
      "\t    strength:\t1.0\r\n",
      "\t    network_settings:\t\r\n",
      "\t      normalize:\tFalse\r\n",
      "\t      hidden_units:\t128\r\n",
      "\t      num_layers:\t2\r\n",
      "\t      vis_encode_type:\tsimple\r\n",
      "\t      memory:\tNone\r\n",
      "\t      goal_conditioning_type:\thyper\r\n",
      "\t      deterministic:\tFalse\r\n",
      "\tinit_path:\tNone\r\n",
      "\tkeep_checkpoints:\t10\r\n",
      "\teven_checkpoints:\tFalse\r\n",
      "\tmax_steps:\t1000\r\n",
      "\ttime_horizon:\t64\r\n",
      "\tsummary_freq:\t10000\r\n",
      "\tthreaded:\tTrue\r\n",
      "\tself_play:\tNone\r\n",
      "\tbehavioral_cloning:\tNone\r\n"
     ]
    },
    {
     "name": "stdout",
     "output_type": "stream",
     "text": [
      "[INFO] Exported results/SnowballTarget1/SnowballTarget/SnowballTarget-1408.onnx\r\n",
      "[INFO] Copied results/SnowballTarget1/SnowballTarget/SnowballTarget-1408.onnx to results/SnowballTarget1/SnowballTarget.onnx.\r\n"
     ]
    }
   ],
   "source": [
    "! python ml-agents/mlagents/trainers/learn.py ./config/ppo/SnowballTarget.yaml --env=./training-envs-executables/linux/SnowballTarget/SnowballTarget --run-id=\"SnowballTarget1\" --no-graphics --force"
   ]
  },
  {
   "cell_type": "code",
   "execution_count": 16,
   "id": "74c72676",
   "metadata": {
    "execution": {
     "iopub.execute_input": "2023-04-06T12:29:17.612751Z",
     "iopub.status.busy": "2023-04-06T12:29:17.611711Z",
     "iopub.status.idle": "2023-04-06T12:29:17.983622Z",
     "shell.execute_reply": "2023-04-06T12:29:17.982573Z"
    },
    "papermill": {
     "duration": 0.528184,
     "end_time": "2023-04-06T12:29:17.986148",
     "exception": false,
     "start_time": "2023-04-06T12:29:17.457964",
     "status": "completed"
    },
    "tags": []
   },
   "outputs": [],
   "source": [
    "from huggingface_hub import HfApi, snapshot_download\n",
    "from huggingface_hub.repocard import metadata_eval_result, metadata_save\n",
    "\n",
    "from pathlib import Path\n",
    "import datetime\n",
    "import json\n",
    "import imageio\n",
    "\n",
    "import tempfile\n",
    "\n",
    "import os"
   ]
  },
  {
   "cell_type": "code",
   "execution_count": 17,
   "id": "6201e66e",
   "metadata": {
    "execution": {
     "iopub.execute_input": "2023-04-06T12:29:18.345463Z",
     "iopub.status.busy": "2023-04-06T12:29:18.344753Z",
     "iopub.status.idle": "2023-04-06T12:29:18.557223Z",
     "shell.execute_reply": "2023-04-06T12:29:18.556075Z"
    },
    "papermill": {
     "duration": 0.376937,
     "end_time": "2023-04-06T12:29:18.559980",
     "exception": false,
     "start_time": "2023-04-06T12:29:18.183043",
     "status": "completed"
    },
    "tags": []
   },
   "outputs": [],
   "source": [
    "from kaggle_secrets import UserSecretsClient\n",
    "user_secrets = UserSecretsClient()\n",
    "hf_token = user_secrets.get_secret(\"huggingface_rl_course\")"
   ]
  },
  {
   "cell_type": "code",
   "execution_count": 18,
   "id": "4f0e4e85",
   "metadata": {
    "execution": {
     "iopub.execute_input": "2023-04-06T12:29:18.869850Z",
     "iopub.status.busy": "2023-04-06T12:29:18.868656Z",
     "iopub.status.idle": "2023-04-06T12:29:18.888217Z",
     "shell.execute_reply": "2023-04-06T12:29:18.887143Z"
    },
    "papermill": {
     "duration": 0.177165,
     "end_time": "2023-04-06T12:29:18.890351",
     "exception": false,
     "start_time": "2023-04-06T12:29:18.713186",
     "status": "completed"
    },
    "tags": []
   },
   "outputs": [
    {
     "name": "stdout",
     "output_type": "stream",
     "text": [
      "./.git/hooks pre-push.sample\n",
      "./docs/images push.png\n",
      "./ml-agents/mlagents/utils push_to_hf.py\n",
      "./localized_docs/KR/docs/images push.png\n",
      "./localized_docs/zh-CN/docs/images push.png\n"
     ]
    }
   ],
   "source": [
    "for dirpath, dirnames, filenames in os.walk(\".\"):\n",
    "    for filename in filenames:\n",
    "        if \"push\" in filename:\n",
    "            print(dirpath, filename)\n",
    "            break"
   ]
  },
  {
   "cell_type": "code",
   "execution_count": 19,
   "id": "15f81712",
   "metadata": {
    "execution": {
     "iopub.execute_input": "2023-04-06T12:29:19.194077Z",
     "iopub.status.busy": "2023-04-06T12:29:19.193041Z",
     "iopub.status.idle": "2023-04-06T12:29:19.354697Z",
     "shell.execute_reply": "2023-04-06T12:29:19.353439Z"
    },
    "papermill": {
     "duration": 0.315787,
     "end_time": "2023-04-06T12:29:19.357035",
     "exception": false,
     "start_time": "2023-04-06T12:29:19.041248",
     "status": "completed"
    },
    "tags": []
   },
   "outputs": [
    {
     "name": "stdout",
     "output_type": "stream",
     "text": [
      "Token will not been saved to git credential helper. Pass `add_to_git_credential=True` if you want to set the git credential as well.\n",
      "Token is valid.\n",
      "Your token has been saved to /root/.cache/huggingface/token\n",
      "Login successful\n"
     ]
    }
   ],
   "source": [
    "# from huggingface_hub import notebook_login\n",
    "# notebook_login()\n",
    "from huggingface_hub import login\n",
    "login(hf_token)"
   ]
  },
  {
   "cell_type": "code",
   "execution_count": 20,
   "id": "a0155bbd",
   "metadata": {
    "execution": {
     "iopub.execute_input": "2023-04-06T12:29:19.668608Z",
     "iopub.status.busy": "2023-04-06T12:29:19.668244Z",
     "iopub.status.idle": "2023-04-06T12:29:29.932561Z",
     "shell.execute_reply": "2023-04-06T12:29:29.931314Z"
    },
    "papermill": {
     "duration": 10.424122,
     "end_time": "2023-04-06T12:29:29.935522",
     "exception": false,
     "start_time": "2023-04-06T12:29:19.511400",
     "status": "completed"
    },
    "tags": []
   },
   "outputs": [
    {
     "name": "stdout",
     "output_type": "stream",
     "text": [
      "Cloning https://huggingface.co/bsenst/ppo-SnowballTarget into local empty directory.\r\n",
      "WARNING:huggingface_hub.repository:Cloning https://huggingface.co/bsenst/ppo-SnowballTarget into local empty directory.\r\n"
     ]
    },
    {
     "name": "stdout",
     "output_type": "stream",
     "text": [
      "\r",
      "Download file SnowballTarget/SnowballTarget-1408.pt:   1%| | 17.4k/1.23M [00:00<\r\n",
      "\r",
      "Download file SnowballTarget/events.out.tfevents.1680782860.ed24bde6b0fb.34290.0\u001b[A\r\n",
      "\r\n",
      "\r",
      "Clean file SnowballTarget/events.out.tfevents.1680782860.ed24bde6b0fb.34290.0:  \u001b[A\u001b[A\r\n",
      "\r\n",
      "\r\n",
      "\r",
      "Download file SnowballTarget.onnx:   0%|            | 1.40k/631k [00:00<?, ?B/s]\u001b[A\u001b[A\u001b[A\r\n",
      "\r\n",
      "\r\n",
      "\r\n"
     ]
    },
    {
     "name": "stdout",
     "output_type": "stream",
     "text": [
      "\r",
      "Clean file SnowballTarget/SnowballTarget-1408.pt:   0%| | 1.00k/1.23M [00:00<?, \u001b[A\u001b[A\u001b[A\u001b[A\r\n",
      "\r\n",
      "\r\n",
      "\r\n",
      "\r\n",
      "\r",
      "Clean file SnowballTarget/checkpoint.pt:   0%|     | 1.00k/1.23M [00:00<?, ?B/s]\u001b[A\u001b[A\u001b[A\u001b[A\u001b[A\r\n",
      "\r\n",
      "\r\n",
      "\r\n",
      "\r\n",
      "\r\n",
      "\r",
      "Clean file SnowballTarget.onnx:   0%|               | 1.00k/631k [00:00<?, ?B/s]\u001b[A\u001b[A\u001b[A\u001b[A\u001b[A\u001b[A"
     ]
    },
    {
     "name": "stdout",
     "output_type": "stream",
     "text": [
      "\r",
      "Download file SnowballTarget/SnowballTarget-1408.pt: 100%|█| 1.23M/1.23M [00:01<\r",
      "Download file SnowballTarget/SnowballTarget-1408.pt: 100%|█| 1.23M/1.23M [00:01<\r",
      "Download file SnowballTarget/SnowballTarget-1408.pt: 100%|█| 1.23M/1.23M [00:01<\r\n",
      "\r\n",
      "\r",
      "Download file SnowballTarget/events.out.tfevents.1680782860.ed24bde6b0fb.34290.0\u001b[A\r\n",
      "\r",
      "Download file SnowballTarget/events.out.tfevents.1680782860.ed24bde6b0fb.34290.0\u001b[A\r",
      "Download file SnowballTarget/events.out.tfevents.1680782860.ed24bde6b0fb.34290.0\r\n",
      "\r\n",
      "\r\n",
      "\r",
      "Clean file SnowballTarget/events.out.tfevents.1680782860.ed24bde6b0fb.34290.0: 1\u001b[A\u001b[A\r\n",
      "\r\n",
      "\r",
      "Clean file SnowballTarget/events.out.tfevents.1680782860.ed24bde6b0fb.34290.0: 1\u001b[A\u001b[A\r",
      "Clean file SnowballTarget/events.out.tfevents.1680782860.ed24bde6b0fb.34290.0: 1\r\n",
      "\r\n",
      "\r\n",
      "\r\n",
      "\r",
      "Download file SnowballTarget.onnx: 100%|██████| 631k/631k [00:01<00:00, 639kB/s]\u001b[A\u001b[A\u001b[A\r\n",
      "\r\n",
      "\r\n",
      "\r",
      "Download file SnowballTarget.onnx: 100%|██████| 631k/631k [00:01<00:00, 639kB/s]\u001b[A\u001b[A\u001b[A\r",
      "Download file SnowballTarget.onnx: 100%|██████| 631k/631k [00:01<00:00, 639kB/s]\r\n",
      "\r\n",
      "\r\n",
      "\r\n",
      "\r\n",
      "\r",
      "Clean file SnowballTarget/SnowballTarget-1408.pt: 100%|█| 1.23M/1.23M [00:01<00:\u001b[A\u001b[A\u001b[A\u001b[A\r\n",
      "\r\n",
      "\r\n",
      "\r\n",
      "\r",
      "Clean file SnowballTarget/SnowballTarget-1408.pt: 100%|█| 1.23M/1.23M [00:01<00:\u001b[A\u001b[A\u001b[A\u001b[A\r",
      "Clean file SnowballTarget/SnowballTarget-1408.pt: 100%|█| 1.23M/1.23M [00:01<00:\r\n",
      "\r\n",
      "\r\n",
      "\r\n",
      "\r\n",
      "\r\n",
      "\r",
      "Clean file SnowballTarget/checkpoint.pt: 100%|█| 1.23M/1.23M [00:01<00:00, 1.28M\u001b[A\u001b[A\u001b[A\u001b[A\u001b[A\r\n",
      "\r\n",
      "\r\n",
      "\r\n",
      "\r\n",
      "\r",
      "Clean file SnowballTarget/checkpoint.pt: 100%|█| 1.23M/1.23M [00:01<00:00, 1.28M\u001b[A\u001b[A\u001b[A\u001b[A\u001b[A\r",
      "Clean file SnowballTarget/checkpoint.pt: 100%|█| 1.23M/1.23M [00:01<00:00, 1.28M\r\n",
      "\r\n",
      "\r\n",
      "\r\n",
      "\r\n",
      "\r\n",
      "\r\n",
      "\r",
      "Clean file SnowballTarget.onnx: 100%|█████████| 631k/631k [00:01<00:00, 642kB/s]\u001b[A\u001b[A\u001b[A\u001b[A\u001b[A\u001b[A\r\n",
      "\r\n",
      "\r\n",
      "\r\n",
      "\r\n",
      "\r\n",
      "\r",
      "Clean file SnowballTarget.onnx: 100%|█████████| 631k/631k [00:01<00:00, 642kB/s]\u001b[A\u001b[A\u001b[A\u001b[A\u001b[A\u001b[A\r",
      "Clean file SnowballTarget.onnx: 100%|█████████| 631k/631k [00:01<00:00, 642kB/s]\r\n"
     ]
    },
    {
     "name": "stdout",
     "output_type": "stream",
     "text": [
      "\r",
      "Upload file SnowballTarget/SnowballTarget-1408.pt:   3%| | 32.0k/1.23M [00:00<?,\r\n",
      "\r",
      "Upload file SnowballTarget/events.out.tfevents.1680784150.f5f04898c26b.966.0: 10\u001b[A\r\n",
      "\r\n",
      "\r",
      "Upload file SnowballTarget.onnx:   5%|▋             | 32.0k/631k [00:00<?, ?B/s]\u001b[A\u001b[A"
     ]
    },
    {
     "name": "stdout",
     "output_type": "stream",
     "text": [
      "To https://huggingface.co/bsenst/ppo-SnowballTarget\r\n",
      "   334810a..5cd6399  main -> main\r\n",
      "\r\n",
      "WARNING:huggingface_hub.repository:To https://huggingface.co/bsenst/ppo-SnowballTarget\r\n",
      "   334810a..5cd6399  main -> main\r\n",
      "\r\n",
      "\r",
      "Upload file SnowballTarget/SnowballTarget-1408.pt: 100%|█| 1.23M/1.23M [00:01<00\r",
      "Upload file SnowballTarget/SnowballTarget-1408.pt: 100%|█| 1.23M/1.23M [00:01<00\r",
      "Upload file SnowballTarget/SnowballTarget-1408.pt: 100%|█| 1.23M/1.23M [00:01<00\r\n",
      "\r\n",
      "\r",
      "Upload file SnowballTarget/events.out.tfevents.1680784150.f5f04898c26b.966.0: 10\u001b[A\r\n",
      "\r",
      "Upload file SnowballTarget/events.out.tfevents.1680784150.f5f04898c26b.966.0: 10\u001b[A\r",
      "Upload file SnowballTarget/events.out.tfevents.1680784150.f5f04898c26b.966.0: 10\r\n",
      "\r\n",
      "\r\n",
      "\r",
      "Upload file SnowballTarget.onnx: 100%|████████| 631k/631k [00:01<00:00, 613kB/s]\u001b[A\u001b[A\r\n",
      "\r\n",
      "\r",
      "Upload file SnowballTarget.onnx: 100%|████████| 631k/631k [00:01<00:00, 613kB/s]\u001b[A\u001b[A\r",
      "Upload file SnowballTarget.onnx: 100%|████████| 631k/631k [00:01<00:00, 612kB/s]\r\n",
      "\r\n",
      " Your model is pushed to the hub. You can view your model here: https://huggingface.co/bsenst/ppo-SnowballTarget\r\n"
     ]
    }
   ],
   "source": [
    "! python ml-agents/mlagents/utils/push_to_hf.py --run-id=\"SnowballTarget1\" --local-dir=\"./results/SnowballTarget1\" --repo-id=\"bsenst/ppo-SnowballTarget\" --commit-message=\"add ppo snowballtarget agent\""
   ]
  }
 ],
 "metadata": {
  "kernelspec": {
   "display_name": "Python 3",
   "language": "python",
   "name": "python3"
  },
  "language_info": {
   "codemirror_mode": {
    "name": "ipython",
    "version": 3
   },
   "file_extension": ".py",
   "mimetype": "text/x-python",
   "name": "python",
   "nbconvert_exporter": "python",
   "pygments_lexer": "ipython3",
   "version": "3.7.12"
  },
  "papermill": {
   "default_parameters": {},
   "duration": 381.154643,
   "end_time": "2023-04-06T12:29:30.710592",
   "environment_variables": {},
   "exception": null,
   "input_path": "__notebook__.ipynb",
   "output_path": "__notebook__.ipynb",
   "parameters": {},
   "start_time": "2023-04-06T12:23:09.555949",
   "version": "2.4.0"
  }
 },
 "nbformat": 4,
 "nbformat_minor": 5
}