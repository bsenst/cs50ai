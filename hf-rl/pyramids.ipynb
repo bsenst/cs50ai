{
 "cells": [
  {
   "cell_type": "code",
   "execution_count": 1,
   "id": "03fe4792",
   "metadata": {
    "execution": {
     "iopub.execute_input": "2023-04-06T19:34:27.588064Z",
     "iopub.status.busy": "2023-04-06T19:34:27.587621Z",
     "iopub.status.idle": "2023-04-06T19:38:46.582218Z",
     "shell.execute_reply": "2023-04-06T19:38:46.580869Z"
    },
    "papermill": {
     "duration": 259.004247,
     "end_time": "2023-04-06T19:38:46.585206",
     "exception": false,
     "start_time": "2023-04-06T19:34:27.580959",
     "status": "completed"
    },
    "tags": []
   },
   "outputs": [],
   "source": [
    "%%capture\n",
    "!mamba create -n py310 -c cctbx202208 -y\n",
    "!source /opt/conda/bin/activate py310 && mamba install -c cctbx202208 python jupyter mamba -y\n",
    "\n",
    "!sudo rm /opt/conda/bin/python3\n",
    "!sudo ln -sf /opt/conda/envs/py310/bin/python3 /opt/conda/bin/python3\n",
    "!sudo rm /opt/conda/bin/python3.7\n",
    "!sudo ln -sf /opt/conda/envs/py310/bin/python3 /opt/conda/bin/python3.7\n",
    "!sudo rm /opt/conda/bin/python\n",
    "!sudo ln -sf /opt/conda/envs/py310/bin/python3 /opt/conda/bin/python"
   ]
  },
  {
   "cell_type": "code",
   "execution_count": 2,
   "id": "29150aaf",
   "metadata": {
    "execution": {
     "iopub.execute_input": "2023-04-06T19:38:46.595752Z",
     "iopub.status.busy": "2023-04-06T19:38:46.595418Z",
     "iopub.status.idle": "2023-04-06T19:38:47.531372Z",
     "shell.execute_reply": "2023-04-06T19:38:47.530129Z"
    },
    "papermill": {
     "duration": 0.944345,
     "end_time": "2023-04-06T19:38:47.534001",
     "exception": false,
     "start_time": "2023-04-06T19:38:46.589656",
     "status": "completed"
    },
    "tags": []
   },
   "outputs": [
    {
     "name": "stdout",
     "output_type": "stream",
     "text": [
      "Python 3.10.5\r\n"
     ]
    }
   ],
   "source": [
    "! python --version"
   ]
  },
  {
   "cell_type": "code",
   "execution_count": 3,
   "id": "972562ee",
   "metadata": {
    "execution": {
     "iopub.execute_input": "2023-04-06T19:38:47.544022Z",
     "iopub.status.busy": "2023-04-06T19:38:47.543408Z",
     "iopub.status.idle": "2023-04-06T19:39:57.789226Z",
     "shell.execute_reply": "2023-04-06T19:39:57.787884Z"
    },
    "papermill": {
     "duration": 70.253733,
     "end_time": "2023-04-06T19:39:57.792048",
     "exception": false,
     "start_time": "2023-04-06T19:38:47.538315",
     "status": "completed"
    },
    "tags": []
   },
   "outputs": [],
   "source": [
    "%%capture\n",
    "!git clone --depth 1 --branch hf-integration https://github.com/huggingface/ml-agents\n",
    "%cd ml-agents\n",
    "!pip3 install -e ./ml-agents-envs\n",
    "!pip3 install -e ./ml-agents"
   ]
  },
  {
   "cell_type": "code",
   "execution_count": 4,
   "id": "03c6c933",
   "metadata": {
    "execution": {
     "iopub.execute_input": "2023-04-06T19:39:57.802277Z",
     "iopub.status.busy": "2023-04-06T19:39:57.801160Z",
     "iopub.status.idle": "2023-04-06T19:40:01.112418Z",
     "shell.execute_reply": "2023-04-06T19:40:01.111053Z"
    },
    "papermill": {
     "duration": 3.319033,
     "end_time": "2023-04-06T19:40:01.115178",
     "exception": false,
     "start_time": "2023-04-06T19:39:57.796145",
     "status": "completed"
    },
    "tags": []
   },
   "outputs": [],
   "source": [
    "%%capture\n",
    "!pip3 uninstall tensorflow -y\n",
    "!mkdir ./training-envs-executables\n",
    "!mkdir ./training-envs-executables/linux"
   ]
  },
  {
   "cell_type": "code",
   "execution_count": 5,
   "id": "f29f1d6b",
   "metadata": {
    "_cell_guid": "b1076dfc-b9ad-4769-8c92-a6c4dae69d19",
    "_uuid": "8f2839f25d086af736a60e9eeb907d3b93b6e0e5",
    "execution": {
     "iopub.execute_input": "2023-04-06T19:40:01.125339Z",
     "iopub.status.busy": "2023-04-06T19:40:01.124452Z",
     "iopub.status.idle": "2023-04-06T19:40:03.816189Z",
     "shell.execute_reply": "2023-04-06T19:40:03.814823Z"
    },
    "papermill": {
     "duration": 2.699736,
     "end_time": "2023-04-06T19:40:03.819041",
     "exception": false,
     "start_time": "2023-04-06T19:40:01.119305",
     "status": "completed"
    },
    "tags": []
   },
   "outputs": [],
   "source": [
    "%%capture\n",
    "!wget --load-cookies /tmp/cookies.txt \"https://docs.google.com/uc?export=download&confirm=$(wget --quiet --save-cookies /tmp/cookies.txt --keep-session-cookies --no-check-certificate 'https://docs.google.com/uc?export=download&id=1UiFNdKlsH0NTu32xV-giYUEVKV4-vc7H' -O- | sed -rn 's/.*confirm=([0-9A-Za-z_]+).*/\\1\\n/p')&id=1UiFNdKlsH0NTu32xV-giYUEVKV4-vc7H\" -O ./training-envs-executables/linux/Pyramids.zip && rm -rf /tmp/cookies.txt"
   ]
  },
  {
   "cell_type": "code",
   "execution_count": 6,
   "id": "2b2e71e6",
   "metadata": {
    "execution": {
     "iopub.execute_input": "2023-04-06T19:40:03.829293Z",
     "iopub.status.busy": "2023-04-06T19:40:03.828265Z",
     "iopub.status.idle": "2023-04-06T19:40:05.881737Z",
     "shell.execute_reply": "2023-04-06T19:40:05.880411Z"
    },
    "papermill": {
     "duration": 2.061451,
     "end_time": "2023-04-06T19:40:05.884565",
     "exception": false,
     "start_time": "2023-04-06T19:40:03.823114",
     "status": "completed"
    },
    "tags": []
   },
   "outputs": [],
   "source": [
    "%%capture\n",
    "!unzip -d ./training-envs-executables/linux/ ./training-envs-executables/linux/Pyramids.zip"
   ]
  },
  {
   "cell_type": "code",
   "execution_count": 7,
   "id": "240a4b4d",
   "metadata": {
    "execution": {
     "iopub.execute_input": "2023-04-06T19:40:05.894442Z",
     "iopub.status.busy": "2023-04-06T19:40:05.893817Z",
     "iopub.status.idle": "2023-04-06T19:40:06.938296Z",
     "shell.execute_reply": "2023-04-06T19:40:06.936712Z"
    },
    "papermill": {
     "duration": 1.052467,
     "end_time": "2023-04-06T19:40:06.941155",
     "exception": false,
     "start_time": "2023-04-06T19:40:05.888688",
     "status": "completed"
    },
    "tags": []
   },
   "outputs": [],
   "source": [
    "!chmod -R 755 ./training-envs-executables/linux/Pyramids/Pyramids"
   ]
  },
  {
   "cell_type": "code",
   "execution_count": 8,
   "id": "36bac30a",
   "metadata": {
    "execution": {
     "iopub.execute_input": "2023-04-06T19:40:06.952984Z",
     "iopub.status.busy": "2023-04-06T19:40:06.951098Z",
     "iopub.status.idle": "2023-04-06T19:40:06.971811Z",
     "shell.execute_reply": "2023-04-06T19:40:06.969618Z"
    },
    "papermill": {
     "duration": 0.028637,
     "end_time": "2023-04-06T19:40:06.974210",
     "exception": false,
     "start_time": "2023-04-06T19:40:06.945573",
     "status": "completed"
    },
    "tags": []
   },
   "outputs": [
    {
     "name": "stdout",
     "output_type": "stream",
     "text": [
      ". .pre-commit-config.yaml\n",
      ". .pre-commit-search-and-replace.yaml\n",
      "./config/sac GridWorld.yaml\n",
      "./config/sac 3DBallHard.yaml\n",
      "./config/sac PushBlock.yaml\n",
      "./config/sac Crawler.yaml\n",
      "./config/sac Worm.yaml\n",
      "./config/sac Walker.yaml\n",
      "./config/sac Basic.yaml\n",
      "./config/sac Pyramids.yaml\n",
      "./config/sac Hallway.yaml\n",
      "./config/sac 3DBall.yaml\n",
      "./config/sac WallJump.yaml\n",
      "./config/sac FoodCollector.yaml\n",
      "./config/poca PushBlockCollab.yaml\n",
      "./config/poca StrikersVsGoalie.yaml\n",
      "./config/poca SoccerTwos.yaml\n",
      "./config/poca DungeonEscape.yaml\n",
      "./config/ppo GridWorld.yaml\n",
      "./config/ppo Visual3DBall.yaml\n",
      "./config/ppo 3DBallHard.yaml\n",
      "./config/ppo PyramidsRND.yaml\n",
      "./config/ppo PushBlock.yaml\n",
      "./config/ppo Crawler.yaml\n",
      "./config/ppo Worm.yaml\n",
      "./config/ppo Huggy.yaml\n",
      "./config/ppo WallJump_curriculum.yaml\n",
      "./config/ppo Match3.yaml\n",
      "./config/ppo 3DBall_randomize.yaml\n",
      "./config/ppo VisualFoodCollector.yaml\n",
      "./config/ppo Walker.yaml\n",
      "./config/ppo Basic.yaml\n",
      "./config/ppo Pyramids.yaml\n",
      "./config/ppo Hallway.yaml\n",
      "./config/ppo 3DBall.yaml\n",
      "./config/ppo Sorter_curriculum.yaml\n",
      "./config/ppo WallJump.yaml\n",
      "./config/ppo FoodCollector.yaml\n",
      "./config/imitation PushBlock.yaml\n",
      "./config/imitation Crawler.yaml\n",
      "./config/imitation Pyramids.yaml\n",
      "./config/imitation Hallway.yaml\n",
      "./ml-agents pydoc-config.yaml\n",
      "./ml-agents-envs pydoc-config.yaml\n",
      "./com.unity.ml-agents catalog-info.yaml.meta\n",
      "./com.unity.ml-agents catalog-info.yaml\n",
      "./ml-agents-trainer-plugin/mlagents_trainer_plugin/a2c a2c_3DBall.yaml\n",
      "./ml-agents-trainer-plugin/mlagents_trainer_plugin/dqn dqn_basic.yaml\n",
      "./.github/workflows publish_docs.yaml\n",
      "./.github/workflows publish_pypi.yaml\n",
      "./.github/workflows publish_pypi_python_api.yaml\n"
     ]
    }
   ],
   "source": [
    "import os\n",
    "\n",
    "for dirpath, dirnames, filenames in os.walk(\".\"):\n",
    "    for filename in filenames:\n",
    "        if \"yaml\" in filename:\n",
    "            print(dirpath, filename)"
   ]
  },
  {
   "cell_type": "code",
   "execution_count": 9,
   "id": "af6e4846",
   "metadata": {
    "execution": {
     "iopub.execute_input": "2023-04-06T19:40:06.983761Z",
     "iopub.status.busy": "2023-04-06T19:40:06.983465Z",
     "iopub.status.idle": "2023-04-06T19:40:06.988964Z",
     "shell.execute_reply": "2023-04-06T19:40:06.987864Z"
    },
    "papermill": {
     "duration": 0.012595,
     "end_time": "2023-04-06T19:40:06.991009",
     "exception": false,
     "start_time": "2023-04-06T19:40:06.978414",
     "status": "completed"
    },
    "tags": []
   },
   "outputs": [],
   "source": [
    "yaml = \"\"\"behaviors:\n",
    "  Pyramids:\n",
    "    trainer_type: ppo\n",
    "    hyperparameters:\n",
    "      batch_size: 128\n",
    "      buffer_size: 2048\n",
    "      learning_rate: 0.0003\n",
    "      beta: 0.01\n",
    "      epsilon: 0.2\n",
    "      lambd: 0.95\n",
    "      num_epoch: 3\n",
    "      learning_rate_schedule: linear\n",
    "    network_settings:\n",
    "      normalize: false\n",
    "      hidden_units: 512\n",
    "      num_layers: 2\n",
    "      vis_encode_type: simple\n",
    "    reward_signals:\n",
    "      extrinsic:\n",
    "        gamma: 0.99\n",
    "        strength: 1.0\n",
    "      rnd:\n",
    "        gamma: 0.99\n",
    "        strength: 0.01\n",
    "        network_settings:\n",
    "          hidden_units: 64\n",
    "          num_layers: 3\n",
    "        learning_rate: 0.0001\n",
    "    keep_checkpoints: 5\n",
    "    max_steps: 3000000\n",
    "    time_horizon: 128\n",
    "    summary_freq: 30000\"\"\""
   ]
  },
  {
   "cell_type": "code",
   "execution_count": 10,
   "id": "3e39cea5",
   "metadata": {
    "execution": {
     "iopub.execute_input": "2023-04-06T19:40:07.000539Z",
     "iopub.status.busy": "2023-04-06T19:40:06.999635Z",
     "iopub.status.idle": "2023-04-06T19:40:07.005912Z",
     "shell.execute_reply": "2023-04-06T19:40:07.004614Z"
    },
    "papermill": {
     "duration": 0.013118,
     "end_time": "2023-04-06T19:40:07.007978",
     "exception": false,
     "start_time": "2023-04-06T19:40:06.994860",
     "status": "completed"
    },
    "tags": []
   },
   "outputs": [
    {
     "name": "stdout",
     "output_type": "stream",
     "text": [
      "701\n"
     ]
    }
   ],
   "source": [
    "with open(\"./config/ppo/PyramidsRND.yaml\", \"w\") as outfile:\n",
    "    print(outfile.write(yaml))"
   ]
  },
  {
   "cell_type": "code",
   "execution_count": 11,
   "id": "2a7068b2",
   "metadata": {
    "execution": {
     "iopub.execute_input": "2023-04-06T19:40:07.017504Z",
     "iopub.status.busy": "2023-04-06T19:40:07.016707Z",
     "iopub.status.idle": "2023-04-06T19:40:07.022461Z",
     "shell.execute_reply": "2023-04-06T19:40:07.021411Z"
    },
    "papermill": {
     "duration": 0.012552,
     "end_time": "2023-04-06T19:40:07.024470",
     "exception": false,
     "start_time": "2023-04-06T19:40:07.011918",
     "status": "completed"
    },
    "tags": []
   },
   "outputs": [
    {
     "name": "stdout",
     "output_type": "stream",
     "text": [
      "behaviors:\n",
      "  Pyramids:\n",
      "    trainer_type: ppo\n",
      "    hyperparameters:\n",
      "      batch_size: 128\n",
      "      buffer_size: 2048\n",
      "      learning_rate: 0.0003\n",
      "      beta: 0.01\n",
      "      epsilon: 0.2\n",
      "      lambd: 0.95\n",
      "      num_epoch: 3\n",
      "      learning_rate_schedule: linear\n",
      "    network_settings:\n",
      "      normalize: false\n",
      "      hidden_units: 512\n",
      "      num_layers: 2\n",
      "      vis_encode_type: simple\n",
      "    reward_signals:\n",
      "      extrinsic:\n",
      "        gamma: 0.99\n",
      "        strength: 1.0\n",
      "      rnd:\n",
      "        gamma: 0.99\n",
      "        strength: 0.01\n",
      "        network_settings:\n",
      "          hidden_units: 64\n",
      "          num_layers: 3\n",
      "        learning_rate: 0.0001\n",
      "    keep_checkpoints: 5\n",
      "    max_steps: 3000000\n",
      "    time_horizon: 128\n",
      "    summary_freq: 30000\n"
     ]
    }
   ],
   "source": [
    "with open(\"./config/ppo/PyramidsRND.yaml\", \"r\") as infile:\n",
    "    print(infile.read())"
   ]
  },
  {
   "cell_type": "code",
   "execution_count": 12,
   "id": "1523c59e",
   "metadata": {
    "execution": {
     "iopub.execute_input": "2023-04-06T19:40:07.034118Z",
     "iopub.status.busy": "2023-04-06T19:40:07.033210Z",
     "iopub.status.idle": "2023-04-06T19:40:10.032681Z",
     "shell.execute_reply": "2023-04-06T19:40:10.031424Z"
    },
    "papermill": {
     "duration": 3.006906,
     "end_time": "2023-04-06T19:40:10.035333",
     "exception": false,
     "start_time": "2023-04-06T19:40:07.028427",
     "status": "completed"
    },
    "tags": []
   },
   "outputs": [
    {
     "name": "stdout",
     "output_type": "stream",
     "text": [
      "Collecting protobuf==3.20.*\r\n",
      "  Downloading protobuf-3.20.3-cp310-cp310-manylinux_2_12_x86_64.manylinux2010_x86_64.whl (1.1 MB)\r\n",
      "\u001b[?25l     \u001b[90m━━━━━━━━━━━━━━━━━━━━━━━━━━━━━━━━━━━━━━━━\u001b[0m \u001b[32m0.0/1.1 MB\u001b[0m \u001b[31m?\u001b[0m eta \u001b[36m-:--:--\u001b[0m"
     ]
    },
    {
     "name": "stdout",
     "output_type": "stream",
     "text": [
      "\r",
      "\u001b[2K     \u001b[91m━━━━━━━━━━━━━━━━━━━━━━━━━━━━━━━━━━━━━━━\u001b[0m\u001b[91m╸\u001b[0m \u001b[32m1.0/1.1 MB\u001b[0m \u001b[31m36.4 MB/s\u001b[0m eta \u001b[36m0:00:01\u001b[0m\r",
      "\u001b[2K     \u001b[90m━━━━━━━━━━━━━━━━━━━━━━━━━━━━━━━━━━━━━━━━\u001b[0m \u001b[32m1.1/1.1 MB\u001b[0m \u001b[31m24.5 MB/s\u001b[0m eta \u001b[36m0:00:00\u001b[0m\r\n",
      "\u001b[?25h"
     ]
    },
    {
     "name": "stdout",
     "output_type": "stream",
     "text": [
      "Installing collected packages: protobuf\r\n",
      "  Attempting uninstall: protobuf\r\n",
      "    Found existing installation: protobuf 4.22.1\r\n",
      "    Uninstalling protobuf-4.22.1:\r\n",
      "      Successfully uninstalled protobuf-4.22.1\r\n"
     ]
    },
    {
     "name": "stdout",
     "output_type": "stream",
     "text": [
      "Successfully installed protobuf-3.20.3\r\n",
      "\u001b[33mWARNING: Running pip as the 'root' user can result in broken permissions and conflicting behaviour with the system package manager. It is recommended to use a virtual environment instead: https://pip.pypa.io/warnings/venv\u001b[0m\u001b[33m\r\n",
      "\u001b[0m"
     ]
    }
   ],
   "source": [
    "! pip install protobuf==3.20.*"
   ]
  },
  {
   "cell_type": "code",
   "execution_count": 13,
   "id": "515d5d9b",
   "metadata": {
    "execution": {
     "iopub.execute_input": "2023-04-06T19:40:10.047053Z",
     "iopub.status.busy": "2023-04-06T19:40:10.046442Z",
     "iopub.status.idle": "2023-04-06T21:36:35.922571Z",
     "shell.execute_reply": "2023-04-06T21:36:35.921318Z"
    },
    "papermill": {
     "duration": 6985.884636,
     "end_time": "2023-04-06T21:36:35.925392",
     "exception": false,
     "start_time": "2023-04-06T19:40:10.040756",
     "status": "completed"
    },
    "tags": []
   },
   "outputs": [
    {
     "name": "stdout",
     "output_type": "stream",
     "text": [
      "\r\n",
      "            ┐  ╖\r\n",
      "        ╓╖╬│╡  ││╬╖╖\r\n",
      "    ╓╖╬│││││┘  ╬│││││╬╖\r\n",
      " ╖╬│││││╬╜        ╙╬│││││╖╖                               ╗╗╗\r\n",
      " ╬╬╬╬╖││╦╖        ╖╬││╗╣╣╣╬      ╟╣╣╬    ╟╣╣╣             ╜╜╜  ╟╣╣\r\n",
      " ╬╬╬╬╬╬╬╬╖│╬╖╖╓╬╪│╓╣╣╣╣╣╣╣╬      ╟╣╣╬    ╟╣╣╣ ╒╣╣╖╗╣╣╣╗   ╣╣╣ ╣╣╣╣╣╣ ╟╣╣╖   ╣╣╣\r\n",
      " ╬╬╬╬┐  ╙╬╬╬╬│╓╣╣╣╝╜  ╫╣╣╣╬      ╟╣╣╬    ╟╣╣╣ ╟╣╣╣╙ ╙╣╣╣  ╣╣╣ ╙╟╣╣╜╙  ╫╣╣  ╟╣╣\r\n",
      " ╬╬╬╬┐     ╙╬╬╣╣      ╫╣╣╣╬      ╟╣╣╬    ╟╣╣╣ ╟╣╣╬   ╣╣╣  ╣╣╣  ╟╣╣     ╣╣╣┌╣╣╜\r\n",
      " ╬╬╬╜       ╬╬╣╣      ╙╝╣╣╬      ╙╣╣╣╗╖╓╗╣╣╣╜ ╟╣╣╬   ╣╣╣  ╣╣╣  ╟╣╣╦╓    ╣╣╣╣╣\r\n",
      " ╙   ╓╦╖    ╬╬╣╣   ╓╗╗╖            ╙╝╣╣╣╣╝╜   ╘╝╝╜   ╝╝╝  ╝╝╝   ╙╣╣╣    ╟╣╣╣\r\n",
      "   ╩╬╬╬╬╬╬╦╦╬╬╣╣╗╣╣╣╣╣╣╣╝                                             ╫╣╣╣╣\r\n",
      "      ╙╬╬╬╬╬╬╬╣╣╣╣╣╣╝╜\r\n",
      "          ╙╬╬╬╣╣╣╜\r\n",
      "             ╙\r\n",
      "        \r\n",
      " Version information:\r\n",
      "  ml-agents: 0.31.0.dev0,\r\n",
      "  ml-agents-envs: 0.31.0.dev0,\r\n",
      "  Communicator API: 1.5.0,\r\n",
      "  PyTorch: 1.11.0+cu102\r\n"
     ]
    },
    {
     "name": "stdout",
     "output_type": "stream",
     "text": [
      "[INFO] Connected to Unity environment with package version 2.2.1-exp.1 and communication version 1.5.0\r\n"
     ]
    },
    {
     "name": "stdout",
     "output_type": "stream",
     "text": [
      "[INFO] Connected new brain: Pyramids?team=0\r\n",
      "[INFO] Hyperparameters for behavior name Pyramids: \r\n",
      "\ttrainer_type:\tppo\r\n",
      "\thyperparameters:\t\r\n",
      "\t  batch_size:\t128\r\n",
      "\t  buffer_size:\t2048\r\n",
      "\t  learning_rate:\t0.0003\r\n",
      "\t  beta:\t0.01\r\n",
      "\t  epsilon:\t0.2\r\n",
      "\t  lambd:\t0.95\r\n",
      "\t  num_epoch:\t3\r\n",
      "\t  shared_critic:\tFalse\r\n",
      "\t  learning_rate_schedule:\tlinear\r\n",
      "\t  beta_schedule:\tlinear\r\n",
      "\t  epsilon_schedule:\tlinear\r\n",
      "\tcheckpoint_interval:\t500000\r\n",
      "\tnetwork_settings:\t\r\n",
      "\t  normalize:\tFalse\r\n",
      "\t  hidden_units:\t512\r\n",
      "\t  num_layers:\t2\r\n",
      "\t  vis_encode_type:\tsimple\r\n",
      "\t  memory:\tNone\r\n",
      "\t  goal_conditioning_type:\thyper\r\n",
      "\t  deterministic:\tFalse\r\n",
      "\treward_signals:\t\r\n",
      "\t  extrinsic:\t\r\n",
      "\t    gamma:\t0.99\r\n",
      "\t    strength:\t1.0\r\n",
      "\t    network_settings:\t\r\n",
      "\t      normalize:\tFalse\r\n",
      "\t      hidden_units:\t128\r\n",
      "\t      num_layers:\t2\r\n",
      "\t      vis_encode_type:\tsimple\r\n",
      "\t      memory:\tNone\r\n",
      "\t      goal_conditioning_type:\thyper\r\n",
      "\t      deterministic:\tFalse\r\n",
      "\t  rnd:\t\r\n",
      "\t    gamma:\t0.99\r\n",
      "\t    strength:\t0.01\r\n",
      "\t    network_settings:\t\r\n",
      "\t      normalize:\tFalse\r\n",
      "\t      hidden_units:\t64\r\n",
      "\t      num_layers:\t3\r\n",
      "\t      vis_encode_type:\tsimple\r\n",
      "\t      memory:\tNone\r\n",
      "\t      goal_conditioning_type:\thyper\r\n",
      "\t      deterministic:\tFalse\r\n",
      "\t    learning_rate:\t0.0001\r\n",
      "\t    encoding_size:\tNone\r\n",
      "\tinit_path:\tNone\r\n",
      "\tkeep_checkpoints:\t5\r\n",
      "\teven_checkpoints:\tFalse\r\n",
      "\tmax_steps:\t3000000\r\n",
      "\ttime_horizon:\t128\r\n",
      "\tsummary_freq:\t30000\r\n",
      "\tthreaded:\tFalse\r\n",
      "\tself_play:\tNone\r\n",
      "\tbehavioral_cloning:\tNone\r\n"
     ]
    },
    {
     "name": "stdout",
     "output_type": "stream",
     "text": [
      "[INFO] Pyramids. Step: 30000. Time Elapsed: 54.839 s. Mean Reward: -1.000. Std of Reward: 0.000. Training.\r\n"
     ]
    },
    {
     "name": "stdout",
     "output_type": "stream",
     "text": [
      "[INFO] Pyramids. Step: 60000. Time Elapsed: 112.203 s. Mean Reward: -0.790. Std of Reward: 0.687. Training.\r\n"
     ]
    },
    {
     "name": "stdout",
     "output_type": "stream",
     "text": [
      "[INFO] Pyramids. Step: 90000. Time Elapsed: 168.825 s. Mean Reward: -0.724. Std of Reward: 0.760. Training.\r\n"
     ]
    },
    {
     "name": "stdout",
     "output_type": "stream",
     "text": [
      "[INFO] Pyramids. Step: 120000. Time Elapsed: 223.699 s. Mean Reward: -0.818. Std of Reward: 0.691. Training.\r\n"
     ]
    },
    {
     "name": "stdout",
     "output_type": "stream",
     "text": [
      "[INFO] Pyramids. Step: 150000. Time Elapsed: 278.732 s. Mean Reward: -0.777. Std of Reward: 0.712. Training.\r\n"
     ]
    },
    {
     "name": "stdout",
     "output_type": "stream",
     "text": [
      "[INFO] Pyramids. Step: 180000. Time Elapsed: 334.313 s. Mean Reward: -0.764. Std of Reward: 0.721. Training.\r\n"
     ]
    },
    {
     "name": "stdout",
     "output_type": "stream",
     "text": [
      "[INFO] Pyramids. Step: 210000. Time Elapsed: 386.436 s. Mean Reward: -0.657. Std of Reward: 0.798. Training.\r\n"
     ]
    },
    {
     "name": "stdout",
     "output_type": "stream",
     "text": [
      "[INFO] Pyramids. Step: 240000. Time Elapsed: 442.799 s. Mean Reward: -0.291. Std of Reward: 1.108. Training.\r\n"
     ]
    },
    {
     "name": "stdout",
     "output_type": "stream",
     "text": [
      "[INFO] Pyramids. Step: 270000. Time Elapsed: 502.286 s. Mean Reward: -0.190. Std of Reward: 1.198. Training.\r\n"
     ]
    },
    {
     "name": "stdout",
     "output_type": "stream",
     "text": [
      "[INFO] Pyramids. Step: 300000. Time Elapsed: 562.262 s. Mean Reward: 0.110. Std of Reward: 1.185. Training.\r\n"
     ]
    },
    {
     "name": "stdout",
     "output_type": "stream",
     "text": [
      "[INFO] Pyramids. Step: 330000. Time Elapsed: 623.760 s. Mean Reward: 0.715. Std of Reward: 1.124. Training.\r\n"
     ]
    },
    {
     "name": "stdout",
     "output_type": "stream",
     "text": [
      "[INFO] Pyramids. Step: 360000. Time Elapsed: 682.485 s. Mean Reward: 0.767. Std of Reward: 1.130. Training.\r\n"
     ]
    },
    {
     "name": "stdout",
     "output_type": "stream",
     "text": [
      "[INFO] Pyramids. Step: 390000. Time Elapsed: 738.677 s. Mean Reward: 0.722. Std of Reward: 1.130. Training.\r\n"
     ]
    },
    {
     "name": "stdout",
     "output_type": "stream",
     "text": [
      "[INFO] Pyramids. Step: 420000. Time Elapsed: 796.751 s. Mean Reward: 1.021. Std of Reward: 0.987. Training.\r\n"
     ]
    },
    {
     "name": "stdout",
     "output_type": "stream",
     "text": [
      "[INFO] Pyramids. Step: 450000. Time Elapsed: 860.129 s. Mean Reward: 1.315. Std of Reward: 0.827. Training.\r\n"
     ]
    },
    {
     "name": "stdout",
     "output_type": "stream",
     "text": [
      "[INFO] Pyramids. Step: 480000. Time Elapsed: 921.101 s. Mean Reward: 1.278. Std of Reward: 0.747. Training.\r\n"
     ]
    },
    {
     "name": "stdout",
     "output_type": "stream",
     "text": [
      "[INFO] Exported results/Pyramids Training/Pyramids/Pyramids-499933.onnx\r\n"
     ]
    },
    {
     "name": "stdout",
     "output_type": "stream",
     "text": [
      "[INFO] Pyramids. Step: 510000. Time Elapsed: 984.308 s. Mean Reward: 1.482. Std of Reward: 0.564. Training.\r\n"
     ]
    },
    {
     "name": "stdout",
     "output_type": "stream",
     "text": [
      "[INFO] Pyramids. Step: 540000. Time Elapsed: 1050.088 s. Mean Reward: 1.421. Std of Reward: 0.708. Training.\r\n"
     ]
    },
    {
     "name": "stdout",
     "output_type": "stream",
     "text": [
      "[INFO] Pyramids. Step: 570000. Time Elapsed: 1113.845 s. Mean Reward: 1.504. Std of Reward: 0.604. Training.\r\n"
     ]
    },
    {
     "name": "stdout",
     "output_type": "stream",
     "text": [
      "[INFO] Pyramids. Step: 600000. Time Elapsed: 1175.393 s. Mean Reward: 1.525. Std of Reward: 0.563. Training.\r\n"
     ]
    },
    {
     "name": "stdout",
     "output_type": "stream",
     "text": [
      "[INFO] Pyramids. Step: 630000. Time Elapsed: 1239.476 s. Mean Reward: 1.344. Std of Reward: 0.820. Training.\r\n"
     ]
    },
    {
     "name": "stdout",
     "output_type": "stream",
     "text": [
      "[INFO] Pyramids. Step: 660000. Time Elapsed: 1301.619 s. Mean Reward: 1.411. Std of Reward: 0.762. Training.\r\n"
     ]
    },
    {
     "name": "stdout",
     "output_type": "stream",
     "text": [
      "[INFO] Pyramids. Step: 690000. Time Elapsed: 1368.951 s. Mean Reward: 1.548. Std of Reward: 0.594. Training.\r\n"
     ]
    },
    {
     "name": "stdout",
     "output_type": "stream",
     "text": [
      "[INFO] Pyramids. Step: 720000. Time Elapsed: 1436.967 s. Mean Reward: 1.650. Std of Reward: 0.411. Training.\r\n"
     ]
    },
    {
     "name": "stdout",
     "output_type": "stream",
     "text": [
      "[INFO] Pyramids. Step: 750000. Time Elapsed: 1503.728 s. Mean Reward: 1.626. Std of Reward: 0.429. Training.\r\n"
     ]
    },
    {
     "name": "stdout",
     "output_type": "stream",
     "text": [
      "[INFO] Pyramids. Step: 780000. Time Elapsed: 1573.340 s. Mean Reward: 1.682. Std of Reward: 0.315. Training.\r\n"
     ]
    },
    {
     "name": "stdout",
     "output_type": "stream",
     "text": [
      "[INFO] Pyramids. Step: 810000. Time Elapsed: 1643.813 s. Mean Reward: 1.627. Std of Reward: 0.501. Training.\r\n"
     ]
    },
    {
     "name": "stdout",
     "output_type": "stream",
     "text": [
      "[INFO] Pyramids. Step: 840000. Time Elapsed: 1713.986 s. Mean Reward: 1.700. Std of Reward: 0.316. Training.\r\n"
     ]
    },
    {
     "name": "stdout",
     "output_type": "stream",
     "text": [
      "[INFO] Pyramids. Step: 870000. Time Elapsed: 1783.304 s. Mean Reward: 1.587. Std of Reward: 0.568. Training.\r\n"
     ]
    },
    {
     "name": "stdout",
     "output_type": "stream",
     "text": [
      "[INFO] Pyramids. Step: 900000. Time Elapsed: 1855.313 s. Mean Reward: 1.673. Std of Reward: 0.400. Training.\r\n"
     ]
    },
    {
     "name": "stdout",
     "output_type": "stream",
     "text": [
      "[INFO] Pyramids. Step: 930000. Time Elapsed: 1922.756 s. Mean Reward: 1.686. Std of Reward: 0.323. Training.\r\n"
     ]
    },
    {
     "name": "stdout",
     "output_type": "stream",
     "text": [
      "[INFO] Pyramids. Step: 960000. Time Elapsed: 1993.496 s. Mean Reward: 1.671. Std of Reward: 0.401. Training.\r\n"
     ]
    },
    {
     "name": "stdout",
     "output_type": "stream",
     "text": [
      "[INFO] Pyramids. Step: 990000. Time Elapsed: 2062.674 s. Mean Reward: 1.682. Std of Reward: 0.323. Training.\r\n"
     ]
    },
    {
     "name": "stdout",
     "output_type": "stream",
     "text": [
      "[INFO] Exported results/Pyramids Training/Pyramids/Pyramids-999992.onnx\r\n"
     ]
    },
    {
     "name": "stdout",
     "output_type": "stream",
     "text": [
      "[INFO] Pyramids. Step: 1020000. Time Elapsed: 2131.443 s. Mean Reward: 1.654. Std of Reward: 0.476. Training.\r\n"
     ]
    },
    {
     "name": "stdout",
     "output_type": "stream",
     "text": [
      "[INFO] Pyramids. Step: 1050000. Time Elapsed: 2200.729 s. Mean Reward: 1.632. Std of Reward: 0.549. Training.\r\n"
     ]
    },
    {
     "name": "stdout",
     "output_type": "stream",
     "text": [
      "[INFO] Pyramids. Step: 1080000. Time Elapsed: 2270.252 s. Mean Reward: 1.591. Std of Reward: 0.611. Training.\r\n"
     ]
    },
    {
     "name": "stdout",
     "output_type": "stream",
     "text": [
      "[INFO] Pyramids. Step: 1110000. Time Elapsed: 2339.904 s. Mean Reward: 1.670. Std of Reward: 0.329. Training.\r\n"
     ]
    },
    {
     "name": "stdout",
     "output_type": "stream",
     "text": [
      "[INFO] Pyramids. Step: 1140000. Time Elapsed: 2409.770 s. Mean Reward: 1.696. Std of Reward: 0.320. Training.\r\n"
     ]
    },
    {
     "name": "stdout",
     "output_type": "stream",
     "text": [
      "[INFO] Pyramids. Step: 1170000. Time Elapsed: 2478.705 s. Mean Reward: 1.639. Std of Reward: 0.422. Training.\r\n"
     ]
    },
    {
     "name": "stdout",
     "output_type": "stream",
     "text": [
      "[INFO] Pyramids. Step: 1200000. Time Elapsed: 2548.817 s. Mean Reward: 1.694. Std of Reward: 0.163. Training.\r\n"
     ]
    },
    {
     "name": "stdout",
     "output_type": "stream",
     "text": [
      "[INFO] Pyramids. Step: 1230000. Time Elapsed: 2616.450 s. Mean Reward: 1.649. Std of Reward: 0.346. Training.\r\n"
     ]
    },
    {
     "name": "stdout",
     "output_type": "stream",
     "text": [
      "[INFO] Pyramids. Step: 1260000. Time Elapsed: 2685.911 s. Mean Reward: 1.689. Std of Reward: 0.401. Training.\r\n"
     ]
    },
    {
     "name": "stdout",
     "output_type": "stream",
     "text": [
      "[INFO] Pyramids. Step: 1290000. Time Elapsed: 2759.798 s. Mean Reward: 1.715. Std of Reward: 0.289. Training.\r\n"
     ]
    },
    {
     "name": "stdout",
     "output_type": "stream",
     "text": [
      "[INFO] Pyramids. Step: 1320000. Time Elapsed: 2830.776 s. Mean Reward: 1.732. Std of Reward: 0.292. Training.\r\n"
     ]
    },
    {
     "name": "stdout",
     "output_type": "stream",
     "text": [
      "[INFO] Pyramids. Step: 1350000. Time Elapsed: 2902.340 s. Mean Reward: 1.735. Std of Reward: 0.286. Training.\r\n"
     ]
    },
    {
     "name": "stdout",
     "output_type": "stream",
     "text": [
      "[INFO] Pyramids. Step: 1380000. Time Elapsed: 2974.464 s. Mean Reward: 1.733. Std of Reward: 0.290. Training.\r\n"
     ]
    },
    {
     "name": "stdout",
     "output_type": "stream",
     "text": [
      "[INFO] Pyramids. Step: 1410000. Time Elapsed: 3048.709 s. Mean Reward: 1.712. Std of Reward: 0.376. Training.\r\n"
     ]
    },
    {
     "name": "stdout",
     "output_type": "stream",
     "text": [
      "[INFO] Pyramids. Step: 1440000. Time Elapsed: 3120.125 s. Mean Reward: 1.739. Std of Reward: 0.292. Training.\r\n"
     ]
    },
    {
     "name": "stdout",
     "output_type": "stream",
     "text": [
      "[INFO] Pyramids. Step: 1470000. Time Elapsed: 3194.766 s. Mean Reward: 1.664. Std of Reward: 0.519. Training.\r\n"
     ]
    },
    {
     "name": "stdout",
     "output_type": "stream",
     "text": [
      "[INFO] Pyramids. Step: 1500000. Time Elapsed: 3271.976 s. Mean Reward: 1.734. Std of Reward: 0.288. Training.\r\n"
     ]
    },
    {
     "name": "stdout",
     "output_type": "stream",
     "text": [
      "[INFO] Exported results/Pyramids Training/Pyramids/Pyramids-1499974.onnx\r\n"
     ]
    },
    {
     "name": "stdout",
     "output_type": "stream",
     "text": [
      "[INFO] Pyramids. Step: 1530000. Time Elapsed: 3348.518 s. Mean Reward: 1.755. Std of Reward: 0.138. Training.\r\n"
     ]
    },
    {
     "name": "stdout",
     "output_type": "stream",
     "text": [
      "[INFO] Pyramids. Step: 1560000. Time Elapsed: 3428.076 s. Mean Reward: 1.753. Std of Reward: 0.272. Training.\r\n"
     ]
    },
    {
     "name": "stdout",
     "output_type": "stream",
     "text": [
      "[INFO] Pyramids. Step: 1590000. Time Elapsed: 3499.725 s. Mean Reward: 1.595. Std of Reward: 0.657. Training.\r\n"
     ]
    },
    {
     "name": "stdout",
     "output_type": "stream",
     "text": [
      "[INFO] Pyramids. Step: 1620000. Time Elapsed: 3574.987 s. Mean Reward: 1.738. Std of Reward: 0.278. Training.\r\n"
     ]
    },
    {
     "name": "stdout",
     "output_type": "stream",
     "text": [
      "[INFO] Pyramids. Step: 1650000. Time Elapsed: 3648.901 s. Mean Reward: 1.752. Std of Reward: 0.139. Training.\r\n"
     ]
    },
    {
     "name": "stdout",
     "output_type": "stream",
     "text": [
      "[INFO] Pyramids. Step: 1680000. Time Elapsed: 3725.071 s. Mean Reward: 1.722. Std of Reward: 0.368. Training.\r\n"
     ]
    },
    {
     "name": "stdout",
     "output_type": "stream",
     "text": [
      "[INFO] Pyramids. Step: 1710000. Time Elapsed: 3798.664 s. Mean Reward: 1.746. Std of Reward: 0.281. Training.\r\n"
     ]
    },
    {
     "name": "stdout",
     "output_type": "stream",
     "text": [
      "[INFO] Pyramids. Step: 1740000. Time Elapsed: 3870.711 s. Mean Reward: 1.736. Std of Reward: 0.284. Training.\r\n"
     ]
    },
    {
     "name": "stdout",
     "output_type": "stream",
     "text": [
      "[INFO] Pyramids. Step: 1770000. Time Elapsed: 3945.441 s. Mean Reward: 1.777. Std of Reward: 0.111. Training.\r\n"
     ]
    },
    {
     "name": "stdout",
     "output_type": "stream",
     "text": [
      "[INFO] Pyramids. Step: 1800000. Time Elapsed: 4019.613 s. Mean Reward: 1.720. Std of Reward: 0.291. Training.\r\n"
     ]
    },
    {
     "name": "stdout",
     "output_type": "stream",
     "text": [
      "[INFO] Pyramids. Step: 1830000. Time Elapsed: 4092.460 s. Mean Reward: 1.729. Std of Reward: 0.385. Training.\r\n"
     ]
    },
    {
     "name": "stdout",
     "output_type": "stream",
     "text": [
      "[INFO] Pyramids. Step: 1860000. Time Elapsed: 4169.294 s. Mean Reward: 1.708. Std of Reward: 0.432. Training.\r\n"
     ]
    },
    {
     "name": "stdout",
     "output_type": "stream",
     "text": [
      "[INFO] Pyramids. Step: 1890000. Time Elapsed: 4244.193 s. Mean Reward: 1.724. Std of Reward: 0.443. Training.\r\n"
     ]
    },
    {
     "name": "stdout",
     "output_type": "stream",
     "text": [
      "[INFO] Pyramids. Step: 1920000. Time Elapsed: 4316.780 s. Mean Reward: 1.667. Std of Reward: 0.474. Training.\r\n"
     ]
    },
    {
     "name": "stdout",
     "output_type": "stream",
     "text": [
      "[INFO] Pyramids. Step: 1950000. Time Elapsed: 4392.670 s. Mean Reward: 1.738. Std of Reward: 0.279. Training.\r\n"
     ]
    },
    {
     "name": "stdout",
     "output_type": "stream",
     "text": [
      "[INFO] Pyramids. Step: 1980000. Time Elapsed: 4467.624 s. Mean Reward: 1.732. Std of Reward: 0.294. Training.\r\n"
     ]
    },
    {
     "name": "stdout",
     "output_type": "stream",
     "text": [
      "[INFO] Exported results/Pyramids Training/Pyramids/Pyramids-1999977.onnx\r\n"
     ]
    },
    {
     "name": "stdout",
     "output_type": "stream",
     "text": [
      "[INFO] Pyramids. Step: 2010000. Time Elapsed: 4541.805 s. Mean Reward: 1.697. Std of Reward: 0.451. Training.\r\n"
     ]
    },
    {
     "name": "stdout",
     "output_type": "stream",
     "text": [
      "[INFO] Pyramids. Step: 2040000. Time Elapsed: 4613.731 s. Mean Reward: 1.748. Std of Reward: 0.158. Training.\r\n"
     ]
    },
    {
     "name": "stdout",
     "output_type": "stream",
     "text": [
      "[INFO] Pyramids. Step: 2070000. Time Elapsed: 4686.391 s. Mean Reward: 1.738. Std of Reward: 0.361. Training.\r\n"
     ]
    },
    {
     "name": "stdout",
     "output_type": "stream",
     "text": [
      "[INFO] Pyramids. Step: 2100000. Time Elapsed: 4763.659 s. Mean Reward: 1.771. Std of Reward: 0.259. Training.\r\n"
     ]
    },
    {
     "name": "stdout",
     "output_type": "stream",
     "text": [
      "[INFO] Pyramids. Step: 2130000. Time Elapsed: 4840.970 s. Mean Reward: 1.726. Std of Reward: 0.419. Training.\r\n"
     ]
    },
    {
     "name": "stdout",
     "output_type": "stream",
     "text": [
      "[INFO] Pyramids. Step: 2160000. Time Elapsed: 4918.918 s. Mean Reward: 1.758. Std of Reward: 0.272. Training.\r\n"
     ]
    },
    {
     "name": "stdout",
     "output_type": "stream",
     "text": [
      "[INFO] Pyramids. Step: 2190000. Time Elapsed: 4993.569 s. Mean Reward: 1.740. Std of Reward: 0.364. Training.\r\n"
     ]
    },
    {
     "name": "stdout",
     "output_type": "stream",
     "text": [
      "[INFO] Pyramids. Step: 2220000. Time Elapsed: 5069.605 s. Mean Reward: 1.779. Std of Reward: 0.255. Training.\r\n"
     ]
    },
    {
     "name": "stdout",
     "output_type": "stream",
     "text": [
      "[INFO] Pyramids. Step: 2250000. Time Elapsed: 5143.598 s. Mean Reward: 1.776. Std of Reward: 0.256. Training.\r\n"
     ]
    },
    {
     "name": "stdout",
     "output_type": "stream",
     "text": [
      "[INFO] Pyramids. Step: 2280000. Time Elapsed: 5217.128 s. Mean Reward: 1.717. Std of Reward: 0.382. Training.\r\n"
     ]
    },
    {
     "name": "stdout",
     "output_type": "stream",
     "text": [
      "[INFO] Pyramids. Step: 2310000. Time Elapsed: 5290.989 s. Mean Reward: 1.730. Std of Reward: 0.371. Training.\r\n"
     ]
    },
    {
     "name": "stdout",
     "output_type": "stream",
     "text": [
      "[INFO] Pyramids. Step: 2340000. Time Elapsed: 5364.866 s. Mean Reward: 1.756. Std of Reward: 0.353. Training.\r\n"
     ]
    },
    {
     "name": "stdout",
     "output_type": "stream",
     "text": [
      "[INFO] Pyramids. Step: 2370000. Time Elapsed: 5439.532 s. Mean Reward: 1.709. Std of Reward: 0.441. Training.\r\n"
     ]
    },
    {
     "name": "stdout",
     "output_type": "stream",
     "text": [
      "[INFO] Pyramids. Step: 2400000. Time Elapsed: 5513.988 s. Mean Reward: 1.796. Std of Reward: 0.114. Training.\r\n"
     ]
    },
    {
     "name": "stdout",
     "output_type": "stream",
     "text": [
      "[INFO] Pyramids. Step: 2430000. Time Elapsed: 5588.474 s. Mean Reward: 1.770. Std of Reward: 0.265. Training.\r\n"
     ]
    },
    {
     "name": "stdout",
     "output_type": "stream",
     "text": [
      "[INFO] Pyramids. Step: 2460000. Time Elapsed: 5662.854 s. Mean Reward: 1.741. Std of Reward: 0.368. Training.\r\n"
     ]
    },
    {
     "name": "stdout",
     "output_type": "stream",
     "text": [
      "[INFO] Pyramids. Step: 2490000. Time Elapsed: 5735.318 s. Mean Reward: 1.744. Std of Reward: 0.415. Training.\r\n"
     ]
    },
    {
     "name": "stdout",
     "output_type": "stream",
     "text": [
      "[INFO] Exported results/Pyramids Training/Pyramids/Pyramids-2499948.onnx\r\n"
     ]
    },
    {
     "name": "stdout",
     "output_type": "stream",
     "text": [
      "[INFO] Pyramids. Step: 2520000. Time Elapsed: 5809.473 s. Mean Reward: 1.760. Std of Reward: 0.275. Training.\r\n"
     ]
    },
    {
     "name": "stdout",
     "output_type": "stream",
     "text": [
      "[INFO] Pyramids. Step: 2550000. Time Elapsed: 5882.694 s. Mean Reward: 1.791. Std of Reward: 0.119. Training.\r\n"
     ]
    },
    {
     "name": "stdout",
     "output_type": "stream",
     "text": [
      "[INFO] Pyramids. Step: 2580000. Time Elapsed: 5957.299 s. Mean Reward: 1.761. Std of Reward: 0.270. Training.\r\n"
     ]
    },
    {
     "name": "stdout",
     "output_type": "stream",
     "text": [
      "[INFO] Pyramids. Step: 2610000. Time Elapsed: 6030.530 s. Mean Reward: 1.792. Std of Reward: 0.135. Training.\r\n"
     ]
    },
    {
     "name": "stdout",
     "output_type": "stream",
     "text": [
      "[INFO] Pyramids. Step: 2640000. Time Elapsed: 6104.800 s. Mean Reward: 1.793. Std of Reward: 0.130. Training.\r\n"
     ]
    },
    {
     "name": "stdout",
     "output_type": "stream",
     "text": [
      "[INFO] Pyramids. Step: 2670000. Time Elapsed: 6175.188 s. Mean Reward: 1.713. Std of Reward: 0.443. Training.\r\n"
     ]
    },
    {
     "name": "stdout",
     "output_type": "stream",
     "text": [
      "[INFO] Pyramids. Step: 2700000. Time Elapsed: 6250.940 s. Mean Reward: 1.759. Std of Reward: 0.261. Training.\r\n"
     ]
    },
    {
     "name": "stdout",
     "output_type": "stream",
     "text": [
      "[INFO] Pyramids. Step: 2730000. Time Elapsed: 6322.377 s. Mean Reward: 1.746. Std of Reward: 0.370. Training.\r\n"
     ]
    },
    {
     "name": "stdout",
     "output_type": "stream",
     "text": [
      "[INFO] Pyramids. Step: 2760000. Time Elapsed: 6397.112 s. Mean Reward: 1.727. Std of Reward: 0.371. Training.\r\n"
     ]
    },
    {
     "name": "stdout",
     "output_type": "stream",
     "text": [
      "[INFO] Pyramids. Step: 2790000. Time Elapsed: 6469.351 s. Mean Reward: 1.754. Std of Reward: 0.350. Training.\r\n"
     ]
    },
    {
     "name": "stdout",
     "output_type": "stream",
     "text": [
      "[INFO] Pyramids. Step: 2820000. Time Elapsed: 6539.714 s. Mean Reward: 1.726. Std of Reward: 0.292. Training.\r\n"
     ]
    },
    {
     "name": "stdout",
     "output_type": "stream",
     "text": [
      "[INFO] Pyramids. Step: 2850000. Time Elapsed: 6615.244 s. Mean Reward: 1.781. Std of Reward: 0.125. Training.\r\n"
     ]
    },
    {
     "name": "stdout",
     "output_type": "stream",
     "text": [
      "[INFO] Pyramids. Step: 2880000. Time Elapsed: 6687.030 s. Mean Reward: 1.732. Std of Reward: 0.366. Training.\r\n"
     ]
    },
    {
     "name": "stdout",
     "output_type": "stream",
     "text": [
      "[INFO] Pyramids. Step: 2910000. Time Elapsed: 6761.281 s. Mean Reward: 1.748. Std of Reward: 0.352. Training.\r\n"
     ]
    },
    {
     "name": "stdout",
     "output_type": "stream",
     "text": [
      "[INFO] Pyramids. Step: 2940000. Time Elapsed: 6835.067 s. Mean Reward: 1.771. Std of Reward: 0.257. Training.\r\n"
     ]
    },
    {
     "name": "stdout",
     "output_type": "stream",
     "text": [
      "[INFO] Pyramids. Step: 2970000. Time Elapsed: 6908.746 s. Mean Reward: 1.778. Std of Reward: 0.257. Training.\r\n"
     ]
    },
    {
     "name": "stdout",
     "output_type": "stream",
     "text": [
      "[INFO] Pyramids. Step: 3000000. Time Elapsed: 6982.733 s. Mean Reward: 1.740. Std of Reward: 0.362. Training.\r\n"
     ]
    },
    {
     "name": "stdout",
     "output_type": "stream",
     "text": [
      "[INFO] Exported results/Pyramids Training/Pyramids/Pyramids-2999979.onnx\r\n"
     ]
    },
    {
     "name": "stdout",
     "output_type": "stream",
     "text": [
      "[INFO] Exported results/Pyramids Training/Pyramids/Pyramids-3000107.onnx\r\n",
      "[INFO] Copied results/Pyramids Training/Pyramids/Pyramids-3000107.onnx to results/Pyramids Training/Pyramids.onnx.\r\n"
     ]
    }
   ],
   "source": [
    "! python ml-agents/mlagents/trainers/learn.py ./config/ppo/PyramidsRND.yaml --env=./training-envs-executables/linux/Pyramids/Pyramids --run-id=\"Pyramids Training\" --no-graphics --force"
   ]
  },
  {
   "cell_type": "code",
   "execution_count": 14,
   "id": "8c5677ae",
   "metadata": {
    "execution": {
     "iopub.execute_input": "2023-04-06T21:36:35.947310Z",
     "iopub.status.busy": "2023-04-06T21:36:35.946978Z",
     "iopub.status.idle": "2023-04-06T21:36:36.341481Z",
     "shell.execute_reply": "2023-04-06T21:36:36.340397Z"
    },
    "papermill": {
     "duration": 0.408847,
     "end_time": "2023-04-06T21:36:36.344504",
     "exception": false,
     "start_time": "2023-04-06T21:36:35.935657",
     "status": "completed"
    },
    "tags": []
   },
   "outputs": [],
   "source": [
    "from huggingface_hub import HfApi, snapshot_download\n",
    "from huggingface_hub.repocard import metadata_eval_result, metadata_save\n",
    "\n",
    "from pathlib import Path\n",
    "import datetime\n",
    "import json\n",
    "import imageio\n",
    "\n",
    "import tempfile\n",
    "\n",
    "import os"
   ]
  },
  {
   "cell_type": "code",
   "execution_count": 15,
   "id": "f6e211e5",
   "metadata": {
    "execution": {
     "iopub.execute_input": "2023-04-06T21:36:36.367490Z",
     "iopub.status.busy": "2023-04-06T21:36:36.367136Z",
     "iopub.status.idle": "2023-04-06T21:36:36.531029Z",
     "shell.execute_reply": "2023-04-06T21:36:36.529946Z"
    },
    "papermill": {
     "duration": 0.178173,
     "end_time": "2023-04-06T21:36:36.533602",
     "exception": false,
     "start_time": "2023-04-06T21:36:36.355429",
     "status": "completed"
    },
    "tags": []
   },
   "outputs": [],
   "source": [
    "from kaggle_secrets import UserSecretsClient\n",
    "user_secrets = UserSecretsClient()\n",
    "hf_token = user_secrets.get_secret(\"huggingface_rl_course\")"
   ]
  },
  {
   "cell_type": "code",
   "execution_count": 16,
   "id": "e1e2a416",
   "metadata": {
    "execution": {
     "iopub.execute_input": "2023-04-06T21:36:36.555410Z",
     "iopub.status.busy": "2023-04-06T21:36:36.555070Z",
     "iopub.status.idle": "2023-04-06T21:36:36.713216Z",
     "shell.execute_reply": "2023-04-06T21:36:36.711641Z"
    },
    "papermill": {
     "duration": 0.17163,
     "end_time": "2023-04-06T21:36:36.715639",
     "exception": false,
     "start_time": "2023-04-06T21:36:36.544009",
     "status": "completed"
    },
    "tags": []
   },
   "outputs": [
    {
     "name": "stdout",
     "output_type": "stream",
     "text": [
      "Token will not been saved to git credential helper. Pass `add_to_git_credential=True` if you want to set the git credential as well.\n",
      "Token is valid.\n",
      "Your token has been saved to /root/.cache/huggingface/token\n",
      "Login successful\n"
     ]
    }
   ],
   "source": [
    "from huggingface_hub import login\n",
    "login(hf_token)"
   ]
  },
  {
   "cell_type": "code",
   "execution_count": 17,
   "id": "23716bd7",
   "metadata": {
    "execution": {
     "iopub.execute_input": "2023-04-06T21:36:36.803472Z",
     "iopub.status.busy": "2023-04-06T21:36:36.803084Z",
     "iopub.status.idle": "2023-04-06T21:36:52.520374Z",
     "shell.execute_reply": "2023-04-06T21:36:52.519121Z"
    },
    "papermill": {
     "duration": 15.73148,
     "end_time": "2023-04-06T21:36:52.523202",
     "exception": false,
     "start_time": "2023-04-06T21:36:36.791722",
     "status": "completed"
    },
    "tags": []
   },
   "outputs": [
    {
     "name": "stdout",
     "output_type": "stream",
     "text": [
      "Cloning https://huggingface.co/bsenst/ppo-Pyramids into local empty directory.\r\n",
      "WARNING:huggingface_hub.repository:Cloning https://huggingface.co/bsenst/ppo-Pyramids into local empty directory.\r\n"
     ]
    },
    {
     "name": "stdout",
     "output_type": "stream",
     "text": [
      "\r",
      "Download file Pyramids/Pyramids-22144.pt:   0%|    | 8.00k/8.25M [00:00<?, ?B/s]\r\n",
      "\r",
      "Download file Pyramids/events.out.tfevents.1680809479.538c53bac510.1399.0: 100%|\u001b[A\r\n",
      "\r\n",
      "\r",
      "Clean file Pyramids/events.out.tfevents.1680809479.538c53bac510.1399.0:  72%|▋| \u001b[A\u001b[A\r\n",
      "\r\n",
      "\r\n",
      "\r",
      "Download file Pyramids/Pyramids-22144.onnx:   1%|  | 9.37k/1.35M [00:00<?, ?B/s]\u001b[A\u001b[A\u001b[A\r\n",
      "\r\n",
      "\r\n",
      "\r\n",
      "\r",
      "Download file Pyramids.onnx:   1%|▏                | 15.4k/1.35M [00:00<?, ?B/s]\u001b[A\u001b[A\u001b[A\u001b[A\r\n",
      "\r\n",
      "\r\n",
      "\r\n",
      "\r\n",
      "\r",
      "Download file Pyramids/Pyramids-2048.pt:   1%|     | 17.4k/2.86M [00:00<?, ?B/s]\u001b[A\u001b[A\u001b[A\u001b[A\u001b[A\r\n",
      "\r\n",
      "\r\n",
      "\r\n",
      "\r\n",
      "\r\n",
      "\r",
      "Clean file Pyramids/Pyramids-22144.onnx:   0%|     | 1.00k/1.35M [00:00<?, ?B/s]\u001b[A\u001b[A\u001b[A\u001b[A\u001b[A\u001b[A"
     ]
    },
    {
     "name": "stdout",
     "output_type": "stream",
     "text": [
      "\r",
      "Download file Pyramids/Pyramids-22144.pt:  42%|▍| 3.46M/8.25M [00:01<00:01, 3.60\r\n",
      "\r\n",
      "\r\n",
      "\r\n",
      "\r\n",
      "\r",
      "Download file Pyramids/Pyramids-2048.pt:  48%|▍| 1.36M/2.86M [00:01<00:01, 1.41M\u001b[A\u001b[A\u001b[A\u001b[A\u001b[A\r\n",
      "\r\n",
      "\r\n",
      "\r\n",
      "\r\n",
      "\r\n",
      "\r",
      "Clean file Pyramids/Pyramids-22144.onnx:  16%|▏| 225k/1.35M [00:01<00:05, 229kB/\u001b[A\u001b[A\u001b[A\u001b[A\u001b[A\u001b[A\r\n",
      "\r\n",
      "\r\n",
      "\r\n",
      "\r\n",
      "\r\n",
      "\r\n",
      "\r",
      "Clean file Pyramids.onnx:   0%|                    | 1.00k/1.35M [00:00<?, ?B/s]\u001b[A\u001b[A\u001b[A\u001b[A\u001b[A\u001b[A\u001b[A\r\n",
      "\r\n",
      "\r\n",
      "\r\n",
      "\r\n",
      "\r\n",
      "\r\n",
      "\r\n",
      "\r",
      "Clean file Pyramids/Pyramids-2048.onnx:   0%|      | 1.00k/1.35M [00:00<?, ?B/s]\u001b[A\u001b[A\u001b[A\u001b[A\u001b[A\u001b[A\u001b[A\u001b[A"
     ]
    },
    {
     "name": "stdout",
     "output_type": "stream",
     "text": [
      "\r\n",
      "\r\n",
      "\r\n",
      "\r\n",
      "\r\n",
      "\r\n",
      "\r\n",
      "\r\n",
      "\r",
      "Clean file Pyramids/Pyramids-2048.onnx:  79%|▊| 1.06M/1.35M [00:01<00:00, 1.11MB\u001b[A\u001b[A\u001b[A\u001b[A\u001b[A\u001b[A\u001b[A\u001b[A\r",
      "Download file Pyramids/Pyramids-22144.pt:  87%|▊| 7.15M/8.25M [00:02<00:00, 3.75\r\n",
      "\r\n",
      "\r\n",
      "\r\n",
      "\r\n",
      "\r\n",
      "\r\n",
      "\r\n",
      "\r\n",
      "\r",
      "Clean file Pyramids/Pyramids-2048.pt:   0%|        | 1.00k/2.86M [00:00<?, ?B/s]\u001b[A\u001b[A\u001b[A\u001b[A\u001b[A\u001b[A\u001b[A\u001b[A\u001b[A\r\n",
      "\r\n",
      "\r\n",
      "\r\n",
      "\r\n",
      "\r\n",
      "\r\n",
      "\r\n",
      "\r\n",
      "\r\n",
      "\r",
      "Clean file Pyramids/checkpoint.pt:   0%|           | 1.00k/2.86M [00:00<?, ?B/s]\u001b[A\u001b[A\u001b[A\u001b[A\u001b[A\u001b[A\u001b[A\u001b[A\u001b[A\u001b[A"
     ]
    },
    {
     "name": "stdout",
     "output_type": "stream",
     "text": [
      "\r\n",
      "\r\n",
      "\r\n",
      "\r\n",
      "\r\n",
      "\r\n",
      "\r\n",
      "\r\n",
      "\r\n",
      "\r\n",
      "\r",
      "Clean file Pyramids/checkpoint.pt:  88%|██▋| 2.50M/2.86M [00:01<00:00, 2.62MB/s]\u001b[A\u001b[A\u001b[A\u001b[A\u001b[A\u001b[A\u001b[A\u001b[A\u001b[A\u001b[A\r\n",
      "\r\n",
      "\r\n",
      "\r\n",
      "\r\n",
      "\r\n",
      "\r\n",
      "\r\n",
      "\r\n",
      "\r\n",
      "\r\n",
      "\r",
      "Clean file Pyramids/Pyramids-22144.pt:   0%|       | 1.00k/8.25M [00:00<?, ?B/s]\u001b[A\u001b[A\u001b[A\u001b[A\u001b[A\u001b[A\u001b[A\u001b[A\u001b[A\u001b[A\u001b[A"
     ]
    },
    {
     "name": "stdout",
     "output_type": "stream",
     "text": [
      "\r",
      "Download file Pyramids/Pyramids-22144.pt: 100%|█| 8.25M/8.25M [00:04<00:00, 1.76\r",
      "Download file Pyramids/Pyramids-22144.pt: 100%|█| 8.25M/8.25M [00:04<00:00, 1.76\r",
      "Download file Pyramids/Pyramids-22144.pt: 100%|█| 8.25M/8.25M [00:04<00:00, 2.15\r\n",
      "\r\n",
      "\r",
      "Download file Pyramids/events.out.tfevents.1680809479.538c53bac510.1399.0: 100%|\u001b[A\r\n",
      "\r",
      "Download file Pyramids/events.out.tfevents.1680809479.538c53bac510.1399.0: 100%|\u001b[A\r",
      "Download file Pyramids/events.out.tfevents.1680809479.538c53bac510.1399.0: 100%|\r\n",
      "\r\n",
      "\r\n",
      "\r",
      "Clean file Pyramids/events.out.tfevents.1680809479.538c53bac510.1399.0: 100%|█| \u001b[A\u001b[A\r\n",
      "\r\n",
      "\r",
      "Clean file Pyramids/events.out.tfevents.1680809479.538c53bac510.1399.0: 100%|█| \u001b[A\u001b[A\r",
      "Clean file Pyramids/events.out.tfevents.1680809479.538c53bac510.1399.0: 100%|█| \r\n",
      "\r\n",
      "\r\n",
      "\r\n",
      "\r",
      "Download file Pyramids/Pyramids-22144.onnx: 100%|█| 1.35M/1.35M [00:04<00:00, 35\u001b[A\u001b[A\u001b[A\r\n",
      "\r\n",
      "\r\n",
      "\r",
      "Download file Pyramids/Pyramids-22144.onnx: 100%|█| 1.35M/1.35M [00:04<00:00, 35\u001b[A\u001b[A\u001b[A\r",
      "Download file Pyramids/Pyramids-22144.onnx: 100%|█| 1.35M/1.35M [00:04<00:00, 35\r\n",
      "\r\n",
      "\r\n",
      "\r\n",
      "\r\n",
      "\r",
      "Download file Pyramids.onnx: 100%|██████████| 1.35M/1.35M [00:04<00:00, 349kB/s]\u001b[A\u001b[A\u001b[A\u001b[A\r\n",
      "\r\n",
      "\r\n",
      "\r\n",
      "\r",
      "Download file Pyramids.onnx: 100%|██████████| 1.35M/1.35M [00:04<00:00, 349kB/s]\u001b[A\u001b[A\u001b[A\u001b[A\r",
      "Download file Pyramids.onnx: 100%|██████████| 1.35M/1.35M [00:04<00:00, 349kB/s]\r\n",
      "\r\n",
      "\r\n",
      "\r\n",
      "\r\n",
      "\r\n",
      "\r",
      "Download file Pyramids/Pyramids-2048.pt: 100%|█| 2.86M/2.86M [00:04<00:00, 687kB\u001b[A\u001b[A\u001b[A\u001b[A\u001b[A\r\n",
      "\r\n",
      "\r\n",
      "\r\n",
      "\r\n",
      "\r",
      "Download file Pyramids/Pyramids-2048.pt: 100%|█| 2.86M/2.86M [00:04<00:00, 687kB\u001b[A\u001b[A\u001b[A\u001b[A\u001b[A\r",
      "Download file Pyramids/Pyramids-2048.pt: 100%|█| 2.86M/2.86M [00:04<00:00, 741kB\r\n",
      "\r\n",
      "\r\n",
      "\r\n",
      "\r\n",
      "\r\n",
      "\r\n",
      "\r",
      "Clean file Pyramids/Pyramids-22144.onnx: 100%|█| 1.35M/1.35M [00:04<00:00, 363kB\u001b[A\u001b[A\u001b[A\u001b[A\u001b[A\u001b[A\r\n",
      "\r\n",
      "\r\n",
      "\r\n",
      "\r\n",
      "\r\n",
      "\r",
      "Clean file Pyramids/Pyramids-22144.onnx: 100%|█| 1.35M/1.35M [00:04<00:00, 363kB\u001b[A\u001b[A\u001b[A\u001b[A\u001b[A\u001b[A\r",
      "Clean file Pyramids/Pyramids-22144.onnx: 100%|█| 1.35M/1.35M [00:04<00:00, 353kB\r\n",
      "\r\n",
      "\r\n",
      "\r\n",
      "\r\n",
      "\r\n",
      "\r\n",
      "\r\n",
      "\r",
      "Clean file Pyramids.onnx: 100%|█████████████| 1.35M/1.35M [00:03<00:00, 470kB/s]\u001b[A\u001b[A\u001b[A\u001b[A\u001b[A\u001b[A\u001b[A\r\n",
      "\r\n",
      "\r\n",
      "\r\n",
      "\r\n",
      "\r\n",
      "\r\n",
      "\r",
      "Clean file Pyramids.onnx: 100%|█████████████| 1.35M/1.35M [00:03<00:00, 470kB/s]\u001b[A\u001b[A\u001b[A\u001b[A\u001b[A\u001b[A\u001b[A\r",
      "Clean file Pyramids.onnx: 100%|█████████████| 1.35M/1.35M [00:03<00:00, 470kB/s]\r\n",
      "\r\n",
      "\r\n",
      "\r\n",
      "\r\n",
      "\r\n",
      "\r\n",
      "\r\n",
      "\r\n",
      "\r",
      "Clean file Pyramids/Pyramids-2048.onnx: 100%|█| 1.35M/1.35M [00:03<00:00, 399kB/\u001b[A\u001b[A\u001b[A\u001b[A\u001b[A\u001b[A\u001b[A\u001b[A\r\n",
      "\r\n",
      "\r\n",
      "\r\n",
      "\r\n",
      "\r\n",
      "\r\n",
      "\r\n",
      "\r",
      "Clean file Pyramids/Pyramids-2048.onnx: 100%|█| 1.35M/1.35M [00:03<00:00, 399kB/\u001b[A\u001b[A\u001b[A\u001b[A\u001b[A\u001b[A\u001b[A\u001b[A\r",
      "Clean file Pyramids/Pyramids-2048.onnx: 100%|█| 1.35M/1.35M [00:03<00:00, 470kB/\r\n",
      "\r\n",
      "\r\n",
      "\r\n",
      "\r\n",
      "\r\n",
      "\r\n",
      "\r\n",
      "\r\n",
      "\r\n",
      "\r",
      "Clean file Pyramids/Pyramids-2048.pt: 100%|█| 2.86M/2.86M [00:02<00:00, 1.49MB/s\u001b[A\u001b[A\u001b[A\u001b[A\u001b[A\u001b[A\u001b[A\u001b[A\u001b[A\r\n",
      "\r\n",
      "\r\n",
      "\r\n",
      "\r\n",
      "\r\n",
      "\r\n",
      "\r\n",
      "\r\n",
      "\r",
      "Clean file Pyramids/Pyramids-2048.pt: 100%|█| 2.86M/2.86M [00:02<00:00, 1.49MB/s\u001b[A\u001b[A\u001b[A\u001b[A\u001b[A\u001b[A\u001b[A\u001b[A\u001b[A\r",
      "Clean file Pyramids/Pyramids-2048.pt: 100%|█| 2.86M/2.86M [00:02<00:00, 1.49MB/s\r\n",
      "\r\n",
      "\r\n",
      "\r\n",
      "\r\n",
      "\r\n",
      "\r\n",
      "\r\n",
      "\r\n",
      "\r\n",
      "\r\n",
      "\r",
      "Clean file Pyramids/checkpoint.pt: 100%|███| 2.86M/2.86M [00:02<00:00, 1.29MB/s]\u001b[A\u001b[A\u001b[A\u001b[A\u001b[A\u001b[A\u001b[A\u001b[A\u001b[A\u001b[A\r\n",
      "\r\n",
      "\r\n",
      "\r\n",
      "\r\n",
      "\r\n",
      "\r\n",
      "\r\n",
      "\r\n",
      "\r\n",
      "\r",
      "Clean file Pyramids/checkpoint.pt: 100%|███| 2.86M/2.86M [00:02<00:00, 1.29MB/s]\u001b[A\u001b[A\u001b[A\u001b[A\u001b[A\u001b[A\u001b[A\u001b[A\u001b[A\u001b[A\r",
      "Clean file Pyramids/checkpoint.pt: 100%|███| 2.86M/2.86M [00:02<00:00, 1.49MB/s]\r\n",
      "\r\n",
      "\r\n",
      "\r\n",
      "\r\n",
      "\r\n",
      "\r\n",
      "\r\n",
      "\r\n",
      "\r\n",
      "\r\n",
      "\r\n",
      "\r",
      "Clean file Pyramids/Pyramids-22144.pt: 100%|█| 8.25M/8.25M [00:01<00:00, 8.58MB/\u001b[A\u001b[A\u001b[A\u001b[A\u001b[A\u001b[A\u001b[A\u001b[A\u001b[A\u001b[A\u001b[A\r\n",
      "\r\n",
      "\r\n",
      "\r\n",
      "\r\n",
      "\r\n",
      "\r\n",
      "\r\n",
      "\r\n",
      "\r\n",
      "\r\n",
      "\r",
      "Clean file Pyramids/Pyramids-22144.pt: 100%|█| 8.25M/8.25M [00:01<00:00, 8.58MB/\u001b[A\u001b[A\u001b[A\u001b[A\u001b[A\u001b[A\u001b[A\u001b[A\u001b[A\u001b[A\u001b[A\r",
      "Clean file Pyramids/Pyramids-22144.pt: 100%|█| 8.25M/8.25M [00:01<00:00, 8.58MB/\r\n"
     ]
    },
    {
     "name": "stdout",
     "output_type": "stream",
     "text": [
      "\r",
      "Upload file Pyramids/Pyramids-2499948.pt:   0%|    | 32.0k/8.25M [00:00<?, ?B/s]\r\n",
      "\r",
      "Upload file Pyramids/Pyramids-2999979.pt:   0%|    | 32.0k/8.25M [00:00<?, ?B/s]\u001b[A\r\n",
      "\r\n",
      "\r",
      "Upload file Pyramids.onnx:   2%|▍                  | 32.0k/1.35M [00:00<?, ?B/s]\u001b[A\u001b[A\r\n",
      "\r\n",
      "\r\n",
      "\r",
      "Upload file Pyramids/Pyramids-3000107.pt:   0%|    | 32.0k/8.25M [00:00<?, ?B/s]\u001b[A\u001b[A\u001b[A\r\n",
      "\r\n",
      "\r\n",
      "\r\n",
      "\r",
      "Upload file Pyramids/Pyramids-1499974.pt:   0%|    | 32.0k/8.25M [00:00<?, ?B/s]\u001b[A\u001b[A\u001b[A\u001b[A\r\n",
      "\r\n",
      "\r\n",
      "\r\n",
      "\r\n",
      "\r",
      "Upload file Pyramids/Pyramids-2499948.onnx:   2%|  | 32.0k/1.35M [00:00<?, ?B/s]\u001b[A\u001b[A\u001b[A\u001b[A\u001b[A\r\n",
      "\r\n",
      "\r\n",
      "\r\n",
      "\r\n",
      "\r\n",
      "\r",
      "Upload file Pyramids/Pyramids-1999977.pt:   0%|    | 32.0k/8.25M [00:00<?, ?B/s]\u001b[A\u001b[A\u001b[A\u001b[A\u001b[A\u001b[A\r\n",
      "\r\n",
      "\r\n",
      "\r\n",
      "\r\n",
      "\r\n",
      "\r\n",
      "\r",
      "Upload file Pyramids/Pyramids-1999977.onnx:   2%|  | 32.0k/1.35M [00:00<?, ?B/s]\u001b[A\u001b[A\u001b[A\u001b[A\u001b[A\u001b[A\u001b[A\r\n",
      "\r\n",
      "\r\n",
      "\r\n",
      "\r\n",
      "\r\n",
      "\r\n",
      "\r\n",
      "\r",
      "Upload file Pyramids/Pyramids-1499974.onnx:   2%|  | 32.0k/1.35M [00:00<?, ?B/s]\u001b[A\u001b[A\u001b[A\u001b[A\u001b[A\u001b[A\u001b[A\u001b[A\r\n",
      "\r\n",
      "\r\n",
      "\r\n",
      "\r\n",
      "\r\n",
      "\r\n",
      "\r\n",
      "\r\n",
      "\r",
      "Upload file Pyramids/events.out.tfevents.1680810012.452c581d3d14.966.0:   4%| | \u001b[A\u001b[A\u001b[A\u001b[A\u001b[A\u001b[A\u001b[A\u001b[A\u001b[A"
     ]
    },
    {
     "name": "stdout",
     "output_type": "stream",
     "text": [
      "\r\n",
      "\r\n",
      "\r\n",
      "\r",
      "Upload file Pyramids/Pyramids-3000107.pt:  34%|▎| 2.81M/8.25M [00:01<00:01, 2.90\u001b[A\u001b[A\u001b[A\r\n",
      "\r\n",
      "\r\n",
      "\r\n",
      "\r\n",
      "\r\n",
      "\r\n",
      "\r\n",
      "\r\n",
      "\r",
      "Upload file Pyramids/events.out.tfevents.1680810012.452c581d3d14.966.0:  32%|▎| \u001b[A\u001b[A\u001b[A\u001b[A\u001b[A\u001b[A\u001b[A\u001b[A\u001b[A\r\n",
      "\r\n",
      "\r\n",
      "\r\n",
      "\r",
      "Upload file Pyramids/Pyramids-1499974.pt:  34%|▎| 2.84M/8.25M [00:01<00:01, 2.93\u001b[A\u001b[A\u001b[A\u001b[A\r\n",
      "\r\n",
      "\r\n",
      "\r\n",
      "\r\n",
      "\r\n",
      "\r\n",
      "\r\n",
      "\r",
      "Upload file Pyramids/Pyramids-1499974.onnx:  35%|▎| 480k/1.35M [00:01<00:02, 457\u001b[A\u001b[A\u001b[A\u001b[A\u001b[A\u001b[A\u001b[A\u001b[A\r\n",
      "\r\n",
      "\r\n",
      "\r\n",
      "\r\n",
      "\r\n",
      "\r",
      "Upload file Pyramids/Pyramids-1999977.pt:  34%|▎| 2.78M/8.25M [00:01<00:02, 2.86\u001b[A\u001b[A\u001b[A\u001b[A\u001b[A\u001b[A\r",
      "Upload file Pyramids/Pyramids-2499948.pt:  45%|▍| 3.72M/8.25M [00:01<00:01, 3.83\r\n",
      "\r",
      "Upload file Pyramids/Pyramids-2999979.pt:  33%|▎| 2.75M/8.25M [00:01<00:02, 2.82\u001b[A"
     ]
    },
    {
     "name": "stdout",
     "output_type": "stream",
     "text": [
      "\r",
      "Upload file Pyramids/Pyramids-2499948.pt:  90%|▉| 7.44M/8.25M [00:02<00:00, 3.86\r\n",
      "\r",
      "Upload file Pyramids/Pyramids-2999979.pt:  78%|▊| 6.47M/8.25M [00:02<00:00, 3.45\u001b[A\r\n",
      "\r\n",
      "\r\n",
      "\r\n",
      "\r",
      "Upload file Pyramids/Pyramids-1499974.pt:  80%|▊| 6.59M/8.25M [00:02<00:00, 3.50\u001b[A\u001b[A\u001b[A\u001b[A\r\n",
      "\r\n",
      "\r\n",
      "\r",
      "Upload file Pyramids/Pyramids-3000107.pt:  80%|▊| 6.56M/8.25M [00:02<00:00, 3.49\u001b[A\u001b[A\u001b[A\r\n",
      "\r\n",
      "\r\n",
      "\r\n",
      "\r\n",
      "\r\n",
      "\r",
      "Upload file Pyramids/Pyramids-1999977.pt:  79%|▊| 6.53M/8.25M [00:02<00:00, 3.48\u001b[A\u001b[A\u001b[A\u001b[A\u001b[A\u001b[A"
     ]
    },
    {
     "name": "stdout",
     "output_type": "stream",
     "text": [
      "To https://huggingface.co/bsenst/ppo-Pyramids\r\n",
      "   5193792..f51d242  main -> main\r\n",
      "\r\n",
      "WARNING:huggingface_hub.repository:To https://huggingface.co/bsenst/ppo-Pyramids\r\n",
      "   5193792..f51d242  main -> main\r\n",
      "\r\n"
     ]
    },
    {
     "name": "stdout",
     "output_type": "stream",
     "text": [
      "\r",
      "Upload file Pyramids/Pyramids-2499948.pt: 100%|█| 8.25M/8.25M [00:03<00:00, 2.49\r",
      "Upload file Pyramids/Pyramids-2499948.pt: 100%|█| 8.25M/8.25M [00:03<00:00, 2.49\r",
      "Upload file Pyramids/Pyramids-2499948.pt: 100%|█| 8.25M/8.25M [00:03<00:00, 2.86\r\n",
      "\r\n",
      "\r",
      "Upload file Pyramids/Pyramids-2999979.pt: 100%|█| 8.25M/8.25M [00:03<00:00, 2.72\u001b[A\r\n",
      "\r",
      "Upload file Pyramids/Pyramids-2999979.pt: 100%|█| 8.25M/8.25M [00:03<00:00, 2.72\u001b[A\r",
      "Upload file Pyramids/Pyramids-2999979.pt: 100%|█| 8.25M/8.25M [00:03<00:00, 2.86\r\n",
      "\r\n",
      "\r\n",
      "\r",
      "Upload file Pyramids.onnx: 100%|████████████| 1.35M/1.35M [00:03<00:00, 459kB/s]\u001b[A\u001b[A\r\n",
      "\r\n",
      "\r",
      "Upload file Pyramids.onnx: 100%|████████████| 1.35M/1.35M [00:03<00:00, 459kB/s]\u001b[A\u001b[A\r",
      "Upload file Pyramids.onnx: 100%|████████████| 1.35M/1.35M [00:03<00:00, 459kB/s]\r\n",
      "\r\n",
      "\r\n",
      "\r\n",
      "\r",
      "Upload file Pyramids/Pyramids-3000107.pt: 100%|█| 8.25M/8.25M [00:03<00:00, 2.70\u001b[A\u001b[A\u001b[A\r\n",
      "\r\n",
      "\r\n",
      "\r",
      "Upload file Pyramids/Pyramids-3000107.pt: 100%|█| 8.25M/8.25M [00:03<00:00, 2.70\u001b[A\u001b[A\u001b[A\r",
      "Upload file Pyramids/Pyramids-3000107.pt: 100%|█| 8.25M/8.25M [00:03<00:00, 2.86\r\n",
      "\r\n",
      "\r\n",
      "\r\n",
      "\r\n",
      "\r",
      "Upload file Pyramids/Pyramids-1499974.pt: 100%|█| 8.25M/8.25M [00:03<00:00, 2.69\u001b[A\u001b[A\u001b[A\u001b[A\r\n",
      "\r\n",
      "\r\n",
      "\r\n",
      "\r",
      "Upload file Pyramids/Pyramids-1499974.pt: 100%|█| 8.25M/8.25M [00:03<00:00, 2.69\u001b[A\u001b[A\u001b[A\u001b[A\r",
      "Upload file Pyramids/Pyramids-1499974.pt: 100%|█| 8.25M/8.25M [00:03<00:00, 2.86\r\n",
      "\r\n",
      "\r\n",
      "\r\n",
      "\r\n",
      "\r\n",
      "\r",
      "Upload file Pyramids/Pyramids-2499948.onnx: 100%|█| 1.35M/1.35M [00:03<00:00, 45\u001b[A\u001b[A\u001b[A\u001b[A\u001b[A\r\n",
      "\r\n",
      "\r\n",
      "\r\n",
      "\r\n",
      "\r",
      "Upload file Pyramids/Pyramids-2499948.onnx: 100%|█| 1.35M/1.35M [00:03<00:00, 45\u001b[A\u001b[A\u001b[A\u001b[A\u001b[A\r",
      "Upload file Pyramids/Pyramids-2499948.onnx: 100%|█| 1.35M/1.35M [00:03<00:00, 45\r\n",
      "\r\n",
      "\r\n",
      "\r\n",
      "\r\n",
      "\r\n",
      "\r\n",
      "\r",
      "Upload file Pyramids/Pyramids-1999977.pt: 100%|█| 8.25M/8.25M [00:03<00:00, 2.71\u001b[A\u001b[A\u001b[A\u001b[A\u001b[A\u001b[A\r\n",
      "\r\n",
      "\r\n",
      "\r\n",
      "\r\n",
      "\r\n",
      "\r",
      "Upload file Pyramids/Pyramids-1999977.pt: 100%|█| 8.25M/8.25M [00:03<00:00, 2.71\u001b[A\u001b[A\u001b[A\u001b[A\u001b[A\u001b[A\r",
      "Upload file Pyramids/Pyramids-1999977.pt: 100%|█| 8.25M/8.25M [00:03<00:00, 2.86\r\n",
      "\r\n",
      "\r\n",
      "\r\n",
      "\r\n",
      "\r\n",
      "\r\n",
      "\r\n",
      "\r",
      "Upload file Pyramids/Pyramids-1999977.onnx: 100%|█| 1.35M/1.35M [00:03<00:00, 45\u001b[A\u001b[A\u001b[A\u001b[A\u001b[A\u001b[A\u001b[A\r\n",
      "\r\n",
      "\r\n",
      "\r\n",
      "\r\n",
      "\r\n",
      "\r\n",
      "\r",
      "Upload file Pyramids/Pyramids-1999977.onnx: 100%|█| 1.35M/1.35M [00:03<00:00, 45\u001b[A\u001b[A\u001b[A\u001b[A\u001b[A\u001b[A\u001b[A\r",
      "Upload file Pyramids/Pyramids-1999977.onnx: 100%|█| 1.35M/1.35M [00:03<00:00, 45\r\n",
      "\r\n",
      "\r\n",
      "\r\n",
      "\r\n",
      "\r\n",
      "\r\n",
      "\r\n",
      "\r\n",
      "\r",
      "Upload file Pyramids/Pyramids-1499974.onnx: 100%|█| 1.35M/1.35M [00:03<00:00, 46\u001b[A\u001b[A\u001b[A\u001b[A\u001b[A\u001b[A\u001b[A\u001b[A\r\n",
      "\r\n",
      "\r\n",
      "\r\n",
      "\r\n",
      "\r\n",
      "\r\n",
      "\r\n",
      "\r",
      "Upload file Pyramids/Pyramids-1499974.onnx: 100%|█| 1.35M/1.35M [00:03<00:00, 46\u001b[A\u001b[A\u001b[A\u001b[A\u001b[A\u001b[A\u001b[A\u001b[A\r",
      "Upload file Pyramids/Pyramids-1499974.onnx: 100%|█| 1.35M/1.35M [00:03<00:00, 45\r\n",
      "\r\n",
      "\r\n",
      "\r\n",
      "\r\n",
      "\r\n",
      "\r\n",
      "\r\n",
      "\r\n",
      "\r\n",
      "\r",
      "Upload file Pyramids/events.out.tfevents.1680810012.452c581d3d14.966.0: 100%|█| \u001b[A\u001b[A\u001b[A\u001b[A\u001b[A\u001b[A\u001b[A\u001b[A\u001b[A\r\n",
      "\r\n",
      "\r\n",
      "\r\n",
      "\r\n",
      "\r\n",
      "\r\n",
      "\r\n",
      "\r\n",
      "\r",
      "Upload file Pyramids/events.out.tfevents.1680810012.452c581d3d14.966.0: 100%|█| \u001b[A\u001b[A\u001b[A\u001b[A\u001b[A\u001b[A\u001b[A\u001b[A\u001b[A\r",
      "Upload file Pyramids/events.out.tfevents.1680810012.452c581d3d14.966.0: 100%|█| \r\n",
      "\r\n",
      " Your model is pushed to the hub. You can view your model here: https://huggingface.co/bsenst/ppo-Pyramids\r\n"
     ]
    }
   ],
   "source": [
    "! python ml-agents/mlagents/utils/push_to_hf.py --run-id=\"Pyramids\" --local-dir=\"./results/Pyramids Training\" --repo-id=\"bsenst/ppo-Pyramids\" --commit-message=\"add ppo pyramids agent\""
   ]
  }
 ],
 "metadata": {
  "kernelspec": {
   "display_name": "Python 3",
   "language": "python",
   "name": "python3"
  },
  "language_info": {
   "codemirror_mode": {
    "name": "ipython",
    "version": 3
   },
   "file_extension": ".py",
   "mimetype": "text/x-python",
   "name": "python",
   "nbconvert_exporter": "python",
   "pygments_lexer": "ipython3",
   "version": "3.7.12"
  },
  "papermill": {
   "default_parameters": {},
   "duration": 7354.475161,
   "end_time": "2023-04-06T21:36:53.171751",
   "environment_variables": {},
   "exception": null,
   "input_path": "__notebook__.ipynb",
   "output_path": "__notebook__.ipynb",
   "parameters": {},
   "start_time": "2023-04-06T19:34:18.696590",
   "version": "2.4.0"
  }
 },
 "nbformat": 4,
 "nbformat_minor": 5
}